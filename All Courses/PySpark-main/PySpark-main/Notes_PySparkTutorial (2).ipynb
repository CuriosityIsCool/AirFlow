{
  "cells": [
    {
      "cell_type": "markdown",
      "metadata": {
        "id": "lSwvU4_uzQWd"
      },
      "source": [
        "# Resources"
      ]
    },
    {
      "cell_type": "markdown",
      "metadata": {
        "id": "3II3JNhGN7W3"
      },
      "source": [
        "## Ketan Link\n",
        "PySpark :- https://www.tutorialspoint.com/pyspark/index.htm "
      ]
    },
    {
      "cell_type": "markdown",
      "metadata": {
        "id": "IcSmBZ_gvmpW"
      },
      "source": [
        "## Found Some Good Respurces\n",
        "2. PySpark - Since you are already comfortable with Python, you can start with the following PySpark resources:\n",
        "- PySpark Tutorial from PySpark.org: https://spark.apache.org/docs/latest/api/python/getting_started/index.html\n",
        "- PySpark Tutorial from DataCamp: https://www.datacamp.com/community/tutorials/apache-spark-python\n",
        "- PySpark Tutorial from Analytics Vidhya: https://www.analyticsvidhya.com/blog/2016/09/comprehensive-introduction-to-apache-spark-rdds-dataframes-using-pyspark/"
      ]
    },
    {
      "cell_type": "markdown",
      "metadata": {
        "id": "vU8ITVKjvEsR"
      },
      "source": [
        "## My References:\n",
        "PySpark -\n",
        "* https://www.youtube.com/watch?v=cZS5xYYIPzk\n",
        "* https://www.youtube.com/watch?v=_C8kWso4ne4\n"
      ]
    },
    {
      "cell_type": "markdown",
      "metadata": {
        "id": "dB8meTR3wQQ5"
      },
      "source": [
        "* `Spark` allows Parallel Computation:\n",
        "PySpark just devides a big task into subtasks and run it into different machines. (good for working with large data)\n",
        "\n",
        "* `PySpark` is Python API for `SPARK`"
      ]
    },
    {
      "cell_type": "markdown",
      "metadata": {
        "id": "I0hdsAkszIyN"
      },
      "source": [
        "# Tutorials Point\n",
        " https://www.tutorialspoint.com/pyspark/index.htm"
      ]
    },
    {
      "cell_type": "code",
      "source": [
        "!pip install pyspark"
      ],
      "metadata": {
        "colab": {
          "base_uri": "https://localhost:8080/"
        },
        "id": "7qvkDQGIG7IV",
        "outputId": "b127d521-c7aa-42fa-8f07-0f07e6e4f8d9"
      },
      "execution_count": 13,
      "outputs": [
        {
          "output_type": "stream",
          "name": "stdout",
          "text": [
            "Looking in indexes: https://pypi.org/simple, https://us-python.pkg.dev/colab-wheels/public/simple/\n",
            "Requirement already satisfied: pyspark in /usr/local/lib/python3.9/dist-packages (3.4.0)\n",
            "Requirement already satisfied: py4j==0.10.9.7 in /usr/local/lib/python3.9/dist-packages (from pyspark) (0.10.9.7)\n"
          ]
        }
      ]
    },
    {
      "cell_type": "markdown",
      "metadata": {
        "id": "yp42RnLz0s0C"
      },
      "source": [
        "## PySpark - RDD\n",
        "\n",
        "RDD stands for Resilient Distributed Dataset, these are the elements that run and operate on multiple nodes to do parallel processing on a cluster. RDDs are immutable elements, which means once you create an RDD you cannot change it. RDDs are fault tolerant as well, hence in case of any failure, they recover automatically. You can apply multiple operations on these RDDs to achieve a certain task."
      ]
    },
    {
      "cell_type": "markdown",
      "source": [
        "#### Pyspark RDD Class\n",
        "(I dont know the use of this!)\n",
        "\n",
        "\n",
        "```\n",
        "class pyspark.RDD (\n",
        "   jrdd, \n",
        "   ctx, \n",
        "   jrdd_deserializer = AutoBatchedSerializer(PickleSerializer())\n",
        ")\n",
        "```\n",
        "\n"
      ],
      "metadata": {
        "id": "WQHoES1jIKXb"
      }
    },
    {
      "cell_type": "markdown",
      "source": [
        "#### Parallelize"
      ],
      "metadata": {
        "id": "NtCddZjJGsmb"
      }
    },
    {
      "cell_type": "code",
      "source": [
        "from pyspark import SparkContext\n",
        "\n",
        "# Create a new SparkContext\n",
        "sc = SparkContext(\"local\", \"RDD Example\")\n",
        "\n",
        "# Create an RDD using parallelize() method\n",
        "rdd = sc.parallelize([1, 2, 3, 4, 5])\n",
        "\n",
        "# Print the RDD\n",
        "print(rdd.collect())\n"
      ],
      "metadata": {
        "colab": {
          "base_uri": "https://localhost:8080/"
        },
        "id": "iwyqr7z6Gq31",
        "outputId": "d4ce4932-d2e0-4012-ee70-d546119af61a"
      },
      "execution_count": 1,
      "outputs": [
        {
          "output_type": "stream",
          "name": "stdout",
          "text": [
            "[1, 2, 3, 4, 5]\n"
          ]
        }
      ]
    },
    {
      "cell_type": "markdown",
      "source": [
        "#### count(): \n",
        "This method returns the number of elements in the RDD."
      ],
      "metadata": {
        "id": "qENDDrwoG1vK"
      }
    },
    {
      "cell_type": "code",
      "source": [
        "print(rdd.count())"
      ],
      "metadata": {
        "colab": {
          "base_uri": "https://localhost:8080/"
        },
        "id": "kaXzwG7YHF1D",
        "outputId": "ffcd38b7-7ffe-4100-a676-0e65620fbca8"
      },
      "execution_count": 21,
      "outputs": [
        {
          "output_type": "stream",
          "name": "stdout",
          "text": [
            "5\n"
          ]
        }
      ]
    },
    {
      "cell_type": "markdown",
      "source": [
        "#### collect(): \n",
        "This method retrieves all the elements of the RDD and returns them as a list."
      ],
      "metadata": {
        "id": "O1f1vCSHHSLe"
      }
    },
    {
      "cell_type": "code",
      "source": [
        "# Collect all the elements of the RDD\n",
        "elements = rdd.collect()\n",
        "\n",
        "# Print the elements\n",
        "print(elements)"
      ],
      "metadata": {
        "colab": {
          "base_uri": "https://localhost:8080/"
        },
        "id": "taMXwJS7HbAU",
        "outputId": "fa5242a1-8830-4c4c-f488-f7106de2b4d8"
      },
      "execution_count": 22,
      "outputs": [
        {
          "output_type": "stream",
          "name": "stdout",
          "text": [
            "[1, 2, 3, 4, 5]\n"
          ]
        }
      ]
    },
    {
      "cell_type": "markdown",
      "source": [
        "#### foreach(f): \n",
        "It applies a function to each element in the RDD. \n",
        "\n",
        "In the following example, we print square of all the elements in the RDD."
      ],
      "metadata": {
        "id": "m0Fd5MbwIdK_"
      }
    },
    {
      "cell_type": "code",
      "source": [
        "def f(x):\n",
        "  print(x**2)\n",
        "print(rdd.foreach(f))"
      ],
      "metadata": {
        "colab": {
          "base_uri": "https://localhost:8080/"
        },
        "id": "dudG7gypIlbK",
        "outputId": "6ef9f061-f49f-4684-ac5d-66610b06c1a6"
      },
      "execution_count": 24,
      "outputs": [
        {
          "output_type": "stream",
          "name": "stdout",
          "text": [
            "None\n"
          ]
        }
      ]
    },
    {
      "cell_type": "code",
      "source": [
        "def f(x):\n",
        "    print(x**2)\n",
        "\n",
        "rdd.foreach(f)"
      ],
      "metadata": {
        "id": "pzJDsurhKnpc"
      },
      "execution_count": 26,
      "outputs": []
    },
    {
      "cell_type": "markdown",
      "source": [
        "#### Doubt:\n",
        "Why is it not printing squares of each element ????"
      ],
      "metadata": {
        "id": "K0ORr9X5LCBp"
      }
    },
    {
      "cell_type": "markdown",
      "source": [
        "#### filter(f): \n",
        "It returns a new RDD containing the elements that satisfy the function inside the filter. In the following example, we filter out the strings containing \"spark\"."
      ],
      "metadata": {
        "id": "L0ARXy69LXVg"
      }
    },
    {
      "cell_type": "code",
      "source": [
        "rdd_filtered = rdd.filter(lambda x: x>3)\n",
        "print(rdd_filtered.collect())"
      ],
      "metadata": {
        "colab": {
          "base_uri": "https://localhost:8080/"
        },
        "id": "6ndGcepELv6_",
        "outputId": "d577721b-0ca5-4058-cab4-a6ef0c963b04"
      },
      "execution_count": 2,
      "outputs": [
        {
          "output_type": "stream",
          "name": "stdout",
          "text": [
            "[4, 5]\n"
          ]
        }
      ]
    },
    {
      "cell_type": "markdown",
      "source": [
        "#### map()\n",
        "map() is a PySpark operation that applies a function to each element of an RDD and returns a new RDD consisting of the results."
      ],
      "metadata": {
        "id": "qOM5UJDrMVzX"
      }
    },
    {
      "cell_type": "code",
      "source": [
        "rdd_mapped = rdd.map(lambda word: (word, 1))\n",
        "print(rdd_mapped.collect())"
      ],
      "metadata": {
        "colab": {
          "base_uri": "https://localhost:8080/"
        },
        "id": "AkRJ1QT2LBlg",
        "outputId": "7c444f8f-a6c6-4631-d8fa-7edb4b5ef5aa"
      },
      "execution_count": 3,
      "outputs": [
        {
          "output_type": "stream",
          "name": "stdout",
          "text": [
            "[(1, 1), (2, 1), (3, 1), (4, 1), (5, 1)]\n"
          ]
        }
      ]
    },
    {
      "cell_type": "markdown",
      "source": [
        "#### reduce()\n",
        "The reduce() function is used to apply a function to all elements of an RDD and return a single result. It takes a function as an argument that accepts two parameters, and applies the function to each element of the RDD sequentially, accumulating the result. "
      ],
      "metadata": {
        "id": "CruI7PY8NBiD"
      }
    },
    {
      "cell_type": "code",
      "source": [
        "from operator import add\n",
        "sum = rdd.reduce(add)\n",
        "print(sum) # Output: 15"
      ],
      "metadata": {
        "colab": {
          "base_uri": "https://localhost:8080/"
        },
        "id": "7wnPi3W7NGRv",
        "outputId": "f9823b60-2861-428a-bf49-cf7d4c270b86"
      },
      "execution_count": 4,
      "outputs": [
        {
          "output_type": "stream",
          "name": "stdout",
          "text": [
            "15\n"
          ]
        }
      ]
    },
    {
      "cell_type": "markdown",
      "source": [
        "#### join()\n",
        "The join() function is used to join two RDDs based on a common key. It returns a new RDD that contains all the key-value pairs from both RDDs where the key matches. The join operation is performed using an inner join, which means that only the key-value pairs that match in both RDDs are returned."
      ],
      "metadata": {
        "id": "aBYwzto7NFtK"
      }
    },
    {
      "cell_type": "code",
      "source": [
        "rdd1 = sc.parallelize([(1, 'A'), (2, 'B'), (3, 'C')])\n",
        "rdd2 = sc.parallelize([(1, 'X'), (2, 'Y'), (4, 'Z')])\n",
        "joined_rdd = rdd1.join(rdd2)\n",
        "print(joined_rdd.collect()) # Output: [(1, ('A', 'X')), (2, ('B', 'Y'))]"
      ],
      "metadata": {
        "colab": {
          "base_uri": "https://localhost:8080/"
        },
        "id": "obLg6mjWNeaH",
        "outputId": "a865043e-1fb0-4b82-dc7b-3d5014553291"
      },
      "execution_count": 5,
      "outputs": [
        {
          "output_type": "stream",
          "name": "stdout",
          "text": [
            "[(2, ('B', 'Y')), (1, ('A', 'X'))]\n"
          ]
        }
      ]
    },
    {
      "cell_type": "markdown",
      "source": [
        "#### cache(): \n",
        "The cache() function is used to cache an RDD in memory for faster access. Caching an RDD can improve performance if the RDD is used repeatedly in computations, as it avoids the overhead of re-computing the RDD every time it is used. The cache() function is lazy and does not actually cache the RDD until it is used in a computation."
      ],
      "metadata": {
        "id": "iSL5axYxNdfk"
      }
    },
    {
      "cell_type": "code",
      "source": [
        "rdd = sc.parallelize([1, 2, 3, 4, 5])\n",
        "rdd.cache()\n",
        "squared_rdd = rdd.map(lambda x: x*x)\n",
        "print(squared_rdd.collect()) # Output: [1, 4, 9, 16, 25]"
      ],
      "metadata": {
        "colab": {
          "base_uri": "https://localhost:8080/"
        },
        "id": "PobobUnwNw6E",
        "outputId": "4bde93af-214c-4e43-cf4e-e41846f9616e"
      },
      "execution_count": 6,
      "outputs": [
        {
          "output_type": "stream",
          "name": "stdout",
          "text": [
            "[1, 4, 9, 16, 25]\n"
          ]
        }
      ]
    },
    {
      "cell_type": "markdown",
      "source": [
        "## PySpark - Broadcast & Accumulator"
      ],
      "metadata": {
        "id": "fJDx5U1cPBwo"
      }
    },
    {
      "cell_type": "markdown",
      "source": [
        "Apache Spark uses shared variables for parallel processing, which are copied on each node of the cluster to perform tasks. Two types of shared variables in Spark are Broadcast and Accumulator. \n",
        "\n",
        "Broadcast variables save a copy of data across all nodes, are cached on all machines, and not sent on machines with tasks. They are created using the Broadcast class, and the data is accessed using the 'value' attribute. For example, broadcasting a list of words in a PySpark application.\n",
        "\n",
        "Accumulator variables aggregate information through associative and commutative operations, like summing up values or counting occurrences. They are created using the Accumulator class, and their value is accessed using the 'value' attribute. Accumulators can be used by multiple workers and are only usable in driver programs. For example, summing up values in a PySpark application."
      ],
      "metadata": {
        "id": "ucv44gt6PLYE"
      }
    },
    {
      "cell_type": "markdown",
      "source": [
        "#### Broadcast\n"
      ],
      "metadata": {
        "id": "Fc9Z3eGKPF4m"
      }
    },
    {
      "cell_type": "markdown",
      "source": [
        "Note BYME: Restart runtime here, (changing `SparkContext`)"
      ],
      "metadata": {
        "id": "T23hp99FPjHh"
      }
    },
    {
      "cell_type": "code",
      "source": [
        "!pip install pyspark"
      ],
      "metadata": {
        "id": "1i9n13T7P0PN"
      },
      "execution_count": null,
      "outputs": []
    },
    {
      "cell_type": "markdown",
      "source": [
        "##### Printing the words in the broadcasted list"
      ],
      "metadata": {
        "id": "7dR8zIPiQLAO"
      }
    },
    {
      "cell_type": "code",
      "source": [
        "from pyspark import SparkContext\n",
        "\n",
        "sc = SparkContext(\"local\", \"Broadcast example\")\n",
        "\n",
        "# Create a list of words\n",
        "words_list = [\"scala\", \"java\", \"hadoop\", \"spark\", \"akka\"]\n",
        "\n",
        "# Broadcast the list of words to all worker nodes\n",
        "words_broadcast = sc.broadcast(words_list)\n",
        "\n",
        "# Define a function to check if a word is in the broadcasted list\n",
        "def check_word(word):\n",
        "    return word in words_broadcast.value\n",
        "\n",
        "# Create an RDD of words\n",
        "words_rdd = sc.parallelize([\"scala\", \"python\", \"hadoop\", \"ruby\", \"spark\"])\n",
        "\n",
        "# Filter the RDD to keep only the words in the broadcasted list\n",
        "filtered_rdd = words_rdd.filter(check_word)\n",
        "\n",
        "# Print the filtered RDD\n",
        "print(filtered_rdd.collect())"
      ],
      "metadata": {
        "colab": {
          "base_uri": "https://localhost:8080/"
        },
        "id": "bEKQY1r0PeA7",
        "outputId": "1a352daf-0a6a-4618-a1d0-5be216d8c094"
      },
      "execution_count": 1,
      "outputs": [
        {
          "output_type": "stream",
          "name": "stdout",
          "text": [
            "['scala', 'hadoop', 'spark']\n"
          ]
        }
      ]
    },
    {
      "cell_type": "markdown",
      "source": [
        "Observation: Prints common values in `words_rdd` and `words_list`"
      ],
      "metadata": {
        "id": "XbLZnBzvQP0P"
      }
    },
    {
      "cell_type": "markdown",
      "source": [
        "#### Accumulator\n",
        "(acts just like a variable, just syntax is different)"
      ],
      "metadata": {
        "id": "2kbkoR12RYAs"
      }
    },
    {
      "cell_type": "markdown",
      "source": [
        "Note BYME: Restart runtime here, (changing `SparkContext`)"
      ],
      "metadata": {
        "id": "nooWOobKRqCv"
      }
    },
    {
      "cell_type": "code",
      "source": [
        "!pip install pyspark"
      ],
      "metadata": {
        "colab": {
          "base_uri": "https://localhost:8080/"
        },
        "id": "FqPdP8MYRukZ",
        "outputId": "855151b1-aa96-4e4d-a47c-6c25da44b054"
      },
      "execution_count": 1,
      "outputs": [
        {
          "output_type": "stream",
          "name": "stdout",
          "text": [
            "Looking in indexes: https://pypi.org/simple, https://us-python.pkg.dev/colab-wheels/public/simple/\n",
            "Requirement already satisfied: pyspark in /usr/local/lib/python3.9/dist-packages (3.4.0)\n",
            "Requirement already satisfied: py4j==0.10.9.7 in /usr/local/lib/python3.9/dist-packages (from pyspark) (0.10.9.7)\n"
          ]
        }
      ]
    },
    {
      "cell_type": "code",
      "source": [
        "from pyspark import SparkContext\n",
        "\n",
        "sc = SparkContext(\"local\", \"Accumulator example\")\n",
        "\n",
        "# Create an accumulator initialized to zero\n",
        "total_acc = sc.accumulator(0)\n",
        "\n",
        "# Define a function to add values to the accumulator\n",
        "def add_to_total(x):\n",
        "    global total_acc\n",
        "    total_acc += x\n",
        "\n",
        "# Create an RDD of numbers\n",
        "numbers_rdd = sc.parallelize([1, 2, 3, 4, 5])\n",
        "\n",
        "# Use foreach to apply the function to each element in the RDD\n",
        "numbers_rdd.foreach(add_to_total)\n",
        "\n",
        "# Print the accumulated value\n",
        "print(total_acc.value)\n"
      ],
      "metadata": {
        "colab": {
          "base_uri": "https://localhost:8080/"
        },
        "id": "VG7IoDeWRlGb",
        "outputId": "e5ecde76-ce88-49ff-b803-b7a150ac8bd2"
      },
      "execution_count": 2,
      "outputs": [
        {
          "output_type": "stream",
          "name": "stdout",
          "text": [
            "15\n"
          ]
        }
      ]
    },
    {
      "cell_type": "markdown",
      "source": [
        "## PySpark - SparkConf\n",
        "\n",
        "In simple words, to run a Spark application on your computer or a cluster, you need to provide some settings or configurations. The SparkConf class helps you with that by providing a way to set those configurations. \n",
        "\n",
        "The SparkConf class has some setter methods that you can use to set different parameters. For example, you can set the application name or the master URL. Once you set these configurations, you can use them to create a SparkContext object, which is used to interact with the Spark cluster.\n",
        "\n",
        "In the given example, the code sets the application name as \"PySpark App\" and the master URL to \"spark://master:7077\". This code creates a SparkConf object with these settings and then uses it to create a SparkContext object."
      ],
      "metadata": {
        "id": "NrhOwqwWR59V"
      }
    },
    {
      "cell_type": "code",
      "source": [
        "# Import necessary modules\n",
        "from pyspark import SparkConf, SparkContext\n",
        "\n",
        "# Create a SparkConf object and set the application name and master URL\n",
        "conf = SparkConf().setAppName(\"My PySpark App\").setMaster(\"local[2]\")\n",
        "#  The \"local[2]\" means we are running the application in local mode with 2 worker threads.\n",
        "\n",
        "\n",
        "# Create a SparkContext object with the above configuration\n",
        "sc = SparkContext(conf=conf)\n",
        "# we use the SparkConf object to create a SparkContext object. This SparkContext object is used to interact with the Spark cluster and run our PySpark application code.\n",
        "\n",
        "\n",
        "# Your PySpark application code goes here\n",
        "# ...\n",
        "\n",
        "# Stop the SparkContext to release resources\n",
        "sc.stop()\n",
        "# Finally, we stop the SparkContext to release the resources used by the application. Note that the SparkConf object is immutable and cannot be modified once it's passed to the SparkContext object.\n",
        "\n"
      ],
      "metadata": {
        "id": "Uwkrafb9SmR_"
      },
      "execution_count": null,
      "outputs": []
    },
    {
      "cell_type": "markdown",
      "source": [
        "## PySpark - SparkFiles"
      ],
      "metadata": {
        "id": "2MWZPlOAR9I3"
      }
    },
    {
      "cell_type": "code",
      "source": [
        "# BYME: download csv from GitHub raw url link\n",
        "import requests\n",
        "def make_file(file_name, url):\n",
        "  with open(file_name, \"wb\") as f:\n",
        "    f.write(requests.get(url).content)\n",
        "\n",
        "titanic_csv_url = \"https://raw.githubusercontent.com/datasciencedojo/datasets/master/titanic.csv\"\n",
        "make_file(\"titanic.csv\", titanic_csv_url)"
      ],
      "metadata": {
        "id": "uSGeWgrQU1Cu"
      },
      "execution_count": 5,
      "outputs": []
    },
    {
      "cell_type": "code",
      "source": [
        "# Suppose you have a file called finddistance.R on your local machine at /titanic.csv and you want to add this file to SparkContext.\n",
        "sc.addFile(\"titanic.csv\")\n",
        "\n",
        "# Now, you can get the path of the file on the worker node using SparkFiles.get(). For example, the following code will return the path of the finddistance.R file on the worker node:\n",
        "from pyspark import SparkFiles\n",
        "path = SparkFiles.get(\"titanic.csv\")"
      ],
      "metadata": {
        "id": "oRKk6xAFUNnS"
      },
      "execution_count": 6,
      "outputs": []
    },
    {
      "cell_type": "markdown",
      "source": [
        "## PySpark - StorageLevel\n",
        "refer this link https://www.tutorialspoint.com/pyspark/pyspark_storagelevel.htm"
      ],
      "metadata": {
        "id": "AKUY21VMVKTt"
      }
    },
    {
      "cell_type": "markdown",
      "source": [
        "## PySpark - MLlib\n",
        "Apache Spark offers a Machine Learning API called MLlib. PySpark has this machine learning API in Python as well. It supports different kind of algorithms, which are mentioned below −\n",
        "\n",
        "* mllib.classification − The spark.mllib package supports various methods for binary classification, multiclass classification and regression analysis. Some of the most popular algorithms in classification are Random Forest, Naive Bayes, Decision Tree, etc.\n",
        "\n",
        "* mllib.clustering − Clustering is an unsupervised learning problem, whereby you aim to group subsets of entities with one another based on some notion of similarity.\n",
        "\n",
        "* mllib.fpm − Frequent pattern matching is mining frequent items, itemsets, subsequences or other substructures that are usually among the first steps to analyze a large-scale dataset. This has been an active research topic in data mining for years.\n",
        "\n",
        "* mllib.linalg − MLlib utilities for linear algebra.\n",
        "\n",
        "* mllib.recommendation − Collaborative filtering is commonly used for recommender systems. These techniques aim to fill in the missing entries of a user item association matrix.\n",
        "\n",
        "* spark.mllib − It ¬currently supports model-based collaborative filtering, in which users and products are described by a small set of latent factors that can be used to predict missing entries. spark.mllib uses the Alternating Least Squares (ALS) algorithm to learn these latent factors.\n",
        "\n",
        "* mllib.regression − Linear regression belongs to the family of regression algorithms. The goal of regression is to find relationships and dependencies between variables. The interface for working with linear regression models and model summaries is similar to the logistic regression case.\n",
        "\n"
      ],
      "metadata": {
        "id": "cRxG6kr9V5wp"
      }
    },
    {
      "cell_type": "markdown",
      "source": [
        "## PySpark - Serializers\n",
        "\n",
        "Serialization is a way of converting data into a format that can be easily transferred over the network, stored on disk or in memory. It is important for improving performance in Apache Spark.\n",
        "\n",
        "PySpark supports two serializers for performance tuning: MarshalSerializer and PickleSerializer. MarshalSerializer is faster but supports fewer data types while PickleSerializer is slower but supports almost any Python object.\n",
        "\n",
        "In the example given, the data is serialized using MarshalSerializer in a PySpark script. The script creates a SparkContext object, which is the entry point of any Spark functionality, and then parallelizes a list of integers, doubles each integer using a lambda function, and returns the first 10 elements of the resulting RDD (Resilient Distributed Dataset). When the script is executed using the \"spark-submit\" command, it prints the output of the first 10 elements of the RDD.\n",
        "\n",
        "Overall, serialization is an important concept in distributed computing and PySpark provides options for users to choose the right serializer based on their requirements."
      ],
      "metadata": {
        "id": "dWsC_YRVWEqW"
      }
    },
    {
      "cell_type": "code",
      "source": [
        "# Note BYME: Restart runtime here, (changing `SparkContext`)\n",
        "!pip install pyspark"
      ],
      "metadata": {
        "colab": {
          "base_uri": "https://localhost:8080/"
        },
        "id": "M-N1U4x4XJCc",
        "outputId": "9bf1ce39-523a-43e9-ac75-103391664175"
      },
      "execution_count": 1,
      "outputs": [
        {
          "output_type": "stream",
          "name": "stdout",
          "text": [
            "Looking in indexes: https://pypi.org/simple, https://us-python.pkg.dev/colab-wheels/public/simple/\n",
            "Requirement already satisfied: pyspark in /usr/local/lib/python3.9/dist-packages (3.4.0)\n",
            "Requirement already satisfied: py4j==0.10.9.7 in /usr/local/lib/python3.9/dist-packages (from pyspark) (0.10.9.7)\n"
          ]
        }
      ]
    },
    {
      "cell_type": "code",
      "source": [
        "from pyspark.context import SparkContext\n",
        "from pyspark.serializers import MarshalSerializer\n",
        "\n",
        "# create a SparkContext object\n",
        "sc = SparkContext(\"local\", \"serialization app\", serializer=MarshalSerializer())\n",
        "\n",
        "# create an RDD with a list of integers\n",
        "data = sc.parallelize([1, 2, 3, 4, 5])\n",
        "\n",
        "# double each integer using map transformation\n",
        "doubled_data = data.map(lambda x: x * 2)\n",
        "\n",
        "# collect the first 3 elements of the RDD and print them\n",
        "print(doubled_data.take(3))\n",
        "\n",
        "# stop the SparkContext\n",
        "sc.stop()\n"
      ],
      "metadata": {
        "colab": {
          "base_uri": "https://localhost:8080/"
        },
        "id": "Umdzg6ZwVwjN",
        "outputId": "ff1a7f95-35bb-4d3c-c60d-975edce4ff2f"
      },
      "execution_count": 2,
      "outputs": [
        {
          "output_type": "stream",
          "name": "stdout",
          "text": [
            "[2, 4, 6]\n"
          ]
        }
      ]
    },
    {
      "cell_type": "markdown",
      "source": [
        "# COMPLETED Tutorials Point\n",
        "But Still some things remain unclear and not still fully comfortable with `pyspark`"
      ],
      "metadata": {
        "id": "4O5e1AYQXW98"
      }
    },
    {
      "cell_type": "markdown",
      "metadata": {
        "id": "hzUyNhTGyZPe"
      },
      "source": [
        "# YouTube / The ONLY PySpark Tutorial You Will Ever Need.\n",
        "`Moran Reznik`\n",
        "`1.07K subscribers`\n",
        "\n",
        "https://www.youtube.com/watch?v=cZS5xYYIPzk&t=310s"
      ]
    },
    {
      "cell_type": "markdown",
      "metadata": {
        "id": "9TdA0cwFxmZV"
      },
      "source": [
        "## Resilient Distributed DataSet (RDD)\n",
        "In PySpark, Resilient Distributed Datasets (RDDs) are the fundamental building blocks for distributed data processing. RDDs are a distributed collection of objects that can be processed in parallel across multiple nodes in a cluster.\n",
        "\n",
        "Here are some key points to keep in mind about RDDs:\n",
        "\n",
        "RDDs are immutable, which means you can't modify the data once it has been created.\n",
        "RDDs can be created from a variety of data sources, such as Hadoop Distributed File System (HDFS), local file systems, and external data sources like Apache Cassandra or Amazon S3.\n",
        "RDDs can be transformed using various operations like map, filter, and reduce, which are executed in a distributed manner across the nodes in the cluster.\n",
        "RDDs can be cached in memory to improve performance and reduce the amount of data that needs to be read from disk.\n",
        "Overall, RDDs provide a powerful and flexible way to process large-scale data sets in a distributed environment using PySpark."
      ]
    },
    {
      "cell_type": "markdown",
      "metadata": {
        "id": "sPaALZIizoEd"
      },
      "source": [
        "## Parts of PySpark\n",
        "1. Spark SQL + DataFrames\n",
        "2. Streaming\n",
        "3. ML lib\n",
        "4. GraphX"
      ]
    },
    {
      "cell_type": "markdown",
      "metadata": {
        "id": "7YP6M19e1CYV"
      },
      "source": [
        "## Spark Architecture\n",
        "Spark architecture in PySpark consists of the following components:\n",
        "\n",
        "1. Driver Program: This is the main entry point for any Spark application. It runs the user code and creates a SparkContext that is used to coordinate tasks across the cluster.\n",
        "\n",
        "2. Cluster Manager: This component manages the allocation of resources (CPU, memory, etc.) on the cluster for Spark tasks. Examples of cluster managers include Apache Mesos, Hadoop YARN, and Spark's built-in standalone cluster manager.\n",
        "\n",
        "3. Executors: These are worker nodes that run tasks in parallel on the cluster. Executors are managed by the cluster manager and are responsible for running the actual computation on the data.\n",
        "\n",
        "4. RDDs: Resilient Distributed Datasets (RDDs) are the primary data abstraction in PySpark. RDDs are distributed collections of data that can be processed in parallel across multiple nodes in the cluster.\n",
        "\n",
        "5. DAG Scheduler: This component schedules the tasks that need to be executed to compute the final output of a Spark application. It constructs a Directed Acyclic Graph (DAG) of stages based on the transformations applied to the RDDs.\n",
        "\n",
        "6. Task Scheduler: This component manages the scheduling and execution of individual tasks on the executors. It ensures that tasks are executed in the correct order and that data dependencies between tasks are satisfied.\n",
        "\n",
        "7. Cache Manager: This component manages the caching of RDDs in memory to improve performance.\n",
        "\n",
        "Overall, the Spark architecture in PySpark is designed to handle large-scale data processing by distributing the computation across a cluster of machines. It provides a flexible and efficient platform for building data processing applications that can scale to handle terabytes or even petabytes of data."
      ]
    },
    {
      "cell_type": "markdown",
      "metadata": {
        "id": "NnzEwZEw1NEH"
      },
      "source": [
        "![image.png](data:image/png;base64,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)"
      ]
    },
    {
      "cell_type": "markdown",
      "metadata": {
        "id": "aU1NCNMs1Saa"
      },
      "source": [
        "![image.png](data:image/png;base64,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)"
      ]
    },
    {
      "cell_type": "code",
      "execution_count": null,
      "metadata": {
        "colab": {
          "base_uri": "https://localhost:8080/"
        },
        "id": "oKQmxyQS2EZ0",
        "outputId": "6b5868a1-d2b7-4641-b227-9ea03c07f72b"
      },
      "outputs": [
        {
          "name": "stdout",
          "output_type": "stream",
          "text": [
            "Looking in indexes: https://pypi.org/simple, https://us-python.pkg.dev/colab-wheels/public/simple/\n",
            "Collecting pyspark\n",
            "  Downloading pyspark-3.4.0.tar.gz (310.8 MB)\n",
            "\u001b[2K     \u001b[90m━━━━━━━━━━━━━━━━━━━━━━━━━━━━━━━━━━━━━━━\u001b[0m \u001b[32m310.8/310.8 MB\u001b[0m \u001b[31m3.5 MB/s\u001b[0m eta \u001b[36m0:00:00\u001b[0m\n",
            "\u001b[?25h  Preparing metadata (setup.py) ... \u001b[?25l\u001b[?25hdone\n",
            "Requirement already satisfied: py4j==0.10.9.7 in /usr/local/lib/python3.9/dist-packages (from pyspark) (0.10.9.7)\n",
            "Building wheels for collected packages: pyspark\n",
            "  Building wheel for pyspark (setup.py) ... \u001b[?25l\u001b[?25hdone\n",
            "  Created wheel for pyspark: filename=pyspark-3.4.0-py2.py3-none-any.whl size=311317145 sha256=2fe2abde0bb17f81aee2837533b96ef80915b282d66fe0e8635df506a852e3ad\n",
            "  Stored in directory: /root/.cache/pip/wheels/9f/34/a4/159aa12d0a510d5ff7c8f0220abbea42e5d81ecf588c4fd884\n",
            "Successfully built pyspark\n",
            "Installing collected packages: pyspark\n",
            "Successfully installed pyspark-3.4.0\n"
          ]
        }
      ],
      "source": [
        "!pip install pyspark"
      ]
    },
    {
      "cell_type": "code",
      "execution_count": null,
      "metadata": {
        "id": "E0LiBncrNwxM"
      },
      "outputs": [],
      "source": [
        "# Initiating a Spark Session\n",
        "from pyspark.sql import SparkSession\n",
        "sparkObj = SparkSession.builder.appName(\"testSession\").getOrCreate()"
      ]
    },
    {
      "cell_type": "code",
      "execution_count": null,
      "metadata": {
        "colab": {
          "base_uri": "https://localhost:8080/",
          "height": 224
        },
        "id": "mGlPY0FW2lPv",
        "outputId": "34a57b97-93e7-48d6-afad-a9200aeb6ef3"
      },
      "outputs": [
        {
          "data": {
            "text/html": [
              "\n",
              "            <div>\n",
              "                <p><b>SparkSession - in-memory</b></p>\n",
              "                \n",
              "        <div>\n",
              "            <p><b>SparkContext</b></p>\n",
              "\n",
              "            <p><a href=\"http://6f45d58d8092:4040\">Spark UI</a></p>\n",
              "\n",
              "            <dl>\n",
              "              <dt>Version</dt>\n",
              "                <dd><code>v3.4.0</code></dd>\n",
              "              <dt>Master</dt>\n",
              "                <dd><code>local[*]</code></dd>\n",
              "              <dt>AppName</dt>\n",
              "                <dd><code>testSession</code></dd>\n",
              "            </dl>\n",
              "        </div>\n",
              "        \n",
              "            </div>\n",
              "        "
            ],
            "text/plain": [
              "<pyspark.sql.session.SparkSession at 0x7f5a6fe0a9d0>"
            ]
          },
          "execution_count": 3,
          "metadata": {},
          "output_type": "execute_result"
        }
      ],
      "source": [
        "# Session Details\n",
        "sparkObj"
      ]
    },
    {
      "cell_type": "markdown",
      "metadata": {
        "id": "7SBCnV7n2yvr"
      },
      "source": [
        "Observation: \n",
        "The `local[*]` denotes spark is using all (`*`) of local machine cores."
      ]
    },
    {
      "cell_type": "code",
      "execution_count": null,
      "metadata": {
        "id": "V1Hey4Cq4J0j"
      },
      "outputs": [],
      "source": [
        "# Downloading a csv file to colab\n",
        "\n",
        "cars_url = \"https://raw.githubusercontent.com/fbaptiste/python-deepdive/main/Part%202/Section%2013%20-%20Project%206/01%20-%20Project%20Description/cars.csv\"\n",
        "# download file from url link\n",
        "import requests\n",
        "def make_file(file_name, url):\n",
        "  with open(file_name, \"wb\") as f:\n",
        "    f.write(requests.get(url).content)\n",
        "\n",
        "make_file(\"cars.csv\", cars_url)"
      ]
    },
    {
      "cell_type": "code",
      "execution_count": null,
      "metadata": {
        "colab": {
          "base_uri": "https://localhost:8080/"
        },
        "id": "aY1DB8iN6svb",
        "outputId": "d5baafb1-3926-4ee1-9696-6c00a8964af2"
      },
      "outputs": [
        {
          "name": "stdout",
          "output_type": "stream",
          "text": [
            "Car;MPG;Cylinders;Displacement;Horsepower;Weight;Acceleration;Model;Origin\n",
            "Chevrolet Chevelle Malibu;18.0;8;307.0;130.0;3504.;12.0;70;US\n",
            "Buick Skylark 320;15.0;8;350.0;165.0;3693.;11.5;70;US\n",
            "Plymouth Satellite;18.0;8;318.0;150.0;3436.;11.0;70;US\n",
            "AMC Rebel SST;16.0;8;304.0;150.0;3433.;12.0;70;US\n"
          ]
        }
      ],
      "source": [
        "# Printing some lines from csv file\n",
        "import itertools\n",
        "with open(\"cars.csv\", \"r\") as f:\n",
        "  lines = f.readlines()\n",
        "  for line in itertools.islice(lines, 5):\n",
        "    print(line, end=\"\")"
      ]
    },
    {
      "cell_type": "code",
      "execution_count": null,
      "metadata": {
        "id": "nIxC0hZ73MhR"
      },
      "outputs": [],
      "source": [
        "# Loading data from csv (all data types will be string by default here)\n",
        "dataFrame_df = sparkObj.read.option(\"header\",\"true\").csv(\"cars.csv\")"
      ]
    },
    {
      "cell_type": "markdown",
      "metadata": {
        "id": "M2rHHyQM52If"
      },
      "source": [
        "Note:\n",
        "* `sparkObj.read` helps to read data\n",
        "* `option(\"header\",\"true\")` denotes that first line is header"
      ]
    },
    {
      "cell_type": "code",
      "execution_count": null,
      "metadata": {
        "id": "Jia7huqe6lxx"
      },
      "outputs": [],
      "source": [
        "# Loading data from csv (Assigning datatypes mamually)\n",
        "schema = \"Car STRING,MPG FLOAT, Cylinders INTEGER, Displacement FLOAT, Horsepower FLOAT, Weight FLOAT, Acceleration FLOAT, Model INTEGER, Origin STRING\"\n",
        "dataFrame_df_2 = sparkObj.read.csv(\"cars.csv\",schema = schema, header=True)"
      ]
    },
    {
      "cell_type": "code",
      "execution_count": null,
      "metadata": {
        "id": "83OWczAKnWIx"
      },
      "outputs": [],
      "source": [
        "# Loading data from csv (telling it  to Assign datatypes automatically)\n",
        "dataFrame_df_3 = sparkObj.read.csv(\"cars.csv\",inferSchema = True, header=True)"
      ]
    },
    {
      "cell_type": "markdown",
      "metadata": {
        "id": "zXU_7nLYpDbW"
      },
      "source": [
        "Also there are some other important commands like `.save(file)` and `.mode(\"overwrte\")`, but it need not to be written here. we can read the functioality of them over internet."
      ]
    },
    {
      "cell_type": "markdown",
      "metadata": {
        "id": "Q94HYBosqL9E"
      },
      "source": [
        "## Directed Acyclic Graph (DAG)\n",
        "`8:00`"
      ]
    },
    {
      "cell_type": "code",
      "execution_count": null,
      "metadata": {
        "id": "4OLAEubVoBXK"
      },
      "outputs": [],
      "source": []
    },
    {
      "cell_type": "markdown",
      "metadata": {
        "id": "ksUggVMlXFSx"
      },
      "source": [
        "# YouTube / PySpark Tutorial\n",
        "- freeCodeCamp.org\n",
        "\n",
        "https://www.youtube.com/watch?v=_C8kWso4ne4"
      ]
    },
    {
      "cell_type": "markdown",
      "metadata": {
        "id": "LpdUvmqyG4Wf"
      },
      "source": [
        "## Tutorial 1"
      ]
    },
    {
      "cell_type": "code",
      "execution_count": null,
      "metadata": {
        "colab": {
          "base_uri": "https://localhost:8080/"
        },
        "id": "eh49K2F-XLuq",
        "outputId": "12049465-7240-4ea7-d094-404a75bd561c"
      },
      "outputs": [
        {
          "output_type": "stream",
          "name": "stdout",
          "text": [
            "Looking in indexes: https://pypi.org/simple, https://us-python.pkg.dev/colab-wheels/public/simple/\n",
            "Requirement already satisfied: pyspark in /usr/local/lib/python3.9/dist-packages (3.4.0)\n",
            "Requirement already satisfied: py4j==0.10.9.7 in /usr/local/lib/python3.9/dist-packages (from pyspark) (0.10.9.7)\n"
          ]
        }
      ],
      "source": [
        "!pip install pyspark"
      ]
    },
    {
      "cell_type": "code",
      "execution_count": null,
      "metadata": {
        "id": "2f6tIxueXQ75"
      },
      "outputs": [],
      "source": [
        "import pyspark"
      ]
    },
    {
      "cell_type": "code",
      "execution_count": null,
      "metadata": {
        "id": "0dp1MtwyXVqC"
      },
      "outputs": [],
      "source": [
        "# BYME: download csv from GitHub raw url link\n",
        "import requests\n",
        "def make_file(file_name, url):\n",
        "  with open(file_name, \"wb\") as f:\n",
        "    f.write(requests.get(url).content)\n",
        "\n",
        "titanic_csv_url = \"https://raw.githubusercontent.com/datasciencedojo/datasets/master/titanic.csv\"\n",
        "make_file(\"titanic.csv\", titanic_csv_url)"
      ]
    },
    {
      "cell_type": "code",
      "execution_count": null,
      "metadata": {
        "colab": {
          "base_uri": "https://localhost:8080/",
          "height": 424
        },
        "id": "aFav3baqYAYp",
        "outputId": "7ac04a9b-aaa3-466c-d7ac-f267524506e4"
      },
      "outputs": [
        {
          "output_type": "execute_result",
          "data": {
            "text/plain": [
              "     PassengerId  Survived  Pclass  \\\n",
              "0              1         0       3   \n",
              "1              2         1       1   \n",
              "2              3         1       3   \n",
              "3              4         1       1   \n",
              "4              5         0       3   \n",
              "..           ...       ...     ...   \n",
              "886          887         0       2   \n",
              "887          888         1       1   \n",
              "888          889         0       3   \n",
              "889          890         1       1   \n",
              "890          891         0       3   \n",
              "\n",
              "                                                  Name     Sex   Age  SibSp  \\\n",
              "0                              Braund, Mr. Owen Harris    male  22.0      1   \n",
              "1    Cumings, Mrs. John Bradley (Florence Briggs Th...  female  38.0      1   \n",
              "2                               Heikkinen, Miss. Laina  female  26.0      0   \n",
              "3         Futrelle, Mrs. Jacques Heath (Lily May Peel)  female  35.0      1   \n",
              "4                             Allen, Mr. William Henry    male  35.0      0   \n",
              "..                                                 ...     ...   ...    ...   \n",
              "886                              Montvila, Rev. Juozas    male  27.0      0   \n",
              "887                       Graham, Miss. Margaret Edith  female  19.0      0   \n",
              "888           Johnston, Miss. Catherine Helen \"Carrie\"  female   NaN      1   \n",
              "889                              Behr, Mr. Karl Howell    male  26.0      0   \n",
              "890                                Dooley, Mr. Patrick    male  32.0      0   \n",
              "\n",
              "     Parch            Ticket     Fare Cabin Embarked  \n",
              "0        0         A/5 21171   7.2500   NaN        S  \n",
              "1        0          PC 17599  71.2833   C85        C  \n",
              "2        0  STON/O2. 3101282   7.9250   NaN        S  \n",
              "3        0            113803  53.1000  C123        S  \n",
              "4        0            373450   8.0500   NaN        S  \n",
              "..     ...               ...      ...   ...      ...  \n",
              "886      0            211536  13.0000   NaN        S  \n",
              "887      0            112053  30.0000   B42        S  \n",
              "888      2        W./C. 6607  23.4500   NaN        S  \n",
              "889      0            111369  30.0000  C148        C  \n",
              "890      0            370376   7.7500   NaN        Q  \n",
              "\n",
              "[891 rows x 12 columns]"
            ],
            "text/html": [
              "\n",
              "  <div id=\"df-ff2bd018-1e61-41a8-9fee-fd4b94ea589e\">\n",
              "    <div class=\"colab-df-container\">\n",
              "      <div>\n",
              "<style scoped>\n",
              "    .dataframe tbody tr th:only-of-type {\n",
              "        vertical-align: middle;\n",
              "    }\n",
              "\n",
              "    .dataframe tbody tr th {\n",
              "        vertical-align: top;\n",
              "    }\n",
              "\n",
              "    .dataframe thead th {\n",
              "        text-align: right;\n",
              "    }\n",
              "</style>\n",
              "<table border=\"1\" class=\"dataframe\">\n",
              "  <thead>\n",
              "    <tr style=\"text-align: right;\">\n",
              "      <th></th>\n",
              "      <th>PassengerId</th>\n",
              "      <th>Survived</th>\n",
              "      <th>Pclass</th>\n",
              "      <th>Name</th>\n",
              "      <th>Sex</th>\n",
              "      <th>Age</th>\n",
              "      <th>SibSp</th>\n",
              "      <th>Parch</th>\n",
              "      <th>Ticket</th>\n",
              "      <th>Fare</th>\n",
              "      <th>Cabin</th>\n",
              "      <th>Embarked</th>\n",
              "    </tr>\n",
              "  </thead>\n",
              "  <tbody>\n",
              "    <tr>\n",
              "      <th>0</th>\n",
              "      <td>1</td>\n",
              "      <td>0</td>\n",
              "      <td>3</td>\n",
              "      <td>Braund, Mr. Owen Harris</td>\n",
              "      <td>male</td>\n",
              "      <td>22.0</td>\n",
              "      <td>1</td>\n",
              "      <td>0</td>\n",
              "      <td>A/5 21171</td>\n",
              "      <td>7.2500</td>\n",
              "      <td>NaN</td>\n",
              "      <td>S</td>\n",
              "    </tr>\n",
              "    <tr>\n",
              "      <th>1</th>\n",
              "      <td>2</td>\n",
              "      <td>1</td>\n",
              "      <td>1</td>\n",
              "      <td>Cumings, Mrs. John Bradley (Florence Briggs Th...</td>\n",
              "      <td>female</td>\n",
              "      <td>38.0</td>\n",
              "      <td>1</td>\n",
              "      <td>0</td>\n",
              "      <td>PC 17599</td>\n",
              "      <td>71.2833</td>\n",
              "      <td>C85</td>\n",
              "      <td>C</td>\n",
              "    </tr>\n",
              "    <tr>\n",
              "      <th>2</th>\n",
              "      <td>3</td>\n",
              "      <td>1</td>\n",
              "      <td>3</td>\n",
              "      <td>Heikkinen, Miss. Laina</td>\n",
              "      <td>female</td>\n",
              "      <td>26.0</td>\n",
              "      <td>0</td>\n",
              "      <td>0</td>\n",
              "      <td>STON/O2. 3101282</td>\n",
              "      <td>7.9250</td>\n",
              "      <td>NaN</td>\n",
              "      <td>S</td>\n",
              "    </tr>\n",
              "    <tr>\n",
              "      <th>3</th>\n",
              "      <td>4</td>\n",
              "      <td>1</td>\n",
              "      <td>1</td>\n",
              "      <td>Futrelle, Mrs. Jacques Heath (Lily May Peel)</td>\n",
              "      <td>female</td>\n",
              "      <td>35.0</td>\n",
              "      <td>1</td>\n",
              "      <td>0</td>\n",
              "      <td>113803</td>\n",
              "      <td>53.1000</td>\n",
              "      <td>C123</td>\n",
              "      <td>S</td>\n",
              "    </tr>\n",
              "    <tr>\n",
              "      <th>4</th>\n",
              "      <td>5</td>\n",
              "      <td>0</td>\n",
              "      <td>3</td>\n",
              "      <td>Allen, Mr. William Henry</td>\n",
              "      <td>male</td>\n",
              "      <td>35.0</td>\n",
              "      <td>0</td>\n",
              "      <td>0</td>\n",
              "      <td>373450</td>\n",
              "      <td>8.0500</td>\n",
              "      <td>NaN</td>\n",
              "      <td>S</td>\n",
              "    </tr>\n",
              "    <tr>\n",
              "      <th>...</th>\n",
              "      <td>...</td>\n",
              "      <td>...</td>\n",
              "      <td>...</td>\n",
              "      <td>...</td>\n",
              "      <td>...</td>\n",
              "      <td>...</td>\n",
              "      <td>...</td>\n",
              "      <td>...</td>\n",
              "      <td>...</td>\n",
              "      <td>...</td>\n",
              "      <td>...</td>\n",
              "      <td>...</td>\n",
              "    </tr>\n",
              "    <tr>\n",
              "      <th>886</th>\n",
              "      <td>887</td>\n",
              "      <td>0</td>\n",
              "      <td>2</td>\n",
              "      <td>Montvila, Rev. Juozas</td>\n",
              "      <td>male</td>\n",
              "      <td>27.0</td>\n",
              "      <td>0</td>\n",
              "      <td>0</td>\n",
              "      <td>211536</td>\n",
              "      <td>13.0000</td>\n",
              "      <td>NaN</td>\n",
              "      <td>S</td>\n",
              "    </tr>\n",
              "    <tr>\n",
              "      <th>887</th>\n",
              "      <td>888</td>\n",
              "      <td>1</td>\n",
              "      <td>1</td>\n",
              "      <td>Graham, Miss. Margaret Edith</td>\n",
              "      <td>female</td>\n",
              "      <td>19.0</td>\n",
              "      <td>0</td>\n",
              "      <td>0</td>\n",
              "      <td>112053</td>\n",
              "      <td>30.0000</td>\n",
              "      <td>B42</td>\n",
              "      <td>S</td>\n",
              "    </tr>\n",
              "    <tr>\n",
              "      <th>888</th>\n",
              "      <td>889</td>\n",
              "      <td>0</td>\n",
              "      <td>3</td>\n",
              "      <td>Johnston, Miss. Catherine Helen \"Carrie\"</td>\n",
              "      <td>female</td>\n",
              "      <td>NaN</td>\n",
              "      <td>1</td>\n",
              "      <td>2</td>\n",
              "      <td>W./C. 6607</td>\n",
              "      <td>23.4500</td>\n",
              "      <td>NaN</td>\n",
              "      <td>S</td>\n",
              "    </tr>\n",
              "    <tr>\n",
              "      <th>889</th>\n",
              "      <td>890</td>\n",
              "      <td>1</td>\n",
              "      <td>1</td>\n",
              "      <td>Behr, Mr. Karl Howell</td>\n",
              "      <td>male</td>\n",
              "      <td>26.0</td>\n",
              "      <td>0</td>\n",
              "      <td>0</td>\n",
              "      <td>111369</td>\n",
              "      <td>30.0000</td>\n",
              "      <td>C148</td>\n",
              "      <td>C</td>\n",
              "    </tr>\n",
              "    <tr>\n",
              "      <th>890</th>\n",
              "      <td>891</td>\n",
              "      <td>0</td>\n",
              "      <td>3</td>\n",
              "      <td>Dooley, Mr. Patrick</td>\n",
              "      <td>male</td>\n",
              "      <td>32.0</td>\n",
              "      <td>0</td>\n",
              "      <td>0</td>\n",
              "      <td>370376</td>\n",
              "      <td>7.7500</td>\n",
              "      <td>NaN</td>\n",
              "      <td>Q</td>\n",
              "    </tr>\n",
              "  </tbody>\n",
              "</table>\n",
              "<p>891 rows × 12 columns</p>\n",
              "</div>\n",
              "      <button class=\"colab-df-convert\" onclick=\"convertToInteractive('df-ff2bd018-1e61-41a8-9fee-fd4b94ea589e')\"\n",
              "              title=\"Convert this dataframe to an interactive table.\"\n",
              "              style=\"display:none;\">\n",
              "        \n",
              "  <svg xmlns=\"http://www.w3.org/2000/svg\" height=\"24px\"viewBox=\"0 0 24 24\"\n",
              "       width=\"24px\">\n",
              "    <path d=\"M0 0h24v24H0V0z\" fill=\"none\"/>\n",
              "    <path d=\"M18.56 5.44l.94 2.06.94-2.06 2.06-.94-2.06-.94-.94-2.06-.94 2.06-2.06.94zm-11 1L8.5 8.5l.94-2.06 2.06-.94-2.06-.94L8.5 2.5l-.94 2.06-2.06.94zm10 10l.94 2.06.94-2.06 2.06-.94-2.06-.94-.94-2.06-.94 2.06-2.06.94z\"/><path d=\"M17.41 7.96l-1.37-1.37c-.4-.4-.92-.59-1.43-.59-.52 0-1.04.2-1.43.59L10.3 9.45l-7.72 7.72c-.78.78-.78 2.05 0 2.83L4 21.41c.39.39.9.59 1.41.59.51 0 1.02-.2 1.41-.59l7.78-7.78 2.81-2.81c.8-.78.8-2.07 0-2.86zM5.41 20L4 18.59l7.72-7.72 1.47 1.35L5.41 20z\"/>\n",
              "  </svg>\n",
              "      </button>\n",
              "      \n",
              "  <style>\n",
              "    .colab-df-container {\n",
              "      display:flex;\n",
              "      flex-wrap:wrap;\n",
              "      gap: 12px;\n",
              "    }\n",
              "\n",
              "    .colab-df-convert {\n",
              "      background-color: #E8F0FE;\n",
              "      border: none;\n",
              "      border-radius: 50%;\n",
              "      cursor: pointer;\n",
              "      display: none;\n",
              "      fill: #1967D2;\n",
              "      height: 32px;\n",
              "      padding: 0 0 0 0;\n",
              "      width: 32px;\n",
              "    }\n",
              "\n",
              "    .colab-df-convert:hover {\n",
              "      background-color: #E2EBFA;\n",
              "      box-shadow: 0px 1px 2px rgba(60, 64, 67, 0.3), 0px 1px 3px 1px rgba(60, 64, 67, 0.15);\n",
              "      fill: #174EA6;\n",
              "    }\n",
              "\n",
              "    [theme=dark] .colab-df-convert {\n",
              "      background-color: #3B4455;\n",
              "      fill: #D2E3FC;\n",
              "    }\n",
              "\n",
              "    [theme=dark] .colab-df-convert:hover {\n",
              "      background-color: #434B5C;\n",
              "      box-shadow: 0px 1px 3px 1px rgba(0, 0, 0, 0.15);\n",
              "      filter: drop-shadow(0px 1px 2px rgba(0, 0, 0, 0.3));\n",
              "      fill: #FFFFFF;\n",
              "    }\n",
              "  </style>\n",
              "\n",
              "      <script>\n",
              "        const buttonEl =\n",
              "          document.querySelector('#df-ff2bd018-1e61-41a8-9fee-fd4b94ea589e button.colab-df-convert');\n",
              "        buttonEl.style.display =\n",
              "          google.colab.kernel.accessAllowed ? 'block' : 'none';\n",
              "\n",
              "        async function convertToInteractive(key) {\n",
              "          const element = document.querySelector('#df-ff2bd018-1e61-41a8-9fee-fd4b94ea589e');\n",
              "          const dataTable =\n",
              "            await google.colab.kernel.invokeFunction('convertToInteractive',\n",
              "                                                     [key], {});\n",
              "          if (!dataTable) return;\n",
              "\n",
              "          const docLinkHtml = 'Like what you see? Visit the ' +\n",
              "            '<a target=\"_blank\" href=https://colab.research.google.com/notebooks/data_table.ipynb>data table notebook</a>'\n",
              "            + ' to learn more about interactive tables.';\n",
              "          element.innerHTML = '';\n",
              "          dataTable['output_type'] = 'display_data';\n",
              "          await google.colab.output.renderOutput(dataTable, element);\n",
              "          const docLink = document.createElement('div');\n",
              "          docLink.innerHTML = docLinkHtml;\n",
              "          element.appendChild(docLink);\n",
              "        }\n",
              "      </script>\n",
              "    </div>\n",
              "  </div>\n",
              "  "
            ]
          },
          "metadata": {},
          "execution_count": 72
        }
      ],
      "source": [
        "import pandas as pd\n",
        "pd.read_csv(\"titanic.csv\")"
      ]
    },
    {
      "cell_type": "markdown",
      "metadata": {
        "id": "aoCct5q-ZoL5"
      },
      "source": [
        "### Start a PySpark Session"
      ]
    },
    {
      "cell_type": "code",
      "execution_count": null,
      "metadata": {
        "id": "zSt9Wcz2ZldO"
      },
      "outputs": [],
      "source": [
        "from pyspark.sql import SparkSession"
      ]
    },
    {
      "cell_type": "code",
      "execution_count": null,
      "metadata": {
        "id": "xVf-LeKtZ1WN"
      },
      "outputs": [],
      "source": [
        "sparkSessionObj = SparkSession.builder.appName(\"appName_123\").getOrCreate()"
      ]
    },
    {
      "cell_type": "code",
      "execution_count": null,
      "metadata": {
        "colab": {
          "base_uri": "https://localhost:8080/",
          "height": 219
        },
        "id": "1MVyeVz3gEJL",
        "outputId": "012ca494-b9d8-48d9-d0e9-675785d21e48"
      },
      "outputs": [
        {
          "output_type": "execute_result",
          "data": {
            "text/plain": [
              "<pyspark.sql.session.SparkSession at 0x7fe509ca3370>"
            ],
            "text/html": [
              "\n",
              "            <div>\n",
              "                <p><b>SparkSession - in-memory</b></p>\n",
              "                \n",
              "        <div>\n",
              "            <p><b>SparkContext</b></p>\n",
              "\n",
              "            <p><a href=\"http://2affae7a2554:4040\">Spark UI</a></p>\n",
              "\n",
              "            <dl>\n",
              "              <dt>Version</dt>\n",
              "                <dd><code>v3.4.0</code></dd>\n",
              "              <dt>Master</dt>\n",
              "                <dd><code>local[*]</code></dd>\n",
              "              <dt>AppName</dt>\n",
              "                <dd><code>appTest_Practice</code></dd>\n",
              "            </dl>\n",
              "        </div>\n",
              "        \n",
              "            </div>\n",
              "        "
            ]
          },
          "metadata": {},
          "execution_count": 75
        }
      ],
      "source": [
        "sparkSessionObj"
      ]
    },
    {
      "cell_type": "markdown",
      "metadata": {
        "id": "Um2iNGspay6y"
      },
      "source": [
        "### Creating a Data Frame for PySpark"
      ]
    },
    {
      "cell_type": "code",
      "execution_count": null,
      "metadata": {
        "id": "OgpnedshaOcQ"
      },
      "outputs": [],
      "source": [
        "df_pyspark = sparkSessionObj.read.csv(\"titanic.csv\")"
      ]
    },
    {
      "cell_type": "code",
      "execution_count": null,
      "metadata": {
        "colab": {
          "base_uri": "https://localhost:8080/"
        },
        "id": "WPOaJeFLakff",
        "outputId": "151d324b-3a2c-4ab3-9f03-7697faf18098"
      },
      "outputs": [
        {
          "output_type": "stream",
          "name": "stdout",
          "text": [
            "+-----------+--------+------+--------------------+------+----+-----+-----+----------------+-------+-----+--------+\n",
            "|        _c0|     _c1|   _c2|                 _c3|   _c4| _c5|  _c6|  _c7|             _c8|    _c9| _c10|    _c11|\n",
            "+-----------+--------+------+--------------------+------+----+-----+-----+----------------+-------+-----+--------+\n",
            "|PassengerId|Survived|Pclass|                Name|   Sex| Age|SibSp|Parch|          Ticket|   Fare|Cabin|Embarked|\n",
            "|          1|       0|     3|Braund, Mr. Owen ...|  male|  22|    1|    0|       A/5 21171|   7.25| null|       S|\n",
            "|          2|       1|     1|Cumings, Mrs. Joh...|female|  38|    1|    0|        PC 17599|71.2833|  C85|       C|\n",
            "|          3|       1|     3|Heikkinen, Miss. ...|female|  26|    0|    0|STON/O2. 3101282|  7.925| null|       S|\n",
            "|          4|       1|     1|Futrelle, Mrs. Ja...|female|  35|    1|    0|          113803|   53.1| C123|       S|\n",
            "|          5|       0|     3|Allen, Mr. Willia...|  male|  35|    0|    0|          373450|   8.05| null|       S|\n",
            "|          6|       0|     3|    Moran, Mr. James|  male|null|    0|    0|          330877| 8.4583| null|       Q|\n",
            "|          7|       0|     1|McCarthy, Mr. Tim...|  male|  54|    0|    0|           17463|51.8625|  E46|       S|\n",
            "|          8|       0|     3|Palsson, Master. ...|  male|   2|    3|    1|          349909| 21.075| null|       S|\n",
            "|          9|       1|     3|Johnson, Mrs. Osc...|female|  27|    0|    2|          347742|11.1333| null|       S|\n",
            "|         10|       1|     2|Nasser, Mrs. Nich...|female|  14|    1|    0|          237736|30.0708| null|       C|\n",
            "|         11|       1|     3|Sandstrom, Miss. ...|female|   4|    1|    1|         PP 9549|   16.7|   G6|       S|\n",
            "|         12|       1|     1|Bonnell, Miss. El...|female|  58|    0|    0|          113783|  26.55| C103|       S|\n",
            "|         13|       0|     3|Saundercock, Mr. ...|  male|  20|    0|    0|       A/5. 2151|   8.05| null|       S|\n",
            "|         14|       0|     3|Andersson, Mr. An...|  male|  39|    1|    5|          347082| 31.275| null|       S|\n",
            "|         15|       0|     3|Vestrom, Miss. Hu...|female|  14|    0|    0|          350406| 7.8542| null|       S|\n",
            "|         16|       1|     2|Hewlett, Mrs. (Ma...|female|  55|    0|    0|          248706|     16| null|       S|\n",
            "|         17|       0|     3|Rice, Master. Eugene|  male|   2|    4|    1|          382652| 29.125| null|       Q|\n",
            "|         18|       1|     2|Williams, Mr. Cha...|  male|null|    0|    0|          244373|     13| null|       S|\n",
            "|         19|       0|     3|Vander Planke, Mr...|female|  31|    1|    0|          345763|     18| null|       S|\n",
            "+-----------+--------+------+--------------------+------+----+-----+-----+----------------+-------+-----+--------+\n",
            "only showing top 20 rows\n",
            "\n"
          ]
        }
      ],
      "source": [
        "df_pyspark.show()"
      ]
    },
    {
      "cell_type": "markdown",
      "metadata": {
        "id": "u2N7ylr7bSyH"
      },
      "source": [
        "Problem: Header is also considered as data here.\n",
        "\n",
        "Solution: use `.option(\"header\", \"true\")` when defining Data Frame `df`"
      ]
    },
    {
      "cell_type": "code",
      "execution_count": null,
      "metadata": {
        "colab": {
          "base_uri": "https://localhost:8080/"
        },
        "id": "dIXGUieUbGQ6",
        "outputId": "8cccf55f-5662-4f1f-8cfe-119827eaab47"
      },
      "outputs": [
        {
          "output_type": "stream",
          "name": "stdout",
          "text": [
            "DataFrame[PassengerId: string, Survived: string, Pclass: string, Name: string, Sex: string, Age: string, SibSp: string, Parch: string, Ticket: string, Fare: string, Cabin: string, Embarked: string]\n",
            "<class 'pyspark.sql.dataframe.DataFrame'>\n"
          ]
        }
      ],
      "source": [
        "df_pyspark = sparkSessionObj.read.option(\"header\", \"true\").csv(\"titanic.csv\")\n",
        "print(df_pyspark)\n",
        "print(type(df_pyspark))"
      ]
    },
    {
      "cell_type": "markdown",
      "metadata": {
        "id": "KoTdTRzGb8cd"
      },
      "source": [
        "Problem: all datatypes are string above\n",
        "\n",
        "Solution: Specify datatypes automatically using `inferSchema = True` or manually"
      ]
    },
    {
      "cell_type": "code",
      "execution_count": null,
      "metadata": {
        "colab": {
          "base_uri": "https://localhost:8080/"
        },
        "id": "pHuWIpc6bzzg",
        "outputId": "506d52cc-33a5-4cf3-fa70-625d9c38bbab"
      },
      "outputs": [
        {
          "output_type": "execute_result",
          "data": {
            "text/plain": [
              "Row(PassengerId='1', Survived='0', Pclass='3', Name='Braund, Mr. Owen Harris', Sex='male', Age='22', SibSp='1', Parch='0', Ticket='A/5 21171', Fare='7.25', Cabin=None, Embarked='S')"
            ]
          },
          "metadata": {},
          "execution_count": 79
        }
      ],
      "source": [
        "df_pyspark.head()"
      ]
    },
    {
      "cell_type": "code",
      "execution_count": null,
      "metadata": {
        "colab": {
          "base_uri": "https://localhost:8080/"
        },
        "id": "Bat2ojHGeieY",
        "outputId": "e663d5e3-30ee-4575-cb95-a61bc0320de5"
      },
      "outputs": [
        {
          "output_type": "stream",
          "name": "stdout",
          "text": [
            "root\n",
            " |-- PassengerId: string (nullable = true)\n",
            " |-- Survived: string (nullable = true)\n",
            " |-- Pclass: string (nullable = true)\n",
            " |-- Name: string (nullable = true)\n",
            " |-- Sex: string (nullable = true)\n",
            " |-- Age: string (nullable = true)\n",
            " |-- SibSp: string (nullable = true)\n",
            " |-- Parch: string (nullable = true)\n",
            " |-- Ticket: string (nullable = true)\n",
            " |-- Fare: string (nullable = true)\n",
            " |-- Cabin: string (nullable = true)\n",
            " |-- Embarked: string (nullable = true)\n",
            "\n"
          ]
        }
      ],
      "source": [
        "df_pyspark.printSchema()"
      ]
    },
    {
      "cell_type": "markdown",
      "metadata": {
        "id": "1-H0fbW8fhym"
      },
      "source": [
        "## Tutorial 2: PySpark DataFrames"
      ]
    },
    {
      "cell_type": "markdown",
      "metadata": {
        "id": "mMzlG4FhgPKX"
      },
      "source": [
        "### Multiple ways of reading csv files\n",
        "`continue from 18:00`"
      ]
    },
    {
      "cell_type": "markdown",
      "metadata": {
        "id": "H2pFMG-F-IK-"
      },
      "source": [
        "#### Method 1:"
      ]
    },
    {
      "cell_type": "code",
      "execution_count": null,
      "metadata": {
        "id": "cRIlNb7l9dDs"
      },
      "outputs": [],
      "source": [
        "# Specify datatypes automatically using inferSchema = True\n",
        "df_pyspark = sparkSessionObj.read.option(\"header\", \"true\").csv(\"titanic.csv\", inferSchema = True)"
      ]
    },
    {
      "cell_type": "code",
      "execution_count": null,
      "metadata": {
        "colab": {
          "base_uri": "https://localhost:8080/"
        },
        "id": "q9rTJ7EK9tHw",
        "outputId": "9bf478f4-e00b-4a6d-eeb6-3c5730a3b92f"
      },
      "outputs": [
        {
          "output_type": "stream",
          "name": "stdout",
          "text": [
            "root\n",
            " |-- PassengerId: integer (nullable = true)\n",
            " |-- Survived: integer (nullable = true)\n",
            " |-- Pclass: integer (nullable = true)\n",
            " |-- Name: string (nullable = true)\n",
            " |-- Sex: string (nullable = true)\n",
            " |-- Age: double (nullable = true)\n",
            " |-- SibSp: integer (nullable = true)\n",
            " |-- Parch: integer (nullable = true)\n",
            " |-- Ticket: string (nullable = true)\n",
            " |-- Fare: double (nullable = true)\n",
            " |-- Cabin: string (nullable = true)\n",
            " |-- Embarked: string (nullable = true)\n",
            "\n"
          ]
        }
      ],
      "source": [
        "df_pyspark.printSchema()"
      ]
    },
    {
      "cell_type": "markdown",
      "metadata": {
        "id": "_eZviSc--NWi"
      },
      "source": [
        "#### Method 2\n",
        "Better way to write same thing as `Method 1`\n",
        "\n",
        "As we do'nt have to remember to use `.option`"
      ]
    },
    {
      "cell_type": "code",
      "execution_count": null,
      "metadata": {
        "colab": {
          "base_uri": "https://localhost:8080/"
        },
        "id": "e6gQoWVefg4_",
        "outputId": "d8923ab6-3d2b-4833-d073-6a2293ce4940"
      },
      "outputs": [
        {
          "output_type": "stream",
          "name": "stdout",
          "text": [
            "root\n",
            " |-- PassengerId: integer (nullable = true)\n",
            " |-- Survived: integer (nullable = true)\n",
            " |-- Pclass: integer (nullable = true)\n",
            " |-- Name: string (nullable = true)\n",
            " |-- Sex: string (nullable = true)\n",
            " |-- Age: double (nullable = true)\n",
            " |-- SibSp: integer (nullable = true)\n",
            " |-- Parch: integer (nullable = true)\n",
            " |-- Ticket: string (nullable = true)\n",
            " |-- Fare: double (nullable = true)\n",
            " |-- Cabin: string (nullable = true)\n",
            " |-- Embarked: string (nullable = true)\n",
            "\n"
          ]
        }
      ],
      "source": [
        "df_pyspark = sparkSessionObj.read.csv(\"titanic.csv\",header = True ,inferSchema = True)\n",
        "df_pyspark.printSchema()"
      ]
    },
    {
      "cell_type": "markdown",
      "metadata": {
        "id": "UqqYcoZk_Ize"
      },
      "source": [
        "#### What is a DataFrame ?\n",
        "\n",
        "A DataFrame is a data structure used in data analysis that consists of rows and columns, similar to a table in a relational database. It is an abstraction in programming that enables us to manipulate data in a flexible and structured manner.\n",
        "\n",
        "In technical terms, a DataFrame is a two-dimensional tabular data structure with columns of potentially different types, like a spreadsheet or SQL table. It is commonly used in data science and machine learning applications for data manipulation, transformation, and analysis.\n",
        "\n",
        "A DataFrame in PySpark is a distributed data structure, which means that it can be spread across multiple nodes in a cluster and processed in parallel. This enables us to process large amounts of data efficiently and quickly.\n",
        "\n",
        "Overall, a DataFrame provides a powerful and flexible way to work with structured data and is a core component of many data processing and machine learning workflows.\n"
      ]
    },
    {
      "cell_type": "markdown",
      "metadata": {
        "id": "WOqcT79kAF3A"
      },
      "source": [
        "### Selecting rows\n",
        "Use `.head(NumberOfRows)`"
      ]
    },
    {
      "cell_type": "code",
      "execution_count": null,
      "metadata": {
        "colab": {
          "base_uri": "https://localhost:8080/"
        },
        "id": "THnQXFhRe9nv",
        "outputId": "74801956-d484-4926-e535-1402a9cce751"
      },
      "outputs": [
        {
          "output_type": "execute_result",
          "data": {
            "text/plain": [
              "[Row(PassengerId=1, Survived=0, Pclass=3, Name='Braund, Mr. Owen Harris', Sex='male', Age=22.0, SibSp=1, Parch=0, Ticket='A/5 21171', Fare=7.25, Cabin=None, Embarked='S'),\n",
              " Row(PassengerId=2, Survived=1, Pclass=1, Name='Cumings, Mrs. John Bradley (Florence Briggs Thayer)', Sex='female', Age=38.0, SibSp=1, Parch=0, Ticket='PC 17599', Fare=71.2833, Cabin='C85', Embarked='C'),\n",
              " Row(PassengerId=3, Survived=1, Pclass=3, Name='Heikkinen, Miss. Laina', Sex='female', Age=26.0, SibSp=0, Parch=0, Ticket='STON/O2. 3101282', Fare=7.925, Cabin=None, Embarked='S'),\n",
              " Row(PassengerId=4, Survived=1, Pclass=1, Name='Futrelle, Mrs. Jacques Heath (Lily May Peel)', Sex='female', Age=35.0, SibSp=1, Parch=0, Ticket='113803', Fare=53.1, Cabin='C123', Embarked='S'),\n",
              " Row(PassengerId=5, Survived=0, Pclass=3, Name='Allen, Mr. William Henry', Sex='male', Age=35.0, SibSp=0, Parch=0, Ticket='373450', Fare=8.05, Cabin=None, Embarked='S')]"
            ]
          },
          "metadata": {},
          "execution_count": 84
        }
      ],
      "source": [
        "df_pyspark.head(5)  # selecting first 5 rows"
      ]
    },
    {
      "cell_type": "markdown",
      "metadata": {
        "id": "0HOUHTyaAmXi"
      },
      "source": [
        "### Selecting Columns\n",
        "Use `select(\"ColumnName\")`"
      ]
    },
    {
      "cell_type": "code",
      "execution_count": null,
      "metadata": {
        "colab": {
          "base_uri": "https://localhost:8080/"
        },
        "id": "0rhStuWWAYA9",
        "outputId": "39ab373b-d915-4400-b925-fb4971f9da47"
      },
      "outputs": [
        {
          "output_type": "stream",
          "name": "stdout",
          "text": [
            "+--------------------+----+\n",
            "|                Name| Age|\n",
            "+--------------------+----+\n",
            "|Braund, Mr. Owen ...|22.0|\n",
            "|Cumings, Mrs. Joh...|38.0|\n",
            "|Heikkinen, Miss. ...|26.0|\n",
            "|Futrelle, Mrs. Ja...|35.0|\n",
            "|Allen, Mr. Willia...|35.0|\n",
            "|    Moran, Mr. James|null|\n",
            "|McCarthy, Mr. Tim...|54.0|\n",
            "|Palsson, Master. ...| 2.0|\n",
            "|Johnson, Mrs. Osc...|27.0|\n",
            "|Nasser, Mrs. Nich...|14.0|\n",
            "|Sandstrom, Miss. ...| 4.0|\n",
            "|Bonnell, Miss. El...|58.0|\n",
            "|Saundercock, Mr. ...|20.0|\n",
            "|Andersson, Mr. An...|39.0|\n",
            "|Vestrom, Miss. Hu...|14.0|\n",
            "|Hewlett, Mrs. (Ma...|55.0|\n",
            "|Rice, Master. Eugene| 2.0|\n",
            "|Williams, Mr. Cha...|null|\n",
            "|Vander Planke, Mr...|31.0|\n",
            "|Masselmani, Mrs. ...|null|\n",
            "+--------------------+----+\n",
            "only showing top 20 rows\n",
            "\n"
          ]
        }
      ],
      "source": [
        "df_pyspark_selected_columns = df_pyspark.select([\"Name\",\"Age\"])\n",
        "df_pyspark_selected_columns.show()"
      ]
    },
    {
      "cell_type": "markdown",
      "metadata": {
        "id": "l2_mImizB8nt"
      },
      "source": [
        "### Checking datatypes\n",
        "Use `.dtypes`"
      ]
    },
    {
      "cell_type": "code",
      "execution_count": null,
      "metadata": {
        "colab": {
          "base_uri": "https://localhost:8080/"
        },
        "id": "QfQCR3RqA_Fw",
        "outputId": "503da004-170e-45e4-b90e-e3ef3977b780"
      },
      "outputs": [
        {
          "output_type": "execute_result",
          "data": {
            "text/plain": [
              "[('PassengerId', 'int'),\n",
              " ('Survived', 'int'),\n",
              " ('Pclass', 'int'),\n",
              " ('Name', 'string'),\n",
              " ('Sex', 'string'),\n",
              " ('Age', 'double'),\n",
              " ('SibSp', 'int'),\n",
              " ('Parch', 'int'),\n",
              " ('Ticket', 'string'),\n",
              " ('Fare', 'double'),\n",
              " ('Cabin', 'string'),\n",
              " ('Embarked', 'string')]"
            ]
          },
          "metadata": {},
          "execution_count": 86
        }
      ],
      "source": [
        "df_pyspark.dtypes"
      ]
    },
    {
      "cell_type": "markdown",
      "metadata": {
        "id": "F5-olN5LC799"
      },
      "source": [
        "### Checking Description\n",
        "Values like mean, min, max, standard deviation can be checked using `.describe()`"
      ]
    },
    {
      "cell_type": "code",
      "execution_count": null,
      "metadata": {
        "colab": {
          "base_uri": "https://localhost:8080/"
        },
        "id": "WL5H40O1Bv9p",
        "outputId": "c89e2311-a6a7-459e-8494-dd8922a7d5d3"
      },
      "outputs": [
        {
          "output_type": "stream",
          "name": "stdout",
          "text": [
            "+-------+-----------------+-------------------+------------------+--------------------+------+------------------+------------------+-------------------+------------------+-----------------+-----+--------+\n",
            "|summary|      PassengerId|           Survived|            Pclass|                Name|   Sex|               Age|             SibSp|              Parch|            Ticket|             Fare|Cabin|Embarked|\n",
            "+-------+-----------------+-------------------+------------------+--------------------+------+------------------+------------------+-------------------+------------------+-----------------+-----+--------+\n",
            "|  count|              891|                891|               891|                 891|   891|               714|               891|                891|               891|              891|  204|     889|\n",
            "|   mean|            446.0| 0.3838383838383838| 2.308641975308642|                null|  null| 29.69911764705882|0.5230078563411896|0.38159371492704824|260318.54916792738| 32.2042079685746| null|    null|\n",
            "| stddev|257.3538420152301|0.48659245426485753|0.8360712409770491|                null|  null|14.526497332334035|1.1027434322934315| 0.8060572211299488|471609.26868834975|49.69342859718089| null|    null|\n",
            "|    min|                1|                  0|                 1|\"Andersson, Mr. A...|female|              0.42|                 0|                  0|            110152|              0.0|  A10|       C|\n",
            "|    max|              891|                  1|                 3|van Melkebeke, Mr...|  male|              80.0|                 8|                  6|         WE/P 5735|         512.3292|    T|       S|\n",
            "+-------+-----------------+-------------------+------------------+--------------------+------+------------------+------------------+-------------------+------------------+-----------------+-----+--------+\n",
            "\n"
          ]
        }
      ],
      "source": [
        "df_pyspark.describe().show()"
      ]
    },
    {
      "cell_type": "markdown",
      "metadata": {
        "id": "hK_QQh3QEKfv"
      },
      "source": [
        "### Adding, Removing and Renaming Columns\n",
        "* use `.withColumn(\"ColumnName\", ColumnValues)` to add\n",
        "* use `.drop(\"ColumnName\")` to remove\n",
        "* use `.withColumnRenamed(\"OldColumnName\",\"NewColumnName\")` to rename"
      ]
    },
    {
      "cell_type": "code",
      "execution_count": null,
      "metadata": {
        "colab": {
          "base_uri": "https://localhost:8080/"
        },
        "id": "M2wZJ3zsDmZ6",
        "outputId": "b65272cc-45d8-40d2-b858-5726bc70c45a"
      },
      "outputs": [
        {
          "output_type": "stream",
          "name": "stdout",
          "text": [
            "+-----------+--------+------+--------------------+------+----+-----+-----+----------------+-------+-----+--------+------------------+\n",
            "|PassengerId|Survived|Pclass|                Name|   Sex| Age|SibSp|Parch|          Ticket|   Fare|Cabin|Embarked|Age(after 5 years)|\n",
            "+-----------+--------+------+--------------------+------+----+-----+-----+----------------+-------+-----+--------+------------------+\n",
            "|          1|       0|     3|Braund, Mr. Owen ...|  male|22.0|    1|    0|       A/5 21171|   7.25| null|       S|              27.0|\n",
            "|          2|       1|     1|Cumings, Mrs. Joh...|female|38.0|    1|    0|        PC 17599|71.2833|  C85|       C|              43.0|\n",
            "|          3|       1|     3|Heikkinen, Miss. ...|female|26.0|    0|    0|STON/O2. 3101282|  7.925| null|       S|              31.0|\n",
            "|          4|       1|     1|Futrelle, Mrs. Ja...|female|35.0|    1|    0|          113803|   53.1| C123|       S|              40.0|\n",
            "|          5|       0|     3|Allen, Mr. Willia...|  male|35.0|    0|    0|          373450|   8.05| null|       S|              40.0|\n",
            "|          6|       0|     3|    Moran, Mr. James|  male|null|    0|    0|          330877| 8.4583| null|       Q|              null|\n",
            "|          7|       0|     1|McCarthy, Mr. Tim...|  male|54.0|    0|    0|           17463|51.8625|  E46|       S|              59.0|\n",
            "|          8|       0|     3|Palsson, Master. ...|  male| 2.0|    3|    1|          349909| 21.075| null|       S|               7.0|\n",
            "|          9|       1|     3|Johnson, Mrs. Osc...|female|27.0|    0|    2|          347742|11.1333| null|       S|              32.0|\n",
            "|         10|       1|     2|Nasser, Mrs. Nich...|female|14.0|    1|    0|          237736|30.0708| null|       C|              19.0|\n",
            "|         11|       1|     3|Sandstrom, Miss. ...|female| 4.0|    1|    1|         PP 9549|   16.7|   G6|       S|               9.0|\n",
            "|         12|       1|     1|Bonnell, Miss. El...|female|58.0|    0|    0|          113783|  26.55| C103|       S|              63.0|\n",
            "|         13|       0|     3|Saundercock, Mr. ...|  male|20.0|    0|    0|       A/5. 2151|   8.05| null|       S|              25.0|\n",
            "|         14|       0|     3|Andersson, Mr. An...|  male|39.0|    1|    5|          347082| 31.275| null|       S|              44.0|\n",
            "|         15|       0|     3|Vestrom, Miss. Hu...|female|14.0|    0|    0|          350406| 7.8542| null|       S|              19.0|\n",
            "|         16|       1|     2|Hewlett, Mrs. (Ma...|female|55.0|    0|    0|          248706|   16.0| null|       S|              60.0|\n",
            "|         17|       0|     3|Rice, Master. Eugene|  male| 2.0|    4|    1|          382652| 29.125| null|       Q|               7.0|\n",
            "|         18|       1|     2|Williams, Mr. Cha...|  male|null|    0|    0|          244373|   13.0| null|       S|              null|\n",
            "|         19|       0|     3|Vander Planke, Mr...|female|31.0|    1|    0|          345763|   18.0| null|       S|              36.0|\n",
            "|         20|       1|     3|Masselmani, Mrs. ...|female|null|    0|    0|            2649|  7.225| null|       C|              null|\n",
            "+-----------+--------+------+--------------------+------+----+-----+-----+----------------+-------+-----+--------+------------------+\n",
            "only showing top 20 rows\n",
            "\n"
          ]
        }
      ],
      "source": [
        "# example of adding a column\n",
        "df_pyspark_added_column = df_pyspark.withColumn(\"Age(after 5 years)\", df_pyspark[\"Age\"]+5)\n",
        "df_pyspark_added_column.show()"
      ]
    },
    {
      "cell_type": "markdown",
      "metadata": {
        "id": "WrNr2ucRHDMU"
      },
      "source": [
        "## Tutorial 3: DataFrame - Handling Missing Values"
      ]
    },
    {
      "cell_type": "markdown",
      "metadata": {
        "id": "s592p1DrIiAB"
      },
      "source": [
        "### Dropping Null Values\n",
        "* use `.na.drop()` to remove all rows having atleast one `null` or `NaN` value\n",
        "* use `.na.drop(how=\"all\")` to remove all rows having all `null` or `NaN` value\n",
        "\n",
        "**Note:** By default, `how = \"any\"`"
      ]
    },
    {
      "cell_type": "code",
      "execution_count": null,
      "metadata": {
        "colab": {
          "base_uri": "https://localhost:8080/"
        },
        "id": "xiAbSXytE_1k",
        "outputId": "e2e1fa56-2c23-407a-da9a-96c2b9128206"
      },
      "outputs": [
        {
          "output_type": "stream",
          "name": "stdout",
          "text": [
            "+-----------+--------+------+--------------------+------+----+-----+-----+-----------+--------+-----------+--------+\n",
            "|PassengerId|Survived|Pclass|                Name|   Sex| Age|SibSp|Parch|     Ticket|    Fare|      Cabin|Embarked|\n",
            "+-----------+--------+------+--------------------+------+----+-----+-----+-----------+--------+-----------+--------+\n",
            "|          2|       1|     1|Cumings, Mrs. Joh...|female|38.0|    1|    0|   PC 17599| 71.2833|        C85|       C|\n",
            "|          4|       1|     1|Futrelle, Mrs. Ja...|female|35.0|    1|    0|     113803|    53.1|       C123|       S|\n",
            "|          7|       0|     1|McCarthy, Mr. Tim...|  male|54.0|    0|    0|      17463| 51.8625|        E46|       S|\n",
            "|         11|       1|     3|Sandstrom, Miss. ...|female| 4.0|    1|    1|    PP 9549|    16.7|         G6|       S|\n",
            "|         12|       1|     1|Bonnell, Miss. El...|female|58.0|    0|    0|     113783|   26.55|       C103|       S|\n",
            "|         22|       1|     2|Beesley, Mr. Lawr...|  male|34.0|    0|    0|     248698|    13.0|        D56|       S|\n",
            "|         24|       1|     1|Sloper, Mr. Willi...|  male|28.0|    0|    0|     113788|    35.5|         A6|       S|\n",
            "|         28|       0|     1|Fortune, Mr. Char...|  male|19.0|    3|    2|      19950|   263.0|C23 C25 C27|       S|\n",
            "|         53|       1|     1|Harper, Mrs. Henr...|female|49.0|    1|    0|   PC 17572| 76.7292|        D33|       C|\n",
            "|         55|       0|     1|Ostby, Mr. Engelh...|  male|65.0|    0|    1|     113509| 61.9792|        B30|       C|\n",
            "|         63|       0|     1|Harris, Mr. Henry...|  male|45.0|    1|    0|      36973|  83.475|        C83|       S|\n",
            "|         67|       1|     2|Nye, Mrs. (Elizab...|female|29.0|    0|    0| C.A. 29395|    10.5|        F33|       S|\n",
            "|         76|       0|     3|Moen, Mr. Sigurd ...|  male|25.0|    0|    0|     348123|    7.65|      F G73|       S|\n",
            "|         89|       1|     1|Fortune, Miss. Ma...|female|23.0|    3|    2|      19950|   263.0|C23 C25 C27|       S|\n",
            "|         93|       0|     1|Chaffee, Mr. Herb...|  male|46.0|    1|    0|W.E.P. 5734|  61.175|        E31|       S|\n",
            "|         97|       0|     1|Goldschmidt, Mr. ...|  male|71.0|    0|    0|   PC 17754| 34.6542|         A5|       C|\n",
            "|         98|       1|     1|Greenfield, Mr. W...|  male|23.0|    0|    1|   PC 17759| 63.3583|    D10 D12|       C|\n",
            "|        103|       0|     1|White, Mr. Richar...|  male|21.0|    0|    1|      35281| 77.2875|        D26|       S|\n",
            "|        111|       0|     1|Porter, Mr. Walte...|  male|47.0|    0|    0|     110465|    52.0|       C110|       S|\n",
            "|        119|       0|     1|Baxter, Mr. Quigg...|  male|24.0|    0|    1|   PC 17558|247.5208|    B58 B60|       C|\n",
            "+-----------+--------+------+--------------------+------+----+-----+-----+-----------+--------+-----------+--------+\n",
            "only showing top 20 rows\n",
            "\n"
          ]
        }
      ],
      "source": [
        "df_pyspark.na.drop().show()"
      ]
    },
    {
      "cell_type": "markdown",
      "metadata": {
        "id": "xlKqbNRvKPwj"
      },
      "source": [
        "`continue from 38:00`\n",
        "### Dropping based atleast n non-null values are present\n",
        "use `.na.drop(how=\"all\", thresh=2)` for making sure atleat 2 non-null values are present"
      ]
    },
    {
      "cell_type": "markdown",
      "metadata": {
        "id": "-laeK5cwjQcp"
      },
      "source": [
        "### Dropping rows if null values are present in a perticular column\n",
        "use `.na.drop(how=\"all\", subset[\"ColumnName\"])` for making sure all rows having null values in `ColumnName` column are dropped"
      ]
    },
    {
      "cell_type": "markdown",
      "metadata": {
        "id": "JFO1l-cEj8iw"
      },
      "source": [
        "### Filling the Missing Values\n",
        "* use `.na.fill(\"Text_To_Replace_All_Null_Values_in_df\")`\n",
        "* use `.na.fill(\"Text_To_Replace_Null_Values\", [\"ColumnName1\", \"ColumnName2\"])` to replace null values in a perticular columns only\n"
      ]
    },
    {
      "cell_type": "markdown",
      "metadata": {
        "id": "9o4IEiSNlG8E"
      },
      "source": [
        "### Replacing null values with [mean, median etc.] of column (Imputer fn)"
      ]
    },
    {
      "cell_type": "code",
      "execution_count": null,
      "metadata": {
        "id": "3UHhQu5CJGpV"
      },
      "outputs": [],
      "source": [
        "from pyspark.ml.feature import Imputer"
      ]
    },
    {
      "cell_type": "code",
      "execution_count": null,
      "metadata": {
        "colab": {
          "base_uri": "https://localhost:8080/"
        },
        "id": "VyhyT3DbmuDI",
        "outputId": "ee2d27b6-10e2-4417-d6ba-570679e21daa"
      },
      "outputs": [
        {
          "name": "stdout",
          "output_type": "stream",
          "text": [
            "+-----------+--------+------+--------------------+------+----+-----+-----+----------------+-------+-----+--------+-----------------+------------+----------------+\n",
            "|PassengerId|Survived|Pclass|                Name|   Sex| Age|SibSp|Parch|          Ticket|   Fare|Cabin|Embarked|      Age_imputed|Fare_imputed|Survived_imputed|\n",
            "+-----------+--------+------+--------------------+------+----+-----+-----+----------------+-------+-----+--------+-----------------+------------+----------------+\n",
            "|          1|       0|     3|Braund, Mr. Owen ...|  male|22.0|    1|    0|       A/5 21171|   7.25| null|       S|             22.0|        7.25|               0|\n",
            "|          2|       1|     1|Cumings, Mrs. Joh...|female|38.0|    1|    0|        PC 17599|71.2833|  C85|       C|             38.0|     71.2833|               1|\n",
            "|          3|       1|     3|Heikkinen, Miss. ...|female|26.0|    0|    0|STON/O2. 3101282|  7.925| null|       S|             26.0|       7.925|               1|\n",
            "|          4|       1|     1|Futrelle, Mrs. Ja...|female|35.0|    1|    0|          113803|   53.1| C123|       S|             35.0|        53.1|               1|\n",
            "|          5|       0|     3|Allen, Mr. Willia...|  male|35.0|    0|    0|          373450|   8.05| null|       S|             35.0|        8.05|               0|\n",
            "|          6|       0|     3|    Moran, Mr. James|  male|null|    0|    0|          330877| 8.4583| null|       Q|29.69911764705882|      8.4583|               0|\n",
            "|          7|       0|     1|McCarthy, Mr. Tim...|  male|54.0|    0|    0|           17463|51.8625|  E46|       S|             54.0|     51.8625|               0|\n",
            "|          8|       0|     3|Palsson, Master. ...|  male| 2.0|    3|    1|          349909| 21.075| null|       S|              2.0|      21.075|               0|\n",
            "|          9|       1|     3|Johnson, Mrs. Osc...|female|27.0|    0|    2|          347742|11.1333| null|       S|             27.0|     11.1333|               1|\n",
            "|         10|       1|     2|Nasser, Mrs. Nich...|female|14.0|    1|    0|          237736|30.0708| null|       C|             14.0|     30.0708|               1|\n",
            "|         11|       1|     3|Sandstrom, Miss. ...|female| 4.0|    1|    1|         PP 9549|   16.7|   G6|       S|              4.0|        16.7|               1|\n",
            "|         12|       1|     1|Bonnell, Miss. El...|female|58.0|    0|    0|          113783|  26.55| C103|       S|             58.0|       26.55|               1|\n",
            "|         13|       0|     3|Saundercock, Mr. ...|  male|20.0|    0|    0|       A/5. 2151|   8.05| null|       S|             20.0|        8.05|               0|\n",
            "|         14|       0|     3|Andersson, Mr. An...|  male|39.0|    1|    5|          347082| 31.275| null|       S|             39.0|      31.275|               0|\n",
            "|         15|       0|     3|Vestrom, Miss. Hu...|female|14.0|    0|    0|          350406| 7.8542| null|       S|             14.0|      7.8542|               0|\n",
            "|         16|       1|     2|Hewlett, Mrs. (Ma...|female|55.0|    0|    0|          248706|   16.0| null|       S|             55.0|        16.0|               1|\n",
            "|         17|       0|     3|Rice, Master. Eugene|  male| 2.0|    4|    1|          382652| 29.125| null|       Q|              2.0|      29.125|               0|\n",
            "|         18|       1|     2|Williams, Mr. Cha...|  male|null|    0|    0|          244373|   13.0| null|       S|29.69911764705882|        13.0|               1|\n",
            "|         19|       0|     3|Vander Planke, Mr...|female|31.0|    1|    0|          345763|   18.0| null|       S|             31.0|        18.0|               0|\n",
            "|         20|       1|     3|Masselmani, Mrs. ...|female|null|    0|    0|            2649|  7.225| null|       C|29.69911764705882|       7.225|               1|\n",
            "+-----------+--------+------+--------------------+------+----+-----+-----+----------------+-------+-----+--------+-----------------+------------+----------------+\n",
            "only showing top 20 rows\n",
            "\n"
          ]
        }
      ],
      "source": [
        "imputerObj = Imputer(\n",
        "                      inputCols=[\"Age\", \"Fare\", \"Survived\"],\n",
        "                      outputCols=[\"Age_imputed\", \"Fare_imputed\", \"Survived_imputed\"]\n",
        "                    ).setStrategy(\"mean\")\n",
        "\n",
        "imputerObj.fit(df_pyspark).transform(df_pyspark).show()"
      ]
    },
    {
      "cell_type": "markdown",
      "metadata": {
        "id": "_K17Ui8AqMPB"
      },
      "source": [
        "* Observation:\n",
        "See above row with `PassengerId=20` at `Age` and `Age_imputed` colums, you will see the difference\n",
        "\n",
        "* Note:\n",
        "`pyspark.ml.feature.Imputer` does work only for numeric dataTypes (and not for strings)"
      ]
    },
    {
      "cell_type": "markdown",
      "metadata": {
        "id": "wFdL__lPrPzf"
      },
      "source": [
        "## Tutorial 4: DataFrame - Filter\n",
        "`continue from 48:00`"
      ]
    },
    {
      "cell_type": "markdown",
      "metadata": {
        "id": "whc1BvACEn48"
      },
      "source": [
        "### Use .filter()\n",
        "- using `.filter(\"ColumnName>=200\")`\n",
        "- using `.filter(df_pyspark[\"ColumnName\"]>=10)`"
      ]
    },
    {
      "cell_type": "code",
      "execution_count": null,
      "metadata": {
        "colab": {
          "base_uri": "https://localhost:8080/"
        },
        "id": "QFNyNcFGperx",
        "outputId": "53aed28b-557b-4856-822e-bed1aff46fec"
      },
      "outputs": [
        {
          "name": "stdout",
          "output_type": "stream",
          "text": [
            "+-----------+--------+------+--------------------+------+----+-----+-----+-----------+--------+-----+--------+\n",
            "|PassengerId|Survived|Pclass|                Name|   Sex| Age|SibSp|Parch|     Ticket|    Fare|Cabin|Embarked|\n",
            "+-----------+--------+------+--------------------+------+----+-----+-----+-----------+--------+-----+--------+\n",
            "|          7|       0|     1|McCarthy, Mr. Tim...|  male|54.0|    0|    0|      17463| 51.8625|  E46|       S|\n",
            "|         12|       1|     1|Bonnell, Miss. El...|female|58.0|    0|    0|     113783|   26.55| C103|       S|\n",
            "|         16|       1|     2|Hewlett, Mrs. (Ma...|female|55.0|    0|    0|     248706|    16.0| null|       S|\n",
            "|         34|       0|     2|Wheadon, Mr. Edwa...|  male|66.0|    0|    0| C.A. 24579|    10.5| null|       S|\n",
            "|         55|       0|     1|Ostby, Mr. Engelh...|  male|65.0|    0|    1|     113509| 61.9792|  B30|       C|\n",
            "|         95|       0|     3|   Coxon, Mr. Daniel|  male|59.0|    0|    0|     364500|    7.25| null|       S|\n",
            "|         97|       0|     1|Goldschmidt, Mr. ...|  male|71.0|    0|    0|   PC 17754| 34.6542|   A5|       C|\n",
            "|        117|       0|     3|Connors, Mr. Patrick|  male|70.5|    0|    0|     370369|    7.75| null|       Q|\n",
            "|        125|       0|     1|White, Mr. Perciv...|  male|54.0|    0|    1|      35281| 77.2875|  D26|       S|\n",
            "|        151|       0|     2|Bateman, Rev. Rob...|  male|51.0|    0|    0|S.O.P. 1166|  12.525| null|       S|\n",
            "|        153|       0|     3|    Meo, Mr. Alfonzo|  male|55.5|    0|    0| A.5. 11206|    8.05| null|       S|\n",
            "|        156|       0|     1|Williams, Mr. Cha...|  male|51.0|    0|    1|   PC 17597| 61.3792| null|       C|\n",
            "|        171|       0|     1|Van der hoef, Mr....|  male|61.0|    0|    0|     111240|    33.5|  B19|       S|\n",
            "|        175|       0|     1|Smith, Mr. James ...|  male|56.0|    0|    0|      17764| 30.6958|   A7|       C|\n",
            "|        178|       0|     1|Isham, Miss. Ann ...|female|50.0|    0|    0|   PC 17595| 28.7125|  C49|       C|\n",
            "|        196|       1|     1|Lurette, Miss. Elise|female|58.0|    0|    0|   PC 17569|146.5208|  B80|       C|\n",
            "|        223|       0|     3|Green, Mr. George...|  male|51.0|    0|    0|      21440|    8.05| null|       S|\n",
            "|        233|       0|     2|Sjostedt, Mr. Ern...|  male|59.0|    0|    0|     237442|    13.5| null|       S|\n",
            "|        250|       0|     2|Carter, Rev. Erne...|  male|54.0|    1|    0|     244252|    26.0| null|       S|\n",
            "|        253|       0|     1|Stead, Mr. Willia...|  male|62.0|    0|    0|     113514|   26.55|  C87|       S|\n",
            "+-----------+--------+------+--------------------+------+----+-----+-----+-----------+--------+-----+--------+\n",
            "only showing top 20 rows\n",
            "\n"
          ]
        }
      ],
      "source": [
        "df_pyspark.filter(\"Age>=50\").show()"
      ]
    },
    {
      "cell_type": "code",
      "execution_count": null,
      "metadata": {
        "colab": {
          "base_uri": "https://localhost:8080/"
        },
        "id": "KVYYfrK1FEky",
        "outputId": "e9395111-ae78-493b-e549-74a04fa70719"
      },
      "outputs": [
        {
          "name": "stdout",
          "output_type": "stream",
          "text": [
            "+--------------------+----+\n",
            "|                Name| Age|\n",
            "+--------------------+----+\n",
            "|McCarthy, Mr. Tim...|54.0|\n",
            "|Bonnell, Miss. El...|58.0|\n",
            "|Hewlett, Mrs. (Ma...|55.0|\n",
            "|Wheadon, Mr. Edwa...|66.0|\n",
            "|Ostby, Mr. Engelh...|65.0|\n",
            "|   Coxon, Mr. Daniel|59.0|\n",
            "|Goldschmidt, Mr. ...|71.0|\n",
            "|Connors, Mr. Patrick|70.5|\n",
            "|White, Mr. Perciv...|54.0|\n",
            "|Bateman, Rev. Rob...|51.0|\n",
            "|    Meo, Mr. Alfonzo|55.5|\n",
            "|Williams, Mr. Cha...|51.0|\n",
            "|Van der hoef, Mr....|61.0|\n",
            "|Smith, Mr. James ...|56.0|\n",
            "|Isham, Miss. Ann ...|50.0|\n",
            "|Lurette, Miss. Elise|58.0|\n",
            "|Green, Mr. George...|51.0|\n",
            "|Sjostedt, Mr. Ern...|59.0|\n",
            "|Carter, Rev. Erne...|54.0|\n",
            "|Stead, Mr. Willia...|62.0|\n",
            "+--------------------+----+\n",
            "only showing top 20 rows\n",
            "\n"
          ]
        }
      ],
      "source": [
        "# filtering and showing only selected columns\n",
        "df_pyspark.filter(\"Age>=50\").select([\"Name\", \"Age\"]).show()"
      ]
    },
    {
      "cell_type": "code",
      "execution_count": null,
      "metadata": {
        "colab": {
          "base_uri": "https://localhost:8080/"
        },
        "id": "1YXjLu1-GUD9",
        "outputId": "35fbb654-4b2d-4709-d57e-73644202c704"
      },
      "outputs": [
        {
          "name": "stdout",
          "output_type": "stream",
          "text": [
            "+--------------------+----+\n",
            "|                Name| Age|\n",
            "+--------------------+----+\n",
            "|McCarthy, Mr. Tim...|54.0|\n",
            "|Bonnell, Miss. El...|58.0|\n",
            "|Hewlett, Mrs. (Ma...|55.0|\n",
            "|Wheadon, Mr. Edwa...|66.0|\n",
            "|Ostby, Mr. Engelh...|65.0|\n",
            "|   Coxon, Mr. Daniel|59.0|\n",
            "|Goldschmidt, Mr. ...|71.0|\n",
            "|Connors, Mr. Patrick|70.5|\n",
            "|White, Mr. Perciv...|54.0|\n",
            "|Bateman, Rev. Rob...|51.0|\n",
            "|    Meo, Mr. Alfonzo|55.5|\n",
            "|Williams, Mr. Cha...|51.0|\n",
            "|Van der hoef, Mr....|61.0|\n",
            "|Smith, Mr. James ...|56.0|\n",
            "|Isham, Miss. Ann ...|50.0|\n",
            "|Lurette, Miss. Elise|58.0|\n",
            "|Green, Mr. George...|51.0|\n",
            "|Sjostedt, Mr. Ern...|59.0|\n",
            "|Carter, Rev. Erne...|54.0|\n",
            "|Stead, Mr. Willia...|62.0|\n",
            "+--------------------+----+\n",
            "only showing top 20 rows\n",
            "\n"
          ]
        }
      ],
      "source": [
        "# similarly using another method\n",
        "df_pyspark.filter(df_pyspark[\"Age\"]>=50).select([\"Name\", \"Age\"]).show()"
      ]
    },
    {
      "cell_type": "markdown",
      "metadata": {
        "id": "kMReaokRHLiM"
      },
      "source": [
        "Similarly, we can use `and` and `or` while defining contitions\n",
        "\n",
        "Note: please use `'&' for 'and'`, `'|' for 'or'`, `'~' for 'not'` when building DataFrame boolean expressions.\n",
        "\n",
        "Note: Brackets`() & ()` are necessary while defining conditions\n",
        "* `df_pyspark.filter(df_pyspark[\"Age\"]>=20 & df_pyspark[\"Age\"]<=40).select([\"Name\", \"Age\", \"Fare\"]).show()` throws error\n",
        "* while `df_pyspark.filter((df_pyspark[\"Age\"]>=20) & (df_pyspark[\"Age\"]<=23)).select([\"Name\", \"Age\", \"Fare\"]).show()` works perfectly fine"
      ]
    },
    {
      "cell_type": "code",
      "execution_count": null,
      "metadata": {
        "colab": {
          "base_uri": "https://localhost:8080/"
        },
        "id": "dCjdXWZ2HEQf",
        "outputId": "7d60bcfa-fc7c-42df-8f05-cfc01a851a26"
      },
      "outputs": [
        {
          "name": "stdout",
          "output_type": "stream",
          "text": [
            "+--------------------+----+-------+\n",
            "|                Name| Age|   Fare|\n",
            "+--------------------+----+-------+\n",
            "|Braund, Mr. Owen ...|22.0|   7.25|\n",
            "|Saundercock, Mr. ...|20.0|   8.05|\n",
            "|Cann, Mr. Ernest ...|21.0|   8.05|\n",
            "|Nosworthy, Mr. Ri...|21.0|    7.8|\n",
            "|   Rugg, Miss. Emily|21.0|   10.5|\n",
            "|Sirayanian, Mr. O...|22.0| 7.2292|\n",
            "|Hood, Mr. Ambrose Jr|21.0|   73.5|\n",
            "|Waelens, Mr. Achille|22.0|    9.0|\n",
            "|Fortune, Miss. Ma...|23.0|  263.0|\n",
            "|Andreasson, Mr. P...|20.0| 7.8542|\n",
            "|Greenfield, Mr. W...|23.0|63.3583|\n",
            "|White, Mr. Richar...|21.0|77.2875|\n",
            "|Salkjelsvik, Miss...|21.0|   7.65|\n",
            "|Barton, Mr. David...|22.0|   8.05|\n",
            "|Jussila, Miss. Ka...|20.0|  9.825|\n",
            "|Pekoniemi, Mr. Ed...|21.0|  7.925|\n",
            "|Hickman, Mr. Stan...|21.0|   73.5|\n",
            "|Coelho, Mr. Domin...|20.0|   7.05|\n",
            "|  Richard, Mr. Emile|23.0|15.0458|\n",
            "|Nysten, Miss. Ann...|22.0|   7.75|\n",
            "+--------------------+----+-------+\n",
            "only showing top 20 rows\n",
            "\n"
          ]
        }
      ],
      "source": [
        "df_pyspark.filter((df_pyspark[\"Age\"]>=20) & (df_pyspark[\"Age\"]<=23)).select([\"Name\", \"Age\", \"Fare\"]).show()"
      ]
    },
    {
      "cell_type": "markdown",
      "metadata": {
        "id": "rSsPujAnJYu7"
      },
      "source": [
        "## Tutorial 5: GroupBy and Aggregation"
      ]
    },
    {
      "cell_type": "markdown",
      "metadata": {
        "id": "hQjhEfaFcuu0"
      },
      "source": [
        "#### Using groupBy (merging rows to group by a selected single value of a perticular Column provided)"
      ]
    },
    {
      "cell_type": "code",
      "execution_count": null,
      "metadata": {
        "colab": {
          "base_uri": "https://localhost:8080/"
        },
        "id": "DhWhZnjWHjXe",
        "outputId": "efca2da9-68d1-47cb-99d5-ea34aedadc35"
      },
      "outputs": [
        {
          "name": "stdout",
          "output_type": "stream",
          "text": [
            "+----+------------------+\n",
            "| Age|         sum(Fare)|\n",
            "+----+------------------+\n",
            "| 8.0|             113.2|\n",
            "|70.0|              81.5|\n",
            "| 7.0|           95.0625|\n",
            "|20.5|              7.25|\n",
            "|49.0|          359.5751|\n",
            "|29.0|          541.8165|\n",
            "|40.5|             22.25|\n",
            "|64.0|             289.0|\n",
            "|47.0|248.41250000000002|\n",
            "|42.0|          482.6334|\n",
            "|24.5|              8.05|\n",
            "|44.0|267.82500000000005|\n",
            "|35.0|1607.6249999999998|\n",
            "|null| 3922.066300000001|\n",
            "|62.0|             143.6|\n",
            "|18.0| 989.6499999999999|\n",
            "|80.0|              30.0|\n",
            "|34.5|            6.4375|\n",
            "|39.0| 513.2665999999999|\n",
            "| 1.0|210.04169999999996|\n",
            "+----+------------------+\n",
            "only showing top 20 rows\n",
            "\n"
          ]
        }
      ],
      "source": [
        "# Grouped by age to find sum of fare of a perticular age group\n",
        "df_pyspark.groupBy(\"Age\").sum(\"Fare\").show()"
      ]
    },
    {
      "cell_type": "code",
      "execution_count": null,
      "metadata": {
        "colab": {
          "base_uri": "https://localhost:8080/"
        },
        "id": "tBR---eILnm4",
        "outputId": "dd9286d2-26e7-46c1-e546-cede31cf292c"
      },
      "outputs": [
        {
          "name": "stdout",
          "output_type": "stream",
          "text": [
            "+----+-----+\n",
            "| Age|count|\n",
            "+----+-----+\n",
            "| 8.0|    4|\n",
            "|70.0|    2|\n",
            "| 7.0|    3|\n",
            "|20.5|    1|\n",
            "|49.0|    6|\n",
            "|29.0|   20|\n",
            "|40.5|    2|\n",
            "|64.0|    2|\n",
            "|47.0|    9|\n",
            "|42.0|   13|\n",
            "|24.5|    1|\n",
            "|44.0|    9|\n",
            "|35.0|   18|\n",
            "|null|  177|\n",
            "|62.0|    4|\n",
            "|18.0|   26|\n",
            "|80.0|    1|\n",
            "|34.5|    1|\n",
            "|39.0|   14|\n",
            "| 1.0|    7|\n",
            "+----+-----+\n",
            "only showing top 20 rows\n",
            "\n"
          ]
        }
      ],
      "source": [
        "# Grouped by age to find count of people of a perticular age group\n",
        "df_pyspark.groupBy(\"Age\").count().show()"
      ]
    },
    {
      "cell_type": "markdown",
      "metadata": {
        "id": "4N-XVQliczuu"
      },
      "source": [
        "#### using Aggrigate (getting single value by processing a column)\n",
        "`.agg(Dictionary of key:value)`\n",
        "where, Key is `\"ColumnName\"` and value is attribute like `\"sum\"` or `\"mean\"`"
      ]
    },
    {
      "cell_type": "code",
      "execution_count": null,
      "metadata": {
        "colab": {
          "base_uri": "https://localhost:8080/"
        },
        "id": "tIjR4Rjacg7l",
        "outputId": "c8687ea3-0529-49a7-dd94-5de5e46ed423"
      },
      "outputs": [
        {
          "name": "stdout",
          "output_type": "stream",
          "text": [
            "+--------+----------------+\n",
            "|sum(Age)|       avg(Fare)|\n",
            "+--------+----------------+\n",
            "|21205.17|32.2042079685746|\n",
            "+--------+----------------+\n",
            "\n"
          ]
        }
      ],
      "source": [
        "df_pyspark.agg({\"Age\": \"sum\", \"Fare\": \"mean\"}).show()"
      ]
    },
    {
      "cell_type": "code",
      "execution_count": null,
      "metadata": {
        "colab": {
          "base_uri": "https://localhost:8080/"
        },
        "id": "093vYvuNdsy7",
        "outputId": "b8806308-0cda-4ad8-c035-b51f35463e98"
      },
      "outputs": [
        {
          "name": "stdout",
          "output_type": "stream",
          "text": [
            "+-----------------+----------------+\n",
            "|         avg(Age)|       avg(Fare)|\n",
            "+-----------------+----------------+\n",
            "|29.69911764705882|32.2042079685746|\n",
            "+-----------------+----------------+\n",
            "\n"
          ]
        }
      ],
      "source": [
        "df_pyspark.agg({\"Age\": \"sum\", \"Age\":\"mean\" , \"Fare\": \"mean\"}).show()"
      ]
    },
    {
      "cell_type": "markdown",
      "metadata": {
        "id": "z2zfwLHcfOLe"
      },
      "source": [
        "#####Observation Byme:\n",
        "Multiple `.agg` operations cannot be done on a single column in same dataframe"
      ]
    },
    {
      "cell_type": "markdown",
      "metadata": {
        "id": "9gnrXxorhrQD"
      },
      "source": [
        "## Example of PySpark ML"
      ]
    },
    {
      "cell_type": "markdown",
      "metadata": {
        "id": "seYWpFGOf1Xu"
      },
      "source": [
        "#####Note (sources)\n",
        "Click on Examples on https://spark.apache.org/mllib/ , has amazing doccumentation"
      ]
    },
    {
      "cell_type": "markdown",
      "metadata": {
        "id": "fwLSsqn4gRxj"
      },
      "source": [
        "### MLib\n",
        "When considering `MLib` there are 2 different techniqes:\n",
        "1. RDD\n",
        "2. DataFrame APIs\n",
        "\n",
        "We are gonna focus on DataFrame APIs (and not RDD)"
      ]
    },
    {
      "cell_type": "markdown",
      "metadata": {
        "id": "XqI85yA2iciG"
      },
      "source": [
        "### Unimportant revision"
      ]
    },
    {
      "cell_type": "code",
      "execution_count": null,
      "metadata": {
        "colab": {
          "base_uri": "https://localhost:8080/"
        },
        "id": "DQHYYUBJfL9H",
        "outputId": "7843799d-8310-4f99-af50-e3360c63eb7b"
      },
      "outputs": [
        {
          "output_type": "stream",
          "name": "stdout",
          "text": [
            "+-----------+--------+------+--------------------+------+----+-----+-----+----------------+-------+-----+--------+\n",
            "|PassengerId|Survived|Pclass|                Name|   Sex| Age|SibSp|Parch|          Ticket|   Fare|Cabin|Embarked|\n",
            "+-----------+--------+------+--------------------+------+----+-----+-----+----------------+-------+-----+--------+\n",
            "|          1|       0|     3|Braund, Mr. Owen ...|  male|22.0|    1|    0|       A/5 21171|   7.25| null|       S|\n",
            "|          2|       1|     1|Cumings, Mrs. Joh...|female|38.0|    1|    0|        PC 17599|71.2833|  C85|       C|\n",
            "|          3|       1|     3|Heikkinen, Miss. ...|female|26.0|    0|    0|STON/O2. 3101282|  7.925| null|       S|\n",
            "|          4|       1|     1|Futrelle, Mrs. Ja...|female|35.0|    1|    0|          113803|   53.1| C123|       S|\n",
            "|          5|       0|     3|Allen, Mr. Willia...|  male|35.0|    0|    0|          373450|   8.05| null|       S|\n",
            "|          6|       0|     3|    Moran, Mr. James|  male|null|    0|    0|          330877| 8.4583| null|       Q|\n",
            "|          7|       0|     1|McCarthy, Mr. Tim...|  male|54.0|    0|    0|           17463|51.8625|  E46|       S|\n",
            "|          8|       0|     3|Palsson, Master. ...|  male| 2.0|    3|    1|          349909| 21.075| null|       S|\n",
            "|          9|       1|     3|Johnson, Mrs. Osc...|female|27.0|    0|    2|          347742|11.1333| null|       S|\n",
            "|         10|       1|     2|Nasser, Mrs. Nich...|female|14.0|    1|    0|          237736|30.0708| null|       C|\n",
            "|         11|       1|     3|Sandstrom, Miss. ...|female| 4.0|    1|    1|         PP 9549|   16.7|   G6|       S|\n",
            "|         12|       1|     1|Bonnell, Miss. El...|female|58.0|    0|    0|          113783|  26.55| C103|       S|\n",
            "|         13|       0|     3|Saundercock, Mr. ...|  male|20.0|    0|    0|       A/5. 2151|   8.05| null|       S|\n",
            "|         14|       0|     3|Andersson, Mr. An...|  male|39.0|    1|    5|          347082| 31.275| null|       S|\n",
            "|         15|       0|     3|Vestrom, Miss. Hu...|female|14.0|    0|    0|          350406| 7.8542| null|       S|\n",
            "|         16|       1|     2|Hewlett, Mrs. (Ma...|female|55.0|    0|    0|          248706|   16.0| null|       S|\n",
            "|         17|       0|     3|Rice, Master. Eugene|  male| 2.0|    4|    1|          382652| 29.125| null|       Q|\n",
            "|         18|       1|     2|Williams, Mr. Cha...|  male|null|    0|    0|          244373|   13.0| null|       S|\n",
            "|         19|       0|     3|Vander Planke, Mr...|female|31.0|    1|    0|          345763|   18.0| null|       S|\n",
            "|         20|       1|     3|Masselmani, Mrs. ...|female|null|    0|    0|            2649|  7.225| null|       C|\n",
            "+-----------+--------+------+--------------------+------+----+-----+-----+----------------+-------+-----+--------+\n",
            "only showing top 20 rows\n",
            "\n"
          ]
        }
      ],
      "source": [
        "# taking a look at the dataframe\n",
        "df_pyspark.show()"
      ]
    },
    {
      "cell_type": "code",
      "execution_count": null,
      "metadata": {
        "colab": {
          "base_uri": "https://localhost:8080/"
        },
        "id": "Js1bTd1-h-k5",
        "outputId": "3399db0b-2720-45d3-f9d6-f4cc573b4a47"
      },
      "outputs": [
        {
          "output_type": "execute_result",
          "data": {
            "text/plain": [
              "['PassengerId',\n",
              " 'Survived',\n",
              " 'Pclass',\n",
              " 'Name',\n",
              " 'Sex',\n",
              " 'Age',\n",
              " 'SibSp',\n",
              " 'Parch',\n",
              " 'Ticket',\n",
              " 'Fare',\n",
              " 'Cabin',\n",
              " 'Embarked']"
            ]
          },
          "metadata": {},
          "execution_count": 63
        }
      ],
      "source": [
        "df_pyspark.columns"
      ]
    },
    {
      "cell_type": "code",
      "execution_count": null,
      "metadata": {
        "colab": {
          "base_uri": "https://localhost:8080/"
        },
        "id": "o0G7mp-iiUX4",
        "outputId": "89c9918e-030f-49cf-92b6-325dbf38bbe2"
      },
      "outputs": [
        {
          "output_type": "stream",
          "name": "stdout",
          "text": [
            "root\n",
            " |-- PassengerId: integer (nullable = true)\n",
            " |-- Survived: integer (nullable = true)\n",
            " |-- Pclass: integer (nullable = true)\n",
            " |-- Name: string (nullable = true)\n",
            " |-- Sex: string (nullable = true)\n",
            " |-- Age: double (nullable = true)\n",
            " |-- SibSp: integer (nullable = true)\n",
            " |-- Parch: integer (nullable = true)\n",
            " |-- Ticket: string (nullable = true)\n",
            " |-- Fare: double (nullable = true)\n",
            " |-- Cabin: string (nullable = true)\n",
            " |-- Embarked: string (nullable = true)\n",
            "\n"
          ]
        }
      ],
      "source": [
        "df_pyspark.printSchema()"
      ]
    },
    {
      "cell_type": "markdown",
      "metadata": {
        "id": "ilUcQe6aj1Xk"
      },
      "source": [
        "### Started New Stuff from here"
      ]
    },
    {
      "cell_type": "markdown",
      "source": [
        "### Joining multiple columns to make another column independent of those inputCols"
      ],
      "metadata": {
        "id": "IpwaqqjXmnI-"
      }
    },
    {
      "cell_type": "markdown",
      "metadata": {
        "id": "t9F2OH70i7W_"
      },
      "source": [
        "`VectorAssembler` makes sure that the indivisual features are grouped to form an independent feature\n",
        "\n",
        "For Eg.\n",
        "`[\"Ticket\", \"Cabin\", \"Fare\"]` ---> new feature (independent)"
      ]
    },
    {
      "cell_type": "markdown",
      "metadata": {
        "id": "UBmkxopQjlaL"
      },
      "source": [
        "`continue from 1:07:00`"
      ]
    },
    {
      "cell_type": "code",
      "execution_count": null,
      "metadata": {
        "id": "WcSSf6ShiYs5"
      },
      "outputs": [],
      "source": [
        "from pyspark.ml.feature import VectorAssembler\n",
        "VectorAssemblerObj = VectorAssembler(\n",
        "                                      inputCols = [\"Ticket\", \"Cabin\", \"Fare\"],\n",
        "                                     outputCol = \"Independent Features Column\"\n",
        "                                    )"
      ]
    },
    {
      "cell_type": "code",
      "source": [
        "output_df = VectorAssemblerObj.transform(df_pyspark)\n",
        "output_df.show()"
      ],
      "metadata": {
        "colab": {
          "base_uri": "https://localhost:8080/",
          "height": 347
        },
        "id": "QcoexmTneyUM",
        "outputId": "7c3e6553-df15-4909-af34-35c7d8429db0"
      },
      "execution_count": null,
      "outputs": [
        {
          "output_type": "error",
          "ename": "IllegalArgumentException",
          "evalue": "ignored",
          "traceback": [
            "\u001b[0;31m---------------------------------------------------------------------------\u001b[0m",
            "\u001b[0;31mIllegalArgumentException\u001b[0m                  Traceback (most recent call last)",
            "\u001b[0;32m<ipython-input-91-21b8cbbe7f0e>\u001b[0m in \u001b[0;36m<cell line: 1>\u001b[0;34m()\u001b[0m\n\u001b[0;32m----> 1\u001b[0;31m \u001b[0moutput_df\u001b[0m \u001b[0;34m=\u001b[0m \u001b[0mVectorAssemblerObj\u001b[0m\u001b[0;34m.\u001b[0m\u001b[0mtransform\u001b[0m\u001b[0;34m(\u001b[0m\u001b[0mdf_pyspark\u001b[0m\u001b[0;34m)\u001b[0m\u001b[0;34m\u001b[0m\u001b[0;34m\u001b[0m\u001b[0m\n\u001b[0m\u001b[1;32m      2\u001b[0m \u001b[0moutput_df\u001b[0m\u001b[0;34m.\u001b[0m\u001b[0mshow\u001b[0m\u001b[0;34m(\u001b[0m\u001b[0;34m)\u001b[0m\u001b[0;34m\u001b[0m\u001b[0;34m\u001b[0m\u001b[0m\n",
            "\u001b[0;32m/usr/local/lib/python3.9/dist-packages/pyspark/ml/base.py\u001b[0m in \u001b[0;36mtransform\u001b[0;34m(self, dataset, params)\u001b[0m\n\u001b[1;32m    260\u001b[0m                 \u001b[0;32mreturn\u001b[0m \u001b[0mself\u001b[0m\u001b[0;34m.\u001b[0m\u001b[0mcopy\u001b[0m\u001b[0;34m(\u001b[0m\u001b[0mparams\u001b[0m\u001b[0;34m)\u001b[0m\u001b[0;34m.\u001b[0m\u001b[0m_transform\u001b[0m\u001b[0;34m(\u001b[0m\u001b[0mdataset\u001b[0m\u001b[0;34m)\u001b[0m\u001b[0;34m\u001b[0m\u001b[0;34m\u001b[0m\u001b[0m\n\u001b[1;32m    261\u001b[0m             \u001b[0;32melse\u001b[0m\u001b[0;34m:\u001b[0m\u001b[0;34m\u001b[0m\u001b[0;34m\u001b[0m\u001b[0m\n\u001b[0;32m--> 262\u001b[0;31m                 \u001b[0;32mreturn\u001b[0m \u001b[0mself\u001b[0m\u001b[0;34m.\u001b[0m\u001b[0m_transform\u001b[0m\u001b[0;34m(\u001b[0m\u001b[0mdataset\u001b[0m\u001b[0;34m)\u001b[0m\u001b[0;34m\u001b[0m\u001b[0;34m\u001b[0m\u001b[0m\n\u001b[0m\u001b[1;32m    263\u001b[0m         \u001b[0;32melse\u001b[0m\u001b[0;34m:\u001b[0m\u001b[0;34m\u001b[0m\u001b[0;34m\u001b[0m\u001b[0m\n\u001b[1;32m    264\u001b[0m             \u001b[0;32mraise\u001b[0m \u001b[0mTypeError\u001b[0m\u001b[0;34m(\u001b[0m\u001b[0;34m\"Params must be a param map but got %s.\"\u001b[0m \u001b[0;34m%\u001b[0m \u001b[0mtype\u001b[0m\u001b[0;34m(\u001b[0m\u001b[0mparams\u001b[0m\u001b[0;34m)\u001b[0m\u001b[0;34m)\u001b[0m\u001b[0;34m\u001b[0m\u001b[0;34m\u001b[0m\u001b[0m\n",
            "\u001b[0;32m/usr/local/lib/python3.9/dist-packages/pyspark/ml/wrapper.py\u001b[0m in \u001b[0;36m_transform\u001b[0;34m(self, dataset)\u001b[0m\n\u001b[1;32m    396\u001b[0m \u001b[0;34m\u001b[0m\u001b[0m\n\u001b[1;32m    397\u001b[0m         \u001b[0mself\u001b[0m\u001b[0;34m.\u001b[0m\u001b[0m_transfer_params_to_java\u001b[0m\u001b[0;34m(\u001b[0m\u001b[0;34m)\u001b[0m\u001b[0;34m\u001b[0m\u001b[0;34m\u001b[0m\u001b[0m\n\u001b[0;32m--> 398\u001b[0;31m         \u001b[0;32mreturn\u001b[0m \u001b[0mDataFrame\u001b[0m\u001b[0;34m(\u001b[0m\u001b[0mself\u001b[0m\u001b[0;34m.\u001b[0m\u001b[0m_java_obj\u001b[0m\u001b[0;34m.\u001b[0m\u001b[0mtransform\u001b[0m\u001b[0;34m(\u001b[0m\u001b[0mdataset\u001b[0m\u001b[0;34m.\u001b[0m\u001b[0m_jdf\u001b[0m\u001b[0;34m)\u001b[0m\u001b[0;34m,\u001b[0m \u001b[0mdataset\u001b[0m\u001b[0;34m.\u001b[0m\u001b[0msparkSession\u001b[0m\u001b[0;34m)\u001b[0m\u001b[0;34m\u001b[0m\u001b[0;34m\u001b[0m\u001b[0m\n\u001b[0m\u001b[1;32m    399\u001b[0m \u001b[0;34m\u001b[0m\u001b[0m\n\u001b[1;32m    400\u001b[0m \u001b[0;34m\u001b[0m\u001b[0m\n",
            "\u001b[0;32m/usr/local/lib/python3.9/dist-packages/py4j/java_gateway.py\u001b[0m in \u001b[0;36m__call__\u001b[0;34m(self, *args)\u001b[0m\n\u001b[1;32m   1320\u001b[0m \u001b[0;34m\u001b[0m\u001b[0m\n\u001b[1;32m   1321\u001b[0m         \u001b[0manswer\u001b[0m \u001b[0;34m=\u001b[0m \u001b[0mself\u001b[0m\u001b[0;34m.\u001b[0m\u001b[0mgateway_client\u001b[0m\u001b[0;34m.\u001b[0m\u001b[0msend_command\u001b[0m\u001b[0;34m(\u001b[0m\u001b[0mcommand\u001b[0m\u001b[0;34m)\u001b[0m\u001b[0;34m\u001b[0m\u001b[0;34m\u001b[0m\u001b[0m\n\u001b[0;32m-> 1322\u001b[0;31m         return_value = get_return_value(\n\u001b[0m\u001b[1;32m   1323\u001b[0m             answer, self.gateway_client, self.target_id, self.name)\n\u001b[1;32m   1324\u001b[0m \u001b[0;34m\u001b[0m\u001b[0m\n",
            "\u001b[0;32m/usr/local/lib/python3.9/dist-packages/pyspark/errors/exceptions/captured.py\u001b[0m in \u001b[0;36mdeco\u001b[0;34m(*a, **kw)\u001b[0m\n\u001b[1;32m    173\u001b[0m                 \u001b[0;31m# Hide where the exception came from that shows a non-Pythonic\u001b[0m\u001b[0;34m\u001b[0m\u001b[0;34m\u001b[0m\u001b[0m\n\u001b[1;32m    174\u001b[0m                 \u001b[0;31m# JVM exception message.\u001b[0m\u001b[0;34m\u001b[0m\u001b[0;34m\u001b[0m\u001b[0m\n\u001b[0;32m--> 175\u001b[0;31m                 \u001b[0;32mraise\u001b[0m \u001b[0mconverted\u001b[0m \u001b[0;32mfrom\u001b[0m \u001b[0;32mNone\u001b[0m\u001b[0;34m\u001b[0m\u001b[0;34m\u001b[0m\u001b[0m\n\u001b[0m\u001b[1;32m    176\u001b[0m             \u001b[0;32melse\u001b[0m\u001b[0;34m:\u001b[0m\u001b[0;34m\u001b[0m\u001b[0;34m\u001b[0m\u001b[0m\n\u001b[1;32m    177\u001b[0m                 \u001b[0;32mraise\u001b[0m\u001b[0;34m\u001b[0m\u001b[0;34m\u001b[0m\u001b[0m\n",
            "\u001b[0;31mIllegalArgumentException\u001b[0m: Data type string of column Ticket is not supported.\nData type string of column Cabin is not supported."
          ]
        }
      ]
    },
    {
      "cell_type": "markdown",
      "source": [
        "Observation: String Not supported"
      ],
      "metadata": {
        "id": "-S5HNxFFf8zH"
      }
    },
    {
      "cell_type": "code",
      "source": [
        "from pyspark.ml.feature import VectorAssembler\n",
        "VectorAssemblerObj = VectorAssembler(\n",
        "                                      inputCols = [\"Age\", \"Fare\"],\n",
        "                                     outputCol = \"Independent Features Column\"\n",
        "                                    )\n",
        "\n",
        "output_df = VectorAssemblerObj.transform(df_pyspark)\n",
        "output_df.show()"
      ],
      "metadata": {
        "colab": {
          "base_uri": "https://localhost:8080/",
          "height": 1000
        },
        "id": "cEjQVMkGfRBy",
        "outputId": "e90023d5-69f2-4569-acec-94cafd4c330e"
      },
      "execution_count": null,
      "outputs": [
        {
          "output_type": "error",
          "ename": "Py4JJavaError",
          "evalue": "ignored",
          "traceback": [
            "\u001b[0;31m---------------------------------------------------------------------------\u001b[0m",
            "\u001b[0;31mPy4JJavaError\u001b[0m                             Traceback (most recent call last)",
            "\u001b[0;32m<ipython-input-94-be3cb2443d30>\u001b[0m in \u001b[0;36m<cell line: 8>\u001b[0;34m()\u001b[0m\n\u001b[1;32m      6\u001b[0m \u001b[0;34m\u001b[0m\u001b[0m\n\u001b[1;32m      7\u001b[0m \u001b[0moutput_df\u001b[0m \u001b[0;34m=\u001b[0m \u001b[0mVectorAssemblerObj\u001b[0m\u001b[0;34m.\u001b[0m\u001b[0mtransform\u001b[0m\u001b[0;34m(\u001b[0m\u001b[0mdf_pyspark\u001b[0m\u001b[0;34m)\u001b[0m\u001b[0;34m\u001b[0m\u001b[0;34m\u001b[0m\u001b[0m\n\u001b[0;32m----> 8\u001b[0;31m \u001b[0moutput_df\u001b[0m\u001b[0;34m.\u001b[0m\u001b[0mshow\u001b[0m\u001b[0;34m(\u001b[0m\u001b[0;34m)\u001b[0m\u001b[0;34m\u001b[0m\u001b[0;34m\u001b[0m\u001b[0m\n\u001b[0m",
            "\u001b[0;32m/usr/local/lib/python3.9/dist-packages/pyspark/sql/dataframe.py\u001b[0m in \u001b[0;36mshow\u001b[0;34m(self, n, truncate, vertical)\u001b[0m\n\u001b[1;32m    897\u001b[0m \u001b[0;34m\u001b[0m\u001b[0m\n\u001b[1;32m    898\u001b[0m         \u001b[0;32mif\u001b[0m \u001b[0misinstance\u001b[0m\u001b[0;34m(\u001b[0m\u001b[0mtruncate\u001b[0m\u001b[0;34m,\u001b[0m \u001b[0mbool\u001b[0m\u001b[0;34m)\u001b[0m \u001b[0;32mand\u001b[0m \u001b[0mtruncate\u001b[0m\u001b[0;34m:\u001b[0m\u001b[0;34m\u001b[0m\u001b[0;34m\u001b[0m\u001b[0m\n\u001b[0;32m--> 899\u001b[0;31m             \u001b[0mprint\u001b[0m\u001b[0;34m(\u001b[0m\u001b[0mself\u001b[0m\u001b[0;34m.\u001b[0m\u001b[0m_jdf\u001b[0m\u001b[0;34m.\u001b[0m\u001b[0mshowString\u001b[0m\u001b[0;34m(\u001b[0m\u001b[0mn\u001b[0m\u001b[0;34m,\u001b[0m \u001b[0;36m20\u001b[0m\u001b[0;34m,\u001b[0m \u001b[0mvertical\u001b[0m\u001b[0;34m)\u001b[0m\u001b[0;34m)\u001b[0m\u001b[0;34m\u001b[0m\u001b[0;34m\u001b[0m\u001b[0m\n\u001b[0m\u001b[1;32m    900\u001b[0m         \u001b[0;32melse\u001b[0m\u001b[0;34m:\u001b[0m\u001b[0;34m\u001b[0m\u001b[0;34m\u001b[0m\u001b[0m\n\u001b[1;32m    901\u001b[0m             \u001b[0;32mtry\u001b[0m\u001b[0;34m:\u001b[0m\u001b[0;34m\u001b[0m\u001b[0;34m\u001b[0m\u001b[0m\n",
            "\u001b[0;32m/usr/local/lib/python3.9/dist-packages/py4j/java_gateway.py\u001b[0m in \u001b[0;36m__call__\u001b[0;34m(self, *args)\u001b[0m\n\u001b[1;32m   1320\u001b[0m \u001b[0;34m\u001b[0m\u001b[0m\n\u001b[1;32m   1321\u001b[0m         \u001b[0manswer\u001b[0m \u001b[0;34m=\u001b[0m \u001b[0mself\u001b[0m\u001b[0;34m.\u001b[0m\u001b[0mgateway_client\u001b[0m\u001b[0;34m.\u001b[0m\u001b[0msend_command\u001b[0m\u001b[0;34m(\u001b[0m\u001b[0mcommand\u001b[0m\u001b[0;34m)\u001b[0m\u001b[0;34m\u001b[0m\u001b[0;34m\u001b[0m\u001b[0m\n\u001b[0;32m-> 1322\u001b[0;31m         return_value = get_return_value(\n\u001b[0m\u001b[1;32m   1323\u001b[0m             answer, self.gateway_client, self.target_id, self.name)\n\u001b[1;32m   1324\u001b[0m \u001b[0;34m\u001b[0m\u001b[0m\n",
            "\u001b[0;32m/usr/local/lib/python3.9/dist-packages/pyspark/errors/exceptions/captured.py\u001b[0m in \u001b[0;36mdeco\u001b[0;34m(*a, **kw)\u001b[0m\n\u001b[1;32m    167\u001b[0m     \u001b[0;32mdef\u001b[0m \u001b[0mdeco\u001b[0m\u001b[0;34m(\u001b[0m\u001b[0;34m*\u001b[0m\u001b[0ma\u001b[0m\u001b[0;34m:\u001b[0m \u001b[0mAny\u001b[0m\u001b[0;34m,\u001b[0m \u001b[0;34m**\u001b[0m\u001b[0mkw\u001b[0m\u001b[0;34m:\u001b[0m \u001b[0mAny\u001b[0m\u001b[0;34m)\u001b[0m \u001b[0;34m->\u001b[0m \u001b[0mAny\u001b[0m\u001b[0;34m:\u001b[0m\u001b[0;34m\u001b[0m\u001b[0;34m\u001b[0m\u001b[0m\n\u001b[1;32m    168\u001b[0m         \u001b[0;32mtry\u001b[0m\u001b[0;34m:\u001b[0m\u001b[0;34m\u001b[0m\u001b[0;34m\u001b[0m\u001b[0m\n\u001b[0;32m--> 169\u001b[0;31m             \u001b[0;32mreturn\u001b[0m \u001b[0mf\u001b[0m\u001b[0;34m(\u001b[0m\u001b[0;34m*\u001b[0m\u001b[0ma\u001b[0m\u001b[0;34m,\u001b[0m \u001b[0;34m**\u001b[0m\u001b[0mkw\u001b[0m\u001b[0;34m)\u001b[0m\u001b[0;34m\u001b[0m\u001b[0;34m\u001b[0m\u001b[0m\n\u001b[0m\u001b[1;32m    170\u001b[0m         \u001b[0;32mexcept\u001b[0m \u001b[0mPy4JJavaError\u001b[0m \u001b[0;32mas\u001b[0m \u001b[0me\u001b[0m\u001b[0;34m:\u001b[0m\u001b[0;34m\u001b[0m\u001b[0;34m\u001b[0m\u001b[0m\n\u001b[1;32m    171\u001b[0m             \u001b[0mconverted\u001b[0m \u001b[0;34m=\u001b[0m \u001b[0mconvert_exception\u001b[0m\u001b[0;34m(\u001b[0m\u001b[0me\u001b[0m\u001b[0;34m.\u001b[0m\u001b[0mjava_exception\u001b[0m\u001b[0;34m)\u001b[0m\u001b[0;34m\u001b[0m\u001b[0;34m\u001b[0m\u001b[0m\n",
            "\u001b[0;32m/usr/local/lib/python3.9/dist-packages/py4j/protocol.py\u001b[0m in \u001b[0;36mget_return_value\u001b[0;34m(answer, gateway_client, target_id, name)\u001b[0m\n\u001b[1;32m    324\u001b[0m             \u001b[0mvalue\u001b[0m \u001b[0;34m=\u001b[0m \u001b[0mOUTPUT_CONVERTER\u001b[0m\u001b[0;34m[\u001b[0m\u001b[0mtype\u001b[0m\u001b[0;34m]\u001b[0m\u001b[0;34m(\u001b[0m\u001b[0manswer\u001b[0m\u001b[0;34m[\u001b[0m\u001b[0;36m2\u001b[0m\u001b[0;34m:\u001b[0m\u001b[0;34m]\u001b[0m\u001b[0;34m,\u001b[0m \u001b[0mgateway_client\u001b[0m\u001b[0;34m)\u001b[0m\u001b[0;34m\u001b[0m\u001b[0;34m\u001b[0m\u001b[0m\n\u001b[1;32m    325\u001b[0m             \u001b[0;32mif\u001b[0m \u001b[0manswer\u001b[0m\u001b[0;34m[\u001b[0m\u001b[0;36m1\u001b[0m\u001b[0;34m]\u001b[0m \u001b[0;34m==\u001b[0m \u001b[0mREFERENCE_TYPE\u001b[0m\u001b[0;34m:\u001b[0m\u001b[0;34m\u001b[0m\u001b[0;34m\u001b[0m\u001b[0m\n\u001b[0;32m--> 326\u001b[0;31m                 raise Py4JJavaError(\n\u001b[0m\u001b[1;32m    327\u001b[0m                     \u001b[0;34m\"An error occurred while calling {0}{1}{2}.\\n\"\u001b[0m\u001b[0;34m.\u001b[0m\u001b[0;34m\u001b[0m\u001b[0;34m\u001b[0m\u001b[0m\n\u001b[1;32m    328\u001b[0m                     format(target_id, \".\", name), value)\n",
            "\u001b[0;31mPy4JJavaError\u001b[0m: An error occurred while calling o367.showString.\n: org.apache.spark.SparkException: Job aborted due to stage failure: Task 0 in stage 56.0 failed 1 times, most recent failure: Lost task 0.0 in stage 56.0 (TID 53) (2affae7a2554 executor driver): org.apache.spark.SparkException: [FAILED_EXECUTE_UDF] Failed to execute user defined function (VectorAssembler$$Lambda$3689/0x00000008413fc840: (struct<Age:double,Fare:double>) => struct<type:tinyint,size:int,indices:array<int>,values:array<double>>).\n\tat org.apache.spark.sql.errors.QueryExecutionErrors$.failedExecuteUserDefinedFunctionError(QueryExecutionErrors.scala:217)\n\tat org.apache.spark.sql.errors.QueryExecutionErrors.failedExecuteUserDefinedFunctionError(QueryExecutionErrors.scala)\n\tat org.apache.spark.sql.catalyst.expressions.GeneratedClass$GeneratedIteratorForCodegenStage1.processNext(Unknown Source)\n\tat org.apache.spark.sql.execution.BufferedRowIterator.hasNext(BufferedRowIterator.java:43)\n\tat org.apache.spark.sql.execution.WholeStageCodegenExec$$anon$1.hasNext(WholeStageCodegenExec.scala:760)\n\tat org.apache.spark.sql.execution.SparkPlan.$anonfun$getByteArrayRdd$1(SparkPlan.scala:388)\n\tat org.apache.spark.rdd.RDD.$anonfun$mapPartitionsInternal$2(RDD.scala:888)\n\tat org.apache.spark.rdd.RDD.$anonfun$mapPartitionsInternal$2$adapted(RDD.scala:888)\n\tat org.apache.spark.rdd.MapPartitionsRDD.compute(MapPartitionsRDD.scala:52)\n\tat org.apache.spark.rdd.RDD.computeOrReadCheckpoint(RDD.scala:364)\n\tat org.apache.spark.rdd.RDD.iterator(RDD.scala:328)\n\tat org.apache.spark.scheduler.ResultTask.runTask(ResultTask.scala:92)\n\tat org.apache.spark.TaskContext.runTaskWithListeners(TaskContext.scala:161)\n\tat org.apache.spark.scheduler.Task.run(Task.scala:139)\n\tat org.apache.spark.executor.Executor$TaskRunner.$anonfun$run$3(Executor.scala:554)\n\tat org.apache.spark.util.Utils$.tryWithSafeFinally(Utils.scala:1529)\n\tat org.apache.spark.executor.Executor$TaskRunner.run(Executor.scala:557)\n\tat java.base/java.util.concurrent.ThreadPoolExecutor.runWorker(ThreadPoolExecutor.java:1128)\n\tat java.base/java.util.concurrent.ThreadPoolExecutor$Worker.run(ThreadPoolExecutor.java:628)\n\tat java.base/java.lang.Thread.run(Thread.java:829)\nCaused by: org.apache.spark.SparkException: Encountered null while assembling a row with handleInvalid = \"error\". Consider\nremoving nulls from dataset or using handleInvalid = \"keep\" or \"skip\".\n\tat org.apache.spark.ml.feature.VectorAssembler$.$anonfun$assemble$1(VectorAssembler.scala:291)\n\tat org.apache.spark.ml.feature.VectorAssembler$.$anonfun$assemble$1$adapted(VectorAssembler.scala:260)\n\tat scala.collection.IndexedSeqOptimized.foreach(IndexedSeqOptimized.scala:36)\n\tat scala.collection.IndexedSeqOptimized.foreach$(IndexedSeqOptimized.scala:33)\n\tat scala.collection.mutable.WrappedArray.foreach(WrappedArray.scala:38)\n\tat org.apache.spark.ml.feature.VectorAssembler$.assemble(VectorAssembler.scala:260)\n\tat org.apache.spark.ml.feature.VectorAssembler.$anonfun$transform$6(VectorAssembler.scala:143)\n\t... 18 more\n\nDriver stacktrace:\n\tat org.apache.spark.scheduler.DAGScheduler.failJobAndIndependentStages(DAGScheduler.scala:2785)\n\tat org.apache.spark.scheduler.DAGScheduler.$anonfun$abortStage$2(DAGScheduler.scala:2721)\n\tat org.apache.spark.scheduler.DAGScheduler.$anonfun$abortStage$2$adapted(DAGScheduler.scala:2720)\n\tat scala.collection.mutable.ResizableArray.foreach(ResizableArray.scala:62)\n\tat scala.collection.mutable.ResizableArray.foreach$(ResizableArray.scala:55)\n\tat scala.collection.mutable.ArrayBuffer.foreach(ArrayBuffer.scala:49)\n\tat org.apache.spark.scheduler.DAGScheduler.abortStage(DAGScheduler.scala:2720)\n\tat org.apache.spark.scheduler.DAGScheduler.$anonfun$handleTaskSetFailed$1(DAGScheduler.scala:1206)\n\tat org.apache.spark.scheduler.DAGScheduler.$anonfun$handleTaskSetFailed$1$adapted(DAGScheduler.scala:1206)\n\tat scala.Option.foreach(Option.scala:407)\n\tat org.apache.spark.scheduler.DAGScheduler.handleTaskSetFailed(DAGScheduler.scala:1206)\n\tat org.apache.spark.scheduler.DAGSchedulerEventProcessLoop.doOnReceive(DAGScheduler.scala:2984)\n\tat org.apache.spark.scheduler.DAGSchedulerEventProcessLoop.onReceive(DAGScheduler.scala:2923)\n\tat org.apache.spark.scheduler.DAGSchedulerEventProcessLoop.onReceive(DAGScheduler.scala:2912)\n\tat org.apache.spark.util.EventLoop$$anon$1.run(EventLoop.scala:49)\n\tat org.apache.spark.scheduler.DAGScheduler.runJob(DAGScheduler.scala:971)\n\tat org.apache.spark.SparkContext.runJob(SparkContext.scala:2263)\n\tat org.apache.spark.SparkContext.runJob(SparkContext.scala:2284)\n\tat org.apache.spark.SparkContext.runJob(SparkContext.scala:2303)\n\tat org.apache.spark.sql.execution.SparkPlan.executeTake(SparkPlan.scala:530)\n\tat org.apache.spark.sql.execution.SparkPlan.executeTake(SparkPlan.scala:483)\n\tat org.apache.spark.sql.execution.CollectLimitExec.executeCollect(limit.scala:61)\n\tat org.apache.spark.sql.Dataset.collectFromPlan(Dataset.scala:4177)\n\tat org.apache.spark.sql.Dataset.$anonfun$head$1(Dataset.scala:3161)\n\tat org.apache.spark.sql.Dataset.$anonfun$withAction$2(Dataset.scala:4167)\n\tat org.apache.spark.sql.execution.QueryExecution$.withInternalError(QueryExecution.scala:526)\n\tat org.apache.spark.sql.Dataset.$anonfun$withAction$1(Dataset.scala:4165)\n\tat org.apache.spark.sql.execution.SQLExecution$.$anonfun$withNewExecutionId$6(SQLExecution.scala:118)\n\tat org.apache.spark.sql.execution.SQLExecution$.withSQLConfPropagated(SQLExecution.scala:195)\n\tat org.apache.spark.sql.execution.SQLExecution$.$anonfun$withNewExecutionId$1(SQLExecution.scala:103)\n\tat org.apache.spark.sql.SparkSession.withActive(SparkSession.scala:827)\n\tat org.apache.spark.sql.execution.SQLExecution$.withNewExecutionId(SQLExecution.scala:65)\n\tat org.apache.spark.sql.Dataset.withAction(Dataset.scala:4165)\n\tat org.apache.spark.sql.Dataset.head(Dataset.scala:3161)\n\tat org.apache.spark.sql.Dataset.take(Dataset.scala:3382)\n\tat org.apache.spark.sql.Dataset.getRows(Dataset.scala:284)\n\tat org.apache.spark.sql.Dataset.showString(Dataset.scala:323)\n\tat jdk.internal.reflect.GeneratedMethodAccessor69.invoke(Unknown Source)\n\tat java.base/jdk.internal.reflect.DelegatingMethodAccessorImpl.invoke(DelegatingMethodAccessorImpl.java:43)\n\tat java.base/java.lang.reflect.Method.invoke(Method.java:566)\n\tat py4j.reflection.MethodInvoker.invoke(MethodInvoker.java:244)\n\tat py4j.reflection.ReflectionEngine.invoke(ReflectionEngine.java:374)\n\tat py4j.Gateway.invoke(Gateway.java:282)\n\tat py4j.commands.AbstractCommand.invokeMethod(AbstractCommand.java:132)\n\tat py4j.commands.CallCommand.execute(CallCommand.java:79)\n\tat py4j.ClientServerConnection.waitForCommands(ClientServerConnection.java:182)\n\tat py4j.ClientServerConnection.run(ClientServerConnection.java:106)\n\tat java.base/java.lang.Thread.run(Thread.java:829)\nCaused by: org.apache.spark.SparkException: [FAILED_EXECUTE_UDF] Failed to execute user defined function (VectorAssembler$$Lambda$3689/0x00000008413fc840: (struct<Age:double,Fare:double>) => struct<type:tinyint,size:int,indices:array<int>,values:array<double>>).\n\tat org.apache.spark.sql.errors.QueryExecutionErrors$.failedExecuteUserDefinedFunctionError(QueryExecutionErrors.scala:217)\n\tat org.apache.spark.sql.errors.QueryExecutionErrors.failedExecuteUserDefinedFunctionError(QueryExecutionErrors.scala)\n\tat org.apache.spark.sql.catalyst.expressions.GeneratedClass$GeneratedIteratorForCodegenStage1.processNext(Unknown Source)\n\tat org.apache.spark.sql.execution.BufferedRowIterator.hasNext(BufferedRowIterator.java:43)\n\tat org.apache.spark.sql.execution.WholeStageCodegenExec$$anon$1.hasNext(WholeStageCodegenExec.scala:760)\n\tat org.apache.spark.sql.execution.SparkPlan.$anonfun$getByteArrayRdd$1(SparkPlan.scala:388)\n\tat org.apache.spark.rdd.RDD.$anonfun$mapPartitionsInternal$2(RDD.scala:888)\n\tat org.apache.spark.rdd.RDD.$anonfun$mapPartitionsInternal$2$adapted(RDD.scala:888)\n\tat org.apache.spark.rdd.MapPartitionsRDD.compute(MapPartitionsRDD.scala:52)\n\tat org.apache.spark.rdd.RDD.computeOrReadCheckpoint(RDD.scala:364)\n\tat org.apache.spark.rdd.RDD.iterator(RDD.scala:328)\n\tat org.apache.spark.scheduler.ResultTask.runTask(ResultTask.scala:92)\n\tat org.apache.spark.TaskContext.runTaskWithListeners(TaskContext.scala:161)\n\tat org.apache.spark.scheduler.Task.run(Task.scala:139)\n\tat org.apache.spark.executor.Executor$TaskRunner.$anonfun$run$3(Executor.scala:554)\n\tat org.apache.spark.util.Utils$.tryWithSafeFinally(Utils.scala:1529)\n\tat org.apache.spark.executor.Executor$TaskRunner.run(Executor.scala:557)\n\tat java.base/java.util.concurrent.ThreadPoolExecutor.runWorker(ThreadPoolExecutor.java:1128)\n\tat java.base/java.util.concurrent.ThreadPoolExecutor$Worker.run(ThreadPoolExecutor.java:628)\n\t... 1 more\nCaused by: org.apache.spark.SparkException: Encountered null while assembling a row with handleInvalid = \"error\". Consider\nremoving nulls from dataset or using handleInvalid = \"keep\" or \"skip\".\n\tat org.apache.spark.ml.feature.VectorAssembler$.$anonfun$assemble$1(VectorAssembler.scala:291)\n\tat org.apache.spark.ml.feature.VectorAssembler$.$anonfun$assemble$1$adapted(VectorAssembler.scala:260)\n\tat scala.collection.IndexedSeqOptimized.foreach(IndexedSeqOptimized.scala:36)\n\tat scala.collection.IndexedSeqOptimized.foreach$(IndexedSeqOptimized.scala:33)\n\tat scala.collection.mutable.WrappedArray.foreach(WrappedArray.scala:38)\n\tat org.apache.spark.ml.feature.VectorAssembler$.assemble(VectorAssembler.scala:260)\n\tat org.apache.spark.ml.feature.VectorAssembler.$anonfun$transform$6(VectorAssembler.scala:143)\n\t... 18 more\n"
          ]
        }
      ]
    },
    {
      "cell_type": "markdown",
      "source": [
        "Observation:\n",
        "Above `Py4JJavaError` is due to null values present in `\"Age\"` and `\"Fare\"` Columns."
      ],
      "metadata": {
        "id": "yKIgNicblYYs"
      }
    },
    {
      "cell_type": "code",
      "source": [
        "from pyspark.ml.feature import VectorAssembler\n",
        "VectorAssemblerObj = VectorAssembler(\n",
        "                                      inputCols = [\"Survived\", \"Parch\"],\n",
        "                                     outputCol = \"Combined Features Column (Independent of input Columns)\"\n",
        "                                    )\n",
        "\n",
        "output_df = VectorAssemblerObj.transform(df_pyspark)\n",
        "output_df.show()"
      ],
      "metadata": {
        "colab": {
          "base_uri": "https://localhost:8080/"
        },
        "id": "dQH1ZG_egTBj",
        "outputId": "61be02a7-94e2-4519-d68a-8b3d76a282a0"
      },
      "execution_count": null,
      "outputs": [
        {
          "output_type": "stream",
          "name": "stdout",
          "text": [
            "+-----------+--------+------+--------------------+------+----+-----+-----+----------------+-------+-----+--------+-------------------------------------------------------+\n",
            "|PassengerId|Survived|Pclass|                Name|   Sex| Age|SibSp|Parch|          Ticket|   Fare|Cabin|Embarked|Combined Features Column (Independent of input Columns)|\n",
            "+-----------+--------+------+--------------------+------+----+-----+-----+----------------+-------+-----+--------+-------------------------------------------------------+\n",
            "|          1|       0|     3|Braund, Mr. Owen ...|  male|22.0|    1|    0|       A/5 21171|   7.25| null|       S|                                              (2,[],[])|\n",
            "|          2|       1|     1|Cumings, Mrs. Joh...|female|38.0|    1|    0|        PC 17599|71.2833|  C85|       C|                                              [1.0,0.0]|\n",
            "|          3|       1|     3|Heikkinen, Miss. ...|female|26.0|    0|    0|STON/O2. 3101282|  7.925| null|       S|                                              [1.0,0.0]|\n",
            "|          4|       1|     1|Futrelle, Mrs. Ja...|female|35.0|    1|    0|          113803|   53.1| C123|       S|                                              [1.0,0.0]|\n",
            "|          5|       0|     3|Allen, Mr. Willia...|  male|35.0|    0|    0|          373450|   8.05| null|       S|                                              (2,[],[])|\n",
            "|          6|       0|     3|    Moran, Mr. James|  male|null|    0|    0|          330877| 8.4583| null|       Q|                                              (2,[],[])|\n",
            "|          7|       0|     1|McCarthy, Mr. Tim...|  male|54.0|    0|    0|           17463|51.8625|  E46|       S|                                              (2,[],[])|\n",
            "|          8|       0|     3|Palsson, Master. ...|  male| 2.0|    3|    1|          349909| 21.075| null|       S|                                              [0.0,1.0]|\n",
            "|          9|       1|     3|Johnson, Mrs. Osc...|female|27.0|    0|    2|          347742|11.1333| null|       S|                                              [1.0,2.0]|\n",
            "|         10|       1|     2|Nasser, Mrs. Nich...|female|14.0|    1|    0|          237736|30.0708| null|       C|                                              [1.0,0.0]|\n",
            "|         11|       1|     3|Sandstrom, Miss. ...|female| 4.0|    1|    1|         PP 9549|   16.7|   G6|       S|                                              [1.0,1.0]|\n",
            "|         12|       1|     1|Bonnell, Miss. El...|female|58.0|    0|    0|          113783|  26.55| C103|       S|                                              [1.0,0.0]|\n",
            "|         13|       0|     3|Saundercock, Mr. ...|  male|20.0|    0|    0|       A/5. 2151|   8.05| null|       S|                                              (2,[],[])|\n",
            "|         14|       0|     3|Andersson, Mr. An...|  male|39.0|    1|    5|          347082| 31.275| null|       S|                                              [0.0,5.0]|\n",
            "|         15|       0|     3|Vestrom, Miss. Hu...|female|14.0|    0|    0|          350406| 7.8542| null|       S|                                              (2,[],[])|\n",
            "|         16|       1|     2|Hewlett, Mrs. (Ma...|female|55.0|    0|    0|          248706|   16.0| null|       S|                                              [1.0,0.0]|\n",
            "|         17|       0|     3|Rice, Master. Eugene|  male| 2.0|    4|    1|          382652| 29.125| null|       Q|                                              [0.0,1.0]|\n",
            "|         18|       1|     2|Williams, Mr. Cha...|  male|null|    0|    0|          244373|   13.0| null|       S|                                              [1.0,0.0]|\n",
            "|         19|       0|     3|Vander Planke, Mr...|female|31.0|    1|    0|          345763|   18.0| null|       S|                                              (2,[],[])|\n",
            "|         20|       1|     3|Masselmani, Mrs. ...|female|null|    0|    0|            2649|  7.225| null|       C|                                              [1.0,0.0]|\n",
            "+-----------+--------+------+--------------------+------+----+-----+-----+----------------+-------+-----+--------+-------------------------------------------------------+\n",
            "only showing top 20 rows\n",
            "\n"
          ]
        }
      ]
    },
    {
      "cell_type": "markdown",
      "source": [
        "`continue from 1:10:00`"
      ],
      "metadata": {
        "id": "EKeNm73bmVY1"
      }
    },
    {
      "cell_type": "markdown",
      "source": [
        "### Linear Regression"
      ],
      "metadata": {
        "id": "xTReXkXtnF8x"
      }
    },
    {
      "cell_type": "code",
      "source": [
        "df_pyspark_forRegression = output_df.select([\"Combined Features Column (Independent of input Columns)\",\"PassengerId\"])\n",
        "df_pyspark_forRegression.show()"
      ],
      "metadata": {
        "colab": {
          "base_uri": "https://localhost:8080/"
        },
        "id": "bYnr0mDHlq3t",
        "outputId": "9f856029-2762-4da2-c97b-83a2949be004"
      },
      "execution_count": null,
      "outputs": [
        {
          "output_type": "stream",
          "name": "stdout",
          "text": [
            "+-------------------------------------------------------+-----------+\n",
            "|Combined Features Column (Independent of input Columns)|PassengerId|\n",
            "+-------------------------------------------------------+-----------+\n",
            "|                                              (2,[],[])|          1|\n",
            "|                                              [1.0,0.0]|          2|\n",
            "|                                              [1.0,0.0]|          3|\n",
            "|                                              [1.0,0.0]|          4|\n",
            "|                                              (2,[],[])|          5|\n",
            "|                                              (2,[],[])|          6|\n",
            "|                                              (2,[],[])|          7|\n",
            "|                                              [0.0,1.0]|          8|\n",
            "|                                              [1.0,2.0]|          9|\n",
            "|                                              [1.0,0.0]|         10|\n",
            "|                                              [1.0,1.0]|         11|\n",
            "|                                              [1.0,0.0]|         12|\n",
            "|                                              (2,[],[])|         13|\n",
            "|                                              [0.0,5.0]|         14|\n",
            "|                                              (2,[],[])|         15|\n",
            "|                                              [1.0,0.0]|         16|\n",
            "|                                              [0.0,1.0]|         17|\n",
            "|                                              [1.0,0.0]|         18|\n",
            "|                                              (2,[],[])|         19|\n",
            "|                                              [1.0,0.0]|         20|\n",
            "+-------------------------------------------------------+-----------+\n",
            "only showing top 20 rows\n",
            "\n"
          ]
        }
      ]
    },
    {
      "cell_type": "code",
      "source": [
        "from pyspark.ml.regression import LinearRegression\n",
        "\n",
        "train_data, test_data = df_pyspark_forRegression.randomSplit([0.75, 0.25])   # 75% data to train, while 25% data to test\n",
        "regressor = LinearRegression(\n",
        "                              featuresCol=\"Combined Features Column (Independent of input Columns)\",\n",
        "                             labelCol= \"PassengerId\"\n",
        "                            )\n",
        "regressorTrainedModel = regressor.fit(train_data)  "
      ],
      "metadata": {
        "id": "lgNn8ymynpCw"
      },
      "execution_count": null,
      "outputs": []
    },
    {
      "cell_type": "code",
      "source": [
        "regressorTrainedModel.coefficients"
      ],
      "metadata": {
        "colab": {
          "base_uri": "https://localhost:8080/"
        },
        "id": "pXU5E0GMop7q",
        "outputId": "a5a0422a-1239-45c6-dd96-1173d23b4d19"
      },
      "execution_count": null,
      "outputs": [
        {
          "output_type": "execute_result",
          "data": {
            "text/plain": [
              "DenseVector([-13.9653, 0.3407])"
            ]
          },
          "metadata": {},
          "execution_count": 105
        }
      ]
    },
    {
      "cell_type": "code",
      "source": [
        "regressorTrainedModel.intercept"
      ],
      "metadata": {
        "colab": {
          "base_uri": "https://localhost:8080/"
        },
        "id": "nKFSLe9OpLJX",
        "outputId": "5db172d5-6831-454a-dcbb-9742f77fd7c6"
      },
      "execution_count": null,
      "outputs": [
        {
          "output_type": "execute_result",
          "data": {
            "text/plain": [
              "452.4695744717373"
            ]
          },
          "metadata": {},
          "execution_count": 106
        }
      ]
    },
    {
      "cell_type": "markdown",
      "source": [
        "#### Using trained model to predict on test data\n",
        "use `.evaluate(test_data)`"
      ],
      "metadata": {
        "id": "5Wvr7sSXqeiZ"
      }
    },
    {
      "cell_type": "code",
      "source": [
        "predicted_results = regressorTrainedModel.evaluate(test_data)\n",
        "predicted_results.predictions.show()"
      ],
      "metadata": {
        "colab": {
          "base_uri": "https://localhost:8080/"
        },
        "id": "vUetjCGiqYFc",
        "outputId": "e692d68b-8985-4c2c-d82f-89b54ef611c3"
      },
      "execution_count": null,
      "outputs": [
        {
          "output_type": "stream",
          "name": "stdout",
          "text": [
            "+-------------------------------------------------------+-----------+-----------------+\n",
            "|Combined Features Column (Independent of input Columns)|PassengerId|       prediction|\n",
            "+-------------------------------------------------------+-----------+-----------------+\n",
            "|                                              (2,[],[])|          1|452.4695744717373|\n",
            "|                                              (2,[],[])|          6|452.4695744717373|\n",
            "|                                              (2,[],[])|         34|452.4695744717373|\n",
            "|                                              (2,[],[])|         35|452.4695744717373|\n",
            "|                                              (2,[],[])|         36|452.4695744717373|\n",
            "|                                              (2,[],[])|         46|452.4695744717373|\n",
            "|                                              (2,[],[])|         52|452.4695744717373|\n",
            "|                                              (2,[],[])|         58|452.4695744717373|\n",
            "|                                              (2,[],[])|         63|452.4695744717373|\n",
            "|                                              (2,[],[])|         68|452.4695744717373|\n",
            "|                                              (2,[],[])|         70|452.4695744717373|\n",
            "|                                              (2,[],[])|         71|452.4695744717373|\n",
            "|                                              (2,[],[])|         73|452.4695744717373|\n",
            "|                                              (2,[],[])|         74|452.4695744717373|\n",
            "|                                              (2,[],[])|         76|452.4695744717373|\n",
            "|                                              (2,[],[])|         96|452.4695744717373|\n",
            "|                                              (2,[],[])|        109|452.4695744717373|\n",
            "|                                              (2,[],[])|        111|452.4695744717373|\n",
            "|                                              (2,[],[])|        114|452.4695744717373|\n",
            "|                                              (2,[],[])|        115|452.4695744717373|\n",
            "+-------------------------------------------------------+-----------+-----------------+\n",
            "only showing top 20 rows\n",
            "\n"
          ]
        }
      ]
    },
    {
      "cell_type": "code",
      "source": [
        "predicted_results.meanAbsoluteError, predicted_results.meanSquaredError"
      ],
      "metadata": {
        "colab": {
          "base_uri": "https://localhost:8080/"
        },
        "id": "S5yktUpLqzrA",
        "outputId": "54725524-1adb-4e3f-dd87-f4f941ccc053"
      },
      "execution_count": null,
      "outputs": [
        {
          "output_type": "execute_result",
          "data": {
            "text/plain": [
              "(227.24349859626446, 67449.12658655229)"
            ]
          },
          "metadata": {},
          "execution_count": 110
        }
      ]
    },
    {
      "cell_type": "markdown",
      "source": [
        "## Using DataBricks\n",
        "`continue from 1:12:00`\n",
        "Helps with working on Big Data using cloud platforms\n",
        "\n",
        "Go to https://databricks.com/try-databricks to get started for free (Community Version)"
      ],
      "metadata": {
        "id": "PtCFursdrX6K"
      }
    },
    {
      "cell_type": "markdown",
      "source": [
        "`continue from 1:15:30`"
      ],
      "metadata": {
        "id": "qQhlSaPcsciE"
      }
    },
    {
      "cell_type": "code",
      "source": [],
      "metadata": {
        "id": "c2tGkp52rU0p"
      },
      "execution_count": null,
      "outputs": []
    }
  ],
  "metadata": {
    "colab": {
      "provenance": []
    },
    "kernelspec": {
      "display_name": "Python 3",
      "name": "python3"
    },
    "language_info": {
      "name": "python"
    }
  },
  "nbformat": 4,
  "nbformat_minor": 0
}