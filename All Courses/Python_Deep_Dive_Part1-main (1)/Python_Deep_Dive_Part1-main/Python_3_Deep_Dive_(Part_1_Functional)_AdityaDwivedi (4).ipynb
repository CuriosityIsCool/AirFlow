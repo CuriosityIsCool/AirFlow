{
  "nbformat": 4,
  "nbformat_minor": 0,
  "metadata": {
    "colab": {
      "provenance": []
    },
    "kernelspec": {
      "name": "python3",
      "display_name": "Python 3"
    },
    "language_info": {
      "name": "python"
    }
  },
  "cells": [
    {
      "cell_type": "markdown",
      "source": [
        "18. Garbage Collection"
      ],
      "metadata": {
        "id": "7yE4lNYb2uCC"
      }
    },
    {
      "cell_type": "code",
      "execution_count": null,
      "metadata": {
        "id": "6Nzn0oXf2Z4M"
      },
      "outputs": [],
      "source": [
        "import ctypes\n",
        "import gc\n",
        "gc.disable()"
      ]
    },
    {
      "cell_type": "code",
      "source": [
        "class A:\n",
        "    def __init__(self):\n",
        "        self.b = B(self)\n",
        "        print('A: self: {0}, b:{1}'.format(hex(id(self)), hex(id(self.b))))\n",
        "class B:\n",
        "    def __init__(self, a):\n",
        "        self.a = a\n",
        "        print('B: self: {0}, a: {1}'.format(hex(id(self)), hex(id(self.a))))"
      ],
      "metadata": {
        "id": "4c00zoKr2smB"
      },
      "execution_count": null,
      "outputs": []
    },
    {
      "cell_type": "code",
      "source": [
        "my_var = A()"
      ],
      "metadata": {
        "colab": {
          "base_uri": "https://localhost:8080/"
        },
        "id": "GRXO3ywi2-xX",
        "outputId": "ded48811-8696-4387-8202-49395d27c466"
      },
      "execution_count": null,
      "outputs": [
        {
          "output_type": "stream",
          "name": "stdout",
          "text": [
            "B: self: 0x7eff52dfda90, a: 0x7eff52dfd850\n",
            "A: self: 0x7eff52dfd850, b:0x7eff52dfda90\n"
          ]
        }
      ]
    },
    {
      "cell_type": "markdown",
      "source": [
        "Here we have succesfully created a circular reference."
      ],
      "metadata": {
        "id": "bjJNWqE93JnS"
      }
    },
    {
      "cell_type": "code",
      "source": [
        "def reference_count(address):\n",
        "    return ctypes.c_long.from_address(address).value"
      ],
      "metadata": {
        "id": "v98F346_3JKQ"
      },
      "execution_count": null,
      "outputs": []
    },
    {
      "cell_type": "code",
      "source": [
        "a_id = id(my_var)\n",
        "b_id = id(my_var.b)\n",
        "print('refcount(a) = {0}'.format(reference_count(a_id)))\n",
        "print('refcount(b) = {0}'.format(reference_count(b_id)))"
      ],
      "metadata": {
        "colab": {
          "base_uri": "https://localhost:8080/"
        },
        "id": "-0WdSyzb4S0d",
        "outputId": "16b3d665-9651-41c0-9e0c-025e09f27e48"
      },
      "execution_count": null,
      "outputs": [
        {
          "output_type": "stream",
          "name": "stdout",
          "text": [
            "refcount(a) = 3\n",
            "refcount(b) = 1\n"
          ]
        }
      ]
    },
    {
      "cell_type": "markdown",
      "source": [
        "Relative and Absolute Tolerances"
      ],
      "metadata": {
        "id": "Tkf4mv_ALM67"
      }
    },
    {
      "cell_type": "code",
      "source": [
        "from math import isclose\n",
        "\n",
        "x = 0.0000001 \n",
        "y = 0.0000002 \n",
        " \n",
        "a = 123456789.01 \n",
        "b = 123456789.02 \n",
        " \n",
        "print('x = y:', isclose(x, y, abs_tol=0.0001, rel_tol=0.01)) \n",
        "print('a = b:', isclose(a, b, abs_tol=0.0001, rel_tol=0.01))"
      ],
      "metadata": {
        "colab": {
          "base_uri": "https://localhost:8080/"
        },
        "id": "jv5AuPSrL4mK",
        "outputId": "b9845084-b5f2-4364-c294-25c22b8e08c1"
      },
      "execution_count": null,
      "outputs": [
        {
          "output_type": "stream",
          "name": "stdout",
          "text": [
            "x = y: True\n",
            "a = b: True\n"
          ]
        }
      ]
    },
    {
      "cell_type": "markdown",
      "source": [
        "Copysign"
      ],
      "metadata": {
        "id": "LQEbX-BDtXmn"
      }
    },
    {
      "cell_type": "code",
      "source": [
        "from math import copysign\n",
        "copysign(1,20)"
      ],
      "metadata": {
        "colab": {
          "base_uri": "https://localhost:8080/"
        },
        "id": "Ij_ByIGOtZtt",
        "outputId": "55296263-a774-4736-93da-65138c7a7a37"
      },
      "execution_count": null,
      "outputs": [
        {
          "output_type": "execute_result",
          "data": {
            "text/plain": [
              "1.0"
            ]
          },
          "metadata": {},
          "execution_count": 2
        }
      ]
    },
    {
      "cell_type": "markdown",
      "source": [
        "Decimal Precision\n"
      ],
      "metadata": {
        "id": "iMXT2Ij9Cd7l"
      }
    },
    {
      "cell_type": "code",
      "source": [
        "import decimal\n",
        "from decimal import Decimal\n",
        "\n",
        "with decimal.localcontext() as ctx:\n",
        "    print(ctx.prec)\n",
        "    x= Decimal(21.222222222222*215445.546466)/Decimal(21.222222222222)\n",
        "    print(x)\n",
        "\n",
        "    ctx.prec = 3\n",
        "    print(ctx.prec)\n",
        "    y= Decimal(21.222222222222*215445.546466)/Decimal(21.222222222222)\n",
        "    print(y)\n",
        "\n"
      ],
      "metadata": {
        "colab": {
          "base_uri": "https://localhost:8080/"
        },
        "id": "j8YSir5uCgcu",
        "outputId": "df509d10-1bcb-43e6-be07-43330695e6e7"
      },
      "execution_count": null,
      "outputs": [
        {
          "output_type": "stream",
          "name": "stdout",
          "text": [
            "28\n",
            "215445.5464660000184821048662\n",
            "3\n",
            "2.15E+5\n"
          ]
        }
      ]
    },
    {
      "cell_type": "code",
      "source": [
        "x= format(21.222222222222,'.40f')\n",
        "print(x)"
      ],
      "metadata": {
        "colab": {
          "base_uri": "https://localhost:8080/"
        },
        "id": "U4NSq-r0FmvL",
        "outputId": "3d2cabae-0d27-449d-fe39-cb7c58c09306"
      },
      "execution_count": null,
      "outputs": [
        {
          "output_type": "stream",
          "name": "stdout",
          "text": [
            "21.22222222222200116448220796883106231689453125000000\n"
          ]
        }
      ]
    },
    {
      "cell_type": "code",
      "source": [
        "help(decimal.localcontext().prec)"
      ],
      "metadata": {
        "colab": {
          "base_uri": "https://localhost:8080/",
          "height": 167
        },
        "id": "kKiHfhiDDhI5",
        "outputId": "f9caed0e-c27d-445d-c1cf-486645c804fe"
      },
      "execution_count": null,
      "outputs": [
        {
          "output_type": "error",
          "ename": "AttributeError",
          "evalue": "ignored",
          "traceback": [
            "\u001b[0;31m---------------------------------------------------------------------------\u001b[0m",
            "\u001b[0;31mAttributeError\u001b[0m                            Traceback (most recent call last)",
            "\u001b[0;32m<ipython-input-21-e51a3bb31307>\u001b[0m in \u001b[0;36m<module>\u001b[0;34m\u001b[0m\n\u001b[0;32m----> 1\u001b[0;31m \u001b[0mhelp\u001b[0m\u001b[0;34m(\u001b[0m\u001b[0mdecimal\u001b[0m\u001b[0;34m.\u001b[0m\u001b[0mlocalcontext\u001b[0m\u001b[0;34m(\u001b[0m\u001b[0;34m)\u001b[0m\u001b[0;34m.\u001b[0m\u001b[0mprec\u001b[0m\u001b[0;34m)\u001b[0m\u001b[0;34m\u001b[0m\u001b[0;34m\u001b[0m\u001b[0m\n\u001b[0m",
            "\u001b[0;31mAttributeError\u001b[0m: 'decimal.ContextManager' object has no attribute 'prec'"
          ]
        }
      ]
    },
    {
      "cell_type": "markdown",
      "source": [
        "kwargs (putting it all together)"
      ],
      "metadata": {
        "id": "Fz4DJzBXG1ry"
      }
    },
    {
      "cell_type": "code",
      "source": [
        "def func(a, b=4, *args, c, d=4, **kwargs):\n",
        "    print(a, b, args, c, d, kwargs)\n",
        "func(1, 2, 'x', 'y', 'z', c=3, d=5, x=100, y=200, z=300, b=5)"
      ],
      "metadata": {
        "colab": {
          "base_uri": "https://localhost:8080/",
          "height": 202
        },
        "id": "R4hFr8prG7GB",
        "outputId": "d36df13c-195d-49f6-ecd3-855d33bfe3cc"
      },
      "execution_count": null,
      "outputs": [
        {
          "output_type": "error",
          "ename": "TypeError",
          "evalue": "ignored",
          "traceback": [
            "\u001b[0;31m---------------------------------------------------------------------------\u001b[0m",
            "\u001b[0;31mTypeError\u001b[0m                                 Traceback (most recent call last)",
            "\u001b[0;32m<ipython-input-5-01fdd78aed0f>\u001b[0m in \u001b[0;36m<module>\u001b[0;34m\u001b[0m\n\u001b[1;32m      1\u001b[0m \u001b[0;32mdef\u001b[0m \u001b[0mfunc\u001b[0m\u001b[0;34m(\u001b[0m\u001b[0ma\u001b[0m\u001b[0;34m,\u001b[0m \u001b[0mb\u001b[0m\u001b[0;34m=\u001b[0m\u001b[0;36m4\u001b[0m\u001b[0;34m,\u001b[0m \u001b[0;34m*\u001b[0m\u001b[0margs\u001b[0m\u001b[0;34m,\u001b[0m \u001b[0mc\u001b[0m\u001b[0;34m,\u001b[0m \u001b[0md\u001b[0m\u001b[0;34m=\u001b[0m\u001b[0;36m4\u001b[0m\u001b[0;34m,\u001b[0m \u001b[0;34m**\u001b[0m\u001b[0mkwargs\u001b[0m\u001b[0;34m)\u001b[0m\u001b[0;34m:\u001b[0m\u001b[0;34m\u001b[0m\u001b[0;34m\u001b[0m\u001b[0m\n\u001b[1;32m      2\u001b[0m     \u001b[0mprint\u001b[0m\u001b[0;34m(\u001b[0m\u001b[0ma\u001b[0m\u001b[0;34m,\u001b[0m \u001b[0mb\u001b[0m\u001b[0;34m,\u001b[0m \u001b[0margs\u001b[0m\u001b[0;34m,\u001b[0m \u001b[0mc\u001b[0m\u001b[0;34m,\u001b[0m \u001b[0md\u001b[0m\u001b[0;34m,\u001b[0m \u001b[0mkwargs\u001b[0m\u001b[0;34m)\u001b[0m\u001b[0;34m\u001b[0m\u001b[0;34m\u001b[0m\u001b[0m\n\u001b[0;32m----> 3\u001b[0;31m \u001b[0mfunc\u001b[0m\u001b[0;34m(\u001b[0m\u001b[0;36m1\u001b[0m\u001b[0;34m,\u001b[0m \u001b[0;36m2\u001b[0m\u001b[0;34m,\u001b[0m \u001b[0;34m'x'\u001b[0m\u001b[0;34m,\u001b[0m \u001b[0;34m'y'\u001b[0m\u001b[0;34m,\u001b[0m \u001b[0;34m'z'\u001b[0m\u001b[0;34m,\u001b[0m \u001b[0mc\u001b[0m\u001b[0;34m=\u001b[0m\u001b[0;36m3\u001b[0m\u001b[0;34m,\u001b[0m \u001b[0md\u001b[0m\u001b[0;34m=\u001b[0m\u001b[0;36m5\u001b[0m\u001b[0;34m,\u001b[0m \u001b[0mx\u001b[0m\u001b[0;34m=\u001b[0m\u001b[0;36m100\u001b[0m\u001b[0;34m,\u001b[0m \u001b[0my\u001b[0m\u001b[0;34m=\u001b[0m\u001b[0;36m200\u001b[0m\u001b[0;34m,\u001b[0m \u001b[0mz\u001b[0m\u001b[0;34m=\u001b[0m\u001b[0;36m300\u001b[0m\u001b[0;34m,\u001b[0m \u001b[0mb\u001b[0m\u001b[0;34m=\u001b[0m\u001b[0;36m5\u001b[0m\u001b[0;34m)\u001b[0m\u001b[0;34m\u001b[0m\u001b[0;34m\u001b[0m\u001b[0m\n\u001b[0m",
            "\u001b[0;31mTypeError\u001b[0m: func() got multiple values for argument 'b'"
          ]
        }
      ]
    },
    {
      "cell_type": "markdown",
      "source": [
        "Flush in print"
      ],
      "metadata": {
        "id": "0EbT4aG_JZCl"
      }
    },
    {
      "cell_type": "code",
      "source": [
        "help(print)"
      ],
      "metadata": {
        "colab": {
          "base_uri": "https://localhost:8080/"
        },
        "id": "6dgGF1BWJbhI",
        "outputId": "7c20f3b3-724e-4111-ceba-12d8edb87654"
      },
      "execution_count": null,
      "outputs": [
        {
          "output_type": "stream",
          "name": "stdout",
          "text": [
            "Help on built-in function print in module builtins:\n",
            "\n",
            "print(...)\n",
            "    print(value, ..., sep=' ', end='\\n', file=sys.stdout, flush=False)\n",
            "    \n",
            "    Prints the values to a stream, or to sys.stdout by default.\n",
            "    Optional keyword arguments:\n",
            "    file:  a file-like object (stream); defaults to the current sys.stdout.\n",
            "    sep:   string inserted between values, default a space.\n",
            "    end:   string appended after the last value, default a newline.\n",
            "    flush: whether to forcibly flush the stream.\n",
            "\n"
          ]
        }
      ]
    },
    {
      "cell_type": "code",
      "source": [
        "a=2\n",
        "print(a, flush = True)\n",
        "b=4\n",
        "print(b, flush = True)"
      ],
      "metadata": {
        "colab": {
          "base_uri": "https://localhost:8080/"
        },
        "id": "WNi-i_CXJg_0",
        "outputId": "b65786b5-9cf0-4245-9bd9-5314c0d460dd"
      },
      "execution_count": null,
      "outputs": [
        {
          "output_type": "stream",
          "name": "stdout",
          "text": [
            "2\n",
            "4\n"
          ]
        }
      ]
    },
    {
      "cell_type": "markdown",
      "source": [
        "Annotations are evaluated only once during the creation of the function"
      ],
      "metadata": {
        "id": "DIN7VZNvLIj8"
      }
    },
    {
      "cell_type": "code",
      "source": [
        "x = 3\n",
        "y = 5\n",
        "def my_func(a: str) -> 'a repeated ' + str(max(x, y)) + ' times':\n",
        "\treturn a*max(x, y)"
      ],
      "metadata": {
        "id": "IQ0qzhcfLXG_"
      },
      "execution_count": null,
      "outputs": []
    },
    {
      "cell_type": "code",
      "source": [
        "x=24\n",
        "print(my_func(\"Aditya\"))"
      ],
      "metadata": {
        "colab": {
          "base_uri": "https://localhost:8080/"
        },
        "id": "Nc0p-TPJLmJe",
        "outputId": "c2dd7f86-559b-4c7c-e163-9ebdd0003e1e"
      },
      "execution_count": null,
      "outputs": [
        {
          "output_type": "stream",
          "name": "stdout",
          "text": [
            "AdityaAdityaAdityaAdityaAdityaAdityaAdityaAdityaAdityaAdityaAdityaAdityaAdityaAdityaAdityaAdityaAdityaAdityaAdityaAdityaAdityaAdityaAdityaAditya\n"
          ]
        }
      ]
    },
    {
      "cell_type": "code",
      "source": [
        "help(my_func) # note annotation still contains 5 not 24, this denotes that annotations are executed during creation and not during calling"
      ],
      "metadata": {
        "colab": {
          "base_uri": "https://localhost:8080/"
        },
        "id": "Tg5JbLeDL0Jd",
        "outputId": "f3ce2927-1f2e-4f9f-debc-3f22b1d15595"
      },
      "execution_count": null,
      "outputs": [
        {
          "output_type": "stream",
          "name": "stdout",
          "text": [
            "Help on function my_func in module __main__:\n",
            "\n",
            "my_func(a: str) -> 'a repeated 5 times'\n",
            "\n"
          ]
        }
      ]
    },
    {
      "cell_type": "markdown",
      "source": [
        "Decorators"
      ],
      "metadata": {
        "id": "ZK_de-DW7n5O"
      }
    },
    {
      "cell_type": "code",
      "source": [
        "from functools import wraps, partial\n",
        "help(wraps)"
      ],
      "metadata": {
        "colab": {
          "base_uri": "https://localhost:8080/"
        },
        "id": "-CiuT2DQ7rch",
        "outputId": "91285a2b-d2a0-4ade-a96b-1993d7ca1f11"
      },
      "execution_count": null,
      "outputs": [
        {
          "output_type": "stream",
          "name": "stdout",
          "text": [
            "Help on function wraps in module functools:\n",
            "\n",
            "wraps(wrapped, assigned=('__module__', '__name__', '__qualname__', '__doc__', '__annotations__'), updated=('__dict__',))\n",
            "    Decorator factory to apply update_wrapper() to a wrapper function\n",
            "    \n",
            "    Returns a decorator that invokes update_wrapper() with the decorated\n",
            "    function as the wrapper argument and the arguments to wraps() as the\n",
            "    remaining arguments. Default arguments are as for update_wrapper().\n",
            "    This is a convenience function to simplify applying partial() to\n",
            "    update_wrapper().\n",
            "\n"
          ]
        }
      ]
    },
    {
      "cell_type": "code",
      "source": [
        "from inspect import *\n",
        "print(inspect.getsource(wraps))"
      ],
      "metadata": {
        "colab": {
          "base_uri": "https://localhost:8080/"
        },
        "id": "VMvALEd38nxy",
        "outputId": "3ee472d7-1e19-4679-c7a3-67d3257e8e30"
      },
      "execution_count": null,
      "outputs": [
        {
          "output_type": "stream",
          "name": "stdout",
          "text": [
            "def wraps(wrapped,\n",
            "          assigned = WRAPPER_ASSIGNMENTS,\n",
            "          updated = WRAPPER_UPDATES):\n",
            "    \"\"\"Decorator factory to apply update_wrapper() to a wrapper function\n",
            "\n",
            "       Returns a decorator that invokes update_wrapper() with the decorated\n",
            "       function as the wrapper argument and the arguments to wraps() as the\n",
            "       remaining arguments. Default arguments are as for update_wrapper().\n",
            "       This is a convenience function to simplify applying partial() to\n",
            "       update_wrapper().\n",
            "    \"\"\"\n",
            "    return partial(update_wrapper, wrapped=wrapped,\n",
            "                   assigned=assigned, updated=updated)\n",
            "\n"
          ]
        }
      ]
    },
    {
      "cell_type": "code",
      "source": [
        "print(getsource(partial))"
      ],
      "metadata": {
        "colab": {
          "base_uri": "https://localhost:8080/"
        },
        "id": "4vVcVxm385Ct",
        "outputId": "21d52517-58e2-41f7-9d5d-68e5e46e244b"
      },
      "execution_count": null,
      "outputs": [
        {
          "output_type": "stream",
          "name": "stdout",
          "text": [
            "class partial:\n",
            "    \"\"\"New function with partial application of the given arguments\n",
            "    and keywords.\n",
            "    \"\"\"\n",
            "\n",
            "    __slots__ = \"func\", \"args\", \"keywords\", \"__dict__\", \"__weakref__\"\n",
            "\n",
            "    def __new__(cls, func, /, *args, **keywords):\n",
            "        if not callable(func):\n",
            "            raise TypeError(\"the first argument must be callable\")\n",
            "\n",
            "        if hasattr(func, \"func\"):\n",
            "            args = func.args + args\n",
            "            keywords = {**func.keywords, **keywords}\n",
            "            func = func.func\n",
            "\n",
            "        self = super(partial, cls).__new__(cls)\n",
            "\n",
            "        self.func = func\n",
            "        self.args = args\n",
            "        self.keywords = keywords\n",
            "        return self\n",
            "\n",
            "    def __call__(self, /, *args, **keywords):\n",
            "        keywords = {**self.keywords, **keywords}\n",
            "        return self.func(*self.args, *args, **keywords)\n",
            "\n",
            "    @recursive_repr()\n",
            "    def __repr__(self):\n",
            "        qualname = type(self).__qualname__\n",
            "        args = [repr(self.func)]\n",
            "        args.extend(repr(x) for x in self.args)\n",
            "        args.extend(f\"{k}={v!r}\" for (k, v) in self.keywords.items())\n",
            "        if type(self).__module__ == \"functools\":\n",
            "            return f\"functools.{qualname}({', '.join(args)})\"\n",
            "        return f\"{qualname}({', '.join(args)})\"\n",
            "\n",
            "    def __reduce__(self):\n",
            "        return type(self), (self.func,), (self.func, self.args,\n",
            "               self.keywords or None, self.__dict__ or None)\n",
            "\n",
            "    def __setstate__(self, state):\n",
            "        if not isinstance(state, tuple):\n",
            "            raise TypeError(\"argument to __setstate__ must be a tuple\")\n",
            "        if len(state) != 4:\n",
            "            raise TypeError(f\"expected 4 items in state, got {len(state)}\")\n",
            "        func, args, kwds, namespace = state\n",
            "        if (not callable(func) or not isinstance(args, tuple) or\n",
            "           (kwds is not None and not isinstance(kwds, dict)) or\n",
            "           (namespace is not None and not isinstance(namespace, dict))):\n",
            "            raise TypeError(\"invalid partial state\")\n",
            "\n",
            "        args = tuple(args) # just in case it's a subclass\n",
            "        if kwds is None:\n",
            "            kwds = {}\n",
            "        elif type(kwds) is not dict: # XXX does it need to be *exactly* dict?\n",
            "            kwds = dict(kwds)\n",
            "        if namespace is None:\n",
            "            namespace = {}\n",
            "\n",
            "        self.__dict__ = namespace\n",
            "        self.func = func\n",
            "        self.args = args\n",
            "        self.keywords = kwds\n",
            "\n"
          ]
        }
      ]
    },
    {
      "cell_type": "markdown",
      "source": [
        "## Modules"
      ],
      "metadata": {
        "id": "h7BiCNQrdtLE"
      }
    },
    {
      "cell_type": "markdown",
      "source": [
        "### Global tells us all the stuff in the namespace."
      ],
      "metadata": {
        "id": "iEQP12WxcRy7"
      }
    },
    {
      "cell_type": "code",
      "source": [
        "globals()\n",
        "# We can call functions from globals using globals().[\"func\"]()"
      ],
      "metadata": {
        "colab": {
          "base_uri": "https://localhost:8080/"
        },
        "id": "MFq8_DJacEwc",
        "outputId": "fa2b04d7-d006-47ff-c70f-6ccdb793b95b"
      },
      "execution_count": null,
      "outputs": [
        {
          "output_type": "execute_result",
          "data": {
            "text/plain": [
              "{'__name__': '__main__',\n",
              " '__doc__': 'Automatically created module for IPython interactive environment',\n",
              " '__package__': None,\n",
              " '__loader__': None,\n",
              " '__spec__': None,\n",
              " '__builtin__': <module 'builtins' (built-in)>,\n",
              " '__builtins__': <module 'builtins' (built-in)>,\n",
              " '_ih': ['', 'globals()'],\n",
              " '_oh': {},\n",
              " '_dh': ['/content'],\n",
              " 'In': ['', 'globals()'],\n",
              " 'Out': {},\n",
              " 'get_ipython': <bound method InteractiveShell.get_ipython of <google.colab._shell.Shell object at 0x7f55744fca90>>,\n",
              " 'exit': <IPython.core.autocall.ZMQExitAutocall at 0x7f5571467a90>,\n",
              " 'quit': <IPython.core.autocall.ZMQExitAutocall at 0x7f5571467a90>,\n",
              " '_': '',\n",
              " '__': '',\n",
              " '___': '',\n",
              " '_i': '',\n",
              " '_ii': '',\n",
              " '_iii': '',\n",
              " '_i1': 'globals()'}"
            ]
          },
          "metadata": {},
          "execution_count": 1
        }
      ]
    },
    {
      "cell_type": "code",
      "source": [
        "# Similarly locals is also returns a dict\n",
        "locals()"
      ],
      "metadata": {
        "colab": {
          "base_uri": "https://localhost:8080/"
        },
        "id": "xB0lx8xMdJvJ",
        "outputId": "cbff1adb-1c1f-41d1-9920-ce9eae30934b"
      },
      "execution_count": null,
      "outputs": [
        {
          "output_type": "execute_result",
          "data": {
            "text/plain": [
              "{'__name__': '__main__',\n",
              " '__doc__': 'Automatically created module for IPython interactive environment',\n",
              " '__package__': None,\n",
              " '__loader__': None,\n",
              " '__spec__': None,\n",
              " '__builtin__': <module 'builtins' (built-in)>,\n",
              " '__builtins__': <module 'builtins' (built-in)>,\n",
              " '_ih': ['',\n",
              "  'globals()',\n",
              "  '# Similarly locals is also returns a dict\\nlocals()'],\n",
              " '_oh': {1: {...}},\n",
              " '_dh': ['/content'],\n",
              " 'In': ['',\n",
              "  'globals()',\n",
              "  '# Similarly locals is also returns a dict\\nlocals()'],\n",
              " 'Out': {1: {...}},\n",
              " 'get_ipython': <bound method InteractiveShell.get_ipython of <google.colab._shell.Shell object at 0x7f55744fca90>>,\n",
              " 'exit': <IPython.core.autocall.ZMQExitAutocall at 0x7f5571467a90>,\n",
              " 'quit': <IPython.core.autocall.ZMQExitAutocall at 0x7f5571467a90>,\n",
              " '_': {...},\n",
              " '__': '',\n",
              " '___': '',\n",
              " '_i': 'globals()',\n",
              " '_ii': '',\n",
              " '_iii': '',\n",
              " '_i1': 'globals()',\n",
              " '_1': {...},\n",
              " '_i2': '# Similarly locals is also returns a dict\\nlocals()'}"
            ]
          },
          "metadata": {},
          "execution_count": 2
        }
      ]
    },
    {
      "cell_type": "markdown",
      "source": [
        "To list all the modules, we can use sys.modules -->> returns dict"
      ],
      "metadata": {
        "id": "jo33ZGTTdqZa"
      }
    },
    {
      "cell_type": "code",
      "source": [
        "import sys; sys.modules"
      ],
      "metadata": {
        "colab": {
          "base_uri": "https://localhost:8080/"
        },
        "id": "zdCJP_ydeuRU",
        "outputId": "e33c8add-3502-4474-8774-c635880c8a87"
      },
      "execution_count": null,
      "outputs": [
        {
          "output_type": "execute_result",
          "data": {
            "text/plain": [
              "{'sys': <module 'sys' (built-in)>,\n",
              " 'builtins': <module 'builtins' (built-in)>,\n",
              " '_frozen_importlib': <module 'importlib._bootstrap' (frozen)>,\n",
              " '_imp': <module '_imp' (built-in)>,\n",
              " '_thread': <module '_thread' (built-in)>,\n",
              " '_warnings': <module '_warnings' (built-in)>,\n",
              " '_weakref': <module '_weakref' (built-in)>,\n",
              " '_io': <module 'io' (built-in)>,\n",
              " 'marshal': <module 'marshal' (built-in)>,\n",
              " 'posix': <module 'posix' (built-in)>,\n",
              " '_frozen_importlib_external': <module 'importlib._bootstrap_external' (frozen)>,\n",
              " 'time': <module 'time' (built-in)>,\n",
              " 'zipimport': <module 'zipimport' (frozen)>,\n",
              " '_codecs': <module '_codecs' (built-in)>,\n",
              " 'codecs': <module 'codecs' from '/usr/lib/python3.9/codecs.py'>,\n",
              " 'encodings.aliases': <module 'encodings.aliases' from '/usr/lib/python3.9/encodings/aliases.py'>,\n",
              " 'encodings': <module 'encodings' from '/usr/lib/python3.9/encodings/__init__.py'>,\n",
              " 'encodings.utf_8': <module 'encodings.utf_8' from '/usr/lib/python3.9/encodings/utf_8.py'>,\n",
              " '_signal': <module '_signal' (built-in)>,\n",
              " 'encodings.latin_1': <module 'encodings.latin_1' from '/usr/lib/python3.9/encodings/latin_1.py'>,\n",
              " '_abc': <module '_abc' (built-in)>,\n",
              " 'abc': <module 'abc' from '/usr/lib/python3.9/abc.py'>,\n",
              " 'io': <module 'io' from '/usr/lib/python3.9/io.py'>,\n",
              " '__main__': <module '__main__'>,\n",
              " 'types': <module 'types' from '/usr/lib/python3.9/types.py'>,\n",
              " 'enum': <module 'enum' from '/usr/lib/python3.9/enum.py'>,\n",
              " '_sre': <module '_sre' (built-in)>,\n",
              " 'sre_constants': <module 'sre_constants' from '/usr/lib/python3.9/sre_constants.py'>,\n",
              " 'sre_parse': <module 'sre_parse' from '/usr/lib/python3.9/sre_parse.py'>,\n",
              " 'sre_compile': <module 'sre_compile' from '/usr/lib/python3.9/sre_compile.py'>,\n",
              " '_collections_abc': <module '_collections_abc' from '/usr/lib/python3.9/_collections_abc.py'>,\n",
              " '_heapq': <module '_heapq' (built-in)>,\n",
              " 'heapq': <module 'heapq' from '/usr/lib/python3.9/heapq.py'>,\n",
              " 'itertools': <module 'itertools' (built-in)>,\n",
              " 'keyword': <module 'keyword' from '/usr/lib/python3.9/keyword.py'>,\n",
              " '_operator': <module '_operator' (built-in)>,\n",
              " 'operator': <module 'operator' from '/usr/lib/python3.9/operator.py'>,\n",
              " 'reprlib': <module 'reprlib' from '/usr/lib/python3.9/reprlib.py'>,\n",
              " '_collections': <module '_collections' (built-in)>,\n",
              " 'collections': <module 'collections' from '/usr/lib/python3.9/collections/__init__.py'>,\n",
              " '_functools': <module '_functools' (built-in)>,\n",
              " 'functools': <module 'functools' from '/usr/lib/python3.9/functools.py'>,\n",
              " '_locale': <module '_locale' (built-in)>,\n",
              " 'copyreg': <module 'copyreg' from '/usr/lib/python3.9/copyreg.py'>,\n",
              " 're': <module 're' from '/usr/lib/python3.9/re.py'>,\n",
              " 'warnings': <module 'warnings' from '/usr/lib/python3.9/warnings.py'>,\n",
              " '_stat': <module '_stat' (built-in)>,\n",
              " 'stat': <module 'stat' from '/usr/lib/python3.9/stat.py'>,\n",
              " 'genericpath': <module 'genericpath' from '/usr/lib/python3.9/genericpath.py'>,\n",
              " 'posixpath': <module 'posixpath' from '/usr/lib/python3.9/posixpath.py'>,\n",
              " 'os.path': <module 'posixpath' from '/usr/lib/python3.9/posixpath.py'>,\n",
              " 'os': <module 'os' from '/usr/lib/python3.9/os.py'>,\n",
              " '_sitebuiltins': <module '_sitebuiltins' from '/usr/lib/python3.9/_sitebuiltins.py'>,\n",
              " '_bootlocale': <module '_bootlocale' from '/usr/lib/python3.9/_bootlocale.py'>,\n",
              " 'importlib._bootstrap': <module 'importlib._bootstrap' (frozen)>,\n",
              " 'importlib._bootstrap_external': <module 'importlib._bootstrap_external' (frozen)>,\n",
              " 'importlib': <module 'importlib' from '/usr/lib/python3.9/importlib/__init__.py'>,\n",
              " 'importlib.machinery': <module 'importlib.machinery' from '/usr/lib/python3.9/importlib/machinery.py'>,\n",
              " 'collections.abc': <module 'collections.abc' from '/usr/lib/python3.9/collections/abc.py'>,\n",
              " 'contextlib': <module 'contextlib' from '/usr/lib/python3.9/contextlib.py'>,\n",
              " 'typing.io': typing.io,\n",
              " 'typing.re': typing.re,\n",
              " 'typing': <module 'typing' from '/usr/lib/python3.9/typing.py'>,\n",
              " 'importlib.abc': <module 'importlib.abc' from '/usr/lib/python3.9/importlib/abc.py'>,\n",
              " 'importlib.util': <module 'importlib.util' from '/usr/lib/python3.9/importlib/util.py'>,\n",
              " 'google': <module 'google' (namespace)>,\n",
              " 'google.cloud': <module 'google.cloud' (namespace)>,\n",
              " 'google.logging': <module 'google.logging' (namespace)>,\n",
              " 'mpl_toolkits': <module 'mpl_toolkits' (namespace)>,\n",
              " 'sphinxcontrib': <module 'sphinxcontrib' (namespace)>,\n",
              " 'sitecustomize': <module 'sitecustomize' from '/usr/lib/python3.9/sitecustomize.py'>,\n",
              " 'site': <module 'site' from '/usr/lib/python3.9/site.py'>,\n",
              " '_weakrefset': <module '_weakrefset' from '/usr/lib/python3.9/_weakrefset.py'>,\n",
              " 'weakref': <module 'weakref' from '/usr/lib/python3.9/weakref.py'>,\n",
              " 'pkgutil': <module 'pkgutil' from '/usr/lib/python3.9/pkgutil.py'>,\n",
              " 'runpy': <module 'runpy' from '/usr/lib/python3.9/runpy.py'>,\n",
              " 'ipykernel._version': <module 'ipykernel._version' from '/usr/local/lib/python3.9/dist-packages/ipykernel/_version.py'>,\n",
              " '__future__': <module '__future__' from '/usr/lib/python3.9/__future__.py'>,\n",
              " '_json': <module '_json' from '/usr/lib/python3.9/lib-dynload/_json.cpython-39-x86_64-linux-gnu.so'>,\n",
              " 'json.scanner': <module 'json.scanner' from '/usr/lib/python3.9/json/scanner.py'>,\n",
              " 'json.decoder': <module 'json.decoder' from '/usr/lib/python3.9/json/decoder.py'>,\n",
              " 'json.encoder': <module 'json.encoder' from '/usr/lib/python3.9/json/encoder.py'>,\n",
              " 'json': <module 'json' from '/usr/lib/python3.9/json/__init__.py'>,\n",
              " 'errno': <module 'errno' (built-in)>,\n",
              " 'signal': <module 'signal' from '/usr/lib/python3.9/signal.py'>,\n",
              " 'threading': <module 'threading' from '/usr/lib/python3.9/threading.py'>,\n",
              " 'pwd': <module 'pwd' (built-in)>,\n",
              " 'grp': <module 'grp' (built-in)>,\n",
              " '_posixsubprocess': <module '_posixsubprocess' (built-in)>,\n",
              " 'select': <module 'select' (built-in)>,\n",
              " 'math': <module 'math' (built-in)>,\n",
              " 'selectors': <module 'selectors' from '/usr/lib/python3.9/selectors.py'>,\n",
              " 'subprocess': <module 'subprocess' from '/usr/lib/python3.9/subprocess.py'>,\n",
              " 'IPython.core': <module 'IPython.core' from '/usr/local/lib/python3.9/dist-packages/IPython/core/__init__.py'>,\n",
              " 'IPython.core.getipython': <module 'IPython.core.getipython' from '/usr/local/lib/python3.9/dist-packages/IPython/core/getipython.py'>,\n",
              " 'IPython.core.release': <module 'IPython.core.release' from '/usr/local/lib/python3.9/dist-packages/IPython/core/release.py'>,\n",
              " 'atexit': <module 'atexit' (built-in)>,\n",
              " 'copy': <module 'copy' from '/usr/lib/python3.9/copy.py'>,\n",
              " 'fnmatch': <module 'fnmatch' from '/usr/lib/python3.9/fnmatch.py'>,\n",
              " 'glob': <module 'glob' from '/usr/lib/python3.9/glob.py'>,\n",
              " 'token': <module 'token' from '/usr/lib/python3.9/token.py'>,\n",
              " 'tokenize': <module 'tokenize' from '/usr/lib/python3.9/tokenize.py'>,\n",
              " 'linecache': <module 'linecache' from '/usr/lib/python3.9/linecache.py'>,\n",
              " 'traceback': <module 'traceback' from '/usr/lib/python3.9/traceback.py'>,\n",
              " '_string': <module '_string' (built-in)>,\n",
              " 'string': <module 'string' from '/usr/lib/python3.9/string.py'>,\n",
              " 'logging': <module 'logging' from '/usr/lib/python3.9/logging/__init__.py'>,\n",
              " 'zlib': <module 'zlib' (built-in)>,\n",
              " '_compression': <module '_compression' from '/usr/lib/python3.9/_compression.py'>,\n",
              " '_bz2': <module '_bz2' from '/usr/lib/python3.9/lib-dynload/_bz2.cpython-39-x86_64-linux-gnu.so'>,\n",
              " 'bz2': <module 'bz2' from '/usr/lib/python3.9/bz2.py'>,\n",
              " '_lzma': <module '_lzma' from '/usr/lib/python3.9/lib-dynload/_lzma.cpython-39-x86_64-linux-gnu.so'>,\n",
              " 'lzma': <module 'lzma' from '/usr/lib/python3.9/lzma.py'>,\n",
              " 'shutil': <module 'shutil' from '/usr/lib/python3.9/shutil.py'>,\n",
              " '_ast': <module '_ast' (built-in)>,\n",
              " 'ast': <module 'ast' from '/usr/lib/python3.9/ast.py'>,\n",
              " '_opcode': <module '_opcode' from '/usr/lib/python3.9/lib-dynload/_opcode.cpython-39-x86_64-linux-gnu.so'>,\n",
              " 'opcode': <module 'opcode' from '/usr/lib/python3.9/opcode.py'>,\n",
              " 'dis': <module 'dis' from '/usr/lib/python3.9/dis.py'>,\n",
              " 'inspect': <module 'inspect' from '/usr/lib/python3.9/inspect.py'>,\n",
              " 'traitlets.utils': <module 'traitlets.utils' from '/usr/local/lib/python3.9/dist-packages/traitlets/utils/__init__.py'>,\n",
              " 'traitlets.utils.bunch': <module 'traitlets.utils.bunch' from '/usr/local/lib/python3.9/dist-packages/traitlets/utils/bunch.py'>,\n",
              " 'traitlets.utils.descriptions': <module 'traitlets.utils.descriptions' from '/usr/local/lib/python3.9/dist-packages/traitlets/utils/descriptions.py'>,\n",
              " 'traitlets.utils.getargspec': <module 'traitlets.utils.getargspec' from '/usr/local/lib/python3.9/dist-packages/traitlets/utils/getargspec.py'>,\n",
              " 'traitlets.utils.importstring': <module 'traitlets.utils.importstring' from '/usr/local/lib/python3.9/dist-packages/traitlets/utils/importstring.py'>,\n",
              " 'traitlets.utils.sentinel': <module 'traitlets.utils.sentinel' from '/usr/local/lib/python3.9/dist-packages/traitlets/utils/sentinel.py'>,\n",
              " 'traitlets.traitlets': <module 'traitlets.traitlets' from '/usr/local/lib/python3.9/dist-packages/traitlets/traitlets.py'>,\n",
              " 'traitlets._version': <module 'traitlets._version' from '/usr/local/lib/python3.9/dist-packages/traitlets/_version.py'>,\n",
              " 'traitlets.utils.decorators': <module 'traitlets.utils.decorators' from '/usr/local/lib/python3.9/dist-packages/traitlets/utils/decorators.py'>,\n",
              " 'traitlets': <module 'traitlets' from '/usr/local/lib/python3.9/dist-packages/traitlets/__init__.py'>,\n",
              " 'pprint': <module 'pprint' from '/usr/lib/python3.9/pprint.py'>,\n",
              " '_socket': <module '_socket' (built-in)>,\n",
              " 'array': <module 'array' (built-in)>,\n",
              " 'socket': <module 'socket' from '/usr/lib/python3.9/socket.py'>,\n",
              " '_struct': <module '_struct' (built-in)>,\n",
              " 'struct': <module 'struct' from '/usr/lib/python3.9/struct.py'>,\n",
              " '_compat_pickle': <module '_compat_pickle' from '/usr/lib/python3.9/_compat_pickle.py'>,\n",
              " '_pickle': <module '_pickle' (built-in)>,\n",
              " 'pickle': <module 'pickle' from '/usr/lib/python3.9/pickle.py'>,\n",
              " '_queue': <module '_queue' from '/usr/lib/python3.9/lib-dynload/_queue.cpython-39-x86_64-linux-gnu.so'>,\n",
              " 'queue': <module 'queue' from '/usr/lib/python3.9/queue.py'>,\n",
              " 'logging.handlers': <module 'logging.handlers' from '/usr/lib/python3.9/logging/handlers.py'>,\n",
              " 'socketserver': <module 'socketserver' from '/usr/lib/python3.9/socketserver.py'>,\n",
              " 'logging.config': <module 'logging.config' from '/usr/lib/python3.9/logging/config.py'>,\n",
              " 'textwrap': <module 'textwrap' from '/usr/lib/python3.9/textwrap.py'>,\n",
              " 'traitlets.utils.text': <module 'traitlets.utils.text' from '/usr/local/lib/python3.9/dist-packages/traitlets/utils/text.py'>,\n",
              " 'gettext': <module 'gettext' from '/usr/lib/python3.9/gettext.py'>,\n",
              " 'argparse': <module 'argparse' from '/usr/lib/python3.9/argparse.py'>,\n",
              " 'traitlets.config.loader': <module 'traitlets.config.loader' from '/usr/local/lib/python3.9/dist-packages/traitlets/config/loader.py'>,\n",
              " 'traitlets.config.configurable': <module 'traitlets.config.configurable' from '/usr/local/lib/python3.9/dist-packages/traitlets/config/configurable.py'>,\n",
              " 'traitlets.utils.nested_update': <module 'traitlets.utils.nested_update' from '/usr/local/lib/python3.9/dist-packages/traitlets/utils/nested_update.py'>,\n",
              " 'traitlets.config.application': <module 'traitlets.config.application' from '/usr/local/lib/python3.9/dist-packages/traitlets/config/application.py'>,\n",
              " 'traitlets.config': <module 'traitlets.config' from '/usr/local/lib/python3.9/dist-packages/traitlets/config/__init__.py'>,\n",
              " 'platform': <module 'platform' from '/usr/lib/python3.9/platform.py'>,\n",
              " 'sysconfig': <module 'sysconfig' from '/usr/lib/python3.9/sysconfig.py'>,\n",
              " 'urllib': <module 'urllib' from '/usr/lib/python3.9/urllib/__init__.py'>,\n",
              " 'urllib.parse': <module 'urllib.parse' from '/usr/lib/python3.9/urllib/parse.py'>,\n",
              " '_sysconfigdata__x86_64-linux-gnu': <module '_sysconfigdata__x86_64-linux-gnu' from '/usr/lib/python3.9/_sysconfigdata__x86_64-linux-gnu.py'>,\n",
              " 'pydoc': <module 'pydoc' from '/usr/lib/python3.9/pydoc.py'>,\n",
              " 'bdb': <module 'bdb' from '/usr/lib/python3.9/bdb.py'>,\n",
              " 'IPython.utils': <module 'IPython.utils' from '/usr/local/lib/python3.9/dist-packages/IPython/utils/__init__.py'>,\n",
              " 'IPython.utils.ipstruct': <module 'IPython.utils.ipstruct' from '/usr/local/lib/python3.9/dist-packages/IPython/utils/ipstruct.py'>,\n",
              " 'IPython.utils.coloransi': <module 'IPython.utils.coloransi' from '/usr/local/lib/python3.9/dist-packages/IPython/utils/coloransi.py'>,\n",
              " 'pygments': <module 'pygments' from '/usr/local/lib/python3.9/dist-packages/pygments/__init__.py'>,\n",
              " 'IPython.utils.colorable': <module 'IPython.utils.colorable' from '/usr/local/lib/python3.9/dist-packages/IPython/utils/colorable.py'>,\n",
              " 'IPython.utils.PyColorize': <module 'IPython.utils.PyColorize' from '/usr/local/lib/python3.9/dist-packages/IPython/utils/PyColorize.py'>,\n",
              " 'locale': <module 'locale' from '/usr/lib/python3.9/locale.py'>,\n",
              " 'IPython.utils.encoding': <module 'IPython.utils.encoding' from '/usr/local/lib/python3.9/dist-packages/IPython/utils/encoding.py'>,\n",
              " 'IPython.utils.py3compat': <module 'IPython.utils.py3compat' from '/usr/local/lib/python3.9/dist-packages/IPython/utils/py3compat.py'>,\n",
              " 'IPython.core.excolors': <module 'IPython.core.excolors' from '/usr/local/lib/python3.9/dist-packages/IPython/core/excolors.py'>,\n",
              " 'IPython.testing': <module 'IPython.testing' from '/usr/local/lib/python3.9/dist-packages/IPython/testing/__init__.py'>,\n",
              " 'IPython.testing.skipdoctest': <module 'IPython.testing.skipdoctest' from '/usr/local/lib/python3.9/dist-packages/IPython/testing/skipdoctest.py'>,\n",
              " 'cmd': <module 'cmd' from '/usr/lib/python3.9/cmd.py'>,\n",
              " 'codeop': <module 'codeop' from '/usr/lib/python3.9/codeop.py'>,\n",
              " 'code': <module 'code' from '/usr/lib/python3.9/code.py'>,\n",
              " 'pdb': <module 'pdb' from '/usr/lib/python3.9/pdb.py'>,\n",
              " 'IPython.core.debugger': <module 'IPython.core.debugger' from '/usr/local/lib/python3.9/dist-packages/IPython/core/debugger.py'>,\n",
              " 'IPython.core.display_trap': <module 'IPython.core.display_trap' from '/usr/local/lib/python3.9/dist-packages/IPython/core/display_trap.py'>,\n",
              " '_bisect': <module '_bisect' (built-in)>,\n",
              " 'bisect': <module 'bisect' from '/usr/lib/python3.9/bisect.py'>,\n",
              " '_random': <module '_random' (built-in)>,\n",
              " '_sha512': <module '_sha512' (built-in)>,\n",
              " 'random': <module 'random' from '/usr/lib/python3.9/random.py'>,\n",
              " 'pexpect.exceptions': <module 'pexpect.exceptions' from '/usr/local/lib/python3.9/dist-packages/pexpect/exceptions.py'>,\n",
              " 'pexpect.utils': <module 'pexpect.utils' from '/usr/local/lib/python3.9/dist-packages/pexpect/utils.py'>,\n",
              " 'pexpect.expect': <module 'pexpect.expect' from '/usr/local/lib/python3.9/dist-packages/pexpect/expect.py'>,\n",
              " 'termios': <module 'termios' from '/usr/lib/python3.9/lib-dynload/termios.cpython-39-x86_64-linux-gnu.so'>,\n",
              " 'tty': <module 'tty' from '/usr/lib/python3.9/tty.py'>,\n",
              " 'pty': <module 'pty' from '/usr/lib/python3.9/pty.py'>,\n",
              " 'fcntl': <module 'fcntl' (built-in)>,\n",
              " 'resource': <module 'resource' from '/usr/lib/python3.9/lib-dynload/resource.cpython-39-x86_64-linux-gnu.so'>,\n",
              " 'ptyprocess.util': <module 'ptyprocess.util' from '/usr/local/lib/python3.9/dist-packages/ptyprocess/util.py'>,\n",
              " 'ptyprocess.ptyprocess': <module 'ptyprocess.ptyprocess' from '/usr/local/lib/python3.9/dist-packages/ptyprocess/ptyprocess.py'>,\n",
              " 'ptyprocess': <module 'ptyprocess' from '/usr/local/lib/python3.9/dist-packages/ptyprocess/__init__.py'>,\n",
              " 'pexpect.spawnbase': <module 'pexpect.spawnbase' from '/usr/local/lib/python3.9/dist-packages/pexpect/spawnbase.py'>,\n",
              " 'pexpect.pty_spawn': <module 'pexpect.pty_spawn' from '/usr/local/lib/python3.9/dist-packages/pexpect/pty_spawn.py'>,\n",
              " 'pexpect.run': <module 'pexpect.run' from '/usr/local/lib/python3.9/dist-packages/pexpect/run.py'>,\n",
              " 'pexpect': <module 'pexpect' from '/usr/local/lib/python3.9/dist-packages/pexpect/__init__.py'>,\n",
              " 'shlex': <module 'shlex' from '/usr/lib/python3.9/shlex.py'>,\n",
              " 'IPython.utils._process_common': <module 'IPython.utils._process_common' from '/usr/local/lib/python3.9/dist-packages/IPython/utils/_process_common.py'>,\n",
              " 'IPython.utils._process_posix': <module 'IPython.utils._process_posix' from '/usr/local/lib/python3.9/dist-packages/IPython/utils/_process_posix.py'>,\n",
              " 'IPython.utils.process': <module 'IPython.utils.process' from '/usr/local/lib/python3.9/dist-packages/IPython/utils/process.py'>,\n",
              " 'IPython.utils.decorators': <module 'IPython.utils.decorators' from '/usr/local/lib/python3.9/dist-packages/IPython/utils/decorators.py'>,\n",
              " 'IPython.utils.path': <module 'IPython.utils.path' from '/usr/local/lib/python3.9/dist-packages/IPython/utils/path.py'>,\n",
              " 'IPython.utils.data': <module 'IPython.utils.data' from '/usr/local/lib/python3.9/dist-packages/IPython/utils/data.py'>,\n",
              " 'IPython.utils.terminal': <module 'IPython.utils.terminal' from '/usr/local/lib/python3.9/dist-packages/IPython/utils/terminal.py'>,\n",
              " 'IPython.core.ultratb': <module 'IPython.core.ultratb' from '/usr/local/lib/python3.9/dist-packages/IPython/core/ultratb.py'>,\n",
              " 'IPython.utils._sysinfo': <module 'IPython.utils._sysinfo' from '/usr/local/lib/python3.9/dist-packages/IPython/utils/_sysinfo.py'>,\n",
              " 'IPython.utils.sysinfo': <module 'IPython.utils.sysinfo' from '/usr/local/lib/python3.9/dist-packages/IPython/utils/sysinfo.py'>,\n",
              " 'IPython.core.crashhandler': <module 'IPython.core.crashhandler' from '/usr/local/lib/python3.9/dist-packages/IPython/core/crashhandler.py'>,\n",
              " 'tempfile': <module 'tempfile' from '/usr/lib/python3.9/tempfile.py'>,\n",
              " 'IPython.utils.importstring': <module 'IPython.utils.importstring' from '/usr/local/lib/python3.9/dist-packages/IPython/utils/importstring.py'>,\n",
              " 'IPython.paths': <module 'IPython.paths' from '/usr/local/lib/python3.9/dist-packages/IPython/paths.py'>,\n",
              " 'IPython.core.profiledir': <module 'IPython.core.profiledir' from '/usr/local/lib/python3.9/dist-packages/IPython/core/profiledir.py'>,\n",
              " 'IPython.core.application': <module 'IPython.core.application' from '/usr/local/lib/python3.9/dist-packages/IPython/core/application.py'>,\n",
              " 'IPython.terminal': <module 'IPython.terminal' from '/usr/local/lib/python3.9/dist-packages/IPython/terminal/__init__.py'>,\n",
              " '_hashlib': <module '_hashlib' from '/usr/lib/python3.9/lib-dynload/_hashlib.cpython-39-x86_64-linux-gnu.so'>,\n",
              " '_blake2': <module '_blake2' (built-in)>,\n",
              " 'hashlib': <module 'hashlib' from '/usr/lib/python3.9/hashlib.py'>,\n",
              " 'IPython.core.compilerop': <module 'IPython.core.compilerop' from '/usr/local/lib/python3.9/dist-packages/IPython/core/compilerop.py'>,\n",
              " 'IPython.core.error': <module 'IPython.core.error' from '/usr/local/lib/python3.9/dist-packages/IPython/core/error.py'>,\n",
              " 'ntpath': <module 'ntpath' from '/usr/lib/python3.9/ntpath.py'>,\n",
              " 'pathlib': <module 'pathlib' from '/usr/lib/python3.9/pathlib.py'>,\n",
              " 'IPython.utils.text': <module 'IPython.utils.text' from '/usr/local/lib/python3.9/dist-packages/IPython/utils/text.py'>,\n",
              " 'IPython.core.magic_arguments': <module 'IPython.core.magic_arguments' from '/usr/local/lib/python3.9/dist-packages/IPython/core/magic_arguments.py'>,\n",
              " 'getopt': <module 'getopt' from '/usr/lib/python3.9/getopt.py'>,\n",
              " 'binascii': <module 'binascii' (built-in)>,\n",
              " 'mimetypes': <module 'mimetypes' from '/usr/lib/python3.9/mimetypes.py'>,\n",
              " 'IPython.core.display': <module 'IPython.core.display' from '/usr/local/lib/python3.9/dist-packages/IPython/core/display.py'>,\n",
              " 'IPython.core.page': <module 'IPython.core.page' from '/usr/local/lib/python3.9/dist-packages/IPython/core/page.py'>,\n",
              " 'getpass': <module 'getpass' from '/usr/lib/python3.9/getpass.py'>,\n",
              " 'IPython.lib.security': <module 'IPython.lib.security' from '/usr/local/lib/python3.9/dist-packages/IPython/lib/security.py'>,\n",
              " 'IPython.lib': <module 'IPython.lib' from '/usr/local/lib/python3.9/dist-packages/IPython/lib/__init__.py'>,\n",
              " '_datetime': <module '_datetime' (built-in)>,\n",
              " 'datetime': <module 'datetime' from '/usr/lib/python3.9/datetime.py'>,\n",
              " 'IPython.lib.pretty': <module 'IPython.lib.pretty' from '/usr/local/lib/python3.9/dist-packages/IPython/lib/pretty.py'>,\n",
              " 'IPython.utils.openpy': <module 'IPython.utils.openpy' from '/usr/local/lib/python3.9/dist-packages/IPython/utils/openpy.py'>,\n",
              " 'IPython.utils.dir2': <module 'IPython.utils.dir2' from '/usr/local/lib/python3.9/dist-packages/IPython/utils/dir2.py'>,\n",
              " 'IPython.utils.wildcard': <module 'IPython.utils.wildcard' from '/usr/local/lib/python3.9/dist-packages/IPython/utils/wildcard.py'>,\n",
              " 'pygments.lexers._mapping': <module 'pygments.lexers._mapping' from '/usr/local/lib/python3.9/dist-packages/pygments/lexers/_mapping.py'>,\n",
              " 'pygments.modeline': <module 'pygments.modeline' from '/usr/local/lib/python3.9/dist-packages/pygments/modeline.py'>,\n",
              " 'pygments.plugin': <module 'pygments.plugin' from '/usr/local/lib/python3.9/dist-packages/pygments/plugin.py'>,\n",
              " 'pygments.util': <module 'pygments.util' from '/usr/local/lib/python3.9/dist-packages/pygments/util.py'>,\n",
              " 'pygments.lexers': <module 'pygments.lexers' from '/usr/local/lib/python3.9/dist-packages/pygments/lexers/__init__.py'>,\n",
              " 'pygments.filter': <module 'pygments.filter' from '/usr/local/lib/python3.9/dist-packages/pygments/filter.py'>,\n",
              " 'pygments.token': <module 'pygments.token' from '/usr/local/lib/python3.9/dist-packages/pygments/token.py'>,\n",
              " 'pygments.filters': <module 'pygments.filters' from '/usr/local/lib/python3.9/dist-packages/pygments/filters/__init__.py'>,\n",
              " 'pygments.regexopt': <module 'pygments.regexopt' from '/usr/local/lib/python3.9/dist-packages/pygments/regexopt.py'>,\n",
              " 'pygments.lexer': <module 'pygments.lexer' from '/usr/local/lib/python3.9/dist-packages/pygments/lexer.py'>,\n",
              " 'pygments.unistring': <module 'pygments.unistring' from '/usr/local/lib/python3.9/dist-packages/pygments/unistring.py'>,\n",
              " 'pygments.lexers.python': <module 'pygments.lexers.python' from '/usr/local/lib/python3.9/dist-packages/pygments/lexers/python.py'>,\n",
              " 'pygments.formatters._mapping': <module 'pygments.formatters._mapping' from '/usr/local/lib/python3.9/dist-packages/pygments/formatters/_mapping.py'>,\n",
              " 'pygments.formatters': <module 'pygments.formatters' from '/usr/local/lib/python3.9/dist-packages/pygments/formatters/__init__.py'>,\n",
              " 'pygments.styles': <module 'pygments.styles' from '/usr/local/lib/python3.9/dist-packages/pygments/styles/__init__.py'>,\n",
              " 'pygments.formatter': <module 'pygments.formatter' from '/usr/local/lib/python3.9/dist-packages/pygments/formatter.py'>,\n",
              " 'pygments.formatters.html': <module 'pygments.formatters.html' from '/usr/local/lib/python3.9/dist-packages/pygments/formatters/html.py'>,\n",
              " 'IPython.core.oinspect': <module 'IPython.core.oinspect' from '/usr/local/lib/python3.9/dist-packages/IPython/core/oinspect.py'>,\n",
              " 'IPython.core.inputtransformer2': <module 'IPython.core.inputtransformer2' from '/usr/local/lib/python3.9/dist-packages/IPython/core/inputtransformer2.py'>,\n",
              " 'decorator': <module 'decorator' from '/usr/local/lib/python3.9/dist-packages/decorator.py'>,\n",
              " 'IPython.core.magic': <module 'IPython.core.magic' from '/usr/local/lib/python3.9/dist-packages/IPython/core/magic.py'>,\n",
              " 'concurrent': <module 'concurrent' from '/usr/lib/python3.9/concurrent/__init__.py'>,\n",
              " 'concurrent.futures._base': <module 'concurrent.futures._base' from '/usr/lib/python3.9/concurrent/futures/_base.py'>,\n",
              " 'concurrent.futures': <module 'concurrent.futures' from '/usr/lib/python3.9/concurrent/futures/__init__.py'>,\n",
              " '_ssl': <module '_ssl' from '/usr/lib/python3.9/lib-dynload/_ssl.cpython-39-x86_64-linux-gnu.so'>,\n",
              " 'base64': <module 'base64' from '/usr/lib/python3.9/base64.py'>,\n",
              " 'ssl': <module 'ssl' from '/usr/lib/python3.9/ssl.py'>,\n",
              " 'asyncio.constants': <module 'asyncio.constants' from '/usr/lib/python3.9/asyncio/constants.py'>,\n",
              " 'asyncio.format_helpers': <module 'asyncio.format_helpers' from '/usr/lib/python3.9/asyncio/format_helpers.py'>,\n",
              " 'asyncio.base_futures': <module 'asyncio.base_futures' from '/usr/lib/python3.9/asyncio/base_futures.py'>,\n",
              " 'asyncio.log': <module 'asyncio.log' from '/usr/lib/python3.9/asyncio/log.py'>,\n",
              " 'asyncio.coroutines': <module 'asyncio.coroutines' from '/usr/lib/python3.9/asyncio/coroutines.py'>,\n",
              " '_contextvars': <module '_contextvars' from '/usr/lib/python3.9/lib-dynload/_contextvars.cpython-39-x86_64-linux-gnu.so'>,\n",
              " 'contextvars': <module 'contextvars' from '/usr/lib/python3.9/contextvars.py'>,\n",
              " 'asyncio.exceptions': <module 'asyncio.exceptions' from '/usr/lib/python3.9/asyncio/exceptions.py'>,\n",
              " 'asyncio.base_tasks': <module 'asyncio.base_tasks' from '/usr/lib/python3.9/asyncio/base_tasks.py'>,\n",
              " '_asyncio': <module '_asyncio' from '/usr/lib/python3.9/lib-dynload/_asyncio.cpython-39-x86_64-linux-gnu.so'>,\n",
              " 'asyncio.events': <module 'asyncio.events' from '/usr/lib/python3.9/asyncio/events.py'>,\n",
              " 'asyncio.futures': <module 'asyncio.futures' from '/usr/lib/python3.9/asyncio/futures.py'>,\n",
              " 'asyncio.protocols': <module 'asyncio.protocols' from '/usr/lib/python3.9/asyncio/protocols.py'>,\n",
              " 'asyncio.transports': <module 'asyncio.transports' from '/usr/lib/python3.9/asyncio/transports.py'>,\n",
              " 'asyncio.sslproto': <module 'asyncio.sslproto' from '/usr/lib/python3.9/asyncio/sslproto.py'>,\n",
              " 'asyncio.locks': <module 'asyncio.locks' from '/usr/lib/python3.9/asyncio/locks.py'>,\n",
              " 'asyncio.tasks': <module 'asyncio.tasks' from '/usr/lib/python3.9/asyncio/tasks.py'>,\n",
              " 'asyncio.staggered': <module 'asyncio.staggered' from '/usr/lib/python3.9/asyncio/staggered.py'>,\n",
              " 'asyncio.trsock': <module 'asyncio.trsock' from '/usr/lib/python3.9/asyncio/trsock.py'>,\n",
              " 'asyncio.base_events': <module 'asyncio.base_events' from '/usr/lib/python3.9/asyncio/base_events.py'>,\n",
              " 'asyncio.runners': <module 'asyncio.runners' from '/usr/lib/python3.9/asyncio/runners.py'>,\n",
              " 'asyncio.queues': <module 'asyncio.queues' from '/usr/lib/python3.9/asyncio/queues.py'>,\n",
              " 'asyncio.streams': <module 'asyncio.streams' from '/usr/lib/python3.9/asyncio/streams.py'>,\n",
              " 'asyncio.subprocess': <module 'asyncio.subprocess' from '/usr/lib/python3.9/asyncio/subprocess.py'>,\n",
              " 'asyncio.threads': <module 'asyncio.threads' from '/usr/lib/python3.9/asyncio/threads.py'>,\n",
              " 'asyncio.base_subprocess': <module 'asyncio.base_subprocess' from '/usr/lib/python3.9/asyncio/base_subprocess.py'>,\n",
              " 'asyncio.selector_events': <module 'asyncio.selector_events' from '/usr/lib/python3.9/asyncio/selector_events.py'>,\n",
              " 'asyncio.unix_events': <module 'asyncio.unix_events' from '/usr/lib/python3.9/asyncio/unix_events.py'>,\n",
              " 'asyncio': <module 'asyncio' from '/usr/lib/python3.9/asyncio/__init__.py'>,\n",
              " 'pickleshare': <module 'pickleshare' from '/usr/local/lib/python3.9/dist-packages/pickleshare.py'>,\n",
              " 'IPython.core.autocall': <module 'IPython.core.autocall' from '/usr/local/lib/python3.9/dist-packages/IPython/core/autocall.py'>,\n",
              " 'IPython.core.macro': <module 'IPython.core.macro' from '/usr/local/lib/python3.9/dist-packages/IPython/core/macro.py'>,\n",
              " 'IPython.core.splitinput': <module 'IPython.core.splitinput' from '/usr/local/lib/python3.9/dist-packages/IPython/core/splitinput.py'>,\n",
              " 'IPython.core.prefilter': <module 'IPython.core.prefilter' from '/usr/local/lib/python3.9/dist-packages/IPython/core/prefilter.py'>,\n",
              " 'IPython.core.alias': <module 'IPython.core.alias' from '/usr/local/lib/python3.9/dist-packages/IPython/core/alias.py'>,\n",
              " 'IPython.core.builtin_trap': <module 'IPython.core.builtin_trap' from '/usr/local/lib/python3.9/dist-packages/IPython/core/builtin_trap.py'>,\n",
              " 'backcall.backcall': <module 'backcall.backcall' from '/usr/local/lib/python3.9/dist-packages/backcall/backcall.py'>,\n",
              " 'backcall': <module 'backcall' from '/usr/local/lib/python3.9/dist-packages/backcall/__init__.py'>,\n",
              " 'IPython.core.events': <module 'IPython.core.events' from '/usr/local/lib/python3.9/dist-packages/IPython/core/events.py'>,\n",
              " 'IPython.core.displayhook': <module 'IPython.core.displayhook' from '/usr/local/lib/python3.9/dist-packages/IPython/core/displayhook.py'>,\n",
              " 'IPython.core.displaypub': <module 'IPython.core.displaypub' from '/usr/local/lib/python3.9/dist-packages/IPython/core/displaypub.py'>,\n",
              " 'IPython.core.extensions': <module 'IPython.core.extensions' from '/usr/local/lib/python3.9/dist-packages/IPython/core/extensions.py'>,\n",
              " 'IPython.utils.sentinel': <module 'IPython.utils.sentinel' from '/usr/local/lib/python3.9/dist-packages/IPython/utils/sentinel.py'>,\n",
              " 'IPython.core.formatters': <module 'IPython.core.formatters' from '/usr/local/lib/python3.9/dist-packages/IPython/core/formatters.py'>,\n",
              " '_sqlite3': <module '_sqlite3' from '/usr/lib/python3.9/lib-dynload/_sqlite3.cpython-39-x86_64-linux-gnu.so'>,\n",
              " 'sqlite3.dbapi2': <module 'sqlite3.dbapi2' from '/usr/lib/python3.9/sqlite3/dbapi2.py'>,\n",
              " 'sqlite3': <module 'sqlite3' from '/usr/lib/python3.9/sqlite3/__init__.py'>,\n",
              " 'IPython.core.history': <module 'IPython.core.history' from '/usr/local/lib/python3.9/dist-packages/IPython/core/history.py'>,\n",
              " 'IPython.core.logger': <module 'IPython.core.logger' from '/usr/local/lib/python3.9/dist-packages/IPython/core/logger.py'>,\n",
              " 'IPython.core.payload': <module 'IPython.core.payload' from '/usr/local/lib/python3.9/dist-packages/IPython/core/payload.py'>,\n",
              " 'IPython.core.usage': <module 'IPython.core.usage' from '/usr/local/lib/python3.9/dist-packages/IPython/core/usage.py'>,\n",
              " 'html.entities': <module 'html.entities' from '/usr/lib/python3.9/html/entities.py'>,\n",
              " 'html': <module 'html' from '/usr/lib/python3.9/html/__init__.py'>,\n",
              " 'IPython.lib.display': <module 'IPython.lib.display' from '/usr/local/lib/python3.9/dist-packages/IPython/lib/display.py'>,\n",
              " 'IPython.display': <module 'IPython.display' from '/usr/local/lib/python3.9/dist-packages/IPython/display.py'>,\n",
              " 'IPython.utils.capture': <module 'IPython.utils.capture' from '/usr/local/lib/python3.9/dist-packages/IPython/utils/capture.py'>,\n",
              " 'IPython.utils.io': <module 'IPython.utils.io' from '/usr/local/lib/python3.9/dist-packages/IPython/utils/io.py'>,\n",
              " 'IPython.core.hooks': <module 'IPython.core.hooks' from '/usr/local/lib/python3.9/dist-packages/IPython/core/hooks.py'>,\n",
              " 'IPython.utils.strdispatch': <module 'IPython.utils.strdispatch' from '/usr/local/lib/python3.9/dist-packages/IPython/utils/strdispatch.py'>,\n",
              " 'IPython.utils.syspathcontext': <module 'IPython.utils.syspathcontext' from '/usr/local/lib/python3.9/dist-packages/IPython/utils/syspathcontext.py'>,\n",
              " 'IPython.utils.tempdir': <module 'IPython.utils.tempdir' from '/usr/local/lib/python3.9/dist-packages/IPython/utils/tempdir.py'>,\n",
              " 'IPython.utils.contexts': <module 'IPython.utils.contexts' from '/usr/local/lib/python3.9/dist-packages/IPython/utils/contexts.py'>,\n",
              " 'IPython.core.async_helpers': <module 'IPython.core.async_helpers' from '/usr/local/lib/python3.9/dist-packages/IPython/core/async_helpers.py'>,\n",
              " 'IPython.core.interactiveshell': <module 'IPython.core.interactiveshell' from '/usr/local/lib/python3.9/dist-packages/IPython/core/interactiveshell.py'>,\n",
              " 'six': <module 'six' from '/usr/local/lib/python3.9/dist-packages/six.py'>,\n",
              " 'six.moves': <module 'six.moves' (<six._SixMetaPathImporter object at 0x7f5576b57f10>)>,\n",
              " 'six.moves.queue': <module 'queue' from '/usr/lib/python3.9/queue.py'>,\n",
              " 'wcwidth.table_wide': <module 'wcwidth.table_wide' from '/usr/local/lib/python3.9/dist-packages/wcwidth/table_wide.py'>,\n",
              " 'wcwidth.table_zero': <module 'wcwidth.table_zero' from '/usr/local/lib/python3.9/dist-packages/wcwidth/table_zero.py'>,\n",
              " 'wcwidth.unicode_versions': <module 'wcwidth.unicode_versions' from '/usr/local/lib/python3.9/dist-packages/wcwidth/unicode_versions.py'>,\n",
              " 'wcwidth.wcwidth': <module 'wcwidth.wcwidth' from '/usr/local/lib/python3.9/dist-packages/wcwidth/wcwidth.py'>,\n",
              " 'wcwidth': <module 'wcwidth' from '/usr/local/lib/python3.9/dist-packages/wcwidth/__init__.py'>,\n",
              " 'prompt_toolkit.cache': <module 'prompt_toolkit.cache' from '/usr/local/lib/python3.9/dist-packages/prompt_toolkit/cache.py'>,\n",
              " 'prompt_toolkit.utils': <module 'prompt_toolkit.utils' from '/usr/local/lib/python3.9/dist-packages/prompt_toolkit/utils.py'>,\n",
              " 'prompt_toolkit.log': <module 'prompt_toolkit.log' from '/usr/local/lib/python3.9/dist-packages/prompt_toolkit/log.py'>,\n",
              " 'prompt_toolkit.eventloop.base': <module 'prompt_toolkit.eventloop.base' from '/usr/local/lib/python3.9/dist-packages/prompt_toolkit/eventloop/base.py'>,\n",
              " 'prompt_toolkit.eventloop.defaults': <module 'prompt_toolkit.eventloop.defaults' from '/usr/local/lib/python3.9/dist-packages/prompt_toolkit/eventloop/defaults.py'>,\n",
              " 'prompt_toolkit.eventloop.context': <module 'prompt_toolkit.eventloop.context' from '/usr/local/lib/python3.9/dist-packages/prompt_toolkit/eventloop/context.py'>,\n",
              " 'prompt_toolkit.eventloop.future': <module 'prompt_toolkit.eventloop.future' from '/usr/local/lib/python3.9/dist-packages/prompt_toolkit/eventloop/future.py'>,\n",
              " 'prompt_toolkit.eventloop.coroutine': <module 'prompt_toolkit.eventloop.coroutine' from '/usr/local/lib/python3.9/dist-packages/prompt_toolkit/eventloop/coroutine.py'>,\n",
              " 'prompt_toolkit.eventloop.async_generator': <module 'prompt_toolkit.eventloop.async_generator' from '/usr/local/lib/python3.9/dist-packages/prompt_toolkit/eventloop/async_generator.py'>,\n",
              " 'prompt_toolkit.eventloop.event': <module 'prompt_toolkit.eventloop.event' from '/usr/local/lib/python3.9/dist-packages/prompt_toolkit/eventloop/event.py'>,\n",
              " 'prompt_toolkit.eventloop': <module 'prompt_toolkit.eventloop' from '/usr/local/lib/python3.9/dist-packages/prompt_toolkit/eventloop/__init__.py'>,\n",
              " 'prompt_toolkit.application.current': <module 'prompt_toolkit.application.current' from '/usr/local/lib/python3.9/dist-packages/prompt_toolkit/application/current.py'>,\n",
              " 'prompt_toolkit.application.run_in_terminal': <module 'prompt_toolkit.application.run_in_terminal' from '/usr/local/lib/python3.9/dist-packages/prompt_toolkit/application/run_in_terminal.py'>,\n",
              " 'prompt_toolkit.enums': <module 'prompt_toolkit.enums' from '/usr/local/lib/python3.9/dist-packages/prompt_toolkit/enums.py'>,\n",
              " 'prompt_toolkit.filters.base': <module 'prompt_toolkit.filters.base' from '/usr/local/lib/python3.9/dist-packages/prompt_toolkit/filters/base.py'>,\n",
              " 'prompt_toolkit.filters.app': <module 'prompt_toolkit.filters.app' from '/usr/local/lib/python3.9/dist-packages/prompt_toolkit/filters/app.py'>,\n",
              " 'prompt_toolkit.filters.cli': <module 'prompt_toolkit.filters.cli' from '/usr/local/lib/python3.9/dist-packages/prompt_toolkit/filters/cli.py'>,\n",
              " 'prompt_toolkit.filters.utils': <module 'prompt_toolkit.filters.utils' from '/usr/local/lib/python3.9/dist-packages/prompt_toolkit/filters/utils.py'>,\n",
              " 'prompt_toolkit.filters': <module 'prompt_toolkit.filters' from '/usr/local/lib/python3.9/dist-packages/prompt_toolkit/filters/__init__.py'>,\n",
              " 'prompt_toolkit.auto_suggest': <module 'prompt_toolkit.auto_suggest' from '/usr/local/lib/python3.9/dist-packages/prompt_toolkit/auto_suggest.py'>,\n",
              " 'prompt_toolkit.selection': <module 'prompt_toolkit.selection' from '/usr/local/lib/python3.9/dist-packages/prompt_toolkit/selection.py'>,\n",
              " 'prompt_toolkit.clipboard.base': <module 'prompt_toolkit.clipboard.base' from '/usr/local/lib/python3.9/dist-packages/prompt_toolkit/clipboard/base.py'>,\n",
              " 'prompt_toolkit.clipboard.in_memory': <module 'prompt_toolkit.clipboard.in_memory' from '/usr/local/lib/python3.9/dist-packages/prompt_toolkit/clipboard/in_memory.py'>,\n",
              " 'prompt_toolkit.clipboard': <module 'prompt_toolkit.clipboard' from '/usr/local/lib/python3.9/dist-packages/prompt_toolkit/clipboard/__init__.py'>,\n",
              " 'prompt_toolkit.completion.base': <module 'prompt_toolkit.completion.base' from '/usr/local/lib/python3.9/dist-packages/prompt_toolkit/completion/base.py'>,\n",
              " 'prompt_toolkit.completion.filesystem': <module 'prompt_toolkit.completion.filesystem' from '/usr/local/lib/python3.9/dist-packages/prompt_toolkit/completion/filesystem.py'>,\n",
              " 'prompt_toolkit.document': <module 'prompt_toolkit.document' from '/usr/local/lib/python3.9/dist-packages/prompt_toolkit/document.py'>,\n",
              " 'prompt_toolkit.completion.word_completer': <module 'prompt_toolkit.completion.word_completer' from '/usr/local/lib/python3.9/dist-packages/prompt_toolkit/completion/word_completer.py'>,\n",
              " 'prompt_toolkit.completion.fuzzy_completer': <module 'prompt_toolkit.completion.fuzzy_completer' from '/usr/local/lib/python3.9/dist-packages/prompt_toolkit/completion/fuzzy_completer.py'>,\n",
              " 'prompt_toolkit.completion': <module 'prompt_toolkit.completion' from '/usr/local/lib/python3.9/dist-packages/prompt_toolkit/completion/__init__.py'>,\n",
              " 'prompt_toolkit.history': <module 'prompt_toolkit.history' from '/usr/local/lib/python3.9/dist-packages/prompt_toolkit/history.py'>,\n",
              " 'prompt_toolkit.keys': <module 'prompt_toolkit.keys' from '/usr/local/lib/python3.9/dist-packages/prompt_toolkit/keys.py'>,\n",
              " 'prompt_toolkit.key_binding.key_bindings': <module 'prompt_toolkit.key_binding.key_bindings' from '/usr/local/lib/python3.9/dist-packages/prompt_toolkit/key_binding/key_bindings.py'>,\n",
              " 'prompt_toolkit.key_binding': <module 'prompt_toolkit.key_binding' from '/usr/local/lib/python3.9/dist-packages/prompt_toolkit/key_binding/__init__.py'>,\n",
              " 'prompt_toolkit.key_binding.vi_state': <module 'prompt_toolkit.key_binding.vi_state' from '/usr/local/lib/python3.9/dist-packages/prompt_toolkit/key_binding/vi_state.py'>,\n",
              " 'prompt_toolkit.search': <module 'prompt_toolkit.search' from '/usr/local/lib/python3.9/dist-packages/prompt_toolkit/search.py'>,\n",
              " 'prompt_toolkit.validation': <module 'prompt_toolkit.validation' from '/usr/local/lib/python3.9/dist-packages/prompt_toolkit/validation.py'>,\n",
              " 'prompt_toolkit.buffer': <module 'prompt_toolkit.buffer' from '/usr/local/lib/python3.9/dist-packages/prompt_toolkit/buffer.py'>,\n",
              " 'prompt_toolkit.input.base': <module 'prompt_toolkit.input.base' from '/usr/local/lib/python3.9/dist-packages/prompt_toolkit/input/base.py'>,\n",
              " 'prompt_toolkit.input.defaults': <module 'prompt_toolkit.input.defaults' from '/usr/local/lib/python3.9/dist-packages/prompt_toolkit/input/defaults.py'>,\n",
              " 'prompt_toolkit.input': <module 'prompt_toolkit.input' from '/usr/local/lib/python3.9/dist-packages/prompt_toolkit/input/__init__.py'>,\n",
              " 'prompt_toolkit.input.typeahead': <module 'prompt_toolkit.input.typeahead' from '/usr/local/lib/python3.9/dist-packages/prompt_toolkit/input/typeahead.py'>,\n",
              " 'prompt_toolkit.key_binding.bindings': <module 'prompt_toolkit.key_binding.bindings' from '/usr/local/lib/python3.9/dist-packages/prompt_toolkit/key_binding/bindings/__init__.py'>,\n",
              " 'prompt_toolkit.key_binding.bindings.scroll': <module 'prompt_toolkit.key_binding.bindings.scroll' from '/usr/local/lib/python3.9/dist-packages/prompt_toolkit/key_binding/bindings/scroll.py'>,\n",
              " 'prompt_toolkit.key_binding.bindings.page_navigation': <module 'prompt_toolkit.key_binding.bindings.page_navigation' from '/usr/local/lib/python3.9/dist-packages/prompt_toolkit/key_binding/bindings/page_navigation.py'>,\n",
              " 'prompt_toolkit.key_binding.key_processor': <module 'prompt_toolkit.key_binding.key_processor' from '/usr/local/lib/python3.9/dist-packages/prompt_toolkit/key_binding/key_processor.py'>,\n",
              " 'prompt_toolkit.key_binding.bindings.completion': <module 'prompt_toolkit.key_binding.bindings.completion' from '/usr/local/lib/python3.9/dist-packages/prompt_toolkit/key_binding/bindings/completion.py'>,\n",
              " 'prompt_toolkit.key_binding.bindings.named_commands': <module 'prompt_toolkit.key_binding.bindings.named_commands' from '/usr/local/lib/python3.9/dist-packages/prompt_toolkit/key_binding/bindings/named_commands.py'>,\n",
              " 'prompt_toolkit.key_binding.bindings.basic': <module 'prompt_toolkit.key_binding.bindings.basic' from '/usr/local/lib/python3.9/dist-packages/prompt_toolkit/key_binding/bindings/basic.py'>,\n",
              " 'prompt_toolkit.key_binding.bindings.cpr': <module 'prompt_toolkit.key_binding.bindings.cpr' from '/usr/local/lib/python3.9/dist-packages/prompt_toolkit/key_binding/bindings/cpr.py'>,\n",
              " 'prompt_toolkit.key_binding.bindings.emacs': <module 'prompt_toolkit.key_binding.bindings.emacs' from '/usr/local/lib/python3.9/dist-packages/prompt_toolkit/key_binding/bindings/emacs.py'>,\n",
              " 'prompt_toolkit.layout.screen': <module 'prompt_toolkit.layout.screen' from '/usr/local/lib/python3.9/dist-packages/prompt_toolkit/layout/screen.py'>,\n",
              " 'prompt_toolkit.output.base': <module 'prompt_toolkit.output.base' from '/usr/local/lib/python3.9/dist-packages/prompt_toolkit/output/base.py'>,\n",
              " 'prompt_toolkit.output.color_depth': <module 'prompt_toolkit.output.color_depth' from '/usr/local/lib/python3.9/dist-packages/prompt_toolkit/output/color_depth.py'>,\n",
              " 'prompt_toolkit.output.defaults': <module 'prompt_toolkit.output.defaults' from '/usr/local/lib/python3.9/dist-packages/prompt_toolkit/output/defaults.py'>,\n",
              " 'prompt_toolkit.output': <module 'prompt_toolkit.output' from '/usr/local/lib/python3.9/dist-packages/prompt_toolkit/output/__init__.py'>,\n",
              " 'prompt_toolkit.styles.base': <module 'prompt_toolkit.styles.base' from '/usr/local/lib/python3.9/dist-packages/prompt_toolkit/styles/base.py'>,\n",
              " 'prompt_toolkit.styles.named_colors': <module 'prompt_toolkit.styles.named_colors' from '/usr/local/lib/python3.9/dist-packages/prompt_toolkit/styles/named_colors.py'>,\n",
              " 'prompt_toolkit.styles.style': <module 'prompt_toolkit.styles.style' from '/usr/local/lib/python3.9/dist-packages/prompt_toolkit/styles/style.py'>,\n",
              " 'prompt_toolkit.styles.defaults': <module 'prompt_toolkit.styles.defaults' from '/usr/local/lib/python3.9/dist-packages/prompt_toolkit/styles/defaults.py'>,\n",
              " 'prompt_toolkit.styles.pygments': <module 'prompt_toolkit.styles.pygments' from '/usr/local/lib/python3.9/dist-packages/prompt_toolkit/styles/pygments.py'>,\n",
              " 'colorsys': <module 'colorsys' from '/usr/lib/python3.9/colorsys.py'>,\n",
              " 'prompt_toolkit.styles.style_transformation': <module 'prompt_toolkit.styles.style_transformation' from '/usr/local/lib/python3.9/dist-packages/prompt_toolkit/styles/style_transformation.py'>,\n",
              " 'prompt_toolkit.styles': <module 'prompt_toolkit.styles' from '/usr/local/lib/python3.9/dist-packages/prompt_toolkit/styles/__init__.py'>,\n",
              " 'prompt_toolkit.output.vt100': <module 'prompt_toolkit.output.vt100' from '/usr/local/lib/python3.9/dist-packages/prompt_toolkit/output/vt100.py'>,\n",
              " 'prompt_toolkit.formatted_text.base': <module 'prompt_toolkit.formatted_text.base' from '/usr/local/lib/python3.9/dist-packages/prompt_toolkit/formatted_text/base.py'>,\n",
              " 'prompt_toolkit.formatted_text.ansi': <module 'prompt_toolkit.formatted_text.ansi' from '/usr/local/lib/python3.9/dist-packages/prompt_toolkit/formatted_text/ansi.py'>,\n",
              " 'xml': <module 'xml' from '/usr/lib/python3.9/xml/__init__.py'>,\n",
              " 'xml.dom.domreg': <module 'xml.dom.domreg' from '/usr/lib/python3.9/xml/dom/domreg.py'>,\n",
              " 'xml.dom': <module 'xml.dom' from '/usr/lib/python3.9/xml/dom/__init__.py'>,\n",
              " 'xml.dom.minicompat': <module 'xml.dom.minicompat' from '/usr/lib/python3.9/xml/dom/minicompat.py'>,\n",
              " 'xml.dom.NodeFilter': <module 'xml.dom.NodeFilter' from '/usr/lib/python3.9/xml/dom/NodeFilter.py'>,\n",
              " 'xml.dom.xmlbuilder': <module 'xml.dom.xmlbuilder' from '/usr/lib/python3.9/xml/dom/xmlbuilder.py'>,\n",
              " 'xml.dom.minidom': <module 'xml.dom.minidom' from '/usr/lib/python3.9/xml/dom/minidom.py'>,\n",
              " 'prompt_toolkit.formatted_text.html': <module 'prompt_toolkit.formatted_text.html' from '/usr/local/lib/python3.9/dist-packages/prompt_toolkit/formatted_text/html.py'>,\n",
              " 'prompt_toolkit.formatted_text.pygments': <module 'prompt_toolkit.formatted_text.pygments' from '/usr/local/lib/python3.9/dist-packages/prompt_toolkit/formatted_text/pygments.py'>,\n",
              " 'prompt_toolkit.formatted_text.utils': <module 'prompt_toolkit.formatted_text.utils' from '/usr/local/lib/python3.9/dist-packages/prompt_toolkit/formatted_text/utils.py'>,\n",
              " 'prompt_toolkit.formatted_text': <module 'prompt_toolkit.formatted_text' from '/usr/local/lib/python3.9/dist-packages/prompt_toolkit/formatted_text/__init__.py'>,\n",
              " 'prompt_toolkit.mouse_events': <module 'prompt_toolkit.mouse_events' from '/usr/local/lib/python3.9/dist-packages/prompt_toolkit/mouse_events.py'>,\n",
              " 'prompt_toolkit.lexers.base': <module 'prompt_toolkit.lexers.base' from '/usr/local/lib/python3.9/dist-packages/prompt_toolkit/lexers/base.py'>,\n",
              " 'prompt_toolkit.lexers.pygments': <module 'prompt_toolkit.lexers.pygments' from '/usr/local/lib/python3.9/dist-packages/prompt_toolkit/lexers/pygments.py'>,\n",
              " 'prompt_toolkit.lexers': <module 'prompt_toolkit.lexers' from '/usr/local/lib/python3.9/dist-packages/prompt_toolkit/lexers/__init__.py'>,\n",
              " 'prompt_toolkit.layout.utils': <module 'prompt_toolkit.layout.utils' from '/usr/local/lib/python3.9/dist-packages/prompt_toolkit/layout/utils.py'>,\n",
              " 'prompt_toolkit.layout.processors': <module 'prompt_toolkit.layout.processors' from '/usr/local/lib/python3.9/dist-packages/prompt_toolkit/layout/processors.py'>,\n",
              " 'prompt_toolkit.layout.controls': <module 'prompt_toolkit.layout.controls' from '/usr/local/lib/python3.9/dist-packages/prompt_toolkit/layout/controls.py'>,\n",
              " 'prompt_toolkit.layout.dimension': <module 'prompt_toolkit.layout.dimension' from '/usr/local/lib/python3.9/dist-packages/prompt_toolkit/layout/dimension.py'>,\n",
              " 'prompt_toolkit.layout.margins': <module 'prompt_toolkit.layout.margins' from '/usr/local/lib/python3.9/dist-packages/prompt_toolkit/layout/margins.py'>,\n",
              " 'prompt_toolkit.layout.containers': <module 'prompt_toolkit.layout.containers' from '/usr/local/lib/python3.9/dist-packages/prompt_toolkit/layout/containers.py'>,\n",
              " 'prompt_toolkit.layout.layout': <module 'prompt_toolkit.layout.layout' from '/usr/local/lib/python3.9/dist-packages/prompt_toolkit/layout/layout.py'>,\n",
              " 'prompt_toolkit.layout.menus': <module 'prompt_toolkit.layout.menus' from '/usr/local/lib/python3.9/dist-packages/prompt_toolkit/layout/menus.py'>,\n",
              " 'prompt_toolkit.layout': <module 'prompt_toolkit.layout' from '/usr/local/lib/python3.9/dist-packages/prompt_toolkit/layout/__init__.py'>,\n",
              " 'prompt_toolkit.layout.mouse_handlers': <module 'prompt_toolkit.layout.mouse_handlers' from '/usr/local/lib/python3.9/dist-packages/prompt_toolkit/layout/mouse_handlers.py'>,\n",
              " 'prompt_toolkit.renderer': <module 'prompt_toolkit.renderer' from '/usr/local/lib/python3.9/dist-packages/prompt_toolkit/renderer.py'>,\n",
              " 'prompt_toolkit.key_binding.bindings.mouse': <module 'prompt_toolkit.key_binding.bindings.mouse' from '/usr/local/lib/python3.9/dist-packages/prompt_toolkit/key_binding/bindings/mouse.py'>,\n",
              " 'prompt_toolkit.input.ansi_escape_sequences': <module 'prompt_toolkit.input.ansi_escape_sequences' from '/usr/local/lib/python3.9/dist-packages/prompt_toolkit/input/ansi_escape_sequences.py'>,\n",
              " 'prompt_toolkit.input.vt100_parser': <module 'prompt_toolkit.input.vt100_parser' from '/usr/local/lib/python3.9/dist-packages/prompt_toolkit/input/vt100_parser.py'>,\n",
              " 'prompt_toolkit.key_binding.digraphs': <module 'prompt_toolkit.key_binding.digraphs' from '/usr/local/lib/python3.9/dist-packages/prompt_toolkit/key_binding/digraphs.py'>,\n",
              " 'prompt_toolkit.key_binding.bindings.vi': <module 'prompt_toolkit.key_binding.bindings.vi' from '/usr/local/lib/python3.9/dist-packages/prompt_toolkit/key_binding/bindings/vi.py'>,\n",
              " 'prompt_toolkit.key_binding.defaults': <module 'prompt_toolkit.key_binding.defaults' from '/usr/local/lib/python3.9/dist-packages/prompt_toolkit/key_binding/defaults.py'>,\n",
              " 'prompt_toolkit.key_binding.emacs_state': <module 'prompt_toolkit.key_binding.emacs_state' from '/usr/local/lib/python3.9/dist-packages/prompt_toolkit/key_binding/emacs_state.py'>,\n",
              " 'prompt_toolkit.layout.dummy': <module 'prompt_toolkit.layout.dummy' from '/usr/local/lib/python3.9/dist-packages/prompt_toolkit/layout/dummy.py'>,\n",
              " 'prompt_toolkit.application.application': <module 'prompt_toolkit.application.application' from '/usr/local/lib/python3.9/dist-packages/prompt_toolkit/application/application.py'>,\n",
              " 'prompt_toolkit.application.dummy': <module 'prompt_toolkit.application.dummy' from '/usr/local/lib/python3.9/dist-packages/prompt_toolkit/application/dummy.py'>,\n",
              " 'prompt_toolkit.application': <module 'prompt_toolkit.application' from '/usr/local/lib/python3.9/dist-packages/prompt_toolkit/application/__init__.py'>,\n",
              " 'prompt_toolkit.key_binding.bindings.focus': <module 'prompt_toolkit.key_binding.bindings.focus' from '/usr/local/lib/python3.9/dist-packages/prompt_toolkit/key_binding/bindings/focus.py'>,\n",
              " 'prompt_toolkit.widgets.toolbars': <module 'prompt_toolkit.widgets.toolbars' from '/usr/local/lib/python3.9/dist-packages/prompt_toolkit/widgets/toolbars.py'>,\n",
              " 'prompt_toolkit.widgets.base': <module 'prompt_toolkit.widgets.base' from '/usr/local/lib/python3.9/dist-packages/prompt_toolkit/widgets/base.py'>,\n",
              " 'prompt_toolkit.widgets.dialogs': <module 'prompt_toolkit.widgets.dialogs' from '/usr/local/lib/python3.9/dist-packages/prompt_toolkit/widgets/dialogs.py'>,\n",
              " 'prompt_toolkit.widgets.menus': <module 'prompt_toolkit.widgets.menus' from '/usr/local/lib/python3.9/dist-packages/prompt_toolkit/widgets/menus.py'>,\n",
              " 'prompt_toolkit.widgets': <module 'prompt_toolkit.widgets' from '/usr/local/lib/python3.9/dist-packages/prompt_toolkit/widgets/__init__.py'>,\n",
              " 'prompt_toolkit.shortcuts.dialogs': <module 'prompt_toolkit.shortcuts.dialogs' from '/usr/local/lib/python3.9/dist-packages/prompt_toolkit/shortcuts/dialogs.py'>,\n",
              " 'prompt_toolkit.shortcuts.progress_bar.formatters': <module 'prompt_toolkit.shortcuts.progress_bar.formatters' from '/usr/local/lib/python3.9/dist-packages/prompt_toolkit/shortcuts/progress_bar/formatters.py'>,\n",
              " 'prompt_toolkit.shortcuts.progress_bar.base': <module 'prompt_toolkit.shortcuts.progress_bar.base' from '/usr/local/lib/python3.9/dist-packages/prompt_toolkit/shortcuts/progress_bar/base.py'>,\n",
              " 'prompt_toolkit.shortcuts.progress_bar': <module 'prompt_toolkit.shortcuts.progress_bar' from '/usr/local/lib/python3.9/dist-packages/prompt_toolkit/shortcuts/progress_bar/__init__.py'>,\n",
              " 'prompt_toolkit.key_binding.bindings.auto_suggest': <module 'prompt_toolkit.key_binding.bindings.auto_suggest' from '/usr/local/lib/python3.9/dist-packages/prompt_toolkit/key_binding/bindings/auto_suggest.py'>,\n",
              " 'prompt_toolkit.key_binding.bindings.open_in_editor': <module 'prompt_toolkit.key_binding.bindings.open_in_editor' from '/usr/local/lib/python3.9/dist-packages/prompt_toolkit/key_binding/bindings/open_in_editor.py'>,\n",
              " 'prompt_toolkit.shortcuts.prompt': <module 'prompt_toolkit.shortcuts.prompt' from '/usr/local/lib/python3.9/dist-packages/prompt_toolkit/shortcuts/prompt.py'>,\n",
              " 'prompt_toolkit.shortcuts.utils': <module 'prompt_toolkit.shortcuts.utils' from '/usr/local/lib/python3.9/dist-packages/prompt_toolkit/shortcuts/utils.py'>,\n",
              " 'prompt_toolkit.shortcuts': <module 'prompt_toolkit.shortcuts' from '/usr/local/lib/python3.9/dist-packages/prompt_toolkit/shortcuts/__init__.py'>,\n",
              " 'prompt_toolkit': <module 'prompt_toolkit' from '/usr/local/lib/python3.9/dist-packages/prompt_toolkit/__init__.py'>,\n",
              " 'prompt_toolkit.patch_stdout': <module 'prompt_toolkit.patch_stdout' from '/usr/local/lib/python3.9/dist-packages/prompt_toolkit/patch_stdout.py'>,\n",
              " 'pygments.style': <module 'pygments.style' from '/usr/local/lib/python3.9/dist-packages/pygments/style.py'>,\n",
              " 'unicodedata': <module 'unicodedata' (built-in)>,\n",
              " 'IPython.core.latex_symbols': <module 'IPython.core.latex_symbols' from '/usr/local/lib/python3.9/dist-packages/IPython/core/latex_symbols.py'>,\n",
              " 'IPython.utils.generics': <module 'IPython.utils.generics' from '/usr/local/lib/python3.9/dist-packages/IPython/utils/generics.py'>,\n",
              " 'IPython.core.completer': <module 'IPython.core.completer' from '/usr/local/lib/python3.9/dist-packages/IPython/core/completer.py'>,\n",
              " 'IPython.terminal.ptutils': <module 'IPython.terminal.ptutils' from '/usr/local/lib/python3.9/dist-packages/IPython/terminal/ptutils.py'>,\n",
              " 'IPython.terminal.shortcuts': <module 'IPython.terminal.shortcuts' from '/usr/local/lib/python3.9/dist-packages/IPython/terminal/shortcuts.py'>,\n",
              " 'IPython.terminal.debugger': <module 'IPython.terminal.debugger' from '/usr/local/lib/python3.9/dist-packages/IPython/terminal/debugger.py'>,\n",
              " 'IPython.lib.clipboard': <module 'IPython.lib.clipboard' from '/usr/local/lib/python3.9/dist-packages/IPython/lib/clipboard.py'>,\n",
              " 'IPython.terminal.magics': <module 'IPython.terminal.magics' from '/usr/local/lib/python3.9/dist-packages/IPython/terminal/magics.py'>,\n",
              " 'IPython.terminal.pt_inputhooks': <module 'IPython.terminal.pt_inputhooks' from '/usr/local/lib/python3.9/dist-packages/IPython/terminal/pt_inputhooks/__init__.py'>,\n",
              " 'IPython.terminal.prompts': <module 'IPython.terminal.prompts' from '/usr/local/lib/python3.9/dist-packages/IPython/terminal/prompts.py'>,\n",
              " 'IPython.terminal.interactiveshell': <module 'IPython.terminal.interactiveshell' from '/usr/local/lib/python3.9/dist-packages/IPython/terminal/interactiveshell.py'>,\n",
              " 'IPython.core.magics.auto': <module 'IPython.core.magics.auto' from '/usr/local/lib/python3.9/dist-packages/IPython/core/magics/auto.py'>,\n",
              " 'IPython.core.magics.basic': <module 'IPython.core.magics.basic' from '/usr/local/lib/python3.9/dist-packages/IPython/core/magics/basic.py'>,\n",
              " 'email': <module 'email' from '/usr/lib/python3.9/email/__init__.py'>,\n",
              " 'http': <module 'http' from '/usr/lib/python3.9/http/__init__.py'>,\n",
              " 'email.errors': <module 'email.errors' from '/usr/lib/python3.9/email/errors.py'>,\n",
              " 'email.quoprimime': <module 'email.quoprimime' from '/usr/lib/python3.9/email/quoprimime.py'>,\n",
              " 'email.base64mime': <module 'email.base64mime' from '/usr/lib/python3.9/email/base64mime.py'>,\n",
              " 'quopri': <module 'quopri' from '/usr/lib/python3.9/quopri.py'>,\n",
              " 'email.encoders': <module 'email.encoders' from '/usr/lib/python3.9/email/encoders.py'>,\n",
              " 'email.charset': <module 'email.charset' from '/usr/lib/python3.9/email/charset.py'>,\n",
              " 'email.header': <module 'email.header' from '/usr/lib/python3.9/email/header.py'>,\n",
              " 'calendar': <module 'calendar' from '/usr/lib/python3.9/calendar.py'>,\n",
              " 'email._parseaddr': <module 'email._parseaddr' from '/usr/lib/python3.9/email/_parseaddr.py'>,\n",
              " 'email.utils': <module 'email.utils' from '/usr/lib/python3.9/email/utils.py'>,\n",
              " 'email._policybase': <module 'email._policybase' from '/usr/lib/python3.9/email/_policybase.py'>,\n",
              " 'email.feedparser': <module 'email.feedparser' from '/usr/lib/python3.9/email/feedparser.py'>,\n",
              " 'email.parser': <module 'email.parser' from '/usr/lib/python3.9/email/parser.py'>,\n",
              " 'uu': <module 'uu' from '/usr/lib/python3.9/uu.py'>,\n",
              " 'email._encoded_words': <module 'email._encoded_words' from '/usr/lib/python3.9/email/_encoded_words.py'>,\n",
              " 'email.iterators': <module 'email.iterators' from '/usr/lib/python3.9/email/iterators.py'>,\n",
              " 'email.message': <module 'email.message' from '/usr/lib/python3.9/email/message.py'>,\n",
              " 'http.client': <module 'http.client' from '/usr/lib/python3.9/http/client.py'>,\n",
              " 'urllib.response': <module 'urllib.response' from '/usr/lib/python3.9/urllib/response.py'>,\n",
              " 'urllib.error': <module 'urllib.error' from '/usr/lib/python3.9/urllib/error.py'>,\n",
              " 'urllib.request': <module 'urllib.request' from '/usr/lib/python3.9/urllib/request.py'>,\n",
              " 'IPython.core.magics.code': <module 'IPython.core.magics.code' from '/usr/local/lib/python3.9/dist-packages/IPython/core/magics/code.py'>,\n",
              " 'IPython.core.magics.config': <module 'IPython.core.magics.config' from '/usr/local/lib/python3.9/dist-packages/IPython/core/magics/config.py'>,\n",
              " 'IPython.core.magics.display': <module 'IPython.core.magics.display' from '/usr/local/lib/python3.9/dist-packages/IPython/core/magics/display.py'>,\n",
              " 'gc': <module 'gc' (built-in)>,\n",
              " 'timeit': <module 'timeit' from '/usr/lib/python3.9/timeit.py'>,\n",
              " '_lsprof': <module '_lsprof' from '/usr/lib/python3.9/lib-dynload/_lsprof.cpython-39-x86_64-linux-gnu.so'>,\n",
              " 'profile': <module 'profile' from '/usr/lib/python3.9/profile.py'>,\n",
              " 'cProfile': <module 'cProfile' from '/usr/lib/python3.9/cProfile.py'>,\n",
              " 'dataclasses': <module 'dataclasses' from '/usr/lib/python3.9/dataclasses.py'>,\n",
              " 'pstats': <module 'pstats' from '/usr/lib/python3.9/pstats.py'>,\n",
              " 'IPython.utils.module_paths': <module 'IPython.utils.module_paths' from '/usr/local/lib/python3.9/dist-packages/IPython/utils/module_paths.py'>,\n",
              " 'IPython.utils.timing': <module 'IPython.utils.timing' from '/usr/local/lib/python3.9/dist-packages/IPython/utils/timing.py'>,\n",
              " 'IPython.core.magics.execution': <module 'IPython.core.magics.execution' from '/usr/local/lib/python3.9/dist-packages/IPython/core/magics/execution.py'>,\n",
              " 'IPython.core.magics.extension': <module 'IPython.core.magics.extension' from '/usr/local/lib/python3.9/dist-packages/IPython/core/magics/extension.py'>,\n",
              " 'IPython.core.magics.history': <module 'IPython.core.magics.history' from '/usr/local/lib/python3.9/dist-packages/IPython/core/magics/history.py'>,\n",
              " 'IPython.core.magics.logging': <module 'IPython.core.magics.logging' from '/usr/local/lib/python3.9/dist-packages/IPython/core/magics/logging.py'>,\n",
              " 'IPython.core.magics.namespace': <module 'IPython.core.magics.namespace' from '/usr/local/lib/python3.9/dist-packages/IPython/core/magics/namespace.py'>,\n",
              " 'IPython.core.magics.osm': <module 'IPython.core.magics.osm' from '/usr/local/lib/python3.9/dist-packages/IPython/core/magics/osm.py'>,\n",
              " 'IPython.core.magics.packaging': <module 'IPython.core.magics.packaging' from '/usr/local/lib/python3.9/dist-packages/IPython/core/magics/packaging.py'>,\n",
              " 'IPython.core.pylabtools': <module 'IPython.core.pylabtools' from '/usr/local/lib/python3.9/dist-packages/IPython/core/pylabtools.py'>,\n",
              " 'IPython.core.magics.pylab': <module 'IPython.core.magics.pylab' from '/usr/local/lib/python3.9/dist-packages/IPython/core/magics/pylab.py'>,\n",
              " 'IPython.lib.backgroundjobs': <module 'IPython.lib.backgroundjobs' from '/usr/local/lib/python3.9/dist-packages/IPython/lib/backgroundjobs.py'>,\n",
              " 'IPython.core.magics.script': <module 'IPython.core.magics.script' from '/usr/local/lib/python3.9/dist-packages/IPython/core/magics/script.py'>,\n",
              " 'IPython.core.magics': <module 'IPython.core.magics' from '/usr/local/lib/python3.9/dist-packages/IPython/core/magics/__init__.py'>,\n",
              " 'IPython.core.shellapp': <module 'IPython.core.shellapp' from '/usr/local/lib/python3.9/dist-packages/IPython/core/shellapp.py'>,\n",
              " 'IPython.extensions': <module 'IPython.extensions' from '/usr/local/lib/python3.9/dist-packages/IPython/extensions/__init__.py'>,\n",
              " 'IPython.extensions.storemagic': <module 'IPython.extensions.storemagic' from '/usr/local/lib/python3.9/dist-packages/IPython/extensions/storemagic.py'>,\n",
              " 'IPython.terminal.ipapp': <module 'IPython.terminal.ipapp' from '/usr/local/lib/python3.9/dist-packages/IPython/terminal/ipapp.py'>,\n",
              " 'IPython.terminal.embed': <module 'IPython.terminal.embed' from '/usr/local/lib/python3.9/dist-packages/IPython/terminal/embed.py'>,\n",
              " 'IPython.utils.frame': <module 'IPython.utils.frame' from '/usr/local/lib/python3.9/dist-packages/IPython/utils/frame.py'>,\n",
              " 'IPython': <module 'IPython' from '/usr/local/lib/python3.9/dist-packages/IPython/__init__.py'>,\n",
              " 'ipython_genutils._version': <module 'ipython_genutils._version' from '/usr/local/lib/python3.9/dist-packages/ipython_genutils/_version.py'>,\n",
              " 'ipython_genutils': <module 'ipython_genutils' from '/usr/local/lib/python3.9/dist-packages/ipython_genutils/__init__.py'>,\n",
              " 'ipython_genutils.encoding': <module 'ipython_genutils.encoding' from '/usr/local/lib/python3.9/dist-packages/ipython_genutils/encoding.py'>,\n",
              " 'ipython_genutils.py3compat': <module 'ipython_genutils.py3compat' from '/usr/local/lib/python3.9/dist-packages/ipython_genutils/py3compat.py'>,\n",
              " 'ipython_genutils.path': <module 'ipython_genutils.path' from '/usr/local/lib/python3.9/dist-packages/ipython_genutils/path.py'>,\n",
              " 'jupyter_client._version': <module 'jupyter_client._version' from '/usr/local/lib/python3.9/dist-packages/jupyter_client/_version.py'>,\n",
              " '_ctypes': <module '_ctypes' from '/usr/lib/python3.9/lib-dynload/_ctypes.cpython-39-x86_64-linux-gnu.so'>,\n",
              " 'ctypes._endian': <module 'ctypes._endian' from '/usr/lib/python3.9/ctypes/_endian.py'>,\n",
              " 'ctypes': <module 'ctypes' from '/usr/lib/python3.9/ctypes/__init__.py'>,\n",
              " 'zmq.backend.select': <module 'zmq.backend.select' from '/usr/local/lib/python3.9/dist-packages/zmq/backend/select.py'>,\n",
              " '_cython_0_29_32': <module '_cython_0_29_32'>,\n",
              " 'cython_runtime': <module 'cython_runtime'>,\n",
              " 'zmq.error': <module 'zmq.error' from '/usr/local/lib/python3.9/dist-packages/zmq/error.py'>,\n",
              " 'zmq.backend.cython.context': <module 'zmq.backend.cython.context' from '/usr/local/lib/python3.9/dist-packages/zmq/backend/cython/context.cpython-39-x86_64-linux-gnu.so'>,\n",
              " 'zmq.backend.cython.message': <module 'zmq.backend.cython.message' from '/usr/local/lib/python3.9/dist-packages/zmq/backend/cython/message.cpython-39-x86_64-linux-gnu.so'>,\n",
              " 'zmq.constants': <module 'zmq.constants' from '/usr/local/lib/python3.9/dist-packages/zmq/constants.py'>,\n",
              " 'zmq.backend.cython.socket': <module 'zmq.backend.cython.socket' from '/usr/local/lib/python3.9/dist-packages/zmq/backend/cython/socket.cpython-39-x86_64-linux-gnu.so'>,\n",
              " 'zmq.backend.cython._device': <module 'zmq.backend.cython._device' from '/usr/local/lib/python3.9/dist-packages/zmq/backend/cython/_device.cpython-39-x86_64-linux-gnu.so'>,\n",
              " 'zmq.backend.cython._poll': <module 'zmq.backend.cython._poll' from '/usr/local/lib/python3.9/dist-packages/zmq/backend/cython/_poll.cpython-39-x86_64-linux-gnu.so'>,\n",
              " 'zmq.backend.cython._proxy_steerable': <module 'zmq.backend.cython._proxy_steerable' from '/usr/local/lib/python3.9/dist-packages/zmq/backend/cython/_proxy_steerable.cpython-39-x86_64-linux-gnu.so'>,\n",
              " 'zmq.backend.cython._version': <module 'zmq.backend.cython._version' from '/usr/local/lib/python3.9/dist-packages/zmq/backend/cython/_version.cpython-39-x86_64-linux-gnu.so'>,\n",
              " 'zmq.backend.cython.error': <module 'zmq.backend.cython.error' from '/usr/local/lib/python3.9/dist-packages/zmq/backend/cython/error.cpython-39-x86_64-linux-gnu.so'>,\n",
              " 'zmq.backend.cython.utils': <module 'zmq.backend.cython.utils' from '/usr/local/lib/python3.9/dist-packages/zmq/backend/cython/utils.cpython-39-x86_64-linux-gnu.so'>,\n",
              " 'zmq.backend.cython': <module 'zmq.backend.cython' from '/usr/local/lib/python3.9/dist-packages/zmq/backend/cython/__init__.py'>,\n",
              " 'zmq.backend': <module 'zmq.backend' from '/usr/local/lib/python3.9/dist-packages/zmq/backend/__init__.py'>,\n",
              " 'zmq.sugar.attrsettr': <module 'zmq.sugar.attrsettr' from '/usr/local/lib/python3.9/dist-packages/zmq/sugar/attrsettr.py'>,\n",
              " 'zmq._typing': <module 'zmq._typing' from '/usr/local/lib/python3.9/dist-packages/zmq/_typing.py'>,\n",
              " 'zmq.utils': <module 'zmq.utils' from '/usr/local/lib/python3.9/dist-packages/zmq/utils/__init__.py'>,\n",
              " 'zmq.utils.jsonapi': <module 'zmq.utils.jsonapi' from '/usr/local/lib/python3.9/dist-packages/zmq/utils/jsonapi.py'>,\n",
              " 'zmq.sugar.poll': <module 'zmq.sugar.poll' from '/usr/local/lib/python3.9/dist-packages/zmq/sugar/poll.py'>,\n",
              " 'zmq.sugar.socket': <module 'zmq.sugar.socket' from '/usr/local/lib/python3.9/dist-packages/zmq/sugar/socket.py'>,\n",
              " 'zmq.sugar.context': <module 'zmq.sugar.context' from '/usr/local/lib/python3.9/dist-packages/zmq/sugar/context.py'>,\n",
              " 'zmq.sugar.frame': <module 'zmq.sugar.frame' from '/usr/local/lib/python3.9/dist-packages/zmq/sugar/frame.py'>,\n",
              " 'zmq.sugar.tracker': <module 'zmq.sugar.tracker' from '/usr/local/lib/python3.9/dist-packages/zmq/sugar/tracker.py'>,\n",
              " 'zmq.sugar.version': <module 'zmq.sugar.version' from '/usr/local/lib/python3.9/dist-packages/zmq/sugar/version.py'>,\n",
              " 'zmq.sugar.stopwatch': <module 'zmq.sugar.stopwatch' from '/usr/local/lib/python3.9/dist-packages/zmq/sugar/stopwatch.py'>,\n",
              " 'zmq.sugar': <module 'zmq.sugar' from '/usr/local/lib/python3.9/dist-packages/zmq/sugar/__init__.py'>,\n",
              " 'zmq': <module 'zmq' from '/usr/local/lib/python3.9/dist-packages/zmq/__init__.py'>,\n",
              " 'jupyter_client.localinterfaces': <module 'jupyter_client.localinterfaces' from '/usr/local/lib/python3.9/dist-packages/jupyter_client/localinterfaces.py'>,\n",
              " 'jupyter_core.version': <module 'jupyter_core.version' from '/usr/local/lib/python3.9/dist-packages/jupyter_core/version.py'>,\n",
              " 'jupyter_core': <module 'jupyter_core' from '/usr/local/lib/python3.9/dist-packages/jupyter_core/__init__.py'>,\n",
              " 'platformdirs.api': <module 'platformdirs.api' from '/usr/local/lib/python3.9/dist-packages/platformdirs/api.py'>,\n",
              " 'platformdirs.version': <module 'platformdirs.version' from '/usr/local/lib/python3.9/dist-packages/platformdirs/version.py'>,\n",
              " 'configparser': <module 'configparser' from '/usr/lib/python3.9/configparser.py'>,\n",
              " 'platformdirs.unix': <module 'platformdirs.unix' from '/usr/local/lib/python3.9/dist-packages/platformdirs/unix.py'>,\n",
              " 'platformdirs': <module 'platformdirs' from '/usr/local/lib/python3.9/dist-packages/platformdirs/__init__.py'>,\n",
              " 'jupyter_core.utils': <module 'jupyter_core.utils' from '/usr/local/lib/python3.9/dist-packages/jupyter_core/utils/__init__.py'>,\n",
              " 'jupyter_core.paths': <module 'jupyter_core.paths' from '/usr/local/lib/python3.9/dist-packages/jupyter_core/paths.py'>,\n",
              " 'jupyter_client.utils': <module 'jupyter_client.utils' from '/usr/local/lib/python3.9/dist-packages/jupyter_client/utils.py'>,\n",
              " 'jupyter_client.connect': <module 'jupyter_client.connect' from '/usr/local/lib/python3.9/dist-packages/jupyter_client/connect.py'>,\n",
              " 'traitlets.log': <module 'traitlets.log' from '/usr/local/lib/python3.9/dist-packages/traitlets/log.py'>,\n",
              " 'jupyter_client.launcher': <module 'jupyter_client.launcher' from '/usr/local/lib/python3.9/dist-packages/jupyter_client/launcher.py'>,\n",
              " 'jupyter_client.channelsabc': <module 'jupyter_client.channelsabc' from '/usr/local/lib/python3.9/dist-packages/jupyter_client/channelsabc.py'>,\n",
              " 'jupyter_client.channels': <module 'jupyter_client.channels' from '/usr/local/lib/python3.9/dist-packages/jupyter_client/channels.py'>,\n",
              " 'jupyter_client.clientabc': <module 'jupyter_client.clientabc' from '/usr/local/lib/python3.9/dist-packages/jupyter_client/clientabc.py'>,\n",
              " 'jupyter_client.client': <module 'jupyter_client.client' from '/usr/local/lib/python3.9/dist-packages/jupyter_client/client.py'>,\n",
              " 'jupyter_client.kernelspec': <module 'jupyter_client.kernelspec' from '/usr/local/lib/python3.9/dist-packages/jupyter_client/kernelspec.py'>,\n",
              " 'jupyter_client.managerabc': <module 'jupyter_client.managerabc' from '/usr/local/lib/python3.9/dist-packages/jupyter_client/managerabc.py'>,\n",
              " 'jupyter_client.manager': <module 'jupyter_client.manager' from '/usr/local/lib/python3.9/dist-packages/jupyter_client/manager.py'>,\n",
              " 'jupyter_client.blocking.channels': <module 'jupyter_client.blocking.channels' from '/usr/local/lib/python3.9/dist-packages/jupyter_client/blocking/channels.py'>,\n",
              " 'jupyter_client.blocking.client': <module 'jupyter_client.blocking.client' from '/usr/local/lib/python3.9/dist-packages/jupyter_client/blocking/client.py'>,\n",
              " 'jupyter_client.blocking': <module 'jupyter_client.blocking' from '/usr/local/lib/python3.9/dist-packages/jupyter_client/blocking/__init__.py'>,\n",
              " 'zmq._future': <module 'zmq._future' from '/usr/local/lib/python3.9/dist-packages/zmq/_future.py'>,\n",
              " 'zmq.asyncio': <module 'zmq.asyncio' from '/usr/local/lib/python3.9/dist-packages/zmq/asyncio.py'>,\n",
              " 'jupyter_client.asynchronous.channels': <module 'jupyter_client.asynchronous.channels' from '/usr/local/lib/python3.9/dist-packages/jupyter_client/asynchronous/channels.py'>,\n",
              " 'jupyter_client.asynchronous.client': <module 'jupyter_client.asynchronous.client' from '/usr/local/lib/python3.9/dist-packages/jupyter_client/asynchronous/client.py'>,\n",
              " 'jupyter_client.asynchronous': <module 'jupyter_client.asynchronous' from '/usr/local/lib/python3.9/dist-packages/jupyter_client/asynchronous/__init__.py'>,\n",
              " '_uuid': <module '_uuid' from '/usr/lib/python3.9/lib-dynload/_uuid.cpython-39-x86_64-linux-gnu.so'>,\n",
              " 'uuid': <module 'uuid' from '/usr/lib/python3.9/uuid.py'>,\n",
              " 'jupyter_client.multikernelmanager': <module 'jupyter_client.multikernelmanager' from '/usr/local/lib/python3.9/dist-packages/jupyter_client/multikernelmanager.py'>,\n",
              " 'jupyter_client': <module 'jupyter_client' from '/usr/local/lib/python3.9/dist-packages/jupyter_client/__init__.py'>,\n",
              " 'ipykernel.connect': <module 'ipykernel.connect' from '/usr/local/lib/python3.9/dist-packages/ipykernel/connect.py'>,\n",
              " 'ipykernel': <module 'ipykernel' from '/usr/local/lib/python3.9/dist-packages/ipykernel/__init__.py'>,\n",
              " 'tornado': <module 'tornado' from '/usr/local/lib/python3.9/dist-packages/tornado/__init__.py'>,\n",
              " 'numbers': <module 'numbers' from '/usr/lib/python3.9/numbers.py'>,\n",
              " 'tornado.speedups': <module 'tornado.speedups' from '/usr/local/lib/python3.9/dist-packages/tornado/speedups.abi3.so'>,\n",
              " 'tornado.util': <module 'tornado.util' from '/usr/local/lib/python3.9/dist-packages/tornado/util.py'>,\n",
              " 'tornado.escape': <module 'tornado.escape' from '/usr/local/lib/python3.9/dist-packages/tornado/escape.py'>,\n",
              " '_curses': <module '_curses' from '/usr/lib/python3.9/lib-dynload/_curses.cpython-39-x86_64-linux-gnu.so'>,\n",
              " 'curses': <module 'curses' from '/usr/lib/python3.9/curses/__init__.py'>,\n",
              " 'tornado.log': <module 'tornado.log' from '/usr/local/lib/python3.9/dist-packages/tornado/log.py'>,\n",
              " 'tornado.concurrent': <module 'tornado.concurrent' from '/usr/local/lib/python3.9/dist-packages/tornado/concurrent.py'>,\n",
              " 'tornado.ioloop': <module 'tornado.ioloop' from '/usr/local/lib/python3.9/dist-packages/tornado/ioloop.py'>,\n",
              " 'tornado.platform': <module 'tornado.platform' from '/usr/local/lib/python3.9/dist-packages/tornado/platform/__init__.py'>,\n",
              " 'tornado.gen': <module 'tornado.gen' from '/usr/local/lib/python3.9/dist-packages/tornado/gen.py'>,\n",
              " 'tornado.platform.asyncio': <module 'tornado.platform.asyncio' from '/usr/local/lib/python3.9/dist-packages/tornado/platform/asyncio.py'>,\n",
              " 'zmq.eventloop.ioloop': <module 'zmq.eventloop.ioloop' from '/usr/local/lib/python3.9/dist-packages/zmq/eventloop/ioloop.py'>,\n",
              " 'zmq.eventloop': <module 'zmq.eventloop' from '/usr/local/lib/python3.9/dist-packages/zmq/eventloop/__init__.py'>,\n",
              " 'zmq.eventloop.zmqstream': <module 'zmq.eventloop.zmqstream' from '/usr/local/lib/python3.9/dist-packages/zmq/eventloop/zmqstream.py'>,\n",
              " 'ipython_genutils.importstring': <module 'ipython_genutils.importstring' from '/usr/local/lib/python3.9/dist-packages/ipython_genutils/importstring.py'>,\n",
              " 'imp': <module 'imp' from '/usr/lib/python3.9/imp.py'>,\n",
              " 'hmac': <module 'hmac' from '/usr/lib/python3.9/hmac.py'>,\n",
              " 'dateutil._version': <module 'dateutil._version' from '/usr/local/lib/python3.9/dist-packages/dateutil/_version.py'>,\n",
              " 'dateutil': <module 'dateutil' from '/usr/local/lib/python3.9/dist-packages/dateutil/__init__.py'>,\n",
              " '_decimal': <module '_decimal' from '/usr/lib/python3.9/lib-dynload/_decimal.cpython-39-x86_64-linux-gnu.so'>,\n",
              " 'decimal': <module 'decimal' from '/usr/lib/python3.9/decimal.py'>,\n",
              " 'dateutil._common': <module 'dateutil._common' from '/usr/local/lib/python3.9/dist-packages/dateutil/_common.py'>,\n",
              " 'dateutil.relativedelta': <module 'dateutil.relativedelta' from '/usr/local/lib/python3.9/dist-packages/dateutil/relativedelta.py'>,\n",
              " 'dateutil.tz._common': <module 'dateutil.tz._common' from '/usr/local/lib/python3.9/dist-packages/dateutil/tz/_common.py'>,\n",
              " 'dateutil.tz._factories': <module 'dateutil.tz._factories' from '/usr/local/lib/python3.9/dist-packages/dateutil/tz/_factories.py'>,\n",
              " 'dateutil.tz.tz': <module 'dateutil.tz.tz' from '/usr/local/lib/python3.9/dist-packages/dateutil/tz/tz.py'>,\n",
              " 'dateutil.tz': <module 'dateutil.tz' from '/usr/local/lib/python3.9/dist-packages/dateutil/tz/__init__.py'>,\n",
              " 'dateutil.parser._parser': <module 'dateutil.parser._parser' from '/usr/local/lib/python3.9/dist-packages/dateutil/parser/_parser.py'>,\n",
              " 'dateutil.parser.isoparser': <module 'dateutil.parser.isoparser' from '/usr/local/lib/python3.9/dist-packages/dateutil/parser/isoparser.py'>,\n",
              " 'dateutil.parser': <module 'dateutil.parser' from '/usr/local/lib/python3.9/dist-packages/dateutil/parser/__init__.py'>,\n",
              " '_strptime': <module '_strptime' from '/usr/lib/python3.9/_strptime.py'>,\n",
              " 'jupyter_client.jsonutil': <module 'jupyter_client.jsonutil' from '/usr/local/lib/python3.9/dist-packages/jupyter_client/jsonutil.py'>,\n",
              " 'jupyter_client.adapter': <module 'jupyter_client.adapter' from '/usr/local/lib/python3.9/dist-packages/jupyter_client/adapter.py'>,\n",
              " 'jupyter_client.session': <module 'jupyter_client.session' from '/usr/local/lib/python3.9/dist-packages/jupyter_client/session.py'>,\n",
              " 'ipykernel.iostream': <module 'ipykernel.iostream' from '/usr/local/lib/python3.9/dist-packages/ipykernel/iostream.py'>,\n",
              " 'ipykernel.heartbeat': <module 'ipykernel.heartbeat' from '/usr/local/lib/python3.9/dist-packages/ipykernel/heartbeat.py'>,\n",
              " 'IPython.utils.tokenutil': <module 'IPython.utils.tokenutil' from '/usr/local/lib/python3.9/dist-packages/IPython/utils/tokenutil.py'>,\n",
              " 'tornado.locks': <module 'tornado.locks' from '/usr/local/lib/python3.9/dist-packages/tornado/locks.py'>,\n",
              " 'tornado.queues': <module 'tornado.queues' from '/usr/local/lib/python3.9/dist-packages/tornado/queues.py'>,\n",
              " 'ipykernel.jsonutil': <module 'ipykernel.jsonutil' from '/usr/local/lib/python3.9/dist-packages/ipykernel/jsonutil.py'>,\n",
              " 'ipykernel.kernelbase': <module 'ipykernel.kernelbase' from '/usr/local/lib/python3.9/dist-packages/ipykernel/kernelbase.py'>,\n",
              " 'ipykernel.comm.comm': <module 'ipykernel.comm.comm' from '/usr/local/lib/python3.9/dist-packages/ipykernel/comm/comm.py'>,\n",
              " 'ipykernel.comm.manager': <module 'ipykernel.comm.manager' from '/usr/local/lib/python3.9/dist-packages/ipykernel/comm/manager.py'>,\n",
              " 'ipykernel.comm': <module 'ipykernel.comm' from '/usr/local/lib/python3.9/dist-packages/ipykernel/comm/__init__.py'>,\n",
              " 'IPython.core.payloadpage': <module 'IPython.core.payloadpage' from '/usr/local/lib/python3.9/dist-packages/IPython/core/payloadpage.py'>,\n",
              " 'ipykernel.displayhook': <module 'ipykernel.displayhook' from '/usr/local/lib/python3.9/dist-packages/ipykernel/displayhook.py'>,\n",
              " 'ipykernel.zmqshell': <module 'ipykernel.zmqshell' from '/usr/local/lib/python3.9/dist-packages/ipykernel/zmqshell.py'>,\n",
              " 'distutils': <module 'distutils' from '/usr/lib/python3.9/distutils/__init__.py'>,\n",
              " 'distutils.version': <module 'distutils.version' from '/usr/lib/python3.9/distutils/version.py'>,\n",
              " 'ipykernel.eventloops': <module 'ipykernel.eventloops' from '/usr/local/lib/python3.9/dist-packages/ipykernel/eventloops.py'>,\n",
              " 'ipykernel.ipkernel': <module 'ipykernel.ipkernel' from '/usr/local/lib/python3.9/dist-packages/ipykernel/ipkernel.py'>,\n",
              " 'ipykernel.parentpoller': <module 'ipykernel.parentpoller' from '/usr/local/lib/python3.9/dist-packages/ipykernel/parentpoller.py'>,\n",
              " 'ipykernel.kernelapp': <module 'ipykernel.kernelapp' from '/usr/local/lib/python3.9/dist-packages/ipykernel/kernelapp.py'>,\n",
              " 'google.colab._import_hooks._altair': <module 'google.colab._import_hooks._altair' from '/usr/local/lib/python3.9/dist-packages/google/colab/_import_hooks/_altair.py'>,\n",
              " 'google.colab._import_hooks._bokeh': <module 'google.colab._import_hooks._bokeh' from '/usr/local/lib/python3.9/dist-packages/google/colab/_import_hooks/_bokeh.py'>,\n",
              " 'google.colab._import_hooks._client_info': <module 'google.colab._import_hooks._client_info' from '/usr/local/lib/python3.9/dist-packages/google/colab/_import_hooks/_client_info.py'>,\n",
              " 'google.colab._import_hooks._cv2': <module 'google.colab._import_hooks._cv2' from '/usr/local/lib/python3.9/dist-packages/google/colab/_import_hooks/_cv2.py'>,\n",
              " 'google.colab._import_hooks._pydrive': <module 'google.colab._import_hooks._pydrive' from '/usr/local/lib/python3.9/dist-packages/google/colab/_import_hooks/_pydrive.py'>,\n",
              " 'google.colab._import_hooks': <module 'google.colab._import_hooks' from '/usr/local/lib/python3.9/dist-packages/google/colab/_import_hooks/__init__.py'>,\n",
              " 'google.colab._import_magics': <module 'google.colab._import_magics' from '/usr/local/lib/python3.9/dist-packages/google/colab/_import_magics.py'>,\n",
              " 'google.colab._installation_commands': <module 'google.colab._installation_commands' from '/usr/local/lib/python3.9/dist-packages/google/colab/_installation_commands.py'>,\n",
              " 'google.colab._interactive_table_helper': <module 'google.colab._interactive_table_helper' from '/usr/local/lib/python3.9/dist-packages/google/colab/_interactive_table_helper.py'>,\n",
              " 'IPython.utils.traitlets': <module 'IPython.utils.traitlets' from '/usr/local/lib/python3.9/dist-packages/IPython/utils/traitlets.py'>,\n",
              " 'google.colab.data_table': <module 'google.colab.data_table' from '/usr/local/lib/python3.9/dist-packages/google/colab/data_table.py'>,\n",
              " 'google.colab._ipython': <module 'google.colab._ipython' from '/usr/local/lib/python3.9/dist-packages/google/colab/_ipython.py'>,\n",
              " 'google.colab.errors': <module 'google.colab.errors' from '/usr/local/lib/python3.9/dist-packages/google/colab/errors.py'>,\n",
              " 'google.colab._message': <module 'google.colab._message' from '/usr/local/lib/python3.9/dist-packages/google/colab/_message.py'>,\n",
              " 'google.colab.output._js': <module 'google.colab.output._js' from '/usr/local/lib/python3.9/dist-packages/google/colab/output/_js.py'>,\n",
              " 'google.colab.output._publish': <module 'google.colab.output._publish' from '/usr/local/lib/python3.9/dist-packages/google/colab/output/_publish.py'>,\n",
              " 'google.colab.output._js_builder': <module 'google.colab.output._js_builder' from '/usr/local/lib/python3.9/dist-packages/google/colab/output/_js_builder.py'>,\n",
              " 'google.colab.output._area': <module 'google.colab.output._area' from '/usr/local/lib/python3.9/dist-packages/google/colab/output/_area.py'>,\n",
              " 'google.colab.output._tags': <module 'google.colab.output._tags' from '/usr/local/lib/python3.9/dist-packages/google/colab/output/_tags.py'>,\n",
              " 'google.colab.output._util': <module 'google.colab.output._util' from '/usr/local/lib/python3.9/dist-packages/google/colab/output/_util.py'>,\n",
              " 'google.colab.output._widgets': <module 'google.colab.output._widgets' from '/usr/local/lib/python3.9/dist-packages/google/colab/output/_widgets.py'>,\n",
              " 'google.colab.output': <module 'google.colab.output' from '/usr/local/lib/python3.9/dist-packages/google/colab/output/__init__.py'>,\n",
              " 'google.colab._interactive_table_hint_button': <module 'google.colab._interactive_table_hint_button' from '/usr/local/lib/python3.9/dist-packages/google/colab/_interactive_table_hint_button.py'>,\n",
              " 'google.colab._reprs': <module 'google.colab._reprs' from '/usr/local/lib/python3.9/dist-packages/google/colab/_reprs.py'>,\n",
              " 'google.colab._shell_customizations': <module 'google.colab._shell_customizations' from '/usr/local/lib/python3.9/dist-packages/google/colab/_shell_customizations.py'>,\n",
              " 'google.colab._system_commands': <module 'google.colab._system_commands' from '/usr/local/lib/python3.9/dist-packages/google/colab/_system_commands.py'>,\n",
              " 'google.colab._tensorflow_magics': <module 'google.colab._tensorflow_magics' from '/usr/local/lib/python3.9/dist-packages/google/colab/_tensorflow_magics.py'>,\n",
              " 'http.server': <module 'http.server' from '/usr/lib/python3.9/http/server.py'>,\n",
              " 'google.colab.files': <module 'google.colab.files' from '/usr/local/lib/python3.9/dist-packages/google/colab/files.py'>,\n",
              " 'google.colab.auth': <module 'google.colab.auth' from '/usr/local/lib/python3.9/dist-packages/google/colab/auth.py'>,\n",
              " 'pexpect.popen_spawn': <module 'pexpect.popen_spawn' from '/usr/local/lib/python3.9/dist-packages/pexpect/popen_spawn.py'>,\n",
              " 'psutil._common': <module 'psutil._common' from '/usr/local/lib/python3.9/dist-packages/psutil/_common.py'>,\n",
              " 'psutil._compat': <module 'psutil._compat' from '/usr/local/lib/python3.9/dist-packages/psutil/_compat.py'>,\n",
              " 'psutil._exceptions': <module 'psutil._exceptions' from '/usr/local/lib/python3.9/dist-packages/psutil/_exceptions.py'>,\n",
              " 'psutil._psposix': <module 'psutil._psposix' from '/usr/local/lib/python3.9/dist-packages/psutil/_psposix.py'>,\n",
              " 'psutil._psutil_linux': <module 'psutil._psutil_linux' from '/usr/local/lib/python3.9/dist-packages/psutil/_psutil_linux.cpython-39-x86_64-linux-gnu.so'>,\n",
              " 'psutil._psutil_posix': <module 'psutil._psutil_posix' from '/usr/local/lib/python3.9/dist-packages/psutil/_psutil_posix.cpython-39-x86_64-linux-gnu.so'>,\n",
              " 'psutil._pslinux': <module 'psutil._pslinux' from '/usr/local/lib/python3.9/dist-packages/psutil/_pslinux.py'>,\n",
              " 'psutil': <module 'psutil' from '/usr/local/lib/python3.9/dist-packages/psutil/__init__.py'>,\n",
              " 'google.colab.drive': <module 'google.colab.drive' from '/usr/local/lib/python3.9/dist-packages/google/colab/drive.py'>,\n",
              " 'gzip': <module 'gzip' from '/usr/lib/python3.9/gzip.py'>,\n",
              " 'socks': <module 'socks' from '/usr/local/lib/python3.9/dist-packages/socks.py'>,\n",
              " 'httplib2.iri2uri': <module 'httplib2.iri2uri' from '/usr/local/lib/python3.9/dist-packages/httplib2/iri2uri.py'>,\n",
              " 'zipfile': <module 'zipfile' from '/usr/lib/python3.9/zipfile.py'>,\n",
              " 'importlib._common': <module 'importlib._common' from '/usr/lib/python3.9/importlib/_common.py'>,\n",
              " 'importlib.resources': <module 'importlib.resources' from '/usr/lib/python3.9/importlib/resources.py'>,\n",
              " 'certifi.core': <module 'certifi.core' from '/usr/local/lib/python3.9/dist-packages/certifi/core.py'>,\n",
              " 'certifi': <module 'certifi' from '/usr/local/lib/python3.9/dist-packages/certifi/__init__.py'>,\n",
              " 'httplib2.certs': <module 'httplib2.certs' from '/usr/local/lib/python3.9/dist-packages/httplib2/certs.py'>,\n",
              " 'httplib2': <module 'httplib2' from '/usr/local/lib/python3.9/dist-packages/httplib2/__init__.py'>,\n",
              " 'google.colab.runtime': <module 'google.colab.runtime' from '/usr/local/lib/python3.9/dist-packages/google/colab/runtime.py'>,\n",
              " 'google.colab.snippets': <module 'google.colab.snippets' from '/usr/local/lib/python3.9/dist-packages/google/colab/snippets.py'>,\n",
              " 'google.colab.widgets._widget': <module 'google.colab.widgets._widget' from '/usr/local/lib/python3.9/dist-packages/google/colab/widgets/_widget.py'>,\n",
              " 'google.colab.widgets._grid': <module 'google.colab.widgets._grid' from '/usr/local/lib/python3.9/dist-packages/google/colab/widgets/_grid.py'>,\n",
              " 'google.colab.widgets._tabbar': <module 'google.colab.widgets._tabbar' from '/usr/local/lib/python3.9/dist-packages/google/colab/widgets/_tabbar.py'>,\n",
              " 'google.colab.widgets': <module 'google.colab.widgets' from '/usr/local/lib/python3.9/dist-packages/google/colab/widgets/__init__.py'>,\n",
              " 'google.colab': <module 'google.colab' from '/usr/local/lib/python3.9/dist-packages/google/colab/__init__.py'>,\n",
              " 'google.colab._history': <module 'google.colab._history' from '/usr/local/lib/python3.9/dist-packages/google/colab/_history.py'>,\n",
              " 'google.colab._inspector': <module 'google.colab._inspector' from '/usr/local/lib/python3.9/dist-packages/google/colab/_inspector.py'>,\n",
              " 'google.colab._pip': <module 'google.colab._pip' from '/usr/local/lib/python3.9/dist-packages/google/colab/_pip.py'>,\n",
              " 'IPython.core.inputtransformer': <module 'IPython.core.inputtransformer' from '/usr/local/lib/python3.9/dist-packages/IPython/core/inputtransformer.py'>,\n",
              " 'IPython.core.inputsplitter': <module 'IPython.core.inputsplitter' from '/usr/local/lib/python3.9/dist-packages/IPython/core/inputsplitter.py'>,\n",
              " 'google.colab._shell': <module 'google.colab._shell' from '/usr/local/lib/python3.9/dist-packages/google/colab/_shell.py'>,\n",
              " 'google.colab._kernel': <module 'google.colab._kernel' from '/usr/local/lib/python3.9/dist-packages/google/colab/_kernel.py'>,\n",
              " 'faulthandler': <module 'faulthandler' (built-in)>,\n",
              " 'ipykernel.codeutil': <module 'ipykernel.codeutil' from '/usr/local/lib/python3.9/dist-packages/ipykernel/codeutil.py'>,\n",
              " 'ipykernel.pickleutil': <module 'ipykernel.pickleutil' from '/usr/local/lib/python3.9/dist-packages/ipykernel/pickleutil.py'>,\n",
              " 'ipykernel.serialize': <module 'ipykernel.serialize' from '/usr/local/lib/python3.9/dist-packages/ipykernel/serialize.py'>,\n",
              " 'ipykernel.datapub': <module 'ipykernel.datapub' from '/usr/local/lib/python3.9/dist-packages/ipykernel/datapub.py'>,\n",
              " 'IPython.core.completerlib': <module 'IPython.core.completerlib' from '/usr/local/lib/python3.9/dist-packages/IPython/core/completerlib.py'>,\n",
              " 'numpy._globals': <module 'numpy._globals' from '/usr/local/lib/python3.9/dist-packages/numpy/_globals.py'>,\n",
              " 'numpy.__config__': <module 'numpy.__config__' from '/usr/local/lib/python3.9/dist-packages/numpy/__config__.py'>,\n",
              " 'numpy._distributor_init': <module 'numpy._distributor_init' from '/usr/local/lib/python3.9/dist-packages/numpy/_distributor_init.py'>,\n",
              " 'numpy._version': <module 'numpy._version' from '/usr/local/lib/python3.9/dist-packages/numpy/_version.py'>,\n",
              " 'numpy.version': <module 'numpy.version' from '/usr/local/lib/python3.9/dist-packages/numpy/version.py'>,\n",
              " 'numpy.core._multiarray_umath': <module 'numpy.core._multiarray_umath' from '/usr/local/lib/python3.9/dist-packages/numpy/core/_multiarray_umath.cpython-39-x86_64-linux-gnu.so'>,\n",
              " 'numpy.compat._inspect': <module 'numpy.compat._inspect' from '/usr/local/lib/python3.9/dist-packages/numpy/compat/_inspect.py'>,\n",
              " 'numpy.compat.py3k': <module 'numpy.compat.py3k' from '/usr/local/lib/python3.9/dist-packages/numpy/compat/py3k.py'>,\n",
              " 'numpy.compat': <module 'numpy.compat' from '/usr/local/lib/python3.9/dist-packages/numpy/compat/__init__.py'>,\n",
              " 'numpy.core.overrides': <module 'numpy.core.overrides' from '/usr/local/lib/python3.9/dist-packages/numpy/core/overrides.py'>,\n",
              " 'numpy.core.multiarray': <module 'numpy.core.multiarray' from '/usr/local/lib/python3.9/dist-packages/numpy/core/multiarray.py'>,\n",
              " 'numpy.core.umath': <module 'numpy.core.umath' from '/usr/local/lib/python3.9/dist-packages/numpy/core/umath.py'>,\n",
              " 'numpy.core._string_helpers': <module 'numpy.core._string_helpers' from '/usr/local/lib/python3.9/dist-packages/numpy/core/_string_helpers.py'>,\n",
              " 'numpy.core._dtype': <module 'numpy.core._dtype' from '/usr/local/lib/python3.9/dist-packages/numpy/core/_dtype.py'>,\n",
              " 'numpy.core._type_aliases': <module 'numpy.core._type_aliases' from '/usr/local/lib/python3.9/dist-packages/numpy/core/_type_aliases.py'>,\n",
              " 'numpy.core.numerictypes': <module 'numpy.core.numerictypes' from '/usr/local/lib/python3.9/dist-packages/numpy/core/numerictypes.py'>,\n",
              " 'numpy.core._exceptions': <module 'numpy.core._exceptions' from '/usr/local/lib/python3.9/dist-packages/numpy/core/_exceptions.py'>,\n",
              " 'numpy.core._methods': <module 'numpy.core._methods' from '/usr/local/lib/python3.9/dist-packages/numpy/core/_methods.py'>,\n",
              " 'numpy.core.fromnumeric': <module 'numpy.core.fromnumeric' from '/usr/local/lib/python3.9/dist-packages/numpy/core/fromnumeric.py'>,\n",
              " 'numpy.core.shape_base': <module 'numpy.core.shape_base' from '/usr/local/lib/python3.9/dist-packages/numpy/core/shape_base.py'>,\n",
              " 'numpy.core._ufunc_config': <module 'numpy.core._ufunc_config' from '/usr/local/lib/python3.9/dist-packages/numpy/core/_ufunc_config.py'>,\n",
              " 'numpy.core.arrayprint': <module 'numpy.core.arrayprint' from '/usr/local/lib/python3.9/dist-packages/numpy/core/arrayprint.py'>,\n",
              " 'numpy.core._asarray': <module 'numpy.core._asarray' from '/usr/local/lib/python3.9/dist-packages/numpy/core/_asarray.py'>,\n",
              " 'numpy.core.numeric': <module 'numpy.core.numeric' from '/usr/local/lib/python3.9/dist-packages/numpy/core/numeric.py'>,\n",
              " 'numpy.core.defchararray': <module 'numpy.core.defchararray' from '/usr/local/lib/python3.9/dist-packages/numpy/core/defchararray.py'>,\n",
              " 'numpy.core.records': <module 'numpy.core.records' from '/usr/local/lib/python3.9/dist-packages/numpy/core/records.py'>,\n",
              " 'numpy.core.memmap': <module 'numpy.core.memmap' from '/usr/local/lib/python3.9/dist-packages/numpy/core/memmap.py'>,\n",
              " 'numpy.core.function_base': <module 'numpy.core.function_base' from '/usr/local/lib/python3.9/dist-packages/numpy/core/function_base.py'>,\n",
              " 'numpy.core._machar': <module 'numpy.core._machar' from '/usr/local/lib/python3.9/dist-packages/numpy/core/_machar.py'>,\n",
              " 'numpy.core.getlimits': <module 'numpy.core.getlimits' from '/usr/local/lib/python3.9/dist-packages/numpy/core/getlimits.py'>,\n",
              " 'numpy.core.einsumfunc': <module 'numpy.core.einsumfunc' from '/usr/local/lib/python3.9/dist-packages/numpy/core/einsumfunc.py'>,\n",
              " 'numpy.core._multiarray_tests': <module 'numpy.core._multiarray_tests' from '/usr/local/lib/python3.9/dist-packages/numpy/core/_multiarray_tests.cpython-39-x86_64-linux-gnu.so'>,\n",
              " 'numpy.core._add_newdocs': <module 'numpy.core._add_newdocs' from '/usr/local/lib/python3.9/dist-packages/numpy/core/_add_newdocs.py'>,\n",
              " 'numpy.core._add_newdocs_scalars': <module 'numpy.core._add_newdocs_scalars' from '/usr/local/lib/python3.9/dist-packages/numpy/core/_add_newdocs_scalars.py'>,\n",
              " 'numpy.core._dtype_ctypes': <module 'numpy.core._dtype_ctypes' from '/usr/local/lib/python3.9/dist-packages/numpy/core/_dtype_ctypes.py'>,\n",
              " 'numpy.core._internal': <module 'numpy.core._internal' from '/usr/local/lib/python3.9/dist-packages/numpy/core/_internal.py'>,\n",
              " 'numpy._pytesttester': <module 'numpy._pytesttester' from '/usr/local/lib/python3.9/dist-packages/numpy/_pytesttester.py'>,\n",
              " 'numpy.core': <module 'numpy.core' from '/usr/local/lib/python3.9/dist-packages/numpy/core/__init__.py'>,\n",
              " 'numpy.lib.mixins': <module 'numpy.lib.mixins' from '/usr/local/lib/python3.9/dist-packages/numpy/lib/mixins.py'>,\n",
              " 'numpy.lib.ufunclike': <module 'numpy.lib.ufunclike' from '/usr/local/lib/python3.9/dist-packages/numpy/lib/ufunclike.py'>,\n",
              " 'numpy.lib.type_check': <module 'numpy.lib.type_check' from '/usr/local/lib/python3.9/dist-packages/numpy/lib/type_check.py'>,\n",
              " 'numpy.lib.scimath': <module 'numpy.lib.scimath' from '/usr/local/lib/python3.9/dist-packages/numpy/lib/scimath.py'>,\n",
              " 'numpy.lib.stride_tricks': <module 'numpy.lib.stride_tricks' from '/usr/local/lib/python3.9/dist-packages/numpy/lib/stride_tricks.py'>,\n",
              " 'numpy.lib.twodim_base': <module 'numpy.lib.twodim_base' from '/usr/local/lib/python3.9/dist-packages/numpy/lib/twodim_base.py'>,\n",
              " 'numpy.linalg._umath_linalg': <module 'numpy.linalg._umath_linalg' from '/usr/local/lib/python3.9/dist-packages/numpy/linalg/_umath_linalg.cpython-39-x86_64-linux-gnu.so'>,\n",
              " 'numpy.linalg.linalg': <module 'numpy.linalg.linalg' from '/usr/local/lib/python3.9/dist-packages/numpy/linalg/linalg.py'>,\n",
              " 'numpy.linalg': <module 'numpy.linalg' from '/usr/local/lib/python3.9/dist-packages/numpy/linalg/__init__.py'>,\n",
              " 'numpy.matrixlib.defmatrix': <module 'numpy.matrixlib.defmatrix' from '/usr/local/lib/python3.9/dist-packages/numpy/matrixlib/defmatrix.py'>,\n",
              " 'numpy.matrixlib': <module 'numpy.matrixlib' from '/usr/local/lib/python3.9/dist-packages/numpy/matrixlib/__init__.py'>,\n",
              " 'numpy.lib.histograms': <module 'numpy.lib.histograms' from '/usr/local/lib/python3.9/dist-packages/numpy/lib/histograms.py'>,\n",
              " 'numpy.lib.function_base': <module 'numpy.lib.function_base' from '/usr/local/lib/python3.9/dist-packages/numpy/lib/function_base.py'>,\n",
              " 'numpy.lib.index_tricks': <module 'numpy.lib.index_tricks' from '/usr/local/lib/python3.9/dist-packages/numpy/lib/index_tricks.py'>,\n",
              " 'numpy.lib.nanfunctions': <module 'numpy.lib.nanfunctions' from '/usr/local/lib/python3.9/dist-packages/numpy/lib/nanfunctions.py'>,\n",
              " 'numpy.lib.shape_base': <module 'numpy.lib.shape_base' from '/usr/local/lib/python3.9/dist-packages/numpy/lib/shape_base.py'>,\n",
              " 'numpy.lib.polynomial': <module 'numpy.lib.polynomial' from '/usr/local/lib/python3.9/dist-packages/numpy/lib/polynomial.py'>,\n",
              " 'numpy.lib.utils': <module 'numpy.lib.utils' from '/usr/local/lib/python3.9/dist-packages/numpy/lib/utils.py'>,\n",
              " 'numpy.lib.arraysetops': <module 'numpy.lib.arraysetops' from '/usr/local/lib/python3.9/dist-packages/numpy/lib/arraysetops.py'>,\n",
              " 'numpy.lib.format': <module 'numpy.lib.format' from '/usr/local/lib/python3.9/dist-packages/numpy/lib/format.py'>,\n",
              " 'numpy.lib._datasource': <module 'numpy.lib._datasource' from '/usr/local/lib/python3.9/dist-packages/numpy/lib/_datasource.py'>,\n",
              " 'numpy.lib._iotools': <module 'numpy.lib._iotools' from '/usr/local/lib/python3.9/dist-packages/numpy/lib/_iotools.py'>,\n",
              " 'numpy.lib.npyio': <module 'numpy.lib.npyio' from '/usr/local/lib/python3.9/dist-packages/numpy/lib/npyio.py'>,\n",
              " 'numpy.lib.arrayterator': <module 'numpy.lib.arrayterator' from '/usr/local/lib/python3.9/dist-packages/numpy/lib/arrayterator.py'>,\n",
              " 'numpy.lib.arraypad': <module 'numpy.lib.arraypad' from '/usr/local/lib/python3.9/dist-packages/numpy/lib/arraypad.py'>,\n",
              " 'numpy.lib._version': <module 'numpy.lib._version' from '/usr/local/lib/python3.9/dist-packages/numpy/lib/_version.py'>,\n",
              " 'numpy.lib': <module 'numpy.lib' from '/usr/local/lib/python3.9/dist-packages/numpy/lib/__init__.py'>,\n",
              " 'numpy.fft._pocketfft_internal': <module 'numpy.fft._pocketfft_internal' from '/usr/local/lib/python3.9/dist-packages/numpy/fft/_pocketfft_internal.cpython-39-x86_64-linux-gnu.so'>,\n",
              " 'numpy.fft._pocketfft': <module 'numpy.fft._pocketfft' from '/usr/local/lib/python3.9/dist-packages/numpy/fft/_pocketfft.py'>,\n",
              " 'numpy.fft.helper': <module 'numpy.fft.helper' from '/usr/local/lib/python3.9/dist-packages/numpy/fft/helper.py'>,\n",
              " 'numpy.fft': <module 'numpy.fft' from '/usr/local/lib/python3.9/dist-packages/numpy/fft/__init__.py'>,\n",
              " 'numpy.polynomial.polyutils': <module 'numpy.polynomial.polyutils' from '/usr/local/lib/python3.9/dist-packages/numpy/polynomial/polyutils.py'>,\n",
              " 'numpy.polynomial._polybase': <module 'numpy.polynomial._polybase' from '/usr/local/lib/python3.9/dist-packages/numpy/polynomial/_polybase.py'>,\n",
              " 'numpy.polynomial.polynomial': <module 'numpy.polynomial.polynomial' from '/usr/local/lib/python3.9/dist-packages/numpy/polynomial/polynomial.py'>,\n",
              " 'numpy.polynomial.chebyshev': <module 'numpy.polynomial.chebyshev' from '/usr/local/lib/python3.9/dist-packages/numpy/polynomial/chebyshev.py'>,\n",
              " 'numpy.polynomial.legendre': <module 'numpy.polynomial.legendre' from '/usr/local/lib/python3.9/dist-packages/numpy/polynomial/legendre.py'>,\n",
              " 'numpy.polynomial.hermite': <module 'numpy.polynomial.hermite' from '/usr/local/lib/python3.9/dist-packages/numpy/polynomial/hermite.py'>,\n",
              " 'numpy.polynomial.hermite_e': <module 'numpy.polynomial.hermite_e' from '/usr/local/lib/python3.9/dist-packages/numpy/polynomial/hermite_e.py'>,\n",
              " 'numpy.polynomial.laguerre': <module 'numpy.polynomial.laguerre' from '/usr/local/lib/python3.9/dist-packages/numpy/polynomial/laguerre.py'>,\n",
              " 'numpy.polynomial': <module 'numpy.polynomial' from '/usr/local/lib/python3.9/dist-packages/numpy/polynomial/__init__.py'>,\n",
              " '_cython_0_29_30': <module '_cython_0_29_30'>,\n",
              " 'numpy.random._common': <module 'numpy.random._common' from '/usr/local/lib/python3.9/dist-packages/numpy/random/_common.cpython-39-x86_64-linux-gnu.so'>,\n",
              " 'secrets': <module 'secrets' from '/usr/lib/python3.9/secrets.py'>,\n",
              " 'numpy.random.bit_generator': <module 'numpy.random.bit_generator' from '/usr/local/lib/python3.9/dist-packages/numpy/random/bit_generator.cpython-39-x86_64-linux-gnu.so'>,\n",
              " 'numpy.random._bounded_integers': <module 'numpy.random._bounded_integers' from '/usr/local/lib/python3.9/dist-packages/numpy/random/_bounded_integers.cpython-39-x86_64-linux-gnu.so'>,\n",
              " 'numpy.random._mt19937': <module 'numpy.random._mt19937' from '/usr/local/lib/python3.9/dist-packages/numpy/random/_mt19937.cpython-39-x86_64-linux-gnu.so'>,\n",
              " 'numpy.random.mtrand': <module 'numpy.random.mtrand' from '/usr/local/lib/python3.9/dist-packages/numpy/random/mtrand.cpython-39-x86_64-linux-gnu.so'>,\n",
              " 'numpy.random._philox': <module 'numpy.random._philox' from '/usr/local/lib/python3.9/dist-packages/numpy/random/_philox.cpython-39-x86_64-linux-gnu.so'>,\n",
              " 'numpy.random._pcg64': <module 'numpy.random._pcg64' from '/usr/local/lib/python3.9/dist-packages/numpy/random/_pcg64.cpython-39-x86_64-linux-gnu.so'>,\n",
              " 'numpy.random._sfc64': <module 'numpy.random._sfc64' from '/usr/local/lib/python3.9/dist-packages/numpy/random/_sfc64.cpython-39-x86_64-linux-gnu.so'>,\n",
              " 'numpy.random._generator': <module 'numpy.random._generator' from '/usr/local/lib/python3.9/dist-packages/numpy/random/_generator.cpython-39-x86_64-linux-gnu.so'>,\n",
              " 'numpy.random._pickle': <module 'numpy.random._pickle' from '/usr/local/lib/python3.9/dist-packages/numpy/random/_pickle.py'>,\n",
              " 'numpy.random': <module 'numpy.random' from '/usr/local/lib/python3.9/dist-packages/numpy/random/__init__.py'>,\n",
              " 'numpy.ctypeslib': <module 'numpy.ctypeslib' from '/usr/local/lib/python3.9/dist-packages/numpy/ctypeslib.py'>,\n",
              " 'numpy.ma.core': <module 'numpy.ma.core' from '/usr/local/lib/python3.9/dist-packages/numpy/ma/core.py'>,\n",
              " 'numpy.ma.extras': <module 'numpy.ma.extras' from '/usr/local/lib/python3.9/dist-packages/numpy/ma/extras.py'>,\n",
              " 'numpy.ma': <module 'numpy.ma' from '/usr/local/lib/python3.9/dist-packages/numpy/ma/__init__.py'>,\n",
              " 'numpy': <module 'numpy' from '/usr/local/lib/python3.9/dist-packages/numpy/__init__.py'>,\n",
              " 'packaging': <module 'packaging' from '/usr/local/lib/python3.9/dist-packages/packaging/__init__.py'>,\n",
              " 'packaging._structures': <module 'packaging._structures' from '/usr/local/lib/python3.9/dist-packages/packaging/_structures.py'>,\n",
              " 'packaging.version': <module 'packaging.version' from '/usr/local/lib/python3.9/dist-packages/packaging/version.py'>,\n",
              " 'matplotlib._api.deprecation': <module 'matplotlib._api.deprecation' from '/usr/local/lib/python3.9/dist-packages/matplotlib/_api/deprecation.py'>,\n",
              " 'matplotlib._api': <module 'matplotlib._api' from '/usr/local/lib/python3.9/dist-packages/matplotlib/_api/__init__.py'>,\n",
              " 'matplotlib._version': <module 'matplotlib._version' from '/usr/local/lib/python3.9/dist-packages/matplotlib/_version.py'>,\n",
              " 'matplotlib._c_internal_utils': <module 'matplotlib._c_internal_utils' from '/usr/local/lib/python3.9/dist-packages/matplotlib/_c_internal_utils.cpython-39-x86_64-linux-gnu.so'>,\n",
              " 'matplotlib.cbook': <module 'matplotlib.cbook' from '/usr/local/lib/python3.9/dist-packages/matplotlib/cbook/__init__.py'>,\n",
              " 'matplotlib.docstring': <module 'matplotlib.docstring' from '/usr/local/lib/python3.9/dist-packages/matplotlib/docstring.py'>,\n",
              " 'PIL._version': <module 'PIL._version' from '/usr/local/lib/python3.9/dist-packages/PIL/_version.py'>,\n",
              " 'PIL': <module 'PIL' from '/usr/local/lib/python3.9/dist-packages/PIL/__init__.py'>,\n",
              " 'xml.parsers': <module 'xml.parsers' from '/usr/lib/python3.9/xml/parsers/__init__.py'>,\n",
              " 'pyexpat.errors': <module 'pyexpat.errors'>,\n",
              " 'pyexpat.model': <module 'pyexpat.model'>,\n",
              " 'pyexpat': <module 'pyexpat' (built-in)>,\n",
              " 'xml.parsers.expat.model': <module 'pyexpat.model'>,\n",
              " 'xml.parsers.expat.errors': <module 'pyexpat.errors'>,\n",
              " 'xml.parsers.expat': <module 'xml.parsers.expat' from '/usr/lib/python3.9/xml/parsers/expat.py'>,\n",
              " 'defusedxml.common': <module 'defusedxml.common' from '/usr/local/lib/python3.9/dist-packages/defusedxml/common.py'>,\n",
              " 'defusedxml': <module 'defusedxml' from '/usr/local/lib/python3.9/dist-packages/defusedxml/__init__.py'>,\n",
              " 'xml.etree': <module 'xml.etree' from '/usr/lib/python3.9/xml/etree/__init__.py'>,\n",
              " 'xml.etree.ElementPath': <module 'xml.etree.ElementPath' from '/usr/lib/python3.9/xml/etree/ElementPath.py'>,\n",
              " '_elementtree': <module '_elementtree' (built-in)>,\n",
              " 'xml.etree.ElementTree': <module 'xml.etree.ElementTree' from '/usr/lib/python3.9/xml/etree/ElementTree.py'>,\n",
              " 'defusedxml.ElementTree': <module 'defusedxml.ElementTree' from '/usr/local/lib/python3.9/dist-packages/defusedxml/ElementTree.py'>,\n",
              " 'PIL.ImageMode': <module 'PIL.ImageMode' from '/usr/local/lib/python3.9/dist-packages/PIL/ImageMode.py'>,\n",
              " 'PIL.TiffTags': <module 'PIL.TiffTags' from '/usr/local/lib/python3.9/dist-packages/PIL/TiffTags.py'>,\n",
              " 'PIL._binary': <module 'PIL._binary' from '/usr/local/lib/python3.9/dist-packages/PIL/_binary.py'>,\n",
              " 'PIL._util': <module 'PIL._util' from '/usr/local/lib/python3.9/dist-packages/PIL/_util.py'>,\n",
              " 'PIL._imaging': <module 'PIL._imaging' from '/usr/local/lib/python3.9/dist-packages/PIL/_imaging.cpython-39-x86_64-linux-gnu.so'>,\n",
              " 'cffi.lock': <module 'cffi.lock' from '/usr/local/lib/python3.9/dist-packages/cffi/lock.py'>,\n",
              " 'cffi.error': <module 'cffi.error' from '/usr/local/lib/python3.9/dist-packages/cffi/error.py'>,\n",
              " 'cffi.model': <module 'cffi.model' from '/usr/local/lib/python3.9/dist-packages/cffi/model.py'>,\n",
              " 'cffi.api': <module 'cffi.api' from '/usr/local/lib/python3.9/dist-packages/cffi/api.py'>,\n",
              " 'cffi': <module 'cffi' from '/usr/local/lib/python3.9/dist-packages/cffi/__init__.py'>,\n",
              " 'PIL.Image': <module 'PIL.Image' from '/usr/local/lib/python3.9/dist-packages/PIL/Image.py'>,\n",
              " 'PIL.ImageChops': <module 'PIL.ImageChops' from '/usr/local/lib/python3.9/dist-packages/PIL/ImageChops.py'>,\n",
              " 'PIL.ImageFile': <module 'PIL.ImageFile' from '/usr/local/lib/python3.9/dist-packages/PIL/ImageFile.py'>,\n",
              " 'PIL.GimpGradientFile': <module 'PIL.GimpGradientFile' from '/usr/local/lib/python3.9/dist-packages/PIL/GimpGradientFile.py'>,\n",
              " 'PIL.GimpPaletteFile': <module 'PIL.GimpPaletteFile' from '/usr/local/lib/python3.9/dist-packages/PIL/GimpPaletteFile.py'>,\n",
              " 'PIL.ImageColor': <module 'PIL.ImageColor' from '/usr/local/lib/python3.9/dist-packages/PIL/ImageColor.py'>,\n",
              " 'PIL.PaletteFile': <module 'PIL.PaletteFile' from '/usr/local/lib/python3.9/dist-packages/PIL/PaletteFile.py'>,\n",
              " 'PIL.ImagePalette': <module 'PIL.ImagePalette' from '/usr/local/lib/python3.9/dist-packages/PIL/ImagePalette.py'>,\n",
              " 'PIL.ImageSequence': <module 'PIL.ImageSequence' from '/usr/local/lib/python3.9/dist-packages/PIL/ImageSequence.py'>,\n",
              " 'PIL.PngImagePlugin': <module 'PIL.PngImagePlugin' from '/usr/local/lib/python3.9/dist-packages/PIL/PngImagePlugin.py'>,\n",
              " 'matplotlib._path': <module 'matplotlib._path' from '/usr/local/lib/python3.9/dist-packages/matplotlib/_path.cpython-39-x86_64-linux-gnu.so'>,\n",
              " 'matplotlib.bezier': <module 'matplotlib.bezier' from '/usr/local/lib/python3.9/dist-packages/matplotlib/bezier.py'>,\n",
              " 'matplotlib.path': <module 'matplotlib.path' from '/usr/local/lib/python3.9/dist-packages/matplotlib/path.py'>,\n",
              " 'matplotlib.transforms': <module 'matplotlib.transforms' from '/usr/local/lib/python3.9/dist-packages/matplotlib/transforms.py'>,\n",
              " 'matplotlib.ticker': <module 'matplotlib.ticker' from '/usr/local/lib/python3.9/dist-packages/matplotlib/ticker.py'>,\n",
              " 'matplotlib.scale': <module 'matplotlib.scale' from '/usr/local/lib/python3.9/dist-packages/matplotlib/scale.py'>,\n",
              " 'matplotlib._color_data': <module 'matplotlib._color_data' from '/usr/local/lib/python3.9/dist-packages/matplotlib/_color_data.py'>,\n",
              " 'matplotlib.colors': <module 'matplotlib.colors' from '/usr/local/lib/python3.9/dist-packages/matplotlib/colors.py'>,\n",
              " 'pyparsing.util': <module 'pyparsing.util' from '/usr/local/lib/python3.9/dist-packages/pyparsing/util.py'>,\n",
              " 'pyparsing.unicode': <module 'pyparsing.unicode' from '/usr/local/lib/python3.9/dist-packages/pyparsing/unicode.py'>,\n",
              " 'pyparsing.exceptions': <module 'pyparsing.exceptions' from '/usr/local/lib/python3.9/dist-packages/pyparsing/exceptions.py'>,\n",
              " 'pyparsing.actions': <module 'pyparsing.actions' from '/usr/local/lib/python3.9/dist-packages/pyparsing/actions.py'>,\n",
              " 'pyparsing.results': <module 'pyparsing.results' from '/usr/local/lib/python3.9/dist-packages/pyparsing/results.py'>,\n",
              " 'pyparsing.core': <module 'pyparsing.core' from '/usr/local/lib/python3.9/dist-packages/pyparsing/core.py'>,\n",
              " 'pyparsing.helpers': <module 'pyparsing.helpers' from '/usr/local/lib/python3.9/dist-packages/pyparsing/helpers.py'>,\n",
              " 'pyparsing.testing': <module 'pyparsing.testing' from '/usr/local/lib/python3.9/dist-packages/pyparsing/testing.py'>,\n",
              " 'pyparsing.common': <module 'pyparsing.common' from '/usr/local/lib/python3.9/dist-packages/pyparsing/common.py'>,\n",
              " 'pyparsing': <module 'pyparsing' from '/usr/local/lib/python3.9/dist-packages/pyparsing/__init__.py'>,\n",
              " 'matplotlib.fontconfig_pattern': <module 'matplotlib.fontconfig_pattern' from '/usr/local/lib/python3.9/dist-packages/matplotlib/fontconfig_pattern.py'>,\n",
              " 'matplotlib._enums': <module 'matplotlib._enums' from '/usr/local/lib/python3.9/dist-packages/matplotlib/_enums.py'>,\n",
              " 'cycler': <module 'cycler' from '/usr/local/lib/python3.9/dist-packages/cycler.py'>,\n",
              " 'matplotlib.rcsetup': <module 'matplotlib.rcsetup' from '/usr/local/lib/python3.9/dist-packages/matplotlib/rcsetup.py'>,\n",
              " 'matplotlib.ft2font': <module 'matplotlib.ft2font' from '/usr/local/lib/python3.9/dist-packages/matplotlib/ft2font.cpython-39-x86_64-linux-gnu.so'>,\n",
              " 'kiwisolver._cext': <module 'kiwisolver._cext' from '/usr/local/lib/python3.9/dist-packages/kiwisolver/_cext.cpython-39-x86_64-linux-gnu.so'>,\n",
              " 'kiwisolver': <module 'kiwisolver' from '/usr/local/lib/python3.9/dist-packages/kiwisolver/__init__.py'>,\n",
              " 'matplotlib._cm': <module 'matplotlib._cm' from '/usr/local/lib/python3.9/dist-packages/matplotlib/_cm.py'>,\n",
              " 'matplotlib._cm_listed': <module 'matplotlib._cm_listed' from '/usr/local/lib/python3.9/dist-packages/matplotlib/_cm_listed.py'>,\n",
              " 'matplotlib.cm': <module 'matplotlib.cm' from '/usr/local/lib/python3.9/dist-packages/matplotlib/cm.py'>,\n",
              " 'matplotlib': <module 'matplotlib' from '/usr/local/lib/python3.9/dist-packages/matplotlib/__init__.py'>,\n",
              " 'matplotlib.artist': <module 'matplotlib.artist' from '/usr/local/lib/python3.9/dist-packages/matplotlib/artist.py'>,\n",
              " 'matplotlib.hatch': <module 'matplotlib.hatch' from '/usr/local/lib/python3.9/dist-packages/matplotlib/hatch.py'>,\n",
              " 'matplotlib.markers': <module 'matplotlib.markers' from '/usr/local/lib/python3.9/dist-packages/matplotlib/markers.py'>,\n",
              " 'matplotlib.lines': <module 'matplotlib.lines' from '/usr/local/lib/python3.9/dist-packages/matplotlib/lines.py'>,\n",
              " 'matplotlib.collections': <module 'matplotlib.collections' from '/usr/local/lib/python3.9/dist-packages/matplotlib/collections.py'>,\n",
              " 'matplotlib._pylab_helpers': <module 'matplotlib._pylab_helpers' from '/usr/local/lib/python3.9/dist-packages/matplotlib/_pylab_helpers.py'>,\n",
              " 'matplotlib.backend_tools': <module 'matplotlib.backend_tools' from '/usr/local/lib/python3.9/dist-packages/matplotlib/backend_tools.py'>,\n",
              " 'matplotlib._text_helpers': <module 'matplotlib._text_helpers' from '/usr/local/lib/python3.9/dist-packages/matplotlib/_text_helpers.py'>,\n",
              " 'matplotlib.dviread': <module 'matplotlib.dviread' from '/usr/local/lib/python3.9/dist-packages/matplotlib/dviread.py'>,\n",
              " 'matplotlib._mathtext_data': <module 'matplotlib._mathtext_data' from '/usr/local/lib/python3.9/dist-packages/matplotlib/_mathtext_data.py'>,\n",
              " 'matplotlib.afm': <module 'matplotlib.afm' from '/usr/local/lib/python3.9/dist-packages/matplotlib/afm.py'>,\n",
              " 'matplotlib.font_manager': <module 'matplotlib.font_manager' from '/usr/local/lib/python3.9/dist-packages/matplotlib/font_manager.py'>,\n",
              " 'matplotlib._mathtext': <module 'matplotlib._mathtext' from '/usr/local/lib/python3.9/dist-packages/matplotlib/_mathtext.py'>,\n",
              " 'matplotlib.mathtext': <module 'matplotlib.mathtext' from '/usr/local/lib/python3.9/dist-packages/matplotlib/mathtext.py'>,\n",
              " 'matplotlib.textpath': <module 'matplotlib.textpath' from '/usr/local/lib/python3.9/dist-packages/matplotlib/textpath.py'>,\n",
              " 'matplotlib.tight_bbox': <module 'matplotlib.tight_bbox' from '/usr/local/lib/python3.9/dist-packages/matplotlib/tight_bbox.py'>,\n",
              " 'matplotlib.patches': <module 'matplotlib.patches' from '/usr/local/lib/python3.9/dist-packages/matplotlib/patches.py'>,\n",
              " 'matplotlib.widgets': <module 'matplotlib.widgets' from '/usr/local/lib/python3.9/dist-packages/matplotlib/widgets.py'>,\n",
              " 'matplotlib.backend_managers': <module 'matplotlib.backend_managers' from '/usr/local/lib/python3.9/dist-packages/matplotlib/backend_managers.py'>,\n",
              " 'matplotlib.backend_bases': <module 'matplotlib.backend_bases' from '/usr/local/lib/python3.9/dist-packages/matplotlib/backend_bases.py'>,\n",
              " 'matplotlib.text': <module 'matplotlib.text' from '/usr/local/lib/python3.9/dist-packages/matplotlib/text.py'>,\n",
              " 'matplotlib.contour': <module 'matplotlib.contour' from '/usr/local/lib/python3.9/dist-packages/matplotlib/contour.py'>,\n",
              " 'matplotlib.spines': <module 'matplotlib.spines' from '/usr/local/lib/python3.9/dist-packages/matplotlib/spines.py'>,\n",
              " 'matplotlib.colorbar': <module 'matplotlib.colorbar' from '/usr/local/lib/python3.9/dist-packages/matplotlib/colorbar.py'>,\n",
              " 'matplotlib._image': <module 'matplotlib._image' from '/usr/local/lib/python3.9/dist-packages/matplotlib/_image.cpython-39-x86_64-linux-gnu.so'>,\n",
              " 'matplotlib.image': <module 'matplotlib.image' from '/usr/local/lib/python3.9/dist-packages/matplotlib/image.py'>,\n",
              " 'matplotlib.style.core': <module 'matplotlib.style.core' from '/usr/local/lib/python3.9/dist-packages/matplotlib/style/core.py'>,\n",
              " 'matplotlib.style': <module 'matplotlib.style' from '/usr/local/lib/python3.9/dist-packages/matplotlib/style/__init__.py'>,\n",
              " 'matplotlib._blocking_input': <module 'matplotlib._blocking_input' from '/usr/local/lib/python3.9/dist-packages/matplotlib/_blocking_input.py'>,\n",
              " 'matplotlib.units': <module 'matplotlib.units' from '/usr/local/lib/python3.9/dist-packages/matplotlib/units.py'>,\n",
              " 'matplotlib.category': <module 'matplotlib.category' from '/usr/local/lib/python3.9/dist-packages/matplotlib/category.py'>,\n",
              " 'dateutil.rrule': <module 'dateutil.rrule' from '/usr/local/lib/python3.9/dist-packages/dateutil/rrule.py'>,\n",
              " 'matplotlib.dates': <module 'matplotlib.dates' from '/usr/local/lib/python3.9/dist-packages/matplotlib/dates.py'>,\n",
              " 'matplotlib.offsetbox': <module 'matplotlib.offsetbox' from '/usr/local/lib/python3.9/dist-packages/matplotlib/offsetbox.py'>,\n",
              " 'matplotlib.container': <module 'matplotlib.container' from '/usr/local/lib/python3.9/dist-packages/matplotlib/container.py'>,\n",
              " 'matplotlib.legend_handler': <module 'matplotlib.legend_handler' from '/usr/local/lib/python3.9/dist-packages/matplotlib/legend_handler.py'>,\n",
              " 'matplotlib.legend': <module 'matplotlib.legend' from '/usr/local/lib/python3.9/dist-packages/matplotlib/legend.py'>,\n",
              " 'matplotlib.mlab': <module 'matplotlib.mlab' from '/usr/local/lib/python3.9/dist-packages/matplotlib/mlab.py'>,\n",
              " 'matplotlib.quiver': <module 'matplotlib.quiver' from '/usr/local/lib/python3.9/dist-packages/matplotlib/quiver.py'>,\n",
              " 'matplotlib.stackplot': <module 'matplotlib.stackplot' from '/usr/local/lib/python3.9/dist-packages/matplotlib/stackplot.py'>,\n",
              " 'matplotlib.streamplot': <module 'matplotlib.streamplot' from '/usr/local/lib/python3.9/dist-packages/matplotlib/streamplot.py'>,\n",
              " 'matplotlib.table': <module 'matplotlib.table' from '/usr/local/lib/python3.9/dist-packages/matplotlib/table.py'>,\n",
              " 'matplotlib.tri.triangulation': <module 'matplotlib.tri.triangulation' from '/usr/local/lib/python3.9/dist-packages/matplotlib/tri/triangulation.py'>,\n",
              " 'matplotlib.tri.tricontour': <module 'matplotlib.tri.tricontour' from '/usr/local/lib/python3.9/dist-packages/matplotlib/tri/tricontour.py'>,\n",
              " 'matplotlib.tri.tritools': <module 'matplotlib.tri.tritools' from '/usr/local/lib/python3.9/dist-packages/matplotlib/tri/tritools.py'>,\n",
              " 'matplotlib.tri.trifinder': <module 'matplotlib.tri.trifinder' from '/usr/local/lib/python3.9/dist-packages/matplotlib/tri/trifinder.py'>,\n",
              " 'matplotlib.tri.triinterpolate': <module 'matplotlib.tri.triinterpolate' from '/usr/local/lib/python3.9/dist-packages/matplotlib/tri/triinterpolate.py'>,\n",
              " 'matplotlib.tri.trirefine': <module 'matplotlib.tri.trirefine' from '/usr/local/lib/python3.9/dist-packages/matplotlib/tri/trirefine.py'>,\n",
              " 'matplotlib.tri.tripcolor': <module 'matplotlib.tri.tripcolor' from '/usr/local/lib/python3.9/dist-packages/matplotlib/tri/tripcolor.py'>,\n",
              " 'matplotlib.tri.triplot': <module 'matplotlib.tri.triplot' from '/usr/local/lib/python3.9/dist-packages/matplotlib/tri/triplot.py'>,\n",
              " 'matplotlib.tri': <module 'matplotlib.tri' from '/usr/local/lib/python3.9/dist-packages/matplotlib/tri/__init__.py'>,\n",
              " 'matplotlib.axis': <module 'matplotlib.axis' from '/usr/local/lib/python3.9/dist-packages/matplotlib/axis.py'>,\n",
              " 'matplotlib.axes._base': <module 'matplotlib.axes._base' from '/usr/local/lib/python3.9/dist-packages/matplotlib/axes/_base.py'>,\n",
              " 'matplotlib.axes._secondary_axes': <module 'matplotlib.axes._secondary_axes' from '/usr/local/lib/python3.9/dist-packages/matplotlib/axes/_secondary_axes.py'>,\n",
              " 'matplotlib.axes._axes': <module 'matplotlib.axes._axes' from '/usr/local/lib/python3.9/dist-packages/matplotlib/axes/_axes.py'>,\n",
              " 'matplotlib.tight_layout': <module 'matplotlib.tight_layout' from '/usr/local/lib/python3.9/dist-packages/matplotlib/tight_layout.py'>,\n",
              " 'matplotlib.gridspec': <module 'matplotlib.gridspec' from '/usr/local/lib/python3.9/dist-packages/matplotlib/gridspec.py'>,\n",
              " 'matplotlib.axes._subplots': <module 'matplotlib.axes._subplots' from '/usr/local/lib/python3.9/dist-packages/matplotlib/axes/_subplots.py'>,\n",
              " 'matplotlib.axes': <module 'matplotlib.axes' from '/usr/local/lib/python3.9/dist-packages/matplotlib/axes/__init__.py'>,\n",
              " 'matplotlib.projections.geo': <module 'matplotlib.projections.geo' from '/usr/local/lib/python3.9/dist-packages/matplotlib/projections/geo.py'>,\n",
              " 'matplotlib.projections.polar': <module 'matplotlib.projections.polar' from '/usr/local/lib/python3.9/dist-packages/matplotlib/projections/polar.py'>,\n",
              " 'mpl_toolkits.mplot3d.proj3d': <module 'mpl_toolkits.mplot3d.proj3d' from '/usr/local/lib/python3.9/dist-packages/mpl_toolkits/mplot3d/proj3d.py'>,\n",
              " 'mpl_toolkits.mplot3d.art3d': <module 'mpl_toolkits.mplot3d.art3d' from '/usr/local/lib/python3.9/dist-packages/mpl_toolkits/mplot3d/art3d.py'>,\n",
              " 'mpl_toolkits.mplot3d.axis3d': <module 'mpl_toolkits.mplot3d.axis3d' from '/usr/local/lib/python3.9/dist-packages/mpl_toolkits/mplot3d/axis3d.py'>,\n",
              " 'mpl_toolkits.mplot3d.axes3d': <module 'mpl_toolkits.mplot3d.axes3d' from '/usr/local/lib/python3.9/dist-packages/mpl_toolkits/mplot3d/axes3d.py'>,\n",
              " 'mpl_toolkits.mplot3d': <module 'mpl_toolkits.mplot3d' from '/usr/local/lib/python3.9/dist-packages/mpl_toolkits/mplot3d/__init__.py'>,\n",
              " 'matplotlib.projections': <module 'matplotlib.projections' from '/usr/local/lib/python3.9/dist-packages/matplotlib/projections/__init__.py'>,\n",
              " 'matplotlib.figure': <module 'matplotlib.figure' from '/usr/local/lib/python3.9/dist-packages/matplotlib/figure.py'>,\n",
              " 'matplotlib.pyplot': <module 'matplotlib.pyplot' from '/usr/local/lib/python3.9/dist-packages/matplotlib/pyplot.py'>,\n",
              " 'matplotlib.backends': <module 'matplotlib.backends' from '/usr/local/lib/python3.9/dist-packages/matplotlib/backends/__init__.py'>,\n",
              " 'ipykernel.pylab': <module 'ipykernel.pylab' from '/usr/local/lib/python3.9/dist-packages/ipykernel/pylab/__init__.py'>,\n",
              " 'matplotlib.backends._backend_agg': <module 'matplotlib.backends._backend_agg' from '/usr/local/lib/python3.9/dist-packages/matplotlib/backends/_backend_agg.cpython-39-x86_64-linux-gnu.so'>,\n",
              " 'matplotlib.backends.backend_agg': <module 'matplotlib.backends.backend_agg' from '/usr/local/lib/python3.9/dist-packages/matplotlib/backends/backend_agg.py'>,\n",
              " 'ipykernel.pylab.config': <module 'ipykernel.pylab.config' from '/usr/local/lib/python3.9/dist-packages/ipykernel/pylab/config.py'>,\n",
              " 'ipykernel.pylab.backend_inline': <module 'ipykernel.pylab.backend_inline' from '/usr/local/lib/python3.9/dist-packages/ipykernel/pylab/backend_inline.py'>,\n",
              " 'storemagic': <module 'storemagic' from '/usr/local/lib/python3.9/dist-packages/IPython/extensions/storemagic.py'>,\n",
              " 'debugpy._version': <module 'debugpy._version' from '/usr/local/lib/python3.9/dist-packages/debugpy/_version.py'>,\n",
              " 'debugpy.public_api': <module 'debugpy.public_api' from '/usr/local/lib/python3.9/dist-packages/debugpy/public_api.py'>,\n",
              " 'debugpy': <module 'debugpy' from '/usr/local/lib/python3.9/dist-packages/debugpy/__init__.py'>,\n",
              " 'google.colab._debugpy_repr': <module 'google.colab._debugpy_repr' from '/usr/local/lib/python3.9/dist-packages/google/colab/_debugpy_repr.py'>,\n",
              " 'google.colab._variable_inspector': <module '__main__'>,\n",
              " 'portpicker': <module 'portpicker' from '/usr/local/lib/python3.9/dist-packages/portpicker.py'>,\n",
              " 'google.colab._debugpy': <module 'google.colab._debugpy' from '/usr/local/lib/python3.9/dist-packages/google/colab/_debugpy.py'>,\n",
              " 'debugpy._vendored._util': <module 'debugpy._vendored._util' from '/usr/local/lib/python3.9/dist-packages/debugpy/_vendored/_util.py'>,\n",
              " 'debugpy._vendored': <module 'debugpy._vendored' from '/usr/local/lib/python3.9/dist-packages/debugpy/_vendored/__init__.py'>,\n",
              " '_pydevd_bundle': <module '_pydevd_bundle' from '/usr/local/lib/python3.9/dist-packages/debugpy/_vendored/pydevd/_pydevd_bundle/__init__.py'>,\n",
              " 'encodings.ascii': <module 'encodings.ascii' from '/usr/lib/python3.9/encodings/ascii.py'>,\n",
              " 'stringprep': <module 'stringprep' from '/usr/lib/python3.9/stringprep.py'>,\n",
              " 'encodings.idna': <module 'encodings.idna' from '/usr/lib/python3.9/encodings/idna.py'>,\n",
              " '_pydevd_bundle.pydevd_vm_type': <module '_pydevd_bundle.pydevd_vm_type' from '/usr/local/lib/python3.9/dist-packages/debugpy/_vendored/pydevd/_pydevd_bundle/pydevd_vm_type.py'>,\n",
              " '_pydev_bundle': <module '_pydev_bundle' from '/usr/local/lib/python3.9/dist-packages/debugpy/_vendored/pydevd/_pydev_bundle/__init__.py'>,\n",
              " 'xmlrpc': <module 'xmlrpc' from '/usr/lib/python3.9/xmlrpc/__init__.py'>,\n",
              " 'xmlrpc.client': <module 'xmlrpc.client' from '/usr/lib/python3.9/xmlrpc/client.py'>,\n",
              " 'xmlrpc.server': <module 'xmlrpc.server' from '/usr/lib/python3.9/xmlrpc/server.py'>,\n",
              " '_pydev_bundle._pydev_saved_modules': <module '_pydev_bundle._pydev_saved_modules' from '/usr/local/lib/python3.9/dist-packages/debugpy/_vendored/pydevd/_pydev_bundle/_pydev_saved_modules.py'>,\n",
              " '_pydevd_bundle.pydevd_constants': <module '_pydevd_bundle.pydevd_constants' from '/usr/local/lib/python3.9/dist-packages/debugpy/_vendored/pydevd/_pydevd_bundle/pydevd_constants.py'>,\n",
              " '_pydev_runfiles': <module '_pydev_runfiles' from '/usr/local/lib/python3.9/dist-packages/debugpy/_vendored/pydevd/_pydev_runfiles/__init__.py'>,\n",
              " '_pydevd_frame_eval': <module '_pydevd_frame_eval' from '/usr/local/lib/python3.9/dist-packages/debugpy/_vendored/pydevd/_pydevd_frame_eval/__init__.py'>,\n",
              " 'pydev_ipython': <module 'pydev_ipython' from '/usr/local/lib/python3.9/dist-packages/debugpy/_vendored/pydevd/pydev_ipython/__init__.py'>,\n",
              " 'plistlib': <module 'plistlib' from '/usr/lib/python3.9/plistlib.py'>,\n",
              " 'pkg_resources.extern': <module 'pkg_resources.extern' from '/usr/local/lib/python3.9/dist-packages/pkg_resources/extern/__init__.py'>,\n",
              " 'pkg_resources._vendor': <module 'pkg_resources._vendor' from '/usr/local/lib/python3.9/dist-packages/pkg_resources/_vendor/__init__.py'>,\n",
              " 'pkg_resources._vendor.appdirs': <module 'pkg_resources.extern.appdirs' (<pkg_resources.extern.VendorImporter object at 0x7f555929dd00>)>,\n",
              " 'pkg_resources.extern.appdirs': <module 'pkg_resources.extern.appdirs' (<pkg_resources.extern.VendorImporter object at 0x7f555929dd00>)>,\n",
              " ...}"
            ]
          },
          "metadata": {},
          "execution_count": 3
        }
      ]
    },
    {
      "cell_type": "markdown",
      "source": [],
      "metadata": {
        "id": "Tpac7LmYfHdp"
      }
    }
  ]
}