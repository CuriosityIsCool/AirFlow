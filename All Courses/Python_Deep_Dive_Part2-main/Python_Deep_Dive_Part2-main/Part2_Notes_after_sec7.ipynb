{
  "nbformat": 4,
  "nbformat_minor": 0,
  "metadata": {
    "colab": {
      "provenance": []
    },
    "kernelspec": {
      "name": "python3",
      "display_name": "Python 3"
    },
    "language_info": {
      "name": "python"
    }
  },
  "cells": [
    {
      "cell_type": "code",
      "execution_count": null,
      "metadata": {
        "id": "vY5Emq6-Tsxy"
      },
      "outputs": [],
      "source": [
        "i=10\n",
        "j=0\n",
        "def GenTest():\n",
        "  print(\"reached start\")\n",
        "  # global i\n",
        "  # global j\n",
        "  i,j= 5,10\n",
        "  while True:\n",
        "    j+=i\n",
        "    print(\"reached before yield\")\n",
        "    yield i,j\n",
        "    print(\"reached after yield\")\n",
        "  j=i\n",
        "  print(\"reached end\")"
      ]
    },
    {
      "cell_type": "code",
      "source": [
        "x= GenTest()\n",
        "print(next(x))"
      ],
      "metadata": {
        "colab": {
          "base_uri": "https://localhost:8080/"
        },
        "id": "fq6ZAf116vre",
        "outputId": "6224d360-a044-4943-8515-574ef8c3c5db"
      },
      "execution_count": null,
      "outputs": [
        {
          "output_type": "stream",
          "name": "stdout",
          "text": [
            "reached start\n",
            "reached before yield\n",
            "(5, 15)\n"
          ]
        }
      ]
    },
    {
      "cell_type": "code",
      "source": [
        "print(next(x))"
      ],
      "metadata": {
        "colab": {
          "base_uri": "https://localhost:8080/"
        },
        "id": "79G0k_nX9Qcu",
        "outputId": "8b915cd9-57c1-4d2e-8078-00967a801a17"
      },
      "execution_count": null,
      "outputs": [
        {
          "output_type": "stream",
          "name": "stdout",
          "text": [
            "reached after yield\n",
            "reached before yield\n",
            "(5, 20)\n"
          ]
        }
      ]
    },
    {
      "cell_type": "code",
      "source": [
        "i=10\n",
        "j=0\n",
        "def GenTest():\n",
        "  print(\"reached start\")\n",
        "  i,j= 5,10\n",
        "  while True:\n",
        "    j+=i\n",
        "    print(\"reached before yield\")\n",
        "    print(i, j)\n",
        "    yield i,j\n",
        "    print(\"reached after yield\")\n",
        "    print(i, j)\n",
        "  j=i\n",
        "  print(\"reached end\")\n",
        "  \n",
        "g = GenTest()\n",
        "next(g)\n"
      ],
      "metadata": {
        "colab": {
          "base_uri": "https://localhost:8080/"
        },
        "id": "xg1zKT5laqcN",
        "outputId": "a8820327-a512-45f7-8c1c-f8af813165e6"
      },
      "execution_count": null,
      "outputs": [
        {
          "output_type": "stream",
          "name": "stdout",
          "text": [
            "reached start\n",
            "reached before yield\n",
            "5 15\n"
          ]
        },
        {
          "output_type": "execute_result",
          "data": {
            "text/plain": [
              "(5, 15)"
            ]
          },
          "metadata": {},
          "execution_count": 20
        }
      ]
    },
    {
      "cell_type": "code",
      "source": [
        "gen = GenTest()\n",
        "next(gen) # will print \"reached before yield\" and return (5, 15)\n",
        "next(gen) # will print \"reached after yield\", then \"reached before yield\", and return (5, 20)\n"
      ],
      "metadata": {
        "colab": {
          "base_uri": "https://localhost:8080/"
        },
        "id": "5kadUsRcbV-e",
        "outputId": "71b6a797-6765-46c4-93f2-90d2f85d9398"
      },
      "execution_count": null,
      "outputs": [
        {
          "output_type": "stream",
          "name": "stdout",
          "text": [
            "reached start\n",
            "reached before yield\n",
            "5 15\n",
            "reached after yield\n",
            "5 15\n",
            "reached before yield\n",
            "5 20\n"
          ]
        },
        {
          "output_type": "execute_result",
          "data": {
            "text/plain": [
              "(5, 20)"
            ]
          },
          "metadata": {},
          "execution_count": 21
        }
      ]
    },
    {
      "cell_type": "markdown",
      "source": [
        "Observation BYME: make a variable, everthing goes fine."
      ],
      "metadata": {
        "id": "m9yY3gEL8dKK"
      }
    },
    {
      "cell_type": "code",
      "source": [
        "import math\n",
        "def factorials():\n",
        "    print(\"Fn starts here\")\n",
        "    index = 0\n",
        "    while True:\n",
        "        print(\"statement before yield inside loop\")\n",
        "        yield math.factorial(index)\n",
        "        index += 1\n",
        "        print(\"statement after yield inside loop\")\n",
        "    print(\"statement after yield outside loop, fn ends here\")"
      ],
      "metadata": {
        "id": "mhynnVuGTwQH"
      },
      "execution_count": null,
      "outputs": []
    },
    {
      "cell_type": "code",
      "source": [
        "facts = factorials()\n",
        "for _ in range(3):\n",
        "    print(next(facts))"
      ],
      "metadata": {
        "colab": {
          "base_uri": "https://localhost:8080/"
        },
        "id": "qTJM-Cf9T0Ro",
        "outputId": "519c98f7-1c27-4fb5-98f1-4edf20f83641"
      },
      "execution_count": null,
      "outputs": [
        {
          "output_type": "stream",
          "name": "stdout",
          "text": [
            "Fn starts here\n",
            "statement before yield inside loop\n",
            "1\n",
            "statement after yield inside loop\n",
            "statement before yield inside loop\n",
            "1\n",
            "statement after yield inside loop\n",
            "statement before yield inside loop\n",
            "2\n"
          ]
        }
      ]
    },
    {
      "cell_type": "markdown",
      "source": [
        "Doubt: Yield works fine here, just like pause and resume. Whats the issue with observation before this ?"
      ],
      "metadata": {
        "id": "DecOP4R_Wz5c"
      }
    },
    {
      "cell_type": "markdown",
      "source": [
        "# Section 7 : Iteration Tools"
      ],
      "metadata": {
        "id": "RxsXkHylTz_H"
      }
    },
    {
      "cell_type": "markdown",
      "source": [
        "## Aggregators\n",
        "Functions that iterate through an iterable and return a single value that (usually) takes into account every element of the iterable.\n",
        "\n",
        "Defination byme check: Aggregator= fn that returns a single value\n",
        "\n",
        "###Example\n",
        "min(iterable) → minimum value in the iterable\n",
        "\n",
        "all(iterable) → returns True if all the elements in iterable are truthy"
      ],
      "metadata": {
        "id": "4eEIAGF0Fx3B"
      }
    },
    {
      "cell_type": "markdown",
      "source": [
        "continue from 74. Aggregators - Coding"
      ],
      "metadata": {
        "id": "AiVzm59hHwtJ"
      }
    },
    {
      "cell_type": "markdown",
      "source": [
        "## determine if something is a number\n",
        "number = True for (int, float, Decimal, bool, complex etc...)\n",
        "number = False for (str, list etc...)"
      ],
      "metadata": {
        "id": "igonBzKmF-zM"
      }
    },
    {
      "cell_type": "code",
      "source": [
        "from numbers import Number\n",
        "isinstance(2+3j, Number)\n"
      ],
      "metadata": {
        "id": "5RZK9sdt7H9k",
        "colab": {
          "base_uri": "https://localhost:8080/"
        },
        "outputId": "70513374-bd5e-4b7c-c604-e8d84a5d046e"
      },
      "execution_count": null,
      "outputs": [
        {
          "output_type": "execute_result",
          "data": {
            "text/plain": [
              "True"
            ]
          },
          "metadata": {},
          "execution_count": 1
        }
      ]
    },
    {
      "cell_type": "code",
      "source": [
        "from decimal import Decimal\n",
        "isinstance(Decimal('10.3'), Number)"
      ],
      "metadata": {
        "colab": {
          "base_uri": "https://localhost:8080/"
        },
        "id": "x4dcqrDcG8dL",
        "outputId": "0db930bf-82f5-4b57-d758-30dacd1531fa"
      },
      "execution_count": null,
      "outputs": [
        {
          "output_type": "execute_result",
          "data": {
            "text/plain": [
              "True"
            ]
          },
          "metadata": {},
          "execution_count": 2
        }
      ]
    },
    {
      "cell_type": "code",
      "source": [
        "isinstance('100', Number)"
      ],
      "metadata": {
        "colab": {
          "base_uri": "https://localhost:8080/"
        },
        "id": "0fDw0DI0HILv",
        "outputId": "a36f85f6-cb2f-45a1-b8a4-588204a723df"
      },
      "execution_count": null,
      "outputs": [
        {
          "output_type": "execute_result",
          "data": {
            "text/plain": [
              "False"
            ]
          },
          "metadata": {},
          "execution_count": 3
        }
      ]
    },
    {
      "cell_type": "markdown",
      "source": [
        "## using map function to typecast"
      ],
      "metadata": {
        "id": "HNlo0_iTIaEF"
      }
    },
    {
      "cell_type": "code",
      "source": [
        "list(map(str, [0, 1, 2, 3, 4]))"
      ],
      "metadata": {
        "colab": {
          "base_uri": "https://localhost:8080/"
        },
        "id": "WqXY7c_YI8y2",
        "outputId": "0c553ddc-72b5-4d90-f079-5eebac6399af"
      },
      "execution_count": null,
      "outputs": [
        {
          "output_type": "execute_result",
          "data": {
            "text/plain": [
              "['0', '1', '2', '3', '4']"
            ]
          },
          "metadata": {},
          "execution_count": 4
        }
      ]
    },
    {
      "cell_type": "markdown",
      "source": [
        "we can also do this using generator expressions instead of map:\n",
        "\n",
        "\n",
        "```\n",
        "with open('car-brands.txt') as f:\n",
        "    result = any(len(row) > 13 for row in f)\n",
        "print(result)\n",
        "```\n",
        "\n"
      ],
      "metadata": {
        "id": "SbUQbysSNc1_"
      }
    },
    {
      "cell_type": "markdown",
      "source": [
        "completed reading till 02 - Slicing Iterables.ipynb, https://github.com/fbaptiste/python-deepdive/blob/main/Part%202/Section%2008%20-%20Iteration%20Tools/02%20-%20Slicing%20Iterables.ipynb\n",
        "\n",
        "Continue from 03 - Selecting and Filtering.ipynb"
      ],
      "metadata": {
        "id": "spGWCbCydz0h"
      }
    },
    {
      "cell_type": "markdown",
      "source": [
        "Note: function that given an input returns True or False is called a predicate)"
      ],
      "metadata": {
        "id": "JN146Xt2CJd_"
      }
    },
    {
      "cell_type": "markdown",
      "source": [
        "## filter function\n",
        "\n",
        "filter(fn_permit, fn_value)\n",
        "\n",
        "Working: fn_value will be executed and it's result will be passed to fn_permit, and if fn_permit returns true, value returned by the fn_value will be added to output of filter.\n",
        "\n",
        "Note: filter function is also lazy.\n",
        "\n",
        "Trick: first function filters the output of second fn inside the filter(first_fn, second_fn)."
      ],
      "metadata": {
        "id": "sH50umasDi0h"
      }
    },
    {
      "cell_type": "code",
      "source": [
        "def gen_cubes(n):\n",
        "    for i in range(n):\n",
        "        print(f'yielding {i}')\n",
        "        yield i**3\n",
        "\n",
        "def is_odd(x):\n",
        "    return x % 2 == 1"
      ],
      "metadata": {
        "id": "wuH6kRbdD_sR"
      },
      "execution_count": null,
      "outputs": []
    },
    {
      "cell_type": "code",
      "source": [
        "filtered = filter(is_odd, gen_cubes(10))\n",
        "list(filtered)"
      ],
      "metadata": {
        "colab": {
          "base_uri": "https://localhost:8080/"
        },
        "id": "4tHzjY3SELQq",
        "outputId": "89e3fb4e-e8ea-446b-c8cd-0d5f498f0d4e"
      },
      "execution_count": null,
      "outputs": [
        {
          "output_type": "stream",
          "name": "stdout",
          "text": [
            "yielding 0\n",
            "yielding 1\n",
            "yielding 2\n",
            "yielding 3\n",
            "yielding 4\n",
            "yielding 5\n",
            "yielding 6\n",
            "yielding 7\n",
            "yielding 8\n",
            "yielding 9\n"
          ]
        },
        {
          "output_type": "execute_result",
          "data": {
            "text/plain": [
              "[1, 27, 125, 343, 729]"
            ]
          },
          "metadata": {},
          "execution_count": 2
        }
      ]
    },
    {
      "cell_type": "markdown",
      "source": [
        "## Takewhile and Dropwhile\n",
        "\n",
        "### takewhile (function in itertools)\n",
        "\n",
        "As soon as the predicate is False, iteration is stopped - even if subsequent elements would have had a True predicate - this is not a filter, this basically iterate over an iterable as long as the predicate remains True.\n",
        "\n",
        "Trick: take while predicate returns true."
      ],
      "metadata": {
        "id": "6c73nF1VXDH_"
      }
    },
    {
      "cell_type": "markdown",
      "source": [
        "### Dropwhile\n",
        " The dropwhile function on the other hand \n",
        "starts the iteration once the predicate becomes False."
      ],
      "metadata": {
        "id": "CgDBGanFY01D"
      }
    },
    {
      "cell_type": "code",
      "source": [
        "from itertools import dropwhile\n",
        "l = [1, 3, 5, 2, 1]\n",
        "list(dropwhile(lambda x: x < 5, l))"
      ],
      "metadata": {
        "colab": {
          "base_uri": "https://localhost:8080/"
        },
        "id": "tj_g9Qa_ZZjE",
        "outputId": "5ca47f90-8050-44a4-87f9-0d2c2fb73bbb"
      },
      "execution_count": null,
      "outputs": [
        {
          "output_type": "execute_result",
          "data": {
            "text/plain": [
              "[5, 2, 1]"
            ]
          },
          "metadata": {},
          "execution_count": 1
        }
      ]
    },
    {
      "cell_type": "markdown",
      "source": [
        "## Compress and zip"
      ],
      "metadata": {
        "id": "CXPOgMQcZ2_u"
      }
    },
    {
      "cell_type": "code",
      "source": [
        "data = ['a', 'b', 'c', 'd', 'e']\n",
        "selectors = [True, False, 1, 0]"
      ],
      "metadata": {
        "id": "vPO59pF0aDF1"
      },
      "execution_count": null,
      "outputs": []
    },
    {
      "cell_type": "code",
      "source": [
        "list(zip(data, selectors))"
      ],
      "metadata": {
        "colab": {
          "base_uri": "https://localhost:8080/"
        },
        "id": "A3MN4-XQaIxW",
        "outputId": "a06ee795-5ebe-4dc4-c97e-208e35a3b995"
      },
      "execution_count": null,
      "outputs": [
        {
          "output_type": "execute_result",
          "data": {
            "text/plain": [
              "[('a', True), ('b', False), ('c', 1), ('d', 0)]"
            ]
          },
          "metadata": {},
          "execution_count": 4
        }
      ]
    },
    {
      "cell_type": "code",
      "source": [
        "from itertools import compress\n",
        "list(compress(data, selectors))"
      ],
      "metadata": {
        "colab": {
          "base_uri": "https://localhost:8080/"
        },
        "id": "nN8uo4vuaNyZ",
        "outputId": "949d59e7-bde2-497c-df59-db84194c0308"
      },
      "execution_count": null,
      "outputs": [
        {
          "output_type": "execute_result",
          "data": {
            "text/plain": [
              "['a', 'c']"
            ]
          },
          "metadata": {},
          "execution_count": 6
        }
      ]
    },
    {
      "cell_type": "markdown",
      "source": [
        "The compress function works the same way, except that it is evaluated lazily and returns an iterator."
      ],
      "metadata": {
        "id": "8ds8_dulaipx"
      }
    },
    {
      "cell_type": "markdown",
      "source": [
        "\n",
        "## Infinite Iterators\n",
        "\n",
        "There are three functions in the itertools module that produce infinite iterators: count, cycle and repeat."
      ],
      "metadata": {
        "id": "lrPuTq-Qa-Kj"
      }
    },
    {
      "cell_type": "markdown",
      "source": [
        "### count\n",
        "The count function is similar to range, except it does not have a stop value. It has both a start and a step. Unlike the range function, whose arguments must always be integers, count works with floats, complex and decimal as well.\n",
        "\n",
        "count(start,step)"
      ],
      "metadata": {
        "id": "NZFtzvKAbPx3"
      }
    },
    {
      "cell_type": "markdown",
      "source": [
        "### cycle\n",
        "cycle is used to repeatedly loop over an iterable"
      ],
      "metadata": {
        "id": "apE452ZscPsI"
      }
    },
    {
      "cell_type": "code",
      "source": [
        "\n",
        "\n",
        "from itertools import cycle, islice\n",
        "g = cycle(('red', 'green', 'blue'))\n",
        "\n",
        "list(islice(g, 8))"
      ],
      "metadata": {
        "colab": {
          "base_uri": "https://localhost:8080/"
        },
        "id": "THgQ0_tscXJV",
        "outputId": "24db4231-d774-4d98-a95c-5ab403e3b9eb"
      },
      "execution_count": null,
      "outputs": [
        {
          "output_type": "execute_result",
          "data": {
            "text/plain": [
              "['red', 'green', 'blue', 'red', 'green', 'blue', 'red', 'green']"
            ]
          },
          "metadata": {},
          "execution_count": 8
        }
      ]
    },
    {
      "cell_type": "markdown",
      "source": [
        "\n",
        "### Repeat\n",
        "\n",
        "The repeat function is used to create an iterator that just returns the same value again and again."
      ],
      "metadata": {
        "id": "c7JyuRspd6tm"
      }
    },
    {
      "cell_type": "code",
      "source": [
        "\n",
        "from itertools import repeat \n",
        "g = repeat('Python')\n",
        "for _ in range(5):\n",
        "    print(next(g))"
      ],
      "metadata": {
        "colab": {
          "base_uri": "https://localhost:8080/"
        },
        "id": "-mZzxhHbeBIG",
        "outputId": "68f7bce5-5bd8-4cbf-805f-03ab007e7db1"
      },
      "execution_count": null,
      "outputs": [
        {
          "output_type": "stream",
          "name": "stdout",
          "text": [
            "Python\n",
            "Python\n",
            "Python\n",
            "Python\n",
            "Python\n"
          ]
        }
      ]
    },
    {
      "cell_type": "code",
      "source": [
        "g = repeat('Python', 4)\n",
        "list(g)"
      ],
      "metadata": {
        "id": "5_iWIUsSeJ6l"
      },
      "execution_count": null,
      "outputs": []
    },
    {
      "cell_type": "markdown",
      "source": [
        "Note: repeat creates shallow copies (not deep copies) so be careful"
      ],
      "metadata": {
        "id": "7DHOehm5x1Rz"
      }
    },
    {
      "cell_type": "markdown",
      "source": [
        "##05 - Chaining and Teeing Iterators.ipynb"
      ],
      "metadata": {
        "id": "xluR3BqqyJj8"
      }
    },
    {
      "cell_type": "markdown",
      "source": [
        "Chain simply means joining iterables"
      ],
      "metadata": {
        "id": "B1OdTwrN2YIl"
      }
    },
    {
      "cell_type": "code",
      "source": [
        "# manually chaining\n",
        "def chain_iterables(*iterables):\n",
        "    for iterable in iterables:\n",
        "        yield from iterable"
      ],
      "metadata": {
        "id": "UFy4ZQKf3B7x"
      },
      "execution_count": null,
      "outputs": []
    },
    {
      "cell_type": "code",
      "source": [
        "from itertools import chain\n",
        "\n",
        "l1 = (i**2 for i in range(4))\n",
        "String_1 = \"Aditya\"\n",
        "l2 = (i**2 for i in range(4, 8))\n",
        "l3 = (i**2 for i in range(8, 12))\n",
        "\n",
        "for item in chain(l1, String_1, l2, l3):\n",
        "    print(item)"
      ],
      "metadata": {
        "colab": {
          "base_uri": "https://localhost:8080/"
        },
        "id": "VD4VI3lQ2eLs",
        "outputId": "4b81aa74-ac65-4fa3-eb9c-e39829492871"
      },
      "execution_count": null,
      "outputs": [
        {
          "output_type": "stream",
          "name": "stdout",
          "text": [
            "0\n",
            "1\n",
            "4\n",
            "9\n",
            "A\n",
            "d\n",
            "i\n",
            "t\n",
            "y\n",
            "a\n",
            "16\n",
            "25\n",
            "36\n",
            "49\n",
            "64\n",
            "81\n",
            "100\n",
            "121\n"
          ]
        }
      ]
    },
    {
      "cell_type": "markdown",
      "source": [
        "We can use \"tee\" from itertools for deep copy."
      ],
      "metadata": {
        "id": "dFkRJjqK_gTP"
      }
    },
    {
      "cell_type": "markdown",
      "source": [
        "### checking if object is an Iterator"
      ],
      "metadata": {
        "id": "C1dFourzBryT"
      }
    },
    {
      "cell_type": "code",
      "source": [
        "lists = [1, 2, 3, 100]"
      ],
      "metadata": {
        "id": "4M03GEwaB8JO"
      },
      "execution_count": null,
      "outputs": []
    },
    {
      "cell_type": "code",
      "source": [
        "lists is lists.__iter__()"
      ],
      "metadata": {
        "colab": {
          "base_uri": "https://localhost:8080/"
        },
        "id": "CQj2IRJGCFel",
        "outputId": "1dfeb3a9-66f2-45b6-825f-18bc6ba19e14"
      },
      "execution_count": null,
      "outputs": [
        {
          "output_type": "execute_result",
          "data": {
            "text/plain": [
              "False"
            ]
          },
          "metadata": {},
          "execution_count": 6
        }
      ]
    },
    {
      "cell_type": "code",
      "source": [
        "'__next__' in dir(lists)"
      ],
      "metadata": {
        "colab": {
          "base_uri": "https://localhost:8080/"
        },
        "id": "I8UCvBDEDGfi",
        "outputId": "57bb6f8d-9d18-44ae-c6a8-2e24a4891d90"
      },
      "execution_count": null,
      "outputs": [
        {
          "output_type": "execute_result",
          "data": {
            "text/plain": [
              "False"
            ]
          },
          "metadata": {},
          "execution_count": 8
        }
      ]
    },
    {
      "cell_type": "code",
      "source": [
        "next(lists)"
      ],
      "metadata": {
        "colab": {
          "base_uri": "https://localhost:8080/",
          "height": 253
        },
        "id": "1kT0NJiUFoLz",
        "outputId": "f834739e-6372-42e1-aad7-d6fe051f4da6"
      },
      "execution_count": null,
      "outputs": [
        {
          "output_type": "error",
          "ename": "TypeError",
          "evalue": "ignored",
          "traceback": [
            "\u001b[0;31m---------------------------------------------------------------------------\u001b[0m",
            "\u001b[0;31mTypeError\u001b[0m                                 Traceback (most recent call last)",
            "\u001b[0;32m<ipython-input-9-484529f59008>\u001b[0m in \u001b[0;36m<module>\u001b[0;34m\u001b[0m\n\u001b[0;32m----> 1\u001b[0;31m \u001b[0mnext\u001b[0m\u001b[0;34m(\u001b[0m\u001b[0mlists\u001b[0m\u001b[0;34m)\u001b[0m\u001b[0;34m\u001b[0m\u001b[0;34m\u001b[0m\u001b[0m\n\u001b[0m",
            "\u001b[0;31mTypeError\u001b[0m: 'list' object is not an iterator"
          ]
        }
      ]
    },
    {
      "cell_type": "markdown",
      "source": [
        "## 06 - Mapping and Reducing.ipynb"
      ],
      "metadata": {
        "id": "0aTBiQQeIh3F"
      }
    },
    {
      "cell_type": "markdown",
      "source": [
        "### map and starmap\n",
        "\n",
        "map(fn, list of input values) returns list of the output received b"
      ],
      "metadata": {
        "id": "nr_f8DdNjWuO"
      }
    },
    {
      "cell_type": "code",
      "source": [
        "maps = map(lambda x: x**2, range(5))\n",
        "list(maps)"
      ],
      "metadata": {
        "colab": {
          "base_uri": "https://localhost:8080/"
        },
        "id": "qqiq5NWeZN5r",
        "outputId": "cce3829f-1fc3-4124-f4fe-cf0b8e06a445"
      },
      "execution_count": null,
      "outputs": [
        {
          "output_type": "execute_result",
          "data": {
            "text/plain": [
              "[0, 1, 4, 9, 16]"
            ]
          },
          "metadata": {},
          "execution_count": 2
        }
      ]
    },
    {
      "cell_type": "markdown",
      "source": [
        "Similarly, starmap just unpacks the elements when fn has multiple inputs"
      ],
      "metadata": {
        "id": "aaIUrN7EZrVc"
      }
    },
    {
      "cell_type": "markdown",
      "source": [
        "Here is an example where we should use starmap instead of map"
      ],
      "metadata": {
        "id": "uplHVaILblKd"
      }
    },
    {
      "cell_type": "code",
      "source": [
        "def add(x, y):\n",
        "    return x + y\n",
        "t = (2, 3)\n",
        "add(*t)"
      ],
      "metadata": {
        "colab": {
          "base_uri": "https://localhost:8080/"
        },
        "id": "N_ppJMgpcGgJ",
        "outputId": "5b4ed987-6071-4ddf-ad7f-ee2bf6943947"
      },
      "execution_count": null,
      "outputs": [
        {
          "output_type": "execute_result",
          "data": {
            "text/plain": [
              "5"
            ]
          },
          "metadata": {},
          "execution_count": 3
        }
      ]
    },
    {
      "cell_type": "code",
      "source": [
        "list(map(add, [(0,0), (1,1), (2,2)]))"
      ],
      "metadata": {
        "colab": {
          "base_uri": "https://localhost:8080/",
          "height": 270
        },
        "id": "CngAhaBacOu5",
        "outputId": "6e270e05-f9fc-4934-cf97-4aebe43e0938"
      },
      "execution_count": null,
      "outputs": [
        {
          "output_type": "error",
          "ename": "TypeError",
          "evalue": "ignored",
          "traceback": [
            "\u001b[0;31m---------------------------------------------------------------------------\u001b[0m",
            "\u001b[0;31mTypeError\u001b[0m                                 Traceback (most recent call last)",
            "\u001b[0;32m<ipython-input-4-66b4a212f979>\u001b[0m in \u001b[0;36m<cell line: 1>\u001b[0;34m()\u001b[0m\n\u001b[0;32m----> 1\u001b[0;31m \u001b[0mlist\u001b[0m\u001b[0;34m(\u001b[0m\u001b[0mmap\u001b[0m\u001b[0;34m(\u001b[0m\u001b[0madd\u001b[0m\u001b[0;34m,\u001b[0m \u001b[0;34m[\u001b[0m\u001b[0;34m(\u001b[0m\u001b[0;36m0\u001b[0m\u001b[0;34m,\u001b[0m\u001b[0;36m0\u001b[0m\u001b[0;34m)\u001b[0m\u001b[0;34m,\u001b[0m \u001b[0;34m(\u001b[0m\u001b[0;36m1\u001b[0m\u001b[0;34m,\u001b[0m\u001b[0;36m1\u001b[0m\u001b[0;34m)\u001b[0m\u001b[0;34m,\u001b[0m \u001b[0;34m(\u001b[0m\u001b[0;36m2\u001b[0m\u001b[0;34m,\u001b[0m\u001b[0;36m2\u001b[0m\u001b[0;34m)\u001b[0m\u001b[0;34m]\u001b[0m\u001b[0;34m)\u001b[0m\u001b[0;34m)\u001b[0m\u001b[0;34m\u001b[0m\u001b[0;34m\u001b[0m\u001b[0m\n\u001b[0m",
            "\u001b[0;31mTypeError\u001b[0m: add() missing 1 required positional argument: 'y'"
          ]
        }
      ]
    },
    {
      "cell_type": "code",
      "source": [
        "from itertools import starmap\n",
        "list(starmap(add, [(0,0), (1,1), (2,2)]))"
      ],
      "metadata": {
        "id": "efwFOakocT9g",
        "outputId": "42d49cb4-b8de-4b03-a505-82029f2326b4",
        "colab": {
          "base_uri": "https://localhost:8080/"
        }
      },
      "execution_count": null,
      "outputs": [
        {
          "output_type": "execute_result",
          "data": {
            "text/plain": [
              "[0, 2, 4]"
            ]
          },
          "metadata": {},
          "execution_count": 6
        }
      ]
    },
    {
      "cell_type": "markdown",
      "source": [
        "Observation BYME:\n",
        "\n",
        "                    map                           reduce\n",
        "                    \n",
        "single element   ----------------> list of objects -------------------------> single element"
      ],
      "metadata": {
        "id": "5cfXL0QdAwNt"
      }
    },
    {
      "cell_type": "markdown",
      "source": [
        "### Reduce"
      ],
      "metadata": {
        "id": "iJFbrCHYNIb5"
      }
    },
    {
      "cell_type": "code",
      "source": [
        "from functools import reduce\n",
        "reduce(lambda x, y: x*y, [1, 2, 3, 4])"
      ],
      "metadata": {
        "colab": {
          "base_uri": "https://localhost:8080/"
        },
        "id": "BcYBFEn9Buh-",
        "outputId": "4ff1284a-4351-4ef3-b0f8-db28ade50442"
      },
      "execution_count": null,
      "outputs": [
        {
          "output_type": "execute_result",
          "data": {
            "text/plain": [
              "24"
            ]
          },
          "metadata": {},
          "execution_count": 2
        }
      ]
    },
    {
      "cell_type": "code",
      "source": [
        "from itertools import accumulate\n",
        "list(accumulate([10, 20, 30]))    # defaults to addition [10, 10+20, 10+20+30]"
      ],
      "metadata": {
        "colab": {
          "base_uri": "https://localhost:8080/"
        },
        "id": "OTYKetejNKwc",
        "outputId": "3f42455e-06eb-404c-e99a-889e56bc454f"
      },
      "execution_count": null,
      "outputs": [
        {
          "output_type": "execute_result",
          "data": {
            "text/plain": [
              "[10, 30, 60]"
            ]
          },
          "metadata": {},
          "execution_count": 3
        }
      ]
    },
    {
      "cell_type": "code",
      "source": [
        "import operator    # we can change the working of accumulate by passing functions. here we are using operator module instead of defining functions manually\n",
        "list(accumulate([1, 2, 3, 4], operator.mul))   # output [1, 1*2, 1*2*3, 1*2*3*4]"
      ],
      "metadata": {
        "colab": {
          "base_uri": "https://localhost:8080/"
        },
        "id": "1hWeuie8NU57",
        "outputId": "3849bc3c-55ac-4f99-b217-9a0de5e38a72"
      },
      "execution_count": null,
      "outputs": [
        {
          "output_type": "execute_result",
          "data": {
            "text/plain": [
              "[1, 2, 6, 24]"
            ]
          },
          "metadata": {},
          "execution_count": 4
        }
      ]
    },
    {
      "cell_type": "markdown",
      "source": [
        "## 07 - Zipping.ipynb"
      ],
      "metadata": {
        "id": "zMM8zY1lN6TC"
      }
    },
    {
      "cell_type": "code",
      "source": [
        "l1 = [1, 2, 3, 4, 5]\n",
        "l2 = [11, 22, 33, 44]\n",
        "l3 = [111, 222, 333]\n",
        "\n",
        "list(zip(l1, l2, l3))   # Point to remember: zip is lazy"
      ],
      "metadata": {
        "colab": {
          "base_uri": "https://localhost:8080/"
        },
        "id": "eCtJlzx1WAXF",
        "outputId": "7f4ad5c2-6282-4fd7-dca0-0feeea7e777d"
      },
      "execution_count": null,
      "outputs": [
        {
          "output_type": "execute_result",
          "data": {
            "text/plain": [
              "[(1, 11, 111), (2, 22, 222), (3, 33, 333)]"
            ]
          },
          "metadata": {},
          "execution_count": 5
        }
      ]
    },
    {
      "cell_type": "code",
      "source": [
        "from itertools import zip_longest\n",
        "list(zip_longest(l1, l2, l3, fillvalue='N/A'))"
      ],
      "metadata": {
        "colab": {
          "base_uri": "https://localhost:8080/"
        },
        "id": "fJX_62FiXjTd",
        "outputId": "de82a378-114e-4e9f-a781-b8ba3d1b353f"
      },
      "execution_count": null,
      "outputs": [
        {
          "output_type": "execute_result",
          "data": {
            "text/plain": [
              "[(1, 11, 111), (2, 22, 222), (3, 33, 333), (4, 44, 'N/A'), (5, 'N/A', 'N/A')]"
            ]
          },
          "metadata": {},
          "execution_count": 6
        }
      ]
    },
    {
      "cell_type": "code",
      "source": [
        "list(zip_longest(l1, l2, l3))"
      ],
      "metadata": {
        "colab": {
          "base_uri": "https://localhost:8080/"
        },
        "id": "zkCN0_SaYqxq",
        "outputId": "fad59851-9982-4309-e5fc-cda5e7be17c0"
      },
      "execution_count": null,
      "outputs": [
        {
          "output_type": "execute_result",
          "data": {
            "text/plain": [
              "[(1, 11, 111), (2, 22, 222), (3, 33, 333), (4, 44, None), (5, None, None)]"
            ]
          },
          "metadata": {},
          "execution_count": 7
        }
      ]
    },
    {
      "cell_type": "markdown",
      "source": [
        "Note: instructor said not to try the below code with zip_longest.\n",
        "So, I am trying it."
      ],
      "metadata": {
        "id": "98QKTlcWZCbT"
      }
    },
    {
      "cell_type": "code",
      "source": [
        "def squares():\n",
        "    i = 0\n",
        "    while True:\n",
        "        yield i ** 2\n",
        "        i += 1\n",
        "\n",
        "def cubes():\n",
        "    i = 0\n",
        "    while True:\n",
        "        yield i ** 3\n",
        "        i += 1"
      ],
      "metadata": {
        "id": "WeSY62NQY4BZ"
      },
      "execution_count": null,
      "outputs": []
    },
    {
      "cell_type": "code",
      "source": [
        "iter1 = squares()\n",
        "iter2 = cubes()\n",
        "list(zip(range(10), iter1, iter2))"
      ],
      "metadata": {
        "colab": {
          "base_uri": "https://localhost:8080/"
        },
        "id": "XNYBsPnXY9b5",
        "outputId": "516aee77-315c-403c-e4d4-c131680cdb61"
      },
      "execution_count": null,
      "outputs": [
        {
          "output_type": "execute_result",
          "data": {
            "text/plain": [
              "[(0, 0, 0),\n",
              " (1, 1, 1),\n",
              " (2, 4, 8),\n",
              " (3, 9, 27),\n",
              " (4, 16, 64),\n",
              " (5, 25, 125),\n",
              " (6, 36, 216),\n",
              " (7, 49, 343),\n",
              " (8, 64, 512),\n",
              " (9, 81, 729)]"
            ]
          },
          "metadata": {},
          "execution_count": 9
        }
      ]
    },
    {
      "cell_type": "code",
      "source": [
        "list(zip_longest(range(10), iter1, iter2))"
      ],
      "metadata": {
        "id": "zYFYehIOZSLI"
      },
      "execution_count": null,
      "outputs": []
    },
    {
      "cell_type": "markdown",
      "source": [
        "The above zip_longest crashed.\n",
        "\n",
        "the output does not stop at range 10, it continues till infinity, and fills none in place of range 10, after filling 0 to 9.\n",
        "\n",
        "![image.png](data:image/png;base64,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)"
      ],
      "metadata": {
        "id": "Imcupx7lZzvD"
      }
    },
    {
      "cell_type": "markdown",
      "source": [
        "## 08 - Grouping"
      ],
      "metadata": {
        "id": "Q_fb2AnoaDAB"
      }
    },
    {
      "cell_type": "code",
      "source": [
        "import itertools\n",
        "x = [\"a\",0,1, (24,36,25)]\n",
        "for element in itertools.islice(x,1,4):\n",
        "  print(element)"
      ],
      "metadata": {
        "colab": {
          "base_uri": "https://localhost:8080/"
        },
        "id": "WVYbAxq0dhlw",
        "outputId": "25260a1a-b1f4-4282-b734-d058aaa36d40"
      },
      "execution_count": null,
      "outputs": [
        {
          "output_type": "stream",
          "name": "stdout",
          "text": [
            "0\n",
            "1\n",
            "(24, 36, 25)\n"
          ]
        }
      ]
    },
    {
      "cell_type": "code",
      "source": [
        "for element in x[1:4]:\n",
        "  print(element)"
      ],
      "metadata": {
        "colab": {
          "base_uri": "https://localhost:8080/"
        },
        "id": "F2gQnnBkeQRm",
        "outputId": "afbbec8a-bc96-4772-fe94-bcf4f204295a"
      },
      "execution_count": null,
      "outputs": [
        {
          "output_type": "stream",
          "name": "stdout",
          "text": [
            "0\n",
            "1\n",
            "(24, 36, 25)\n"
          ]
        }
      ]
    },
    {
      "cell_type": "markdown",
      "source": [
        "### BYME: Simple comparision of itertools.islice VS [] slice\n",
        "\n",
        "1. islice is lazy. (good for memory, computution time and is able to generate infinitely). While, Traditional slicing can't slice infinite iterators, since it generates the whole slice at once. (Traditional slicing is not lazy)\n",
        "2. islice can't slice backwards, while traditional slicing is good with both the directions\n",
        "\n"
      ],
      "metadata": {
        "id": "t41piWVQgS-G"
      }
    },
    {
      "cell_type": "markdown",
      "source": [
        "## groupby (works like sql)"
      ],
      "metadata": {
        "id": "g6bSbQ6fkMts"
      }
    },
    {
      "cell_type": "code",
      "source": [
        "data = (1, 1, 2, 2, 3, 6, 11, 6, 25, 25)\n",
        "list(itertools.groupby(data))"
      ],
      "metadata": {
        "colab": {
          "base_uri": "https://localhost:8080/"
        },
        "id": "nv3_TfBjkfXj",
        "outputId": "3fe3078f-f181-45a1-ea23-0696adf37887"
      },
      "execution_count": null,
      "outputs": [
        {
          "output_type": "execute_result",
          "data": {
            "text/plain": [
              "[(1, <itertools._grouper at 0x7f8cb47528b0>),\n",
              " (2, <itertools._grouper at 0x7f8cb4752070>),\n",
              " (3, <itertools._grouper at 0x7f8cb47523d0>),\n",
              " (6, <itertools._grouper at 0x7f8cb4752eb0>),\n",
              " (11, <itertools._grouper at 0x7f8cb47528e0>),\n",
              " (6, <itertools._grouper at 0x7f8cb4752460>),\n",
              " (25, <itertools._grouper at 0x7f8cb4752df0>)]"
            ]
          },
          "metadata": {},
          "execution_count": 6
        }
      ]
    },
    {
      "cell_type": "code",
      "source": [
        "it = itertools.groupby(data)  ## consecutive same values ka group bana diya\n",
        "for group in it:\n",
        "    print(group[0], list(group[1]))  "
      ],
      "metadata": {
        "colab": {
          "base_uri": "https://localhost:8080/"
        },
        "id": "rtQwBXJMkqnL",
        "outputId": "6cba7233-dbe6-43a5-b674-83630d4e581b"
      },
      "execution_count": null,
      "outputs": [
        {
          "output_type": "stream",
          "name": "stdout",
          "text": [
            "1 [1, 1]\n",
            "2 [2, 2]\n",
            "3 [3]\n",
            "6 [6]\n",
            "11 [11]\n",
            "6 [6]\n",
            "25 [25, 25]\n"
          ]
        }
      ]
    },
    {
      "cell_type": "markdown",
      "source": [
        "### Using key to group\n"
      ],
      "metadata": {
        "id": "q83UEYS-lB31"
      }
    },
    {
      "cell_type": "code",
      "source": [
        "data = (\n",
        "    (1, 'abc'),\n",
        "    (1, 'bcd'),\n",
        "   \n",
        "    (2, 'pyt'),\n",
        "    (2, 'yth'),\n",
        "    (2, 'tho'),\n",
        "    \n",
        "    (3, 'hon')\n",
        ")\n",
        "\n",
        "groups = itertools.groupby(data, key=lambda x: x[0]+21)   ## using first element as a key to group (key works just like sorted)\n",
        "for group in groups:\n",
        "    print(group[0], list(group[1]))"
      ],
      "metadata": {
        "colab": {
          "base_uri": "https://localhost:8080/"
        },
        "id": "wK25JohblQXw",
        "outputId": "a26e8970-8f36-49e6-a191-8f6ff9dda9b8"
      },
      "execution_count": null,
      "outputs": [
        {
          "output_type": "stream",
          "name": "stdout",
          "text": [
            "22 [(1, 'abc'), (1, 'bcd')]\n",
            "23 [(2, 'pyt'), (2, 'yth'), (2, 'tho')]\n",
            "24 [(3, 'hon')]\n"
          ]
        }
      ]
    },
    {
      "cell_type": "markdown",
      "source": [
        "*Continue from In[9]*\n",
        "https://github.com/fbaptiste/python-deepdive/blob/main/Part%202/Section%2008%20-%20Iteration%20Tools/08%20-%20Grouping/Grouping.ipynb\n",
        "\n"
      ],
      "metadata": {
        "id": "tOLEjDMAlzrs"
      }
    },
    {
      "cell_type": "markdown",
      "source": [
        "observation BYME: \n",
        "\n",
        "1.   groupby returns [(key1, lazy_grouper_object_1,  ....)]\n",
        "2.   list(lazy_grouper_object_1) returns list of elements grouped by key1\n",
        "\n",
        "it basically iterates over all the elements until it hits the next group key.\n",
        "ONCE KEY CHANGES, previous list of elements get exhausted.\n",
        "So, store values in list if needed in future.\n"
      ],
      "metadata": {
        "id": "_p323eyh3jfF"
      }
    },
    {
      "cell_type": "markdown",
      "source": [
        "## 09 - Combinatorics.ipynb"
      ],
      "metadata": {
        "id": "TWlcCB6N7AFl"
      }
    },
    {
      "cell_type": "markdown",
      "source": [
        "Permutations: (a,b) and (b,a) are different permutations\n",
        "\n",
        "Combinations: (a,b) and (b,a) mean the same."
      ],
      "metadata": {
        "id": "_l3qbQs_7CDR"
      }
    },
    {
      "cell_type": "markdown",
      "source": [
        "Start from Section 9 (deepdive part 2)"
      ],
      "metadata": {
        "id": "5s52LGz7L8EY"
      }
    },
    {
      "cell_type": "markdown",
      "source": [
        "#Section 9: Project 4\n",
        "\n",
        "##Project Description\n",
        "For this project you have 4 files containing information about persons.\n",
        "\n",
        "The files are:\n",
        "\n",
        "* personal_info.csv - personal information such as name, gender, etc. (one row per person)\n",
        "* vehicles.csv - what vehicle people own (one row per person)\n",
        "* employment.csv - where a person is employed (one row per person)\n",
        "* update_status.csv - when the person's data was created and last updated\n",
        "Each file contains a key, SSN, which uniquely identifies a person.\n",
        "\n",
        "This key is present in all four files.\n",
        "\n",
        "You are guaranteed that the same SSN value is present in every file, and that it only appears once per file.\n",
        "\n",
        "In addition, the files are all sorted by SSN, i.e. the SSN values appear in the same order in each file."
      ],
      "metadata": {
        "id": "jZGTK8eM6jaW"
      }
    },
    {
      "cell_type": "markdown",
      "source": [
        "##Goal 1\n",
        "Your first task is to create iterators for each of the four files that contained cleaned up data, of the correct type (e.g. string, int, date, etc), and represented by a named tuple.\n",
        "\n",
        "For now these four iterators are just separate, independent iterators.\n",
        "\n",
        "***BYME: Just fetch data from files and store it into namedtuple***"
      ],
      "metadata": {
        "id": "I8V96dyf8Gtg"
      }
    },
    {
      "cell_type": "markdown",
      "source": [
        "Syntax Revision\n",
        "\n",
        "```\n",
        "tupleName = collections.namedtuple(class_name, fields)  ---> created named tuple\n",
        "x = tupleName(value1, value2, ...)                      ---> added values to respective fields\n",
        "x[0], x.value1                                          ---> ways of accessing data\n",
        "dateVar = datetime.strptime(value, fmt) # here format fmt='%Y-%m-%dT%H:%M:%SZ'\n",
        "```\n",
        "\n",
        "Proper way to write code for getting csv from url:\n",
        "\n",
        "\n",
        "```\n",
        "import requests\n",
        "import csv\n",
        "\n",
        "url = employment_csv_url\n",
        "response = requests.get(url)\n",
        "\n",
        "lines = response.content.decode().splitlines()\n",
        "\n",
        "reader = csv.reader(lines)\n",
        "for row in reader:\n",
        "    print(row)\n",
        "```\n",
        "Output:\n",
        "\n",
        "\n",
        "```\n",
        "['employer', 'department', 'employee_id', 'ssn']\n",
        "['Stiedemann-Bailey', 'Research and Development', '29-0890771', '100-53-9824']\n",
        "['Nicolas and Sons', 'Sales', '41-6841359', '101-71-4702']\n",
        "['Connelly Group', 'Research and Development', '98-7952860', '101-84-0356']\n",
        "['Upton LLC', 'Marketing', '56-9817552', '104-22-0928']\n",
        "['Zemlak-Olson', 'Business Development', '46-2886707', '104-84-7144']\n",
        "['Kohler, Bradtke and Davis', 'Support', '80-0975518', '105-27-5541']\n",
        "['Roberts, Torphy and Dach', 'Human Resources', '77-4895332', '105-85-7486']\n",
        "['Lind-Jast', 'Marketing', '79-6418731', '105-91-5022']\n",
        "```\n",
        "\n",
        "\n",
        "\n",
        "\n"
      ],
      "metadata": {
        "id": "OSre9a96BENI"
      }
    },
    {
      "cell_type": "code",
      "source": [
        "import requests\n",
        "import csv\n",
        "import collections\n",
        "\n",
        "employment_csv_url = \"https://raw.githubusercontent.com/fbaptiste/python-deepdive/main/Part%202/Section%2009%20-%20Project%204/project_4_description/employment.csv\"\n",
        "personal_info_csv_url = \"https://raw.githubusercontent.com/fbaptiste/python-deepdive/main/Part%202/Section%2009%20-%20Project%204/project_4_description/personal_info.csv\"\n",
        "update_status_csv_url = \"https://raw.githubusercontent.com/fbaptiste/python-deepdive/main/Part%202/Section%2009%20-%20Project%204/project_4_description/update_status.csv\"\n",
        "vehicles_csv_url = \"https://raw.githubusercontent.com/fbaptiste/python-deepdive/main/Part%202/Section%2009%20-%20Project%204/project_4_description/vehicles.csv\""
      ],
      "metadata": {
        "id": "ifBs9-TMD6Dx"
      },
      "execution_count": null,
      "outputs": []
    },
    {
      "cell_type": "code",
      "source": [
        "# reading elements lazily\n",
        "def extract_values_in_row(url):\n",
        "  response = requests.get(url)\n",
        "  lines = response.content.decode().splitlines()\n",
        "  reader = csv.reader(lines)\n",
        "  yield from reader\n",
        "  # returns list of elements in the row as string"
      ],
      "metadata": {
        "id": "yPEfdNvf8yEA"
      },
      "execution_count": null,
      "outputs": []
    },
    {
      "cell_type": "code",
      "source": [
        "import datetime\n",
        "def parser(inputNamedTuple, typeCheck = False):\n",
        "  parsedList = []\n",
        "  for value in inputNamedTuple:\n",
        "    try:\n",
        "      parsedList.append(int(value))\n",
        "    except ValueError:\n",
        "      try:\n",
        "        fmt='%Y-%m-%dT%H:%M:%SZ'\n",
        "        parsedList.append(datetime.datetime.strptime(value, fmt))\n",
        "      except:\n",
        "        parsedList.append(value)\n",
        "\n",
        "  # for element in parsedList:\n",
        "  #   print(element, type(element))\n",
        "\n",
        "  if typeCheck:\n",
        "    print('input value type:', type(inputNamedTuple))\n",
        "    print('output value type:', type(inputNamedTuple._make(parsedList)))\n",
        "\n",
        "  return inputNamedTuple._make(parsedList)"
      ],
      "metadata": {
        "id": "RI9jIP4D-wJC"
      },
      "execution_count": null,
      "outputs": []
    },
    {
      "cell_type": "markdown",
      "source": [
        "Note BYME: USE OF MAKE ENSURED THAT THE ELEMENT IS OF SAME TYPE AS INPUT NAMEDTUPLE IN ABOVE CODE"
      ],
      "metadata": {
        "id": "hUytmJd5N6I8"
      }
    },
    {
      "cell_type": "code",
      "source": [
        "# first working on employment csv\n",
        "employment_rows = extract_values_in_row(employment_csv_url)    # since first row is header\n",
        "employment_data = collections.namedtuple(\"employment_data_class\", next(employment_rows))   # extracted first row (header) to use as a field in employment_data"
      ],
      "metadata": {
        "id": "hYBCK5t_BBK3"
      },
      "execution_count": null,
      "outputs": []
    },
    {
      "cell_type": "code",
      "source": [
        "# then working on personal_info csv\n",
        "personal_info_rows = extract_values_in_row(personal_info_csv_url)\n",
        "personal_info_data = collections.namedtuple(\"personal_info_data_class\", next(personal_info_rows))   # extracted first row (header) to use as a field in personal_info_data"
      ],
      "metadata": {
        "id": "pCcFngPjJr_j"
      },
      "execution_count": null,
      "outputs": []
    },
    {
      "cell_type": "code",
      "source": [
        "# then working on update_status csv\n",
        "update_status_rows = extract_values_in_row(update_status_csv_url)\n",
        "update_status_data = collections.namedtuple(\"update_status_data_class\", next(update_status_rows))   # extracted first row (header) to use as a field in update_status_data"
      ],
      "metadata": {
        "id": "NOZZ8IjsKSnL"
      },
      "execution_count": null,
      "outputs": []
    },
    {
      "cell_type": "code",
      "source": [
        "# at last working on vehicles csv\n",
        "vehicles_rows = extract_values_in_row(vehicles_csv_url)\n",
        "vehicles_data = collections.namedtuple(\"vehicles_data_class\", next(vehicles_rows))   # extracted first row (header) to use as a field in vehicles_data"
      ],
      "metadata": {
        "id": "DYWnRicmKebf"
      },
      "execution_count": null,
      "outputs": []
    },
    {
      "cell_type": "code",
      "source": [
        "employment_data.__class__.__name__"
      ],
      "metadata": {
        "colab": {
          "base_uri": "https://localhost:8080/",
          "height": 35
        },
        "id": "rigBZF08IK8S",
        "outputId": "b009823f-366a-4e2a-e06f-175b1ac818fe"
      },
      "execution_count": null,
      "outputs": [
        {
          "output_type": "execute_result",
          "data": {
            "text/plain": [
              "'type'"
            ],
            "application/vnd.google.colaboratory.intrinsic+json": {
              "type": "string"
            }
          },
          "metadata": {},
          "execution_count": 9
        }
      ]
    },
    {
      "cell_type": "code",
      "source": [
        "type(employment_data)"
      ],
      "metadata": {
        "colab": {
          "base_uri": "https://localhost:8080/"
        },
        "id": "sA91VaAiJsV3",
        "outputId": "17f5c690-a437-4d55-c1d0-432896edd1dd"
      },
      "execution_count": null,
      "outputs": [
        {
          "output_type": "execute_result",
          "data": {
            "text/plain": [
              "type"
            ]
          },
          "metadata": {},
          "execution_count": 10
        }
      ]
    },
    {
      "cell_type": "markdown",
      "source": [
        "### Above is code for goal 1 and below is checking if data is available "
      ],
      "metadata": {
        "id": "NYbNJa2GS2Ln"
      }
    },
    {
      "cell_type": "code",
      "source": [
        "''' TEST EMPLOYMENT DATA BY ACCESSING (DONT RUN THIS MULTIPLE TIMES AS emolyment_rows GETS EXHAUSTED ONCE IT IS USED) '''\n",
        "\n",
        "\n",
        "# Create instances of the named tuple class and store them in a list\n",
        "employment_data_list = [parser(employment_data(*row)) for row in employment_rows]\n",
        "'''\n",
        "explanation of above:\n",
        "employment_rows = list of row data in str type\n",
        "so, employment_data_list is list of named tuples of each row in sequence\n",
        "'''\n",
        "\n",
        "# Access the ssn value of the first row in the list\n",
        "print(employment_data_list[0].employer)\n",
        "print(employment_data_list[0].department)\n",
        "print(employment_data_list[0].employee_id)\n",
        "print(employment_data_list[0].ssn)"
      ],
      "metadata": {
        "colab": {
          "base_uri": "https://localhost:8080/"
        },
        "id": "mcgeYu1NJdsa",
        "outputId": "39b232eb-3495-4bd3-8295-c85b764a63c1"
      },
      "execution_count": null,
      "outputs": [
        {
          "output_type": "stream",
          "name": "stdout",
          "text": [
            "Stiedemann-Bailey\n",
            "Research and Development\n",
            "29-0890771\n",
            "100-53-9824\n"
          ]
        }
      ]
    },
    {
      "cell_type": "code",
      "source": [
        "''' TEST PERSONAL INFO DATA BY ACCESSING (DONT RUN THIS MULTIPLE TIMES) '''\n",
        "\n",
        "\n",
        "# Create instances of the named tuple class and store them in a list\n",
        "personal_info_data_list = [parser(personal_info_data(*row)) for row in personal_info_rows]\n",
        "'''\n",
        "explanation of above:\n",
        "personal_info_rows = list of row data in str type\n",
        "so, personal_info_data_list is list of named tuples of each row in sequence\n",
        "'''\n",
        "\n",
        "# Access the ssn value of the first row in the list\n",
        "\t\t\t\n",
        "print(personal_info_data_list[0].ssn)\n",
        "print(personal_info_data_list[0].first_name)\n",
        "print(personal_info_data_list[0].last_name)\n",
        "print(personal_info_data_list[0].gender)\n",
        "print(personal_info_data_list[0].language)"
      ],
      "metadata": {
        "colab": {
          "base_uri": "https://localhost:8080/"
        },
        "id": "WlEQztEFMiZE",
        "outputId": "23e65863-4d47-461b-a0c9-516bf3c4a8b9"
      },
      "execution_count": null,
      "outputs": [
        {
          "output_type": "stream",
          "name": "stdout",
          "text": [
            "100-53-9824\n",
            "Sebastiano\n",
            "Tester\n",
            "Male\n",
            "Icelandic\n"
          ]
        }
      ]
    },
    {
      "cell_type": "code",
      "source": [
        "''' TEST UPDATE STATUS DATA BY ACCESSING (DONT RUN THIS MULTIPLE TIMES) '''\n",
        "\n",
        "\n",
        "# Create instances of the named tuple class and store them in a list\n",
        "update_status_data_list = [parser(update_status_data(*row)) for row in update_status_rows]\n",
        "'''\n",
        "explanation of above:\n",
        "update_status_rows = list of row data in str type\n",
        "so, update_status_data_list is list of named tuples of each row in sequence\n",
        "'''\n",
        "\n",
        "# Access the ssn value of the first row in the list\n",
        "print(update_status_data_list[0].ssn)\n",
        "print(update_status_data_list[0].last_updated)\n",
        "print(update_status_data_list[0].created)"
      ],
      "metadata": {
        "colab": {
          "base_uri": "https://localhost:8080/"
        },
        "id": "hSmqh44IMlyp",
        "outputId": "22482bab-0cf0-41dc-fdaf-544c1cb199ef"
      },
      "execution_count": null,
      "outputs": [
        {
          "output_type": "stream",
          "name": "stdout",
          "text": [
            "100-53-9824\n",
            "2017-10-07 00:14:42\n",
            "2016-01-24 21:19:30\n"
          ]
        }
      ]
    },
    {
      "cell_type": "code",
      "source": [
        "''' TEST VEHICLES DATA BY ACCESSING (DONT RUN THIS MULTIPLE TIMES) '''\n",
        "\n",
        "\n",
        "# Create instances of the named tuple class and store them in a list\n",
        "vehicles_data_list = [parser(vehicles_data(*row)) for row in vehicles_rows]\n",
        "'''\n",
        "explanation of above:\n",
        "vehicles_rows = list of row data in str type\n",
        "so, vehicles_data_list is list of named tuples of each row in sequence\n",
        "'''\n",
        "\n",
        "# Access the ssn value of the first row in the list\n",
        "print(vehicles_data_list[0].ssn)\n",
        "print(vehicles_data_list[0].vehicle_make)\n",
        "print(vehicles_data_list[0].vehicle_model)\n",
        "print(vehicles_data_list[0].model_year)"
      ],
      "metadata": {
        "colab": {
          "base_uri": "https://localhost:8080/"
        },
        "id": "8vJbU2aVLelm",
        "outputId": "780417d0-4feb-4487-a5d2-b5990236ed2d"
      },
      "execution_count": null,
      "outputs": [
        {
          "output_type": "stream",
          "name": "stdout",
          "text": [
            "100-53-9824\n",
            "Oldsmobile\n",
            "Bravada\n",
            "1993\n"
          ]
        }
      ]
    },
    {
      "cell_type": "code",
      "source": [
        "print(print(vehicles_data_list[1].model_year))"
      ],
      "metadata": {
        "colab": {
          "base_uri": "https://localhost:8080/"
        },
        "id": "GbLMr8ePM5G2",
        "outputId": "cb376eb3-5521-4a2f-d5db-9f70a735718b"
      },
      "execution_count": null,
      "outputs": [
        {
          "output_type": "stream",
          "name": "stdout",
          "text": [
            "1997\n",
            "None\n"
          ]
        }
      ]
    },
    {
      "cell_type": "markdown",
      "source": [
        "## Goal 2\n",
        "\n",
        "Create a single iterable that combines all the columns from all the iterators.\n",
        "\n",
        "The iterable should yield named tuples containing all the columns. Make sure that the SSN's across the files match!\n",
        "\n",
        "All the files are guaranteed to be in SSN sort order, and every SSN is unique, and every SSN appears in every file.\n",
        "\n",
        "Make sure the SSN is not repeated 4 times - one time per row is enough!\n",
        "\n",
        "\n",
        "***BYME: data is same line by line, just create a named tuple with all the columns side by side.***"
      ],
      "metadata": {
        "id": "7WOAUn-COewP"
      }
    },
    {
      "cell_type": "code",
      "source": [
        "# Created combined tuple\n",
        "\n",
        "all_fields = tuple(set(employment_data._fields + personal_info_data._fields + update_status_data._fields + vehicles_data._fields))\n",
        "# type casted to set for removing repeated elements, then type casted to tuple to preserve sequence\n",
        "\n",
        "print(\"all_fields =\", all_fields) ##########\n",
        "combined_namedtuple_data = collections.namedtuple(\"combined_type\", all_fields)"
      ],
      "metadata": {
        "colab": {
          "base_uri": "https://localhost:8080/"
        },
        "id": "vT3nHb5WUVq5",
        "outputId": "94c807d2-1dae-4c88-80eb-b13c22bf557a"
      },
      "execution_count": null,
      "outputs": [
        {
          "output_type": "stream",
          "name": "stdout",
          "text": [
            "all_fields = ('ssn', 'vehicle_make', 'employee_id', 'created', 'first_name', 'employer', 'department', 'model_year', 'last_updated', 'last_name', 'language', 'vehicle_model', 'gender')\n"
          ]
        }
      ]
    },
    {
      "cell_type": "markdown",
      "source": [
        "###Revision of zip:\n",
        "Code:\n",
        "\n",
        "\n",
        "```\n",
        "data = ['a', 'b', 'c', 'd', 'e']\n",
        "selectors = [True, False, 1, 0]\n",
        "list(zip(data, selectors))\n",
        "```\n",
        "Output:\n",
        "\n",
        "\n",
        "```\n",
        "[('a', True), ('b', False), ('c', 1), ('d', 0)]\n",
        "```\n",
        "\n",
        "\n",
        "\n"
      ],
      "metadata": {
        "id": "B2dztOekOaF8"
      }
    },
    {
      "cell_type": "code",
      "source": [
        "# adding values to combined tuple, and then creating a list of those\n",
        "\n",
        "combined_namedtuple_data_list = []  # empty list to hold combined data\n",
        "\n",
        "for emp, per, upd, veh in zip(employment_data_list, personal_info_data_list, update_status_data_list, vehicles_data_list):\n",
        "    row = []\n",
        "    for field in all_fields:\n",
        "        if field in employment_data._fields:\n",
        "            row.append(getattr(emp, field))\n",
        "        elif field in personal_info_data._fields:\n",
        "            row.append(getattr(per, field))\n",
        "        elif field in update_status_data._fields:\n",
        "            row.append(getattr(upd, field))\n",
        "        elif field in vehicles_data._fields:\n",
        "            row.append(getattr(veh, field))\n",
        "    combined_namedtuple_data_list.append(combined_namedtuple_data(*row))"
      ],
      "metadata": {
        "id": "LiSv4Wto4m7M"
      },
      "execution_count": null,
      "outputs": []
    },
    {
      "cell_type": "code",
      "source": [
        "# printing to check if data is combined (VERIFIED !)\n",
        "for _ in combined_namedtuple_data_list:\n",
        "  print(_)"
      ],
      "metadata": {
        "colab": {
          "base_uri": "https://localhost:8080/"
        },
        "id": "eEuikhXKE-LZ",
        "outputId": "07f1b18a-2789-4775-a63a-0f74d2df5892"
      },
      "execution_count": null,
      "outputs": [
        {
          "output_type": "stream",
          "name": "stdout",
          "text": [
            "combined_type(ssn='100-53-9824', vehicle_make='Oldsmobile', employee_id='29-0890771', created=datetime.datetime(2016, 1, 24, 21, 19, 30), first_name='Sebastiano', employer='Stiedemann-Bailey', department='Research and Development', model_year=1993, last_updated=datetime.datetime(2017, 10, 7, 0, 14, 42), last_name='Tester', language='Icelandic', vehicle_model='Bravada', gender='Male')\n",
            "combined_type(ssn='101-71-4702', vehicle_make='Ford', employee_id='41-6841359', created=datetime.datetime(2016, 1, 27, 4, 32, 57), first_name='Cayla', employer='Nicolas and Sons', department='Sales', model_year=1997, last_updated=datetime.datetime(2017, 1, 23, 11, 23, 17), last_name='MacDonagh', language='Lao', vehicle_model='Mustang', gender='Female')\n",
            "combined_type(ssn='101-84-0356', vehicle_make='GMC', employee_id='98-7952860', created=datetime.datetime(2016, 9, 21, 23, 4, 7), first_name='Nomi', employer='Connelly Group', department='Research and Development', model_year=2005, last_updated=datetime.datetime(2017, 10, 4, 11, 21, 30), last_name='Lipprose', language='Yiddish', vehicle_model='Yukon', gender='Female')\n",
            "combined_type(ssn='104-22-0928', vehicle_make='Oldsmobile', employee_id='56-9817552', created=datetime.datetime(2016, 4, 15, 11, 37, 17), first_name='Justinian', employer='Upton LLC', department='Marketing', model_year=2000, last_updated=datetime.datetime(2017, 3, 28, 12, 38, 29), last_name='Kunzelmann', language='Dhivehi', vehicle_model='Intrigue', gender='Male')\n",
            "combined_type(ssn='104-84-7144', vehicle_make='Ford', employee_id='46-2886707', created=datetime.datetime(2016, 3, 15, 14, 7, 57), first_name='Claudianus', employer='Zemlak-Olson', department='Business Development', model_year=2008, last_updated=datetime.datetime(2018, 2, 19, 1, 34, 33), last_name='Brixey', language='Afrikaans', vehicle_model='Crown Victoria', gender='Male')\n",
            "combined_type(ssn='105-27-5541', vehicle_make='Ford', employee_id='80-0975518', created=datetime.datetime(2016, 7, 23, 17, 58, 35), first_name='Federico', employer='Kohler, Bradtke and Davis', department='Support', model_year=2001, last_updated=datetime.datetime(2017, 7, 24, 8, 58, 52), last_name='Aggett', language='Chinese', vehicle_model='Mustang', gender='Male')\n",
            "combined_type(ssn='105-85-7486', vehicle_make='Chrysler', employee_id='77-4895332', created=datetime.datetime(2016, 12, 15, 5, 46, 43), first_name='Angelina', employer='Roberts, Torphy and Dach', department='Human Resources', model_year=2008, last_updated=datetime.datetime(2018, 2, 14, 11, 32, 39), last_name='McAvey', language='Punjabi', vehicle_model=300, gender='Female')\n",
            "combined_type(ssn='105-91-5022', vehicle_make='Isuzu', employee_id='79-6418731', created=datetime.datetime(2016, 3, 24, 3, 43, 3), first_name='Moselle', employer='Lind-Jast', department='Marketing', model_year=2000, last_updated=datetime.datetime(2018, 3, 24, 14, 29, 33), last_name='Apfel', language='Latvian', vehicle_model='Hombre Space', gender='Female')\n",
            "combined_type(ssn='105-91-7777', vehicle_make='Chevrolet', employee_id='44-3328799', created=datetime.datetime(2016, 5, 31, 0, 38, 13), first_name='Audi', employer='Bashirian-Lueilwitz', department='Engineering', model_year=2004, last_updated=datetime.datetime(2017, 5, 11, 1, 48, 32), last_name='Roach', language='Estonian', vehicle_model='Silverado 3500', gender='Female')\n",
            "combined_type(ssn='106-35-1938', vehicle_make='GMC', employee_id='54-6271885', created=datetime.datetime(2016, 9, 8, 4, 2, 12), first_name='Mackenzie', employer='Windler, Marks and Haley', department='Services', model_year=1992, last_updated=datetime.datetime(2017, 10, 21, 1, 7, 28), last_name='Nussey', language='Swedish', vehicle_model='Sonoma Club', gender='Male')\n",
            "combined_type(ssn='106-36-3293', vehicle_make='Volkswagen', employee_id='31-5735282', created=datetime.datetime(2016, 5, 16, 21, 21, 36), first_name='Martino', employer='Leffler-Hahn', department='Accounting', model_year=2008, last_updated=datetime.datetime(2017, 3, 18, 18, 24, 17), last_name='Tregoning', language='Tok Pisin', vehicle_model='Touareg', gender='Male')\n",
            "combined_type(ssn='110-84-3641', vehicle_make='Ford', employee_id='33-9146042', created=datetime.datetime(2016, 9, 12, 22, 50, 5), first_name='Amberly', employer='Lueilwitz LLC', department='Marketing', model_year=1990, last_updated=datetime.datetime(2017, 9, 4, 19, 2, 3), last_name='Huws', language='Papiamento', vehicle_model='Mustang', gender='Female')\n",
            "combined_type(ssn='111-35-1034', vehicle_make='Ford', employee_id='39-0400385', created=datetime.datetime(2016, 8, 21, 7, 36, 17), first_name='Giacopo', employer='Davis Inc', department='Accounting', model_year=2001, last_updated=datetime.datetime(2017, 3, 18, 14, 51, 4), last_name='Timperley', language='Gagauz', vehicle_model='Fiesta', gender='Male')\n",
            "combined_type(ssn='114-06-6912', vehicle_make='Aston Martin', employee_id='78-2612900', created=datetime.datetime(2016, 7, 15, 21, 58, 3), first_name='Jule', employer='Kunze LLC', department='Research and Development', model_year=2011, last_updated=datetime.datetime(2018, 2, 5, 20, 48, 34), last_name='Velte', language='Dutch', vehicle_model='DBS', gender='Male')\n",
            "combined_type(ssn='114-66-0984', vehicle_make='Chevrolet', employee_id='85-8596488', created=datetime.datetime(2016, 5, 28, 20, 31, 25), first_name='Casandra', employer='Mayert, Rice and Schmitt', department='Product Management', model_year=1998, last_updated=datetime.datetime(2017, 6, 16, 17, 41, 33), last_name='Juares', language='Lithuanian', vehicle_model='Camaro', gender='Female')\n",
            "combined_type(ssn='114-74-8701', vehicle_make='Mercedes-Benz', employee_id='14-2589283', created=datetime.datetime(2016, 6, 4, 5, 18, 3), first_name='Levey', employer='Pouros LLC', department='Legal', model_year=2009, last_updated=datetime.datetime(2017, 10, 30, 23, 54, 38), last_name='Baradel', language='Icelandic', vehicle_model='CL65 AMG', gender='Male')\n",
            "combined_type(ssn='116-10-7235', vehicle_make='Bugatti', employee_id='43-1532437', created=datetime.datetime(2016, 10, 17, 2, 11, 26), first_name='Chiquita', employer='Pfannerstill Group', department='Research and Development', model_year=2009, last_updated=datetime.datetime(2017, 3, 10, 0, 31, 43), last_name='Danbi', language='Dari', vehicle_model='Veyron', gender='Female')\n",
            "combined_type(ssn='116-77-4915', vehicle_make='Buick', employee_id='08-8274517', created=datetime.datetime(2016, 7, 3, 3, 55, 39), first_name='Herold', employer='Ryan Group', department='Sales', model_year=2004, last_updated=datetime.datetime(2017, 11, 21, 14, 25, 11), last_name='Fearon', language='Italian', vehicle_model='Rainier', gender='Male')\n",
            "combined_type(ssn='117-39-6617', vehicle_make='Scion', employee_id='38-0095184', created=datetime.datetime(2016, 12, 1, 10, 11, 17), first_name='Auroora', employer='Ritchie-Pagac', department='Business Development', model_year=2008, last_updated=datetime.datetime(2017, 9, 1, 11, 58, 21), last_name='Yong', language='Swahili', vehicle_model='tC', gender='Female')\n",
            "combined_type(ssn='117-77-9748', vehicle_make='Audi', employee_id='62-3275199', created=datetime.datetime(2016, 2, 2, 15, 41, 42), first_name='Lucien', employer='Schmeler and Sons', department='Research and Development', model_year=2009, last_updated=datetime.datetime(2017, 2, 18, 23, 9, 25), last_name='Smalman', language='Hebrew', vehicle_model='S6', gender='Male')\n",
            "combined_type(ssn='117-78-6202', vehicle_make='Rolls-Royce', employee_id='90-5121197', created=datetime.datetime(2016, 4, 18, 0, 25, 1), first_name='Dareen', employer='Kerluke-Dibbert', department='Services', model_year=2007, last_updated=datetime.datetime(2017, 11, 2, 2, 26, 10), last_name='Jiggins', language='Polish', vehicle_model='Phantom', gender='Female')\n",
            "combined_type(ssn='118-21-0357', vehicle_make='GMC', employee_id='27-2946273', created=datetime.datetime(2016, 10, 24, 3, 40, 22), first_name='Laina', employer='Hane-Klocko', department='Human Resources', model_year=1992, last_updated=datetime.datetime(2017, 12, 13, 9, 36, 48), last_name='Bayly', language='Bulgarian', vehicle_model='3500 Club Coupe', gender='Female')\n",
            "combined_type(ssn='118-95-7100', vehicle_make='Plymouth', employee_id='07-6466085', created=datetime.datetime(2016, 1, 29, 12, 5, 28), first_name='Alexi', employer='Ernser LLC', department='Services', model_year=1993, last_updated=datetime.datetime(2017, 4, 25, 7, 54, 46), last_name='Leglise', language='Lithuanian', vehicle_model='Laser', gender='Female')\n",
            "combined_type(ssn='119-07-8817', vehicle_make='Chevrolet', employee_id='70-4864087', created=datetime.datetime(2016, 12, 6, 14, 16, 59), first_name='Blondie', employer='Terry LLC', department='Accounting', model_year=2005, last_updated=datetime.datetime(2017, 12, 24, 15, 31, 5), last_name='Powderham', language='Croatian', vehicle_model='Colorado', gender='Female')\n",
            "combined_type(ssn='120-33-5535', vehicle_make='Isuzu', employee_id='77-0255816', created=datetime.datetime(2016, 7, 10, 20, 49), first_name='Eugen', employer='Rolfson, Price and Crooks', department='Business Development', model_year=1997, last_updated=datetime.datetime(2017, 11, 11, 8, 53, 11), last_name='Shark', language='Dhivehi', vehicle_model='Trooper', gender='Male')\n",
            "combined_type(ssn='120-98-4054', vehicle_make='Acura', employee_id='14-6523887', created=datetime.datetime(2016, 7, 23, 15, 52, 53), first_name='Lorry', employer='Romaguera, Welch and Haley', department='Engineering', model_year=2003, last_updated=datetime.datetime(2017, 12, 1, 17, 30, 55), last_name='Hitter', language='Kazakh', vehicle_model='RL', gender='Male')\n",
            "combined_type(ssn='121-98-3948', vehicle_make='Pontiac', employee_id='21-1452824', created=datetime.datetime(2016, 6, 26, 23, 46, 48), first_name='Sal', employer='Paucek, Huels and Bauch', department='Accounting', model_year=2002, last_updated=datetime.datetime(2017, 8, 23, 16, 0, 57), last_name='Le Lievre', language='Croatian', vehicle_model='Montana', gender='Male')\n",
            "combined_type(ssn='123-05-3229', vehicle_make='Jaguar', employee_id='07-2855255', created=datetime.datetime(2016, 10, 23, 13, 32, 13), first_name='Spenser', employer='Hayes-Trantow', department='Support', model_year=2003, last_updated=datetime.datetime(2017, 8, 16, 12, 8, 6), last_name='Shucksmith', language='Bosnian', vehicle_model='X-Type', gender='Male')\n",
            "combined_type(ssn='123-62-2832', vehicle_make='Cadillac', employee_id='57-1590433', created=datetime.datetime(2016, 10, 22, 16, 14, 5), first_name='Kare', employer='Cruickshank, Legros and Keebler', department='Research and Development', model_year=1999, last_updated=datetime.datetime(2017, 9, 11, 0, 2, 44), last_name='Barhams', language='Tajik', vehicle_model='Catera', gender='Female')\n",
            "combined_type(ssn='123-88-3381', vehicle_make='Ford', employee_id='05-8069298', created=datetime.datetime(2016, 1, 30, 23, 42, 36), first_name='Christiane', employer='Mueller-Rath', department='Human Resources', model_year=1989, last_updated=datetime.datetime(2017, 2, 21, 16, 37, 38), last_name='Hynes', language='Danish', vehicle_model='Mustang', gender='Female')\n",
            "combined_type(ssn='125-07-9434', vehicle_make='Lexus', employee_id='73-3839744', created=datetime.datetime(2016, 7, 8, 17, 46, 23), first_name='Florella', employer='Schumm, Schumm and Reichert', department='Engineering', model_year=2010, last_updated=datetime.datetime(2017, 2, 7, 14, 36, 31), last_name='Mathevon', language='Armenian', vehicle_model='RX', gender='Female')\n",
            "combined_type(ssn='127-49-2473', vehicle_make='GMC', employee_id='02-6267170', created=datetime.datetime(2016, 8, 29, 18, 48, 40), first_name='Quinta', employer='Tromp-Leffler', department='Support', model_year=2004, last_updated=datetime.datetime(2017, 8, 31, 10, 3, 3), last_name='Rippingall', language='Haitian Creole', vehicle_model='Savana 3500', gender='Female')\n",
            "combined_type(ssn='127-52-8001', vehicle_make='Porsche', employee_id='53-8370994', created=datetime.datetime(2016, 10, 9, 1, 14, 36), first_name='Wilona', employer='Wolf LLC', department='Engineering', model_year=2008, last_updated=datetime.datetime(2017, 1, 12, 9, 42, 31), last_name='Noirel', language='Aymara', vehicle_model='Cayenne', gender='Female')\n",
            "combined_type(ssn='127-68-4232', vehicle_make='Scion', employee_id='78-0632027', created=datetime.datetime(2016, 8, 19, 16, 32, 21), first_name='Tresa', employer='Kulas-Corwin', department='Sales', model_year=2004, last_updated=datetime.datetime(2017, 3, 20, 6, 5, 42), last_name='Verheyden', language='Icelandic', vehicle_model='xB', gender='Female')\n",
            "combined_type(ssn='127-93-3548', vehicle_make='Jeep', employee_id='77-4182531', created=datetime.datetime(2016, 7, 23, 1, 30, 3), first_name='Mellicent', employer='MacGyver, Wiegand and Grant', department='Product Management', model_year=2007, last_updated=datetime.datetime(2017, 9, 10, 6, 24, 19), last_name='Ingham', language='Lao', vehicle_model='Grand Cherokee', gender='Female')\n",
            "combined_type(ssn='128-42-4599', vehicle_make='Chevrolet', employee_id='44-8015165', created=datetime.datetime(2016, 7, 13, 9, 52, 36), first_name='Neddy', employer=\"Kertzmann-O'Hara\", department='Sales', model_year=2006, last_updated=datetime.datetime(2017, 1, 29, 20, 31, 15), last_name=\"O'Griffin\", language='Croatian', vehicle_model='Avalanche 1500', gender='Male')\n",
            "combined_type(ssn='128-53-0369', vehicle_make='Audi', employee_id='14-4998615', created=datetime.datetime(2016, 12, 19, 21, 37, 6), first_name='Chucho', employer='Vandervort, Bernier and Morissette', department='Human Resources', model_year=2010, last_updated=datetime.datetime(2017, 8, 10, 21, 18), last_name='Rikel', language='Croatian', vehicle_model='A4', gender='Male')\n",
            "combined_type(ssn='128-53-7952', vehicle_make='Dodge', employee_id='82-0573004', created=datetime.datetime(2016, 7, 29, 3, 46, 26), first_name='Tobie', employer='King-Donnelly', department='Training', model_year=1995, last_updated=datetime.datetime(2017, 8, 31, 16, 42, 23), last_name='Newhouse', language='Luxembourgish', vehicle_model='Neon', gender='Male')\n",
            "combined_type(ssn='128-56-6040', vehicle_make='BMW', employee_id='53-7535536', created=datetime.datetime(2016, 3, 21, 8, 59, 56), first_name='Jinny', employer='Harris Inc', department='Support', model_year=2001, last_updated=datetime.datetime(2017, 8, 13, 2, 47, 15), last_name='Stebbings', language='Armenian', vehicle_model='M', gender='Female')\n",
            "combined_type(ssn='128-60-4388', vehicle_make='Buick', employee_id='04-7204163', created=datetime.datetime(2016, 3, 18, 11, 18, 14), first_name='Norton', employer='Heidenreich, Bergnaum and Smith', department='Training', model_year=1988, last_updated=datetime.datetime(2017, 1, 3, 20, 33, 45), last_name='Shailer', language='Czech', vehicle_model='Skyhawk', gender='Male')\n",
            "combined_type(ssn='129-67-0291', vehicle_make='Lotus', employee_id='58-3628686', created=datetime.datetime(2016, 12, 12, 5, 1, 34), first_name='Danella', employer='Altenwerth-Heidenreich', department='Research and Development', model_year=1993, last_updated=datetime.datetime(2017, 2, 11, 10, 18, 21), last_name='Linacre', language='Dzongkha', vehicle_model='Esprit', gender='Female')\n",
            "combined_type(ssn='131-81-4310', vehicle_make='Land Rover', employee_id='57-8173633', created=datetime.datetime(2016, 2, 3, 23, 26, 27), first_name='Jemie', employer='Gibson and Sons', department='Sales', model_year=2012, last_updated=datetime.datetime(2018, 3, 21, 12, 2, 31), last_name='Manilo', language='Finnish', vehicle_model='Range Rover Sport', gender='Female')\n",
            "combined_type(ssn='132-26-3507', vehicle_make='Dodge', employee_id='65-7310166', created=datetime.datetime(2016, 5, 20, 1, 41, 54), first_name='Shalom', employer='Rodriguez LLC', department='Legal', model_year=1992, last_updated=datetime.datetime(2017, 1, 19, 7, 33, 37), last_name='Arendsen', language='Hindi', vehicle_model='Ramcharger', gender='Male')\n",
            "combined_type(ssn='134-05-0120', vehicle_make='BMW', employee_id='22-2943669', created=datetime.datetime(2016, 8, 3, 4, 54, 40), first_name='Simone', employer='Donnelly-Crooks', department='Human Resources', model_year=2006, last_updated=datetime.datetime(2017, 1, 29, 11, 53, 22), last_name='Cruickshanks', language='Filipino', vehicle_model='M5', gender='Female')\n",
            "combined_type(ssn='135-86-9625', vehicle_make='Toyota', employee_id='96-9647102', created=datetime.datetime(2016, 2, 28, 23, 53, 17), first_name='Tilly', employer='Hyatt LLC', department='Training', model_year=2004, last_updated=datetime.datetime(2017, 12, 22, 4, 4, 28), last_name='Meir', language='Gagauz', vehicle_model='Tundra', gender='Female')\n",
            "combined_type(ssn='137-13-1889', vehicle_make='Infiniti', employee_id='72-4728604', created=datetime.datetime(2016, 3, 1, 19, 9, 29), first_name='Tedman', employer='Schuster Group', department='Research and Development', model_year=2005, last_updated=datetime.datetime(2017, 12, 24, 9, 44, 10), last_name=\"O'Donnelly\", language='Bislama', vehicle_model='G', gender='Male')\n",
            "combined_type(ssn='138-65-4579', vehicle_make='Oldsmobile', employee_id='01-9334133', created=datetime.datetime(2016, 12, 17, 7, 7, 47), first_name='Davidson', employer='Homenick-Beer', department='Product Management', model_year=1992, last_updated=datetime.datetime(2017, 4, 17, 16, 30, 2), last_name='Gregoraci', language='Luxembourgish', vehicle_model='Achieva', gender='Male')\n",
            "combined_type(ssn='138-67-1198', vehicle_make='Lexus', employee_id='10-6636122', created=datetime.datetime(2016, 9, 24, 1, 52, 46), first_name='Pam', employer='VonRueden-Torphy', department='Business Development', model_year=2003, last_updated=datetime.datetime(2018, 3, 4, 8, 14, 31), last_name='Tofful', language='Bislama', vehicle_model='RX', gender='Female')\n",
            "combined_type(ssn='138-88-5288', vehicle_make='Mercury', employee_id='64-7550101', created=datetime.datetime(2016, 1, 4, 9, 37, 53), first_name='Joletta', employer='Mohr, Harvey and Mitchell', department='Legal', model_year=2004, last_updated=datetime.datetime(2017, 2, 24, 15, 47, 36), last_name='Babcock', language='Burmese', vehicle_model='Monterey', gender='Female')\n",
            "combined_type(ssn='139-04-8189', vehicle_make='Ford', employee_id='82-2479019', created=datetime.datetime(2016, 5, 24, 4, 10, 50), first_name='Stirling', employer='Keeling-Schroeder', department='Engineering', model_year=1997, last_updated=datetime.datetime(2017, 2, 16, 21, 23, 10), last_name='Creak', language='Italian', vehicle_model='Escort', gender='Male')\n",
            "combined_type(ssn='139-94-5865', vehicle_make='Volkswagen', employee_id='41-1454732', created=datetime.datetime(2016, 9, 10, 21, 9, 28), first_name='Donalt', employer='Gusikowski-Block', department='Legal', model_year=1990, last_updated=datetime.datetime(2017, 8, 19, 16, 22, 52), last_name='Plewes', language='Haitian Creole', vehicle_model='Cabriolet', gender='Male')\n",
            "combined_type(ssn='139-99-6417', vehicle_make='Volvo', employee_id='12-2844710', created=datetime.datetime(2016, 12, 21, 14, 14, 20), first_name='Susanetta', employer='Pollich-Heathcote', department='Product Management', model_year=2002, last_updated=datetime.datetime(2018, 1, 17, 17, 51, 12), last_name='Nazaret', language='Punjabi', vehicle_model='V70', gender='Female')\n",
            "combined_type(ssn='140-33-9727', vehicle_make='Mitsubishi', employee_id='34-7172919', created=datetime.datetime(2016, 1, 27, 9, 2, 26), first_name='Price', employer='Bogisich Inc', department='Human Resources', model_year=2003, last_updated=datetime.datetime(2017, 9, 21, 23, 4, 48), last_name='Butterwick', language='Belarusian', vehicle_model='Lancer', gender='Male')\n",
            "combined_type(ssn='140-58-8263', vehicle_make='Volvo', employee_id='83-4836768', created=datetime.datetime(2016, 12, 14, 20, 27, 22), first_name='Tim', employer='Gutkowski Inc', department='Engineering', model_year=2009, last_updated=datetime.datetime(2017, 11, 12, 21, 41, 50), last_name='Bergin', language='Maori', vehicle_model='XC90', gender='Female')\n",
            "combined_type(ssn='141-15-0543', vehicle_make='Toyota', employee_id='84-5391800', created=datetime.datetime(2016, 7, 17, 22, 40, 37), first_name='Candy', employer='Greenholt LLC', department='Sales', model_year=2000, last_updated=datetime.datetime(2017, 9, 27, 10, 29, 9), last_name='Murtagh', language='Montenegrin', vehicle_model='Corolla', gender='Female')\n",
            "combined_type(ssn='141-88-9721', vehicle_make='GMC', employee_id='26-7276512', created=datetime.datetime(2016, 12, 20, 0, 43, 43), first_name='Cyrille', employer='Hartmann Inc', department='Support', model_year=2011, last_updated=datetime.datetime(2018, 1, 24, 20, 0, 4), last_name='Capponer', language='Tswana', vehicle_model='Savana 3500', gender='Male')\n",
            "combined_type(ssn='142-77-4616', vehicle_make='Chevrolet', employee_id='05-0368584', created=datetime.datetime(2016, 7, 30, 13, 28, 38), first_name='Barron', employer='Zboncak-Gulgowski', department='Marketing', model_year=1999, last_updated=datetime.datetime(2017, 7, 16, 15, 12, 37), last_name='Victoria', language='Assamese', vehicle_model='Prizm', gender='Male')\n",
            "combined_type(ssn='142-87-3416', vehicle_make='Ford', employee_id='30-5847411', created=datetime.datetime(2016, 12, 26, 21, 18, 54), first_name='Margaux', employer='Altenwerth-Emard', department='Marketing', model_year=2005, last_updated=datetime.datetime(2017, 5, 3, 14, 26, 58), last_name='Wintringham', language='Tajik', vehicle_model='Thunderbird', gender='Female')\n",
            "combined_type(ssn='143-17-4714', vehicle_make='Nissan', employee_id='08-3106397', created=datetime.datetime(2016, 2, 9, 6, 10, 21), first_name='Hallie', employer='Cronin Inc', department='Business Development', model_year=1999, last_updated=datetime.datetime(2017, 7, 21, 18, 54, 47), last_name='Jeggo', language='Greek', vehicle_model='Frontier', gender='Female')\n",
            "combined_type(ssn='145-10-8454', vehicle_make='GMC', employee_id='29-3578815', created=datetime.datetime(2016, 4, 25, 21, 45), first_name='Donny', employer='Murray, Wolff and Little', department='Business Development', model_year=1999, last_updated=datetime.datetime(2017, 1, 18, 6, 37, 31), last_name='Laba', language='Japanese', vehicle_model='Savana 1500', gender='Male')\n",
            "combined_type(ssn='145-35-5124', vehicle_make='GMC', employee_id='09-9620598', created=datetime.datetime(2016, 10, 3, 5, 18, 6), first_name='Leon', employer='Dibbert LLC', department='Support', model_year=1999, last_updated=datetime.datetime(2018, 2, 20, 12, 47, 43), last_name='Boyson', language='Dhivehi', vehicle_model='Savana 1500', gender='Male')\n",
            "combined_type(ssn='145-78-3985', vehicle_make='Mercedes-Benz', employee_id='06-3360383', created=datetime.datetime(2016, 9, 23, 15, 35, 52), first_name='Baron', employer='Tromp Inc', department='Research and Development', model_year=1993, last_updated=datetime.datetime(2017, 6, 10, 6, 21, 46), last_name='Cocci', language='Mongolian', vehicle_model='E-Class', gender='Male')\n",
            "combined_type(ssn='146-81-3446', vehicle_make='Ford', employee_id='72-7830449', created=datetime.datetime(2016, 9, 1, 8, 59, 50), first_name='Korry', employer='Kub, Koch and Ratke', department='Marketing', model_year=1988, last_updated=datetime.datetime(2017, 1, 18, 8, 40, 14), last_name='Billham', language='Hebrew', vehicle_model='Thunderbird', gender='Female')\n",
            "combined_type(ssn='147-33-1463', vehicle_make='GMC', employee_id='16-6006875', created=datetime.datetime(2016, 5, 31, 23, 38, 59), first_name='Bendicty', employer='Greenholt-Gusikowski', department='Engineering', model_year=1995, last_updated=datetime.datetime(2018, 2, 9, 4, 41, 58), last_name='Gentry', language='Papiamento', vehicle_model='Vandura G1500', gender='Male')\n",
            "combined_type(ssn='147-47-8577', vehicle_make='Mitsubishi', employee_id='46-1648855', created=datetime.datetime(2016, 12, 11, 3, 5, 36), first_name='Janessa', employer='Tremblay, Jacobs and Swift', department='Training', model_year=1996, last_updated=datetime.datetime(2017, 4, 2, 18, 37, 59), last_name='Growy', language='Gujarati', vehicle_model='GTO', gender='Female')\n",
            "combined_type(ssn='147-63-3462', vehicle_make='Ford', employee_id='51-9115041', created=datetime.datetime(2016, 7, 17, 4, 28, 52), first_name='Aime', employer='Bashirian-Moen', department='Training', model_year=2005, last_updated=datetime.datetime(2018, 2, 2, 13, 16, 51), last_name='Di Antonio', language='Tok Pisin', vehicle_model='Explorer', gender='Female')\n",
            "combined_type(ssn='148-60-7519', vehicle_make='Mitsubishi', employee_id='62-2244500', created=datetime.datetime(2016, 4, 29, 8, 42, 29), first_name='Jordan', employer='Hudson-Gerhold', department='Human Resources', model_year=1992, last_updated=datetime.datetime(2017, 1, 22, 22, 15, 37), last_name='Readwood', language='Khmer', vehicle_model='RVR', gender='Female')\n",
            "combined_type(ssn='149-18-7272', vehicle_make='Mercedes-Benz', employee_id='92-8183627', created=datetime.datetime(2016, 10, 21, 12, 17, 57), first_name='Andrey', employer='Balistreri Inc', department='Sales', model_year=1992, last_updated=datetime.datetime(2017, 8, 31, 2, 41, 41), last_name='Bettley', language='Papiamento', vehicle_model='500SEL', gender='Male')\n",
            "combined_type(ssn='149-45-6482', vehicle_make='GMC', employee_id='48-8059597', created=datetime.datetime(2016, 2, 23, 16, 20, 59), first_name='Wheeler', employer='Eichmann, Quigley and Macejkovic', department='Business Development', model_year=1995, last_updated=datetime.datetime(2017, 9, 2, 5, 13, 32), last_name='Harbottle', language='Georgian', vehicle_model='3500 Club Coupe', gender='Male')\n",
            "combined_type(ssn='150-64-6357', vehicle_make='Cadillac', employee_id='55-1726090', created=datetime.datetime(2016, 1, 28, 3, 19, 50), first_name='Helenka', employer='Bosco-Kunde', department='Services', model_year=2000, last_updated=datetime.datetime(2018, 2, 14, 23, 35, 53), last_name='Summerell', language='Bosnian', vehicle_model='Escalade', gender='Female')\n",
            "combined_type(ssn='150-89-3343', vehicle_make='Plymouth', employee_id='60-6687797', created=datetime.datetime(2016, 4, 23, 14, 7, 49), first_name='Bram', employer='Ratke-Raynor', department='Legal', model_year=1993, last_updated=datetime.datetime(2017, 6, 4, 1, 39, 16), last_name='Beetlestone', language='Dzongkha', vehicle_model='Laser', gender='Male')\n",
            "combined_type(ssn='151-54-3946', vehicle_make='Ford', employee_id='72-3121170', created=datetime.datetime(2016, 10, 19, 8, 22, 59), first_name='Piggy', employer='Bergstrom-Boyle', department='Marketing', model_year=1996, last_updated=datetime.datetime(2018, 2, 8, 11, 16, 12), last_name='Fishly', language='Nepali', vehicle_model='Probe', gender='Male')\n",
            "combined_type(ssn='151-70-0641', vehicle_make='Ford', employee_id='47-1922172', created=datetime.datetime(2016, 4, 28, 8, 28, 43), first_name='Urbain', employer='McLaughlin-Rohan', department='Legal', model_year=1999, last_updated=datetime.datetime(2017, 2, 13, 21, 31, 15), last_name='Balint', language='Malagasy', vehicle_model='F250', gender='Male')\n",
            "combined_type(ssn='151-78-1397', vehicle_make='BMW', employee_id='93-3103060', created=datetime.datetime(2016, 6, 11, 0, 28, 10), first_name='Portia', employer='Schinner, Swaniawski and Carter', department='Human Resources', model_year=2000, last_updated=datetime.datetime(2017, 7, 8, 4, 22, 30), last_name='Belshaw', language='Sotho', vehicle_model='M5', gender='Female')\n",
            "combined_type(ssn='152-71-3526', vehicle_make='GMC', employee_id='75-9906937', created=datetime.datetime(2016, 10, 8, 19, 49, 4), first_name='Mel', employer='Little, Hagenes and McKenzie', department='Training', model_year=2001, last_updated=datetime.datetime(2018, 2, 25, 4, 17, 50), last_name='Atkirk', language='Swedish', vehicle_model='Savana 3500', gender='Female')\n",
            "combined_type(ssn='153-67-1309', vehicle_make='Ford', employee_id='95-5604381', created=datetime.datetime(2016, 12, 22, 19, 37, 39), first_name='Annelise', employer='Gerlach, Bahringer and Rutherford', department='Accounting', model_year=1998, last_updated=datetime.datetime(2017, 8, 16, 12, 3, 37), last_name='Yushin', language='French', vehicle_model='Taurus', gender='Female')\n",
            "combined_type(ssn='154-17-7912', vehicle_make='Nissan', employee_id='62-8983936', created=datetime.datetime(2016, 1, 29, 12, 43, 45), first_name='Ainslee', employer='Gorczany LLC', department='Training', model_year=2005, last_updated=datetime.datetime(2017, 4, 19, 22, 8, 24), last_name='Branche', language='Hindi', vehicle_model='Armada', gender='Female')\n",
            "combined_type(ssn='156-18-7547', vehicle_make='Subaru', employee_id='42-4459617', created=datetime.datetime(2016, 10, 20, 19, 49, 24), first_name='Trey', employer='Little, Powlowski and Witting', department='Business Development', model_year=2011, last_updated=datetime.datetime(2017, 9, 10, 22, 58, 31), last_name='Payne', language='West Frisian', vehicle_model='Legacy', gender='Male')\n",
            "combined_type(ssn='156-91-6848', vehicle_make='Acura', employee_id='39-4026042', created=datetime.datetime(2016, 5, 7, 6, 45, 32), first_name='Carol', employer='King LLC', department='Research and Development', model_year=2005, last_updated=datetime.datetime(2017, 8, 30, 22, 29, 10), last_name='Cromar', language='Amharic', vehicle_model='TL', gender='Female')\n",
            "combined_type(ssn='157-17-9982', vehicle_make='Audi', employee_id='87-8332368', created=datetime.datetime(2016, 3, 17, 0, 22, 29), first_name='Ardyce', employer='Konopelski-Vandervort', department='Legal', model_year=2007, last_updated=datetime.datetime(2017, 4, 17, 9, 11, 49), last_name='Kuhnel', language='Danish', vehicle_model='Q7', gender='Female')\n",
            "combined_type(ssn='157-38-7090', vehicle_make='Dodge', employee_id='10-5605387', created=datetime.datetime(2016, 9, 15, 16, 11, 12), first_name='Johannes', employer='Reichel Group', department='Training', model_year=2005, last_updated=datetime.datetime(2017, 3, 24, 8, 58, 33), last_name='Bugge', language='Afrikaans', vehicle_model='Dakota Club', gender='Male')\n",
            "combined_type(ssn='157-51-5269', vehicle_make='BMW', employee_id='25-6013938', created=datetime.datetime(2016, 6, 17, 10, 3, 2), first_name='Melisse', employer='Gerhold-Marquardt', department='Research and Development', model_year=1996, last_updated=datetime.datetime(2017, 11, 4, 20, 16, 50), last_name='Petkov', language='Punjabi', vehicle_model='Z3', gender='Female')\n",
            "combined_type(ssn='161-36-9710', vehicle_make='Mercedes-Benz', employee_id='66-9841280', created=datetime.datetime(2016, 6, 9, 5, 30, 33), first_name='Melina', employer='Greenholt-Hermiston', department='Business Development', model_year=1999, last_updated=datetime.datetime(2017, 7, 3, 6, 26, 41), last_name='MacDavitt', language='Polish', vehicle_model='SLK-Class', gender='Female')\n",
            "combined_type(ssn='161-53-4778', vehicle_make='Ford', employee_id='83-2548521', created=datetime.datetime(2016, 12, 9, 18, 37, 55), first_name='Kiri', employer='Oberbrunner, Donnelly and Gibson', department='Human Resources', model_year=1995, last_updated=datetime.datetime(2017, 12, 3, 11, 9, 18), last_name='Ciccone', language='Kyrgyz', vehicle_model='Mustang', gender='Female')\n",
            "combined_type(ssn='163-68-8070', vehicle_make='Lincoln', employee_id='07-6620387', created=datetime.datetime(2016, 10, 23, 1, 47, 51), first_name='Vassily', employer='Roberts Group', department='Product Management', model_year=1998, last_updated=datetime.datetime(2017, 9, 6, 16, 56, 6), last_name='MacCarlich', language='Filipino', vehicle_model='Continental', gender='Male')\n",
            "combined_type(ssn='163-98-1022', vehicle_make='Honda', employee_id='50-7113609', created=datetime.datetime(2016, 3, 22, 11, 24, 33), first_name='Babbette', employer='Olson-Lynch', department='Business Development', model_year=2012, last_updated=datetime.datetime(2017, 3, 26, 4, 2, 28), last_name='Crystal', language='Lithuanian', vehicle_model='Civic', gender='Female')\n",
            "combined_type(ssn='164-11-9849', vehicle_make='Chevrolet', employee_id='03-4767523', created=datetime.datetime(2016, 4, 20, 11, 9, 5), first_name='Clemence', employer='Quitzon, Rempel and Hane', department='Business Development', model_year=2001, last_updated=datetime.datetime(2017, 6, 24, 10, 17, 58), last_name='Aujean', language='Albanian', vehicle_model='Corvette', gender='Female')\n",
            "combined_type(ssn='166-10-4488', vehicle_make='Cadillac', employee_id='43-4797129', created=datetime.datetime(2016, 7, 2, 8, 33, 48), first_name='Lester', employer='Carroll, Konopelski and Wunsch', department='Research and Development', model_year=2008, last_updated=datetime.datetime(2017, 8, 14, 16, 48, 43), last_name='Keyson', language='Bislama', vehicle_model='DTS', gender='Male')\n",
            "combined_type(ssn='167-39-2377', vehicle_make='GMC', employee_id='70-2399476', created=datetime.datetime(2016, 2, 3, 10, 32, 1), first_name='Reyna', employer='Howell LLC', department='Business Development', model_year=1998, last_updated=datetime.datetime(2017, 10, 31, 22, 27, 7), last_name='Ullyatt', language='Portuguese', vehicle_model=3500, gender='Female')\n",
            "combined_type(ssn='168-02-5324', vehicle_make='Volkswagen', employee_id='34-7741883', created=datetime.datetime(2016, 1, 29, 15, 31, 40), first_name='Dane', employer='Johnson Inc', department='Services', model_year=1989, last_updated=datetime.datetime(2018, 1, 4, 21, 50, 39), last_name='Cornick', language='Tajik', vehicle_model='Fox', gender='Male')\n",
            "combined_type(ssn='168-19-8754', vehicle_make='Toyota', employee_id='15-8160997', created=datetime.datetime(2016, 9, 27, 15, 4, 24), first_name='Teddie', employer='Corwin and Sons', department='Legal', model_year=1993, last_updated=datetime.datetime(2017, 6, 10, 3, 48, 51), last_name='Ingliss', language='Norwegian', vehicle_model='MR2', gender='Male')\n",
            "combined_type(ssn='168-81-0838', vehicle_make='Mazda', employee_id='86-8667896', created=datetime.datetime(2016, 9, 19, 20, 5, 7), first_name='Toby', employer='Zemlak LLC', department='Research and Development', model_year=2012, last_updated=datetime.datetime(2017, 2, 11, 14, 12, 16), last_name='Pond-Jones', language='Aymara', vehicle_model='Mazda5', gender='Female')\n",
            "combined_type(ssn='168-89-6661', vehicle_make='Chevrolet', employee_id='17-8085199', created=datetime.datetime(2016, 4, 30, 9, 17, 39), first_name='Vergil', employer='Toy-Jakubowski', department='Engineering', model_year=1964, last_updated=datetime.datetime(2017, 7, 17, 2, 59, 15), last_name='Cecere', language='Tetum', vehicle_model='Corvette', gender='Male')\n",
            "combined_type(ssn='170-65-3388', vehicle_make='Dodge', employee_id='02-6976472', created=datetime.datetime(2016, 6, 15, 5, 37, 27), first_name='Salvidor', employer='Murphy, Windler and Bartoletti', department='Legal', model_year=2010, last_updated=datetime.datetime(2017, 3, 5, 0, 46, 26), last_name='Larcher', language='Burmese', vehicle_model='Caravan', gender='Male')\n",
            "combined_type(ssn='171-27-7781', vehicle_make='Ford', employee_id='49-2738721', created=datetime.datetime(2016, 9, 23, 3, 10, 37), first_name='Phillida', employer='Batz Inc', department='Support', model_year=1985, last_updated=datetime.datetime(2017, 3, 5, 9, 35, 8), last_name='Cleeve', language='Lao', vehicle_model='Mustang', gender='Female')\n",
            "combined_type(ssn='172-23-7739', vehicle_make='Mazda', employee_id='38-6141294', created=datetime.datetime(2016, 5, 12, 16, 1, 48), first_name='Everett', employer='Jast and Sons', department='Services', model_year=2011, last_updated=datetime.datetime(2018, 3, 2, 23, 30, 36), last_name='Turneaux', language='Kyrgyz', vehicle_model='Mazdaspeed 3', gender='Male')\n",
            "combined_type(ssn='172-77-4263', vehicle_make='Volvo', employee_id='91-2028080', created=datetime.datetime(2016, 9, 10, 9, 18, 50), first_name='Alex', employer='Roberts LLC', department='Research and Development', model_year=2002, last_updated=datetime.datetime(2017, 10, 11, 13, 32, 41), last_name='Udie', language='French', vehicle_model='S60', gender='Male')\n",
            "combined_type(ssn='172-89-7546', vehicle_make='Mercury', employee_id='69-6328477', created=datetime.datetime(2016, 7, 24, 12, 57, 57), first_name='Trude', employer='Schultz, Price and Walsh', department='Business Development', model_year=1969, last_updated=datetime.datetime(2017, 1, 25, 2, 11, 6), last_name='Gillson', language='Norwegian', vehicle_model='Cougar', gender='Female')\n",
            "combined_type(ssn='173-99-7372', vehicle_make='Kia', employee_id='39-1896194', created=datetime.datetime(2016, 10, 26, 15, 24, 37), first_name='Hedwiga', employer='Zulauf, Hudson and Wisozk', department='Research and Development', model_year=1997, last_updated=datetime.datetime(2018, 3, 3, 15, 18, 26), last_name='Gee', language='Danish', vehicle_model='Sephia', gender='Female')\n",
            "combined_type(ssn='174-13-2047', vehicle_make='Mitsubishi', employee_id='42-0021775', created=datetime.datetime(2016, 1, 12, 16, 53, 59), first_name='Rey', employer='Bode-Zulauf', department='Marketing', model_year=1988, last_updated=datetime.datetime(2017, 1, 28, 14, 24, 40), last_name='Dallywater', language='Zulu', vehicle_model='L300', gender='Female')\n",
            "combined_type(ssn='174-35-3812', vehicle_make='Ford', employee_id='16-2190623', created=datetime.datetime(2016, 5, 14, 4, 55, 35), first_name='Sayer', employer='Windler Group', department='Legal', model_year=1972, last_updated=datetime.datetime(2017, 1, 25, 11, 34, 25), last_name='Astling', language='Kyrgyz', vehicle_model='Thunderbird', gender='Male')\n",
            "combined_type(ssn='174-51-9992', vehicle_make='Chevrolet', employee_id='67-5707294', created=datetime.datetime(2016, 5, 17, 23, 32, 25), first_name='Drucie', employer='Jast-Quitzon', department='Human Resources', model_year=1994, last_updated=datetime.datetime(2017, 3, 3, 19, 42, 18), last_name='Travers', language='Swati', vehicle_model='Beretta', gender='Female')\n",
            "combined_type(ssn='174-87-2537', vehicle_make='Ford', employee_id='29-7065788', created=datetime.datetime(2016, 8, 1, 11, 19, 25), first_name='Benton', employer='Green-Waelchi', department='Engineering', model_year=1991, last_updated=datetime.datetime(2017, 9, 30, 14, 38, 36), last_name='Nolte', language='Persian', vehicle_model='Taurus', gender='Male')\n",
            "combined_type(ssn='176-82-1359', vehicle_make='Toyota', employee_id='91-0435820', created=datetime.datetime(2016, 11, 29, 19, 3, 42), first_name='Corny', employer='Brown Group', department='Accounting', model_year=1995, last_updated=datetime.datetime(2017, 1, 14, 13, 36, 1), last_name='Rothera', language='Thai', vehicle_model='Celica', gender='Female')\n",
            "combined_type(ssn='176-99-5851', vehicle_make='Jeep', employee_id='77-4207310', created=datetime.datetime(2016, 12, 3, 15, 8, 4), first_name='Olivero', employer='MacGyver-Hartmann', department='Accounting', model_year=2007, last_updated=datetime.datetime(2017, 4, 1, 20, 14, 53), last_name='Janse', language='Moldovan', vehicle_model='Commander', gender='Male')\n",
            "combined_type(ssn='179-88-2790', vehicle_make='Chevrolet', employee_id='35-4393230', created=datetime.datetime(2016, 3, 6, 13, 15, 20), first_name='Errick', employer='McGlynn LLC', department='Support', model_year=2013, last_updated=datetime.datetime(2017, 3, 23, 1, 30, 12), last_name='Charsley', language='Japanese', vehicle_model='Malibu', gender='Male')\n",
            "combined_type(ssn='181-07-4434', vehicle_make='Chevrolet', employee_id='45-9164509', created=datetime.datetime(2016, 11, 11, 20, 19, 19), first_name='Ferdinande', employer='Little, Herzog and Mertz', department='Legal', model_year=1995, last_updated=datetime.datetime(2017, 10, 7, 7, 52, 10), last_name='Probet', language='Catalan', vehicle_model='Impala SS', gender='Female')\n",
            "combined_type(ssn='181-28-8337', vehicle_make='GMC', employee_id='67-0581933', created=datetime.datetime(2016, 4, 27, 20, 53, 49), first_name='Fan', employer='Kertzmann-Reichel', department='Research and Development', model_year=2004, last_updated=datetime.datetime(2017, 11, 30, 23, 28), last_name='Hillyatt', language='Moldovan', vehicle_model='Canyon', gender='Female')\n",
            "combined_type(ssn='181-88-6077', vehicle_make='Suzuki', employee_id='77-2512148', created=datetime.datetime(2016, 9, 15, 10, 22, 56), first_name='Ebba', employer='Douglas, Funk and Schowalter', department='Services', model_year=2008, last_updated=datetime.datetime(2017, 8, 16, 21, 35, 50), last_name='Wozencroft', language='German', vehicle_model='XL-7', gender='Female')\n",
            "combined_type(ssn='182-15-5082', vehicle_make='Mercedes-Benz', employee_id='86-6996270', created=datetime.datetime(2016, 10, 16, 12, 16, 53), first_name='Lavinie', employer='Bayer-Kunze', department='Support', model_year=1988, last_updated=datetime.datetime(2017, 10, 2, 6, 22, 27), last_name='Niess', language='Swahili', vehicle_model='S-Class', gender='Female')\n",
            "combined_type(ssn='182-81-4541', vehicle_make='Jeep', employee_id='94-8005696', created=datetime.datetime(2016, 7, 23, 3, 16, 13), first_name='Sunny', employer='Kiehn, Hansen and Will', department='Support', model_year=1997, last_updated=datetime.datetime(2017, 7, 5, 10, 19, 41), last_name='Ferrarini', language='Swedish', vehicle_model='Grand Cherokee', gender='Male')\n",
            "combined_type(ssn='183-10-5024', vehicle_make='Maserati', employee_id='71-7470887', created=datetime.datetime(2016, 9, 8, 5, 10, 46), first_name='Curran', employer='Kling-Howe', department='Research and Development', model_year=1991, last_updated=datetime.datetime(2017, 11, 3, 0, 36, 20), last_name='Squires', language='Romanian', vehicle_model='Spyder', gender='Male')\n",
            "combined_type(ssn='184-60-6243', vehicle_make='Ford', employee_id='81-5434446', created=datetime.datetime(2016, 6, 16, 15, 17, 46), first_name='Fern', employer='Quitzon-Morissette', department='Product Management', model_year=1998, last_updated=datetime.datetime(2018, 2, 26, 15, 42, 50), last_name='Demogeot', language='Tok Pisin', vehicle_model='Mustang', gender='Female')\n",
            "combined_type(ssn='184-84-1003', vehicle_make='Mercury', employee_id='31-7381298', created=datetime.datetime(2016, 11, 17, 18, 52, 56), first_name='Bary', employer='Bergstrom-Daniel', department='Marketing', model_year=1997, last_updated=datetime.datetime(2017, 10, 15, 21, 11, 17), last_name='Buzin', language='Aymara', vehicle_model='Mystique', gender='Male')\n",
            "combined_type(ssn='184-92-3560', vehicle_make='Scion', employee_id='96-9321837', created=datetime.datetime(2016, 7, 26, 19, 25, 30), first_name='Kore', employer='Johnston, Leuschke and Stracke', department='Support', model_year=2011, last_updated=datetime.datetime(2017, 2, 16, 4, 37, 8), last_name='Eastes', language='Fijian', vehicle_model='xD', gender='Female')\n",
            "combined_type(ssn='184-94-5241', vehicle_make='Audi', employee_id='68-5287750', created=datetime.datetime(2016, 6, 3, 5, 38, 20), first_name='Manfred', employer='Lubowitz-Franecki', department='Product Management', model_year=1991, last_updated=datetime.datetime(2017, 3, 28, 16, 56, 35), last_name='McCrillis', language='Swati', vehicle_model=90, gender='Male')\n",
            "combined_type(ssn='185-50-0434', vehicle_make='Suzuki', employee_id='88-5601438', created=datetime.datetime(2016, 10, 24, 14, 3, 4), first_name='Alexa', employer='Nienow-Metz', department='Legal', model_year=1998, last_updated=datetime.datetime(2017, 2, 19, 15, 12, 50), last_name='Emblin', language='Quechua', vehicle_model='X-90', gender='Female')\n",
            "combined_type(ssn='185-84-9868', vehicle_make='Mercury', employee_id='76-1399493', created=datetime.datetime(2016, 8, 8, 8, 4, 45), first_name='Shandy', employer='Quitzon, Stiedemann and Breitenberg', department='Services', model_year=2001, last_updated=datetime.datetime(2017, 7, 1, 13, 56, 28), last_name='Ilyin', language='Northern Sotho', vehicle_model='Sable', gender='Female')\n",
            "combined_type(ssn='186-65-7773', vehicle_make='Mitsubishi', employee_id='92-1687621', created=datetime.datetime(2016, 9, 17, 22, 55, 15), first_name='Hazlett', employer='Turner-Connelly', department='Research and Development', model_year=1990, last_updated=datetime.datetime(2017, 6, 9, 12, 34, 32), last_name='Arney', language='Marathi', vehicle_model='Precis', gender='Male')\n",
            "combined_type(ssn='188-20-9317', vehicle_make='Chevrolet', employee_id='77-0491080', created=datetime.datetime(2016, 6, 5, 4, 26, 52), first_name='Clifford', employer='Kling, Prosacco and Wisoky', department='Accounting', model_year=2003, last_updated=datetime.datetime(2017, 12, 26, 5, 29, 23), last_name='Sedgemore', language='Thai', vehicle_model='Avalanche 2500', gender='Male')\n",
            "combined_type(ssn='188-40-4336', vehicle_make='Mercedes-Benz', employee_id='34-6414700', created=datetime.datetime(2016, 6, 30, 2, 48, 10), first_name='Belita', employer=\"Von, O'Kon and Runolfsdottir\", department='Research and Development', model_year=1985, last_updated=datetime.datetime(2017, 12, 27, 3, 41, 46), last_name='Camolli', language='Telugu', vehicle_model='E-Class', gender='Female')\n",
            "combined_type(ssn='189-26-5696', vehicle_make='BMW', employee_id='60-2450272', created=datetime.datetime(2016, 9, 9, 19, 38, 18), first_name='Arnold', employer='McLaughlin-Botsford', department='Business Development', model_year=1995, last_updated=datetime.datetime(2017, 8, 8, 19, 29, 59), last_name='Pepis', language='Tok Pisin', vehicle_model='8 Series', gender='Male')\n",
            "combined_type(ssn='189-49-1458', vehicle_make='Volkswagen', employee_id='82-9383132', created=datetime.datetime(2016, 6, 21, 4, 10, 57), first_name='Vernen', employer='Mann-Stehr', department='Sales', model_year=2008, last_updated=datetime.datetime(2017, 2, 12, 16, 15, 44), last_name='Ivanyushkin', language='Quechua', vehicle_model='Touareg', gender='Male')\n",
            "combined_type(ssn='190-05-6987', vehicle_make='Subaru', employee_id='07-3918459', created=datetime.datetime(2016, 2, 17, 12, 0, 16), first_name='Gorden', employer='Smitham-Blick', department='Engineering', model_year=1990, last_updated=datetime.datetime(2017, 6, 6, 20, 51, 23), last_name='Clemonts', language='West Frisian', vehicle_model='Legacy', gender='Male')\n",
            "combined_type(ssn='190-53-4517', vehicle_make='Hyundai', employee_id='00-2155545', created=datetime.datetime(2016, 4, 15, 16, 42, 18), first_name='Hadlee', employer='Reilly and Sons', department='Product Management', model_year=1993, last_updated=datetime.datetime(2018, 2, 12, 20, 26, 30), last_name='Rohan', language='Swahili', vehicle_model='Sonata', gender='Male')\n",
            "combined_type(ssn='191-15-3194', vehicle_make='Mercury', employee_id='86-3420084', created=datetime.datetime(2016, 5, 23, 13, 52, 39), first_name='Calhoun', employer='Keeling, Hansen and Mertz', department='Training', model_year=2009, last_updated=datetime.datetime(2017, 7, 27, 9, 14, 42), last_name='Mugford', language='Thai', vehicle_model='Grand Marquis', gender='Male')\n",
            "combined_type(ssn='192-54-0695', vehicle_make='Volvo', employee_id='39-8018810', created=datetime.datetime(2016, 11, 16, 1, 58, 55), first_name='Trev', employer='Mante Inc', department='Business Development', model_year=1998, last_updated=datetime.datetime(2017, 3, 18, 6, 5, 59), last_name='Ruppeli', language='Maori', vehicle_model='C70', gender='Male')\n",
            "combined_type(ssn='192-67-3201', vehicle_make='Mitsubishi', employee_id='75-2636577', created=datetime.datetime(2016, 6, 13, 1, 23, 53), first_name='Edvard', employer='Nicolas Group', department='Support', model_year=1999, last_updated=datetime.datetime(2017, 1, 19, 20, 59, 49), last_name='Cattel', language='Hebrew', vehicle_model='Galant', gender='Male')\n",
            "combined_type(ssn='194-76-5816', vehicle_make='Dodge', employee_id='89-3029716', created=datetime.datetime(2016, 5, 26, 16, 11, 14), first_name='Jacquelynn', employer='Sauer, Mann and Kling', department='Accounting', model_year=2001, last_updated=datetime.datetime(2017, 1, 16, 18, 22, 53), last_name='Shurey', language='Amharic', vehicle_model='Dakota', gender='Female')\n",
            "combined_type(ssn='195-23-5731', vehicle_make='Saturn', employee_id='29-2776451', created=datetime.datetime(2016, 10, 23, 11, 15, 3), first_name='Talyah', employer='Hodkiewicz, Rau and Ryan', department='Marketing', model_year=2007, last_updated=datetime.datetime(2017, 5, 22, 16, 24, 23), last_name='Canny', language='Portuguese', vehicle_model='Outlook', gender='Female')\n",
            "combined_type(ssn='196-69-3796', vehicle_make='Subaru', employee_id='53-6059808', created=datetime.datetime(2016, 8, 1, 21, 34, 6), first_name='Marijo', employer='Prosacco LLC', department='Business Development', model_year=2007, last_updated=datetime.datetime(2017, 1, 23, 2, 41, 20), last_name='Tester', language='Oriya', vehicle_model='Legacy', gender='Female')\n",
            "combined_type(ssn='198-70-6443', vehicle_make='Infiniti', employee_id='98-1318396', created=datetime.datetime(2016, 1, 22, 5, 10, 14), first_name='Judah', employer='Mante, Roberts and Miller', department='Research and Development', model_year=2005, last_updated=datetime.datetime(2017, 2, 13, 7, 16, 31), last_name='Duggan', language='Macedonian', vehicle_model='QX', gender='Male')\n",
            "combined_type(ssn='199-45-0804', vehicle_make='Suzuki', employee_id='85-3648779', created=datetime.datetime(2016, 11, 7, 0, 25, 12), first_name='Consolata', employer='Farrell and Sons', department='Product Management', model_year=2003, last_updated=datetime.datetime(2017, 6, 23, 12, 59, 20), last_name='Pigram', language='Guarana', vehicle_model='XL-7', gender='Female')\n",
            "combined_type(ssn='199-54-4639', vehicle_make='Mercury', employee_id='77-2681193', created=datetime.datetime(2016, 4, 5, 5, 11, 13), first_name='Ellene', employer='Heathcote-Torp', department='Product Management', model_year=2006, last_updated=datetime.datetime(2018, 2, 23, 10, 14, 54), last_name='Dowrey', language='Nepali', vehicle_model='Mountaineer', gender='Female')\n",
            "combined_type(ssn='200-81-7151', vehicle_make='Mitsubishi', employee_id='02-6484055', created=datetime.datetime(2016, 7, 31, 19, 2, 12), first_name='Merilyn', employer='Hilpert, Kassulke and Gutkowski', department='Research and Development', model_year=1985, last_updated=datetime.datetime(2017, 11, 19, 13, 58, 42), last_name='Tink', language='Bengali', vehicle_model='Tredia', gender='Female')\n",
            "combined_type(ssn='201-53-1249', vehicle_make='Acura', employee_id='68-7719884', created=datetime.datetime(2016, 10, 7, 18, 42, 12), first_name='Jammal', employer=\"Will, Lemke and O'Hara\", department='Marketing', model_year=1996, last_updated=datetime.datetime(2017, 11, 25, 14, 19, 29), last_name='Dohmer', language='Danish', vehicle_model='NSX', gender='Male')\n",
            "combined_type(ssn='202-84-1146', vehicle_make='Chrysler', employee_id='47-8932065', created=datetime.datetime(2016, 7, 21, 8, 10, 25), first_name='Dore', employer='Schuppe-Dickinson', department='Services', model_year=2000, last_updated=datetime.datetime(2017, 4, 1, 22, 1, 53), last_name='Woodrup', language='Afrikaans', vehicle_model='LHS', gender='Male')\n",
            "combined_type(ssn='203-35-7648', vehicle_make='Volvo', employee_id='08-4055205', created=datetime.datetime(2016, 8, 2, 14, 24, 12), first_name='Budd', employer='Kling-Graham', department='Marketing', model_year=1992, last_updated=datetime.datetime(2017, 12, 1, 14, 42, 14), last_name='Artiss', language='Norwegian', vehicle_model=960, gender='Male')\n",
            "combined_type(ssn='205-69-7375', vehicle_make='Subaru', employee_id='68-8311842', created=datetime.datetime(2016, 5, 19, 12, 10, 37), first_name='Cacilia', employer='MacGyver, Armstrong and Murray', department='Research and Development', model_year=2011, last_updated=datetime.datetime(2018, 2, 27, 13, 25, 24), last_name='Kneesha', language='Indonesian', vehicle_model='Outback', gender='Female')\n",
            "combined_type(ssn='205-87-2423', vehicle_make='Chevrolet', employee_id='07-0291024', created=datetime.datetime(2016, 2, 16, 23, 45, 38), first_name='Oralla', employer='Goodwin-Oberbrunner', department='Accounting', model_year=1999, last_updated=datetime.datetime(2018, 1, 1, 8, 17, 27), last_name='Kearle', language='Zulu', vehicle_model='Express 2500', gender='Female')\n",
            "combined_type(ssn='206-28-6674', vehicle_make='Mitsubishi', employee_id='70-0439540', created=datetime.datetime(2016, 8, 1, 8, 2, 52), first_name='Con', employer='Russel-Terry', department='Engineering', model_year=1994, last_updated=datetime.datetime(2017, 10, 14, 6, 32, 53), last_name='Mansbridge', language='Haitian Creole', vehicle_model='Chariot', gender='Male')\n",
            "combined_type(ssn='206-83-8848', vehicle_make='Volvo', employee_id='95-7755368', created=datetime.datetime(2016, 4, 11, 17, 40, 42), first_name='Ardyth', employer='Hickle, Beatty and McCullough', department='Business Development', model_year=2011, last_updated=datetime.datetime(2017, 11, 8, 14, 57, 17), last_name='Arger', language='Gagauz', vehicle_model='S60', gender='Female')\n",
            "combined_type(ssn='208-74-2166', vehicle_make='Lexus', employee_id='84-8299490', created=datetime.datetime(2016, 2, 28, 8, 58, 53), first_name='Tiebold', employer='Feeney Group', department='Product Management', model_year=1999, last_updated=datetime.datetime(2017, 1, 24, 9, 46, 24), last_name='Gherarducci', language='Croatian', vehicle_model='LX', gender='Male')\n",
            "combined_type(ssn='208-80-5879', vehicle_make='Mercury', employee_id='29-5040096', created=datetime.datetime(2016, 3, 31, 17, 4, 29), first_name='Rockie', employer='Volkman-King', department='Training', model_year=2009, last_updated=datetime.datetime(2017, 10, 16, 21, 39, 4), last_name='Fryd', language='Korean', vehicle_model='Mountaineer', gender='Male')\n",
            "combined_type(ssn='209-50-8146', vehicle_make='Chevrolet', employee_id='05-9734435', created=datetime.datetime(2016, 4, 10, 7, 14, 25), first_name='Kenna', employer='Senger, Fay and Schuppe', department='Marketing', model_year=1992, last_updated=datetime.datetime(2018, 3, 13, 17, 52, 16), last_name='Meryett', language='Czech', vehicle_model='Sportvan G20', gender='Female')\n",
            "combined_type(ssn='209-58-4708', vehicle_make='Buick', employee_id='32-6936796', created=datetime.datetime(2016, 6, 17, 9, 21, 14), first_name='Stephanus', employer='Lesch, Hartmann and Leffler', department='Engineering', model_year=2009, last_updated=datetime.datetime(2018, 2, 8, 21, 22, 2), last_name='Creboe', language='Latvian', vehicle_model='LaCrosse', gender='Male')\n",
            "combined_type(ssn='210-91-4729', vehicle_make='Acura', employee_id='26-0100410', created=datetime.datetime(2016, 12, 4, 0, 41, 8), first_name='Tamarra', employer='Weber, Reynolds and Brakus', department='Training', model_year=1997, last_updated=datetime.datetime(2017, 7, 11, 8, 17, 40), last_name='Minchella', language='Greek', vehicle_model='Integra', gender='Female')\n",
            "combined_type(ssn='211-04-1734', vehicle_make='Ford', employee_id='29-6760360', created=datetime.datetime(2016, 8, 30, 15, 59, 14), first_name='Jeana', employer='Renner LLC', department='Services', model_year=2011, last_updated=datetime.datetime(2018, 3, 11, 20, 29, 12), last_name='Girardeau', language='Dzongkha', vehicle_model='E-Series', gender='Female')\n",
            "combined_type(ssn='211-13-5247', vehicle_make='Mercedes-Benz', employee_id='93-4909831', created=datetime.datetime(2016, 12, 20, 3, 14, 56), first_name='Wes', employer='Lind and Sons', department='Services', model_year=2005, last_updated=datetime.datetime(2018, 2, 22, 16, 37, 12), last_name='Weinberg', language='French', vehicle_model='SLR McLaren', gender='Male')\n",
            "combined_type(ssn='211-15-5182', vehicle_make='Chrysler', employee_id='74-6068283', created=datetime.datetime(2016, 3, 17, 19, 14, 56), first_name='Gene', employer='Sawayn, Marvin and Rempel', department='Research and Development', model_year=2010, last_updated=datetime.datetime(2017, 4, 15, 16, 17, 42), last_name='Bassilashvili', language='Swedish', vehicle_model='Town & Country', gender='Female')\n",
            "combined_type(ssn='211-19-6826', vehicle_make='Ford', employee_id='45-3457627', created=datetime.datetime(2016, 8, 25, 22, 0, 15), first_name='Noni', employer='Feil, Wunsch and Cassin', department='Human Resources', model_year=1996, last_updated=datetime.datetime(2018, 2, 12, 4, 33, 14), last_name='Meynell', language='Portuguese', vehicle_model='Econoline E150', gender='Female')\n",
            "combined_type(ssn='212-40-0215', vehicle_make='Dodge', employee_id='96-5222028', created=datetime.datetime(2016, 1, 6, 22, 31, 22), first_name='Giffie', employer='Trantow Inc', department='Services', model_year=1993, last_updated=datetime.datetime(2017, 2, 1, 18, 11, 47), last_name='Strauss', language='Azeri', vehicle_model='Shadow', gender='Male')\n",
            "combined_type(ssn='212-41-1496', vehicle_make='Volkswagen', employee_id='49-6662355', created=datetime.datetime(2016, 10, 27, 12, 47, 10), first_name='Agnese', employer='Hills-Luettgen', department='Engineering', model_year=1995, last_updated=datetime.datetime(2017, 7, 7, 20, 29, 9), last_name='Lawes', language='Tamil', vehicle_model='Eurovan', gender='Female')\n",
            "combined_type(ssn='213-28-1395', vehicle_make='Ford', employee_id='18-3961077', created=datetime.datetime(2016, 6, 11, 0, 6, 58), first_name='Catlaina', employer='Larson and Sons', department='Sales', model_year=2002, last_updated=datetime.datetime(2017, 6, 4, 4, 51, 16), last_name='Patullo', language='Bengali', vehicle_model='Mustang', gender='Female')\n",
            "combined_type(ssn='214-29-1189', vehicle_make='Kia', employee_id='13-5040342', created=datetime.datetime(2016, 6, 2, 0, 48, 2), first_name='Chandler', employer='Sipes LLC', department='Business Development', model_year=2011, last_updated=datetime.datetime(2018, 2, 16, 8, 10, 36), last_name='Gonsalvo', language='Haitian Creole', vehicle_model='Sedona', gender='Male')\n",
            "combined_type(ssn='214-96-8581', vehicle_make='Kia', employee_id='70-8647485', created=datetime.datetime(2016, 8, 18, 0, 21, 7), first_name='Earlie', employer='Aufderhar, Trantow and Goodwin', department='Marketing', model_year=2009, last_updated=datetime.datetime(2017, 4, 30, 7, 25, 59), last_name='de Nore', language='Georgian', vehicle_model='Borrego', gender='Male')\n",
            "combined_type(ssn='214-99-7584', vehicle_make='Saturn', employee_id='13-9720741', created=datetime.datetime(2016, 7, 14, 3, 30, 15), first_name='Barny', employer='Emmerich, Emmerich and Mertz', department='Business Development', model_year=2010, last_updated=datetime.datetime(2018, 2, 22, 11, 32, 50), last_name='Witherden', language='Czech', vehicle_model='Outlook', gender='Male')\n",
            "combined_type(ssn='216-89-3812', vehicle_make='Maybach', employee_id='97-0142691', created=datetime.datetime(2016, 7, 28, 7, 3, 44), first_name='Florian', employer='Quitzon Inc', department='Human Resources', model_year=2012, last_updated=datetime.datetime(2018, 3, 11, 20, 2, 23), last_name='Jaze', language='Croatian', vehicle_model='Landaulet', gender='Male')\n",
            "combined_type(ssn='216-97-3104', vehicle_make='Bentley', employee_id='39-8820670', created=datetime.datetime(2016, 9, 6, 8, 20, 10), first_name='Elvira', employer='Skiles, Reichel and Romaguera', department='Engineering', model_year=2012, last_updated=datetime.datetime(2017, 2, 10, 18, 28, 9), last_name='McDougal', language='Bislama', vehicle_model='Continental Super', gender='Female')\n",
            "combined_type(ssn='217-71-3922', vehicle_make='Volkswagen', employee_id='81-6888800', created=datetime.datetime(2016, 3, 4, 12, 33, 51), first_name='Hayes', employer='Nienow-Hegmann', department='Training', model_year=1990, last_updated=datetime.datetime(2017, 11, 11, 19, 44, 46), last_name='Vallentin', language='Bengali', vehicle_model='Corrado', gender='Male')\n",
            "combined_type(ssn='217-81-5416', vehicle_make='Ford', employee_id='20-8472919', created=datetime.datetime(2016, 11, 20, 2, 39, 48), first_name='Gusta', employer='Gislason-Padberg', department='Sales', model_year=2005, last_updated=datetime.datetime(2017, 12, 27, 18, 15, 59), last_name='Cruise', language='Tsonga', vehicle_model='Mustang', gender='Female')\n",
            "combined_type(ssn='218-14-4448', vehicle_make='Mitsubishi', employee_id='72-8208288', created=datetime.datetime(2016, 6, 29, 6, 28, 37), first_name='Keary', employer='Cormier, Weimann and Erdman', department='Accounting', model_year=1999, last_updated=datetime.datetime(2017, 7, 22, 9, 16, 18), last_name='Druhan', language='Dutch', vehicle_model='GTO', gender='Male')\n",
            "combined_type(ssn='218-25-9873', vehicle_make='Honda', employee_id='40-6893978', created=datetime.datetime(2016, 3, 11, 12, 58, 1), first_name='Westbrooke', employer='Mraz, Stokes and MacGyver', department='Legal', model_year=1997, last_updated=datetime.datetime(2017, 5, 11, 20, 22, 10), last_name='Succamore', language='Fijian', vehicle_model='Prelude', gender='Male')\n",
            "combined_type(ssn='218-31-1615', vehicle_make='Mitsubishi', employee_id='50-1906989', created=datetime.datetime(2016, 5, 14, 20, 4, 1), first_name='Trenton', employer='Stokes-Hayes', department='Marketing', model_year=1996, last_updated=datetime.datetime(2017, 8, 3, 8, 57, 27), last_name='Eggerton', language='Dari', vehicle_model='3000GT', gender='Male')\n",
            "combined_type(ssn='218-49-7300', vehicle_make='Plymouth', employee_id='22-7439070', created=datetime.datetime(2016, 9, 17, 5, 14, 16), first_name='Justinn', employer='Johns, Corkery and Feeney', department='Services', model_year=1995, last_updated=datetime.datetime(2017, 12, 22, 19, 46, 19), last_name='Sherebrooke', language='English', vehicle_model='Neon', gender='Female')\n",
            "combined_type(ssn='220-16-0476', vehicle_make='Lexus', employee_id='13-1135326', created=datetime.datetime(2016, 7, 4, 6, 40, 49), first_name='Baxy', employer='Hirthe, Doyle and Harvey', department='Training', model_year=2011, last_updated=datetime.datetime(2017, 3, 9, 16, 48, 29), last_name='Brothwood', language='Kyrgyz', vehicle_model='LX', gender='Male')\n",
            "combined_type(ssn='220-38-0208', vehicle_make='Ford', employee_id='66-2984352', created=datetime.datetime(2016, 10, 28, 19, 34, 21), first_name='Jess', employer='Brekke, Grady and Ruecker', department='Human Resources', model_year=1994, last_updated=datetime.datetime(2017, 11, 10, 15, 6, 25), last_name='Fulun', language='Gagauz', vehicle_model='Lightning', gender='Female')\n",
            "combined_type(ssn='222-39-8571', vehicle_make='Lexus', employee_id='69-0108218', created=datetime.datetime(2016, 10, 4, 0, 52, 58), first_name='Fidelia', employer='Bernier, Ruecker and Carroll', department='Services', model_year=2005, last_updated=datetime.datetime(2017, 2, 3, 23, 45, 13), last_name='Domonkos', language='Fijian', vehicle_model='LX', gender='Female')\n",
            "combined_type(ssn='223-67-9203', vehicle_make='Chevrolet', employee_id='55-6679606', created=datetime.datetime(2016, 12, 2, 13, 29, 54), first_name='Markus', employer='Langosh, Blick and Bechtelar', department='Product Management', model_year=2002, last_updated=datetime.datetime(2017, 8, 4, 12, 57, 4), last_name='Radband', language='Bosnian', vehicle_model='Impala', gender='Male')\n",
            "combined_type(ssn='223-98-0846', vehicle_make='Nissan', employee_id='46-3461516', created=datetime.datetime(2016, 6, 29, 2, 47, 31), first_name='Josy', employer='Luettgen, Marks and Rosenbaum', department='Human Resources', model_year=2012, last_updated=datetime.datetime(2017, 3, 29, 16, 7, 6), last_name='Hadwick', language='Papiamento', vehicle_model='GT-R', gender='Female')\n",
            "combined_type(ssn='224-12-3436', vehicle_make='Kia', employee_id='11-8895205', created=datetime.datetime(2016, 10, 6, 12, 21, 57), first_name='Alister', employer='Smith-Bergstrom', department='Sales', model_year=1998, last_updated=datetime.datetime(2018, 1, 9, 23, 34, 10), last_name='Eakle', language='Estonian', vehicle_model='Sportage', gender='Male')\n",
            "combined_type(ssn='224-30-9267', vehicle_make='Chevrolet', employee_id='33-5097675', created=datetime.datetime(2016, 11, 13, 20, 27, 10), first_name='Flori', employer='Jacobson-Kuhn', department='Human Resources', model_year=2009, last_updated=datetime.datetime(2017, 12, 17, 11, 57, 56), last_name='Bagnal', language='Swedish', vehicle_model='Avalanche', gender='Female')\n",
            "combined_type(ssn='224-54-6919', vehicle_make='Mercedes-Benz', employee_id='73-0391148', created=datetime.datetime(2016, 1, 30, 9, 3, 19), first_name='Kelly', employer='Ziemann-Lowe', department='Sales', model_year=1990, last_updated=datetime.datetime(2017, 2, 11, 17, 13, 36), last_name='Shipman', language='Icelandic', vehicle_model='SL-Class', gender='Male')\n",
            "combined_type(ssn='224-84-2271', vehicle_make='Jeep', employee_id='34-4050792', created=datetime.datetime(2016, 6, 14, 13, 25, 45), first_name='Weider', employer='Pollich, Hodkiewicz and Kris', department='Research and Development', model_year=2005, last_updated=datetime.datetime(2018, 1, 23, 21, 14, 49), last_name='Carlisle', language='Swedish', vehicle_model='Liberty', gender='Male')\n",
            "combined_type(ssn='224-99-0668', vehicle_make='Acura', employee_id='49-2911011', created=datetime.datetime(2016, 1, 3, 6, 43, 7), first_name='Brandy', employer='Deckow Group', department='Engineering', model_year=2008, last_updated=datetime.datetime(2017, 4, 1, 17, 51, 23), last_name='Steed', language='Croatian', vehicle_model='TL', gender='Male')\n",
            "combined_type(ssn='225-08-5789', vehicle_make='Mitsubishi', employee_id='98-0311958', created=datetime.datetime(2016, 4, 1, 16, 56, 12), first_name='Tamra', employer='Greenholt, Sawayn and Gusikowski', department='Business Development', model_year=1995, last_updated=datetime.datetime(2017, 8, 5, 11, 29, 59), last_name='Becken', language='Telugu', vehicle_model='Expo', gender='Female')\n",
            "combined_type(ssn='225-64-2735', vehicle_make='Mercedes-Benz', employee_id='68-8708911', created=datetime.datetime(2016, 7, 16, 23, 1, 13), first_name='Graig', employer='Feeney, Champlin and Predovic', department='Sales', model_year=2004, last_updated=datetime.datetime(2017, 12, 24, 21, 44, 27), last_name='Rasher', language='Maltese', vehicle_model='CLK-Class', gender='Male')\n",
            "combined_type(ssn='226-76-4452', vehicle_make='Mazda', employee_id='92-2526945', created=datetime.datetime(2016, 3, 18, 0, 10, 46), first_name='Van', employer='Blanda LLC', department='Business Development', model_year=1992, last_updated=datetime.datetime(2017, 7, 8, 12, 13, 2), last_name='Gervaise', language='Greek', vehicle_model='B-Series Plus', gender='Male')\n",
            "combined_type(ssn='227-72-7247', vehicle_make='Mitsubishi', employee_id='31-8987623', created=datetime.datetime(2016, 8, 3, 15, 37, 18), first_name='Mauricio', employer='Veum Group', department='Marketing', model_year=2006, last_updated=datetime.datetime(2017, 12, 4, 7, 32, 34), last_name='Gush', language='Tajik', vehicle_model='Lancer', gender='Male')\n",
            "combined_type(ssn='228-16-7922', vehicle_make='Kia', employee_id='27-3116134', created=datetime.datetime(2016, 10, 8, 19, 36, 43), first_name='Tabby', employer='Dare Inc', department='Business Development', model_year=2001, last_updated=datetime.datetime(2017, 8, 7, 2, 28, 53), last_name='Chitty', language='Spanish', vehicle_model='Sportage', gender='Male')\n",
            "combined_type(ssn='228-55-2042', vehicle_make='Ford', employee_id='74-1907423', created=datetime.datetime(2016, 3, 8, 17, 42, 55), first_name='Jaquith', employer='Batz-Bahringer', department='Research and Development', model_year=1993, last_updated=datetime.datetime(2017, 1, 17, 20, 5, 40), last_name='Durtnel', language='Czech', vehicle_model='Mustang', gender='Female')\n",
            "combined_type(ssn='228-90-5077', vehicle_make='GMC', employee_id='20-4360965', created=datetime.datetime(2016, 5, 6, 9, 54, 1), first_name='Jonathon', employer='Johns LLC', department='Sales', model_year=2009, last_updated=datetime.datetime(2018, 2, 26, 10, 52, 3), last_name='Klugel', language='Hindi', vehicle_model='Yukon', gender='Male')\n",
            "combined_type(ssn='229-44-9909', vehicle_make='Toyota', employee_id='40-8081800', created=datetime.datetime(2016, 12, 29, 8, 27, 3), first_name='Barnabas', employer='Kling, Keeling and Cormier', department='Human Resources', model_year=2002, last_updated=datetime.datetime(2017, 6, 21, 5, 51, 8), last_name='Heppenspall', language='Icelandic', vehicle_model='MR2', gender='Male')\n",
            "combined_type(ssn='230-09-1794', vehicle_make='Nissan', employee_id='40-0839938', created=datetime.datetime(2016, 10, 22, 14, 54, 5), first_name='Xerxes', employer=\"O'Keefe-Keeling\", department='Training', model_year=2004, last_updated=datetime.datetime(2018, 1, 27, 21, 49, 27), last_name='Mathivon', language='Danish', vehicle_model='Xterra', gender='Male')\n",
            "combined_type(ssn='230-48-0684', vehicle_make='Pontiac', employee_id='82-2230506', created=datetime.datetime(2016, 12, 29, 6, 0, 3), first_name='Clay', employer='Fahey Group', department='Product Management', model_year=1999, last_updated=datetime.datetime(2018, 3, 26, 6, 15, 57), last_name='Peaurt', language='Dhivehi', vehicle_model='Sunfire', gender='Male')\n",
            "combined_type(ssn='230-99-1485', vehicle_make='Volkswagen', employee_id='99-0856844', created=datetime.datetime(2016, 9, 19, 22, 26, 22), first_name='Markus', employer='Hodkiewicz-Murray', department='Marketing', model_year=2009, last_updated=datetime.datetime(2017, 8, 10, 19, 34, 42), last_name='Revill', language='Moldovan', vehicle_model='CC', gender='Male')\n",
            "combined_type(ssn='231-66-9264', vehicle_make='GMC', employee_id='68-3132488', created=datetime.datetime(2016, 6, 1, 8, 10, 38), first_name='Gisele', employer='Dare, Kuhn and Pfannerstill', department='Marketing', model_year=1994, last_updated=datetime.datetime(2017, 4, 7, 22, 50, 50), last_name='Castelow', language='Hiri Motu', vehicle_model='Sonoma Club Coupe', gender='Female')\n",
            "combined_type(ssn='232-18-5397', vehicle_make='Suzuki', employee_id='02-4952668', created=datetime.datetime(2016, 2, 20, 4, 33, 2), first_name='Clare', employer=\"Schumm-O'Conner\", department='Legal', model_year=1995, last_updated=datetime.datetime(2017, 9, 23, 2, 16, 56), last_name='McGairl', language='Bengali', vehicle_model='Samurai', gender='Female')\n",
            "combined_type(ssn='233-27-2377', vehicle_make='Pontiac', employee_id='38-0287814', created=datetime.datetime(2016, 2, 13, 21, 32, 41), first_name='Arlyne', employer='Donnelly, Abernathy and Blanda', department='Marketing', model_year=1986, last_updated=datetime.datetime(2018, 1, 31, 9, 38, 49), last_name='Stenning', language='Dari', vehicle_model='Firebird', gender='Female')\n",
            "combined_type(ssn='235-10-3518', vehicle_make='Buick', employee_id='63-8402825', created=datetime.datetime(2016, 8, 9, 12, 36, 49), first_name='Winfield', employer='Grant-Aufderhar', department='Engineering', model_year=1992, last_updated=datetime.datetime(2017, 8, 8, 16, 14, 22), last_name='Purvis', language='Estonian', vehicle_model='Skylark', gender='Male')\n",
            "combined_type(ssn='236-31-8333', vehicle_make='Mazda', employee_id='85-3010287', created=datetime.datetime(2016, 1, 16, 12, 51, 28), first_name='Wendeline', employer='Zboncak and Sons', department='Product Management', model_year=1997, last_updated=datetime.datetime(2017, 1, 3, 13, 2, 1), last_name='Millins', language='Kashmiri', vehicle_model='B-Series', gender='Female')\n",
            "combined_type(ssn='236-37-2567', vehicle_make='GMC', employee_id='45-6122996', created=datetime.datetime(2016, 3, 1, 16, 19, 30), first_name='Ariel', employer='Tremblay LLC', department='Research and Development', model_year=1992, last_updated=datetime.datetime(2017, 9, 1, 17, 59, 5), last_name='Murrigan', language='West Frisian', vehicle_model=3500, gender='Female')\n",
            "combined_type(ssn='237-48-6737', vehicle_make='Maserati', employee_id='85-3357304', created=datetime.datetime(2016, 10, 19, 13, 28, 28), first_name='Eal', employer='Kuhlman Group', department='Accounting', model_year=2006, last_updated=datetime.datetime(2017, 1, 22, 14, 20, 20), last_name='Ducastel', language='Indonesian', vehicle_model='GranSport', gender='Male')\n",
            "combined_type(ssn='237-80-7039', vehicle_make='Mazda', employee_id='75-1537754', created=datetime.datetime(2016, 9, 5, 21, 2, 3), first_name='Ardyce', employer='Schmeler Inc', department='Research and Development', model_year=1992, last_updated=datetime.datetime(2017, 6, 20, 5, 20, 53), last_name='Hunn', language='Maltese', vehicle_model='MPV', gender='Female')\n",
            "combined_type(ssn='238-13-8034', vehicle_make='Suzuki', employee_id='96-3899752', created=datetime.datetime(2016, 2, 17, 14, 44, 51), first_name='Estrellita', employer=\"Reichel-O'Hara\", department='Research and Development', model_year=1994, last_updated=datetime.datetime(2017, 5, 9, 1, 16, 29), last_name='Heavy', language='Azeri', vehicle_model='Swift', gender='Female')\n",
            "combined_type(ssn='238-39-9999', vehicle_make='Mazda', employee_id='46-6432775', created=datetime.datetime(2016, 10, 20, 4, 17, 23), first_name='Pauly', employer='Beatty, Mohr and Wolff', department='Support', model_year=1990, last_updated=datetime.datetime(2017, 12, 17, 18, 36, 23), last_name='Griffin', language='Georgian', vehicle_model='Familia', gender='Female')\n",
            "combined_type(ssn='239-09-9133', vehicle_make='Chevrolet', employee_id='45-0095737', created=datetime.datetime(2016, 8, 4, 10, 29, 19), first_name='Tom', employer='Conroy LLC', department='Legal', model_year=2004, last_updated=datetime.datetime(2018, 1, 28, 2, 19, 9), last_name='Roggeman', language='Sotho', vehicle_model='TrailBlazer', gender='Male')\n",
            "combined_type(ssn='239-37-4122', vehicle_make='Chevrolet', employee_id='33-8042555', created=datetime.datetime(2016, 3, 5, 9, 16, 37), first_name='Jodee', employer='Kassulke-Cruickshank', department='Support', model_year=2002, last_updated=datetime.datetime(2017, 9, 20, 20, 47, 44), last_name='Elsdon', language='Guarana', vehicle_model='Silverado 1500', gender='Female')\n",
            "combined_type(ssn='240-08-8805', vehicle_make='Chevrolet', employee_id='30-6285659', created=datetime.datetime(2016, 8, 15, 20, 52, 10), first_name='Gates', employer='Mraz, Veum and Farrell', department='Product Management', model_year=1988, last_updated=datetime.datetime(2017, 2, 10, 12, 14, 31), last_name='McGiffin', language='Finnish', vehicle_model='Corvette', gender='Female')\n",
            "combined_type(ssn='240-32-8915', vehicle_make='Chrysler', employee_id='34-1983927', created=datetime.datetime(2016, 2, 25, 19, 4, 17), first_name='Cathee', employer=\"O'Keefe-Cruickshank\", department='Research and Development', model_year=2006, last_updated=datetime.datetime(2017, 4, 18, 14, 30, 22), last_name='Tarbard', language='Papiamento', vehicle_model='Crossfire', gender='Female')\n",
            "combined_type(ssn='240-67-6258', vehicle_make='Aston Martin', employee_id='51-6219405', created=datetime.datetime(2016, 5, 24, 9, 11, 51), first_name='Kalina', employer='Donnelly-Reichel', department='Sales', model_year=2008, last_updated=datetime.datetime(2017, 10, 17, 17, 8, 33), last_name='Lloyds', language='Hindi', vehicle_model='V8 Vantage', gender='Female')\n",
            "combined_type(ssn='242-22-9624', vehicle_make='Nissan', employee_id='55-6904797', created=datetime.datetime(2016, 11, 15, 23, 9, 12), first_name='Felice', employer='Koch Inc', department='Marketing', model_year=2003, last_updated=datetime.datetime(2017, 3, 31, 4, 48, 46), last_name='Surr', language='Afrikaans', vehicle_model='350Z', gender='Male')\n",
            "combined_type(ssn='243-37-9496', vehicle_make='Mitsubishi', employee_id='94-9140863', created=datetime.datetime(2016, 9, 27, 0, 48, 56), first_name='Verine', employer='Ferry, Schaden and Lowe', department='Product Management', model_year=2003, last_updated=datetime.datetime(2017, 5, 5, 6, 46, 9), last_name='Etchells', language='Burmese', vehicle_model='Lancer', gender='Female')\n",
            "combined_type(ssn='243-44-4611', vehicle_make='Mercedes-Benz', employee_id='96-0367474', created=datetime.datetime(2016, 7, 29, 20, 21, 30), first_name='Shani', employer='Carroll and Sons', department='Marketing', model_year=1987, last_updated=datetime.datetime(2017, 8, 28, 4, 20, 56), last_name=\"O'Tierney\", language='Aymara', vehicle_model='S-Class', gender='Female')\n",
            "combined_type(ssn='244-34-2210', vehicle_make='Mercury', employee_id='77-5215930', created=datetime.datetime(2016, 11, 12, 19, 43, 59), first_name='Lek', employer='Ortiz, King and Kovacek', department='Engineering', model_year=2002, last_updated=datetime.datetime(2017, 12, 30, 9, 16, 58), last_name='Heino', language='New Zealand Sign Language', vehicle_model='Villager', gender='Male')\n",
            "combined_type(ssn='244-52-7593', vehicle_make='Lexus', employee_id='08-6244265', created=datetime.datetime(2016, 9, 24, 23, 2, 28), first_name='Erda', employer='Kuhic Group', department='Business Development', model_year=1992, last_updated=datetime.datetime(2017, 12, 19, 22, 53, 28), last_name='Paulusch', language='Gujarati', vehicle_model='SC', gender='Female')\n",
            "combined_type(ssn='244-79-3004', vehicle_make='Scion', employee_id='18-5795578', created=datetime.datetime(2016, 8, 17, 18, 53, 29), first_name='Renault', employer='Altenwerth, Feest and Hammes', department='Legal', model_year=2004, last_updated=datetime.datetime(2017, 9, 8, 9, 13, 42), last_name='Stollard', language='Amharic', vehicle_model='xB', gender='Male')\n",
            "combined_type(ssn='244-81-0671', vehicle_make='Dodge', employee_id='91-7637157', created=datetime.datetime(2016, 9, 8, 8, 33, 21), first_name='Viviyan', employer='Howell-Wunsch', department='Legal', model_year=1997, last_updated=datetime.datetime(2017, 6, 23, 11, 56, 59), last_name='Udell', language='Moldovan', vehicle_model='Caravan', gender='Female')\n",
            "combined_type(ssn='245-60-5880', vehicle_make='Dodge', employee_id='96-5661085', created=datetime.datetime(2016, 2, 6, 3, 16, 59), first_name='Oby', employer='Christiansen, Conroy and Hettinger', department='Research and Development', model_year=1995, last_updated=datetime.datetime(2017, 4, 5, 20, 44, 3), last_name='Hauxby', language='French', vehicle_model='Dakota Club', gender='Male')\n",
            "combined_type(ssn='245-77-4110', vehicle_make='Ford', employee_id='86-4272610', created=datetime.datetime(2016, 8, 22, 4, 57, 23), first_name='Alasdair', employer='Barton-Raynor', department='Legal', model_year=2012, last_updated=datetime.datetime(2017, 3, 6, 5, 50, 56), last_name='McAndrew', language='Czech', vehicle_model='Escape', gender='Male')\n",
            "combined_type(ssn='247-08-9326', vehicle_make='Ford', employee_id='80-1737009', created=datetime.datetime(2016, 9, 15, 4, 25, 48), first_name='Minni', employer='McClure and Sons', department='Human Resources', model_year=2008, last_updated=datetime.datetime(2017, 10, 20, 3, 18, 53), last_name='Scurman', language='Kannada', vehicle_model='E250', gender='Female')\n",
            "combined_type(ssn='247-86-5288', vehicle_make='Audi', employee_id='83-8221727', created=datetime.datetime(2016, 1, 13, 5, 54, 25), first_name='Lilly', employer='Flatley, Braun and Wiegand', department='Product Management', model_year=2010, last_updated=datetime.datetime(2017, 8, 7, 13, 12, 28), last_name='Holby', language='Bosnian', vehicle_model='Q5', gender='Female')\n",
            "combined_type(ssn='248-07-9757', vehicle_make='Toyota', employee_id='82-8582303', created=datetime.datetime(2016, 1, 25, 22, 14, 58), first_name='Sean', employer='Davis Group', department='Accounting', model_year=1992, last_updated=datetime.datetime(2018, 2, 25, 14, 10, 22), last_name='Ham', language='Luxembourgish', vehicle_model='Camry', gender='Male')\n",
            "combined_type(ssn='248-23-0150', vehicle_make='BMW', employee_id='00-8209244', created=datetime.datetime(2016, 8, 27, 12, 22, 11), first_name='Welbie', employer='Jones Group', department='Legal', model_year=2005, last_updated=datetime.datetime(2017, 3, 6, 2, 7, 51), last_name='Gilley', language='Korean', vehicle_model=645, gender='Male')\n",
            "combined_type(ssn='249-19-5514', vehicle_make='GMC', employee_id='45-2560161', created=datetime.datetime(2016, 7, 23, 19, 17, 37), first_name='Yehudi', employer='Pagac and Sons', department='Training', model_year=2008, last_updated=datetime.datetime(2017, 11, 18, 7, 3, 15), last_name='Pharoah', language='Latvian', vehicle_model='Savana 1500', gender='Male')\n",
            "combined_type(ssn='253-61-8401', vehicle_make='Chrysler', employee_id='16-2500138', created=datetime.datetime(2016, 10, 2, 2, 18, 55), first_name='Genny', employer='Halvorson-Parisian', department='Support', model_year=2000, last_updated=datetime.datetime(2018, 1, 22, 4, 2, 1), last_name='Juara', language='Tswana', vehicle_model='Voyager', gender='Female')\n",
            "combined_type(ssn='254-10-6071', vehicle_make='Toyota', employee_id='85-4893521', created=datetime.datetime(2016, 4, 1, 23, 46, 56), first_name='Dwight', employer='Botsford, Lockman and Schiller', department='Engineering', model_year=1996, last_updated=datetime.datetime(2017, 7, 27, 8, 15, 23), last_name='Eastcourt', language='Oriya', vehicle_model='Tacoma Xtra', gender='Male')\n",
            "combined_type(ssn='254-92-9669', vehicle_make='Mercedes-Benz', employee_id='25-0791940', created=datetime.datetime(2016, 4, 8, 21, 14, 39), first_name='Tom', employer='Armstrong, Halvorson and Lemke', department='Services', model_year=1993, last_updated=datetime.datetime(2017, 6, 27, 8, 31, 24), last_name='Larking', language='Icelandic', vehicle_model='300SD', gender='Male')\n",
            "combined_type(ssn='255-81-0958', vehicle_make='Plymouth', employee_id='87-9571848', created=datetime.datetime(2016, 9, 9, 15, 46, 19), first_name='Darryl', employer='Aufderhar, Quigley and Wiza', department='Research and Development', model_year=1992, last_updated=datetime.datetime(2017, 1, 14, 1, 34, 12), last_name='Sparkes', language='Estonian', vehicle_model='Colt', gender='Female')\n",
            "combined_type(ssn='256-54-7507', vehicle_make='Chevrolet', employee_id='85-7663270', created=datetime.datetime(2016, 4, 5, 12, 48, 34), first_name='Angus', employer='Purdy Group', department='Business Development', model_year=2005, last_updated=datetime.datetime(2017, 3, 6, 4, 47, 24), last_name='Cullip', language='Spanish', vehicle_model='Express 3500', gender='Male')\n",
            "combined_type(ssn='256-57-0666', vehicle_make='Honda', employee_id='44-9784881', created=datetime.datetime(2016, 9, 30, 19, 42, 52), first_name='Rip', employer='Bauch, Monahan and Hagenes', department='Sales', model_year=2001, last_updated=datetime.datetime(2017, 10, 8, 2, 5, 59), last_name='Grube', language='Ndebele', vehicle_model='S2000', gender='Male')\n",
            "combined_type(ssn='257-12-6834', vehicle_make='Hyundai', employee_id='98-4265000', created=datetime.datetime(2016, 11, 24, 9, 46, 5), first_name='Derward', employer='Tremblay, Mraz and Hamill', department='Business Development', model_year=2010, last_updated=datetime.datetime(2018, 3, 27, 21, 18, 39), last_name='Paladini', language='Thai', vehicle_model='Sonata', gender='Male')\n",
            "combined_type(ssn='257-59-8603', vehicle_make='Mitsubishi', employee_id='79-2599258', created=datetime.datetime(2016, 6, 7, 14, 41, 15), first_name='Cyrillus', employer='Macejkovic, Johnson and Hane', department='Accounting', model_year=2002, last_updated=datetime.datetime(2017, 4, 12, 7, 13, 58), last_name='Sanchiz', language='Romanian', vehicle_model='Lancer', gender='Male')\n",
            "combined_type(ssn='257-77-3669', vehicle_make='Jeep', employee_id='73-1055129', created=datetime.datetime(2016, 11, 30, 14, 43, 14), first_name='Ynez', employer='Schimmel, Kling and Lueilwitz', department='Services', model_year=1993, last_updated=datetime.datetime(2017, 7, 29, 13, 33, 21), last_name='Hain', language='Kazakh', vehicle_model='Wrangler', gender='Female')\n",
            "combined_type(ssn='258-22-6416', vehicle_make='Mercury', employee_id='34-2321361', created=datetime.datetime(2016, 5, 7, 18, 26, 17), first_name='Veriee', employer='Kub Inc', department='Support', model_year=2007, last_updated=datetime.datetime(2017, 4, 28, 1, 14, 30), last_name='Klein', language='Northern Sotho', vehicle_model='Monterey', gender='Female')\n",
            "combined_type(ssn='259-38-5920', vehicle_make='Plymouth', employee_id='19-2907576', created=datetime.datetime(2016, 10, 4, 9, 8, 54), first_name='Jethro', employer='Hauck Inc', department='Accounting', model_year=1993, last_updated=datetime.datetime(2017, 7, 23, 21, 2, 37), last_name='Rustidge', language='Fijian', vehicle_model='Acclaim', gender='Male')\n",
            "combined_type(ssn='261-14-9490', vehicle_make='Chevrolet', employee_id='36-8081521', created=datetime.datetime(2016, 4, 23, 9, 0, 56), first_name='Lorry', employer='Boyle, Rutherford and Parisian', department='Legal', model_year=2006, last_updated=datetime.datetime(2017, 1, 26, 12, 19, 19), last_name='Boshere', language='Oriya', vehicle_model='Colorado', gender='Male')\n",
            "combined_type(ssn='262-09-2144', vehicle_make='Bentley', employee_id='83-9766179', created=datetime.datetime(2016, 7, 26, 12, 0, 47), first_name='Leigh', employer='Carroll, Treutel and Kub', department='Research and Development', model_year=2008, last_updated=datetime.datetime(2018, 1, 7, 8, 54, 1), last_name='Paxforde', language='Portuguese', vehicle_model='Continental GTC', gender='Male')\n",
            "combined_type(ssn='262-46-7573', vehicle_make='Kia', employee_id='44-4519112', created=datetime.datetime(2016, 8, 22, 17, 8, 16), first_name='Lorene', employer='Mitchell, Robel and Yost', department='Research and Development', model_year=2008, last_updated=datetime.datetime(2017, 11, 3, 2, 47, 17), last_name='Vagg', language='Punjabi', vehicle_model='Sportage', gender='Female')\n",
            "combined_type(ssn='262-55-4066', vehicle_make='Buick', employee_id='81-8904444', created=datetime.datetime(2016, 12, 20, 9, 49, 37), first_name='Kaitlynn', employer='Schultz, West and Cummings', department='Research and Development', model_year=2002, last_updated=datetime.datetime(2017, 6, 3, 10, 15, 39), last_name='Bleazard', language='Estonian', vehicle_model='Regal', gender='Female')\n",
            "combined_type(ssn='262-66-7030', vehicle_make='Toyota', employee_id='83-4988535', created=datetime.datetime(2016, 3, 22, 3, 8, 3), first_name='Gray', employer='Jacobson LLC', department='Research and Development', model_year=1998, last_updated=datetime.datetime(2018, 1, 23, 23, 44, 35), last_name='Bissatt', language='Khmer', vehicle_model='T100 Xtra', gender='Female')\n",
            "combined_type(ssn='264-39-3910', vehicle_make='Mercedes-Benz', employee_id='93-0006221', created=datetime.datetime(2016, 8, 12, 8, 53, 33), first_name='Elysia', employer='Halvorson and Sons', department='Services', model_year=1993, last_updated=datetime.datetime(2017, 10, 5, 3, 39, 11), last_name='Favell', language='Hindi', vehicle_model='600SL', gender='Female')\n",
            "combined_type(ssn='266-86-9980', vehicle_make='Suzuki', employee_id='42-8834969', created=datetime.datetime(2016, 7, 7, 5, 6, 40), first_name='Rita', employer='Kiehn Inc', department='Training', model_year=2006, last_updated=datetime.datetime(2018, 2, 19, 20, 34, 9), last_name='Leving', language='Latvian', vehicle_model='Reno', gender='Female')\n",
            "combined_type(ssn='267-75-6383', vehicle_make='Ford', employee_id='42-1073885', created=datetime.datetime(2016, 5, 12, 18, 5, 24), first_name='Ardath', employer='Gottlieb, Gleichner and Kihn', department='Services', model_year=1989, last_updated=datetime.datetime(2017, 1, 18, 3, 2, 58), last_name='Pitts', language='Romanian', vehicle_model='Courier', gender='Female')\n",
            "combined_type(ssn='269-01-2640', vehicle_make='Dodge', employee_id='37-7828624', created=datetime.datetime(2016, 9, 9, 8, 12, 54), first_name='Russell', employer='Volkman, Zulauf and Hickle', department='Engineering', model_year=2001, last_updated=datetime.datetime(2017, 11, 23, 14, 20, 56), last_name='Dabner', language='Danish', vehicle_model='Ram 1500', gender='Male')\n",
            "combined_type(ssn='271-04-0134', vehicle_make='Ford', employee_id='08-6806443', created=datetime.datetime(2016, 8, 2, 17, 22, 46), first_name='Eadith', employer='Wilderman-Larkin', department='Business Development', model_year=1995, last_updated=datetime.datetime(2017, 5, 14, 7, 18, 59), last_name='Jerg', language='Gagauz', vehicle_model='Bronco', gender='Female')\n",
            "combined_type(ssn='271-81-9938', vehicle_make='Aston Martin', employee_id='94-9045161', created=datetime.datetime(2016, 8, 16, 6, 47, 48), first_name='James', employer='Feeney Inc', department='Sales', model_year=2008, last_updated=datetime.datetime(2017, 1, 29, 1, 31, 37), last_name='Robbins', language='Bengali', vehicle_model='V8 Vantage', gender='Male')\n",
            "combined_type(ssn='271-93-3051', vehicle_make='Lexus', employee_id='06-2333892', created=datetime.datetime(2016, 6, 8, 11, 36, 44), first_name='Augustin', employer='Marks-McKenzie', department='Engineering', model_year=2012, last_updated=datetime.datetime(2017, 2, 18, 16, 44, 2), last_name='Agiolfinger', language='Latvian', vehicle_model='IS-F', gender='Male')\n",
            "combined_type(ssn='272-50-7309', vehicle_make='Chrysler', employee_id='63-4840862', created=datetime.datetime(2016, 2, 24, 17, 32, 46), first_name='Sig', employer='Zieme-Yundt', department='Human Resources', model_year=2003, last_updated=datetime.datetime(2017, 3, 20, 5, 38, 57), last_name='Ather', language='Catalan', vehicle_model='PT Cruiser', gender='Male')\n",
            "combined_type(ssn='272-81-7979', vehicle_make='BMW', employee_id='39-2936486', created=datetime.datetime(2016, 6, 4, 3, 9, 24), first_name='Sherlocke', employer='Heidenreich, Leffler and Zboncak', department='Marketing', model_year=2005, last_updated=datetime.datetime(2018, 1, 14, 21, 6, 5), last_name='Giddings', language='Georgian', vehicle_model=325, gender='Male')\n",
            "combined_type(ssn='273-49-8218', vehicle_make='Mitsubishi', employee_id='45-0663762', created=datetime.datetime(2016, 9, 27, 0, 5, 15), first_name='Haze', employer='Rutherford, Sporer and Schuster', department='Engineering', model_year=2003, last_updated=datetime.datetime(2017, 9, 9, 5, 26, 20), last_name='Starkings', language='Portuguese', vehicle_model='Eclipse', gender='Male')\n",
            "combined_type(ssn='274-50-3806', vehicle_make='Subaru', employee_id='53-7845226', created=datetime.datetime(2016, 6, 3, 3, 7, 43), first_name='Shurlocke', employer='Schuster, Dach and Huel', department='Business Development', model_year=2005, last_updated=datetime.datetime(2017, 5, 13, 5, 8, 51), last_name='Aron', language='Punjabi', vehicle_model='Forester', gender='Male')\n",
            "combined_type(ssn='274-76-9883', vehicle_make='Chevrolet', employee_id='86-4085293', created=datetime.datetime(2016, 12, 22, 11, 44, 48), first_name='Fawn', employer='Kassulke Group', department='Human Resources', model_year=1995, last_updated=datetime.datetime(2017, 10, 9, 4, 11, 3), last_name='MacNamara', language='Bengali', vehicle_model='Impala', gender='Female')\n",
            "combined_type(ssn='276-05-2973', vehicle_make='Acura', employee_id='78-8420673', created=datetime.datetime(2016, 3, 21, 11, 51, 10), first_name='Cly', employer='Conroy Inc', department='Engineering', model_year=2010, last_updated=datetime.datetime(2017, 11, 3, 5, 30, 21), last_name='Yerlett', language='Kazakh', vehicle_model='RDX', gender='Male')\n",
            "combined_type(ssn='278-55-5842', vehicle_make='Toyota', employee_id='05-0913038', created=datetime.datetime(2016, 5, 1, 8, 36, 52), first_name='Korie', employer='Pfannerstill-Rowe', department='Sales', model_year=2002, last_updated=datetime.datetime(2018, 1, 2, 5, 17, 17), last_name='Di Pietro', language='German', vehicle_model='Highlander', gender='Female')\n",
            "combined_type(ssn='278-64-4853', vehicle_make='Suzuki', employee_id='75-9021921', created=datetime.datetime(2016, 7, 10, 13, 32, 27), first_name='Diane-marie', employer='Dickinson-Watsica', department='Support', model_year=2010, last_updated=datetime.datetime(2017, 12, 17, 20, 59, 8), last_name='Broggini', language='Tsonga', vehicle_model='SX4', gender='Female')\n",
            "combined_type(ssn='279-12-7167', vehicle_make='Mercedes-Benz', employee_id='32-8927113', created=datetime.datetime(2016, 8, 6, 1, 23, 43), first_name='Elbertina', employer='Gutkowski Group', department='Accounting', model_year=1992, last_updated=datetime.datetime(2017, 3, 17, 17, 36, 17), last_name='Alders', language='Amharic', vehicle_model='400SE', gender='Female')\n",
            "combined_type(ssn='279-40-5540', vehicle_make='Isuzu', employee_id='09-4660484', created=datetime.datetime(2016, 7, 27, 23, 55, 42), first_name='Montague', employer='Kutch, Koch and Emmerich', department='Business Development', model_year=1993, last_updated=datetime.datetime(2017, 8, 25, 15, 27, 27), last_name='Knowler', language='Chinese', vehicle_model='Stylus', gender='Male')\n",
            "combined_type(ssn='279-49-5682', vehicle_make='Saab', employee_id='97-8540521', created=datetime.datetime(2016, 11, 9, 19, 42, 41), first_name='Kleon', employer='Hudson Inc', department='Product Management', model_year=2012, last_updated=datetime.datetime(2017, 11, 27, 7, 44, 58), last_name='Tembridge', language='Gagauz', vehicle_model='3-Sep', gender='Male')\n",
            "combined_type(ssn='280-53-7447', vehicle_make='Chrysler', employee_id='12-0401993', created=datetime.datetime(2016, 2, 16, 0, 15, 21), first_name='Suzette', employer='Moen, Veum and McLaughlin', department='Accounting', model_year=1994, last_updated=datetime.datetime(2017, 5, 12, 7, 46, 5), last_name='Prahl', language='Romanian', vehicle_model='Concorde', gender='Female')\n",
            "combined_type(ssn='280-98-4410', vehicle_make='Lexus', employee_id='49-1709312', created=datetime.datetime(2016, 10, 11, 7, 49, 19), first_name='Ealasaid', employer='Ferry Group', department='Support', model_year=2000, last_updated=datetime.datetime(2017, 8, 10, 14, 59, 8), last_name='Devon', language='Tok Pisin', vehicle_model='SC', gender='Female')\n",
            "combined_type(ssn='281-23-3458', vehicle_make='Infiniti', employee_id='91-3900799', created=datetime.datetime(2016, 2, 18, 5, 27), first_name='Bettina', employer='Cruickshank Inc', department='Legal', model_year=2010, last_updated=datetime.datetime(2017, 6, 21, 9, 17, 37), last_name='Danilov', language='Sotho', vehicle_model='M', gender='Female')\n",
            "combined_type(ssn='282-83-9206', vehicle_make='Toyota', employee_id='11-8557773', created=datetime.datetime(2016, 10, 11, 1, 11, 32), first_name='Jackie', employer='Ward Inc', department='Support', model_year=1997, last_updated=datetime.datetime(2017, 11, 30, 2, 29, 14), last_name='McPhater', language='Gagauz', vehicle_model='4Runner', gender='Male')\n",
            "combined_type(ssn='283-04-6835', vehicle_make='Buick', employee_id='41-5601892', created=datetime.datetime(2016, 5, 17, 15, 7, 44), first_name='Tobey', employer='Abbott, Bahringer and Goyette', department='Marketing', model_year=2001, last_updated=datetime.datetime(2017, 5, 29, 2, 43, 42), last_name='Joule', language='Dzongkha', vehicle_model='LeSabre', gender='Female')\n",
            "combined_type(ssn='286-26-4004', vehicle_make='Pontiac', employee_id='14-6813788', created=datetime.datetime(2016, 7, 15, 11, 24, 21), first_name='Augustus', employer='Lind, Runolfsdottir and Bailey', department='Legal', model_year=1968, last_updated=datetime.datetime(2017, 7, 6, 13, 34, 13), last_name='Doodson', language='Romanian', vehicle_model='LeMans', gender='Male')\n",
            "combined_type(ssn='287-57-9688', vehicle_make='Mitsubishi', employee_id='71-1209998', created=datetime.datetime(2016, 4, 4, 10, 16, 41), first_name='Joachim', employer='Fahey-Klein', department='Human Resources', model_year=1987, last_updated=datetime.datetime(2017, 3, 25, 16, 51, 30), last_name='Moncreiff', language='Catalan', vehicle_model='L300', gender='Male')\n",
            "combined_type(ssn='287-66-2660', vehicle_make='Volvo', employee_id='81-5101189', created=datetime.datetime(2016, 1, 3, 15, 12, 3), first_name='Larissa', employer='Collier Inc', department='Research and Development', model_year=2010, last_updated=datetime.datetime(2018, 1, 8, 5, 9, 53), last_name='Airy', language='Bislama', vehicle_model='V50', gender='Female')\n",
            "combined_type(ssn='288-54-7233', vehicle_make='BMW', employee_id='71-9137028', created=datetime.datetime(2016, 1, 13, 21, 17, 3), first_name='Hedy', employer='Beatty and Sons', department='Sales', model_year=2008, last_updated=datetime.datetime(2017, 4, 9, 3, 49, 3), last_name='Eaklee', language='English', vehicle_model='5 Series', gender='Female')\n",
            "combined_type(ssn='288-87-6462', vehicle_make='Dodge', employee_id='44-6939532', created=datetime.datetime(2016, 6, 11, 6, 48, 8), first_name='Stanislaus', employer='Jacobs-Christiansen', department='Engineering', model_year=2004, last_updated=datetime.datetime(2017, 4, 28, 5, 43, 4), last_name='Haylor', language='Kannada', vehicle_model='Stratus', gender='Male')\n",
            "combined_type(ssn='289-03-9882', vehicle_make='Lincoln', employee_id='99-3967417', created=datetime.datetime(2016, 4, 30, 10, 2, 41), first_name='Giusto', employer='DuBuque-Krajcik', department='Legal', model_year=2001, last_updated=datetime.datetime(2017, 6, 29, 11, 35, 32), last_name='Baszniak', language='Yiddish', vehicle_model='Town Car', gender='Male')\n",
            "combined_type(ssn='289-09-8686', vehicle_make='Ford', employee_id='08-4068275', created=datetime.datetime(2016, 5, 18, 1, 46, 32), first_name='Heath', employer='Funk-Tremblay', department='Training', model_year=1991, last_updated=datetime.datetime(2017, 9, 15, 1, 56, 26), last_name='Stallan', language='Malayalam', vehicle_model='Explorer', gender='Male')\n",
            "combined_type(ssn='290-25-7300', vehicle_make='Mazda', employee_id='04-8151489', created=datetime.datetime(2016, 11, 25, 16, 46, 39), first_name='Bowie', employer='Weissnat Group', department='Legal', model_year=1991, last_updated=datetime.datetime(2017, 4, 13, 6, 2, 34), last_name='Bancroft', language='Thai', vehicle_model=929, gender='Male')\n",
            "combined_type(ssn='290-82-4968', vehicle_make='Ford', employee_id='29-8276855', created=datetime.datetime(2016, 3, 11, 4, 18, 51), first_name='Ingram', employer='Gutmann-Cruickshank', department='Engineering', model_year=1995, last_updated=datetime.datetime(2017, 7, 3, 20, 17, 20), last_name='Kincade', language='Moldovan', vehicle_model='Club Wagon', gender='Male')\n",
            "combined_type(ssn='293-54-3694', vehicle_make='Lexus', employee_id='45-6137557', created=datetime.datetime(2016, 8, 18, 20, 59, 31), first_name='Theodora', employer='Howe-Robel', department='Services', model_year=1996, last_updated=datetime.datetime(2017, 7, 10, 11, 18, 54), last_name='Geddes', language='Maori', vehicle_model='SC', gender='Female')\n",
            "combined_type(ssn='294-27-9936', vehicle_make='Mercedes-Benz', employee_id='57-0353432', created=datetime.datetime(2016, 9, 14, 4, 10, 51), first_name='Cari', employer='Spencer and Sons', department='Marketing', model_year=1985, last_updated=datetime.datetime(2018, 2, 7, 23, 28, 14), last_name='Bradane', language='Japanese', vehicle_model='SL-Class', gender='Female')\n",
            "combined_type(ssn='294-53-1911', vehicle_make='Volvo', employee_id='45-7118863', created=datetime.datetime(2016, 7, 22, 21, 42, 17), first_name='Ginelle', employer='Little, Veum and Sauer', department='Legal', model_year=2012, last_updated=datetime.datetime(2018, 3, 8, 15, 24, 15), last_name='Jaquet', language='Persian', vehicle_model='XC60', gender='Female')\n",
            "combined_type(ssn='295-63-7693', vehicle_make='Mazda', employee_id='79-1848443', created=datetime.datetime(2016, 1, 7, 4, 36, 56), first_name='Fonzie', employer='Heidenreich Group', department='Accounting', model_year=2010, last_updated=datetime.datetime(2017, 2, 28, 11, 27, 31), last_name='Fattorini', language='Estonian', vehicle_model='Miata MX-5', gender='Male')\n",
            "combined_type(ssn='296-32-7910', vehicle_make='GMC', employee_id='40-3440604', created=datetime.datetime(2016, 11, 18, 18, 55, 41), first_name='Harlene', employer='Collier-Wisozk', department='Legal', model_year=2009, last_updated=datetime.datetime(2017, 5, 8, 14, 27, 35), last_name='Morrill', language='Swati', vehicle_model='Yukon XL 2500', gender='Female')\n",
            "combined_type(ssn='296-88-0097', vehicle_make='Chrysler', employee_id='88-8295986', created=datetime.datetime(2016, 1, 1, 23, 18, 36), first_name='Herculie', employer='Ebert-Bahringer', department='Business Development', model_year=1999, last_updated=datetime.datetime(2017, 6, 28, 19, 41, 12), last_name='Branthwaite', language='Hungarian', vehicle_model='Cirrus', gender='Male')\n",
            "combined_type(ssn='296-90-4908', vehicle_make='Jensen', employee_id='11-7283397', created=datetime.datetime(2016, 4, 12, 0, 23, 9), first_name='Holt', employer='Mayert-Volkman', department='Research and Development', model_year=1967, last_updated=datetime.datetime(2017, 5, 8, 13, 53, 40), last_name='Angel', language='Tamil', vehicle_model='Interceptor', gender='Male')\n",
            "combined_type(ssn='297-63-1154', vehicle_make='Toyota', employee_id='65-6789812', created=datetime.datetime(2016, 3, 3, 14, 10, 1), first_name='Maribelle', employer='Stark-Wolff', department='Product Management', model_year=2001, last_updated=datetime.datetime(2018, 1, 18, 23, 20, 37), last_name='Gowanson', language='Montenegrin', vehicle_model='Camry', gender='Female')\n",
            "combined_type(ssn='298-06-3497', vehicle_make='Nissan', employee_id='40-9534160', created=datetime.datetime(2016, 11, 6, 17, 11, 40), first_name='Moshe', employer='Johns-Maggio', department='Services', model_year=2012, last_updated=datetime.datetime(2017, 10, 24, 4, 25, 1), last_name='Thomassin', language='Polish', vehicle_model='Altima', gender='Male')\n",
            "combined_type(ssn='298-69-9168', vehicle_make='Mercedes-Benz', employee_id='72-8266702', created=datetime.datetime(2016, 10, 30, 0, 58, 22), first_name='Shea', employer='Hilpert Inc', department='Support', model_year=2007, last_updated=datetime.datetime(2017, 10, 11, 23, 18, 49), last_name='Canon', language='Finnish', vehicle_model='GL-Class', gender='Male')\n",
            "combined_type(ssn='298-70-6018', vehicle_make='Acura', employee_id='72-8129260', created=datetime.datetime(2016, 3, 28, 9, 53, 54), first_name='Minny', employer='Sporer, Haley and Cartwright', department='Legal', model_year=1997, last_updated=datetime.datetime(2018, 2, 12, 10, 5, 39), last_name='Van der Baaren', language='Afrikaans', vehicle_model='NSX', gender='Female')\n",
            "combined_type(ssn='298-79-7640', vehicle_make='Ford', employee_id='68-8035288', created=datetime.datetime(2016, 11, 8, 8, 9, 5), first_name='Mycah', employer='Brown Inc', department='Accounting', model_year=1988, last_updated=datetime.datetime(2017, 11, 27, 0, 8, 54), last_name='Hillam', language='Swahili', vehicle_model='EXP', gender='Male')\n",
            "combined_type(ssn='299-03-6911', vehicle_make='Dodge', employee_id='02-5391126', created=datetime.datetime(2016, 3, 7, 15, 33, 32), first_name='Janela', employer='Kilback Group', department='Services', model_year=1994, last_updated=datetime.datetime(2017, 1, 19, 3, 33, 50), last_name='Ferrone', language='Gagauz', vehicle_model='Viper RT/10', gender='Female')\n",
            "combined_type(ssn='299-38-0483', vehicle_make='GMC', employee_id='25-9880164', created=datetime.datetime(2016, 6, 1, 9, 6, 19), first_name='Robb', employer='Streich Group', department='Product Management', model_year=2005, last_updated=datetime.datetime(2017, 9, 20, 16, 34, 47), last_name='Posner', language='Italian', vehicle_model='Savana 1500', gender='Male')\n",
            "combined_type(ssn='299-77-1060', vehicle_make='Infiniti', employee_id='27-3066253', created=datetime.datetime(2016, 11, 1, 3, 27, 51), first_name='Bellina', employer='Kozey Group', department='Sales', model_year=1999, last_updated=datetime.datetime(2017, 3, 13, 1, 59, 12), last_name='Galbreth', language='Norwegian', vehicle_model='QX', gender='Female')\n",
            "combined_type(ssn='300-59-3610', vehicle_make='Saturn', employee_id='48-2553583', created=datetime.datetime(2016, 6, 23, 4, 44, 22), first_name='Tam', employer='Lebsack-Gerlach', department='Human Resources', model_year=2000, last_updated=datetime.datetime(2017, 8, 21, 10, 1, 31), last_name='Howles', language='Pashto', vehicle_model='S-Series', gender='Male')\n",
            "combined_type(ssn='300-76-8770', vehicle_make='Bentley', employee_id='01-9218158', created=datetime.datetime(2016, 3, 13, 15, 45, 7), first_name='Danielle', employer='McClure-Gerhold', department='Business Development', model_year=2009, last_updated=datetime.datetime(2017, 8, 21, 0, 3, 14), last_name='Rowth', language='Italian', vehicle_model='Arnage', gender='Female')\n",
            "combined_type(ssn='300-80-7209', vehicle_make='Mercedes-Benz', employee_id='00-8103537', created=datetime.datetime(2016, 11, 8, 3, 17, 4), first_name='Gabbie', employer='Ankunding, Larson and Leannon', department='Legal', model_year=2009, last_updated=datetime.datetime(2017, 11, 13, 1, 58, 56), last_name='Burney', language='Dutch', vehicle_model='C-Class', gender='Female')\n",
            "combined_type(ssn='301-26-4306', vehicle_make='Mercury', employee_id='87-6217832', created=datetime.datetime(2016, 1, 25, 11, 1, 19), first_name='Emmye', employer='Muller, Blanda and Quigley', department='Sales', model_year=2002, last_updated=datetime.datetime(2017, 6, 20, 20, 49, 12), last_name='Whelpdale', language='Tajik', vehicle_model='Sable', gender='Female')\n",
            "combined_type(ssn='301-51-0522', vehicle_make='Smart', employee_id='30-2737861', created=datetime.datetime(2016, 7, 28, 2, 33, 50), first_name='Kenneth', employer='White-Fahey', department='Sales', model_year=2010, last_updated=datetime.datetime(2017, 7, 3, 16, 20, 32), last_name='Methley', language='Papiamento', vehicle_model='Fortwo', gender='Male')\n",
            "combined_type(ssn='302-64-4858', vehicle_make='Mercedes-Benz', employee_id='15-5191499', created=datetime.datetime(2016, 5, 4, 18, 49, 4), first_name='Hakeem', employer='Cartwright, Schowalter and Barton', department='Marketing', model_year=2001, last_updated=datetime.datetime(2018, 2, 22, 14, 59, 17), last_name='Zelley', language='Afrikaans', vehicle_model='S-Class', gender='Male')\n",
            "combined_type(ssn='304-48-4312', vehicle_make='Audi', employee_id='25-4364794', created=datetime.datetime(2016, 7, 23, 15, 40, 8), first_name='Edeline', employer='Stamm-Reichert', department='Engineering', model_year=2005, last_updated=datetime.datetime(2017, 6, 8, 17, 56, 34), last_name='Van de Vlies', language='Montenegrin', vehicle_model='Allroad', gender='Female')\n",
            "combined_type(ssn='305-07-1498', vehicle_make='Mercedes-Benz', employee_id='11-8989188', created=datetime.datetime(2016, 1, 31, 18, 6, 58), first_name='Ruddy', employer='Howe Inc', department='Legal', model_year=2006, last_updated=datetime.datetime(2017, 6, 18, 5, 38, 20), last_name=\"O'Crotty\", language='Spanish', vehicle_model='G-Class', gender='Male')\n",
            "combined_type(ssn='306-23-2423', vehicle_make='Mazda', employee_id='62-6620097', created=datetime.datetime(2016, 9, 12, 2, 41, 26), first_name='Ree', employer='Kuhic, Veum and Swift', department='Product Management', model_year=1993, last_updated=datetime.datetime(2018, 2, 11, 1, 37, 8), last_name='Meader', language='Polish', vehicle_model=929, gender='Female')\n",
            "combined_type(ssn='306-86-2930', vehicle_make='GMC', employee_id='58-8894681', created=datetime.datetime(2016, 9, 15, 15, 20, 35), first_name='Kassie', employer='Considine-Schaefer', department='Human Resources', model_year=2006, last_updated=datetime.datetime(2017, 5, 10, 18, 3, 52), last_name='Neaverson', language='Luxembourgish', vehicle_model='Sierra Denali', gender='Female')\n",
            "combined_type(ssn='308-58-0964', vehicle_make='Buick', employee_id='08-4226273', created=datetime.datetime(2016, 9, 29, 22, 38, 39), first_name='Talbert', employer='Hilpert Group', department='Accounting', model_year=1995, last_updated=datetime.datetime(2017, 6, 13, 11, 53, 43), last_name='Osipov', language='Tetum', vehicle_model='Coachbuilder', gender='Male')\n",
            "combined_type(ssn='309-04-0364', vehicle_make='Toyota', employee_id='85-1333821', created=datetime.datetime(2016, 1, 18, 3, 37, 59), first_name='Dov', employer='Heidenreich Inc', department='Product Management', model_year=2011, last_updated=datetime.datetime(2018, 3, 23, 0, 53, 44), last_name='Speight', language='Tajik', vehicle_model='Tacoma', gender='Male')\n",
            "combined_type(ssn='309-38-8085', vehicle_make='Mitsubishi', employee_id='68-2399289', created=datetime.datetime(2016, 5, 12, 11, 34, 16), first_name='Nell', employer='Aufderhar, Metz and Bashirian', department='Business Development', model_year=1999, last_updated=datetime.datetime(2017, 10, 15, 2, 43, 14), last_name='Scrigmour', language='Persian', vehicle_model='3000GT', gender='Female')\n",
            "combined_type(ssn='310-60-2027', vehicle_make='GMC', employee_id='84-1179190', created=datetime.datetime(2016, 10, 25, 3, 4, 20), first_name='Zacherie', employer='Mayert-Pagac', department='Marketing', model_year=2012, last_updated=datetime.datetime(2018, 3, 20, 12, 53, 17), last_name='Parken', language='Albanian', vehicle_model='Savana', gender='Male')\n",
            "combined_type(ssn='311-46-9296', vehicle_make='BMW', employee_id='41-1636448', created=datetime.datetime(2016, 8, 6, 19, 3, 48), first_name='Alic', employer='Huels Group', department='Training', model_year=2004, last_updated=datetime.datetime(2018, 2, 18, 15, 38, 24), last_name='Pabel', language='Fijian', vehicle_model=525, gender='Male')\n",
            "combined_type(ssn='312-38-7084', vehicle_make='Ford', employee_id='60-5025688', created=datetime.datetime(2016, 12, 1, 17, 51, 41), first_name='Ezri', employer='Donnelly-Roberts', department='Training', model_year=2012, last_updated=datetime.datetime(2017, 8, 7, 14, 33, 15), last_name='Paolicchi', language='Malagasy', vehicle_model='Expedition EL', gender='Male')\n",
            "combined_type(ssn='312-59-3476', vehicle_make='Lotus', employee_id='64-8324745', created=datetime.datetime(2016, 6, 11, 17, 37, 47), first_name='Sadye', employer='Rolfson, Dietrich and Hyatt', department='Business Development', model_year=2000, last_updated=datetime.datetime(2017, 6, 5, 16, 36, 40), last_name='Beloe', language='Icelandic', vehicle_model='Esprit', gender='Female')\n",
            "combined_type(ssn='312-77-3647', vehicle_make='Saab', employee_id='32-2009977', created=datetime.datetime(2016, 1, 13, 20, 57, 51), first_name='Hussein', employer='Dibbert-Koepp', department='Marketing', model_year=1992, last_updated=datetime.datetime(2017, 4, 30, 2, 56, 29), last_name='Blything', language='Hebrew', vehicle_model=900, gender='Male')\n",
            "combined_type(ssn='313-02-7822', vehicle_make='Dodge', employee_id='74-1724903', created=datetime.datetime(2016, 12, 9, 3, 16, 22), first_name='Spence', employer='Stamm-Boehm', department='Business Development', model_year=1992, last_updated=datetime.datetime(2017, 10, 7, 16, 22, 13), last_name='Climer', language='Maori', vehicle_model='Ram Wagon B150', gender='Male')\n",
            "combined_type(ssn='313-52-7312', vehicle_make='Ford', employee_id='19-4509043', created=datetime.datetime(2016, 6, 9, 16, 42, 48), first_name='Farrand', employer='Torp LLC', department='Training', model_year=2013, last_updated=datetime.datetime(2017, 11, 27, 22, 37, 28), last_name='MacKenzie', language='French', vehicle_model='Taurus', gender='Female')\n",
            "combined_type(ssn='315-12-5664', vehicle_make='Buick', employee_id='57-5620609', created=datetime.datetime(2016, 5, 19, 13, 58, 32), first_name='Vere', employer='Wiegand-Bernhard', department='Business Development', model_year=1993, last_updated=datetime.datetime(2017, 6, 11, 18, 3, 12), last_name='Morlon', language='German', vehicle_model='Riviera', gender='Female')\n",
            "combined_type(ssn='315-26-2241', vehicle_make='Chevrolet', employee_id='16-1755710', created=datetime.datetime(2016, 5, 27, 6, 53, 31), first_name='Cammy', employer='Predovic, Renner and Hansen', department='Research and Development', model_year=1999, last_updated=datetime.datetime(2017, 11, 27, 8, 16, 19), last_name='Harland', language='Bulgarian', vehicle_model='Silverado 2500', gender='Female')\n",
            "combined_type(ssn='315-44-9671', vehicle_make='BMW', employee_id='84-8346426', created=datetime.datetime(2016, 10, 19, 9, 51, 9), first_name='Ximenez', employer='Hettinger-Halvorson', department='Research and Development', model_year=2011, last_updated=datetime.datetime(2018, 3, 12, 23, 39, 35), last_name='Maghull', language='Macedonian', vehicle_model='X6 M', gender='Male')\n",
            "combined_type(ssn='315-78-5587', vehicle_make='Audi', employee_id='03-5512362', created=datetime.datetime(2016, 1, 17, 12, 12, 42), first_name='Helsa', employer='Wehner-Parker', department='Product Management', model_year=1984, last_updated=datetime.datetime(2017, 8, 20, 18, 9, 2), last_name='Lumber', language='Tok Pisin', vehicle_model='5000S', gender='Female')\n",
            "combined_type(ssn='317-28-1600', vehicle_make='Saab', employee_id='75-8473260', created=datetime.datetime(2016, 10, 6, 3, 35, 19), first_name='Rodrick', employer='Moen, Turcotte and Stracke', department='Marketing', model_year=2009, last_updated=datetime.datetime(2017, 12, 19, 2, 20, 21), last_name='Abrahams', language='Assamese', vehicle_model='3-Sep', gender='Male')\n",
            "combined_type(ssn='317-43-2055', vehicle_make='Mitsubishi', employee_id='10-9248587', created=datetime.datetime(2016, 9, 18, 19, 55, 52), first_name='Jocelyn', employer='Dickens LLC', department='Product Management', model_year=1984, last_updated=datetime.datetime(2017, 12, 26, 16, 31, 21), last_name='Gildroy', language='Punjabi', vehicle_model='Mirage', gender='Female')\n",
            "combined_type(ssn='318-58-5314', vehicle_make='Jaguar', employee_id='22-0577935', created=datetime.datetime(2016, 11, 27, 19, 18, 57), first_name='Stephan', employer='Tremblay, Adams and Schroeder', department='Human Resources', model_year=2002, last_updated=datetime.datetime(2017, 3, 19, 17, 31, 18), last_name='Peatt', language='New Zealand Sign Language', vehicle_model='S-Type', gender='Male')\n",
            "combined_type(ssn='319-43-0465', vehicle_make='Pontiac', employee_id='07-3979239', created=datetime.datetime(2016, 10, 30, 0, 3, 54), first_name='Boothe', employer='Howell-Little', department='Legal', model_year=1999, last_updated=datetime.datetime(2018, 3, 8, 8, 22, 23), last_name='Vanin', language='West Frisian', vehicle_model='Trans Sport', gender='Male')\n",
            "combined_type(ssn='320-90-1419', vehicle_make='Cadillac', employee_id='64-1439160', created=datetime.datetime(2016, 5, 21, 16, 46, 58), first_name='Em', employer='Smitham-Herman', department='Sales', model_year=1996, last_updated=datetime.datetime(2017, 8, 1, 15, 3, 18), last_name='Darwood', language='Icelandic', vehicle_model='DeVille', gender='Male')\n",
            "combined_type(ssn='320-97-9147', vehicle_make='Ford', employee_id='45-8944543', created=datetime.datetime(2016, 12, 30, 2, 58, 10), first_name='Roch', employer='Deckow, Hudson and Koch', department='Research and Development', model_year=2007, last_updated=datetime.datetime(2017, 11, 27, 2, 56, 43), last_name='Wahlberg', language='Thai', vehicle_model='F-Series Super Duty', gender='Female')\n",
            "combined_type(ssn='323-28-6705', vehicle_make='Lincoln', employee_id='52-3969729', created=datetime.datetime(2016, 9, 23, 12, 24, 33), first_name='Christiano', employer='Paucek, Sipes and Pagac', department='Training', model_year=1984, last_updated=datetime.datetime(2017, 7, 6, 8, 58, 57), last_name='Stoffler', language='Kyrgyz', vehicle_model='Mark VII', gender='Male')\n",
            "combined_type(ssn='323-33-8689', vehicle_make='Nissan', employee_id='70-0007392', created=datetime.datetime(2016, 1, 30, 6, 55, 54), first_name='Dulcinea', employer='Will Inc', department='Product Management', model_year=2008, last_updated=datetime.datetime(2018, 2, 6, 11, 18, 46), last_name='Lundberg', language='Dutch', vehicle_model='Versa', gender='Female')\n",
            "combined_type(ssn='324-39-5230', vehicle_make='Honda', employee_id='54-3498156', created=datetime.datetime(2016, 8, 10, 15, 8, 1), first_name='Alexandrina', employer='Kovacek, Effertz and Rodriguez', department='Accounting', model_year=1997, last_updated=datetime.datetime(2017, 12, 12, 18, 34, 16), last_name='Dahlbom', language='Moldovan', vehicle_model='Prelude', gender='Female')\n",
            "combined_type(ssn='324-73-8895', vehicle_make='Porsche', employee_id='23-4135932', created=datetime.datetime(2016, 1, 31, 4, 8, 41), first_name='Walliw', employer='Bergnaum and Sons', department='Engineering', model_year=1992, last_updated=datetime.datetime(2018, 1, 31, 14, 40, 37), last_name='Alstead', language='Guarana', vehicle_model=968, gender='Female')\n",
            "combined_type(ssn='324-75-6098', vehicle_make='Mitsubishi', employee_id='61-8722569', created=datetime.datetime(2016, 11, 29, 5, 9, 44), first_name='Rafael', employer='Rosenbaum-Bogisich', department='Human Resources', model_year=1986, last_updated=datetime.datetime(2017, 3, 22, 10, 39, 27), last_name='Robinett', language='Portuguese', vehicle_model='Mirage', gender='Male')\n",
            "combined_type(ssn='326-64-9957', vehicle_make='Audi', employee_id='60-7003804', created=datetime.datetime(2016, 5, 21, 4, 5, 26), first_name='Jorgan', employer='Heathcote, Gerhold and Kuhlman', department='Services', model_year=2008, last_updated=datetime.datetime(2017, 1, 28, 20, 25, 31), last_name='Renowden', language='Swati', vehicle_model='RS4', gender='Male')\n",
            "combined_type(ssn='327-52-0546', vehicle_make='Land Rover', employee_id='45-9409049', created=datetime.datetime(2016, 6, 13, 20, 55, 47), first_name='Carlota', employer='Boyle-Gleichner', department='Legal', model_year=2008, last_updated=datetime.datetime(2017, 11, 9, 16, 0, 25), last_name='Hovey', language='English', vehicle_model='Range Rover Sport', gender='Female')\n",
            "combined_type(ssn='327-88-7554', vehicle_make='Toyota', employee_id='95-5467981', created=datetime.datetime(2016, 10, 12, 9, 25, 25), first_name='Malynda', employer='Lowe, Tromp and Orn', department='Product Management', model_year=1994, last_updated=datetime.datetime(2017, 11, 24, 22, 24, 17), last_name='Kingerby', language='Swahili', vehicle_model='Corolla', gender='Female')\n",
            "combined_type(ssn='330-99-3055', vehicle_make='Mitsubishi', employee_id='75-6111866', created=datetime.datetime(2016, 6, 13, 6, 58, 21), first_name='Marinna', employer='Schimmel and Sons', department='Sales', model_year=2001, last_updated=datetime.datetime(2017, 3, 15, 2, 8, 35), last_name='Dally', language='Azeri', vehicle_model='Montero', gender='Female')\n",
            "combined_type(ssn='332-83-6591', vehicle_make='Mitsubishi', employee_id='72-4063548', created=datetime.datetime(2016, 6, 26, 19, 28, 44), first_name='Forrester', employer='Hoppe-Dickens', department='Sales', model_year=1991, last_updated=datetime.datetime(2017, 6, 1, 21, 27, 2), last_name='Cullabine', language='Dzongkha', vehicle_model='Chariot', gender='Male')\n",
            "combined_type(ssn='333-52-5097', vehicle_make='Lotus', employee_id='77-3574938', created=datetime.datetime(2016, 10, 17, 19, 38, 37), first_name='Florentia', employer='Nienow Inc', department='Product Management', model_year=1999, last_updated=datetime.datetime(2017, 8, 7, 15, 22, 28), last_name='Espinazo', language='Tetum', vehicle_model='Esprit', gender='Female')\n",
            "combined_type(ssn='333-95-5025', vehicle_make='Chevrolet', employee_id='70-1386102', created=datetime.datetime(2016, 5, 25, 23, 33, 3), first_name='Rebeca', employer='Beahan-Little', department='Sales', model_year=2002, last_updated=datetime.datetime(2017, 8, 28, 15, 13, 59), last_name='Walesa', language='Zulu', vehicle_model='Monte Carlo', gender='Female')\n",
            "combined_type(ssn='335-35-1520', vehicle_make='Lincoln', employee_id='27-7571787', created=datetime.datetime(2016, 11, 26, 7, 21, 10), first_name='Ervin', employer='Berge-Schimmel', department='Business Development', model_year=1984, last_updated=datetime.datetime(2017, 1, 29, 15, 44, 57), last_name='Hugues', language='Armenian', vehicle_model='Town Car', gender='Male')\n",
            "combined_type(ssn='336-48-2579', vehicle_make='Land Rover', employee_id='27-6837894', created=datetime.datetime(2016, 4, 28, 19, 21, 15), first_name='Renee', employer='Thiel Group', department='Support', model_year=2001, last_updated=datetime.datetime(2018, 3, 2, 16, 26, 48), last_name='Crank', language='Armenian', vehicle_model='Freelander', gender='Female')\n",
            "combined_type(ssn='339-27-8046', vehicle_make='Chevrolet', employee_id='15-6371973', created=datetime.datetime(2016, 4, 9, 3, 13, 49), first_name='Julita', employer='Kessler-Simonis', department='Research and Development', model_year=1998, last_updated=datetime.datetime(2017, 12, 12, 18, 26, 28), last_name='Jouhan', language='Bosnian', vehicle_model='Camaro', gender='Female')\n",
            "combined_type(ssn='339-71-2687', vehicle_make='Mitsubishi', employee_id='44-2643547', created=datetime.datetime(2016, 12, 18, 12, 54, 8), first_name='Marlie', employer='Homenick, Mitchell and Mills', department='Engineering', model_year=2007, last_updated=datetime.datetime(2017, 10, 22, 21, 42, 38), last_name='Corpe', language='Persian', vehicle_model='Raider', gender='Female')\n",
            "combined_type(ssn='341-10-6840', vehicle_make='Porsche', employee_id='65-9497375', created=datetime.datetime(2016, 6, 4, 11, 29, 46), first_name='Cyrille', employer='Block, Doyle and Waelchi', department='Product Management', model_year=1992, last_updated=datetime.datetime(2017, 3, 6, 16, 50, 4), last_name='Critchlow', language='Portuguese', vehicle_model=911, gender='Male')\n",
            "combined_type(ssn='342-05-9057', vehicle_make='Lamborghini', employee_id='59-4510364', created=datetime.datetime(2016, 7, 19, 5, 33, 42), first_name='Beatrix', employer='Lind, Auer and Waelchi', department='Research and Development', model_year=2003, last_updated=datetime.datetime(2017, 3, 23, 6, 34, 5), last_name='Relton', language='Latvian', vehicle_model='Gallardo', gender='Female')\n",
            "combined_type(ssn='342-55-0538', vehicle_make='GMC', employee_id='76-0199175', created=datetime.datetime(2016, 1, 1, 10, 27, 44), first_name='Hilliary', employer='Pouros-Kohler', department='Legal', model_year=2012, last_updated=datetime.datetime(2017, 8, 30, 11, 9, 11), last_name='Suddards', language='Dzongkha', vehicle_model='Sierra', gender='Female')\n",
            "combined_type(ssn='342-90-9333', vehicle_make='Ford', employee_id='97-4377037', created=datetime.datetime(2016, 6, 17, 11, 46, 24), first_name='Geri', employer='Okuneva and Sons', department='Sales', model_year=2001, last_updated=datetime.datetime(2017, 12, 2, 9, 54, 57), last_name='Yesinov', language='Norwegian', vehicle_model='Mustang', gender='Male')\n",
            "combined_type(ssn='343-20-8407', vehicle_make='Mazda', employee_id='12-0866614', created=datetime.datetime(2016, 5, 11, 2, 2, 53), first_name='Bradford', employer='Parker, Wehner and Oberbrunner', department='Support', model_year=2003, last_updated=datetime.datetime(2017, 12, 20, 4, 35, 7), last_name='Niemiec', language='Chinese', vehicle_model='MPV', gender='Male')\n",
            "combined_type(ssn='343-81-3179', vehicle_make='Honda', employee_id='07-0669669', created=datetime.datetime(2016, 3, 6, 17, 25, 34), first_name='Reinhard', employer='King Inc', department='Support', model_year=1994, last_updated=datetime.datetime(2017, 10, 17, 18, 21, 38), last_name='Bortolutti', language='Kannada', vehicle_model='Passport', gender='Male')\n",
            "combined_type(ssn='345-74-2160', vehicle_make='Audi', employee_id='82-9497860', created=datetime.datetime(2016, 7, 13, 23, 35, 12), first_name='Camile', employer='Jaskolski, Batz and Rempel', department='Marketing', model_year=2002, last_updated=datetime.datetime(2018, 2, 4, 4, 8, 54), last_name='Pengelly', language='Lao', vehicle_model='S8', gender='Female')\n",
            "combined_type(ssn='347-09-3254', vehicle_make='Jeep', employee_id='92-7514376', created=datetime.datetime(2016, 8, 15, 10, 51, 18), first_name='Dulciana', employer='Bahringer, Pacocha and Ritchie', department='Engineering', model_year=1997, last_updated=datetime.datetime(2017, 6, 30, 0, 52, 15), last_name='Hexum', language='Lao', vehicle_model='Wrangler', gender='Female')\n",
            "combined_type(ssn='347-64-8652', vehicle_make='Chevrolet', employee_id='38-6538811', created=datetime.datetime(2016, 12, 30, 3, 51, 10), first_name='Dusty', employer='Prosacco-Herzog', department='Sales', model_year=2001, last_updated=datetime.datetime(2017, 5, 23, 11, 28, 5), last_name='Morat', language='Japanese', vehicle_model='Metro', gender='Female')\n",
            "combined_type(ssn='348-73-4312', vehicle_make='Eagle', employee_id='89-2980268', created=datetime.datetime(2016, 12, 14, 21, 16, 27), first_name='Elberta', employer='Sanford-Rohan', department='Engineering', model_year=1994, last_updated=datetime.datetime(2017, 9, 13, 10, 31, 30), last_name='Howden', language='Khmer', vehicle_model='Vision', gender='Female')\n",
            "combined_type(ssn='348-74-3224', vehicle_make='BMW', employee_id='88-7250304', created=datetime.datetime(2016, 5, 11, 22, 14, 46), first_name='Dorthy', employer='Ledner and Sons', department='Engineering', model_year=2012, last_updated=datetime.datetime(2018, 2, 4, 18, 12, 54), last_name='Abreheart', language='Bosnian', vehicle_model='X6 M', gender='Female')\n",
            "combined_type(ssn='349-53-8864', vehicle_make='Ford', employee_id='73-2905417', created=datetime.datetime(2016, 1, 28, 10, 14, 46), first_name='Muffin', employer='Labadie, Lockman and Kozey', department='Support', model_year=2000, last_updated=datetime.datetime(2017, 12, 27, 21, 15, 3), last_name='Lord', language='Georgian', vehicle_model='Focus', gender='Female')\n",
            "combined_type(ssn='349-67-7502', vehicle_make='Volkswagen', employee_id='24-0076267', created=datetime.datetime(2016, 1, 12, 23, 12, 17), first_name='Ari', employer='Lynch, Schowalter and Ferry', department='Support', model_year=1990, last_updated=datetime.datetime(2018, 2, 16, 4, 12, 54), last_name='Yitzhakov', language='Zulu', vehicle_model='Golf', gender='Male')\n",
            "combined_type(ssn='350-20-9593', vehicle_make='Toyota', employee_id='09-1183256', created=datetime.datetime(2016, 4, 12, 21, 1, 21), first_name='Eldridge', employer='Mann Inc', department='Services', model_year=2002, last_updated=datetime.datetime(2018, 2, 10, 22, 55, 27), last_name='Crispin', language='Dutch', vehicle_model='Echo', gender='Male')\n",
            "combined_type(ssn='350-80-4646', vehicle_make='Chevrolet', employee_id='07-7836538', created=datetime.datetime(2016, 5, 28, 8, 33, 21), first_name='Harp', employer='West and Sons', department='Product Management', model_year=2008, last_updated=datetime.datetime(2017, 8, 23, 16, 52, 47), last_name='Du Plantier', language='Dutch', vehicle_model='Aveo', gender='Male')\n",
            "combined_type(ssn='351-73-2802', vehicle_make='Volkswagen', employee_id='91-4775280', created=datetime.datetime(2016, 9, 3, 2, 20, 26), first_name='Cybill', employer='Goodwin, Luettgen and Harvey', department='Human Resources', model_year=2001, last_updated=datetime.datetime(2017, 8, 11, 7, 49, 34), last_name='Parnham', language='Latvian', vehicle_model='Jetta', gender='Female')\n",
            "combined_type(ssn='355-21-9711', vehicle_make='Ford', employee_id='52-7624074', created=datetime.datetime(2016, 4, 22, 13, 52, 40), first_name='Daryn', employer='Jacobson and Sons', department='Legal', model_year=1992, last_updated=datetime.datetime(2017, 11, 1, 23, 0, 15), last_name='Battin', language='Georgian', vehicle_model='Festiva', gender='Female')\n",
            "combined_type(ssn='355-52-9767', vehicle_make='Nissan', employee_id='07-2741705', created=datetime.datetime(2016, 9, 25, 21, 5, 36), first_name='Kacy', employer='Wilderman Inc', department='Legal', model_year=2008, last_updated=datetime.datetime(2018, 3, 20, 23, 3, 28), last_name='Offen', language='Kurdish', vehicle_model='Sentra', gender='Female')\n",
            "combined_type(ssn='355-96-7706', vehicle_make='Audi', employee_id='25-6512671', created=datetime.datetime(2016, 3, 5, 8, 16, 19), first_name='Lauritz', employer='Kiehn Inc', department='Product Management', model_year=1992, last_updated=datetime.datetime(2017, 10, 25, 11, 22, 28), last_name='Lucock', language='Mongolian', vehicle_model=100, gender='Male')\n",
            "combined_type(ssn='356-39-9199', vehicle_make='Land Rover', employee_id='09-4337320', created=datetime.datetime(2016, 1, 28, 6, 55, 58), first_name='Arney', employer='Mohr-Padberg', department='Marketing', model_year=2006, last_updated=datetime.datetime(2017, 12, 4, 23, 53, 17), last_name='Polglaze', language='Marathi', vehicle_model='Range Rover', gender='Male')\n",
            "combined_type(ssn='357-37-6094', vehicle_make='Chevrolet', employee_id='09-5871313', created=datetime.datetime(2016, 4, 26, 4, 10, 52), first_name='Chrisse', employer='Bergnaum, Funk and Huel', department='Legal', model_year=1992, last_updated=datetime.datetime(2018, 2, 13, 5, 16, 10), last_name='Kirton', language='Latvian', vehicle_model=2500, gender='Male')\n",
            "combined_type(ssn='358-84-7049', vehicle_make='Dodge', employee_id='12-7386844', created=datetime.datetime(2016, 2, 21, 0, 13, 44), first_name='Emalee', employer='Kuhn LLC', department='Research and Development', model_year=2007, last_updated=datetime.datetime(2017, 2, 9, 7, 24, 45), last_name='McCleary', language='Thai', vehicle_model='Dakota Club', gender='Female')\n",
            "combined_type(ssn='360-69-6230', vehicle_make='Mitsubishi', employee_id='42-6530979', created=datetime.datetime(2016, 12, 14, 18, 1, 16), first_name='Grannie', employer='Kutch, Walker and Christiansen', department='Support', model_year=1985, last_updated=datetime.datetime(2017, 5, 27, 8, 53, 14), last_name='Champ', language='Belarusian', vehicle_model='Pajero', gender='Male')\n",
            "combined_type(ssn='361-06-1530', vehicle_make='Plymouth', employee_id='79-6369486', created=datetime.datetime(2016, 1, 21, 23, 6, 3), first_name='Luis', employer='Ledner, Weimann and Bernhard', department='Accounting', model_year=1992, last_updated=datetime.datetime(2017, 5, 6, 15, 5, 47), last_name='Ashborne', language='Mongolian', vehicle_model='Laser', gender='Male')\n",
            "combined_type(ssn='361-42-7068', vehicle_make='Ford', employee_id='76-8687759', created=datetime.datetime(2016, 9, 7, 15, 20, 13), first_name='Ashia', employer=\"Altenwerth, Jacobson and O'Keefe\", department='Training', model_year=1996, last_updated=datetime.datetime(2018, 2, 4, 13, 38, 12), last_name='Ferran', language='West Frisian', vehicle_model='Club Wagon', gender='Female')\n",
            "combined_type(ssn='361-49-4597', vehicle_make='Ford', employee_id='97-1951142', created=datetime.datetime(2016, 12, 20, 11, 29, 30), first_name='Adan', employer=\"D'Amore Inc\", department='Sales', model_year=1993, last_updated=datetime.datetime(2017, 11, 22, 9, 17, 58), last_name='Janssen', language='Swedish', vehicle_model='F-Series', gender='Male')\n",
            "combined_type(ssn='361-83-5004', vehicle_make='Audi', employee_id='61-3591939', created=datetime.datetime(2016, 12, 24, 3, 19, 11), first_name='Wilona', employer=\"D'Amore LLC\", department='Services', model_year=2013, last_updated=datetime.datetime(2017, 8, 11, 21, 27, 23), last_name='Sink', language='Sotho', vehicle_model='S4', gender='Female')\n",
            "combined_type(ssn='362-09-8563', vehicle_make='Toyota', employee_id='56-0050837', created=datetime.datetime(2016, 7, 4, 3, 26, 36), first_name='Carri', employer='Kautzer and Sons', department='Research and Development', model_year=1995, last_updated=datetime.datetime(2017, 2, 7, 23, 59, 48), last_name='Peterffy', language='Icelandic', vehicle_model='Paseo', gender='Female')\n",
            "combined_type(ssn='362-12-7902', vehicle_make='Mitsubishi', employee_id='26-6200024', created=datetime.datetime(2016, 7, 11, 7, 18, 59), first_name='Weber', employer='Mertz Inc', department='Services', model_year=1994, last_updated=datetime.datetime(2017, 4, 13, 22, 21, 36), last_name='Legrand', language='Swahili', vehicle_model='Diamante', gender='Male')\n",
            "combined_type(ssn='364-25-0166', vehicle_make='GMC', employee_id='78-2982514', created=datetime.datetime(2016, 4, 29, 17, 41, 2), first_name='Arnuad', employer='Veum and Sons', department='Engineering', model_year=2004, last_updated=datetime.datetime(2017, 10, 23, 16, 31, 42), last_name='Planque', language='Hindi', vehicle_model='Yukon XL 1500', gender='Male')\n",
            "combined_type(ssn='364-65-2174', vehicle_make='Cadillac', employee_id='32-6644811', created=datetime.datetime(2016, 5, 30, 8, 50, 2), first_name='Bernarr', employer='Schuppe-Flatley', department='Business Development', model_year=2007, last_updated=datetime.datetime(2017, 5, 22, 4, 28, 40), last_name='Wollard', language='Irish Gaelic', vehicle_model='Escalade EXT', gender='Male')\n",
            "combined_type(ssn='366-61-0607', vehicle_make='Ford', employee_id='67-0234629', created=datetime.datetime(2016, 3, 28, 15, 11, 41), first_name='Bethena', employer=\"Brakus-D'Amore\", department='Human Resources', model_year=2007, last_updated=datetime.datetime(2017, 12, 27, 23, 53, 19), last_name='Joicey', language='Haitian Creole', vehicle_model='F350', gender='Female')\n",
            "combined_type(ssn='367-22-8998', vehicle_make='Chevrolet', employee_id='43-9661529', created=datetime.datetime(2016, 5, 13, 12, 0, 26), first_name='Blake', employer='Dickinson-Wiegand', department='Accounting', model_year=1997, last_updated=datetime.datetime(2017, 12, 11, 17, 58, 1), last_name='Mustin', language='Kyrgyz', vehicle_model='Express 2500', gender='Female')\n",
            "combined_type(ssn='367-62-4426', vehicle_make='Saab', employee_id='22-6937844', created=datetime.datetime(2016, 9, 6, 12, 15, 56), first_name='Sigismondo', employer=\"O'Kon, Eichmann and Block\", department='Research and Development', model_year=1999, last_updated=datetime.datetime(2017, 5, 26, 3, 1, 24), last_name='Lerohan', language='Georgian', vehicle_model=900, gender='Male')\n",
            "combined_type(ssn='370-01-6977', vehicle_make='Chevrolet', employee_id='61-9710930', created=datetime.datetime(2016, 6, 17, 10, 50, 49), first_name='Hugues', employer='Stark-White', department='Support', model_year=2002, last_updated=datetime.datetime(2017, 1, 16, 16, 48, 28), last_name='Jeffryes', language='Georgian', vehicle_model='Corvette', gender='Male')\n",
            "combined_type(ssn='370-24-5876', vehicle_make='Honda', employee_id='99-2141062', created=datetime.datetime(2016, 10, 18, 8, 30, 53), first_name='Sergei', employer='Hackett and Sons', department='Product Management', model_year=2005, last_updated=datetime.datetime(2018, 3, 10, 11, 48, 29), last_name='Risby', language='Bulgarian', vehicle_model='Civic', gender='Male')\n",
            "combined_type(ssn='370-72-6509', vehicle_make='Saab', employee_id='22-1713376', created=datetime.datetime(2016, 10, 28, 4, 26, 21), first_name='Wrennie', employer='Padberg, Walter and Barton', department='Product Management', model_year=1991, last_updated=datetime.datetime(2017, 4, 26, 2, 36, 25), last_name='McCrorie', language='Papiamento', vehicle_model=900, gender='Female')\n",
            "combined_type(ssn='371-28-5892', vehicle_make='Chevrolet', employee_id='40-5208891', created=datetime.datetime(2016, 11, 1, 11, 0, 34), first_name='Malia', employer='Adams-Ledner', department='Services', model_year=1960, last_updated=datetime.datetime(2017, 10, 23, 5, 51, 2), last_name='Hanse', language='Tsonga', vehicle_model='Corvair', gender='Female')\n",
            "combined_type(ssn='371-44-0582', vehicle_make='Mercedes-Benz', employee_id='92-4254610', created=datetime.datetime(2016, 12, 12, 22, 59, 7), first_name='Clemmy', employer='Gislason and Sons', department='Legal', model_year=1994, last_updated=datetime.datetime(2017, 10, 23, 21, 19, 7), last_name='Cogzell', language='Estonian', vehicle_model='C-Class', gender='Male')\n",
            "combined_type(ssn='371-62-3727', vehicle_make='Acura', employee_id='52-7507546', created=datetime.datetime(2016, 8, 16, 8, 13, 41), first_name='Cymbre', employer='Gleichner Group', department='Research and Development', model_year=2004, last_updated=datetime.datetime(2017, 7, 26, 23, 48, 15), last_name='Chinnock', language='Dutch', vehicle_model='NSX', gender='Female')\n",
            "combined_type(ssn='371-88-9249', vehicle_make='Mitsubishi', employee_id='30-6730450', created=datetime.datetime(2016, 9, 15, 17, 57, 18), first_name='Nealon', employer='Stiedemann LLC', department='Services', model_year=2001, last_updated=datetime.datetime(2017, 3, 5, 20, 51, 30), last_name='Oxtaby', language='German', vehicle_model='Diamante', gender='Male')\n",
            "combined_type(ssn='372-44-7487', vehicle_make='Buick', employee_id='02-8347934', created=datetime.datetime(2016, 5, 15, 22, 58, 12), first_name='Jolyn', employer='Fahey, Fahey and Gleason', department='Product Management', model_year=1991, last_updated=datetime.datetime(2017, 10, 1, 3, 0, 17), last_name='Bertome', language='Catalan', vehicle_model='Riviera', gender='Female')\n",
            "combined_type(ssn='372-62-7057', vehicle_make='Mercedes-Benz', employee_id='92-3893782', created=datetime.datetime(2016, 7, 20, 20, 9, 24), first_name='Eleanora', employer='Tremblay LLC', department='Accounting', model_year=1990, last_updated=datetime.datetime(2017, 10, 21, 15, 41, 50), last_name='Vazquez', language='Gujarati', vehicle_model='S-Class', gender='Female')\n",
            "combined_type(ssn='373-67-2734', vehicle_make='Isuzu', employee_id='01-6025412', created=datetime.datetime(2016, 7, 1, 8, 51, 19), first_name='Ileana', employer='Brekke-Rippin', department='Services', model_year=1997, last_updated=datetime.datetime(2017, 9, 12, 1, 34, 15), last_name='Luty', language='Italian', vehicle_model='Hombre Space', gender='Female')\n",
            "combined_type(ssn='374-47-0262', vehicle_make='GMC', employee_id='91-2150669', created=datetime.datetime(2016, 7, 20, 9, 51, 17), first_name='Bank', employer='Murazik and Sons', department='Services', model_year=1992, last_updated=datetime.datetime(2017, 4, 27, 16, 48), last_name='Evitts', language='Aymara', vehicle_model='Rally Wagon 1500', gender='Male')\n",
            "combined_type(ssn='378-08-0805', vehicle_make='Volvo', employee_id='81-0595624', created=datetime.datetime(2016, 9, 4, 16, 17, 45), first_name='Carroll', employer='Reynolds, Stroman and Pagac', department='Marketing', model_year=2010, last_updated=datetime.datetime(2017, 1, 15, 7, 10, 9), last_name='Harty', language='Swedish', vehicle_model='S40', gender='Female')\n",
            "combined_type(ssn='378-60-2472', vehicle_make='Dodge', employee_id='93-7798424', created=datetime.datetime(2016, 11, 10, 10, 11, 19), first_name='Eddie', employer='Baumbach Group', department='Human Resources', model_year=2000, last_updated=datetime.datetime(2017, 8, 22, 22, 37, 19), last_name='Howieson', language='Albanian', vehicle_model='Ram 2500', gender='Female')\n",
            "combined_type(ssn='378-66-0449', vehicle_make='Dodge', employee_id='96-7261958', created=datetime.datetime(2016, 10, 30, 23, 22, 7), first_name='Kelby', employer='Reynolds-Mosciski', department='Support', model_year=1984, last_updated=datetime.datetime(2018, 3, 12, 22, 26, 57), last_name='Wincer', language='Pashto', vehicle_model='Daytona', gender='Male')\n",
            "combined_type(ssn='378-79-0193', vehicle_make='Chevrolet', employee_id='44-7764644', created=datetime.datetime(2016, 1, 26, 16, 53, 16), first_name='Kenny', employer='Carter, Padberg and Stiedemann', department='Support', model_year=2004, last_updated=datetime.datetime(2017, 4, 15, 16, 31, 52), last_name='Josefsen', language='Danish', vehicle_model='Avalanche 1500', gender='Male')\n",
            "combined_type(ssn='378-88-6805', vehicle_make='Ford', employee_id='40-4637900', created=datetime.datetime(2016, 9, 25, 8, 10, 22), first_name='Vittoria', employer='Franecki-Wisozk', department='Marketing', model_year=1992, last_updated=datetime.datetime(2017, 7, 4, 17, 16, 15), last_name='Oldroyd', language='Moldovan', vehicle_model='Festiva', gender='Female')\n",
            "combined_type(ssn='379-07-8748', vehicle_make='Honda', employee_id='59-1247068', created=datetime.datetime(2016, 1, 16, 3, 56, 28), first_name='Dyanna', employer='Dach-Torp', department='Product Management', model_year=2011, last_updated=datetime.datetime(2018, 1, 12, 10, 47, 39), last_name='Noto', language='Polish', vehicle_model='Accord', gender='Female')\n",
            "combined_type(ssn='380-33-9730', vehicle_make='Jaguar', employee_id='90-7715733', created=datetime.datetime(2016, 2, 23, 0, 21, 9), first_name='Katinka', employer='McDermott Inc', department='Research and Development', model_year=2003, last_updated=datetime.datetime(2017, 4, 3, 2, 41, 45), last_name='Piet', language='Malay', vehicle_model='X-Type', gender='Female')\n",
            "combined_type(ssn='380-35-3854', vehicle_make='Honda', employee_id='72-1163753', created=datetime.datetime(2016, 7, 31, 20, 6, 38), first_name='Cathleen', employer='Larkin, Bode and Moen', department='Services', model_year=1994, last_updated=datetime.datetime(2017, 2, 17, 21, 55, 47), last_name='Sizland', language='Bislama', vehicle_model='Passport', gender='Female')\n",
            "combined_type(ssn='383-18-4058', vehicle_make='Audi', employee_id='47-0586610', created=datetime.datetime(2016, 7, 18, 12, 18, 59), first_name='Frederigo', employer='Kuphal-Dicki', department='Product Management', model_year=1994, last_updated=datetime.datetime(2017, 6, 23, 20, 52, 15), last_name='Cooksey', language='Indonesian', vehicle_model='Cabriolet', gender='Male')\n",
            "combined_type(ssn='384-30-6793', vehicle_make='Suzuki', employee_id='28-0030219', created=datetime.datetime(2016, 6, 1, 20, 11, 29), first_name='Kipp', employer='Metz, Reynolds and Jerde', department='Sales', model_year=2012, last_updated=datetime.datetime(2017, 2, 13, 1, 25, 17), last_name='Burnyate', language='English', vehicle_model='Grand Vitara', gender='Male')\n",
            "combined_type(ssn='384-94-2772', vehicle_make='Porsche', employee_id='18-0647578', created=datetime.datetime(2016, 2, 23, 21, 47, 27), first_name='Ramsay', employer='Erdman-Davis', department='Sales', model_year=2008, last_updated=datetime.datetime(2018, 3, 10, 21, 16, 37), last_name='Dolbey', language='Tok Pisin', vehicle_model='Cayman', gender='Male')\n",
            "combined_type(ssn='385-30-1777', vehicle_make='Volvo', employee_id='59-3207276', created=datetime.datetime(2016, 7, 30, 16, 51, 41), first_name='Aubrey', employer='Monahan, Weber and Reynolds', department='Sales', model_year=2009, last_updated=datetime.datetime(2017, 8, 5, 3, 34, 46), last_name='Wetherill', language='Tswana', vehicle_model='S80', gender='Female')\n",
            "combined_type(ssn='385-34-7828', vehicle_make='Lexus', employee_id='34-8338291', created=datetime.datetime(2016, 12, 22, 19, 44, 35), first_name='Dori', employer='Hamill Group', department='Business Development', model_year=2010, last_updated=datetime.datetime(2018, 3, 20, 8, 57, 25), last_name='Quogan', language='Afrikaans', vehicle_model='GS', gender='Female')\n",
            "combined_type(ssn='385-98-0431', vehicle_make='Rolls-Royce', employee_id='82-8364397', created=datetime.datetime(2016, 12, 25, 11, 6, 50), first_name='Kassi', employer='Upton, Boehm and Kemmer', department='Product Management', model_year=2011, last_updated=datetime.datetime(2017, 1, 10, 17, 0, 26), last_name='Rashleigh', language='Tswana', vehicle_model='Phantom', gender='Female')\n",
            "combined_type(ssn='386-15-7960', vehicle_make='Subaru', employee_id='96-7302690', created=datetime.datetime(2016, 8, 7, 23, 59, 2), first_name='Steffie', employer='Turcotte, Shields and Hand', department='Marketing', model_year=1987, last_updated=datetime.datetime(2018, 3, 27, 9, 56, 49), last_name='Tedahl', language='Punjabi', vehicle_model='Brat', gender='Female')\n",
            "combined_type(ssn='386-34-4088', vehicle_make='Chevrolet', employee_id='21-8425795', created=datetime.datetime(2016, 10, 17, 14, 16, 35), first_name='Adamo', employer='Runolfsson, Grimes and Batz', department='Human Resources', model_year=2005, last_updated=datetime.datetime(2017, 12, 3, 10, 1, 37), last_name='Wogden', language='Arabic', vehicle_model='Corvette', gender='Male')\n",
            "combined_type(ssn='386-68-9884', vehicle_make='Subaru', employee_id='46-6921210', created=datetime.datetime(2016, 9, 5, 7, 19, 41), first_name='Francis', employer='Jakubowski, Padberg and Mohr', department='Training', model_year=2012, last_updated=datetime.datetime(2017, 11, 18, 4, 12, 19), last_name='Foch', language='Dzongkha', vehicle_model='Tribeca', gender='Male')\n",
            "combined_type(ssn='386-97-3523', vehicle_make='Aston Martin', employee_id='75-8054834', created=datetime.datetime(2016, 1, 9, 18, 15, 53), first_name='Siusan', employer='Durgan LLC', department='Business Development', model_year=2011, last_updated=datetime.datetime(2017, 11, 13, 13, 40, 53), last_name='Durkin', language='Kurdish', vehicle_model='V8 Vantage S', gender='Female')\n",
            "combined_type(ssn='389-31-0910', vehicle_make='Chevrolet', employee_id='22-6182445', created=datetime.datetime(2016, 3, 23, 8, 59, 23), first_name='Mac', employer='Welch-Hamill', department='Engineering', model_year=2008, last_updated=datetime.datetime(2017, 12, 2, 18, 44, 56), last_name='Westrey', language='Armenian', vehicle_model='Express 2500', gender='Male')\n",
            "combined_type(ssn='389-51-1424', vehicle_make='BMW', employee_id='47-4459434', created=datetime.datetime(2016, 9, 12, 9, 50, 26), first_name='Isadore', employer='Jacobi, Durgan and Moen', department='Human Resources', model_year=2000, last_updated=datetime.datetime(2017, 5, 29, 22, 45, 51), last_name='Orbine', language='Pashto', vehicle_model='M5', gender='Male')\n",
            "combined_type(ssn='389-84-8254', vehicle_make='Honda', employee_id='58-5489644', created=datetime.datetime(2016, 5, 2, 7, 4, 51), first_name='Chiquita', employer='Little, Johns and Kuphal', department='Human Resources', model_year=2006, last_updated=datetime.datetime(2017, 8, 14, 20, 14, 13), last_name='Jolliman', language='Marathi', vehicle_model='S2000', gender='Female')\n",
            "combined_type(ssn='390-74-3062', vehicle_make='Audi', employee_id='01-1786654', created=datetime.datetime(2016, 11, 14, 16, 22, 16), first_name='Cara', employer='Bechtelar-McCullough', department='Sales', model_year=2002, last_updated=datetime.datetime(2017, 1, 1, 12, 23, 41), last_name='Ingree', language='Indonesian', vehicle_model='TT', gender='Female')\n",
            "combined_type(ssn='391-14-9280', vehicle_make='Hyundai', employee_id='16-1384768', created=datetime.datetime(2016, 3, 16, 11, 53, 37), first_name='Faun', employer='Friesen, Goyette and Satterfield', department='Research and Development', model_year=2010, last_updated=datetime.datetime(2018, 2, 16, 3, 12, 49), last_name='Chillistone', language='Montenegrin', vehicle_model='Genesis', gender='Female')\n",
            "combined_type(ssn='391-47-4578', vehicle_make='Dodge', employee_id='86-8277225', created=datetime.datetime(2016, 10, 24, 19, 42, 50), first_name='Fiann', employer='Rath-Hessel', department='Human Resources', model_year=1997, last_updated=datetime.datetime(2017, 10, 29, 15, 13, 33), last_name='Fellman', language='Assamese', vehicle_model='Ram 1500', gender='Female')\n",
            "combined_type(ssn='391-73-2830', vehicle_make='Subaru', employee_id='67-2306452', created=datetime.datetime(2016, 9, 10, 3, 47, 59), first_name='Padget', employer='Ritchie-Cassin', department='Training', model_year=2004, last_updated=datetime.datetime(2017, 10, 6, 15, 24, 33), last_name='Manthorpe', language='Marathi', vehicle_model='Outback', gender='Male')\n",
            "combined_type(ssn='393-22-6585', vehicle_make='Panoz', employee_id='35-0739294', created=datetime.datetime(2016, 8, 16, 12, 37, 59), first_name='Reinold', employer='Klocko-Frami', department='Sales', model_year=2008, last_updated=datetime.datetime(2017, 9, 2, 14, 55, 26), last_name='Ellif', language='Nepali', vehicle_model='Esperante', gender='Male')\n",
            "combined_type(ssn='396-51-1559', vehicle_make='Infiniti', employee_id='36-2545788', created=datetime.datetime(2016, 7, 22, 6, 56, 3), first_name='Natasha', employer='Bogan, Stamm and Donnelly', department='Legal', model_year=1993, last_updated=datetime.datetime(2017, 7, 2, 19, 3, 16), last_name='Dafter', language='Maori', vehicle_model='Q', gender='Female')\n",
            "combined_type(ssn='397-16-5372', vehicle_make='Chevrolet', employee_id='00-3867844', created=datetime.datetime(2016, 5, 7, 14, 44, 20), first_name='Alonzo', employer='Miller-Harvey', department='Human Resources', model_year=1995, last_updated=datetime.datetime(2017, 4, 2, 1, 49, 22), last_name='Mc Mechan', language='Polish', vehicle_model='Lumina', gender='Male')\n",
            "combined_type(ssn='397-29-8349', vehicle_make='Hyundai', employee_id='46-4308357', created=datetime.datetime(2016, 5, 29, 20, 18, 22), first_name='Madelle', employer='Okuneva-Lehner', department='Sales', model_year=1995, last_updated=datetime.datetime(2018, 3, 22, 14, 14, 2), last_name='Mapledorum', language='Tok Pisin', vehicle_model='Elantra', gender='Female')\n",
            "combined_type(ssn='397-87-8282', vehicle_make='Chevrolet', employee_id='48-2299282', created=datetime.datetime(2016, 6, 24, 8, 10, 55), first_name='Kyrstin', employer='Jones Inc', department='Sales', model_year=1998, last_updated=datetime.datetime(2017, 1, 25, 21, 15, 13), last_name='Waldock', language='Belarusian', vehicle_model='Blazer', gender='Female')\n",
            "combined_type(ssn='399-31-2815', vehicle_make='Chevrolet', employee_id='93-7234405', created=datetime.datetime(2016, 2, 23, 22, 19, 23), first_name='Durward', employer='Klocko, Stiedemann and Collier', department='Support', model_year=1996, last_updated=datetime.datetime(2017, 9, 26, 11, 1, 55), last_name='Giamitti', language='Tok Pisin', vehicle_model='Cavalier', gender='Male')\n",
            "combined_type(ssn='399-63-8810', vehicle_make='Acura', employee_id='74-1474493', created=datetime.datetime(2016, 2, 29, 5, 22, 17), first_name='Bobbee', employer='Mills, Barton and Lakin', department='Product Management', model_year=1992, last_updated=datetime.datetime(2018, 3, 5, 13, 5, 28), last_name='Postians', language='Papiamento', vehicle_model='Integra', gender='Female')\n",
            "combined_type(ssn='399-81-6133', vehicle_make='Cadillac', employee_id='57-1893655', created=datetime.datetime(2016, 4, 13, 7, 24, 21), first_name='Viv', employer='Kihn Group', department='Legal', model_year=1992, last_updated=datetime.datetime(2017, 12, 1, 11, 7, 24), last_name='Borsay', language='Chinese', vehicle_model='Allante', gender='Female')\n",
            "combined_type(ssn='400-21-8654', vehicle_make='Ford', employee_id='09-8581339', created=datetime.datetime(2016, 3, 10, 8, 51, 14), first_name='Travus', employer='Crist Inc', department='Engineering', model_year=2002, last_updated=datetime.datetime(2017, 3, 12, 11, 14, 33), last_name='Miranda', language='Kannada', vehicle_model='Escort', gender='Male')\n",
            "combined_type(ssn='400-77-6007', vehicle_make='GMC', employee_id='00-9482594', created=datetime.datetime(2016, 4, 4, 1, 4, 4), first_name='Dannie', employer='McCullough-Durgan', department='Research and Development', model_year=2001, last_updated=datetime.datetime(2017, 6, 2, 9, 22, 46), last_name='Shurmer', language='Tajik', vehicle_model='Savana 2500', gender='Male')\n",
            "combined_type(ssn='402-61-3479', vehicle_make='Oldsmobile', employee_id='98-2176332', created=datetime.datetime(2016, 8, 7, 7, 54, 20), first_name='Mariele', employer='Rau, Frami and Friesen', department='Product Management', model_year=2000, last_updated=datetime.datetime(2017, 6, 24, 13, 5, 25), last_name='Meyrick', language='Telugu', vehicle_model='Alero', gender='Female')\n",
            "combined_type(ssn='402-65-2055', vehicle_make='Saab', employee_id='70-3011031', created=datetime.datetime(2016, 11, 21, 21, 12, 6), first_name='Martie', employer='MacGyver-Kihn', department='Marketing', model_year=2001, last_updated=datetime.datetime(2017, 12, 18, 19, 10, 32), last_name='Crawshaw', language='Marathi', vehicle_model='3-Sep', gender='Male')\n",
            "combined_type(ssn='402-88-5570', vehicle_make='Acura', employee_id='65-6066334', created=datetime.datetime(2016, 8, 12, 10, 13, 54), first_name='Torry', employer='Stanton Inc', department='Human Resources', model_year=2002, last_updated=datetime.datetime(2017, 10, 22, 8, 5, 56), last_name='Bossons', language='Chinese', vehicle_model='RSX', gender='Male')\n",
            "combined_type(ssn='403-65-1535', vehicle_make='Mitsubishi', employee_id='81-0591716', created=datetime.datetime(2016, 1, 9, 8, 11, 36), first_name='Cathy', employer='Kirlin, Welch and Braun', department='Accounting', model_year=1992, last_updated=datetime.datetime(2017, 12, 17, 5, 20, 26), last_name='Gabe', language='Hiri Motu', vehicle_model='Eclipse', gender='Female')\n",
            "combined_type(ssn='404-57-4023', vehicle_make='Mazda', employee_id='43-7580921', created=datetime.datetime(2016, 10, 13, 3, 34, 18), first_name='Pattin', employer='Thiel, Ankunding and Medhurst', department='Training', model_year=2011, last_updated=datetime.datetime(2017, 11, 14, 10, 44, 47), last_name='Jarmain', language='Hindi', vehicle_model='Mazda3', gender='Male')\n",
            "combined_type(ssn='405-25-1422', vehicle_make='BMW', employee_id='57-6192942', created=datetime.datetime(2016, 7, 16, 10, 8, 31), first_name='Raquel', employer='Keebler Group', department='Product Management', model_year=2006, last_updated=datetime.datetime(2017, 11, 21, 0, 0, 30), last_name='Dukelow', language='Gujarati', vehicle_model='5 Series', gender='Female')\n",
            "combined_type(ssn='406-15-5123', vehicle_make='Dodge', employee_id='47-5274344', created=datetime.datetime(2016, 10, 21, 22, 15, 43), first_name='Janot', employer='Wilkinson, Lind and Ziemann', department='Research and Development', model_year=2000, last_updated=datetime.datetime(2017, 3, 9, 4, 6, 27), last_name='Pulhoster', language='Dari', vehicle_model='Caravan', gender='Female')\n",
            "combined_type(ssn='406-24-4867', vehicle_make='Audi', employee_id='86-3769423', created=datetime.datetime(2016, 2, 29, 23, 13, 57), first_name='Renaud', employer='Senger-Breitenberg', department='Marketing', model_year=2004, last_updated=datetime.datetime(2017, 5, 30, 6, 52, 26), last_name='Fleetwood', language='Papiamento', vehicle_model='Allroad', gender='Male')\n",
            "combined_type(ssn='406-49-0634', vehicle_make='Toyota', employee_id='67-4961160', created=datetime.datetime(2016, 9, 6, 20, 39, 43), first_name='Lolita', employer='Bashirian Group', department='Legal', model_year=2003, last_updated=datetime.datetime(2017, 5, 10, 9, 45, 50), last_name='Dailey', language='Czech', vehicle_model='Corolla', gender='Female')\n",
            "combined_type(ssn='407-30-0910', vehicle_make='Audi', employee_id='01-4265007', created=datetime.datetime(2016, 1, 17, 5, 46, 54), first_name='Gerhard', employer=\"Kozey, O'Reilly and Nicolas\", department='Accounting', model_year=1985, last_updated=datetime.datetime(2017, 8, 12, 23, 54, 25), last_name='Crielly', language='Bislama', vehicle_model='Coupe GT', gender='Male')\n",
            "combined_type(ssn='407-80-7367', vehicle_make='Audi', employee_id='72-9016938', created=datetime.datetime(2016, 7, 12, 9, 34, 11), first_name='Sigismundo', employer='Langosh Inc', department='Human Resources', model_year=1986, last_updated=datetime.datetime(2017, 9, 14, 12, 4, 51), last_name='Pothbury', language='Latvian', vehicle_model='5000S', gender='Male')\n",
            "combined_type(ssn='407-99-6159', vehicle_make='Chevrolet', employee_id='48-1683026', created=datetime.datetime(2016, 8, 25, 17, 0, 57), first_name='Flynn', employer='McClure, Erdman and Schumm', department='Product Management', model_year=1993, last_updated=datetime.datetime(2017, 6, 8, 11, 39, 38), last_name='Jirasek', language='Afrikaans', vehicle_model='Sportvan G20', gender='Male')\n",
            "combined_type(ssn='408-83-7943', vehicle_make='Mitsubishi', employee_id='67-7795930', created=datetime.datetime(2016, 7, 17, 0, 22, 3), first_name='Wallie', employer=\"O'Conner, Ratke and Cormier\", department='Product Management', model_year=2005, last_updated=datetime.datetime(2017, 7, 7, 19, 9, 33), last_name='Klosterman', language='Hungarian', vehicle_model='Eclipse', gender='Male')\n",
            "combined_type(ssn='408-98-3291', vehicle_make='Geo', employee_id='75-8998272', created=datetime.datetime(2016, 4, 17, 22, 36, 47), first_name='Karia', employer='Gibson LLC', department='Training', model_year=1992, last_updated=datetime.datetime(2017, 5, 14, 10, 52, 18), last_name='Riquet', language='Italian', vehicle_model='Metro', gender='Female')\n",
            "combined_type(ssn='409-58-2034', vehicle_make='Audi', employee_id='24-8239174', created=datetime.datetime(2016, 6, 8, 17, 56, 28), first_name='Fiann', employer='Wilkinson Group', department='Accounting', model_year=2001, last_updated=datetime.datetime(2018, 1, 22, 3, 9, 50), last_name='Corsar', language='Swahili', vehicle_model='A4', gender='Female')\n",
            "combined_type(ssn='409-90-8946', vehicle_make='Toyota', employee_id='07-7718175', created=datetime.datetime(2016, 7, 13, 17, 13, 48), first_name='Doralia', employer='Yost and Sons', department='Sales', model_year=1994, last_updated=datetime.datetime(2017, 8, 14, 2, 56, 14), last_name='Proughten', language='Estonian', vehicle_model='Paseo', gender='Female')\n",
            "combined_type(ssn='410-38-4237', vehicle_make='Saab', employee_id='76-6254682', created=datetime.datetime(2016, 5, 8, 13, 1, 31), first_name='Gibbie', employer='Murazik LLC', department='Engineering', model_year=2009, last_updated=datetime.datetime(2017, 8, 30, 1, 6, 27), last_name='Seamer', language='Tok Pisin', vehicle_model='5-Sep', gender='Male')\n",
            "combined_type(ssn='410-76-5092', vehicle_make='Dodge', employee_id='30-2738860', created=datetime.datetime(2016, 8, 25, 5, 15, 41), first_name='Spencer', employer='West-Auer', department='Business Development', model_year=2008, last_updated=datetime.datetime(2018, 1, 29, 2, 29, 38), last_name='Dallon', language='Swati', vehicle_model='Avenger', gender='Male')\n",
            "combined_type(ssn='411-21-4276', vehicle_make='Kia', employee_id='71-6519002', created=datetime.datetime(2016, 5, 17, 20, 54), first_name='Mari', employer='Schmidt, Torp and Schultz', department='Training', model_year=1997, last_updated=datetime.datetime(2017, 10, 27, 23, 41, 17), last_name='Livick', language='Pashto', vehicle_model='Sephia', gender='Female')\n",
            "combined_type(ssn='411-43-4217', vehicle_make='Buick', employee_id='27-0379629', created=datetime.datetime(2016, 9, 20, 2, 3, 16), first_name='Cull', employer='Senger, Schuppe and Mueller', department='Marketing', model_year=1986, last_updated=datetime.datetime(2017, 2, 19, 23, 2, 59), last_name='Noddle', language='Spanish', vehicle_model='Century', gender='Male')\n",
            "combined_type(ssn='411-79-4655', vehicle_make='Toyota', employee_id='07-9043060', created=datetime.datetime(2016, 7, 14, 9, 28, 46), first_name='Caterina', employer='Gleason LLC', department='Product Management', model_year=2003, last_updated=datetime.datetime(2017, 8, 9, 14, 41, 54), last_name='Coey', language='French', vehicle_model='Sienna', gender='Female')\n",
            "combined_type(ssn='412-50-9133', vehicle_make='Lamborghini', employee_id='04-4499468', created=datetime.datetime(2016, 7, 21, 9, 43, 50), first_name='Dianemarie', employer=\"O'Connell-Stiedemann\", department='Engineering', model_year=2003, last_updated=datetime.datetime(2017, 10, 11, 22, 13, 28), last_name='Withey', language='Czech', vehicle_model='Gallardo', gender='Female')\n",
            "combined_type(ssn='412-59-0452', vehicle_make='Honda', employee_id='62-4306075', created=datetime.datetime(2016, 6, 25, 1, 41, 3), first_name='Seamus', employer='VonRueden, Zboncak and Erdman', department='Legal', model_year=1985, last_updated=datetime.datetime(2017, 1, 3, 2, 43, 34), last_name='Petrusch', language='Spanish', vehicle_model='Prelude', gender='Male')\n",
            "combined_type(ssn='412-59-8022', vehicle_make='Lexus', employee_id='57-0199872', created=datetime.datetime(2016, 8, 22, 15, 34, 30), first_name='Brenna', employer='Dooley, Wehner and Mohr', department='Legal', model_year=1997, last_updated=datetime.datetime(2018, 3, 9, 7, 3, 20), last_name='Follin', language='Gagauz', vehicle_model='ES', gender='Female')\n",
            "combined_type(ssn='412-79-8951', vehicle_make='Volkswagen', employee_id='51-3888263', created=datetime.datetime(2016, 7, 10, 3, 10, 26), first_name='Giorgi', employer='Hilll, Hickle and Koelpin', department='Services', model_year=2011, last_updated=datetime.datetime(2017, 3, 21, 2, 17, 15), last_name='Sisnett', language='Tamil', vehicle_model='Golf', gender='Male')\n",
            "combined_type(ssn='413-14-3928', vehicle_make='Ford', employee_id='93-8500147', created=datetime.datetime(2016, 10, 19, 17, 31, 9), first_name='Shaine', employer='Treutel, Jerde and Bayer', department='Training', model_year=1996, last_updated=datetime.datetime(2017, 11, 26, 2, 48, 22), last_name='Liebrecht', language='Sotho', vehicle_model='Aerostar', gender='Male')\n",
            "combined_type(ssn='413-56-5613', vehicle_make='Dodge', employee_id='87-1098264', created=datetime.datetime(2016, 11, 13, 17, 24, 37), first_name='Anjanette', employer='Marks, Wilkinson and Kub', department='Services', model_year=1993, last_updated=datetime.datetime(2017, 7, 21, 23, 37, 57), last_name='Carnock', language='Nepali', vehicle_model='D150', gender='Female')\n",
            "combined_type(ssn='415-42-0898', vehicle_make='Ford', employee_id='56-9638561', created=datetime.datetime(2016, 3, 18, 12, 6, 24), first_name='Karlik', employer=\"Rempel-O'Connell\", department='Sales', model_year=2001, last_updated=datetime.datetime(2017, 3, 28, 0, 21, 53), last_name='Adlam', language='Mongolian', vehicle_model='Fiesta', gender='Male')\n",
            "combined_type(ssn='415-74-2251', vehicle_make='Ford', employee_id='54-0581511', created=datetime.datetime(2016, 5, 11, 17, 16, 49), first_name='Pattin', employer='Streich, Batz and Carter', department='Sales', model_year=1964, last_updated=datetime.datetime(2017, 10, 6, 22, 7, 21), last_name='Greson', language='Italian', vehicle_model='Mustang', gender='Male')\n",
            "combined_type(ssn='416-37-7763', vehicle_make='Mercedes-Benz', employee_id='72-8305549', created=datetime.datetime(2016, 1, 12, 22, 4, 30), first_name='Emelia', employer='Metz-Wolf', department='Business Development', model_year=1992, last_updated=datetime.datetime(2017, 12, 26, 1, 18, 50), last_name='Hancell', language='German', vehicle_model='SL-Class', gender='Female')\n",
            "combined_type(ssn='416-38-3607', vehicle_make='BMW', employee_id='93-7537715', created=datetime.datetime(2016, 1, 14, 22, 9, 43), first_name='Jerry', employer='Hartmann-Torphy', department='Training', model_year=1997, last_updated=datetime.datetime(2017, 4, 24, 20, 10, 44), last_name='Christin', language='Hebrew', vehicle_model='3 Series', gender='Male')\n",
            "combined_type(ssn='416-80-6367', vehicle_make='Lexus', employee_id='38-2848171', created=datetime.datetime(2016, 3, 24, 10, 33, 30), first_name='Myrna', employer='Ryan-Schulist', department='Business Development', model_year=2008, last_updated=datetime.datetime(2017, 9, 24, 13, 12, 9), last_name='Christoffe', language='Tok Pisin', vehicle_model='LX', gender='Female')\n",
            "combined_type(ssn='416-87-0469', vehicle_make='Ford', employee_id='02-0973225', created=datetime.datetime(2016, 5, 12, 3, 26, 59), first_name='Dannel', employer='Kertzmann Inc', department='Services', model_year=1999, last_updated=datetime.datetime(2018, 3, 26, 22, 14, 13), last_name='Whyffen', language='Estonian', vehicle_model='Windstar', gender='Male')\n",
            "combined_type(ssn='418-72-1888', vehicle_make='Mitsubishi', employee_id='91-4798424', created=datetime.datetime(2016, 1, 12, 12, 19, 29), first_name='Roddy', employer='Heidenreich-Schmitt', department='Training', model_year=1996, last_updated=datetime.datetime(2018, 2, 23, 9, 23, 21), last_name='Worman', language='Bosnian', vehicle_model='Pajero', gender='Male')\n",
            "combined_type(ssn='418-99-6659', vehicle_make='Mitsubishi', employee_id='70-3957124', created=datetime.datetime(2016, 5, 26, 7, 11, 49), first_name='Grenville', employer=\"O'Keefe Group\", department='Product Management', model_year=2008, last_updated=datetime.datetime(2017, 3, 27, 3, 7, 59), last_name='Gulliver', language='Ndebele', vehicle_model='Lancer Evolution', gender='Male')\n",
            "combined_type(ssn='420-46-7789', vehicle_make='Chevrolet', employee_id='65-7085477', created=datetime.datetime(2016, 8, 24, 14, 54, 22), first_name='Steffie', employer='Schroeder LLC', department='Engineering', model_year=2005, last_updated=datetime.datetime(2017, 1, 25, 20, 25, 19), last_name='Britto', language='New Zealand Sign Language', vehicle_model='Express 2500', gender='Female')\n",
            "combined_type(ssn='420-52-3813', vehicle_make='Buick', employee_id='40-5829646', created=datetime.datetime(2016, 9, 21, 0, 55, 20), first_name='Arnaldo', employer='Osinski, Tillman and Rowe', department='Business Development', model_year=2006, last_updated=datetime.datetime(2017, 8, 26, 23, 48, 42), last_name='Balsdone', language='Zulu', vehicle_model='LaCrosse', gender='Male')\n",
            "combined_type(ssn='421-01-2511', vehicle_make='Ford', employee_id='27-4093007', created=datetime.datetime(2016, 7, 31, 17, 41, 15), first_name='Mikaela', employer='Wyman and Sons', department='Support', model_year=2012, last_updated=datetime.datetime(2018, 3, 19, 13, 36, 26), last_name='Andrivot', language='English', vehicle_model='F350', gender='Female')\n",
            "combined_type(ssn='421-13-9794', vehicle_make='Mitsubishi', employee_id='80-4320276', created=datetime.datetime(2016, 6, 12, 16, 21, 5), first_name='Minne', employer='Kunde Group', department='Engineering', model_year=1996, last_updated=datetime.datetime(2018, 2, 4, 11, 45, 24), last_name='Measey', language='Danish', vehicle_model='Eclipse', gender='Female')\n",
            "combined_type(ssn='421-20-3448', vehicle_make='Ford', employee_id='25-2477756', created=datetime.datetime(2016, 10, 8, 3, 4, 54), first_name='Alie', employer='Orn, Willms and Torp', department='Support', model_year=1998, last_updated=datetime.datetime(2017, 7, 8, 17, 17, 10), last_name='Gerauld', language='Khmer', vehicle_model='Crown Victoria', gender='Female')\n",
            "combined_type(ssn='421-88-7316', vehicle_make='Toyota', employee_id='23-9748703', created=datetime.datetime(2016, 10, 17, 16, 59, 29), first_name='Cherie', employer='Sanford, Becker and Nienow', department='Product Management', model_year=1993, last_updated=datetime.datetime(2017, 9, 23, 23, 50, 31), last_name='Yeudall', language='Dutch', vehicle_model='Xtra', gender='Female')\n",
            "combined_type(ssn='422-67-4000', vehicle_make='Acura', employee_id='94-6937073', created=datetime.datetime(2016, 4, 22, 0, 21, 3), first_name='Corby', employer='Halvorson, Hammes and Jerde', department='Training', model_year=2008, last_updated=datetime.datetime(2017, 1, 17, 5, 4, 19), last_name='Boyington', language='Sotho', vehicle_model='MDX', gender='Male')\n",
            "combined_type(ssn='423-62-1820', vehicle_make='Mitsubishi', employee_id='64-1589266', created=datetime.datetime(2016, 4, 30, 8, 57, 45), first_name='Ruddy', employer='Cole-Reinger', department='Accounting', model_year=1992, last_updated=datetime.datetime(2017, 12, 1, 8, 15, 53), last_name='Ingerson', language='Maori', vehicle_model='GTO', gender='Male')\n",
            "combined_type(ssn='423-88-4721', vehicle_make='Toyota', employee_id='19-6964711', created=datetime.datetime(2016, 11, 10, 17, 1, 50), first_name='Trip', employer='Cruickshank-Collins', department='Support', model_year=2008, last_updated=datetime.datetime(2017, 7, 20, 7, 25, 25), last_name='Postlewhite', language='Polish', vehicle_model='Yaris', gender='Male')\n",
            "combined_type(ssn='424-22-9138', vehicle_make='Oldsmobile', employee_id='35-7283373', created=datetime.datetime(2016, 8, 2, 9, 33, 28), first_name='Farand', employer='Windler-Hudson', department='Accounting', model_year=2000, last_updated=datetime.datetime(2018, 2, 12, 19, 29, 28), last_name='Huggon', language='Indonesian', vehicle_model='Silhouette', gender='Female')\n",
            "combined_type(ssn='424-91-0692', vehicle_make='Ford', employee_id='68-7788538', created=datetime.datetime(2016, 2, 2, 7, 49, 10), first_name='Jeanie', employer='Harvey-Schumm', department='Services', model_year=2008, last_updated=datetime.datetime(2018, 1, 6, 3, 9, 36), last_name='Titchard', language='Swati', vehicle_model='Escape', gender='Female')\n",
            "combined_type(ssn='424-92-0863', vehicle_make='Suzuki', employee_id='89-2869707', created=datetime.datetime(2016, 1, 16, 17, 5, 35), first_name='Halley', employer='King Group', department='Research and Development', model_year=1996, last_updated=datetime.datetime(2017, 11, 1, 16, 49, 4), last_name='Mendenhall', language='Thai', vehicle_model='Sidekick', gender='Female')\n",
            "combined_type(ssn='426-09-8331', vehicle_make='Mercedes-Benz', employee_id='30-6717008', created=datetime.datetime(2016, 3, 14, 6, 27, 54), first_name='Enrico', employer='Ondricka LLC', department='Services', model_year=1985, last_updated=datetime.datetime(2017, 10, 1, 18, 25, 4), last_name='Balentyne', language='Arabic', vehicle_model='S-Class', gender='Male')\n",
            "combined_type(ssn='426-33-4523', vehicle_make='Chrysler', employee_id='43-2632272', created=datetime.datetime(2016, 10, 13, 14, 8, 2), first_name='Bibbie', employer='Sporer Inc', department='Legal', model_year=2001, last_updated=datetime.datetime(2017, 2, 13, 11, 48, 3), last_name='Lardge', language='Spanish', vehicle_model='Town & Country', gender='Female')\n",
            "combined_type(ssn='426-52-3410', vehicle_make='Toyota', employee_id='95-7119223', created=datetime.datetime(2016, 6, 29, 12, 35, 4), first_name='Deeyn', employer='Harris-Rau', department='Marketing', model_year=2009, last_updated=datetime.datetime(2017, 11, 23, 10, 8, 43), last_name='Feldberg', language='Lithuanian', vehicle_model='FJ Cruiser', gender='Female')\n",
            "combined_type(ssn='426-61-5374', vehicle_make='GMC', employee_id='42-1512295', created=datetime.datetime(2016, 6, 27, 21, 25, 46), first_name='Adolph', employer='Hayes LLC', department='Support', model_year=2006, last_updated=datetime.datetime(2017, 11, 7, 2, 19, 49), last_name='Effemy', language='Norwegian', vehicle_model='Sierra Hybrid', gender='Male')\n",
            "combined_type(ssn='427-12-4625', vehicle_make='Mercury', employee_id='98-3531089', created=datetime.datetime(2016, 4, 16, 3, 42, 23), first_name='Ethelin', employer='Franecki-Block', department='Marketing', model_year=1989, last_updated=datetime.datetime(2017, 1, 20, 11, 24, 18), last_name='Huck', language='Bosnian', vehicle_model='Cougar', gender='Female')\n",
            "combined_type(ssn='427-36-0095', vehicle_make='Audi', employee_id='68-2794098', created=datetime.datetime(2016, 5, 4, 1, 28, 15), first_name='Shandee', employer='Wiza Group', department='Sales', model_year=2010, last_updated=datetime.datetime(2017, 3, 20, 10, 29), last_name='Hawthorne', language='Gujarati', vehicle_model='S5', gender='Female')\n",
            "combined_type(ssn='427-96-6355', vehicle_make='Maserati', employee_id='07-5724630', created=datetime.datetime(2016, 3, 26, 14, 44, 8), first_name='Fidel', employer='Casper, Ward and Gleason', department='Marketing', model_year=2002, last_updated=datetime.datetime(2017, 2, 5, 10, 0, 57), last_name='Gutierrez', language='Yiddish', vehicle_model='Spyder', gender='Male')\n",
            "combined_type(ssn='428-19-2946', vehicle_make='Ford', employee_id='50-1450543', created=datetime.datetime(2016, 6, 25, 0, 25, 32), first_name='Dionne', employer='Hegmann-Gerlach', department='Business Development', model_year=2012, last_updated=datetime.datetime(2017, 11, 14, 5, 58, 52), last_name='Bibb', language='Moldovan', vehicle_model='Taurus', gender='Female')\n",
            "combined_type(ssn='428-79-0781', vehicle_make='Ford', employee_id='80-0769995', created=datetime.datetime(2016, 1, 7, 17, 54, 14), first_name='Mame', employer='Heller, Conroy and Ankunding', department='Accounting', model_year=1993, last_updated=datetime.datetime(2018, 1, 30, 1, 53, 32), last_name='Criag', language='Catalan', vehicle_model='Taurus', gender='Female')\n",
            "combined_type(ssn='429-43-7811', vehicle_make='Lexus', employee_id='08-0407985', created=datetime.datetime(2016, 4, 11, 17, 59, 59), first_name='Felice', employer='Jones-Wiegand', department='Accounting', model_year=2005, last_updated=datetime.datetime(2018, 1, 10, 3, 50, 33), last_name='Mound', language='Ndebele', vehicle_model='GX', gender='Male')\n",
            "combined_type(ssn='430-27-6236', vehicle_make='Chevrolet', employee_id='36-0554843', created=datetime.datetime(2016, 3, 31, 17, 41, 32), first_name='Sergent', employer='Rutherford-McCullough', department='Support', model_year=2008, last_updated=datetime.datetime(2017, 1, 22, 19, 48, 31), last_name='Tomich', language='Tajik', vehicle_model='Colorado', gender='Male')\n",
            "combined_type(ssn='430-27-8349', vehicle_make='Porsche', employee_id='32-7478326', created=datetime.datetime(2016, 10, 10, 6, 18, 11), first_name='Boigie', employer='Paucek Inc', department='Marketing', model_year=1991, last_updated=datetime.datetime(2017, 3, 28, 5, 50, 36), last_name='Balsdon', language='German', vehicle_model=944, gender='Male')\n",
            "combined_type(ssn='432-25-8923', vehicle_make='Lincoln', employee_id='78-5974454', created=datetime.datetime(2016, 12, 12, 14, 10, 18), first_name='Violetta', employer='Stracke Group', department='Research and Development', model_year=2008, last_updated=datetime.datetime(2017, 4, 19, 6, 56, 28), last_name='Remmer', language='Swati', vehicle_model='MKX', gender='Female')\n",
            "combined_type(ssn='433-08-7855', vehicle_make='Pontiac', employee_id='21-8725671', created=datetime.datetime(2016, 6, 9, 5, 57, 46), first_name='Cleo', employer='Barrows, Koelpin and Wehner', department='Research and Development', model_year=2009, last_updated=datetime.datetime(2017, 9, 12, 3, 46, 54), last_name='Sivior', language='Latvian', vehicle_model='Torrent', gender='Female')\n",
            "combined_type(ssn='434-41-2365', vehicle_make='Ford', employee_id='05-1069904', created=datetime.datetime(2016, 5, 28, 2, 57, 41), first_name='Obed', employer='Kozey-Prohaska', department='Training', model_year=1987, last_updated=datetime.datetime(2018, 3, 7, 21, 39, 34), last_name='Podmore', language='Georgian', vehicle_model='F-Series', gender='Male')\n",
            "combined_type(ssn='435-34-0115', vehicle_make='Volkswagen', employee_id='82-9119836', created=datetime.datetime(2016, 10, 11, 9, 43, 33), first_name='Chicky', employer='Considine, Parker and Johnson', department='Product Management', model_year=2000, last_updated=datetime.datetime(2017, 7, 26, 21, 0, 27), last_name='Carlos', language='Tamil', vehicle_model='Passat', gender='Male')\n",
            "combined_type(ssn='438-80-0430', vehicle_make='Ford', employee_id='47-2658940', created=datetime.datetime(2016, 4, 7, 13, 46, 40), first_name='Gunilla', employer='Armstrong, Koelpin and Moen', department='Business Development', model_year=2009, last_updated=datetime.datetime(2017, 4, 12, 15, 23, 42), last_name='Navan', language='Moldovan', vehicle_model='Explorer', gender='Female')\n",
            "combined_type(ssn='438-82-1280', vehicle_make='Cadillac', employee_id='66-2492097', created=datetime.datetime(2016, 3, 4, 4, 21, 54), first_name='Salvatore', employer='Bartell Inc', department='Support', model_year=2009, last_updated=datetime.datetime(2017, 1, 25, 7, 27, 19), last_name='Noirel', language='Somali', vehicle_model='XLR', gender='Male')\n",
            "combined_type(ssn='440-60-4889', vehicle_make='Honda', employee_id='90-8995592', created=datetime.datetime(2016, 11, 5, 0, 32, 24), first_name='Evanne', employer='Schaefer, McDermott and Bradtke', department='Training', model_year=2011, last_updated=datetime.datetime(2017, 5, 30, 16, 28, 38), last_name='Loosely', language='Ndebele', vehicle_model='Ridgeline', gender='Female')\n",
            "combined_type(ssn='441-19-1376', vehicle_make='Plymouth', employee_id='29-5174958', created=datetime.datetime(2016, 2, 19, 4, 17, 24), first_name='Harwell', employer='Thiel-Treutel', department='Services', model_year=1999, last_updated=datetime.datetime(2018, 1, 24, 7, 14, 25), last_name='Wharf', language='Kazakh', vehicle_model='Grand Voyager', gender='Male')\n",
            "combined_type(ssn='442-15-1994', vehicle_make='Volkswagen', employee_id='44-0045608', created=datetime.datetime(2016, 10, 21, 20, 2, 2), first_name='Niven', employer='Rempel Group', department='Engineering', model_year=1994, last_updated=datetime.datetime(2017, 6, 2, 3, 8, 57), last_name='Kaser', language='Macedonian', vehicle_model='Golf III', gender='Male')\n",
            "combined_type(ssn='444-01-3823', vehicle_make='GMC', employee_id='94-7813244', created=datetime.datetime(2016, 11, 16, 18, 37, 33), first_name='Cello', employer='Windler Group', department='Accounting', model_year=2012, last_updated=datetime.datetime(2017, 9, 2, 18, 15, 57), last_name='Caddock', language='Spanish', vehicle_model='Yukon', gender='Male')\n",
            "combined_type(ssn='445-49-0727', vehicle_make='Nissan', employee_id='84-1354848', created=datetime.datetime(2016, 12, 27, 17, 57, 26), first_name='Bessy', employer='Bartell-Gerlach', department='Legal', model_year=1999, last_updated=datetime.datetime(2018, 3, 24, 9, 24, 5), last_name='Howford', language='Indonesian', vehicle_model='Frontier', gender='Female')\n",
            "combined_type(ssn='445-62-3843', vehicle_make='Hummer', employee_id='28-7153034', created=datetime.datetime(2016, 10, 16, 16, 44, 53), first_name='Forest', employer='Mohr, Hilll and Bechtelar', department='Support', model_year=1994, last_updated=datetime.datetime(2017, 1, 13, 18, 31, 14), last_name='MacAughtrie', language='Irish Gaelic', vehicle_model='H1', gender='Male')\n",
            "combined_type(ssn='446-16-1946', vehicle_make='Jaguar', employee_id='04-8895735', created=datetime.datetime(2016, 5, 17, 15, 29, 10), first_name='Jacinthe', employer='Vandervort-Gutmann', department='Research and Development', model_year=2002, last_updated=datetime.datetime(2017, 8, 30, 3, 24, 42), last_name='Hackworth', language='Albanian', vehicle_model='XJ Series', gender='Female')\n",
            "combined_type(ssn='446-73-1646', vehicle_make='Buick', employee_id='35-3731698', created=datetime.datetime(2016, 8, 25, 11, 40), first_name='Pattie', employer='Fadel Group', department='Product Management', model_year=1996, last_updated=datetime.datetime(2017, 3, 23, 15, 31, 56), last_name='Ludwig', language='West Frisian', vehicle_model='Regal', gender='Female')\n",
            "combined_type(ssn='447-05-5935', vehicle_make='Rolls-Royce', employee_id='12-3089911', created=datetime.datetime(2016, 10, 6, 10, 0, 52), first_name='Artemas', employer='Kihn-Cruickshank', department='Human Resources', model_year=2009, last_updated=datetime.datetime(2017, 4, 3, 1, 29, 4), last_name='Slay', language='Somali', vehicle_model='Phantom', gender='Male')\n",
            "combined_type(ssn='449-38-7421', vehicle_make='Buick', employee_id='13-5097028', created=datetime.datetime(2016, 5, 21, 19, 50, 24), first_name='Hakeem', employer='Johns and Sons', department='Accounting', model_year=2004, last_updated=datetime.datetime(2018, 2, 27, 14, 25, 58), last_name='Pinke', language='Georgian', vehicle_model='Century', gender='Male')\n",
            "combined_type(ssn='450-04-1023', vehicle_make='Chevrolet', employee_id='89-8442395', created=datetime.datetime(2016, 6, 22, 3, 21, 34), first_name='Oliver', employer='Grant and Sons', department='Engineering', model_year=1978, last_updated=datetime.datetime(2017, 9, 13, 9, 36, 24), last_name='Strathe', language='Georgian', vehicle_model='Corvette', gender='Male')\n",
            "combined_type(ssn='450-36-3771', vehicle_make='Ford', employee_id='20-3523742', created=datetime.datetime(2016, 3, 14, 0, 49, 29), first_name='Anette', employer=\"O'Conner-Breitenberg\", department='Research and Development', model_year=1997, last_updated=datetime.datetime(2017, 5, 24, 19, 44, 3), last_name='Reast', language='Guarana', vehicle_model='Mustang', gender='Female')\n",
            "combined_type(ssn='450-36-4561', vehicle_make='BMW', employee_id='90-5931946', created=datetime.datetime(2016, 5, 21, 9, 39, 41), first_name='Nate', employer='Reynolds-Balistreri', department='Legal', model_year=2009, last_updated=datetime.datetime(2017, 11, 10, 13, 36, 59), last_name='Poulglais', language='Albanian', vehicle_model='X6', gender='Male')\n",
            "combined_type(ssn='450-45-5021', vehicle_make='Dodge', employee_id='78-9992528', created=datetime.datetime(2016, 9, 15, 7, 50, 46), first_name='Ailis', employer='Morissette, Pfeffer and Bayer', department='Legal', model_year=2011, last_updated=datetime.datetime(2017, 11, 6, 2, 16, 54), last_name='Allsebrook', language='Amharic', vehicle_model='Avenger', gender='Female')\n",
            "combined_type(ssn='450-56-7231', vehicle_make='Ford', employee_id='29-7672381', created=datetime.datetime(2016, 10, 19, 19, 51, 48), first_name='Xavier', employer='Frami and Sons', department='Product Management', model_year=2005, last_updated=datetime.datetime(2017, 2, 23, 22, 8, 8), last_name='Garnar', language='Danish', vehicle_model='Freestyle', gender='Male')\n",
            "combined_type(ssn='450-96-2075', vehicle_make='Lamborghini', employee_id='10-0200558', created=datetime.datetime(2016, 5, 16, 11, 50, 1), first_name='Den', employer='Rodriguez, Macejkovic and Watsica', department='Legal', model_year=1999, last_updated=datetime.datetime(2017, 9, 30, 12, 58, 3), last_name='Deniset', language='Portuguese', vehicle_model='Diablo', gender='Male')\n",
            "combined_type(ssn='451-34-5996', vehicle_make='Volkswagen', employee_id='32-3330955', created=datetime.datetime(2016, 11, 18, 23, 32, 30), first_name='Dolly', employer='Gutmann, Gibson and Hilpert', department='Research and Development', model_year=2011, last_updated=datetime.datetime(2017, 6, 22, 16, 58, 53), last_name='Pennyman', language='Spanish', vehicle_model='Routan', gender='Female')\n",
            "combined_type(ssn='451-52-8000', vehicle_make='Ford', employee_id='50-2072742', created=datetime.datetime(2016, 10, 1, 17, 6, 58), first_name='Donia', employer='Hilpert, Douglas and Kunde', department='Human Resources', model_year=1997, last_updated=datetime.datetime(2018, 2, 24, 11, 3, 12), last_name='Daville', language='Burmese', vehicle_model='Club Wagon', gender='Female')\n",
            "combined_type(ssn='452-26-9999', vehicle_make='Subaru', employee_id='42-9807742', created=datetime.datetime(2016, 10, 8, 12, 12, 44), first_name='Donny', employer='Hagenes Group', department='Sales', model_year=1998, last_updated=datetime.datetime(2018, 3, 14, 13, 42, 20), last_name='Garham', language='French', vehicle_model='Legacy', gender='Male')\n",
            "combined_type(ssn='453-99-0644', vehicle_make='GMC', employee_id='19-1571650', created=datetime.datetime(2016, 4, 1, 9, 4, 33), first_name='Justen', employer='Feil-Kohler', department='Sales', model_year=2008, last_updated=datetime.datetime(2017, 5, 3, 10, 18, 32), last_name='Bloxam', language='Nepali', vehicle_model='Acadia', gender='Male')\n",
            "combined_type(ssn='454-36-4371', vehicle_make='Toyota', employee_id='91-4250428', created=datetime.datetime(2016, 3, 16, 5, 44, 54), first_name='Bald', employer='Jast, Larson and Beer', department='Product Management', model_year=1997, last_updated=datetime.datetime(2017, 9, 26, 23, 21, 7), last_name='Beckerleg', language='Fijian', vehicle_model='T100 Xtra', gender='Male')\n",
            "combined_type(ssn='455-67-4513', vehicle_make='Mercedes-Benz', employee_id='09-1746419', created=datetime.datetime(2016, 10, 13, 16, 32, 4), first_name='Zedekiah', employer='Lesch-Lubowitz', department='Support', model_year=2000, last_updated=datetime.datetime(2017, 2, 11, 20, 36), last_name='Cayzer', language='Quechua', vehicle_model='SLK-Class', gender='Male')\n",
            "combined_type(ssn='455-74-3521', vehicle_make='Ford', employee_id='36-5486054', created=datetime.datetime(2016, 11, 20, 22, 55, 38), first_name='Nesta', employer='Berge-Davis', department='Services', model_year=2001, last_updated=datetime.datetime(2018, 1, 2, 16, 4, 54), last_name='Gascone', language='Croatian', vehicle_model='Mustang', gender='Female')\n",
            "combined_type(ssn='455-83-6194', vehicle_make='Chevrolet', employee_id='70-4587194', created=datetime.datetime(2016, 3, 27, 17, 29, 18), first_name='Arney', employer='Pfannerstill Group', department='Legal', model_year=2005, last_updated=datetime.datetime(2018, 1, 17, 2, 49, 29), last_name='Podmore', language='Gagauz', vehicle_model='Impala', gender='Male')\n",
            "combined_type(ssn='457-55-3869', vehicle_make='Mitsubishi', employee_id='03-4271568', created=datetime.datetime(2016, 11, 21, 7, 59, 43), first_name='Lotta', employer='Wisozk, Ward and Hodkiewicz', department='Human Resources', model_year=2003, last_updated=datetime.datetime(2017, 9, 5, 17, 48, 10), last_name='Maclean', language='Swati', vehicle_model='Pajero', gender='Female')\n",
            "combined_type(ssn='457-57-7890', vehicle_make='Pontiac', employee_id='29-4800617', created=datetime.datetime(2016, 1, 30, 9, 47, 45), first_name='Corey', employer='Collins Inc', department='Training', model_year=2002, last_updated=datetime.datetime(2017, 4, 26, 10, 48, 34), last_name='Learned', language='Punjabi', vehicle_model='Grand Am', gender='Female')\n",
            "combined_type(ssn='457-97-6863', vehicle_make='Lincoln', employee_id='29-7833067', created=datetime.datetime(2016, 12, 28, 7, 58, 53), first_name='Ray', employer='Mueller-Kshlerin', department='Engineering', model_year=1984, last_updated=datetime.datetime(2017, 4, 23, 6, 22, 38), last_name='Ledamun', language='Czech', vehicle_model='Continental', gender='Male')\n",
            "combined_type(ssn='458-97-0499', vehicle_make='Mitsubishi', employee_id='63-5978335', created=datetime.datetime(2016, 11, 24, 23, 17, 7), first_name='Ginny', employer='Ortiz and Sons', department='Marketing', model_year=2011, last_updated=datetime.datetime(2018, 1, 9, 9, 39, 25), last_name=\"O'Keenan\", language='Maltese', vehicle_model='Endeavor', gender='Female')\n",
            "combined_type(ssn='459-29-7955', vehicle_make='Infiniti', employee_id='31-0951657', created=datetime.datetime(2016, 1, 30, 15, 41, 29), first_name='Buddy', employer='Schowalter, Zemlak and Reinger', department='Engineering', model_year=2007, last_updated=datetime.datetime(2017, 2, 20, 1, 40, 33), last_name='Titmus', language='Gujarati', vehicle_model='G', gender='Male')\n",
            "combined_type(ssn='460-65-0321', vehicle_make='Subaru', employee_id='75-7860653', created=datetime.datetime(2016, 5, 24, 10, 31, 27), first_name='Katine', employer='Ebert-Davis', department='Human Resources', model_year=2006, last_updated=datetime.datetime(2017, 1, 21, 12, 2, 3), last_name='Rosenstiel', language='Macedonian', vehicle_model='Impreza', gender='Female')\n",
            "combined_type(ssn='461-84-2780', vehicle_make='GMC', employee_id='40-4530675', created=datetime.datetime(2016, 5, 4, 17, 39, 40), first_name='Shaun', employer='McGlynn Inc', department='Legal', model_year=1993, last_updated=datetime.datetime(2017, 4, 22, 5, 6, 42), last_name='Duff', language='Gujarati', vehicle_model='Sonoma', gender='Female')\n",
            "combined_type(ssn='461-88-8139', vehicle_make='GMC', employee_id='73-6733606', created=datetime.datetime(2016, 11, 27, 13, 35, 53), first_name='Marion', employer='Aufderhar Inc', department='Services', model_year=1997, last_updated=datetime.datetime(2017, 7, 17, 1, 5, 33), last_name='Mitkcov', language='German', vehicle_model='Jimmy', gender='Male')\n",
            "combined_type(ssn='464-21-1055', vehicle_make='Subaru', employee_id='54-3652698', created=datetime.datetime(2016, 10, 22, 4, 13, 2), first_name='Arie', employer='Beer Inc', department='Engineering', model_year=1998, last_updated=datetime.datetime(2017, 3, 8, 21, 0, 6), last_name='Matthieson', language='Kashmiri', vehicle_model='Impreza', gender='Male')\n",
            "combined_type(ssn='464-84-7886', vehicle_make='Cadillac', employee_id='11-9251197', created=datetime.datetime(2016, 7, 17, 23, 20, 6), first_name='Etan', employer='Casper Inc', department='Services', model_year=2008, last_updated=datetime.datetime(2017, 12, 14, 0, 31, 20), last_name='Bellsham', language='Tswana', vehicle_model='Escalade EXT', gender='Male')\n",
            "combined_type(ssn='465-96-0362', vehicle_make='Chevrolet', employee_id='45-2091683', created=datetime.datetime(2016, 9, 19, 12, 24, 30), first_name='Woody', employer='Kub LLC', department='Business Development', model_year=2012, last_updated=datetime.datetime(2018, 1, 9, 17, 48, 15), last_name='Maw', language='Kurdish', vehicle_model='Cruze', gender='Male')\n",
            "combined_type(ssn='468-88-6064', vehicle_make='Suzuki', employee_id='08-3656779', created=datetime.datetime(2016, 7, 17, 16, 40, 15), first_name='Dante', employer='Auer-Kiehn', department='Accounting', model_year=2012, last_updated=datetime.datetime(2017, 2, 15, 8, 15, 23), last_name='Puddicombe', language='Nepali', vehicle_model='Equator', gender='Male')\n",
            "combined_type(ssn='469-08-0077', vehicle_make='Mercury', employee_id='94-2874769', created=datetime.datetime(2016, 5, 14, 9, 33, 5), first_name='Garret', employer='Marvin, Christiansen and Roberts', department='Legal', model_year=2000, last_updated=datetime.datetime(2017, 6, 14, 13, 2, 33), last_name='Zanussii', language='Hungarian', vehicle_model='Mountaineer', gender='Male')\n",
            "combined_type(ssn='469-96-1488', vehicle_make='Chevrolet', employee_id='84-4676473', created=datetime.datetime(2016, 8, 9, 16, 15, 51), first_name='Euphemia', employer='Reichert-Hagenes', department='Human Resources', model_year=2008, last_updated=datetime.datetime(2017, 8, 14, 12, 32, 41), last_name='Neggrini', language='Guarana', vehicle_model='Silverado 1500', gender='Female')\n",
            "combined_type(ssn='470-34-5693', vehicle_make='Geo', employee_id='82-1905325', created=datetime.datetime(2016, 3, 4, 17, 20, 43), first_name='Hashim', employer='Glover Group', department='Business Development', model_year=1992, last_updated=datetime.datetime(2018, 1, 17, 7, 45, 56), last_name='Priddie', language='Maori', vehicle_model='Metro', gender='Male')\n",
            "combined_type(ssn='470-94-7669', vehicle_make='Chevrolet', employee_id='34-7928148', created=datetime.datetime(2016, 9, 29, 21, 11, 35), first_name='Julio', employer='Little, Olson and Towne', department='Sales', model_year=2002, last_updated=datetime.datetime(2017, 1, 9, 13, 30, 21), last_name='Lune', language='Assamese', vehicle_model='Express 1500', gender='Male')\n",
            "combined_type(ssn='471-28-1745', vehicle_make='Mazda', employee_id='59-7638002', created=datetime.datetime(2016, 1, 26, 14, 19, 48), first_name='Bernarr', employer='McClure, McCullough and Raynor', department='Research and Development', model_year=1990, last_updated=datetime.datetime(2017, 4, 6, 14, 11, 14), last_name='Giral', language='Sotho', vehicle_model='RX-7', gender='Male')\n",
            "combined_type(ssn='472-23-0389', vehicle_make='Mazda', employee_id='70-0955510', created=datetime.datetime(2016, 3, 31, 2, 5, 29), first_name='Valli', employer='Kirlin, MacGyver and Roberts', department='Sales', model_year=2010, last_updated=datetime.datetime(2017, 12, 27, 0, 54, 25), last_name='Khristoforov', language='Bosnian', vehicle_model='Mazda5', gender='Female')\n",
            "combined_type(ssn='473-65-7769', vehicle_make='Land Rover', employee_id='91-5207907', created=datetime.datetime(2016, 2, 20, 10, 5, 47), first_name='Aguie', employer='Leuschke, Sawayn and Hayes', department='Business Development', model_year=2006, last_updated=datetime.datetime(2017, 6, 21, 0, 26, 1), last_name='Rennix', language='Japanese', vehicle_model='Range Rover', gender='Male')\n",
            "combined_type(ssn='474-56-7332', vehicle_make='Plymouth', employee_id='59-8005391', created=datetime.datetime(2016, 10, 11, 17, 27, 22), first_name='Maurine', employer='Ebert, McClure and Heidenreich', department='Legal', model_year=1995, last_updated=datetime.datetime(2017, 5, 14, 2, 24, 24), last_name='Stopps', language='Tswana', vehicle_model='Voyager', gender='Female')\n",
            "combined_type(ssn='474-95-1775', vehicle_make='Ford', employee_id='57-2599249', created=datetime.datetime(2016, 2, 29, 11, 15, 51), first_name='Ivette', employer='Schneider-Bins', department='Human Resources', model_year=2003, last_updated=datetime.datetime(2017, 4, 26, 11, 28, 52), last_name='Whitewood', language='Korean', vehicle_model='Explorer Sport', gender='Female')\n",
            "combined_type(ssn='475-15-5394', vehicle_make='Honda', employee_id='62-0346347', created=datetime.datetime(2016, 11, 2, 8, 59, 11), first_name='Orson', employer='Wiegand, Kling and Morissette', department='Services', model_year=2008, last_updated=datetime.datetime(2017, 7, 9, 23, 2, 51), last_name='Lafferty', language='Kyrgyz', vehicle_model='Accord', gender='Male')\n",
            "combined_type(ssn='475-24-1840', vehicle_make='Chevrolet', employee_id='14-7267200', created=datetime.datetime(2016, 5, 23, 12, 26, 58), first_name='Malachi', employer='Pollich, Feil and Collins', department='Human Resources', model_year=2008, last_updated=datetime.datetime(2017, 7, 21, 14, 36, 25), last_name='Skittrell', language='Azeri', vehicle_model='HHR', gender='Male')\n",
            "combined_type(ssn='475-47-5055', vehicle_make='Maserati', employee_id='18-8550581', created=datetime.datetime(2016, 11, 2, 11, 16, 12), first_name='Casey', employer='Walsh, Pfeffer and Schoen', department='Research and Development', model_year=1984, last_updated=datetime.datetime(2017, 11, 20, 17, 35, 46), last_name='Worrill', language='Lithuanian', vehicle_model='Biturbo', gender='Male')\n",
            "combined_type(ssn='476-27-0948', vehicle_make='Dodge', employee_id='20-0508733', created=datetime.datetime(2016, 12, 18, 8, 11, 30), first_name='Laurette', employer='Jast-Gibson', department='Business Development', model_year=2001, last_updated=datetime.datetime(2017, 9, 14, 1, 54, 7), last_name='Kearney', language='West Frisian', vehicle_model='Intrepid', gender='Female')\n",
            "combined_type(ssn='476-68-8276', vehicle_make='Porsche', employee_id='97-1193479', created=datetime.datetime(2016, 9, 5, 15, 34, 54), first_name='Geoffrey', employer='Mante LLC', department='Accounting', model_year=1994, last_updated=datetime.datetime(2017, 2, 13, 16, 0, 40), last_name='Whisker', language='Czech', vehicle_model=928, gender='Male')\n",
            "combined_type(ssn='477-30-0077', vehicle_make='Chevrolet', employee_id='18-2982615', created=datetime.datetime(2016, 6, 24, 6, 45, 29), first_name='Giulio', employer='Goldner, Wunsch and Batz', department='Accounting', model_year=1995, last_updated=datetime.datetime(2017, 2, 1, 11, 36, 17), last_name='Bilsland', language='Macedonian', vehicle_model='G-Series G20', gender='Male')\n",
            "combined_type(ssn='478-14-8720', vehicle_make='GMC', employee_id='48-0357798', created=datetime.datetime(2016, 5, 15, 21, 32, 1), first_name='Brittan', employer='Fahey-McKenzie', department='Human Resources', model_year=1999, last_updated=datetime.datetime(2017, 6, 6, 4, 46, 36), last_name='Vaen', language='Hindi', vehicle_model='1500 Club Coupe', gender='Female')\n",
            "combined_type(ssn='479-49-8804', vehicle_make='Smart', employee_id='05-6804255', created=datetime.datetime(2016, 11, 18, 19, 32, 59), first_name='Serene', employer='Mueller and Sons', department='Accounting', model_year=2008, last_updated=datetime.datetime(2017, 1, 21, 6, 1, 32), last_name='Giannotti', language='Latvian', vehicle_model='Fortwo', gender='Female')\n",
            "combined_type(ssn='480-53-4039', vehicle_make='Chevrolet', employee_id='96-0328224', created=datetime.datetime(2016, 11, 15, 19, 25, 39), first_name='Reg', employer='Morissette, Hodkiewicz and Cruickshank', department='Research and Development', model_year=2010, last_updated=datetime.datetime(2017, 2, 22, 18, 6, 16), last_name='Waskett', language='Chinese', vehicle_model='Express 3500', gender='Male')\n",
            "combined_type(ssn='481-10-0098', vehicle_make='Subaru', employee_id='18-6803295', created=datetime.datetime(2016, 8, 20, 18, 20, 53), first_name='Kitti', employer='Pagac, Huel and Larson', department='Research and Development', model_year=1985, last_updated=datetime.datetime(2018, 2, 19, 1, 34, 19), last_name='Morrad', language='Kashmiri', vehicle_model='XT', gender='Female')\n",
            "combined_type(ssn='481-87-3503', vehicle_make='Pontiac', employee_id='06-4130016', created=datetime.datetime(2016, 11, 8, 22, 52, 19), first_name='Delano', employer='Cole, Deckow and Schiller', department='Engineering', model_year=1994, last_updated=datetime.datetime(2017, 2, 10, 0, 39, 18), last_name='Mitchall', language='Northern Sotho', vehicle_model='Grand Prix', gender='Male')\n",
            "combined_type(ssn='482-88-7624', vehicle_make='Hyundai', employee_id='66-5967372', created=datetime.datetime(2016, 11, 2, 21, 38, 29), first_name='Corbet', employer='Reinger and Sons', department='Services', model_year=2010, last_updated=datetime.datetime(2017, 11, 21, 14, 53, 45), last_name='Paireman', language='Finnish', vehicle_model='Sonata', gender='Male')\n",
            "combined_type(ssn='484-06-9645', vehicle_make='Mercury', employee_id='63-8757762', created=datetime.datetime(2016, 10, 10, 23, 52, 51), first_name='Clay', employer='Johnson-Howe', department='Training', model_year=1991, last_updated=datetime.datetime(2017, 10, 11, 15, 42, 52), last_name='Suttle', language='Fijian', vehicle_model='Tracer', gender='Male')\n",
            "combined_type(ssn='484-36-9255', vehicle_make='Ford', employee_id='24-6330473', created=datetime.datetime(2016, 6, 19, 6, 1, 54), first_name='Kristos', employer='Sawayn-Weissnat', department='Research and Development', model_year=1987, last_updated=datetime.datetime(2018, 1, 25, 8, 26, 42), last_name='Garard', language='Irish Gaelic', vehicle_model='Aerostar', gender='Male')\n",
            "combined_type(ssn='484-75-5799', vehicle_make='BMW', employee_id='90-3382110', created=datetime.datetime(2016, 4, 12, 21, 29, 16), first_name='Rhea', employer='Collins-Schulist', department='Marketing', model_year=2005, last_updated=datetime.datetime(2018, 2, 12, 3, 45, 42), last_name='Braniff', language='Somali', vehicle_model='M3', gender='Female')\n",
            "combined_type(ssn='485-39-0911', vehicle_make='Volvo', employee_id='48-7268338', created=datetime.datetime(2016, 2, 5, 20, 25, 20), first_name='Rea', employer='Schamberger-Hirthe', department='Services', model_year=2003, last_updated=datetime.datetime(2017, 6, 22, 9, 16, 31), last_name='Buzek', language='Croatian', vehicle_model='S40', gender='Female')\n",
            "combined_type(ssn='485-79-8123', vehicle_make='Chevrolet', employee_id='96-4640239', created=datetime.datetime(2016, 4, 10, 23, 54, 6), first_name='Tish', employer='Fadel-Gleichner', department='Legal', model_year=1995, last_updated=datetime.datetime(2017, 12, 14, 14, 16, 43), last_name='Kemston', language='Khmer', vehicle_model='Corvette', gender='Female')\n",
            "combined_type(ssn='486-87-1145', vehicle_make='Chevrolet', employee_id='33-5310332', created=datetime.datetime(2016, 11, 13, 3, 27, 50), first_name='Elyn', employer='Treutel-Lubowitz', department='Services', model_year=1993, last_updated=datetime.datetime(2017, 8, 25, 5, 12, 39), last_name='Djokovic', language='French', vehicle_model='Beretta', gender='Female')\n",
            "combined_type(ssn='488-02-2147', vehicle_make='GMC', employee_id='88-6411669', created=datetime.datetime(2016, 2, 6, 0, 37, 37), first_name='Gannon', employer='Schmeler, Bayer and Baumbach', department='Services', model_year=2007, last_updated=datetime.datetime(2017, 6, 29, 9, 51, 8), last_name='Le Strange', language='Malayalam', vehicle_model='Acadia', gender='Male')\n",
            "combined_type(ssn='488-12-7780', vehicle_make='Jaguar', employee_id='21-0489175', created=datetime.datetime(2016, 2, 12, 15, 0, 37), first_name='Cynthea', employer='Turcotte Inc', department='Product Management', model_year=2010, last_updated=datetime.datetime(2018, 1, 3, 0, 42, 57), last_name='Ioannou', language='Yiddish', vehicle_model='XJ', gender='Female')\n",
            "combined_type(ssn='489-57-4785', vehicle_make='Volkswagen', employee_id='15-1025261', created=datetime.datetime(2016, 11, 24, 17, 13, 2), first_name='Waldemar', employer='Howe-Stroman', department='Engineering', model_year=1999, last_updated=datetime.datetime(2017, 8, 7, 18, 36, 46), last_name='Coast', language='Korean', vehicle_model='New Beetle', gender='Male')\n",
            "combined_type(ssn='491-36-8648', vehicle_make='Audi', employee_id='39-0346183', created=datetime.datetime(2016, 12, 20, 6, 17, 3), first_name='Rice', employer='Morar-Wisozk', department='Product Management', model_year=1986, last_updated=datetime.datetime(2017, 12, 26, 12, 31, 30), last_name='Revans', language='New Zealand Sign Language', vehicle_model='4000s', gender='Male')\n",
            "combined_type(ssn='491-38-3802', vehicle_make='Mazda', employee_id='19-9467528', created=datetime.datetime(2016, 4, 18, 17, 30, 21), first_name='Marcella', employer='Wisoky, Ziemann and West', department='Training', model_year=2006, last_updated=datetime.datetime(2017, 6, 12, 8, 23, 59), last_name='Paolinelli', language='Swati', vehicle_model='Mazda5', gender='Female')\n",
            "combined_type(ssn='491-89-4895', vehicle_make='Oldsmobile', employee_id='88-1654825', created=datetime.datetime(2016, 12, 30, 13, 11, 12), first_name='Orv', employer='Lang LLC', department='Training', model_year=1993, last_updated=datetime.datetime(2017, 2, 23, 13, 35, 45), last_name='Kelland', language='Belarusian', vehicle_model='Cutlass Supreme', gender='Male')\n",
            "combined_type(ssn='491-90-1059', vehicle_make='Mazda', employee_id='49-2130459', created=datetime.datetime(2016, 1, 4, 5, 49, 42), first_name='Mic', employer='Miller and Sons', department='Engineering', model_year=1992, last_updated=datetime.datetime(2017, 10, 17, 14, 24, 43), last_name='Chaunce', language='Afrikaans', vehicle_model=323, gender='Male')\n",
            "combined_type(ssn='493-09-7972', vehicle_make='Dodge', employee_id='86-5333401', created=datetime.datetime(2016, 8, 22, 21, 53, 32), first_name='Agretha', employer='Zemlak, Heathcote and Turner', department='Training', model_year=1995, last_updated=datetime.datetime(2017, 9, 11, 12, 20, 58), last_name='Wickes', language='French', vehicle_model='Grand Caravan', gender='Female')\n",
            "combined_type(ssn='495-15-7369', vehicle_make='Audi', employee_id='10-5534710', created=datetime.datetime(2016, 9, 22, 15, 8, 1), first_name='Lowrance', employer='Beer-Homenick', department='Accounting', model_year=2012, last_updated=datetime.datetime(2017, 8, 18, 14, 59, 24), last_name='Prandin', language='Ndebele', vehicle_model='A6', gender='Male')\n",
            "combined_type(ssn='495-62-6374', vehicle_make='Chevrolet', employee_id='11-5891434', created=datetime.datetime(2016, 1, 16, 18, 49, 45), first_name='Nevsa', employer='Gerlach LLC', department='Services', model_year=2000, last_updated=datetime.datetime(2017, 5, 21, 12, 26, 52), last_name='Boarder', language='Czech', vehicle_model='Lumina', gender='Female')\n",
            "combined_type(ssn='495-64-2134', vehicle_make='Volkswagen', employee_id='59-3433099', created=datetime.datetime(2016, 4, 8, 1, 38, 27), first_name='Noami', employer='Heller-Connelly', department='Sales', model_year=1999, last_updated=datetime.datetime(2018, 3, 2, 1, 16, 24), last_name='Schuck', language='Nepali', vehicle_model='Jetta', gender='Female')\n",
            "combined_type(ssn='495-89-7170', vehicle_make='Lotus', employee_id='87-9179375', created=datetime.datetime(2016, 9, 24, 7, 22, 27), first_name='Allina', employer='Boyer, Gorczany and Langosh', department='Research and Development', model_year=2010, last_updated=datetime.datetime(2017, 5, 23, 7, 30, 28), last_name='Caldecot', language='New Zealand Sign Language', vehicle_model='Evora', gender='Female')\n",
            "combined_type(ssn='497-69-5399', vehicle_make='Toyota', employee_id='05-4747935', created=datetime.datetime(2016, 1, 18, 5, 30, 53), first_name='Wanids', employer='Grant Group', department='Business Development', model_year=2009, last_updated=datetime.datetime(2017, 2, 20, 4, 42, 30), last_name='Bengoechea', language='German', vehicle_model='Prius', gender='Female')\n",
            "combined_type(ssn='497-73-2347', vehicle_make='Volkswagen', employee_id='80-7946674', created=datetime.datetime(2016, 8, 27, 16, 39, 43), first_name='Rana', employer='Bartell, Friesen and Lakin', department='Sales', model_year=2010, last_updated=datetime.datetime(2017, 9, 26, 9, 31), last_name='Duhig', language='Indonesian', vehicle_model='New Beetle', gender='Female')\n",
            "combined_type(ssn='499-07-4759', vehicle_make='Honda', employee_id='90-8245850', created=datetime.datetime(2016, 8, 7, 22, 19, 21), first_name='Kizzee', employer='Beer-Nitzsche', department='Product Management', model_year=2006, last_updated=datetime.datetime(2017, 6, 28, 19, 29, 35), last_name='MacTrustam', language='Norwegian', vehicle_model='Civic Si', gender='Female')\n",
            "combined_type(ssn='499-31-5371', vehicle_make='Saab', employee_id='25-5073339', created=datetime.datetime(2016, 3, 3, 9, 43, 37), first_name='Valenka', employer='Hickle and Sons', department='Research and Development', model_year=2003, last_updated=datetime.datetime(2017, 8, 3, 14, 53, 32), last_name='Triplett', language='Somali', vehicle_model='5-Sep', gender='Female')\n",
            "combined_type(ssn='499-42-7583', vehicle_make='Rolls-Royce', employee_id='54-0211778', created=datetime.datetime(2016, 10, 13, 12, 17, 20), first_name='Rafaellle', employer='Schamberger Inc', department='Engineering', model_year=2009, last_updated=datetime.datetime(2017, 2, 7, 13, 22, 7), last_name='Caush', language='Kashmiri', vehicle_model='Phantom', gender='Male')\n",
            "combined_type(ssn='499-44-2439', vehicle_make='Ford', employee_id='63-2531739', created=datetime.datetime(2016, 8, 18, 13, 2, 28), first_name='Ediva', employer='Bernier Inc', department='Product Management', model_year=2001, last_updated=datetime.datetime(2017, 1, 14, 6, 0, 18), last_name='Flucks', language='French', vehicle_model='F250', gender='Female')\n",
            "combined_type(ssn='499-99-6990', vehicle_make='Lexus', employee_id='68-0338752', created=datetime.datetime(2016, 5, 6, 0, 10, 50), first_name='Dewie', employer='Heathcote Group', department='Engineering', model_year=2000, last_updated=datetime.datetime(2017, 3, 26, 14, 57, 22), last_name='Madge', language='Sotho', vehicle_model='LX', gender='Male')\n",
            "combined_type(ssn='500-14-7051', vehicle_make='Ford', employee_id='46-8589624', created=datetime.datetime(2016, 10, 28, 8, 25, 21), first_name='Giulio', employer='Reynolds Group', department='Product Management', model_year=1992, last_updated=datetime.datetime(2018, 1, 24, 13, 21, 41), last_name='Pilley', language='Maltese', vehicle_model='Escort', gender='Male')\n",
            "combined_type(ssn='500-41-0658', vehicle_make='Lexus', employee_id='07-3041032', created=datetime.datetime(2016, 11, 8, 7, 20, 24), first_name='Jobie', employer='DuBuque Group', department='Legal', model_year=1999, last_updated=datetime.datetime(2017, 11, 8, 13, 53, 40), last_name='Pyvis', language='Zulu', vehicle_model='LS', gender='Female')\n",
            "combined_type(ssn='500-45-7881', vehicle_make='Mitsubishi', employee_id='61-8045719', created=datetime.datetime(2016, 6, 13, 15, 45, 12), first_name='Stan', employer='Bednar-Stanton', department='Human Resources', model_year=1991, last_updated=datetime.datetime(2018, 3, 9, 3, 36, 58), last_name='Drinkall', language='Tetum', vehicle_model='Galant', gender='Male')\n",
            "combined_type(ssn='500-71-6995', vehicle_make='Chevrolet', employee_id='53-2515201', created=datetime.datetime(2016, 12, 11, 2, 47, 2), first_name='Orazio', employer='Kunde, Schroeder and Rippin', department='Sales', model_year=2008, last_updated=datetime.datetime(2017, 11, 11, 11, 44, 40), last_name='Izakoff', language='Romanian', vehicle_model='Impala', gender='Male')\n",
            "combined_type(ssn='502-07-7030', vehicle_make='GMC', employee_id='52-6171139', created=datetime.datetime(2016, 7, 23, 18, 58, 32), first_name='Twyla', employer='Dooley LLC', department='Support', model_year=2009, last_updated=datetime.datetime(2017, 10, 26, 19, 52, 50), last_name='Klaessen', language='Persian', vehicle_model='Savana 1500', gender='Female')\n",
            "combined_type(ssn='502-60-9632', vehicle_make='Mercedes-Benz', employee_id='12-9952383', created=datetime.datetime(2016, 3, 22, 0, 13, 6), first_name='Ibrahim', employer='Klein-Kemmer', department='Engineering', model_year=1993, last_updated=datetime.datetime(2017, 6, 3, 22, 56, 33), last_name='Eddleston', language='New Zealand Sign Language', vehicle_model='400SEL', gender='Male')\n",
            "combined_type(ssn='504-41-5919', vehicle_make='Honda', employee_id='84-0216207', created=datetime.datetime(2016, 4, 16, 22, 38, 46), first_name='Cullen', employer='Blanda, Yundt and Swaniawski', department='Support', model_year=2006, last_updated=datetime.datetime(2018, 1, 6, 23, 34, 37), last_name='Christin', language='Montenegrin', vehicle_model='Pilot', gender='Male')\n",
            "combined_type(ssn='505-37-1520', vehicle_make='Kia', employee_id='59-4571753', created=datetime.datetime(2016, 8, 8, 3, 35, 14), first_name='Adams', employer='Sanford and Sons', department='Business Development', model_year=1996, last_updated=datetime.datetime(2017, 1, 7, 15, 46, 57), last_name='Watford', language='Azeri', vehicle_model='Sephia', gender='Male')\n",
            "combined_type(ssn='505-88-6030', vehicle_make='GMC', employee_id='67-2670417', created=datetime.datetime(2016, 1, 9, 23, 30, 5), first_name='Derby', employer='Halvorson-Hansen', department='Human Resources', model_year=2000, last_updated=datetime.datetime(2018, 3, 11, 11, 28, 33), last_name=\"O'Kerin\", language='Dhivehi', vehicle_model='Sierra 3500', gender='Male')\n",
            "combined_type(ssn='506-02-3957', vehicle_make='Chevrolet', employee_id='45-2093562', created=datetime.datetime(2016, 8, 19, 22, 34, 54), first_name='Tilly', employer='Boyer, Hermann and Bayer', department='Legal', model_year=2002, last_updated=datetime.datetime(2018, 3, 26, 10, 53, 26), last_name='Joubert', language='Danish', vehicle_model='Silverado', gender='Female')\n",
            "combined_type(ssn='507-40-9429', vehicle_make='Ford', employee_id='93-5811559', created=datetime.datetime(2016, 1, 27, 19, 38, 50), first_name='Forster', employer='Spinka LLC', department='Training', model_year=2011, last_updated=datetime.datetime(2017, 9, 1, 7, 6, 29), last_name='Dronsfield', language='Gagauz', vehicle_model='Fiesta', gender='Male')\n",
            "combined_type(ssn='507-67-9726', vehicle_make='GMC', employee_id='90-2546569', created=datetime.datetime(2016, 1, 4, 8, 12, 11), first_name='Sinclare', employer='Hintz Inc', department='Engineering', model_year=1993, last_updated=datetime.datetime(2018, 2, 28, 0, 40, 9), last_name='Swatheridge', language='Croatian', vehicle_model='Jimmy', gender='Male')\n",
            "combined_type(ssn='507-99-2334', vehicle_make='Chevrolet', employee_id='06-9224510', created=datetime.datetime(2016, 3, 18, 21, 41, 49), first_name='Sunny', employer='Treutel and Sons', department='Marketing', model_year=2001, last_updated=datetime.datetime(2017, 11, 28, 1, 35, 58), last_name='Vasilik', language='Kurdish', vehicle_model='Tahoe', gender='Male')\n",
            "combined_type(ssn='508-54-3168', vehicle_make='Chevrolet', employee_id='30-8759158', created=datetime.datetime(2016, 9, 29, 5, 12, 25), first_name='Helaine', employer='Wunsch-Ruecker', department='Accounting', model_year=1997, last_updated=datetime.datetime(2017, 11, 29, 20, 18, 24), last_name='Accombe', language='Dutch', vehicle_model='Express 1500', gender='Female')\n",
            "combined_type(ssn='509-39-1128', vehicle_make='Chevrolet', employee_id='33-1047074', created=datetime.datetime(2016, 7, 20, 14, 12, 38), first_name='Carie', employer='Cartwright-Emmerich', department='Marketing', model_year=2000, last_updated=datetime.datetime(2017, 4, 30, 21, 28, 1), last_name='Leneham', language='Telugu', vehicle_model='Silverado 1500', gender='Female')\n",
            "combined_type(ssn='509-46-4927', vehicle_make='Acura', employee_id='08-6600485', created=datetime.datetime(2016, 4, 1, 5, 21, 28), first_name='Nickie', employer='Lemke, Schinner and Schaefer', department='Training', model_year=2002, last_updated=datetime.datetime(2017, 2, 11, 13, 16, 34), last_name='Dabes', language='Sotho', vehicle_model='TL', gender='Female')\n",
            "combined_type(ssn='510-34-4633', vehicle_make='Lexus', employee_id='06-3287177', created=datetime.datetime(2016, 10, 12, 20, 26, 13), first_name='Alie', employer=\"O'Conner-Smith\", department='Support', model_year=2000, last_updated=datetime.datetime(2018, 3, 15, 14, 30, 23), last_name='Jennaway', language='Indonesian', vehicle_model='GS', gender='Female')\n",
            "combined_type(ssn='511-28-0914', vehicle_make='Hyundai', employee_id='03-5704062', created=datetime.datetime(2016, 6, 20, 6, 31, 35), first_name='Gardie', employer='Anderson-Marks', department='Accounting', model_year=2003, last_updated=datetime.datetime(2017, 6, 17, 13, 44, 58), last_name='Ravenshaw', language='Persian', vehicle_model='XG350', gender='Male')\n",
            "combined_type(ssn='511-95-4867', vehicle_make='Suzuki', employee_id='03-0999485', created=datetime.datetime(2016, 6, 6, 12, 4, 55), first_name='Ethelda', employer='Ebert-Carter', department='Sales', model_year=2005, last_updated=datetime.datetime(2017, 4, 5, 12, 51, 50), last_name='Helversen', language='Zulu', vehicle_model='Reno', gender='Female')\n",
            "combined_type(ssn='513-68-2140', vehicle_make='Ford', employee_id='87-2245870', created=datetime.datetime(2016, 10, 7, 18, 48, 30), first_name='Hussein', employer='MacGyver, Reilly and Kreiger', department='Research and Development', model_year=2012, last_updated=datetime.datetime(2017, 9, 19, 21, 11, 5), last_name='Filov', language='Greek', vehicle_model='F350', gender='Male')\n",
            "combined_type(ssn='515-47-1848', vehicle_make='Volkswagen', employee_id='47-6735310', created=datetime.datetime(2016, 10, 5, 9, 32, 19), first_name='Darla', employer='Batz-Effertz', department='Marketing', model_year=1987, last_updated=datetime.datetime(2018, 2, 9, 16, 48, 47), last_name='Leftridge', language='Finnish', vehicle_model='Passat', gender='Female')\n",
            "combined_type(ssn='517-05-0600', vehicle_make='Ford', employee_id='41-3035896', created=datetime.datetime(2016, 9, 21, 3, 51, 44), first_name='Lindy', employer='Feeney Group', department='Sales', model_year=2000, last_updated=datetime.datetime(2017, 7, 12, 19, 7, 36), last_name='Losz', language='Kurdish', vehicle_model='Expedition', gender='Female')\n",
            "combined_type(ssn='519-15-9299', vehicle_make='Ford', employee_id='92-9925821', created=datetime.datetime(2016, 1, 17, 5, 2, 15), first_name='Hamid', employer='Osinski-Willms', department='Research and Development', model_year=1987, last_updated=datetime.datetime(2018, 2, 26, 7, 12, 29), last_name='Angier', language='Chinese', vehicle_model='LTD Crown Victoria', gender='Male')\n",
            "combined_type(ssn='519-58-0341', vehicle_make='Audi', employee_id='37-4950737', created=datetime.datetime(2016, 5, 27, 11, 39), first_name='Barny', employer='Beier, Stroman and Davis', department='Engineering', model_year=2005, last_updated=datetime.datetime(2018, 2, 26, 7, 41, 7), last_name='Matiashvili', language='Lao', vehicle_model='TT', gender='Male')\n",
            "combined_type(ssn='520-81-0974', vehicle_make='Chevrolet', employee_id='55-6401615', created=datetime.datetime(2016, 7, 31, 23, 47, 30), first_name='Ofella', employer='Breitenberg-Wiza', department='Accounting', model_year=1998, last_updated=datetime.datetime(2017, 3, 21, 6, 39, 8), last_name='Navarro', language='Kurdish', vehicle_model='Metro', gender='Female')\n",
            "combined_type(ssn='521-82-5436', vehicle_make='Ford', employee_id='92-0051110', created=datetime.datetime(2016, 9, 9, 10, 55, 6), first_name='Barb', employer='Hartmann Inc', department='Support', model_year=1994, last_updated=datetime.datetime(2017, 4, 2, 21, 7, 7), last_name='Riolfi', language='Swedish', vehicle_model='Tempo', gender='Female')\n",
            "combined_type(ssn='522-54-3565', vehicle_make='Pontiac', employee_id='98-6205708', created=datetime.datetime(2016, 1, 16, 8, 3, 57), first_name='Geri', employer='Boyle LLC', department='Engineering', model_year=2001, last_updated=datetime.datetime(2018, 2, 10, 22, 53, 17), last_name='Vigar', language='Quechua', vehicle_model='Aztek', gender='Male')\n",
            "combined_type(ssn='523-07-2359', vehicle_make='Buick', employee_id='58-8430473', created=datetime.datetime(2016, 4, 9, 22, 37, 45), first_name='Tanney', employer='Heller Group', department='Human Resources', model_year=2004, last_updated=datetime.datetime(2017, 6, 24, 1, 4, 12), last_name='Izsak', language='Haitian Creole', vehicle_model='Rendezvous', gender='Male')\n",
            "combined_type(ssn='523-44-3601', vehicle_make='Pontiac', employee_id='89-1531099', created=datetime.datetime(2016, 12, 30, 19, 25, 42), first_name='Goldina', employer='Bartoletti-Cole', department='Training', model_year=2001, last_updated=datetime.datetime(2017, 5, 23, 22, 5, 29), last_name='Di Claudio', language='Spanish', vehicle_model='Bonneville', gender='Female')\n",
            "combined_type(ssn='523-53-2420', vehicle_make='Ford', employee_id='59-7811224', created=datetime.datetime(2016, 12, 8, 23, 10, 55), first_name='Amerigo', employer='Bechtelar-Cartwright', department='Legal', model_year=2003, last_updated=datetime.datetime(2017, 4, 16, 15, 8, 46), last_name='Lipyeat', language='Tsonga', vehicle_model='Explorer', gender='Male')\n",
            "combined_type(ssn='523-85-4846', vehicle_make='Porsche', employee_id='75-7751638', created=datetime.datetime(2016, 6, 17, 8, 35, 44), first_name='Noella', employer='Fisher Inc', department='Marketing', model_year=1983, last_updated=datetime.datetime(2017, 9, 5, 5, 22, 25), last_name='Samsonsen', language='Kurdish', vehicle_model=944, gender='Female')\n",
            "combined_type(ssn='523-91-3280', vehicle_make='Jaguar', employee_id='76-0505788', created=datetime.datetime(2016, 3, 26, 23, 24, 45), first_name='Gordie', employer=\"Spinka, Lueilwitz and D'Amore\", department='Research and Development', model_year=2007, last_updated=datetime.datetime(2017, 2, 27, 10, 20, 16), last_name='Billin', language='Swati', vehicle_model='X-Type', gender='Male')\n",
            "combined_type(ssn='524-28-4450', vehicle_make='Volkswagen', employee_id='46-8358553', created=datetime.datetime(2016, 10, 27, 10, 52, 19), first_name='Jake', employer='Hammes-Mueller', department='Research and Development', model_year=1990, last_updated=datetime.datetime(2017, 12, 9, 1, 32, 24), last_name='Klimpt', language='Somali', vehicle_model='Golf', gender='Male')\n",
            "combined_type(ssn='526-45-2767', vehicle_make='Dodge', employee_id='11-5034156', created=datetime.datetime(2016, 1, 17, 3, 59, 2), first_name='Kayle', employer='Kuhic, Grady and Gislason', department='Engineering', model_year=2002, last_updated=datetime.datetime(2018, 1, 2, 4, 36, 28), last_name='Milsom', language='Dhivehi', vehicle_model='Grand Caravan', gender='Female')\n",
            "combined_type(ssn='526-98-9361', vehicle_make='Chevrolet', employee_id='98-3030999', created=datetime.datetime(2016, 1, 16, 10, 59, 40), first_name='Cathe', employer='Mitchell-Kovacek', department='Product Management', model_year=2001, last_updated=datetime.datetime(2017, 4, 3, 2, 58, 51), last_name='Allsupp', language='Marathi', vehicle_model='Camaro', gender='Female')\n",
            "combined_type(ssn='527-55-3736', vehicle_make='Cadillac', employee_id='62-5455166', created=datetime.datetime(2016, 4, 4, 7, 13, 28), first_name='Auguste', employer='Balistreri Inc', department='Human Resources', model_year=2005, last_updated=datetime.datetime(2018, 2, 21, 4, 37, 24), last_name='Hammersley', language='Malayalam', vehicle_model='CTS', gender='Female')\n",
            "combined_type(ssn='527-72-3566', vehicle_make='GMC', employee_id='23-7507091', created=datetime.datetime(2016, 6, 11, 17, 0, 6), first_name='Colin', employer='Fritsch, Hammes and Treutel', department='Legal', model_year=1992, last_updated=datetime.datetime(2017, 2, 27, 21, 21, 23), last_name='Paddington', language='Pashto', vehicle_model='Jimmy', gender='Male')\n",
            "combined_type(ssn='528-10-7051', vehicle_make='Honda', employee_id='78-7465299', created=datetime.datetime(2016, 8, 19, 5, 19, 6), first_name='Leonie', employer='Gerlach, Haag and Marvin', department='Research and Development', model_year=2009, last_updated=datetime.datetime(2017, 4, 14, 11, 4, 37), last_name='Sondon', language='Romanian', vehicle_model='Element', gender='Female')\n",
            "combined_type(ssn='528-26-2803', vehicle_make='Mercury', employee_id='39-5211495', created=datetime.datetime(2016, 4, 20, 5, 9, 52), first_name='See', employer='Lubowitz-Denesik', department='Product Management', model_year=1994, last_updated=datetime.datetime(2017, 12, 30, 12, 19, 16), last_name='Ettery', language='Albanian', vehicle_model='Tracer', gender='Male')\n",
            "combined_type(ssn='531-38-1945', vehicle_make='Saturn', employee_id='75-0604341', created=datetime.datetime(2016, 6, 13, 23, 32, 48), first_name='Eveleen', employer='Fisher Inc', department='Research and Development', model_year=1995, last_updated=datetime.datetime(2017, 9, 12, 13, 13, 39), last_name='Mignot', language='Japanese', vehicle_model='S-Series', gender='Female')\n",
            "combined_type(ssn='531-53-5021', vehicle_make='Suzuki', employee_id='60-5481083', created=datetime.datetime(2016, 5, 25, 19, 48, 13), first_name='Deerdre', employer='Bartoletti, Rice and Conn', department='Support', model_year=1990, last_updated=datetime.datetime(2017, 6, 26, 3, 17, 29), last_name='Chaudron', language='Oriya', vehicle_model='SJ', gender='Female')\n",
            "combined_type(ssn='531-67-4340', vehicle_make='Corbin', employee_id='59-3260666', created=datetime.datetime(2016, 3, 23, 15, 2, 3), first_name='Ody', employer='Hartmann-Douglas', department='Engineering', model_year=1999, last_updated=datetime.datetime(2017, 7, 10, 19, 25, 58), last_name='Blaxley', language='Bosnian', vehicle_model='Sparrow', gender='Male')\n",
            "combined_type(ssn='531-79-0948', vehicle_make='Mercedes-Benz', employee_id='65-8117050', created=datetime.datetime(2016, 3, 18, 20, 2, 24), first_name='Britney', employer='Kuhn, Beahan and Yost', department='Legal', model_year=2002, last_updated=datetime.datetime(2017, 12, 2, 10, 39, 2), last_name='Sweeten', language='Indonesian', vehicle_model='S-Class', gender='Female')\n",
            "combined_type(ssn='532-36-4145', vehicle_make='Toyota', employee_id='98-8943921', created=datetime.datetime(2016, 3, 25, 18, 33, 23), first_name='Dorry', employer='Brekke, Graham and Hilll', department='Product Management', model_year=2009, last_updated=datetime.datetime(2017, 2, 12, 2, 37, 42), last_name='Ditty', language='Kannada', vehicle_model='Tundra', gender='Female')\n",
            "combined_type(ssn='534-50-6091', vehicle_make='Chevrolet', employee_id='99-4129786', created=datetime.datetime(2016, 11, 19, 11, 20, 44), first_name='Florencia', employer='Mills, Schmidt and Orn', department='Training', model_year=2007, last_updated=datetime.datetime(2017, 3, 27, 6, 4, 16), last_name='Abramof', language='Arabic', vehicle_model='Silverado', gender='Female')\n",
            "combined_type(ssn='534-68-0554', vehicle_make='Infiniti', employee_id='15-4335836', created=datetime.datetime(2016, 1, 24, 5, 51, 46), first_name='Ira', employer='Kihn, McClure and Windler', department='Accounting', model_year=2011, last_updated=datetime.datetime(2018, 1, 27, 23, 43, 57), last_name='Swanne', language='Chinese', vehicle_model='G37', gender='Female')\n",
            "combined_type(ssn='534-86-8290', vehicle_make='Jeep', employee_id='10-4744999', created=datetime.datetime(2016, 7, 5, 3, 37, 45), first_name='Ester', employer='Fay, Mayert and Howe', department='Services', model_year=2000, last_updated=datetime.datetime(2017, 2, 13, 19, 32, 45), last_name='Jepson', language='Albanian', vehicle_model='Grand Cherokee', gender='Female')\n",
            "combined_type(ssn='535-66-3671', vehicle_make='Mazda', employee_id='35-1341288', created=datetime.datetime(2016, 10, 15, 7, 9), first_name='Felisha', employer='Bogisich-Turcotte', department='Support', model_year=1999, last_updated=datetime.datetime(2017, 7, 30, 3, 32, 59), last_name='Blackden', language='Hiri Motu', vehicle_model='Millenia', gender='Female')\n",
            "combined_type(ssn='536-23-6599', vehicle_make='Cadillac', employee_id='22-8560347', created=datetime.datetime(2016, 8, 21, 3, 28, 18), first_name='Laughton', employer='Lang-Kris', department='Accounting', model_year=2005, last_updated=datetime.datetime(2018, 3, 8, 16, 15, 55), last_name='Iozefovich', language='Tok Pisin', vehicle_model='XLR', gender='Male')\n",
            "combined_type(ssn='537-46-3891', vehicle_make='Mitsubishi', employee_id='77-7092355', created=datetime.datetime(2016, 12, 25, 8, 29, 3), first_name='Clay', employer='Collier-Lakin', department='Services', model_year=1996, last_updated=datetime.datetime(2018, 1, 25, 23, 6, 25), last_name='Bapty', language='Burmese', vehicle_model='Truck', gender='Male')\n",
            "combined_type(ssn='538-46-6131', vehicle_make='Jaguar', employee_id='25-0536089', created=datetime.datetime(2016, 9, 9, 23, 20, 32), first_name='Steward', employer='Miller Inc', department='Training', model_year=2002, last_updated=datetime.datetime(2017, 6, 10, 5, 7, 7), last_name='Glennard', language='Papiamento', vehicle_model='XJ Series', gender='Male')\n",
            "combined_type(ssn='538-68-5142', vehicle_make='Jeep', employee_id='69-2518819', created=datetime.datetime(2016, 5, 14, 11, 3, 8), first_name='Grantley', employer='Williamson-King', department='Services', model_year=1997, last_updated=datetime.datetime(2018, 1, 20, 5, 23), last_name='Berthel', language='Nepali', vehicle_model='Grand Cherokee', gender='Male')\n",
            "combined_type(ssn='541-54-1497', vehicle_make='BMW', employee_id='00-8992736', created=datetime.datetime(2016, 10, 18, 14, 16, 21), first_name='Katuscha', employer=\"O'Kon, Ortiz and Cassin\", department='Engineering', model_year=2007, last_updated=datetime.datetime(2017, 11, 27, 22, 19, 21), last_name='Jovis', language='Irish Gaelic', vehicle_model='M5', gender='Female')\n",
            "combined_type(ssn='542-74-6343', vehicle_make='Buick', employee_id='77-4056991', created=datetime.datetime(2016, 11, 16, 15, 8, 18), first_name='Raleigh', employer='Lubowitz LLC', department='Human Resources', model_year=1996, last_updated=datetime.datetime(2017, 8, 4, 1, 57, 18), last_name='Tamsett', language='Kurdish', vehicle_model='Riviera', gender='Male')\n",
            "combined_type(ssn='543-38-7657', vehicle_make='Lotus', employee_id='39-3672759', created=datetime.datetime(2016, 2, 2, 7, 3, 33), first_name='Kaja', employer='Erdman-Kulas', department='Marketing', model_year=2004, last_updated=datetime.datetime(2017, 1, 10, 10, 45, 24), last_name='Divisek', language='Estonian', vehicle_model='Esprit', gender='Female')\n",
            "combined_type(ssn='543-61-1911', vehicle_make='Dodge', employee_id='71-7133399', created=datetime.datetime(2016, 8, 19, 1, 38, 44), first_name='Alisa', employer='Towne, Skiles and Hintz', department='Training', model_year=1981, last_updated=datetime.datetime(2017, 4, 14, 1, 35, 24), last_name='Dacca', language='Romanian', vehicle_model='Aries', gender='Female')\n",
            "combined_type(ssn='543-67-6841', vehicle_make='Pontiac', employee_id='82-2479792', created=datetime.datetime(2016, 8, 24, 21, 30, 14), first_name='Rosemonde', employer='Wisoky, Fritsch and Turcotte', department='Legal', model_year=2003, last_updated=datetime.datetime(2017, 7, 31, 4, 4, 48), last_name='Shelp', language='Burmese', vehicle_model='Montana', gender='Female')\n",
            "combined_type(ssn='545-66-8802', vehicle_make='Ford', employee_id='68-3122262', created=datetime.datetime(2016, 6, 17, 14, 30, 31), first_name='Cassey', employer='Kuhn and Sons', department='Training', model_year=2009, last_updated=datetime.datetime(2017, 8, 31, 13, 48, 46), last_name='Gammage', language='English', vehicle_model='Mustang', gender='Female')\n",
            "combined_type(ssn='547-35-4478', vehicle_make='GMC', employee_id='70-8467527', created=datetime.datetime(2016, 9, 19, 1, 56, 36), first_name='Halsy', employer='Jacobson, Blick and Balistreri', department='Services', model_year=1997, last_updated=datetime.datetime(2017, 3, 11, 9, 8, 41), last_name='Goddard', language='Bosnian', vehicle_model='Safari', gender='Male')\n",
            "combined_type(ssn='548-72-2840', vehicle_make='Lamborghini', employee_id='51-6032504', created=datetime.datetime(2016, 5, 8, 20, 47, 30), first_name='Vite', employer='Fahey, Moore and Rogahn', department='Accounting', model_year=2003, last_updated=datetime.datetime(2017, 12, 20, 20, 20, 28), last_name='Burnsall', language='Sotho', vehicle_model='Gallardo', gender='Male')\n",
            "combined_type(ssn='549-90-2887', vehicle_make='GMC', employee_id='82-8312036', created=datetime.datetime(2016, 8, 25, 7, 14, 55), first_name='Brunhilda', employer='Gorczany, Green and VonRueden', department='Sales', model_year=1998, last_updated=datetime.datetime(2017, 12, 20, 0, 20, 19), last_name='Eilhermann', language='Papiamento', vehicle_model='Suburban 1500', gender='Female')\n",
            "combined_type(ssn='551-57-4018', vehicle_make='Volkswagen', employee_id='90-9959175', created=datetime.datetime(2016, 6, 18, 20, 47, 47), first_name='Magdalena', employer='Skiles-Botsford', department='Research and Development', model_year=2010, last_updated=datetime.datetime(2018, 3, 20, 20, 28, 18), last_name='Morland', language='Gagauz', vehicle_model='Passat', gender='Female')\n",
            "combined_type(ssn='551-92-2534', vehicle_make='Ford', employee_id='56-2381195', created=datetime.datetime(2016, 4, 27, 21, 47, 39), first_name='Merrill', employer='Wilderman-Champlin', department='Research and Development', model_year=1993, last_updated=datetime.datetime(2017, 9, 8, 5, 52, 48), last_name='Purviss', language='Armenian', vehicle_model='Bronco', gender='Male')\n",
            "combined_type(ssn='552-61-0289', vehicle_make='Infiniti', employee_id='24-2241367', created=datetime.datetime(2016, 5, 7, 2, 50, 28), first_name='Tom', employer='Eichmann Inc', department='Services', model_year=1996, last_updated=datetime.datetime(2017, 8, 31, 9, 48, 34), last_name='Wilmut', language='Pashto', vehicle_model='Q', gender='Male')\n",
            "combined_type(ssn='553-77-2419', vehicle_make='Chevrolet', employee_id='26-3330397', created=datetime.datetime(2016, 10, 28, 18, 26, 42), first_name='Ray', employer='Heller-Mueller', department='Legal', model_year=2008, last_updated=datetime.datetime(2017, 2, 1, 16, 22, 38), last_name='Warrick', language='Amharic', vehicle_model='Silverado', gender='Male')\n",
            "combined_type(ssn='555-99-5216', vehicle_make='Buick', employee_id='69-7765213', created=datetime.datetime(2016, 1, 31, 3, 29, 40), first_name='Ludovico', employer='Roob Group', department='Business Development', model_year=1985, last_updated=datetime.datetime(2018, 1, 27, 2, 43, 43), last_name=\"O'Cassidy\", language='English', vehicle_model='Somerset', gender='Male')\n",
            "combined_type(ssn='556-13-4040', vehicle_make='Volkswagen', employee_id='83-2806591', created=datetime.datetime(2016, 11, 27, 10, 43, 54), first_name='Mignonne', employer='Gutmann-Rau', department='Accounting', model_year=2002, last_updated=datetime.datetime(2017, 4, 30, 7, 12, 18), last_name='Beckett', language='Catalan', vehicle_model='GTI', gender='Female')\n",
            "combined_type(ssn='557-28-9953', vehicle_make='Buick', employee_id='77-4985187', created=datetime.datetime(2016, 12, 3, 5, 14, 30), first_name='Morie', employer='Stark, Cummings and Bauch', department='Services', model_year=1986, last_updated=datetime.datetime(2017, 11, 10, 10, 47, 29), last_name='Roon', language='Kurdish', vehicle_model='Skylark', gender='Male')\n",
            "combined_type(ssn='557-33-7476', vehicle_make='Infiniti', employee_id='64-2696828', created=datetime.datetime(2016, 10, 17, 21, 51, 4), first_name='Dean', employer='Gibson-Harvey', department='Support', model_year=2003, last_updated=datetime.datetime(2017, 8, 7, 22, 0, 46), last_name='Grimoldby', language='Burmese', vehicle_model='G', gender='Male')\n",
            "combined_type(ssn='557-77-8703', vehicle_make='Mazda', employee_id='80-3893845', created=datetime.datetime(2016, 2, 4, 16, 52, 53), first_name='Alayne', employer='Beatty-Stoltenberg', department='Training', model_year=1996, last_updated=datetime.datetime(2017, 6, 10, 19, 53, 49), last_name='Shackleford', language='Arabic', vehicle_model='MPV', gender='Female')\n",
            "combined_type(ssn='558-37-7838', vehicle_make='Mitsubishi', employee_id='22-8032150', created=datetime.datetime(2016, 7, 20, 11, 41, 19), first_name='Drucie', employer='Sipes Group', department='Product Management', model_year=1997, last_updated=datetime.datetime(2017, 6, 17, 0, 30), last_name='Andrick', language='New Zealand Sign Language', vehicle_model='Galant', gender='Female')\n",
            "combined_type(ssn='559-33-6365', vehicle_make='Hyundai', employee_id='61-0281247', created=datetime.datetime(2016, 9, 23, 17, 18, 33), first_name='Lew', employer='Moore-Grady', department='Sales', model_year=1998, last_updated=datetime.datetime(2018, 3, 28, 19, 40), last_name='Barbara', language='Kashmiri', vehicle_model='Accent', gender='Male')\n",
            "combined_type(ssn='559-54-7102', vehicle_make='Nissan', employee_id='99-8821201', created=datetime.datetime(2016, 5, 12, 13, 58, 49), first_name='Dareen', employer='Upton and Sons', department='Business Development', model_year=2004, last_updated=datetime.datetime(2017, 8, 9, 23, 42, 22), last_name='Stoneley', language='Arabic', vehicle_model='Quest', gender='Female')\n",
            "combined_type(ssn='560-06-2687', vehicle_make='Jeep', employee_id='74-3440904', created=datetime.datetime(2016, 12, 9, 6, 19, 35), first_name='Sidnee', employer='Breitenberg-Durgan', department='Human Resources', model_year=2010, last_updated=datetime.datetime(2017, 11, 28, 4, 40, 55), last_name='Potts', language='Malayalam', vehicle_model='Wrangler', gender='Male')\n",
            "combined_type(ssn='561-96-2313', vehicle_make='Jeep', employee_id='12-5612981', created=datetime.datetime(2016, 9, 6, 9, 33, 44), first_name='Torin', employer='Mohr and Sons', department='Marketing', model_year=1996, last_updated=datetime.datetime(2018, 2, 18, 12, 34, 56), last_name='Cockland', language='Sotho', vehicle_model='Grand Cherokee', gender='Male')\n",
            "combined_type(ssn='561-98-2281', vehicle_make='Toyota', employee_id='38-6846319', created=datetime.datetime(2016, 4, 23, 8, 10, 39), first_name='Barton', employer=\"Gleason, Keeling and O'Reilly\", department='Business Development', model_year=2005, last_updated=datetime.datetime(2018, 3, 3, 10, 35, 8), last_name='Andrichuk', language='Bosnian', vehicle_model='RAV4', gender='Male')\n",
            "combined_type(ssn='562-62-6370', vehicle_make='Mitsubishi', employee_id='13-2448573', created=datetime.datetime(2016, 10, 30, 20, 15, 49), first_name='Lewes', employer='Jakubowski and Sons', department='Legal', model_year=1999, last_updated=datetime.datetime(2018, 1, 12, 18, 3, 43), last_name=\"O'Caine\", language='Hungarian', vehicle_model='Challenger', gender='Male')\n",
            "combined_type(ssn='563-21-6857', vehicle_make='Cadillac', employee_id='16-1200679', created=datetime.datetime(2016, 5, 28, 8, 7, 22), first_name='Ambrose', employer='Nienow, Bins and Mraz', department='Product Management', model_year=2006, last_updated=datetime.datetime(2017, 4, 23, 12, 4, 9), last_name='Stiegers', language='Zulu', vehicle_model='XLR', gender='Male')\n",
            "combined_type(ssn='563-27-3427', vehicle_make='Dodge', employee_id='58-3232657', created=datetime.datetime(2016, 8, 17, 23, 43, 40), first_name='Pembroke', employer='Ernser, Schmidt and Borer', department='Human Resources', model_year=2009, last_updated=datetime.datetime(2018, 1, 9, 8, 57, 36), last_name='La Padula', language='German', vehicle_model='Nitro', gender='Male')\n",
            "combined_type(ssn='564-89-9688', vehicle_make='Mercury', employee_id='66-1939780', created=datetime.datetime(2016, 3, 31, 2, 45, 10), first_name='Karoly', employer='Conroy and Sons', department='Sales', model_year=2009, last_updated=datetime.datetime(2017, 2, 14, 23, 54, 33), last_name='Collen', language='Albanian', vehicle_model='Grand Marquis', gender='Female')\n",
            "combined_type(ssn='566-56-7324', vehicle_make='Volvo', employee_id='76-9375903', created=datetime.datetime(2016, 4, 15, 11, 9, 30), first_name='Mattheus', employer='Mueller, Schuppe and Rempel', department='Sales', model_year=2009, last_updated=datetime.datetime(2017, 11, 16, 23, 5, 52), last_name='Braidwood', language='Tetum', vehicle_model='C30', gender='Male')\n",
            "combined_type(ssn='566-62-0141', vehicle_make='Honda', employee_id='04-6247743', created=datetime.datetime(2016, 1, 11, 4, 58, 23), first_name='Tiffanie', employer='Rau, Jakubowski and Crona', department='Accounting', model_year=2005, last_updated=datetime.datetime(2017, 2, 18, 7, 17, 52), last_name='McNamee', language='Polish', vehicle_model='S2000', gender='Female')\n",
            "combined_type(ssn='567-02-8700', vehicle_make='Land Rover', employee_id='30-4548148', created=datetime.datetime(2016, 9, 29, 9, 13, 7), first_name='Cornelia', employer='Brown-Greenfelder', department='Services', model_year=2010, last_updated=datetime.datetime(2017, 7, 30, 4, 1, 7), last_name='Trowle', language='Dari', vehicle_model='Defender Ice Edition', gender='Female')\n",
            "combined_type(ssn='567-82-8701', vehicle_make='Chevrolet', employee_id='37-8628284', created=datetime.datetime(2016, 8, 14, 14, 48, 11), first_name='Bathsheba', employer='Satterfield, Ankunding and Robel', department='Product Management', model_year=2008, last_updated=datetime.datetime(2017, 10, 25, 2, 27, 51), last_name='Ainge', language='Montenegrin', vehicle_model='Aveo', gender='Female')\n",
            "combined_type(ssn='569-26-2487', vehicle_make='Chevrolet', employee_id='99-8156485', created=datetime.datetime(2016, 4, 3, 6, 39, 26), first_name='Yance', employer='Gorczany Group', department='Training', model_year=2010, last_updated=datetime.datetime(2017, 9, 15, 21, 46, 22), last_name='Mumby', language='Danish', vehicle_model='Silverado 1500', gender='Male')\n",
            "combined_type(ssn='569-52-7923', vehicle_make='Dodge', employee_id='97-0006438', created=datetime.datetime(2016, 7, 20, 9, 26, 59), first_name='Rahel', employer='Marquardt and Sons', department='Legal', model_year=2001, last_updated=datetime.datetime(2017, 4, 8, 9, 43, 21), last_name='Aleshkov', language='Georgian', vehicle_model='Ram 1500 Club', gender='Female')\n",
            "combined_type(ssn='570-01-5640', vehicle_make='Volkswagen', employee_id='90-1208918', created=datetime.datetime(2016, 5, 26, 7, 27, 46), first_name='Nickolas', employer='Stroman Group', department='Product Management', model_year=1986, last_updated=datetime.datetime(2017, 1, 3, 3, 11, 19), last_name='Crosdill', language='Tetum', vehicle_model='GTI', gender='Male')\n",
            "combined_type(ssn='570-86-3275', vehicle_make='Mazda', employee_id='84-1274393', created=datetime.datetime(2016, 10, 18, 21, 8, 26), first_name='Rab', employer='Sipes-Smith', department='Accounting', model_year=1988, last_updated=datetime.datetime(2017, 7, 20, 5, 21, 36), last_name='Vuitte', language='Swahili', vehicle_model='B-Series', gender='Male')\n",
            "combined_type(ssn='571-12-4962', vehicle_make='Dodge', employee_id='45-9507418', created=datetime.datetime(2016, 2, 5, 3, 46, 6), first_name='Audie', employer='Bergnaum, Thiel and Kihn', department='Training', model_year=2001, last_updated=datetime.datetime(2017, 7, 19, 9, 41, 8), last_name='Legrice', language='Lithuanian', vehicle_model='Ram Van 1500', gender='Female')\n",
            "combined_type(ssn='572-82-5200', vehicle_make='Pontiac', employee_id='59-9884067', created=datetime.datetime(2016, 8, 20, 18, 17, 4), first_name='Walsh', employer='Howell-Crona', department='Research and Development', model_year=1964, last_updated=datetime.datetime(2018, 1, 27, 5, 7, 4), last_name='Varah', language='Japanese', vehicle_model='Bonneville', gender='Male')\n",
            "combined_type(ssn='573-94-0348', vehicle_make='Mercedes-Benz', employee_id='76-3583426', created=datetime.datetime(2016, 5, 10, 20, 32, 56), first_name='Sherm', employer='Marks-Jenkins', department='Marketing', model_year=2010, last_updated=datetime.datetime(2017, 4, 21, 15, 2, 45), last_name='Critten', language='Dari', vehicle_model='C-Class', gender='Male')\n",
            "combined_type(ssn='573-97-4729', vehicle_make='Saturn', employee_id='60-3540943', created=datetime.datetime(2016, 4, 29, 23, 31, 18), first_name='Torey', employer='Boehm-Schaefer', department='Human Resources', model_year=2007, last_updated=datetime.datetime(2017, 5, 8, 0, 22, 1), last_name='Forcade', language='Indonesian', vehicle_model='Relay', gender='Female')\n",
            "combined_type(ssn='574-60-0475', vehicle_make='Mercedes-Benz', employee_id='34-4940732', created=datetime.datetime(2016, 8, 29, 9, 31, 28), first_name='Gale', employer='Hoppe Inc', department='Services', model_year=1989, last_updated=datetime.datetime(2017, 3, 7, 19, 20, 25), last_name='Porson', language='Icelandic', vehicle_model='S-Class', gender='Male')\n",
            "combined_type(ssn='574-91-3682', vehicle_make='Bentley', employee_id='30-8794616', created=datetime.datetime(2016, 7, 25, 14, 49, 36), first_name='Marlon', employer='Casper, Leannon and Davis', department='Services', model_year=2012, last_updated=datetime.datetime(2017, 4, 10, 23, 34, 54), last_name='Lafayette', language='Somali', vehicle_model='Continental Flying Spur', gender='Male')\n",
            "combined_type(ssn='576-18-1075', vehicle_make='Mercury', employee_id='89-5009277', created=datetime.datetime(2016, 12, 5, 6, 23, 55), first_name='Alexandro', employer='McDermott-Hettinger', department='Marketing', model_year=1993, last_updated=datetime.datetime(2017, 3, 12, 22, 57, 39), last_name='Edgecombe', language='Telugu', vehicle_model='Sable', gender='Male')\n",
            "combined_type(ssn='576-41-7443', vehicle_make='Mitsubishi', employee_id='70-7681238', created=datetime.datetime(2016, 11, 11, 23, 18, 8), first_name='Abba', employer='Tremblay, Pagac and Funk', department='Product Management', model_year=2008, last_updated=datetime.datetime(2018, 3, 24, 13, 7, 48), last_name='Fall', language='Indonesian', vehicle_model='Endeavor', gender='Male')\n",
            "combined_type(ssn='578-02-0932', vehicle_make='Chevrolet', employee_id='66-3328204', created=datetime.datetime(2016, 11, 8, 1, 31, 6), first_name='Lalo', employer='Keeling-Gleason', department='Human Resources', model_year=1999, last_updated=datetime.datetime(2017, 5, 1, 1, 16, 14), last_name='Grigoroni', language='Polish', vehicle_model=2500, gender='Male')\n",
            "combined_type(ssn='578-58-6435', vehicle_make='Aston Martin', employee_id='59-2971514', created=datetime.datetime(2016, 1, 2, 15, 27, 34), first_name='Gavin', employer='Powlowski-Farrell', department='Accounting', model_year=2010, last_updated=datetime.datetime(2017, 12, 27, 8, 53, 35), last_name='Daish', language='Kazakh', vehicle_model='Vantage', gender='Male')\n",
            "combined_type(ssn='579-87-4014', vehicle_make='Pontiac', employee_id='81-1485490', created=datetime.datetime(2016, 9, 26, 15, 7, 7), first_name='Feliza', employer='Walsh, Jast and Hessel', department='Engineering', model_year=2006, last_updated=datetime.datetime(2017, 9, 12, 22, 44, 20), last_name='Hendrickson', language='Bulgarian', vehicle_model='Daewoo Kalos', gender='Female')\n",
            "combined_type(ssn='581-15-8015', vehicle_make='Mercedes-Benz', employee_id='32-6373999', created=datetime.datetime(2016, 2, 20, 10, 38, 4), first_name='Ave', employer='Hane and Sons', department='Business Development', model_year=2007, last_updated=datetime.datetime(2017, 11, 9, 17, 23, 35), last_name='Isaksson', language='Dhivehi', vehicle_model='R-Class', gender='Male')\n",
            "combined_type(ssn='581-95-7591', vehicle_make='Mercedes-Benz', employee_id='72-2113419', created=datetime.datetime(2016, 11, 14, 7, 22, 2), first_name='Merilee', employer='Little and Sons', department='Engineering', model_year=1985, last_updated=datetime.datetime(2017, 4, 1, 6, 46, 15), last_name='Wigin', language='Norwegian', vehicle_model='SL-Class', gender='Female')\n",
            "combined_type(ssn='582-71-1805', vehicle_make='Lotus', employee_id='56-4133362', created=datetime.datetime(2016, 1, 7, 13, 2, 26), first_name='Mel', employer='Connelly-Nolan', department='Training', model_year=2005, last_updated=datetime.datetime(2017, 12, 3, 11, 39, 18), last_name='Marvin', language='Maltese', vehicle_model='Elise', gender='Male')\n",
            "combined_type(ssn='583-61-3519', vehicle_make='Chevrolet', employee_id='72-7686176', created=datetime.datetime(2016, 10, 15, 17, 14, 14), first_name='Reagen', employer='Romaguera-Gibson', department='Sales', model_year=2008, last_updated=datetime.datetime(2017, 5, 12, 16, 20, 41), last_name='Yelden', language='Northern Sotho', vehicle_model='Suburban 1500', gender='Male')\n",
            "combined_type(ssn='583-76-7497', vehicle_make='GMC', employee_id='40-3551397', created=datetime.datetime(2016, 5, 28, 10, 46, 29), first_name='Wildon', employer='Wisoky-Trantow', department='Human Resources', model_year=1999, last_updated=datetime.datetime(2017, 8, 14, 16, 13, 45), last_name='Tunbridge', language='Mongolian', vehicle_model='1500 Club Coupe', gender='Male')\n",
            "combined_type(ssn='585-03-2819', vehicle_make='Buick', employee_id='41-7214465', created=datetime.datetime(2016, 4, 7, 22, 6, 31), first_name='Breanne', employer='Will-Auer', department='Support', model_year=1997, last_updated=datetime.datetime(2017, 5, 14, 16, 27, 26), last_name='Gorelli', language='Tamil', vehicle_model='Regal', gender='Female')\n",
            "combined_type(ssn='585-96-1853', vehicle_make='Mercedes-Benz', employee_id='98-3382014', created=datetime.datetime(2016, 4, 17, 20, 47, 16), first_name='Jone', employer='Vandervort-Hammes', department='Training', model_year=1987, last_updated=datetime.datetime(2018, 3, 21, 5, 22, 51), last_name='Sherwyn', language='Gujarati', vehicle_model='S-Class', gender='Male')\n",
            "combined_type(ssn='586-85-4199', vehicle_make='Chevrolet', employee_id='15-1367840', created=datetime.datetime(2016, 4, 3, 4, 1, 59), first_name='Gisela', employer='Hodkiewicz and Sons', department='Training', model_year=2005, last_updated=datetime.datetime(2017, 11, 29, 6, 11, 57), last_name='Foulser', language='Albanian', vehicle_model='SSR', gender='Female')\n",
            "combined_type(ssn='587-94-0609', vehicle_make='Lexus', employee_id='68-6722212', created=datetime.datetime(2016, 9, 30, 14, 28, 13), first_name='Fancy', employer='Kuphal-Bartell', department='Accounting', model_year=2013, last_updated=datetime.datetime(2018, 3, 18, 16, 53, 48), last_name='Frift', language='Chinese', vehicle_model='RX', gender='Female')\n",
            "combined_type(ssn='588-48-7326', vehicle_make='BMW', employee_id='29-5064089', created=datetime.datetime(2016, 2, 18, 14, 11, 6), first_name='Sid', employer='Romaguera Inc', department='Marketing', model_year=2007, last_updated=datetime.datetime(2017, 6, 18, 19, 58, 2), last_name='Colkett', language='Northern Sotho', vehicle_model='7 Series', gender='Male')\n",
            "combined_type(ssn='589-15-0686', vehicle_make='Ford', employee_id='07-2545492', created=datetime.datetime(2016, 6, 21, 9, 34, 58), first_name='Corabelle', employer='Schmidt and Sons', department='Training', model_year=1994, last_updated=datetime.datetime(2017, 11, 5, 12, 2, 34), last_name='Northin', language='Sotho', vehicle_model='F250', gender='Female')\n",
            "combined_type(ssn='591-02-4614', vehicle_make='Mazda', employee_id='10-3700930', created=datetime.datetime(2016, 12, 5, 1, 14, 58), first_name='Linnie', employer='Graham Group', department='Accounting', model_year=1988, last_updated=datetime.datetime(2017, 4, 2, 1, 10, 25), last_name='Marzelli', language='Kashmiri', vehicle_model='Familia', gender='Female')\n",
            "combined_type(ssn='591-09-5002', vehicle_make='Pontiac', employee_id='52-9445859', created=datetime.datetime(2016, 7, 6, 12, 9, 38), first_name='Arie', employer='Cassin, Batz and Altenwerth', department='Services', model_year=1999, last_updated=datetime.datetime(2017, 11, 26, 23, 30, 4), last_name='Winchcombe', language='Dzongkha', vehicle_model='Montana', gender='Male')\n",
            "combined_type(ssn='591-34-2920', vehicle_make='Volkswagen', employee_id='74-7470747', created=datetime.datetime(2016, 6, 22, 2, 52, 34), first_name='Woodman', employer='Braun Inc', department='Engineering', model_year=1998, last_updated=datetime.datetime(2017, 8, 8, 5, 30, 21), last_name='Finley', language='Ndebele', vehicle_model='Golf', gender='Male')\n",
            "combined_type(ssn='592-23-4343', vehicle_make='Ford', employee_id='70-3159834', created=datetime.datetime(2016, 5, 23, 22, 5, 4), first_name='Iona', employer='Torphy, Doyle and Padberg', department='Sales', model_year=2000, last_updated=datetime.datetime(2017, 12, 7, 16, 5, 21), last_name='Garron', language='Catalan', vehicle_model='F150', gender='Female')\n",
            "combined_type(ssn='594-37-6620', vehicle_make='Cadillac', employee_id='40-1830316', created=datetime.datetime(2016, 10, 10, 4, 10, 56), first_name='Bax', employer='Ritchie LLC', department='Sales', model_year=2006, last_updated=datetime.datetime(2017, 9, 27, 8, 10, 15), last_name='McLleese', language='Maltese', vehicle_model='XLR', gender='Male')\n",
            "combined_type(ssn='594-80-1212', vehicle_make='Land Rover', employee_id='83-7700336', created=datetime.datetime(2016, 6, 21, 4, 45, 10), first_name='Berti', employer='Haag, Ullrich and Howe', department='Training', model_year=2008, last_updated=datetime.datetime(2017, 7, 7, 8, 16, 39), last_name='Ealden', language='Tajik', vehicle_model='Range Rover', gender='Female')\n",
            "combined_type(ssn='595-51-3047', vehicle_make='Buick', employee_id='61-2533957', created=datetime.datetime(2016, 2, 12, 17, 16, 20), first_name='Haley', employer='Stehr Inc', department='Human Resources', model_year=1989, last_updated=datetime.datetime(2017, 3, 14, 22, 18, 40), last_name='Critchley', language='Ndebele', vehicle_model='Skylark', gender='Female')\n",
            "combined_type(ssn='595-67-1091', vehicle_make='Volvo', employee_id='43-8081335', created=datetime.datetime(2016, 9, 4, 4, 32, 10), first_name='Odette', employer='Hegmann, Treutel and Hudson', department='Business Development', model_year=2002, last_updated=datetime.datetime(2017, 7, 1, 9, 48, 41), last_name='Delue', language='Filipino', vehicle_model='C70', gender='Female')\n",
            "combined_type(ssn='597-45-6867', vehicle_make='Ford', employee_id='81-3779691', created=datetime.datetime(2016, 2, 12, 3, 8, 30), first_name='Boris', employer='Kozey LLC', department='Marketing', model_year=1988, last_updated=datetime.datetime(2018, 2, 7, 17, 30, 11), last_name='Selwood', language='Tajik', vehicle_model='Tempo', gender='Male')\n",
            "combined_type(ssn='597-53-1918', vehicle_make='Mercedes-Benz', employee_id='21-1766662', created=datetime.datetime(2016, 4, 3, 2, 12, 30), first_name='Tilda', employer='Ritchie, Murphy and Bahringer', department='Research and Development', model_year=2010, last_updated=datetime.datetime(2017, 11, 14, 21, 14, 1), last_name='Cheales', language='Azeri', vehicle_model='E-Class', gender='Female')\n",
            "combined_type(ssn='597-63-4107', vehicle_make='Saturn', employee_id='81-5994216', created=datetime.datetime(2016, 10, 26, 22, 52, 17), first_name='Fairfax', employer='Farrell, Schumm and Ullrich', department='Support', model_year=1993, last_updated=datetime.datetime(2017, 3, 27, 1, 22, 14), last_name='De Blase', language='Gujarati', vehicle_model='S-Series', gender='Male')\n",
            "combined_type(ssn='598-39-5585', vehicle_make='Mazda', employee_id='93-8471220', created=datetime.datetime(2016, 9, 8, 6, 13, 14), first_name='Maritsa', employer='Witting-Skiles', department='Product Management', model_year=1994, last_updated=datetime.datetime(2018, 2, 21, 0, 59, 26), last_name='Brecher', language='Maori', vehicle_model=323, gender='Female')\n",
            "combined_type(ssn='599-56-9050', vehicle_make='Bentley', employee_id='06-5801036', created=datetime.datetime(2016, 5, 21, 0, 57, 43), first_name='Letti', employer='Koss-Windler', department='Human Resources', model_year=2008, last_updated=datetime.datetime(2018, 1, 12, 12, 2, 36), last_name='Trappe', language='Maori', vehicle_model='Arnage', gender='Female')\n",
            "combined_type(ssn='599-69-3085', vehicle_make='Lamborghini', employee_id='30-8311767', created=datetime.datetime(2016, 5, 8, 7, 18, 12), first_name='Luz', employer='Rau, Hegmann and Yundt', department='Product Management', model_year=2012, last_updated=datetime.datetime(2017, 1, 5, 11, 40, 43), last_name='Jeffcoate', language='Kyrgyz', vehicle_model='Gallardo', gender='Female')\n",
            "combined_type(ssn='599-69-5584', vehicle_make='Chevrolet', employee_id='76-3802991', created=datetime.datetime(2016, 12, 26, 10, 45, 34), first_name='Concordia', employer='Bartell, Brakus and Considine', department='Marketing', model_year=1953, last_updated=datetime.datetime(2017, 10, 11, 17, 31, 15), last_name='Grassot', language='Czech', vehicle_model='Corvette', gender='Female')\n",
            "combined_type(ssn='600-52-7214', vehicle_make='Lotus', employee_id='73-9719343', created=datetime.datetime(2016, 3, 16, 7, 26, 33), first_name='Patty', employer='Christiansen-Koch', department='Support', model_year=2010, last_updated=datetime.datetime(2017, 6, 7, 4, 47, 28), last_name='Ashurst', language='Latvian', vehicle_model='Exige', gender='Male')\n",
            "combined_type(ssn='601-01-2163', vehicle_make='Lexus', employee_id='91-7839303', created=datetime.datetime(2016, 1, 22, 1, 21, 34), first_name='Dominica', employer='Kohler Inc', department='Product Management', model_year=2003, last_updated=datetime.datetime(2017, 3, 22, 11, 37, 39), last_name='Muehler', language='Kyrgyz', vehicle_model='GX', gender='Female')\n",
            "combined_type(ssn='601-04-5606', vehicle_make='GMC', employee_id='18-8784722', created=datetime.datetime(2016, 1, 10, 19, 15, 36), first_name='Korrie', employer='Gutmann Inc', department='Human Resources', model_year=2003, last_updated=datetime.datetime(2018, 2, 26, 20, 14, 17), last_name='Brookfield', language='Greek', vehicle_model='Savana 2500', gender='Female')\n",
            "combined_type(ssn='601-06-5384', vehicle_make='Suzuki', employee_id='09-6765955', created=datetime.datetime(2016, 10, 7, 0, 5, 24), first_name='Lyle', employer='Stiedemann LLC', department='Marketing', model_year=2005, last_updated=datetime.datetime(2017, 12, 2, 22, 12, 48), last_name='Order', language='Tajik', vehicle_model='Reno', gender='Male')\n",
            "combined_type(ssn='603-31-3174', vehicle_make='Chevrolet', employee_id='06-5805930', created=datetime.datetime(2016, 4, 26, 19, 38, 9), first_name='Adelind', employer='Hansen-Bayer', department='Training', model_year=1998, last_updated=datetime.datetime(2018, 3, 5, 13, 44, 43), last_name='Pautard', language='English', vehicle_model='G-Series 2500', gender='Female')\n",
            "combined_type(ssn='603-34-9733', vehicle_make='Toyota', employee_id='07-7590960', created=datetime.datetime(2016, 11, 4, 4, 36, 19), first_name='Joellen', employer='Romaguera, Torp and Bode', department='Human Resources', model_year=2010, last_updated=datetime.datetime(2017, 10, 5, 18, 16), last_name='Doddrell', language='Lithuanian', vehicle_model='Highlander', gender='Female')\n",
            "combined_type(ssn='603-76-5257', vehicle_make='Kia', employee_id='72-0006947', created=datetime.datetime(2016, 6, 3, 18, 8, 39), first_name='Issiah', employer='Mosciski-Robel', department='Training', model_year=2013, last_updated=datetime.datetime(2017, 7, 14, 18, 2, 22), last_name='Bordis', language='Spanish', vehicle_model='Rio', gender='Male')\n",
            "combined_type(ssn='604-19-5709', vehicle_make='Honda', employee_id='59-2791586', created=datetime.datetime(2016, 12, 1, 1, 36, 20), first_name='Alberto', employer='Hoppe-Gerhold', department='Product Management', model_year=1993, last_updated=datetime.datetime(2018, 3, 5, 14, 31, 26), last_name='Grog', language='Dari', vehicle_model='Prelude', gender='Male')\n",
            "combined_type(ssn='605-15-8306', vehicle_make='Saab', employee_id='71-7191464', created=datetime.datetime(2016, 11, 30, 16, 34, 33), first_name='Graehme', employer='Jacobi LLC', department='Legal', model_year=1988, last_updated=datetime.datetime(2017, 12, 25, 0, 54, 15), last_name='De Maine', language='Catalan', vehicle_model=9000, gender='Male')\n",
            "combined_type(ssn='605-26-7064', vehicle_make='Cadillac', employee_id='87-0668803', created=datetime.datetime(2016, 3, 1, 9, 3, 8), first_name='Howey', employer='Rice, Lakin and Bernier', department='Human Resources', model_year=2002, last_updated=datetime.datetime(2017, 1, 4, 0, 53, 36), last_name='Acome', language='Finnish', vehicle_model='Eldorado', gender='Male')\n",
            "combined_type(ssn='605-55-6033', vehicle_make='Volkswagen', employee_id='63-7559096', created=datetime.datetime(2016, 4, 5, 2, 36, 33), first_name='Roddie', employer='Simonis Inc', department='Product Management', model_year=2012, last_updated=datetime.datetime(2017, 3, 31, 0, 49, 36), last_name='Kolis', language='German', vehicle_model='New Beetle', gender='Male')\n",
            "combined_type(ssn='608-13-9301', vehicle_make='GMC', employee_id='03-5313601', created=datetime.datetime(2016, 7, 19, 7, 55, 13), first_name='Gradey', employer='Reichel-Will', department='Sales', model_year=2009, last_updated=datetime.datetime(2018, 3, 27, 0, 0, 32), last_name='Duval', language='Hebrew', vehicle_model='Savana 1500', gender='Male')\n",
            "combined_type(ssn='612-27-1398', vehicle_make='Audi', employee_id='78-9744181', created=datetime.datetime(2016, 9, 30, 3, 0, 57), first_name='Lucian', employer='Nikolaus-Lakin', department='Training', model_year=2004, last_updated=datetime.datetime(2017, 12, 6, 14, 48, 11), last_name='Whight', language='Haitian Creole', vehicle_model='TT', gender='Male')\n",
            "combined_type(ssn='612-30-5754', vehicle_make='Ford', employee_id='79-8311854', created=datetime.datetime(2016, 12, 18, 13, 54, 40), first_name='Archibold', employer='Parker, Ritchie and Emard', department='Marketing', model_year=1966, last_updated=datetime.datetime(2017, 9, 18, 17, 32, 43), last_name='Van de Castele', language='Tamil', vehicle_model='Falcon', gender='Male')\n",
            "combined_type(ssn='615-38-6466', vehicle_make='Mercury', employee_id='91-5760580', created=datetime.datetime(2016, 7, 11, 11, 27, 16), first_name='Roderigo', employer='Kub Inc', department='Marketing', model_year=2000, last_updated=datetime.datetime(2017, 10, 21, 13, 45, 37), last_name='Caughan', language='Oriya', vehicle_model='Mountaineer', gender='Male')\n",
            "combined_type(ssn='617-38-3504', vehicle_make='Lincoln', employee_id='55-0503985', created=datetime.datetime(2016, 1, 8, 20, 37, 3), first_name='Toby', employer='Schuppe-Lynch', department='Training', model_year=1984, last_updated=datetime.datetime(2017, 5, 22, 11, 45, 40), last_name='Hugnot', language='Maori', vehicle_model='Town Car', gender='Female')\n",
            "combined_type(ssn='617-71-4058', vehicle_make='Bentley', employee_id='40-8324882', created=datetime.datetime(2016, 5, 22, 22, 29, 31), first_name='Lynsey', employer='Herman, Walter and Schoen', department='Marketing', model_year=2005, last_updated=datetime.datetime(2017, 8, 12, 4, 22, 36), last_name='Creser', language='Gujarati', vehicle_model='Arnage', gender='Female')\n",
            "combined_type(ssn='618-35-5798', vehicle_make='Daewoo', employee_id='56-7604343', created=datetime.datetime(2016, 6, 3, 13, 41, 34), first_name='Izzy', employer='Gaylord, Leannon and Spinka', department='Business Development', model_year=2001, last_updated=datetime.datetime(2017, 8, 27, 0, 20, 31), last_name='Helliar', language='Indonesian', vehicle_model='Lanos', gender='Male')\n",
            "combined_type(ssn='620-81-4914', vehicle_make='Pontiac', employee_id='49-8651282', created=datetime.datetime(2016, 10, 12, 19, 39, 46), first_name='Clea', employer='Hamill and Sons', department='Sales', model_year=1973, last_updated=datetime.datetime(2018, 1, 14, 12, 10, 57), last_name='Baldazzi', language='Catalan', vehicle_model='GTO', gender='Female')\n",
            "combined_type(ssn='623-98-4252', vehicle_make='Panoz', employee_id='34-5851307', created=datetime.datetime(2016, 9, 16, 1, 15, 15), first_name='Kort', employer='Von LLC', department='Services', model_year=2006, last_updated=datetime.datetime(2018, 3, 11, 6, 59, 54), last_name='Kellie', language='Italian', vehicle_model='Esperante', gender='Male')\n",
            "combined_type(ssn='624-99-0933', vehicle_make='Kia', employee_id='69-0794810', created=datetime.datetime(2016, 2, 25, 4, 54), first_name='Perrine', employer='Jones-Homenick', department='Marketing', model_year=2004, last_updated=datetime.datetime(2017, 3, 21, 6, 46, 30), last_name='Bason', language='Estonian', vehicle_model='Amanti', gender='Female')\n",
            "combined_type(ssn='625-84-8454', vehicle_make='Saab', employee_id='77-9709375', created=datetime.datetime(2016, 3, 26, 8, 55, 23), first_name='Francois', employer='Witting, Hartmann and Leffler', department='Engineering', model_year=2004, last_updated=datetime.datetime(2018, 3, 24, 7, 1, 42), last_name='Lardner', language='Kashmiri', vehicle_model='3-Sep', gender='Male')\n",
            "combined_type(ssn='627-36-1126', vehicle_make='Buick', employee_id='77-6897439', created=datetime.datetime(2016, 2, 10, 21, 40, 20), first_name='Milzie', employer='Kulas-Vandervort', department='Human Resources', model_year=1985, last_updated=datetime.datetime(2018, 3, 17, 15, 40, 40), last_name='Steabler', language='Tetum', vehicle_model='LeSabre', gender='Female')\n",
            "combined_type(ssn='627-91-0537', vehicle_make='Mercedes-Benz', employee_id='82-9396689', created=datetime.datetime(2016, 9, 19, 11, 58, 22), first_name='Georgie', employer=\"Ryan-O'Conner\", department='Business Development', model_year=1992, last_updated=datetime.datetime(2018, 2, 2, 23, 21, 31), last_name='Tadd', language='Croatian', vehicle_model='500E', gender='Male')\n",
            "combined_type(ssn='629-10-9201', vehicle_make='Oldsmobile', employee_id='66-7631304', created=datetime.datetime(2016, 2, 19, 4, 34, 52), first_name='Morie', employer='Hudson Inc', department='Services', model_year=1994, last_updated=datetime.datetime(2017, 7, 29, 21, 33, 34), last_name='Addams', language='Papiamento', vehicle_model='Silhouette', gender='Male')\n",
            "combined_type(ssn='629-13-0131', vehicle_make='Honda', employee_id='16-3965633', created=datetime.datetime(2016, 12, 22, 22, 11, 38), first_name='Gregorius', employer='Waters Group', department='Training', model_year=2009, last_updated=datetime.datetime(2017, 9, 2, 11, 22, 53), last_name='Hill', language='Lao', vehicle_model='Odyssey', gender='Male')\n",
            "combined_type(ssn='629-54-4455', vehicle_make='Land Rover', employee_id='55-1013656', created=datetime.datetime(2016, 5, 15, 22, 2, 20), first_name='Abram', employer='Gerlach, Lowe and Moen', department='Sales', model_year=2004, last_updated=datetime.datetime(2017, 3, 6, 13, 59, 29), last_name='Jones', language='Croatian', vehicle_model='Discovery', gender='Male')\n",
            "combined_type(ssn='629-91-9506', vehicle_make='GMC', employee_id='17-9714426', created=datetime.datetime(2016, 6, 19, 17, 17, 28), first_name='Dionysus', employer='Schumm-Cormier', department='Marketing', model_year=2007, last_updated=datetime.datetime(2017, 2, 7, 18, 7, 51), last_name='Twentyman', language='Indonesian', vehicle_model='Savana 2500', gender='Male')\n",
            "combined_type(ssn='630-21-7841', vehicle_make='Nissan', employee_id='42-9052595', created=datetime.datetime(2016, 10, 17, 3, 33, 57), first_name='Julieta', employer='McGlynn-Huel', department='Engineering', model_year=1994, last_updated=datetime.datetime(2017, 6, 5, 13, 35, 14), last_name='Kloss', language='Latvian', vehicle_model='240SX', gender='Female')\n",
            "combined_type(ssn='631-44-9168', vehicle_make='Mercury', employee_id='24-0238488', created=datetime.datetime(2016, 3, 6, 8, 30, 58), first_name='Brooks', employer='Ratke Group', department='Training', model_year=1996, last_updated=datetime.datetime(2017, 1, 29, 16, 20, 7), last_name='Edridge', language='Kazakh', vehicle_model='Grand Marquis', gender='Male')\n",
            "combined_type(ssn='631-72-9770', vehicle_make='Geo', employee_id='46-9024292', created=datetime.datetime(2016, 6, 15, 22, 4, 48), first_name='Benji', employer='Schmitt, Wintheiser and Turner', department='Training', model_year=1995, last_updated=datetime.datetime(2017, 4, 2, 4, 50, 38), last_name='Barnsley', language='Guarana', vehicle_model='Metro', gender='Male')\n",
            "combined_type(ssn='633-96-5921', vehicle_make='Buick', employee_id='62-2635707', created=datetime.datetime(2016, 10, 26, 5, 58, 19), first_name='Tynan', employer='Murazik-Dickens', department='Product Management', model_year=2004, last_updated=datetime.datetime(2017, 6, 8, 16, 58, 45), last_name='Duthie', language='Nepali', vehicle_model='LeSabre', gender='Male')\n",
            "combined_type(ssn='634-42-8798', vehicle_make='Volvo', employee_id='59-9431329', created=datetime.datetime(2016, 8, 7, 10, 51, 44), first_name='Tomasine', employer='Schowalter and Sons', department='Human Resources', model_year=2004, last_updated=datetime.datetime(2017, 1, 20, 7, 0, 33), last_name='Dron', language='English', vehicle_model='S40', gender='Female')\n",
            "combined_type(ssn='634-90-4851', vehicle_make='Kia', employee_id='63-5364094', created=datetime.datetime(2016, 1, 2, 20, 40, 16), first_name='Maia', employer='Nicolas-Sipes', department='Research and Development', model_year=2012, last_updated=datetime.datetime(2018, 3, 25, 8, 52, 19), last_name='Nornasell', language='Pashto', vehicle_model='Sedona', gender='Female')\n",
            "combined_type(ssn='635-99-3249', vehicle_make='Oldsmobile', employee_id='25-5237850', created=datetime.datetime(2016, 3, 26, 15, 45, 25), first_name='Jennifer', employer='Trantow-Koepp', department='Research and Development', model_year=1999, last_updated=datetime.datetime(2017, 11, 4, 22, 22, 21), last_name='Audry', language='Italian', vehicle_model='LSS', gender='Female')\n",
            "combined_type(ssn='637-74-3365', vehicle_make='Acura', employee_id='38-0324761', created=datetime.datetime(2016, 3, 13, 10, 58, 19), first_name='Jarrett', employer='Prosacco, Carter and Collier', department='Training', model_year=2005, last_updated=datetime.datetime(2017, 5, 2, 6, 27), last_name='Tunnicliffe', language='Luxembourgish', vehicle_model='NSX', gender='Male')\n",
            "combined_type(ssn='639-08-7138', vehicle_make='Mitsubishi', employee_id='77-1523110', created=datetime.datetime(2016, 9, 6, 18, 30, 40), first_name='Betsey', employer='Mayert and Sons', department='Research and Development', model_year=1990, last_updated=datetime.datetime(2018, 1, 6, 2, 57, 15), last_name='Wimbridge', language='Telugu', vehicle_model='L300', gender='Female')\n",
            "combined_type(ssn='640-86-4661', vehicle_make='Nissan', employee_id='88-4502070', created=datetime.datetime(2016, 1, 12, 0, 14, 10), first_name='Ignacius', employer='Wolf, Hermann and Frami', department='Training', model_year=2001, last_updated=datetime.datetime(2018, 3, 22, 8, 58, 59), last_name='Kipling', language='Portuguese', vehicle_model='Frontier', gender='Male')\n",
            "combined_type(ssn='641-11-8353', vehicle_make='Buick', employee_id='75-0981332', created=datetime.datetime(2016, 7, 23, 2, 46, 34), first_name='Angel', employer='Rogahn, Hickle and Leuschke', department='Sales', model_year=2005, last_updated=datetime.datetime(2017, 5, 24, 8, 40, 40), last_name='Godthaab', language='Bislama', vehicle_model='LeSabre', gender='Female')\n",
            "combined_type(ssn='643-10-4736', vehicle_make='Nissan', employee_id='48-9699715', created=datetime.datetime(2016, 7, 29, 23, 45, 4), first_name='Konstanze', employer='Miller Inc', department='Human Resources', model_year=2006, last_updated=datetime.datetime(2017, 10, 24, 4, 50, 37), last_name='MacCawley', language='Dzongkha', vehicle_model='350Z Roadster', gender='Female')\n",
            "combined_type(ssn='644-68-2955', vehicle_make='Acura', employee_id='10-2258220', created=datetime.datetime(2016, 6, 21, 12, 1, 17), first_name='Catrina', employer='Stracke LLC', department='Business Development', model_year=2012, last_updated=datetime.datetime(2017, 10, 11, 12, 51, 58), last_name='Gerardin', language='Gagauz', vehicle_model='RDX', gender='Female')\n",
            "combined_type(ssn='644-70-8292', vehicle_make='Chevrolet', employee_id='65-6774148', created=datetime.datetime(2016, 3, 24, 13, 39, 53), first_name='Glyn', employer='Parisian, Kutch and Boyle', department='Services', model_year=2004, last_updated=datetime.datetime(2017, 1, 2, 0, 10, 46), last_name='Mc Giffin', language='Zulu', vehicle_model='Classic', gender='Female')\n",
            "combined_type(ssn='645-33-6872', vehicle_make='BMW', employee_id='48-3960573', created=datetime.datetime(2016, 6, 22, 14, 25, 18), first_name='Dmitri', employer='Trantow and Sons', department='Human Resources', model_year=2003, last_updated=datetime.datetime(2017, 4, 2, 4, 1, 49), last_name='Varden', language='Bosnian', vehicle_model='M5', gender='Male')\n",
            "combined_type(ssn='646-69-6845', vehicle_make='Hyundai', employee_id='71-7182616', created=datetime.datetime(2016, 2, 29, 8, 32, 23), first_name='Joe', employer='Ankunding, Hintz and Kling', department='Legal', model_year=1993, last_updated=datetime.datetime(2017, 2, 25, 7, 48, 17), last_name='Mabee', language='Fijian', vehicle_model='Scoupe', gender='Male')\n",
            "combined_type(ssn='647-24-7807', vehicle_make='Dodge', employee_id='48-8015766', created=datetime.datetime(2016, 11, 7, 11, 29, 25), first_name='Jammal', employer='Wolf, Murray and Koepp', department='Product Management', model_year=1993, last_updated=datetime.datetime(2018, 1, 12, 10, 1, 33), last_name='Dametti', language='Mongolian', vehicle_model='Caravan', gender='Male')\n",
            "combined_type(ssn='647-82-5575', vehicle_make='Audi', employee_id='55-8329618', created=datetime.datetime(2016, 6, 30, 9, 53, 5), first_name='Burton', employer='Conroy, Strosin and Champlin', department='Product Management', model_year=2005, last_updated=datetime.datetime(2018, 1, 19, 9, 44, 53), last_name=\"D'Ambrosio\", language='Spanish', vehicle_model='A8', gender='Male')\n",
            "combined_type(ssn='648-50-5566', vehicle_make='Ford', employee_id='15-1820701', created=datetime.datetime(2016, 3, 2, 10, 16, 25), first_name='Nilson', employer='Treutel LLC', department='Human Resources', model_year=1984, last_updated=datetime.datetime(2017, 8, 30, 11, 50, 20), last_name='Kurth', language='Armenian', vehicle_model='Bronco II', gender='Male')\n",
            "combined_type(ssn='648-92-3395', vehicle_make='Volvo', employee_id='74-1585533', created=datetime.datetime(2016, 11, 9, 12, 23, 14), first_name='Benedetto', employer='Gorczany-Friesen', department='Sales', model_year=1995, last_updated=datetime.datetime(2018, 1, 19, 12, 21, 13), last_name='McBean', language='Lao', vehicle_model=850, gender='Male')\n",
            "combined_type(ssn='650-63-9841', vehicle_make='Chevrolet', employee_id='53-6449997', created=datetime.datetime(2016, 10, 4, 6, 20, 18), first_name='Evanne', employer='Windler Inc', department='Sales', model_year=2000, last_updated=datetime.datetime(2017, 12, 12, 8, 39, 46), last_name='Ibeson', language='Korean', vehicle_model='Lumina', gender='Female')\n",
            "combined_type(ssn='650-73-2431', vehicle_make='GMC', employee_id='91-8337873', created=datetime.datetime(2016, 8, 22, 7, 33, 55), first_name='Henrietta', employer='Becker Inc', department='Product Management', model_year=2007, last_updated=datetime.datetime(2017, 11, 18, 6, 51, 2), last_name='Carnegie', language='Bislama', vehicle_model='Yukon XL 1500', gender='Female')\n",
            "combined_type(ssn='650-89-8244', vehicle_make='Lexus', employee_id='39-8536966', created=datetime.datetime(2016, 10, 9, 14, 12, 44), first_name='Goldarina', employer='Jacobs, Simonis and Quigley', department='Business Development', model_year=2010, last_updated=datetime.datetime(2017, 12, 23, 16, 32, 7), last_name='Rodrigo', language='Maori', vehicle_model='GX', gender='Female')\n",
            "combined_type(ssn='651-83-5203', vehicle_make='Dodge', employee_id='89-3666606', created=datetime.datetime(2016, 10, 24, 7, 19, 32), first_name='Putnem', employer='Stoltenberg, Ruecker and Simonis', department='Accounting', model_year=1994, last_updated=datetime.datetime(2017, 9, 30, 8, 2), last_name='Buddle', language='Georgian', vehicle_model='Ram Wagon B150', gender='Male')\n",
            "combined_type(ssn='652-46-3664', vehicle_make='Nissan', employee_id='77-8475594', created=datetime.datetime(2016, 7, 19, 9, 43, 16), first_name='Benson', employer='Brakus and Sons', department='Marketing', model_year=2008, last_updated=datetime.datetime(2017, 3, 26, 8, 40, 41), last_name='Ianelli', language='Romanian', vehicle_model='Xterra', gender='Male')\n",
            "combined_type(ssn='652-96-9901', vehicle_make='Oldsmobile', employee_id='41-5772335', created=datetime.datetime(2016, 1, 27, 0, 12, 46), first_name='Clareta', employer='Walker, Simonis and Fahey', department='Human Resources', model_year=2000, last_updated=datetime.datetime(2017, 6, 8, 17, 56, 13), last_name='Blagburn', language='Tok Pisin', vehicle_model='Silhouette', gender='Female')\n",
            "combined_type(ssn='653-23-1607', vehicle_make='Ford', employee_id='44-0575981', created=datetime.datetime(2016, 12, 6, 3, 41, 10), first_name='Noah', employer='Pfannerstill, Hodkiewicz and Connelly', department='Accounting', model_year=2004, last_updated=datetime.datetime(2017, 9, 6, 14, 46, 45), last_name='Lodwig', language='Moldovan', vehicle_model='Mustang', gender='Male')\n",
            "combined_type(ssn='653-49-0510', vehicle_make='Chevrolet', employee_id='52-5955794', created=datetime.datetime(2016, 7, 9, 7, 39, 36), first_name='Dillie', employer='Gerlach, Leffler and Bartoletti', department='Accounting', model_year=1995, last_updated=datetime.datetime(2017, 3, 17, 16, 26, 22), last_name='Bleeze', language='Burmese', vehicle_model='Monte Carlo', gender='Male')\n",
            "combined_type(ssn='654-61-1601', vehicle_make='BMW', employee_id='74-9663378', created=datetime.datetime(2016, 5, 4, 2, 46, 14), first_name='Vinnie', employer='Howe-Nitzsche', department='Engineering', model_year=2008, last_updated=datetime.datetime(2017, 9, 28, 18, 6, 41), last_name='Buzzing', language='Dhivehi', vehicle_model='M5', gender='Female')\n",
            "combined_type(ssn='654-68-3903', vehicle_make='GMC', employee_id='67-3043440', created=datetime.datetime(2016, 4, 10, 22, 34, 25), first_name='Hanni', employer='Nikolaus-Gorczany', department='Engineering', model_year=1994, last_updated=datetime.datetime(2017, 11, 23, 6, 49, 48), last_name='Fairleigh', language='Dutch', vehicle_model=3500, gender='Female')\n",
            "combined_type(ssn='654-75-3300', vehicle_make='Ford', employee_id='84-1375663', created=datetime.datetime(2016, 10, 16, 7, 41, 3), first_name='Korney', employer='Weimann, Howell and Mills', department='Research and Development', model_year=2004, last_updated=datetime.datetime(2017, 10, 8, 21, 3, 38), last_name='Chiplin', language='Chinese', vehicle_model='Expedition', gender='Female')\n",
            "combined_type(ssn='655-98-7788', vehicle_make='Suzuki', employee_id='50-8669060', created=datetime.datetime(2016, 9, 18, 4, 43, 13), first_name='Gabriellia', employer='Nitzsche Group', department='Support', model_year=1997, last_updated=datetime.datetime(2018, 2, 11, 8, 54, 51), last_name='Lewer', language='Tsonga', vehicle_model='X-90', gender='Female')\n",
            "combined_type(ssn='656-92-1337', vehicle_make='Mazda', employee_id='57-5743322', created=datetime.datetime(2016, 1, 25, 11, 30, 29), first_name='Dianemarie', employer='Hills Group', department='Support', model_year=1993, last_updated=datetime.datetime(2017, 12, 5, 11, 9, 20), last_name='Bwye', language='Maori', vehicle_model=626, gender='Female')\n",
            "combined_type(ssn='658-21-3014', vehicle_make='Ford', employee_id='14-7760557', created=datetime.datetime(2016, 9, 7, 14, 58, 13), first_name='Star', employer='Bauch Group', department='Legal', model_year=1995, last_updated=datetime.datetime(2017, 4, 14, 18, 38, 7), last_name='Crummey', language='Norwegian', vehicle_model='Bronco', gender='Female')\n",
            "combined_type(ssn='658-34-0029', vehicle_make='BMW', employee_id='15-6603582', created=datetime.datetime(2016, 1, 25, 17, 21, 32), first_name='Chrysler', employer='Wolf, Gerhold and Dickens', department='Marketing', model_year=2008, last_updated=datetime.datetime(2017, 5, 1, 12, 27, 3), last_name='Bastistini', language='Tamil', vehicle_model='M Roadster', gender='Female')\n",
            "combined_type(ssn='658-97-8544', vehicle_make='Lamborghini', employee_id='82-8849267', created=datetime.datetime(2016, 3, 6, 6, 46, 54), first_name='Hamish', employer='Gleichner Group', department='Marketing', model_year=2005, last_updated=datetime.datetime(2017, 3, 26, 1, 11, 52), last_name='Redit', language='Tswana', vehicle_model='Murciélago', gender='Male')\n",
            "combined_type(ssn='659-43-4520', vehicle_make='Toyota', employee_id='52-4061438', created=datetime.datetime(2016, 4, 4, 18, 49, 20), first_name='Alessandra', employer='Quitzon Group', department='Sales', model_year=2003, last_updated=datetime.datetime(2017, 10, 10, 1, 12), last_name='Rouf', language='Fijian', vehicle_model='Tacoma', gender='Female')\n",
            "combined_type(ssn='667-57-3442', vehicle_make='Toyota', employee_id='76-1285894', created=datetime.datetime(2016, 10, 9, 0, 53, 12), first_name='Rudy', employer='Grimes-Emard', department='Marketing', model_year=2006, last_updated=datetime.datetime(2017, 3, 14, 22, 11, 7), last_name='Tommasuzzi', language='Khmer', vehicle_model='Sequoia', gender='Male')\n",
            "combined_type(ssn='667-87-7090', vehicle_make='Kia', employee_id='94-0531814', created=datetime.datetime(2016, 1, 24, 10, 41, 14), first_name='Teena', employer='Abshire-Hahn', department='Marketing', model_year=1998, last_updated=datetime.datetime(2017, 4, 6, 8, 33, 35), last_name='Webb-Bowen', language='Hiri Motu', vehicle_model='Sephia', gender='Female')\n",
            "combined_type(ssn='669-12-9323', vehicle_make='Hyundai', employee_id='62-6777890', created=datetime.datetime(2016, 11, 19, 23, 7, 4), first_name='Peter', employer='Stark-Runte', department='Support', model_year=2004, last_updated=datetime.datetime(2017, 1, 2, 17, 34, 7), last_name='Ketteman', language='Hiri Motu', vehicle_model='Sonata', gender='Male')\n",
            "combined_type(ssn='669-83-8959', vehicle_make='Buick', employee_id='41-0303264', created=datetime.datetime(2016, 8, 12, 16, 3, 3), first_name='Corney', employer='Stamm-Kassulke', department='Services', model_year=2004, last_updated=datetime.datetime(2017, 5, 17, 9, 55, 4), last_name='Semerad', language='Zulu', vehicle_model='LeSabre', gender='Male')\n",
            "combined_type(ssn='670-56-7817', vehicle_make='Volvo', employee_id='93-0656725', created=datetime.datetime(2016, 3, 17, 21, 37, 14), first_name='Stephen', employer='Bahringer, Jacobs and Schimmel', department='Marketing', model_year=2007, last_updated=datetime.datetime(2018, 2, 22, 0, 50, 59), last_name='Keinrat', language='Hiri Motu', vehicle_model='S80', gender='Male')\n",
            "combined_type(ssn='670-66-6403', vehicle_make='Mitsubishi', employee_id='21-4570883', created=datetime.datetime(2016, 6, 30, 15, 45, 29), first_name='Marje', employer='Ernser-Crooks', department='Sales', model_year=2008, last_updated=datetime.datetime(2017, 3, 30, 16, 44, 59), last_name='Durdle', language='Japanese', vehicle_model='Endeavor', gender='Female')\n",
            "combined_type(ssn='670-67-9679', vehicle_make='Infiniti', employee_id='25-5267392', created=datetime.datetime(2016, 9, 13, 20, 38, 45), first_name='Emili', employer='Hoeger, Gleason and Steuber', department='Services', model_year=1993, last_updated=datetime.datetime(2017, 7, 7, 10, 6, 25), last_name='Alexis', language='Ndebele', vehicle_model='Q', gender='Female')\n",
            "combined_type(ssn='670-89-3434', vehicle_make='Acura', employee_id='25-8521955', created=datetime.datetime(2016, 11, 3, 11, 39, 45), first_name='Elvina', employer='Mann, Trantow and Gusikowski', department='Marketing', model_year=1988, last_updated=datetime.datetime(2017, 3, 27, 4, 0, 1), last_name='Scowcroft', language='Albanian', vehicle_model='Legend', gender='Female')\n",
            "combined_type(ssn='671-16-1411', vehicle_make='Lexus', employee_id='26-2704393', created=datetime.datetime(2016, 6, 17, 12, 34, 51), first_name='Elsa', employer='Rath Inc', department='Sales', model_year=2012, last_updated=datetime.datetime(2017, 3, 21, 13, 8, 56), last_name='Dawes', language='Swahili', vehicle_model='HS', gender='Female')\n",
            "combined_type(ssn='671-71-9470', vehicle_make='Porsche', employee_id='64-6834709', created=datetime.datetime(2016, 2, 24, 17, 39, 32), first_name='Billie', employer='Wuckert Inc', department='Accounting', model_year=1987, last_updated=datetime.datetime(2017, 1, 15, 5, 30, 49), last_name='Spittal', language='Catalan', vehicle_model='924 S', gender='Female')\n",
            "combined_type(ssn='671-76-8792', vehicle_make='Audi', employee_id='73-9942988', created=datetime.datetime(2016, 3, 3, 1, 23, 14), first_name='Melisse', employer='Ruecker Inc', department='Accounting', model_year=2010, last_updated=datetime.datetime(2017, 10, 16, 1, 26, 58), last_name='Extil', language='Punjabi', vehicle_model='Q7', gender='Female')\n",
            "combined_type(ssn='672-60-8782', vehicle_make='Mazda', employee_id='99-6082191', created=datetime.datetime(2016, 11, 23, 15, 36, 9), first_name='Sharia', employer='Adams, Deckow and Sauer', department='Services', model_year=1996, last_updated=datetime.datetime(2017, 6, 7, 0, 9, 26), last_name='Gavrielly', language='Lao', vehicle_model='Miata MX-5', gender='Female')\n",
            "combined_type(ssn='673-83-5713', vehicle_make='Toyota', employee_id='64-5521094', created=datetime.datetime(2016, 3, 5, 11, 42, 23), first_name='Bartholomeo', employer='McKenzie and Sons', department='Product Management', model_year=2000, last_updated=datetime.datetime(2017, 12, 20, 12, 23, 14), last_name='Stote', language='Icelandic', vehicle_model='Celica', gender='Male')\n",
            "combined_type(ssn='674-64-0219', vehicle_make='Mercury', employee_id='19-6373047', created=datetime.datetime(2016, 6, 2, 21, 36, 30), first_name='Abner', employer='Reilly, Bechtelar and Romaguera', department='Engineering', model_year=1992, last_updated=datetime.datetime(2017, 12, 26, 19, 57, 37), last_name='Hoyle', language='Latvian', vehicle_model='Sable', gender='Male')\n",
            "combined_type(ssn='675-31-0953', vehicle_make='Volvo', employee_id='00-6483056', created=datetime.datetime(2016, 1, 9, 18, 15, 3), first_name='Mychal', employer='Fay, Becker and Purdy', department='Training', model_year=2010, last_updated=datetime.datetime(2017, 9, 20, 22, 55, 45), last_name='Legerwood', language='Tamil', vehicle_model='S80', gender='Male')\n",
            "combined_type(ssn='675-41-4272', vehicle_make='Toyota', employee_id='29-9916912', created=datetime.datetime(2016, 3, 10, 19, 18, 59), first_name='Kevan', employer='Leannon-Hessel', department='Support', model_year=1997, last_updated=datetime.datetime(2017, 7, 30, 14, 15, 9), last_name='Grishechkin', language='English', vehicle_model='T100', gender='Male')\n",
            "combined_type(ssn='678-60-4630', vehicle_make='GMC', employee_id='01-6053786', created=datetime.datetime(2016, 10, 29, 8, 46, 33), first_name='Mortie', employer='Kling Group', department='Accounting', model_year=1993, last_updated=datetime.datetime(2017, 10, 27, 21, 29, 38), last_name='Dunbobin', language='Malay', vehicle_model='Sonoma Club Coupe', gender='Male')\n",
            "combined_type(ssn='679-22-5301', vehicle_make='Chevrolet', employee_id='04-0225495', created=datetime.datetime(2016, 8, 23, 7, 16, 39), first_name='Avigdor', employer='Larson Group', department='Engineering', model_year=1975, last_updated=datetime.datetime(2017, 3, 4, 17, 47, 51), last_name='Galway', language='Afrikaans', vehicle_model='Monza', gender='Male')\n",
            "combined_type(ssn='680-11-2707', vehicle_make='Chevrolet', employee_id='63-4901321', created=datetime.datetime(2016, 7, 13, 12, 11, 36), first_name='Letta', employer='Satterfield, Wolf and Thiel', department='Research and Development', model_year=1992, last_updated=datetime.datetime(2017, 12, 29, 10, 10, 26), last_name='Wishart', language='Chinese', vehicle_model='Beretta', gender='Female')\n",
            "combined_type(ssn='681-72-2644', vehicle_make='Chevrolet', employee_id='11-6978970', created=datetime.datetime(2016, 3, 1, 22, 1, 49), first_name='Rosie', employer='Wolff, Metz and Gorczany', department='Accounting', model_year=2001, last_updated=datetime.datetime(2017, 12, 14, 23, 56, 34), last_name='Aartsen', language='Luxembourgish', vehicle_model='Malibu', gender='Female')\n",
            "combined_type(ssn='682-06-8032', vehicle_make='GMC', employee_id='08-3337151', created=datetime.datetime(2016, 7, 26, 13, 53, 52), first_name='Gray', employer='Wisozk, Bergnaum and Fahey', department='Accounting', model_year=1996, last_updated=datetime.datetime(2017, 10, 30, 9, 2, 6), last_name='Clemencon', language='Japanese', vehicle_model='2500 Club Coupe', gender='Female')\n",
            "combined_type(ssn='682-68-1965', vehicle_make='GMC', employee_id='19-6640802', created=datetime.datetime(2016, 3, 7, 13, 23, 11), first_name='Benedict', employer='Towne, Spinka and Ankunding', department='Support', model_year=2009, last_updated=datetime.datetime(2017, 5, 15, 6, 47, 27), last_name='Nealy', language='Montenegrin', vehicle_model='Yukon XL 2500', gender='Male')\n",
            "combined_type(ssn='682-73-2035', vehicle_make='Land Rover', employee_id='12-9736485', created=datetime.datetime(2016, 9, 23, 15, 20, 47), first_name='Juditha', employer='Jaskolski-Cremin', department='Services', model_year=1987, last_updated=datetime.datetime(2017, 11, 17, 11, 41, 6), last_name='Bowra', language='Haitian Creole', vehicle_model='Range Rover', gender='Female')\n",
            "combined_type(ssn='684-49-8302', vehicle_make='Mitsubishi', employee_id='22-4002090', created=datetime.datetime(2016, 7, 17, 22, 40, 6), first_name='Jeddy', employer='Purdy LLC', department='Services', model_year=2009, last_updated=datetime.datetime(2017, 5, 17, 8, 35, 15), last_name='Ruppertz', language='Tswana', vehicle_model='Raider', gender='Male')\n",
            "combined_type(ssn='684-95-5429', vehicle_make='Mitsubishi', employee_id='50-0020034', created=datetime.datetime(2016, 9, 6, 18, 26, 18), first_name='Ajay', employer='Ankunding and Sons', department='Engineering', model_year=1998, last_updated=datetime.datetime(2018, 2, 20, 13, 57, 55), last_name='Layne', language='Hungarian', vehicle_model='Challenger', gender='Female')\n",
            "combined_type(ssn='686-22-5917', vehicle_make='Ford', employee_id='65-6531918', created=datetime.datetime(2016, 5, 21, 9, 26, 22), first_name='Aleta', employer='Zieme LLC', department='Product Management', model_year=1992, last_updated=datetime.datetime(2017, 4, 16, 16, 32, 39), last_name='Abad', language='Latvian', vehicle_model='Crown Victoria', gender='Female')\n",
            "combined_type(ssn='687-27-5241', vehicle_make='Acura', employee_id='30-6205049', created=datetime.datetime(2016, 10, 29, 23, 44, 20), first_name='Hildegarde', employer='Klocko LLC', department='Human Resources', model_year=2011, last_updated=datetime.datetime(2017, 2, 14, 9, 45, 31), last_name='Crosoer', language='Marathi', vehicle_model='TSX', gender='Female')\n",
            "combined_type(ssn='687-98-6782', vehicle_make='Toyota', employee_id='84-0699398', created=datetime.datetime(2016, 6, 26, 8, 48, 22), first_name='Jamal', employer='Pollich-Wiegand', department='Human Resources', model_year=2007, last_updated=datetime.datetime(2018, 3, 12, 5, 36, 23), last_name='Jagg', language='Montenegrin', vehicle_model='Prius', gender='Male')\n",
            "combined_type(ssn='689-25-7868', vehicle_make='Toyota', employee_id='37-7570212', created=datetime.datetime(2016, 3, 22, 10, 29, 14), first_name='Kalil', employer='Volkman, Weber and Hilll', department='Engineering', model_year=1998, last_updated=datetime.datetime(2017, 8, 15, 0, 59, 4), last_name='North', language='Telugu', vehicle_model='T100', gender='Male')\n",
            "combined_type(ssn='690-61-7133', vehicle_make='Lotus', employee_id='12-7706984', created=datetime.datetime(2016, 12, 2, 1, 33, 50), first_name='Lindsay', employer='Schinner, Carter and Marks', department='Product Management', model_year=1989, last_updated=datetime.datetime(2017, 10, 19, 2, 16, 19), last_name='Henzley', language='Montenegrin', vehicle_model='Esprit', gender='Male')\n",
            "combined_type(ssn='692-31-0697', vehicle_make='Volvo', employee_id='58-0730098', created=datetime.datetime(2016, 5, 22, 21, 42, 24), first_name='Blondell', employer='Smith-Boehm', department='Training', model_year=1997, last_updated=datetime.datetime(2018, 1, 28, 18, 18, 17), last_name='Wrigley', language='Persian', vehicle_model=850, gender='Female')\n",
            "combined_type(ssn='692-38-3792', vehicle_make='Dodge', employee_id='20-6456141', created=datetime.datetime(2016, 4, 18, 15, 51, 11), first_name='Mart', employer='Steuber Group', department='Engineering', model_year=2000, last_updated=datetime.datetime(2017, 5, 8, 7, 45, 55), last_name='Wheldon', language='Indonesian', vehicle_model='Viper', gender='Male')\n",
            "combined_type(ssn='694-86-1783', vehicle_make='Pontiac', employee_id='96-7179738', created=datetime.datetime(2016, 5, 7, 8, 22, 45), first_name='Griffie', employer='Gleason, Thompson and Adams', department='Legal', model_year=1963, last_updated=datetime.datetime(2017, 3, 3, 20, 12, 4), last_name='Rosenbush', language='Montenegrin', vehicle_model='Grand Prix', gender='Male')\n",
            "combined_type(ssn='695-51-8778', vehicle_make='Ford', employee_id='34-2143290', created=datetime.datetime(2016, 4, 3, 6, 49, 13), first_name='Farly', employer='Leuschke-Ferry', department='Support', model_year=1985, last_updated=datetime.datetime(2017, 4, 27, 6, 36, 27), last_name='Benjamin', language='Burmese', vehicle_model='Ranger', gender='Male')\n",
            "combined_type(ssn='696-10-4037', vehicle_make='Mitsubishi', employee_id='14-6526397', created=datetime.datetime(2016, 5, 14, 0, 18, 27), first_name='Marcela', employer='Hoppe Inc', department='Sales', model_year=1987, last_updated=datetime.datetime(2017, 4, 12, 6, 13, 59), last_name='Stoade', language='Lithuanian', vehicle_model='Chariot', gender='Female')\n",
            "combined_type(ssn='696-45-6436', vehicle_make='Pontiac', employee_id='05-5600372', created=datetime.datetime(2016, 11, 23, 22, 5, 51), first_name='Enrico', employer='Schmeler and Sons', department='Engineering', model_year=1989, last_updated=datetime.datetime(2017, 3, 8, 7, 13, 38), last_name='Rubinowitz', language='Lao', vehicle_model=6000, gender='Male')\n",
            "combined_type(ssn='698-76-6576', vehicle_make='Ford', employee_id='97-9912317', created=datetime.datetime(2016, 6, 13, 13, 12, 48), first_name='Tom', employer='Cremin-Pollich', department='Product Management', model_year=2002, last_updated=datetime.datetime(2017, 5, 24, 13, 43, 46), last_name='Crosscombe', language='Northern Sotho', vehicle_model='Explorer', gender='Male')\n",
            "combined_type(ssn='698-94-3612', vehicle_make='Lincoln', employee_id='97-1013671', created=datetime.datetime(2016, 9, 13, 6, 27, 53), first_name='Duke', employer='Labadie, Wiza and Kuhic', department='Marketing', model_year=2004, last_updated=datetime.datetime(2018, 3, 2, 20, 18, 21), last_name='Brobak', language='Gujarati', vehicle_model='Aviator', gender='Male')\n",
            "combined_type(ssn='699-17-4497', vehicle_make='Audi', employee_id='46-1230529', created=datetime.datetime(2016, 7, 1, 8, 2, 58), first_name='Eolanda', employer='Heller-Price', department='Engineering', model_year=2008, last_updated=datetime.datetime(2018, 1, 28, 19, 14, 50), last_name='Shine', language='Estonian', vehicle_model='A6', gender='Female')\n",
            "combined_type(ssn='700-49-1211', vehicle_make='Jeep', employee_id='91-5903365', created=datetime.datetime(2016, 10, 5, 2, 35, 58), first_name='Julie', employer='Halvorson, Braun and Kautzer', department='Legal', model_year=2004, last_updated=datetime.datetime(2017, 7, 30, 16, 4, 54), last_name='Houseley', language='Tok Pisin', vehicle_model='Grand Cherokee', gender='Female')\n",
            "combined_type(ssn='700-73-0102', vehicle_make='Ford', employee_id='93-8453365', created=datetime.datetime(2016, 12, 10, 13, 15, 1), first_name='Forester', employer='Orn-Ritchie', department='Legal', model_year=2003, last_updated=datetime.datetime(2017, 12, 9, 2, 13, 14), last_name='Blinerman', language='Finnish', vehicle_model='F150', gender='Male')\n",
            "combined_type(ssn='701-06-8590', vehicle_make='Toyota', employee_id='03-8745406', created=datetime.datetime(2016, 10, 6, 8, 31, 58), first_name='Ralf', employer='Jones Inc', department='Engineering', model_year=1994, last_updated=datetime.datetime(2017, 2, 28, 13, 36, 13), last_name='Aliman', language='Aymara', vehicle_model='Tercel', gender='Male')\n",
            "combined_type(ssn='701-53-6262', vehicle_make='Mercedes-Benz', employee_id='32-2514606', created=datetime.datetime(2016, 2, 24, 5, 3, 23), first_name='Devon', employer='Ledner-Hane', department='Sales', model_year=2012, last_updated=datetime.datetime(2017, 6, 21, 5, 52, 12), last_name='Wane', language='Maori', vehicle_model='E-Class', gender='Female')\n",
            "combined_type(ssn='702-02-6635', vehicle_make='Toyota', employee_id='91-1049918', created=datetime.datetime(2016, 6, 22, 1, 13, 40), first_name='Sherwood', employer='DuBuque, Lebsack and Rutherford', department='Research and Development', model_year=2005, last_updated=datetime.datetime(2017, 3, 15, 2, 47, 39), last_name='Jeffreys', language='Dhivehi', vehicle_model='Celica', gender='Male')\n",
            "combined_type(ssn='702-67-5109', vehicle_make='Morgan', employee_id='47-6501802', created=datetime.datetime(2016, 11, 2, 14, 50, 30), first_name='Gabi', employer='Wunsch, Johnson and Kiehn', department='Marketing', model_year=2009, last_updated=datetime.datetime(2017, 9, 19, 22, 31, 18), last_name='Swallow', language='Sotho', vehicle_model='Aero 8', gender='Female')\n",
            "combined_type(ssn='704-72-4439', vehicle_make='Toyota', employee_id='42-5019299', created=datetime.datetime(2016, 10, 23, 2, 11, 33), first_name='Euell', employer='Veum-Wiza', department='Services', model_year=1995, last_updated=datetime.datetime(2017, 5, 1, 16, 53, 24), last_name=\"O'Leagham\", language='Yiddish', vehicle_model='Corolla', gender='Male')\n",
            "combined_type(ssn='705-15-6989', vehicle_make='Toyota', employee_id='98-3357063', created=datetime.datetime(2016, 7, 15, 21, 23, 23), first_name='Minta', employer=\"O'Connell-Lehner\", department='Legal', model_year=2005, last_updated=datetime.datetime(2017, 11, 1, 15, 6, 19), last_name='Beecroft', language='Maltese', vehicle_model='Land Cruiser', gender='Female')\n",
            "combined_type(ssn='705-98-0229', vehicle_make='Chevrolet', employee_id='22-1486929', created=datetime.datetime(2016, 4, 18, 8, 49, 27), first_name='Vic', employer='Wiegand Inc', department='Product Management', model_year=2006, last_updated=datetime.datetime(2017, 8, 30, 12, 22, 27), last_name='Elsley', language='Czech', vehicle_model='Express 2500', gender='Male')\n",
            "combined_type(ssn='709-73-6600', vehicle_make='Buick', employee_id='37-6864505', created=datetime.datetime(2016, 6, 11, 5, 51, 57), first_name='Stillman', employer='Swaniawski-Goodwin', department='Training', model_year=2005, last_updated=datetime.datetime(2017, 2, 13, 9, 25, 57), last_name='Fairbrass', language='German', vehicle_model='Rendezvous', gender='Male')\n",
            "combined_type(ssn='714-55-2111', vehicle_make='Pontiac', employee_id='95-8050693', created=datetime.datetime(2016, 11, 23, 7, 42, 23), first_name='Elysee', employer='Heidenreich, Moore and Hickle', department='Research and Development', model_year=2007, last_updated=datetime.datetime(2017, 12, 20, 2, 9, 58), last_name='Bardsley', language='Lao', vehicle_model='Vibe', gender='Female')\n",
            "combined_type(ssn='715-89-3174', vehicle_make='Ford', employee_id='12-0015419', created=datetime.datetime(2016, 12, 30, 3, 39, 33), first_name='Nicholas', employer='Hoeger, Kessler and Feeney', department='Legal', model_year=2007, last_updated=datetime.datetime(2017, 3, 28, 11, 51, 55), last_name='Crack', language='Greek', vehicle_model='Crown Victoria', gender='Male')\n",
            "combined_type(ssn='717-91-7919', vehicle_make='Maybach', employee_id='86-1251169', created=datetime.datetime(2016, 11, 21, 2, 30, 18), first_name='Ches', employer='Wintheiser-Nader', department='Engineering', model_year=2007, last_updated=datetime.datetime(2017, 6, 4, 8, 32, 28), last_name='Rablan', language='Thai', vehicle_model=57, gender='Male')\n",
            "combined_type(ssn='718-89-7490', vehicle_make='Nissan', employee_id='26-1194300', created=datetime.datetime(2016, 11, 19, 4, 10, 20), first_name='Jessamyn', employer='Zieme, Beatty and Hintz', department='Engineering', model_year=1997, last_updated=datetime.datetime(2017, 5, 26, 15, 36, 39), last_name='Hamill', language='Icelandic', vehicle_model='200SX', gender='Female')\n",
            "combined_type(ssn='718-91-6110', vehicle_make='Infiniti', employee_id='59-4324075', created=datetime.datetime(2016, 2, 16, 18, 50, 33), first_name='Emory', employer='Carroll, Skiles and McDermott', department='Engineering', model_year=2004, last_updated=datetime.datetime(2017, 6, 4, 4, 54, 29), last_name='Ambrus', language='Papiamento', vehicle_model='I', gender='Male')\n",
            "combined_type(ssn='719-05-6621', vehicle_make='Chevrolet', employee_id='23-7767142', created=datetime.datetime(2016, 5, 9, 18, 56, 22), first_name='Susanne', employer='Wintheiser-Dach', department='Research and Development', model_year=2003, last_updated=datetime.datetime(2017, 9, 17, 14, 33, 45), last_name='Dilger', language='Punjabi', vehicle_model='Silverado 2500', gender='Female')\n",
            "combined_type(ssn='719-96-8751', vehicle_make='Audi', employee_id='34-6229266', created=datetime.datetime(2016, 12, 7, 1, 36, 10), first_name='Sallie', employer='Koepp LLC', department='Human Resources', model_year=1987, last_updated=datetime.datetime(2017, 6, 9, 4, 59, 8), last_name='Gosnold', language='Catalan', vehicle_model=4000, gender='Female')\n",
            "combined_type(ssn='720-63-4381', vehicle_make='Mitsubishi', employee_id='40-5571895', created=datetime.datetime(2016, 9, 30, 14, 57, 45), first_name='Jayson', employer='Carter-Parker', department='Support', model_year=2010, last_updated=datetime.datetime(2017, 12, 25, 7, 50, 51), last_name='Gatrell', language='Haitian Creole', vehicle_model='Lancer Evolution', gender='Male')\n",
            "combined_type(ssn='722-30-1903', vehicle_make='Infiniti', employee_id='45-6876936', created=datetime.datetime(2016, 5, 26, 19, 29, 22), first_name='Nowell', employer='Leannon LLC', department='Accounting', model_year=1997, last_updated=datetime.datetime(2017, 3, 4, 4, 26, 48), last_name='Ambler', language='Korean', vehicle_model='I', gender='Male')\n",
            "combined_type(ssn='722-64-9283', vehicle_make='Mercedes-Benz', employee_id='93-9415580', created=datetime.datetime(2016, 2, 6, 23, 9, 16), first_name='Dionisio', employer='Kub Group', department='Legal', model_year=1993, last_updated=datetime.datetime(2017, 1, 10, 3, 41, 51), last_name='Peddar', language='Kazakh', vehicle_model='300TE', gender='Male')\n",
            "combined_type(ssn='723-36-6692', vehicle_make='Dodge', employee_id='70-1416714', created=datetime.datetime(2016, 11, 22, 10, 41, 14), first_name='Ivan', employer='Dietrich, Pagac and Lebsack', department='Engineering', model_year=2003, last_updated=datetime.datetime(2017, 7, 19, 7, 29, 55), last_name='Musla', language='Haitian Creole', vehicle_model='Viper', gender='Male')\n",
            "combined_type(ssn='724-90-0728', vehicle_make='Cadillac', employee_id='03-2791013', created=datetime.datetime(2016, 8, 22, 18, 36, 49), first_name='Guido', employer='Keebler Inc', department='Sales', model_year=1998, last_updated=datetime.datetime(2017, 3, 27, 9, 2, 7), last_name='Southby', language='Hindi', vehicle_model='Eldorado', gender='Male')\n",
            "combined_type(ssn='725-23-0793', vehicle_make='Volkswagen', employee_id='67-5791221', created=datetime.datetime(2016, 11, 16, 23, 22, 54), first_name='Faber', employer='Berge-Wiza', department='Product Management', model_year=2008, last_updated=datetime.datetime(2017, 8, 5, 14, 59, 13), last_name='Houseley', language='Dzongkha', vehicle_model='R32', gender='Male')\n",
            "combined_type(ssn='727-48-6769', vehicle_make='Audi', employee_id='35-2878417', created=datetime.datetime(2016, 1, 17, 15, 4, 5), first_name='Ervin', employer='Dickens Group', department='Training', model_year=2009, last_updated=datetime.datetime(2017, 1, 25, 10, 45, 49), last_name='Duncklee', language='Zulu', vehicle_model='S4', gender='Male')\n",
            "combined_type(ssn='727-82-4383', vehicle_make='Dodge', employee_id='81-2582346', created=datetime.datetime(2016, 9, 28, 18, 35, 57), first_name='Agosto', employer='Green, Lakin and Breitenberg', department='Accounting', model_year=1998, last_updated=datetime.datetime(2017, 5, 30, 9, 56, 17), last_name='Cudbertson', language='Greek', vehicle_model='Avenger', gender='Male')\n",
            "combined_type(ssn='728-54-5322', vehicle_make='Cadillac', employee_id='14-2928154', created=datetime.datetime(2016, 6, 10, 23, 47, 18), first_name='Berti', employer='Hahn and Sons', department='Services', model_year=2009, last_updated=datetime.datetime(2017, 8, 15, 3, 53, 9), last_name='Bertelet', language='German', vehicle_model='STS', gender='Female')\n",
            "combined_type(ssn='729-95-1691', vehicle_make='Volvo', employee_id='29-6891285', created=datetime.datetime(2016, 3, 29, 21, 15, 40), first_name='Marion', employer=\"Kris, O'Kon and Legros\", department='Support', model_year=2001, last_updated=datetime.datetime(2017, 3, 15, 7, 34, 31), last_name='Danson', language='Zulu', vehicle_model='S60', gender='Female')\n",
            "combined_type(ssn='731-22-8474', vehicle_make='Mitsubishi', employee_id='02-3341550', created=datetime.datetime(2016, 2, 4, 14, 11, 45), first_name='Hatti', employer='Becker-Bogisich', department='Research and Development', model_year=1985, last_updated=datetime.datetime(2017, 12, 23, 2, 30), last_name='Dzeniskevich', language='Punjabi', vehicle_model='Starion', gender='Female')\n",
            "combined_type(ssn='733-29-1354', vehicle_make='Chevrolet', employee_id='10-0990580', created=datetime.datetime(2016, 6, 30, 6, 40, 19), first_name='Marcelo', employer=\"Ebert-O'Hara\", department='Sales', model_year=1993, last_updated=datetime.datetime(2017, 4, 3, 17, 34, 9), last_name='Bannard', language='Dzongkha', vehicle_model=1500, gender='Male')\n",
            "combined_type(ssn='733-78-5243', vehicle_make='Lincoln', employee_id='61-8685762', created=datetime.datetime(2016, 11, 15, 6, 29), first_name='Gallard', employer='Hills-Pagac', department='Legal', model_year=2010, last_updated=datetime.datetime(2017, 2, 17, 10, 18, 1), last_name='Schapiro', language='Albanian', vehicle_model='MKX', gender='Male')\n",
            "combined_type(ssn='735-42-4024', vehicle_make='Bentley', employee_id='19-0051837', created=datetime.datetime(2016, 9, 13, 18, 42, 53), first_name='Peirce', employer='Gleichner Inc', department='Business Development', model_year=2011, last_updated=datetime.datetime(2017, 12, 24, 8, 6, 6), last_name='Jeeks', language='Punjabi', vehicle_model='Continental Super', gender='Male')\n",
            "combined_type(ssn='736-60-2127', vehicle_make='Nissan', employee_id='65-1059165', created=datetime.datetime(2016, 8, 13, 8, 19, 59), first_name='Constanta', employer='Grady and Sons', department='Engineering', model_year=2002, last_updated=datetime.datetime(2017, 9, 5, 18, 31, 29), last_name='Round', language='Estonian', vehicle_model='Xterra', gender='Female')\n",
            "combined_type(ssn='737-89-8983', vehicle_make='Mitsubishi', employee_id='84-0420516', created=datetime.datetime(2016, 7, 15, 14, 34, 42), first_name='Katherine', employer='Bauch Inc', department='Business Development', model_year=1995, last_updated=datetime.datetime(2017, 5, 21, 16, 7, 36), last_name='Kuschke', language='Tajik', vehicle_model='GTO', gender='Female')\n",
            "combined_type(ssn='738-38-4091', vehicle_make='Maserati', employee_id='33-0137869', created=datetime.datetime(2016, 6, 9, 21, 5, 36), first_name='Armstrong', employer='Nolan-Jacobs', department='Sales', model_year=1990, last_updated=datetime.datetime(2017, 11, 29, 13, 9, 59), last_name='Dykes', language='Haitian Creole', vehicle_model='Karif', gender='Male')\n",
            "combined_type(ssn='738-65-3635', vehicle_make='Infiniti', employee_id='89-2845429', created=datetime.datetime(2016, 2, 28, 11, 38, 16), first_name='Shaina', employer='Boehm, Stamm and Skiles', department='Training', model_year=1999, last_updated=datetime.datetime(2018, 3, 16, 6, 32, 33), last_name='Getsham', language='Spanish', vehicle_model='I', gender='Female')\n",
            "combined_type(ssn='740-64-7874', vehicle_make='Buick', employee_id='93-2814874', created=datetime.datetime(2016, 8, 3, 14, 0), first_name='Ethan', employer='Feeney-Heller', department='Marketing', model_year=2012, last_updated=datetime.datetime(2017, 8, 12, 20, 45, 10), last_name='Meiklejohn', language='Maori', vehicle_model='Regal', gender='Male')\n",
            "combined_type(ssn='741-53-2153', vehicle_make='Dodge', employee_id='38-8541450', created=datetime.datetime(2016, 6, 17, 22, 23, 46), first_name='Rodie', employer='Kohler-Balistreri', department='Business Development', model_year=1992, last_updated=datetime.datetime(2017, 11, 10, 10, 12, 8), last_name='Simakov', language='Czech', vehicle_model='D350 Club', gender='Female')\n",
            "combined_type(ssn='741-56-7694', vehicle_make='Suzuki', employee_id='82-3219784', created=datetime.datetime(2016, 7, 4, 5, 40, 34), first_name='Arnold', employer='Koepp-Kutch', department='Sales', model_year=1994, last_updated=datetime.datetime(2017, 8, 24, 2, 44, 18), last_name='Duchateau', language='Hebrew', vehicle_model='Swift', gender='Male')\n",
            "combined_type(ssn='741-90-1249', vehicle_make='Oldsmobile', employee_id='95-1246792', created=datetime.datetime(2016, 3, 29, 23, 29, 59), first_name='Kesley', employer='Schultz-Fay', department='Product Management', model_year=1996, last_updated=datetime.datetime(2017, 8, 19, 23, 1, 21), last_name='Standbrook', language='Swahili', vehicle_model='Silhouette', gender='Female')\n",
            "combined_type(ssn='743-75-2371', vehicle_make='Chevrolet', employee_id='69-3955011', created=datetime.datetime(2016, 5, 6, 13, 55, 20), first_name='Jodee', employer='Hand Group', department='Business Development', model_year=2011, last_updated=datetime.datetime(2017, 12, 27, 9, 33, 42), last_name='Lintin', language='Dzongkha', vehicle_model='Tahoe', gender='Female')\n",
            "combined_type(ssn='743-87-2936', vehicle_make='Toyota', employee_id='93-9132078', created=datetime.datetime(2016, 4, 25, 16, 46, 48), first_name='Hirsch', employer='Kris-Farrell', department='Legal', model_year=1996, last_updated=datetime.datetime(2017, 3, 20, 12, 4, 31), last_name='Mee', language='Finnish', vehicle_model='Corolla', gender='Male')\n",
            "combined_type(ssn='744-87-2990', vehicle_make='Dodge', employee_id='50-3503684', created=datetime.datetime(2016, 5, 30, 6, 8, 25), first_name='Swen', employer='Barrows-Schroeder', department='Engineering', model_year=2003, last_updated=datetime.datetime(2018, 1, 5, 2, 8, 6), last_name='Le Surf', language='Persian', vehicle_model='Caravan', gender='Male')\n",
            "combined_type(ssn='745-19-1777', vehicle_make='GMC', employee_id='74-2893508', created=datetime.datetime(2016, 9, 24, 5, 16, 1), first_name='Dannel', employer='Heaney LLC', department='Business Development', model_year=2005, last_updated=datetime.datetime(2017, 12, 10, 5, 19, 31), last_name='Down', language='Polish', vehicle_model='Savana 1500', gender='Male')\n",
            "combined_type(ssn='746-55-1405', vehicle_make='Volvo', employee_id='12-6803384', created=datetime.datetime(2016, 5, 9, 20, 19, 17), first_name='Cornall', employer='Cruickshank Group', department='Sales', model_year=2008, last_updated=datetime.datetime(2018, 3, 19, 22, 3, 58), last_name='Hegel', language='Albanian', vehicle_model='S80', gender='Male')\n",
            "combined_type(ssn='747-12-8456', vehicle_make='Lexus', employee_id='56-1176228', created=datetime.datetime(2016, 2, 9, 13, 36, 38), first_name='Spense', employer='Franecki and Sons', department='Business Development', model_year=2011, last_updated=datetime.datetime(2017, 10, 31, 19, 25, 51), last_name='Cicchinelli', language='Fijian', vehicle_model='HS', gender='Male')\n",
            "combined_type(ssn='749-85-8879', vehicle_make='Mercedes-Benz', employee_id='75-1235886', created=datetime.datetime(2016, 8, 16, 12, 10, 53), first_name='Ferdinand', employer='Miller-Kuhic', department='Sales', model_year=2002, last_updated=datetime.datetime(2018, 3, 15, 11, 44, 12), last_name='Lambrook', language='French', vehicle_model='M-Class', gender='Male')\n",
            "combined_type(ssn='753-94-0630', vehicle_make='Ford', employee_id='25-2833199', created=datetime.datetime(2016, 8, 9, 23, 36, 27), first_name='Garrett', employer='Rempel, Wisoky and Nikolaus', department='Marketing', model_year=1992, last_updated=datetime.datetime(2017, 7, 10, 10, 20, 56), last_name='Peron', language='Punjabi', vehicle_model='Aerostar', gender='Male')\n",
            "combined_type(ssn='753-98-5796', vehicle_make='Volvo', employee_id='34-6530835', created=datetime.datetime(2016, 7, 31, 18, 20, 35), first_name='Charlena', employer='Lowe, Johnston and Zemlak', department='Legal', model_year=2011, last_updated=datetime.datetime(2017, 4, 12, 3, 50, 4), last_name='Cleve', language='New Zealand Sign Language', vehicle_model='S40', gender='Female')\n",
            "combined_type(ssn='754-28-9729', vehicle_make='Mercedes-Benz', employee_id='96-4407720', created=datetime.datetime(2016, 11, 26, 20, 1, 18), first_name='Grata', employer='Auer Group', department='Human Resources', model_year=1992, last_updated=datetime.datetime(2017, 1, 26, 1, 29, 36), last_name='Jiroudek', language='Aymara', vehicle_model='190E', gender='Female')\n",
            "combined_type(ssn='754-49-4659', vehicle_make='Oldsmobile', employee_id='30-6030632', created=datetime.datetime(2016, 5, 23, 22, 18, 13), first_name='Cecilla', employer='Deckow LLC', department='Product Management', model_year=1995, last_updated=datetime.datetime(2017, 3, 15, 20, 21, 58), last_name='Dutnall', language='Latvian', vehicle_model='Ciera', gender='Female')\n",
            "combined_type(ssn='755-08-4000', vehicle_make='Acura', employee_id='44-7633504', created=datetime.datetime(2016, 4, 22, 18, 6, 55), first_name='Domenic', employer='Padberg, Lowe and Beer', department='Accounting', model_year=1999, last_updated=datetime.datetime(2017, 2, 9, 9, 44), last_name='Symes', language='Italian', vehicle_model='CL', gender='Male')\n",
            "combined_type(ssn='756-40-2283', vehicle_make='Ford', employee_id='66-6961911', created=datetime.datetime(2016, 7, 13, 9, 13, 41), first_name='Paten', employer='Simonis-Donnelly', department='Product Management', model_year=1995, last_updated=datetime.datetime(2017, 12, 11, 3, 0, 57), last_name='Senior', language='Malay', vehicle_model='Crown Victoria', gender='Male')\n",
            "combined_type(ssn='758-20-5576', vehicle_make='Ford', employee_id='71-4104023', created=datetime.datetime(2016, 4, 23, 0, 47, 19), first_name='Kathrine', employer='Walker, Hayes and Jenkins', department='Support', model_year=2008, last_updated=datetime.datetime(2017, 5, 31, 12, 9, 25), last_name='Amar', language='Croatian', vehicle_model='Escape', gender='Female')\n",
            "combined_type(ssn='761-01-2227', vehicle_make='Dodge', employee_id='34-6680531', created=datetime.datetime(2016, 9, 18, 4, 30, 32), first_name='Shandy', employer='Moore and Sons', department='Accounting', model_year=2000, last_updated=datetime.datetime(2017, 6, 28, 2, 36, 32), last_name='Alasdair', language='Hebrew', vehicle_model='Grand Caravan', gender='Female')\n",
            "combined_type(ssn='761-64-5650', vehicle_make='Mazda', employee_id='56-6979103', created=datetime.datetime(2016, 9, 5, 12, 55, 59), first_name='Elton', employer='Schulist LLC', department='Legal', model_year=1998, last_updated=datetime.datetime(2017, 12, 5, 3, 51, 14), last_name='Castelin', language='Norwegian', vehicle_model='Millenia', gender='Male')\n",
            "combined_type(ssn='762-43-8029', vehicle_make='Lincoln', employee_id='76-4780191', created=datetime.datetime(2016, 4, 25, 19, 17, 14), first_name='Gill', employer='Sipes, Kovacek and McDermott', department='Legal', model_year=2001, last_updated=datetime.datetime(2017, 9, 27, 8, 58, 46), last_name='Wilford', language='Malay', vehicle_model='Navigator', gender='Female')\n",
            "combined_type(ssn='763-09-1587', vehicle_make='Chevrolet', employee_id='47-0369978', created=datetime.datetime(2016, 11, 24, 19, 46, 6), first_name='Yasmeen', employer='Sporer Group', department='Training', model_year=1995, last_updated=datetime.datetime(2017, 1, 22, 12, 35, 38), last_name='Vaskin', language='Lithuanian', vehicle_model='Corvette', gender='Female')\n",
            "combined_type(ssn='764-93-2248', vehicle_make='Chevrolet', employee_id='38-2550412', created=datetime.datetime(2016, 9, 28, 17, 49, 11), first_name='Maure', employer='Olson, McClure and Schiller', department='Marketing', model_year=2004, last_updated=datetime.datetime(2017, 11, 26, 1, 41, 24), last_name='Verrillo', language='Spanish', vehicle_model='Monte Carlo', gender='Female')\n",
            "combined_type(ssn='765-35-8117', vehicle_make='Nissan', employee_id='91-7097850', created=datetime.datetime(2016, 2, 15, 20, 23, 54), first_name='Bernelle', employer='Carroll-Tillman', department='Services', model_year=1992, last_updated=datetime.datetime(2018, 1, 9, 18, 2, 38), last_name='Vinten', language='German', vehicle_model='Pathfinder', gender='Female')\n",
            "combined_type(ssn='765-45-5973', vehicle_make='Hyundai', employee_id='29-9795573', created=datetime.datetime(2016, 12, 7, 23, 5, 35), first_name='Hastings', employer='Fay, Streich and Prohaska', department='Training', model_year=1998, last_updated=datetime.datetime(2018, 2, 21, 23, 13, 46), last_name='Merrell', language='Swedish', vehicle_model='Accent', gender='Male')\n",
            "combined_type(ssn='765-87-9144', vehicle_make='Audi', employee_id='89-4056804', created=datetime.datetime(2016, 11, 4, 17, 25, 8), first_name='Pandora', employer='Hahn-Conn', department='Business Development', model_year=2001, last_updated=datetime.datetime(2017, 7, 10, 16, 23, 32), last_name='Paull', language='Tswana', vehicle_model='A4', gender='Female')\n",
            "combined_type(ssn='767-05-4859', vehicle_make='Chevrolet', employee_id='28-2944796', created=datetime.datetime(2016, 1, 27, 9, 33, 55), first_name='Dennison', employer='Little-Dooley', department='Training', model_year=2007, last_updated=datetime.datetime(2018, 1, 31, 21, 21, 1), last_name='Tournay', language='Catalan', vehicle_model='Silverado 3500', gender='Male')\n",
            "combined_type(ssn='767-55-6767', vehicle_make='Mercedes-Benz', employee_id='72-6928251', created=datetime.datetime(2016, 6, 27, 19, 32, 3), first_name='Glen', employer='Dickinson and Sons', department='Business Development', model_year=1993, last_updated=datetime.datetime(2017, 4, 20, 11, 34, 8), last_name='Cater', language='Finnish', vehicle_model='600SEC', gender='Female')\n",
            "combined_type(ssn='768-54-5764', vehicle_make='Mercury', employee_id='23-9048118', created=datetime.datetime(2016, 6, 29, 17, 1, 52), first_name='Cash', employer='Waelchi Inc', department='Support', model_year=1997, last_updated=datetime.datetime(2017, 8, 30, 1, 27, 30), last_name='Bodman', language='Dutch', vehicle_model='Grand Marquis', gender='Male')\n",
            "combined_type(ssn='768-74-8540', vehicle_make='Mercedes-Benz', employee_id='33-8665953', created=datetime.datetime(2016, 10, 20, 21, 46, 50), first_name='Karee', employer='Maggio-Cassin', department='Product Management', model_year=1993, last_updated=datetime.datetime(2017, 11, 26, 21, 46, 34), last_name='Bleier', language='Tajik', vehicle_model='600SEC', gender='Female')\n",
            "combined_type(ssn='770-61-8252', vehicle_make='Bentley', employee_id='97-5181434', created=datetime.datetime(2016, 4, 17, 6, 15, 58), first_name='Elbertina', employer='Greenholt Inc', department='Business Development', model_year=2008, last_updated=datetime.datetime(2018, 2, 3, 13, 33, 14), last_name='Colls', language='Chinese', vehicle_model='Arnage', gender='Female')\n",
            "combined_type(ssn='771-20-6900', vehicle_make='Mazda', employee_id='79-1858295', created=datetime.datetime(2016, 8, 30, 12, 37, 4), first_name='Alejandra', employer='Hudson, Pacocha and Torp', department='Marketing', model_year=2007, last_updated=datetime.datetime(2017, 11, 23, 12, 17, 15), last_name='Tevlin', language='Greek', vehicle_model='Mazda6', gender='Female')\n",
            "combined_type(ssn='771-71-0505', vehicle_make='Ford', employee_id='71-1703061', created=datetime.datetime(2016, 3, 7, 13, 28, 27), first_name='Romona', employer='Crooks LLC', department='Human Resources', model_year=1989, last_updated=datetime.datetime(2017, 7, 13, 12, 42, 39), last_name='Meikle', language='New Zealand Sign Language', vehicle_model='Festiva', gender='Female')\n",
            "combined_type(ssn='773-21-9639', vehicle_make='Mitsubishi', employee_id='43-1692930', created=datetime.datetime(2016, 2, 7, 11, 6, 8), first_name='Brittney', employer='Bednar-Senger', department='Legal', model_year=1984, last_updated=datetime.datetime(2018, 3, 2, 8, 43, 41), last_name='Byart', language='Tok Pisin', vehicle_model='Starion', gender='Female')\n",
            "combined_type(ssn='773-53-7438', vehicle_make='Volvo', employee_id='19-9999045', created=datetime.datetime(2016, 11, 9, 2, 56, 26), first_name='Flo', employer='Boyer, Mueller and Boyer', department='Engineering', model_year=2001, last_updated=datetime.datetime(2017, 12, 19, 1, 55, 17), last_name='Sirmond', language='Khmer', vehicle_model='V40', gender='Female')\n",
            "combined_type(ssn='773-82-1734', vehicle_make='Porsche', employee_id='91-5888473', created=datetime.datetime(2016, 2, 25, 17, 48, 36), first_name='Maris', employer='Hickle-Herman', department='Accounting', model_year=1999, last_updated=datetime.datetime(2018, 3, 18, 2, 18, 27), last_name='Currin', language='Armenian', vehicle_model='Boxster', gender='Female')\n",
            "combined_type(ssn='774-08-5376', vehicle_make='Jeep', employee_id='04-6398608', created=datetime.datetime(2016, 4, 27, 17, 3, 3), first_name='Pam', employer='Wisozk, Daniel and Becker', department='Research and Development', model_year=2006, last_updated=datetime.datetime(2017, 3, 12, 2, 8, 2), last_name='Matterface', language='Swahili', vehicle_model='Commander', gender='Female')\n",
            "combined_type(ssn='775-09-9949', vehicle_make='Ford', employee_id='99-9505516', created=datetime.datetime(2016, 2, 16, 1, 1, 56), first_name='Orlando', employer='Gottlieb Inc', department='Research and Development', model_year=1987, last_updated=datetime.datetime(2017, 6, 2, 15, 49, 20), last_name='Gresley', language='Danish', vehicle_model='Tempo', gender='Male')\n",
            "combined_type(ssn='777-05-1491', vehicle_make='Pontiac', employee_id='38-2823318', created=datetime.datetime(2016, 11, 18, 15, 1, 6), first_name='Devora', employer='Hartmann-Schaden', department='Accounting', model_year=1989, last_updated=datetime.datetime(2017, 12, 4, 0, 30, 27), last_name='Ashbridge', language='Somali', vehicle_model='Firefly', gender='Female')\n",
            "combined_type(ssn='777-68-2978', vehicle_make='Austin', employee_id='22-4425487', created=datetime.datetime(2016, 10, 1, 7, 34, 26), first_name='Mignon', employer='Will, Crist and Jakubowski', department='Marketing', model_year=1959, last_updated=datetime.datetime(2018, 1, 16, 9, 16, 18), last_name='Skottle', language='Northern Sotho', vehicle_model='Mini', gender='Female')\n",
            "combined_type(ssn='777-94-4586', vehicle_make='Oldsmobile', employee_id='22-3680088', created=datetime.datetime(2016, 1, 5, 1, 14, 12), first_name='Siward', employer='Mohr-Tromp', department='Services', model_year=1996, last_updated=datetime.datetime(2017, 12, 31, 1, 14, 6), last_name='Blues', language='Thai', vehicle_model='Ciera', gender='Male')\n",
            "combined_type(ssn='778-74-8262', vehicle_make='Chevrolet', employee_id='46-8501105', created=datetime.datetime(2016, 8, 7, 11, 55, 4), first_name='Sonia', employer='Anderson, Dickinson and Toy', department='Marketing', model_year=1993, last_updated=datetime.datetime(2017, 2, 5, 11, 21, 48), last_name='Grishakin', language='Bulgarian', vehicle_model='Sportvan G30', gender='Female')\n",
            "combined_type(ssn='779-59-1449', vehicle_make='Mitsubishi', employee_id='41-1699228', created=datetime.datetime(2016, 7, 28, 1, 52, 2), first_name='Gertrude', employer='Emmerich, Auer and Howe', department='Accounting', model_year=1992, last_updated=datetime.datetime(2017, 12, 11, 23, 10, 58), last_name='Ledamun', language='Hungarian', vehicle_model='Mighty Max', gender='Female')\n",
            "combined_type(ssn='780-69-8282', vehicle_make='Pontiac', employee_id='07-1206591', created=datetime.datetime(2016, 5, 14, 22, 9, 3), first_name='Sibeal', employer='Kihn, Veum and Rippin', department='Product Management', model_year=1991, last_updated=datetime.datetime(2018, 3, 30, 5, 53, 21), last_name='Dawney', language='Czech', vehicle_model='Firebird', gender='Female')\n",
            "combined_type(ssn='781-88-2076', vehicle_make='Toyota', employee_id='27-6046833', created=datetime.datetime(2016, 4, 11, 20, 43, 18), first_name='Gelya', employer='Gulgowski, Carroll and Sauer', department='Training', model_year=2009, last_updated=datetime.datetime(2017, 4, 19, 7, 31, 17), last_name='Stell', language='Czech', vehicle_model='Yaris', gender='Female')\n",
            "combined_type(ssn='782-46-9660', vehicle_make='Subaru', employee_id='70-8373631', created=datetime.datetime(2016, 1, 1, 8, 4, 2), first_name='Malina', employer='Little-Veum', department='Engineering', model_year=2000, last_updated=datetime.datetime(2017, 4, 1, 5, 8, 18), last_name='Julyan', language='Burmese', vehicle_model='Outback', gender='Female')\n",
            "combined_type(ssn='782-60-6848', vehicle_make='Chevrolet', employee_id='83-5303621', created=datetime.datetime(2016, 9, 20, 22, 18, 5), first_name='Jehu', employer='Murray, Boyle and Bashirian', department='Sales', model_year=2005, last_updated=datetime.datetime(2017, 11, 15, 3, 57, 38), last_name='Scholig', language='Polish', vehicle_model='Blazer', gender='Male')\n",
            "combined_type(ssn='783-22-9258', vehicle_make='Buick', employee_id='95-2744801', created=datetime.datetime(2016, 8, 15, 14, 8, 12), first_name='Modestine', employer='Funk, Boyer and Littel', department='Legal', model_year=1990, last_updated=datetime.datetime(2017, 9, 24, 10, 26, 26), last_name='Cuttings', language='Assamese', vehicle_model='Skylark', gender='Female')\n",
            "combined_type(ssn='784-88-0730', vehicle_make='Pontiac', employee_id='58-3884885', created=datetime.datetime(2016, 5, 13, 11, 4, 30), first_name='Baxie', employer='Fisher-Collier', department='Marketing', model_year=2000, last_updated=datetime.datetime(2018, 3, 21, 3, 30, 28), last_name='Judd', language='Maltese', vehicle_model='Firebird', gender='Male')\n",
            "combined_type(ssn='785-14-5978', vehicle_make='Kia', employee_id='81-4856450', created=datetime.datetime(2016, 12, 24, 15, 17, 46), first_name='Trista', employer='Mohr-Schinner', department='Legal', model_year=2008, last_updated=datetime.datetime(2017, 6, 7, 10, 58, 5), last_name='Watkinson', language='Moldovan', vehicle_model='Carens', gender='Female')\n",
            "combined_type(ssn='786-56-3561', vehicle_make='Ford', employee_id='09-8549621', created=datetime.datetime(2016, 6, 9, 18, 3, 55), first_name='Wait', employer='Cruickshank-Bechtelar', department='Research and Development', model_year=1986, last_updated=datetime.datetime(2017, 3, 26, 3, 19, 25), last_name='Boyda', language='Norwegian', vehicle_model='Tempo', gender='Male')\n",
            "combined_type(ssn='786-63-6223', vehicle_make='Hyundai', employee_id='10-7064521', created=datetime.datetime(2016, 2, 27, 5, 20, 2), first_name='Adham', employer='Pagac, Howell and Sipes', department='Human Resources', model_year=2008, last_updated=datetime.datetime(2017, 10, 28, 7, 13, 44), last_name='Toope', language='Belarusian', vehicle_model='Accent', gender='Male')\n",
            "combined_type(ssn='787-05-9008', vehicle_make='GMC', employee_id='60-3943212', created=datetime.datetime(2016, 6, 28, 1, 11, 13), first_name='Ricki', employer='Funk Inc', department='Accounting', model_year=1997, last_updated=datetime.datetime(2018, 3, 9, 0, 38, 25), last_name='Jurges', language='Arabic', vehicle_model='Savana 1500', gender='Female')\n",
            "combined_type(ssn='787-09-5697', vehicle_make='Lexus', employee_id='64-5533135', created=datetime.datetime(2016, 7, 6, 12, 51, 6), first_name='Chelsea', employer='Armstrong-VonRueden', department='Support', model_year=1993, last_updated=datetime.datetime(2017, 8, 9, 8, 21, 11), last_name='Pashby', language='Northern Sotho', vehicle_model='GS', gender='Female')\n",
            "combined_type(ssn='787-10-7877', vehicle_make='Buick', employee_id='09-1706408', created=datetime.datetime(2016, 3, 12, 16, 12, 35), first_name='Torrence', employer='Collins, Blick and Rippin', department='Marketing', model_year=1991, last_updated=datetime.datetime(2017, 2, 25, 0, 7, 52), last_name='Tapping', language='Hiri Motu', vehicle_model='Coachbuilder', gender='Male')\n",
            "combined_type(ssn='788-15-2625', vehicle_make='Suzuki', employee_id='90-9925003', created=datetime.datetime(2016, 3, 6, 13, 43, 25), first_name='Drusilla', employer='Hermann, Hintz and Turner', department='Marketing', model_year=1992, last_updated=datetime.datetime(2017, 4, 15, 18, 33, 44), last_name='Bannester', language='Gujarati', vehicle_model='SJ', gender='Female')\n",
            "combined_type(ssn='789-70-1821', vehicle_make='Saab', employee_id='94-7076951', created=datetime.datetime(2016, 2, 3, 5, 46, 32), first_name='Denni', employer='Hayes-Rutherford', department='Product Management', model_year=2004, last_updated=datetime.datetime(2017, 11, 3, 11, 8, 28), last_name='De Biasio', language='Azeri', vehicle_model='5-Sep', gender='Female')\n",
            "combined_type(ssn='790-04-1283', vehicle_make='Mercury', employee_id='56-3838122', created=datetime.datetime(2016, 6, 7, 20, 42, 37), first_name='Christyna', employer='Frami-Cruickshank', department='Sales', model_year=1998, last_updated=datetime.datetime(2017, 10, 27, 13, 54, 32), last_name='Morrissey', language='Quechua', vehicle_model='Mountaineer', gender='Female')\n",
            "combined_type(ssn='792-71-8046', vehicle_make='Infiniti', employee_id='02-0335898', created=datetime.datetime(2016, 3, 17, 22, 35, 16), first_name='Carly', employer='Rempel-Weissnat', department='Business Development', model_year=2002, last_updated=datetime.datetime(2017, 5, 14, 21, 1, 4), last_name='Hazley', language='Guarana', vehicle_model='Q', gender='Female')\n",
            "combined_type(ssn='794-24-3802', vehicle_make='Land Rover', employee_id='76-9226609', created=datetime.datetime(2016, 2, 23, 1, 42, 6), first_name='Esther', employer='Schoen-Reinger', department='Legal', model_year=2000, last_updated=datetime.datetime(2018, 1, 12, 23, 56, 57), last_name='Sayton', language='Somali', vehicle_model='Discovery', gender='Female')\n",
            "combined_type(ssn='795-56-6486', vehicle_make='Chrysler', employee_id='39-8891615', created=datetime.datetime(2016, 4, 27, 0, 12, 34), first_name='Stevena', employer='Rau-Schmidt', department='Legal', model_year=2008, last_updated=datetime.datetime(2018, 2, 1, 2, 41, 25), last_name='Vatcher', language='Gagauz', vehicle_model=300, gender='Female')\n",
            "combined_type(ssn='795-77-5263', vehicle_make='Ford', employee_id='98-2184361', created=datetime.datetime(2016, 10, 23, 17, 41, 19), first_name='Burty', employer='Brakus, Towne and Connelly', department='Support', model_year=2010, last_updated=datetime.datetime(2017, 3, 24, 22, 0, 29), last_name='Frosdick', language='Marathi', vehicle_model='E150', gender='Male')\n",
            "combined_type(ssn='797-05-2289', vehicle_make='Dodge', employee_id='76-5567281', created=datetime.datetime(2016, 5, 8, 19, 38, 28), first_name='Fanchon', employer='Jerde-Nitzsche', department='Engineering', model_year=2010, last_updated=datetime.datetime(2018, 1, 18, 18, 54, 47), last_name='Petrushanko', language='Finnish', vehicle_model='Journey', gender='Female')\n",
            "combined_type(ssn='797-25-9814', vehicle_make='Lexus', employee_id='43-9515382', created=datetime.datetime(2016, 5, 16, 14, 28, 50), first_name='Aleksandr', employer='Reinger Group', department='Marketing', model_year=2012, last_updated=datetime.datetime(2017, 11, 17, 21, 58, 14), last_name='Swalwell', language='Pashto', vehicle_model='HS', gender='Male')\n",
            "combined_type(ssn='797-65-2382', vehicle_make='Volkswagen', employee_id='52-0032929', created=datetime.datetime(2016, 2, 25, 16, 22, 8), first_name='Marianne', employer='Walker-Lemke', department='Research and Development', model_year=1985, last_updated=datetime.datetime(2017, 1, 24, 12, 7, 57), last_name='Huccaby', language='Swedish', vehicle_model='Scirocco', gender='Female')\n",
            "combined_type(ssn='797-87-7992', vehicle_make='Volkswagen', employee_id='83-0034047', created=datetime.datetime(2016, 10, 19, 9, 48, 40), first_name='Lonna', employer='Becker, Ferry and Kulas', department='Human Resources', model_year=1985, last_updated=datetime.datetime(2018, 2, 24, 14, 55, 36), last_name='Plumridge', language='Armenian', vehicle_model='Scirocco', gender='Female')\n",
            "combined_type(ssn='798-34-1082', vehicle_make='Lotus', employee_id='92-8673485', created=datetime.datetime(2016, 7, 18, 12, 49, 34), first_name='Henka', employer='Hartmann Group', department='Services', model_year=1987, last_updated=datetime.datetime(2017, 3, 22, 13, 48, 42), last_name='Synder', language='Italian', vehicle_model='Esprit', gender='Female')\n",
            "combined_type(ssn='798-65-5644', vehicle_make='Lexus', employee_id='38-4551321', created=datetime.datetime(2016, 12, 5, 4, 31, 19), first_name='Irita', employer='Jacobi, Reilly and Walsh', department='Legal', model_year=1993, last_updated=datetime.datetime(2017, 11, 29, 5, 3, 57), last_name='Heady', language='Montenegrin', vehicle_model='ES', gender='Female')\n",
            "combined_type(ssn='800-06-9721', vehicle_make='Toyota', employee_id='09-5823092', created=datetime.datetime(2016, 10, 6, 4, 19, 10), first_name='Carter', employer='Schuppe LLC', department='Training', model_year=2003, last_updated=datetime.datetime(2017, 6, 15, 11, 45, 18), last_name='Waldron', language='Estonian', vehicle_model='Highlander', gender='Male')\n",
            "combined_type(ssn='801-08-8313', vehicle_make='Suzuki', employee_id='62-4397047', created=datetime.datetime(2016, 2, 17, 16, 51, 58), first_name='Aida', employer='Schuppe-King', department='Product Management', model_year=2006, last_updated=datetime.datetime(2017, 6, 6, 18, 4, 7), last_name='Whitemarsh', language='Chinese', vehicle_model='Grand Vitara', gender='Female')\n",
            "combined_type(ssn='801-92-6460', vehicle_make='Toyota', employee_id='66-9572760', created=datetime.datetime(2016, 11, 3, 7, 17, 1), first_name='Levi', employer='Lesch LLC', department='Support', model_year=1999, last_updated=datetime.datetime(2017, 5, 30, 19, 12, 17), last_name='Downgate', language='Belarusian', vehicle_model='Sienna', gender='Male')\n",
            "combined_type(ssn='801-99-2773', vehicle_make='Ford', employee_id='09-4622650', created=datetime.datetime(2016, 7, 26, 8, 24, 12), first_name='Justinian', employer='Glover-Corwin', department='Marketing', model_year=1986, last_updated=datetime.datetime(2017, 8, 21, 10, 25, 47), last_name='Carlesso', language='Japanese', vehicle_model='E-Series', gender='Male')\n",
            "combined_type(ssn='804-46-0617', vehicle_make='GMC', employee_id='79-2655397', created=datetime.datetime(2016, 11, 6, 6, 36, 15), first_name='Geneva', employer='Nitzsche, Kilback and Abernathy', department='Services', model_year=2011, last_updated=datetime.datetime(2017, 6, 9, 18, 37, 10), last_name='Crinion', language='Hungarian', vehicle_model='Sierra 2500', gender='Female')\n",
            "combined_type(ssn='807-13-5922', vehicle_make='Cadillac', employee_id='65-9491878', created=datetime.datetime(2016, 6, 17, 23, 4, 5), first_name='Vivi', employer=\"Kihn, D'Amore and Volkman\", department='Business Development', model_year=2001, last_updated=datetime.datetime(2017, 3, 12, 16, 29, 50), last_name='Edinboro', language='Sotho', vehicle_model='Seville', gender='Female')\n",
            "combined_type(ssn='807-24-6202', vehicle_make='Hyundai', employee_id='28-4538440', created=datetime.datetime(2016, 2, 20, 3, 53, 16), first_name='Lanette', employer='King Inc', department='Marketing', model_year=2000, last_updated=datetime.datetime(2017, 12, 22, 4, 19, 35), last_name='Elvins', language='Hiri Motu', vehicle_model='Accent', gender='Female')\n",
            "combined_type(ssn='807-25-6136', vehicle_make='Oldsmobile', employee_id='21-0846325', created=datetime.datetime(2016, 6, 30, 11, 32, 14), first_name='Sammy', employer='Dooley, Bogisich and Eichmann', department='Support', model_year=1966, last_updated=datetime.datetime(2017, 7, 10, 21, 58, 9), last_name='Linnard', language='Dutch', vehicle_model='Toronado', gender='Female')\n",
            "combined_type(ssn='807-35-8936', vehicle_make='Dodge', employee_id='53-4269406', created=datetime.datetime(2016, 5, 20, 15, 53, 34), first_name='Georgi', employer='Schneider-Effertz', department='Product Management', model_year=2005, last_updated=datetime.datetime(2017, 3, 10, 8, 11, 51), last_name='Widd', language='Afrikaans', vehicle_model='Ram 1500', gender='Male')\n",
            "combined_type(ssn='807-50-8539', vehicle_make='Pontiac', employee_id='45-4824943', created=datetime.datetime(2016, 11, 17, 19, 43, 48), first_name='Jaquith', employer='Cormier-Quigley', department='Sales', model_year=2005, last_updated=datetime.datetime(2017, 8, 25, 17, 2, 7), last_name='Erdes', language='Dhivehi', vehicle_model='Montana', gender='Female')\n",
            "combined_type(ssn='807-60-5615', vehicle_make='Dodge', employee_id='23-5127432', created=datetime.datetime(2016, 1, 21, 10, 4), first_name='Michale', employer='Mayert, Mueller and Stamm', department='Sales', model_year=2000, last_updated=datetime.datetime(2017, 1, 20, 8, 10, 18), last_name='Druery', language='Dhivehi', vehicle_model='Viper', gender='Male')\n",
            "combined_type(ssn='808-55-8658', vehicle_make='Buick', employee_id='37-2182084', created=datetime.datetime(2016, 9, 23, 12, 37, 50), first_name='Ursulina', employer='Mosciski-Marquardt', department='Product Management', model_year=1994, last_updated=datetime.datetime(2017, 9, 30, 9, 38, 27), last_name='Kunze', language='Chinese', vehicle_model='Coachbuilder', gender='Female')\n",
            "combined_type(ssn='808-80-2542', vehicle_make='Dodge', employee_id='03-8800554', created=datetime.datetime(2016, 2, 2, 4, 18, 46), first_name='Gustaf', employer='Cronin, Reilly and Wilderman', department='Legal', model_year=2009, last_updated=datetime.datetime(2018, 1, 3, 12, 45, 59), last_name='Hullot', language='Persian', vehicle_model='Ram', gender='Male')\n",
            "combined_type(ssn='811-65-2750', vehicle_make='Oldsmobile', employee_id='84-3613670', created=datetime.datetime(2016, 2, 20, 8, 23, 25), first_name='Minetta', employer='Howell LLC', department='Marketing', model_year=1998, last_updated=datetime.datetime(2017, 6, 11, 23, 31, 14), last_name='Dusting', language='Spanish', vehicle_model='Cutlass', gender='Female')\n",
            "combined_type(ssn='812-11-9403', vehicle_make='Pontiac', employee_id='41-2452184', created=datetime.datetime(2016, 8, 30, 15, 39, 9), first_name='Carmina', employer='Nienow, Gaylord and Hartmann', department='Services', model_year=1990, last_updated=datetime.datetime(2017, 5, 15, 16, 9, 23), last_name='Turnell', language='West Frisian', vehicle_model='Turbo Firefly', gender='Female')\n",
            "combined_type(ssn='813-42-4142', vehicle_make='Isuzu', employee_id='43-8040427', created=datetime.datetime(2016, 3, 3, 4, 54, 4), first_name='Killy', employer='Rolfson and Sons', department='Engineering', model_year=2002, last_updated=datetime.datetime(2017, 10, 17, 13, 20, 22), last_name='Threadgould', language='Polish', vehicle_model='Rodeo Sport', gender='Male')\n",
            "combined_type(ssn='813-47-5215', vehicle_make='Lamborghini', employee_id='58-2106819', created=datetime.datetime(2016, 10, 2, 5, 4, 12), first_name='Willi', employer='Schultz LLC', department='Product Management', model_year=1994, last_updated=datetime.datetime(2017, 7, 17, 0, 22, 1), last_name='Collet', language='Gujarati', vehicle_model='Diablo', gender='Male')\n",
            "combined_type(ssn='815-83-0300', vehicle_make='GMC', employee_id='83-9676607', created=datetime.datetime(2016, 5, 30, 2, 41, 36), first_name='Romeo', employer='Dach, Donnelly and Walter', department='Support', model_year=1994, last_updated=datetime.datetime(2017, 9, 24, 5, 16, 56), last_name='Rayworth', language='Thai', vehicle_model=3500, gender='Male')\n",
            "combined_type(ssn='816-31-3858', vehicle_make='Chevrolet', employee_id='13-3299629', created=datetime.datetime(2016, 7, 30, 2, 46, 27), first_name='Elvera', employer='Hilll Inc', department='Product Management', model_year=2004, last_updated=datetime.datetime(2017, 4, 13, 4, 17, 11), last_name='Walmsley', language='Montenegrin', vehicle_model='Silverado 3500', gender='Female')\n",
            "combined_type(ssn='816-47-4782', vehicle_make='Cadillac', employee_id='29-5433714', created=datetime.datetime(2016, 11, 24, 12, 43, 20), first_name='Wilmer', employer='Rice-Upton', department='Support', model_year=1996, last_updated=datetime.datetime(2017, 9, 9, 12, 11, 28), last_name='Maides', language='Aymara', vehicle_model='Fleetwood', gender='Male')\n",
            "combined_type(ssn='816-90-2049', vehicle_make='Dodge', employee_id='17-3761486', created=datetime.datetime(2016, 10, 25, 7, 25, 19), first_name='Berry', employer='Waelchi-MacGyver', department='Training', model_year=2012, last_updated=datetime.datetime(2018, 2, 16, 1, 29, 23), last_name='Delagnes', language='Bengali', vehicle_model='Durango', gender='Female')\n",
            "combined_type(ssn='817-04-1950', vehicle_make='Audi', employee_id='53-4636208', created=datetime.datetime(2016, 7, 2, 12, 4, 51), first_name='Fletcher', employer='Russel, Gottlieb and Satterfield', department='Support', model_year=2003, last_updated=datetime.datetime(2017, 5, 24, 8, 43, 21), last_name='McGrouther', language='Albanian', vehicle_model='A4', gender='Male')\n",
            "combined_type(ssn='817-25-7437', vehicle_make='Dodge', employee_id='00-0438990', created=datetime.datetime(2016, 7, 6, 6, 49, 2), first_name='Randall', employer='Kilback Group', department='Training', model_year=2009, last_updated=datetime.datetime(2017, 11, 27, 5, 44, 31), last_name='Fibbitts', language='Yiddish', vehicle_model='Sprinter', gender='Male')\n",
            "combined_type(ssn='817-80-8930', vehicle_make='Subaru', employee_id='31-1949756', created=datetime.datetime(2016, 1, 25, 15, 9, 1), first_name='Lib', employer='Rath-Ryan', department='Marketing', model_year=2002, last_updated=datetime.datetime(2017, 10, 15, 5, 52, 17), last_name='Skein', language='Arabic', vehicle_model='Legacy', gender='Female')\n",
            "combined_type(ssn='818-61-0770', vehicle_make='Jaguar', employee_id='49-0909555', created=datetime.datetime(2016, 8, 12, 7, 54, 17), first_name='Stanly', employer='Kovacek, Effertz and Kihn', department='Business Development', model_year=2002, last_updated=datetime.datetime(2017, 11, 24, 15, 25, 51), last_name='Casseldine', language='Belarusian', vehicle_model='X-Type', gender='Male')\n",
            "combined_type(ssn='819-52-5886', vehicle_make='Infiniti', employee_id='58-8512115', created=datetime.datetime(2016, 3, 2, 2, 24, 48), first_name='Paulette', employer='Wunsch-Walsh', department='Marketing', model_year=2003, last_updated=datetime.datetime(2018, 2, 24, 20, 44, 53), last_name='McAree', language='Arabic', vehicle_model='I', gender='Female')\n",
            "combined_type(ssn='819-64-1414', vehicle_make='Lincoln', employee_id='15-1566614', created=datetime.datetime(2016, 12, 12, 12, 4, 14), first_name='Malynda', employer='Reichel and Sons', department='Human Resources', model_year=2004, last_updated=datetime.datetime(2017, 8, 26, 5, 23, 58), last_name='Hundall', language='Filipino', vehicle_model='Aviator', gender='Female')\n",
            "combined_type(ssn='820-96-1105', vehicle_make='Isuzu', employee_id='87-7414041', created=datetime.datetime(2016, 2, 14, 2, 38, 15), first_name='Andy', employer='Watsica-Ziemann', department='Research and Development', model_year=1998, last_updated=datetime.datetime(2017, 6, 11, 20, 41, 22), last_name='Sayce', language='Pashto', vehicle_model='Hombre', gender='Female')\n",
            "combined_type(ssn='822-05-9037', vehicle_make='Acura', employee_id='00-3394171', created=datetime.datetime(2016, 3, 28, 1, 5, 25), first_name='Meggi', employer='Crona, Bogan and Beatty', department='Business Development', model_year=2001, last_updated=datetime.datetime(2017, 11, 14, 6, 43, 11), last_name='Mapes', language='Moldovan', vehicle_model='MDX', gender='Female')\n",
            "combined_type(ssn='822-30-4861', vehicle_make='Honda', employee_id='67-8224406', created=datetime.datetime(2016, 11, 5, 5, 11, 25), first_name='Phyllis', employer='Halvorson, Hirthe and Quitzon', department='Marketing', model_year=2010, last_updated=datetime.datetime(2018, 3, 6, 15, 41, 52), last_name='Cronk', language='Fijian', vehicle_model='Element', gender='Female')\n",
            "combined_type(ssn='823-27-0762', vehicle_make='Aston Martin', employee_id='60-7054525', created=datetime.datetime(2016, 4, 19, 13, 46, 43), first_name='Marten', employer='Kemmer, Rolfson and Marquardt', department='Sales', model_year=2011, last_updated=datetime.datetime(2017, 7, 9, 16, 33, 59), last_name='McCord', language='Indonesian', vehicle_model='DB9', gender='Male')\n",
            "combined_type(ssn='823-75-5753', vehicle_make='GMC', employee_id='97-1660502', created=datetime.datetime(2016, 1, 27, 23, 15, 38), first_name='Thibaut', employer='Sipes-Zulauf', department='Training', model_year=1997, last_updated=datetime.datetime(2017, 11, 26, 1, 36, 57), last_name='Van Schafflaer', language='Chinese', vehicle_model=1500, gender='Male')\n",
            "combined_type(ssn='824-89-4169', vehicle_make='Mercedes-Benz', employee_id='30-1833919', created=datetime.datetime(2016, 11, 16, 16, 43, 21), first_name='Tamqrah', employer='Marquardt Group', department='Human Resources', model_year=2006, last_updated=datetime.datetime(2017, 3, 30, 13, 22, 12), last_name='Goroni', language='Swedish', vehicle_model='G-Class', gender='Female')\n",
            "combined_type(ssn='826-97-8029', vehicle_make='Dodge', employee_id='53-2045990', created=datetime.datetime(2016, 5, 15, 14, 51, 21), first_name='Llewellyn', employer='Leffler-Rodriguez', department='Accounting', model_year=2003, last_updated=datetime.datetime(2018, 2, 26, 23, 21, 58), last_name='Shimwell', language='Belarusian', vehicle_model='Viper', gender='Male')\n",
            "combined_type(ssn='827-62-4599', vehicle_make='Mazda', employee_id='00-8910869', created=datetime.datetime(2016, 5, 21, 18, 17, 57), first_name='Phyllys', employer='Marquardt, Wehner and Heathcote', department='Legal', model_year=2002, last_updated=datetime.datetime(2017, 3, 15, 23, 54, 1), last_name='Akast', language='Armenian', vehicle_model='Miata MX-5', gender='Female')\n",
            "combined_type(ssn='830-23-1573', vehicle_make='Land Rover', employee_id='68-6332753', created=datetime.datetime(2016, 9, 1, 0, 6, 49), first_name='Carine', employer='Mayer Inc', department='Legal', model_year=1994, last_updated=datetime.datetime(2017, 2, 20, 23, 42), last_name='Abramin', language='Bislama', vehicle_model='Defender', gender='Female')\n",
            "combined_type(ssn='831-44-3286', vehicle_make='Mitsubishi', employee_id='38-3479804', created=datetime.datetime(2016, 5, 5, 3, 7, 14), first_name='Leesa', employer='Bashirian, Beer and Bailey', department='Engineering', model_year=2000, last_updated=datetime.datetime(2017, 2, 19, 2, 38, 55), last_name='Finci', language='Nepali', vehicle_model='Mirage', gender='Female')\n",
            "combined_type(ssn='833-01-1428', vehicle_make='Kia', employee_id='56-3616909', created=datetime.datetime(2016, 12, 14, 4, 3, 53), first_name='Ashlan', employer='Kozey-Jast', department='Legal', model_year=1995, last_updated=datetime.datetime(2017, 9, 22, 5, 7, 13), last_name='Zannotti', language='Finnish', vehicle_model='Sephia', gender='Female')\n",
            "combined_type(ssn='835-54-3785', vehicle_make='Dodge', employee_id='67-3262618', created=datetime.datetime(2016, 10, 4, 20, 10, 40), first_name='Nathaniel', employer='Johnson Group', department='Sales', model_year=2006, last_updated=datetime.datetime(2017, 6, 10, 8, 36, 26), last_name='Wegman', language='Azeri', vehicle_model='Sprinter', gender='Male')\n",
            "combined_type(ssn='836-40-1837', vehicle_make='Mercedes-Benz', employee_id='90-5771245', created=datetime.datetime(2016, 2, 13, 5, 4, 28), first_name='Brocky', employer='Smitham, Rutherford and Jerde', department='Research and Development', model_year=2006, last_updated=datetime.datetime(2017, 11, 13, 6, 7, 5), last_name='Kewzick', language='Armenian', vehicle_model='R-Class', gender='Male')\n",
            "combined_type(ssn='836-99-3309', vehicle_make='Honda', employee_id='04-9339587', created=datetime.datetime(2016, 9, 30, 11, 25, 21), first_name='Cobby', employer='Moore-Funk', department='Research and Development', model_year=2012, last_updated=datetime.datetime(2018, 1, 4, 11, 10, 54), last_name='Mutter', language='Georgian', vehicle_model='Fit', gender='Male')\n",
            "combined_type(ssn='837-76-5619', vehicle_make='Aptera', employee_id='87-6743338', created=datetime.datetime(2016, 11, 3, 20, 8, 35), first_name='Alleyn', employer='Bauch LLC', department='Services', model_year=2010, last_updated=datetime.datetime(2017, 6, 28, 8, 29, 54), last_name='Parade', language='Croatian', vehicle_model='Type-1h', gender='Male')\n",
            "combined_type(ssn='838-69-1351', vehicle_make='Mitsubishi', employee_id='60-8507863', created=datetime.datetime(2016, 4, 27, 22, 22, 15), first_name='Alwin', employer='Hermann and Sons', department='Training', model_year=2011, last_updated=datetime.datetime(2017, 12, 30, 1, 53, 27), last_name='Hazzard', language='Kannada', vehicle_model='Outlander Sport', gender='Male')\n",
            "combined_type(ssn='840-41-7929', vehicle_make='Mazda', employee_id='16-4102117', created=datetime.datetime(2016, 2, 14, 6, 25, 5), first_name='Sherlock', employer='Lowe Inc', department='Research and Development', model_year=1996, last_updated=datetime.datetime(2017, 7, 21, 4, 56, 59), last_name='Pinshon', language='Khmer', vehicle_model='Miata MX-5', gender='Male')\n",
            "combined_type(ssn='841-64-8517', vehicle_make='Volkswagen', employee_id='43-4857392', created=datetime.datetime(2016, 6, 28, 23, 17, 28), first_name='Hugues', employer='Walsh and Sons', department='Legal', model_year=1996, last_updated=datetime.datetime(2017, 12, 17, 5, 13, 41), last_name='Kenealy', language='Korean', vehicle_model='Passat', gender='Male')\n",
            "combined_type(ssn='842-90-7557', vehicle_make='Pontiac', employee_id='38-1404046', created=datetime.datetime(2016, 5, 30, 14, 24, 20), first_name='Brit', employer='Langworth-Friesen', department='Support', model_year=1985, last_updated=datetime.datetime(2017, 5, 13, 22, 21, 23), last_name='Weall', language='West Frisian', vehicle_model='Grand Am', gender='Female')\n",
            "combined_type(ssn='844-15-4668', vehicle_make='GMC', employee_id='75-3856459', created=datetime.datetime(2016, 3, 27, 2, 46, 16), first_name='Eleonora', employer='Rohan-Nicolas', department='Support', model_year=1993, last_updated=datetime.datetime(2017, 7, 9, 22, 12, 16), last_name='Delete', language='Hiri Motu', vehicle_model='Vandura 3500', gender='Female')\n",
            "combined_type(ssn='844-50-7305', vehicle_make='Mitsubishi', employee_id='51-5485483', created=datetime.datetime(2016, 8, 16, 12, 42, 56), first_name='Merralee', employer='Beer-Kihn', department='Support', model_year=2001, last_updated=datetime.datetime(2018, 1, 30, 7, 49, 7), last_name='Orae', language='Macedonian', vehicle_model='Montero', gender='Female')\n",
            "combined_type(ssn='846-07-1407', vehicle_make='Eagle', employee_id='65-3499297', created=datetime.datetime(2016, 3, 5, 11, 53, 15), first_name='Tobias', employer='Lesch LLC', department='Marketing', model_year=1997, last_updated=datetime.datetime(2017, 7, 10, 17, 48, 49), last_name='Blakelock', language='German', vehicle_model='Vision', gender='Male')\n",
            "combined_type(ssn='846-09-9851', vehicle_make='Subaru', employee_id='29-9226065', created=datetime.datetime(2016, 4, 26, 18, 41, 28), first_name='Shani', employer='Boehm, Goldner and Wisozk', department='Sales', model_year=2002, last_updated=datetime.datetime(2017, 1, 25, 3, 3, 59), last_name='Penrose', language='New Zealand Sign Language', vehicle_model='Legacy', gender='Female')\n",
            "combined_type(ssn='846-59-9961', vehicle_make='Volkswagen', employee_id='59-8318028', created=datetime.datetime(2016, 12, 28, 20, 41, 47), first_name='Saleem', employer='Rolfson and Sons', department='Product Management', model_year=1999, last_updated=datetime.datetime(2017, 2, 20, 3, 4, 34), last_name='Osmant', language='Croatian', vehicle_model='Jetta', gender='Male')\n",
            "combined_type(ssn='847-34-4817', vehicle_make='Nissan', employee_id='39-7754939', created=datetime.datetime(2016, 2, 2, 21, 15, 15), first_name='Orazio', employer='Schmidt, Schaden and Pfeffer', department='Training', model_year=2003, last_updated=datetime.datetime(2017, 2, 13, 3, 31, 14), last_name='Coners', language='Yiddish', vehicle_model='350Z', gender='Male')\n",
            "combined_type(ssn='847-61-7656', vehicle_make='Mitsubishi', employee_id='03-7617020', created=datetime.datetime(2016, 1, 30, 9, 5, 32), first_name='Brit', employer='Dibbert LLC', department='Support', model_year=1996, last_updated=datetime.datetime(2017, 12, 19, 9, 38, 38), last_name='Lodovichi', language='Bislama', vehicle_model='Galant', gender='Male')\n",
            "combined_type(ssn='848-58-3386', vehicle_make='Toyota', employee_id='14-0272415', created=datetime.datetime(2016, 3, 18, 1, 51, 27), first_name='Julianne', employer='Jerde-Batz', department='Product Management', model_year=2007, last_updated=datetime.datetime(2018, 1, 21, 4, 10, 3), last_name='Lygo', language='Japanese', vehicle_model='RAV4', gender='Female')\n",
            "combined_type(ssn='848-74-2886', vehicle_make='Hyundai', employee_id='52-0638791', created=datetime.datetime(2016, 3, 16, 18, 7, 48), first_name='Helyn', employer='Macejkovic and Sons', department='Support', model_year=2011, last_updated=datetime.datetime(2017, 4, 28, 22, 57, 18), last_name='Witheford', language='Bislama', vehicle_model='Accent', gender='Female')\n",
            "combined_type(ssn='848-76-8808', vehicle_make='Toyota', employee_id='85-7186677', created=datetime.datetime(2016, 8, 6, 21, 44, 44), first_name='Durward', employer='Robel, Luettgen and Moore', department='Legal', model_year=1998, last_updated=datetime.datetime(2017, 1, 9, 20, 35, 16), last_name='Nuscha', language='Nepali', vehicle_model='Celica', gender='Male')\n",
            "combined_type(ssn='849-31-1551', vehicle_make='Ford', employee_id='55-0777439', created=datetime.datetime(2016, 4, 1, 21, 35, 44), first_name='Lisabeth', employer='Yundt, Wehner and Brown', department='Legal', model_year=2011, last_updated=datetime.datetime(2017, 7, 22, 6, 54, 46), last_name='Mattessen', language='German', vehicle_model='Crown Victoria', gender='Female')\n",
            "combined_type(ssn='849-64-6624', vehicle_make='Panoz', employee_id='81-0398914', created=datetime.datetime(2016, 1, 10, 18, 3, 17), first_name='Hallie', employer='Blanda, Marks and Metz', department='Training', model_year=2006, last_updated=datetime.datetime(2018, 3, 23, 20, 28, 43), last_name='Proschke', language='Fijian', vehicle_model='Esperante', gender='Female')\n",
            "combined_type(ssn='849-98-2973', vehicle_make='Mazda', employee_id='59-0940865', created=datetime.datetime(2016, 2, 26, 2, 40, 54), first_name='Hurley', employer='Flatley-Huel', department='Sales', model_year=1993, last_updated=datetime.datetime(2017, 8, 20, 13, 10, 57), last_name='Newart', language='Hindi', vehicle_model='B-Series', gender='Male')\n",
            "combined_type(ssn='851-94-2162', vehicle_make='Chevrolet', employee_id='18-5849664', created=datetime.datetime(2016, 11, 28, 14, 34, 31), first_name='Rodi', employer='Collier, Botsford and Ruecker', department='Engineering', model_year=2010, last_updated=datetime.datetime(2017, 10, 15, 12, 43, 2), last_name='Mulrenan', language='Catalan', vehicle_model='Cobalt', gender='Female')\n",
            "combined_type(ssn='852-15-7707', vehicle_make='Mazda', employee_id='09-7105416', created=datetime.datetime(2016, 3, 17, 17, 39, 10), first_name='Mario', employer='Conn Group', department='Training', model_year=2010, last_updated=datetime.datetime(2017, 12, 7, 23, 31, 37), last_name='Lelande', language='Nepali', vehicle_model='MX-5', gender='Male')\n",
            "combined_type(ssn='853-11-8953', vehicle_make='Pontiac', employee_id='98-1092646', created=datetime.datetime(2016, 12, 24, 23, 34, 4), first_name='Brice', employer='Moen Inc', department='Sales', model_year=1987, last_updated=datetime.datetime(2017, 12, 30, 0, 36, 43), last_name='Kyd', language='Dari', vehicle_model='Fiero', gender='Male')\n",
            "combined_type(ssn='853-47-3648', vehicle_make='Infiniti', employee_id='06-3741043', created=datetime.datetime(2016, 4, 22, 21, 36, 41), first_name='Olag', employer='Barrows Inc', department='Product Management', model_year=2003, last_updated=datetime.datetime(2017, 11, 24, 19, 37, 50), last_name='Belhome', language='Maltese', vehicle_model='I', gender='Male')\n",
            "combined_type(ssn='854-68-7635', vehicle_make='Pontiac', employee_id='96-2035605', created=datetime.datetime(2016, 4, 29, 5, 3, 11), first_name='Eyde', employer='Thiel-Murray', department='Support', model_year=1991, last_updated=datetime.datetime(2017, 5, 16, 14, 22, 39), last_name='McCunn', language='Moldovan', vehicle_model='Grand Prix', gender='Female')\n",
            "combined_type(ssn='854-71-2983', vehicle_make='Subaru', employee_id='74-9087432', created=datetime.datetime(2016, 11, 7, 5, 47, 14), first_name='Rikki', employer='Blanda-Ferry', department='Product Management', model_year=1993, last_updated=datetime.datetime(2017, 9, 6, 20, 53, 9), last_name='Loveland', language='Dutch', vehicle_model='SVX', gender='Male')\n",
            "combined_type(ssn='854-79-5334', vehicle_make='Jeep', employee_id='79-1998214', created=datetime.datetime(2016, 3, 27, 18, 30, 18), first_name='Bevan', employer='Dietrich Inc', department='Business Development', model_year=1996, last_updated=datetime.datetime(2017, 8, 29, 17, 57, 56), last_name='Kolczynski', language='Swahili', vehicle_model='Cherokee', gender='Male')\n",
            "combined_type(ssn='856-18-3980', vehicle_make='Toyota', employee_id='39-4882068', created=datetime.datetime(2016, 12, 8, 6, 52, 33), first_name='Neale', employer='Baumbach, Jenkins and Russel', department='Product Management', model_year=1992, last_updated=datetime.datetime(2017, 1, 20, 20, 28, 10), last_name='Sesser', language='Maltese', vehicle_model='MR2', gender='Male')\n",
            "combined_type(ssn='856-27-9112', vehicle_make='BMW', employee_id='41-4723930', created=datetime.datetime(2016, 3, 24, 4, 1, 59), first_name='Virgilio', employer='Lakin and Sons', department='Accounting', model_year=2011, last_updated=datetime.datetime(2017, 12, 25, 10, 25, 28), last_name='Kirrage', language='Pashto', vehicle_model='3 Series', gender='Male')\n",
            "combined_type(ssn='856-67-4080', vehicle_make='Dodge', employee_id='06-1382466', created=datetime.datetime(2016, 6, 22, 3, 53, 18), first_name='Aggy', employer='Kassulke, Ritchie and Braun', department='Accounting', model_year=2007, last_updated=datetime.datetime(2018, 3, 13, 21, 23, 9), last_name='Cobley', language='Dhivehi', vehicle_model='Grand Caravan', gender='Female')\n",
            "combined_type(ssn='857-37-5902', vehicle_make='Lotus', employee_id='44-2276418', created=datetime.datetime(2016, 10, 23, 21, 56, 28), first_name='Jenni', employer='Swaniawski Group', department='Services', model_year=1996, last_updated=datetime.datetime(2018, 1, 20, 14, 44, 7), last_name='Swinyard', language='Hindi', vehicle_model='Esprit', gender='Female')\n",
            "combined_type(ssn='858-03-7735', vehicle_make='Porsche', employee_id='53-7456817', created=datetime.datetime(2016, 9, 4, 8, 24, 3), first_name='Allayne', employer='Stark-Pouros', department='Training', model_year=1984, last_updated=datetime.datetime(2017, 4, 30, 8, 14, 24), last_name='Wardingley', language='Kazakh', vehicle_model=944, gender='Male')\n",
            "combined_type(ssn='858-27-9190', vehicle_make='Suzuki', employee_id='73-2880950', created=datetime.datetime(2016, 12, 25, 16, 52, 9), first_name='Yuri', employer='Goodwin Inc', department='Marketing', model_year=1997, last_updated=datetime.datetime(2017, 2, 6, 7, 12, 2), last_name='Sixsmith', language='Norwegian', vehicle_model='Swift', gender='Male')\n",
            "combined_type(ssn='860-67-0256', vehicle_make='Toyota', employee_id='80-9563373', created=datetime.datetime(2016, 2, 6, 4, 59, 26), first_name='Bendicty', employer='Williamson-Lemke', department='Accounting', model_year=2001, last_updated=datetime.datetime(2017, 1, 9, 22, 49, 48), last_name='Lindgren', language='Tajik', vehicle_model='Tacoma', gender='Male')\n",
            "combined_type(ssn='860-89-2570', vehicle_make='Dodge', employee_id='80-2005731', created=datetime.datetime(2016, 6, 22, 23, 23, 9), first_name='Otto', employer='Reinger Inc', department='Engineering', model_year=2007, last_updated=datetime.datetime(2017, 4, 15, 11, 12, 57), last_name='Burgwin', language='Finnish', vehicle_model='Dakota', gender='Male')\n",
            "combined_type(ssn='861-50-6716', vehicle_make='BMW', employee_id='12-6635955', created=datetime.datetime(2016, 9, 16, 9, 12, 34), first_name='Norina', employer='Stokes Inc', department='Training', model_year=2007, last_updated=datetime.datetime(2018, 3, 30, 21, 7, 8), last_name='Yerbury', language='Indonesian', vehicle_model='M5', gender='Female')\n",
            "combined_type(ssn='862-20-0653', vehicle_make='Mazda', employee_id='87-1017676', created=datetime.datetime(2016, 2, 4, 14, 11, 40), first_name='Wilfrid', employer='Dicki, Green and White', department='Services', model_year=2002, last_updated=datetime.datetime(2017, 5, 3, 14, 37, 42), last_name='Kid', language='Swedish', vehicle_model='B-Series', gender='Male')\n",
            "combined_type(ssn='864-22-9364', vehicle_make='Acura', employee_id='20-2324966', created=datetime.datetime(2016, 12, 28, 0, 33, 8), first_name='Lyell', employer='Thiel, Parker and Hilpert', department='Marketing', model_year=2011, last_updated=datetime.datetime(2017, 2, 4, 13, 53, 10), last_name='Petrollo', language='Latvian', vehicle_model='ZDX', gender='Male')\n",
            "combined_type(ssn='864-91-7489', vehicle_make='Pontiac', employee_id='89-1713880', created=datetime.datetime(2016, 2, 14, 3, 7, 23), first_name='Guthrie', employer='Heidenreich, Stehr and Huel', department='Sales', model_year=2004, last_updated=datetime.datetime(2017, 2, 3, 17, 51, 18), last_name='Pilsworth', language='Bislama', vehicle_model='Grand Am', gender='Male')\n",
            "combined_type(ssn='866-18-1440', vehicle_make='Volvo', employee_id='77-7239839', created=datetime.datetime(2016, 2, 2, 17, 47, 22), first_name='Zachary', employer='Bartoletti Inc', department='Support', model_year=2002, last_updated=datetime.datetime(2017, 5, 31, 4, 28, 19), last_name='Branchflower', language='Papiamento', vehicle_model='S60', gender='Male')\n",
            "combined_type(ssn='866-53-0625', vehicle_make='Chevrolet', employee_id='63-6285198', created=datetime.datetime(2016, 12, 15, 22, 59, 20), first_name='Francene', employer='Douglas-Breitenberg', department='Business Development', model_year=1997, last_updated=datetime.datetime(2018, 2, 24, 20, 22, 43), last_name='Ehlerding', language='Latvian', vehicle_model='Blazer', gender='Female')\n",
            "combined_type(ssn='867-11-6007', vehicle_make='Volvo', employee_id='50-5681388', created=datetime.datetime(2016, 10, 31, 14, 12, 16), first_name='Kennett', employer='Nitzsche-Walker', department='Engineering', model_year=2001, last_updated=datetime.datetime(2018, 1, 25, 4, 2, 4), last_name='Barhims', language='Malayalam', vehicle_model='S80', gender='Male')\n",
            "combined_type(ssn='867-13-6844', vehicle_make='Land Rover', employee_id='09-8398802', created=datetime.datetime(2016, 7, 17, 9, 50, 7), first_name='Clo', employer='Crist, Leuschke and Grimes', department='Legal', model_year=1986, last_updated=datetime.datetime(2017, 10, 31, 17, 48, 23), last_name='Skacel', language='Armenian', vehicle_model='Range Rover', gender='Female')\n",
            "combined_type(ssn='867-88-2360', vehicle_make='Ford', employee_id='49-2589434', created=datetime.datetime(2016, 11, 4, 18, 34, 52), first_name='Gasper', employer='Emard Inc', department='Business Development', model_year=1987, last_updated=datetime.datetime(2018, 3, 11, 16, 42, 31), last_name='Dohrmann', language='Dzongkha', vehicle_model='F-Series', gender='Male')\n",
            "combined_type(ssn='868-32-1805', vehicle_make='Chevrolet', employee_id='55-8987515', created=datetime.datetime(2016, 11, 14, 1, 26, 32), first_name='Joanna', employer='Abshire Inc', department='Research and Development', model_year=2007, last_updated=datetime.datetime(2017, 9, 29, 17, 46, 17), last_name='Raycroft', language='Bosnian', vehicle_model='Colorado', gender='Female')\n",
            "combined_type(ssn='870-12-6609', vehicle_make='Mercedes-Benz', employee_id='46-1484106', created=datetime.datetime(2016, 6, 24, 16, 43, 15), first_name='Jourdain', employer='Thompson, Parker and Moen', department='Research and Development', model_year=1991, last_updated=datetime.datetime(2017, 1, 19, 3, 43, 35), last_name='Comino', language='Guarana', vehicle_model='W201', gender='Male')\n",
            "combined_type(ssn='870-93-1121', vehicle_make='Mitsubishi', employee_id='73-9912953', created=datetime.datetime(2016, 6, 21, 17, 1, 53), first_name='Elisha', employer='Morissette, Rowe and Muller', department='Engineering', model_year=1998, last_updated=datetime.datetime(2017, 3, 3, 3, 45, 30), last_name='Wonham', language='Hebrew', vehicle_model='Pajero', gender='Male')\n",
            "combined_type(ssn='871-99-3191', vehicle_make='Toyota', employee_id='16-1937114', created=datetime.datetime(2016, 2, 27, 15, 43, 26), first_name='Susann', employer='Lueilwitz, Stokes and Kassulke', department='Marketing', model_year=2000, last_updated=datetime.datetime(2017, 5, 8, 8, 24, 12), last_name='Walrond', language='Amharic', vehicle_model='Sienna', gender='Female')\n",
            "combined_type(ssn='872-18-9267', vehicle_make='Audi', employee_id='72-1577952', created=datetime.datetime(2016, 4, 27, 3, 27, 17), first_name='Roddy', employer='Glover, Jacobs and Heidenreich', department='Sales', model_year=2010, last_updated=datetime.datetime(2018, 3, 22, 21, 11, 58), last_name='Honeywood', language='Maltese', vehicle_model='A4', gender='Male')\n",
            "combined_type(ssn='872-49-1288', vehicle_make='Acura', employee_id='78-2291834', created=datetime.datetime(2016, 6, 10, 10, 5, 19), first_name='Salaidh', employer='Cummings-Mertz', department='Sales', model_year=1997, last_updated=datetime.datetime(2017, 12, 6, 2, 19, 8), last_name='Barthod', language='Finnish', vehicle_model='Integra', gender='Female')\n",
            "combined_type(ssn='873-36-4733', vehicle_make='Austin', employee_id='39-6055619', created=datetime.datetime(2016, 7, 8, 7, 10, 52), first_name='Locke', employer='Wilderman-Grimes', department='Engineering', model_year=1964, last_updated=datetime.datetime(2017, 7, 23, 1, 30, 5), last_name='Staries', language='Moldovan', vehicle_model='Mini Cooper', gender='Male')\n",
            "combined_type(ssn='875-18-9454', vehicle_make='Mitsubishi', employee_id='56-6050344', created=datetime.datetime(2016, 8, 19, 18, 23, 57), first_name='Eustace', employer='Schultz-Medhurst', department='Support', model_year=1993, last_updated=datetime.datetime(2017, 3, 14, 4, 45, 19), last_name='Kinnear', language='Hiri Motu', vehicle_model='Diamante', gender='Male')\n",
            "combined_type(ssn='875-75-0495', vehicle_make='Hyundai', employee_id='28-3015726', created=datetime.datetime(2016, 6, 12, 12, 36, 44), first_name='Frasquito', employer='Wunsch-Gleason', department='Services', model_year=2000, last_updated=datetime.datetime(2017, 12, 3, 21, 27, 47), last_name='Lammas', language='Polish', vehicle_model='Tiburon', gender='Male')\n",
            "combined_type(ssn='878-12-8265', vehicle_make='Chrysler', employee_id='54-4161357', created=datetime.datetime(2016, 3, 14, 14, 30, 37), first_name='Nance', employer='Witting, Schuster and Barton', department='Research and Development', model_year=1998, last_updated=datetime.datetime(2017, 1, 11, 18, 36, 16), last_name='Doble', language='Dhivehi', vehicle_model='Concorde', gender='Female')\n",
            "combined_type(ssn='880-22-4449', vehicle_make='Toyota', employee_id='59-9280036', created=datetime.datetime(2016, 6, 11, 20, 35, 38), first_name='Zebadiah', employer='Harber-Legros', department='Training', model_year=2008, last_updated=datetime.datetime(2017, 1, 13, 19, 50, 26), last_name='Halliburton', language='Azeri', vehicle_model='Camry', gender='Male')\n",
            "combined_type(ssn='881-19-5974', vehicle_make='Infiniti', employee_id='25-5973403', created=datetime.datetime(2016, 10, 5, 21, 57, 12), first_name='Lodovico', employer='Daugherty, Gislason and Kreiger', department='Training', model_year=2004, last_updated=datetime.datetime(2018, 2, 4, 17, 29, 28), last_name='Gabby', language='Northern Sotho', vehicle_model='G', gender='Male')\n",
            "combined_type(ssn='881-88-7308', vehicle_make='Subaru', employee_id='16-0843654', created=datetime.datetime(2016, 1, 18, 12, 51), first_name='Maitilde', employer=\"O'Connell, Raynor and Veum\", department='Sales', model_year=1994, last_updated=datetime.datetime(2017, 8, 11, 11, 40, 28), last_name='Davis', language='Tsonga', vehicle_model='SVX', gender='Female')\n",
            "combined_type(ssn='881-95-7180', vehicle_make='BMW', employee_id='18-8360445', created=datetime.datetime(2016, 11, 24, 12, 12, 51), first_name='Homerus', employer='Schumm Inc', department='Services', model_year=2009, last_updated=datetime.datetime(2018, 1, 29, 16, 6, 26), last_name='Lamar', language='Macedonian', vehicle_model='M6', gender='Male')\n",
            "combined_type(ssn='882-49-5290', vehicle_make='GMC', employee_id='46-7067366', created=datetime.datetime(2016, 8, 27, 5, 43, 5), first_name='Tamarah', employer='Zulauf Inc', department='Accounting', model_year=2011, last_updated=datetime.datetime(2017, 2, 10, 19, 26, 8), last_name='Stenson', language='Armenian', vehicle_model='Savana 3500', gender='Female')\n",
            "combined_type(ssn='884-61-1852', vehicle_make='Plymouth', employee_id='16-5769119', created=datetime.datetime(2016, 3, 18, 22, 13, 6), first_name='Wylie', employer='Stanton, Price and Wehner', department='Services', model_year=1996, last_updated=datetime.datetime(2017, 1, 9, 19, 30, 49), last_name='Glennon', language='Romanian', vehicle_model='Neon', gender='Male')\n",
            "combined_type(ssn='887-41-7878', vehicle_make='Lexus', employee_id='71-6097002', created=datetime.datetime(2016, 9, 14, 9, 26, 53), first_name='Bruce', employer='Ziemann, Denesik and Casper', department='Research and Development', model_year=2013, last_updated=datetime.datetime(2017, 3, 27, 13, 38, 47), last_name='Danieli', language='Tamil', vehicle_model='GS', gender='Male')\n",
            "combined_type(ssn='887-83-9002', vehicle_make='Audi', employee_id='06-9390159', created=datetime.datetime(2016, 5, 30, 2, 40, 28), first_name='Mab', employer='Terry and Sons', department='Research and Development', model_year=2011, last_updated=datetime.datetime(2017, 12, 19, 6, 24, 25), last_name='Bozworth', language='Tok Pisin', vehicle_model='S6', gender='Female')\n",
            "combined_type(ssn='888-50-7008', vehicle_make='Nissan', employee_id='38-5385705', created=datetime.datetime(2016, 6, 9, 11, 3, 40), first_name='Mayor', employer='Herzog, Stehr and Quitzon', department='Engineering', model_year=2008, last_updated=datetime.datetime(2018, 3, 6, 16, 54, 20), last_name='Gouley', language='Dzongkha', vehicle_model='Armada', gender='Male')\n",
            "combined_type(ssn='888-53-7684', vehicle_make='Volkswagen', employee_id='15-6651242', created=datetime.datetime(2016, 2, 12, 1, 35, 59), first_name='Lanny', employer='Collier, Hilll and Hagenes', department='Training', model_year=1991, last_updated=datetime.datetime(2017, 9, 5, 0, 30), last_name='Perfect', language='Estonian', vehicle_model='Jetta', gender='Male')\n",
            "combined_type(ssn='888-82-4928', vehicle_make='Volvo', employee_id='48-3998718', created=datetime.datetime(2016, 11, 9, 10, 4, 16), first_name='Billye', employer='Reynolds, Nicolas and Morar', department='Engineering', model_year=2005, last_updated=datetime.datetime(2017, 12, 8, 14, 2, 48), last_name='Legat', language='Icelandic', vehicle_model='S60', gender='Female')\n",
            "combined_type(ssn='890-28-9962', vehicle_make='GMC', employee_id='56-9393666', created=datetime.datetime(2016, 2, 22, 15, 24, 59), first_name='Kingston', employer='Heller, Kihn and Bartoletti', department='Research and Development', model_year=2000, last_updated=datetime.datetime(2018, 1, 6, 9, 34, 59), last_name='Spitell', language='Quechua', vehicle_model='Savana 1500', gender='Male')\n",
            "combined_type(ssn='893-12-0901', vehicle_make='Lotus', employee_id='66-1175841', created=datetime.datetime(2016, 6, 14, 2, 41, 25), first_name='Dicky', employer='Christiansen LLC', department='Sales', model_year=1991, last_updated=datetime.datetime(2018, 3, 27, 1, 24, 58), last_name='Rohlfing', language='Oriya', vehicle_model='Esprit', gender='Male')\n",
            "combined_type(ssn='893-17-7318', vehicle_make='Chevrolet', employee_id='38-4356300', created=datetime.datetime(2016, 2, 28, 8, 1, 12), first_name='Nani', employer='Orn Inc', department='Human Resources', model_year=1995, last_updated=datetime.datetime(2017, 7, 23, 7, 11, 51), last_name='Bonelle', language='Kyrgyz', vehicle_model='Lumina', gender='Female')\n",
            "combined_type(ssn='894-81-0628', vehicle_make='Kia', employee_id='72-2633200', created=datetime.datetime(2016, 7, 9, 11, 43, 17), first_name='Ree', employer='Flatley, Senger and Bernier', department='Services', model_year=2012, last_updated=datetime.datetime(2017, 3, 7, 4, 8, 28), last_name='Mordue', language='Tswana', vehicle_model='Sedona', gender='Female')\n",
            "combined_type(ssn='895-26-1658', vehicle_make='Toyota', employee_id='90-4168298', created=datetime.datetime(2016, 11, 22, 6, 57, 45), first_name='Nance', employer='Hilll, Kunze and Beer', department='Human Resources', model_year=2003, last_updated=datetime.datetime(2017, 4, 1, 22, 22, 5), last_name='Danzelman', language='Icelandic', vehicle_model='Land Cruiser', gender='Female')\n",
            "combined_type(ssn='895-26-5515', vehicle_make='Acura', employee_id='63-7802530', created=datetime.datetime(2016, 3, 24, 7, 34, 14), first_name='Frank', employer='Franecki LLC', department='Services', model_year=1999, last_updated=datetime.datetime(2017, 5, 13, 5, 52, 27), last_name='Mason', language='Northern Sotho', vehicle_model='TL', gender='Male')\n",
            "combined_type(ssn='897-76-7070', vehicle_make='BMW', employee_id='77-6363112', created=datetime.datetime(2016, 12, 12, 7, 39, 48), first_name='Glynnis', employer='Reilly-Jakubowski', department='Marketing', model_year=2011, last_updated=datetime.datetime(2017, 11, 27, 19, 4, 22), last_name='Tillerton', language='Nepali', vehicle_model='X3', gender='Female')\n",
            "combined_type(ssn='898-03-3165', vehicle_make='Toyota', employee_id='89-9965641', created=datetime.datetime(2016, 7, 20, 21, 40, 2), first_name='Sela', employer='Bins-Gerhold', department='Sales', model_year=1994, last_updated=datetime.datetime(2017, 6, 1, 19, 18, 49), last_name='Vaillant', language='Arabic', vehicle_model='Xtra', gender='Female')\n",
            "combined_type(ssn='898-86-8860', vehicle_make='Lotus', employee_id='36-7761827', created=datetime.datetime(2016, 11, 23, 23, 34, 17), first_name='Hershel', employer='Olson-Johnson', department='Support', model_year=2003, last_updated=datetime.datetime(2017, 7, 3, 14, 27, 26), last_name='Few', language='Gagauz', vehicle_model='Esprit', gender='Male')\n",
            "combined_type(ssn='899-09-1766', vehicle_make='Toyota', employee_id='83-8730953', created=datetime.datetime(2016, 10, 27, 18, 41, 56), first_name='Joe', employer='Cronin LLC', department='Services', model_year=2012, last_updated=datetime.datetime(2017, 7, 31, 2, 26, 57), last_name='Myderscough', language='Filipino', vehicle_model='Camry', gender='Male')\n",
            "combined_type(ssn='899-39-7179', vehicle_make='Infiniti', employee_id='45-8154226', created=datetime.datetime(2016, 7, 27, 12, 47, 5), first_name='Rani', employer='Little-Hansen', department='Business Development', model_year=2006, last_updated=datetime.datetime(2017, 8, 2, 13, 32, 33), last_name='Naisbitt', language='Greek', vehicle_model='FX', gender='Female')\n",
            "combined_type(ssn='899-39-7378', vehicle_make='Toyota', employee_id='32-7034344', created=datetime.datetime(2016, 9, 4, 15, 9, 22), first_name='Lindsay', employer=\"Christiansen, Ondricka and O'Connell\", department='Marketing', model_year=1999, last_updated=datetime.datetime(2017, 3, 27, 19, 31, 32), last_name='Colledge', language='Croatian', vehicle_model='Land Cruiser', gender='Female')\n",
            "combined_type(ssn='899-47-6116', vehicle_make='Volkswagen', employee_id='16-6342889', created=datetime.datetime(2016, 4, 29, 12, 25, 23), first_name='Tiphanie', employer='Bednar LLC', department='Support', model_year=2005, last_updated=datetime.datetime(2017, 6, 10, 11, 20, 41), last_name='Kevlin', language='Tetum', vehicle_model='Phaeton', gender='Female')\n"
          ]
        }
      ]
    },
    {
      "cell_type": "code",
      "source": [
        "print(\"Total\",len(combined_namedtuple_data_list),\"records\")"
      ],
      "metadata": {
        "colab": {
          "base_uri": "https://localhost:8080/"
        },
        "id": "k1Hhks54U95p",
        "outputId": "e4e604af-1434-4bed-f616-46c9a85c9a08"
      },
      "execution_count": null,
      "outputs": [
        {
          "output_type": "stream",
          "name": "stdout",
          "text": [
            "Total 1000 records\n"
          ]
        }
      ]
    },
    {
      "cell_type": "markdown",
      "source": [
        "## Goal 3\n",
        "Next, you want to identify any stale records, where stale simply means the record has not been updated since 3/1/2017 (e.g. last update date < 3/1/2017). Create an iterator that only contains current records (i.e. not stale) based on the last_updated field from the status_update file."
      ],
      "metadata": {
        "id": "VcENpJELIuVi"
      }
    },
    {
      "cell_type": "code",
      "source": [
        "def current_records():\n",
        "  for row in combined_namedtuple_data_list:\n",
        "    if (row.last_updated >= datetime.datetime.strptime(\"3/1/2017-00:00:00\", '%d/%m/%Y-%H:%M:%S')):\n",
        "      yield row"
      ],
      "metadata": {
        "id": "DYlfpZmJW3Wl"
      },
      "execution_count": null,
      "outputs": []
    },
    {
      "cell_type": "code",
      "source": [
        "current_records_list = [_ for _ in current_records()]\n",
        "len(current_records_list)"
      ],
      "metadata": {
        "colab": {
          "base_uri": "https://localhost:8080/"
        },
        "outputId": "6aaeed92-ea8b-442c-a80b-78a309154a91",
        "id": "4pZvXgWFX_Cc"
      },
      "execution_count": null,
      "outputs": [
        {
          "output_type": "execute_result",
          "data": {
            "text/plain": [
              "997"
            ]
          },
          "metadata": {},
          "execution_count": 25
        }
      ]
    },
    {
      "cell_type": "markdown",
      "source": [
        "## Goal 4\n",
        "Find the largest group of car makes for each gender.\n",
        "\n",
        "Possibly more than one such group per gender exists (equal sizes).\n",
        "\n",
        "BYME: if male: male[car_make] ++, else female[car_make_] ++"
      ],
      "metadata": {
        "id": "DSq-eEWXZxWh"
      }
    },
    {
      "cell_type": "code",
      "source": [
        "def max_car_maker(allRecords, gender):\n",
        "  max_car_maker_dict = {}\n",
        "  for record in allRecords:\n",
        "    if getattr(record, \"gender\") == gender:\n",
        "      try:\n",
        "        max_car_maker_dict[getattr(record, \"vehicle_make\")] += 1\n",
        "      except KeyError:\n",
        "        max_car_maker_dict[getattr(record, \"vehicle_make\")] = 1\n",
        "  print(gender, max_car_maker_dict)\n",
        "  return max(max_car_maker_dict, key = lambda x: max_car_maker_dict[x])"
      ],
      "metadata": {
        "id": "kSEzks6nWld8"
      },
      "execution_count": null,
      "outputs": []
    },
    {
      "cell_type": "code",
      "source": [
        "male_car_maker = max_car_maker(combined_namedtuple_data_list ,\"Male\")\n",
        "female_car_maker = max_car_maker(combined_namedtuple_data_list ,\"Female\")\n",
        "\n",
        "print(\"\\n\\n\", male_car_maker, female_car_maker)"
      ],
      "metadata": {
        "colab": {
          "base_uri": "https://localhost:8080/"
        },
        "id": "EjRFK6YQcj2-",
        "outputId": "c77bb54d-85d5-481d-973d-1b759c55af4b"
      },
      "execution_count": null,
      "outputs": [
        {
          "output_type": "stream",
          "name": "stdout",
          "text": [
            "Male {'Oldsmobile': 6, 'Ford': 44, 'GMC': 31, 'Volkswagen': 19, 'Aston Martin': 4, 'Mercedes-Benz': 23, 'Buick': 17, 'Audi': 17, 'Isuzu': 3, 'Acura': 10, 'Pontiac': 13, 'Jaguar': 5, 'Chevrolet': 38, 'Dodge': 25, 'Infiniti': 9, 'Mitsubishi': 29, 'Plymouth': 5, 'Subaru': 8, 'Lincoln': 7, 'Cadillac': 11, 'Toyota': 26, 'Mazda': 14, 'Volvo': 10, 'Jeep': 7, 'Maserati': 5, 'Mercury': 12, 'BMW': 12, 'Hyundai': 10, 'Chrysler': 3, 'Lexus': 8, 'Kia': 6, 'Saturn': 3, 'Maybach': 2, 'Honda': 10, 'Nissan': 7, 'Scion': 1, 'Bentley': 3, 'Saab': 8, 'Jensen': 1, 'Smart': 1, 'Porsche': 5, 'Land Rover': 3, 'Suzuki': 5, 'Panoz': 2, 'Hummer': 1, 'Rolls-Royce': 2, 'Lamborghini': 4, 'Geo': 2, 'Corbin': 1, 'Lotus': 5, 'Daewoo': 1, 'Aptera': 1, 'Eagle': 1, 'Austin': 1}\n",
            "Female {'Ford': 48, 'GMC': 23, 'Chrysler': 8, 'Isuzu': 3, 'Chevrolet': 48, 'Bugatti': 1, 'Scion': 3, 'Rolls-Royce': 2, 'Plymouth': 4, 'Cadillac': 6, 'Lexus': 17, 'Porsche': 5, 'Jeep': 6, 'BMW': 13, 'Lotus': 7, 'Land Rover': 9, 'Toyota': 24, 'Mercury': 9, 'Volvo': 15, 'Nissan': 12, 'Mitsubishi': 25, 'Acura': 11, 'Audi': 14, 'Mercedes-Benz': 18, 'Honda': 10, 'Mazda': 15, 'Kia': 9, 'Suzuki': 13, 'Dodge': 20, 'Saturn': 3, 'Subaru': 9, 'Volkswagen': 11, 'Bentley': 5, 'Pontiac': 14, 'Aston Martin': 2, 'Buick': 11, 'Infiniti': 9, 'Lamborghini': 3, 'Eagle': 1, 'Saab': 3, 'Jaguar': 3, 'Hyundai': 4, 'Oldsmobile': 8, 'Geo': 1, 'Lincoln': 4, 'Smart': 1, 'Morgan': 1, 'Austin': 1, 'Panoz': 1}\n",
            "\n",
            "\n",
            " Ford Ford\n"
          ]
        }
      ]
    },
    {
      "cell_type": "markdown",
      "source": [
        "#Section 10 - Context Managers"
      ],
      "metadata": {
        "id": "7M3L3qf593O1"
      }
    },
    {
      "cell_type": "markdown",
      "source": [
        "## 01 - Context Managers in Python.ipynb"
      ],
      "metadata": {
        "id": "bgcPH6tyjxvw"
      }
    },
    {
      "cell_type": "markdown",
      "source": [
        "Exmple of context manager use:\n",
        "\n",
        "\n",
        "```\n",
        "with open(fileName) as f:\n",
        "  ...\n",
        "  ...\n",
        "```\n"
      ],
      "metadata": {
        "id": "0PiMWhIc989R"
      }
    },
    {
      "cell_type": "markdown",
      "source": [
        "There is a general pattern that context managers can help us deal with:\n",
        "\n",
        "    Open - Close\n",
        "    Lock - Release\n",
        "    Change - Reset\n",
        "    Enter - Exit\n",
        "    Start - Stop\n"
      ],
      "metadata": {
        "id": "D0EC9RaRkbfi"
      }
    },
    {
      "cell_type": "code",
      "source": [
        "class context_work_tracer:\n",
        "  def __init__(self, input_string):\n",
        "    self.s = input_string\n",
        "    print(\"__init__\")\n",
        "\n",
        "  def __enter__(self):\n",
        "    print(\"__enter__ needs atlest self in input\")\n",
        "    return self # this thing returned will get in \"as\"\n",
        "    '''\n",
        "    example: if __enter__ returns self.obj\n",
        "              and \"with context_work_tracer(\"abcd\") as f:\" is used\n",
        "              the value of self.obj will be returned in f\n",
        "\n",
        "              f = self.obj \n",
        "              but, if f.obj does not exit  (i.e. self.obj.obj does not exist),\n",
        "              f.obj returns value of self.obj\n",
        "    '''\n",
        "\n",
        "  def __exit__(self, exc_type, exc_value, exc_tb):\n",
        "    # exc_type = exception type\n",
        "    # exc_value = exception value\n",
        "    # exc_tb = excepion traceback\n",
        "    print(\"__exit__ needs atleast these 4 args (self, exc_type, exc_value, exc_tb)\")\n",
        "    '''\n",
        "    if __exit__ returns True  : exceptions inside context manager are supressed  : True means  (yes supress)\n",
        "    if __exit__ returns False : exceptions inside context manager works as usual : False means (no do not supress)\n",
        "    '''"
      ],
      "metadata": {
        "id": "vDq8Lwj7927m"
      },
      "execution_count": null,
      "outputs": []
    },
    {
      "cell_type": "code",
      "source": [
        "with context_work_tracer(\"Aditya\"):\n",
        "  print(\"logic inside with\")"
      ],
      "metadata": {
        "colab": {
          "base_uri": "https://localhost:8080/"
        },
        "id": "9IQ36HsRAIr5",
        "outputId": "4e1689ce-18d6-4641-e726-91fed02d4019"
      },
      "execution_count": null,
      "outputs": [
        {
          "output_type": "stream",
          "name": "stdout",
          "text": [
            "__init__\n",
            "__enter__ needs atlest self in input\n",
            "logic inside with\n",
            "__exit__ needs atleast these 4 args (self, exc_type, exc_value, exc_tb)\n"
          ]
        }
      ]
    },
    {
      "cell_type": "code",
      "source": [
        "with open(\"Aditya.txt\",\"w\") as f:\n",
        "  print(\"inside with: file.closed =\", f.closed)\n",
        "print(\"outside with: file.closed =\", f.closed)"
      ],
      "metadata": {
        "colab": {
          "base_uri": "https://localhost:8080/"
        },
        "id": "oP_v3z8iP_Hz",
        "outputId": "ed2ab2a6-9cb4-4c8c-fcf5-28eab3071204"
      },
      "execution_count": null,
      "outputs": [
        {
          "output_type": "stream",
          "name": "stdout",
          "text": [
            "inside with: file.closed = False\n",
            "outside with: file.closed = True\n"
          ]
        }
      ]
    },
    {
      "cell_type": "markdown",
      "source": [
        "Note that the __enter__ method can return anything, including the context manager itself. Below code shows it returning context manager (self)"
      ],
      "metadata": {
        "id": "Wq_JyYmbfkBL"
      }
    },
    {
      "cell_type": "code",
      "source": [
        "class MyContextManager:\n",
        "    def __enter__(self):\n",
        "        print(\"Entering context\")\n",
        "        return self\n",
        "\n",
        "    def __exit__(self, exc_type, exc_value, traceback):\n",
        "        print(\"Exiting context\")\n",
        "\n",
        "with MyContextManager() as cm:\n",
        "    print(\"Inside context\")\n",
        "    print(\"-------------------------------\")\n",
        "    print(cm is cm.__enter__())  # Output: True\n",
        "    print(\"-------------------------------\")"
      ],
      "metadata": {
        "colab": {
          "base_uri": "https://localhost:8080/"
        },
        "id": "1bKXnI23i0tF",
        "outputId": "d1227b91-728b-4168-f18d-91141aacae6e"
      },
      "execution_count": null,
      "outputs": [
        {
          "output_type": "stream",
          "name": "stdout",
          "text": [
            "Entering context\n",
            "Inside context\n",
            "-------------------------------\n",
            "Entering context\n",
            "True\n",
            "-------------------------------\n",
            "Exiting context\n"
          ]
        }
      ]
    },
    {
      "cell_type": "markdown",
      "source": [
        "## 02 - Caveat with Lazy Iterators"
      ],
      "metadata": {
        "id": "g7g4ikvLjho3"
      }
    },
    {
      "cell_type": "markdown",
      "source": [
        "### Case 1: data can be accessed outside context manager. WHY ?"
      ],
      "metadata": {
        "id": "parCGvQmmiKK"
      }
    },
    {
      "cell_type": "code",
      "source": [
        "import csv\n",
        "import requests\n",
        "url = \"https://raw.githubusercontent.com/fbaptiste/python-deepdive/main/Part%202/Section%2010%20-%20Context%20Managers/02%20-%20Caveat%20with%20Lazy%20Iterators/nyc_parking_tickets_extract.csv\"\n",
        "\n",
        "def read_data(_url):\n",
        "    with requests.get(_url) as response:\n",
        "        return csv.reader(response.content.decode().splitlines())\n",
        "\n",
        "for row in read_data(url):\n",
        "    print(row)"
      ],
      "metadata": {
        "colab": {
          "base_uri": "https://localhost:8080/"
        },
        "id": "FdWvKS_2jlqL",
        "outputId": "9188523e-6d33-487a-f9c2-7cc8d54a823c"
      },
      "execution_count": null,
      "outputs": [
        {
          "output_type": "stream",
          "name": "stdout",
          "text": [
            "['Summons Number', 'Plate ID', 'Registration State', 'Plate Type', 'Issue Date', 'Violation Code', 'Vehicle Body Type', 'Vehicle Make', 'Violation Description']\n",
            "['4006478550', 'VAD7274', 'VA', 'PAS', '10/5/2016', '5', '4D', 'BMW', 'BUS LANE VIOLATION']\n",
            "['4006462396', '22834JK', 'NY', 'COM', '9/30/2016', '5', 'VAN', 'CHEVR', 'BUS LANE VIOLATION']\n",
            "['4007117810', '21791MG', 'NY', 'COM', '4/10/2017', '5', 'VAN', 'DODGE', 'BUS LANE VIOLATION']\n",
            "['4006265037', 'FZX9232', 'NY', 'PAS', '8/23/2016', '5', 'SUBN', 'FORD', 'BUS LANE VIOLATION']\n",
            "['4006535600', 'N203399C', 'NY', 'OMT', '10/19/2016', '5', 'SUBN', 'FORD', 'BUS LANE VIOLATION']\n",
            "['4007156700', '92163MG', 'NY', 'COM', '4/13/2017', '5', 'VAN', 'FRUEH', 'BUS LANE VIOLATION']\n",
            "['4006687989', 'MIQ600', 'SC', 'PAS', '11/21/2016', '5', 'VN', 'HONDA', 'BUS LANE VIOLATION']\n",
            "['4006943052', '2AE3984', 'MD', 'PAS', '2/1/2017', '5', 'SW', 'LINCO', 'BUS LANE VIOLATION']\n",
            "['4007306795', 'HLG4926', 'NY', 'PAS', '5/30/2017', '5', 'SUBN', 'TOYOT', 'BUS LANE VIOLATION']\n",
            "['4007124590', 'T715907C', 'NY', 'OMT', '4/3/2017', '5', 'SUBN', 'TOYOT', 'BUS LANE VIOLATION']\n",
            "['5096061966', 'HRC9475', 'NY', 'PAS', '4/18/2017', '7', 'SUBN', 'CADIL', 'FAILURE TO STOP AT RED LIGHT']\n",
            "['5094070400', 'DYP8042', 'NY', 'PAS', '10/26/2016', '7', 'SUBN', 'CHEVR', 'FAILURE TO STOP AT RED LIGHT']\n",
            "['5094906770', 'G30ESY', 'NJ', 'PAS', '1/1/2017', '7', 'WAGO', 'CHRYS', 'FAILURE TO STOP AT RED LIGHT']\n",
            "['5093319363', 'GGT8868', 'NY', 'PAS', '9/6/2016', '7', 'SUBN', 'CHRYS', 'FAILURE TO STOP AT RED LIGHT']\n",
            "['5092638849', '107DDD', 'NY', 'SPO', '7/20/2016', '7', 'SUBN', 'DODGE', 'FAILURE TO STOP AT RED LIGHT']\n",
            "['5093455337', 'ENQT55', 'FL', 'PAS', '9/12/2016', '7', 'VN', 'DODGE', 'FAILURE TO STOP AT RED LIGHT']\n",
            "['5094961366', 'GSU4156', 'OH', 'PAS', '1/7/2017', '7', '4S', 'DODGE', 'FAILURE TO STOP AT RED LIGHT']\n",
            "['5092906534', 'V84FXV', 'NJ', 'PAS', '8/7/2016', '7', 'WAGO', 'FIR', 'FAILURE TO STOP AT RED LIGHT']\n",
            "['5093620865', 'AD80228', 'AZ', 'PAS', '9/24/2016', '7', 'TK', 'FORD', 'FAILURE TO STOP AT RED LIGHT']\n",
            "['5092733548', 'EVX4041', 'NY', 'PAS', '7/26/2016', '7', 'SUBN', 'FORD', 'FAILURE TO STOP AT RED LIGHT']\n",
            "['5095995530', 'EMK5934', 'NY', 'PAS', '4/13/2017', '7', 'VAN', 'GMC', 'FAILURE TO STOP AT RED LIGHT']\n",
            "['5092750364', 'DPH8955', 'NY', 'PAS', '7/27/2016', '7', 'SUBN', 'HONDA', 'FAILURE TO STOP AT RED LIGHT']\n",
            "['5094658001', 'GCF1897', 'NY', 'PAS', '12/10/2016', '7', '4DSD', 'HONDA', 'FAILURE TO STOP AT RED LIGHT']\n",
            "['5092833786', 'HCS9434', 'NY', 'PAS', '8/3/2016', '7', 'SUBN', 'HONDA', 'FAILURE TO STOP AT RED LIGHT']\n",
            "['5096484040', 'HHS1641', 'NY', 'PAS', '5/17/2017', '7', 'SUBN', 'HONDA', 'FAILURE TO STOP AT RED LIGHT']\n",
            "['5095797586', 'KHE1889', 'PA', 'PAS', '3/28/2017', '7', 'SDN', 'HONDA', 'FAILURE TO STOP AT RED LIGHT']\n",
            "['5095799807', 'VES2440', 'VA', 'PAS', '3/29/2017', '7', 'VAN', 'HONDA', 'FAILURE TO STOP AT RED LIGHT']\n",
            "['5093533919', 'CYU4598', 'NY', 'PAS', '9/16/2016', '7', 'SUBN', 'HYUND', 'FAILURE TO STOP AT RED LIGHT']\n",
            "['5093399735', 'DZGT24', 'FL', 'PAS', '9/4/2016', '7', 'UT', 'HYUND', 'FAILURE TO STOP AT RED LIGHT']\n",
            "['5094058873', 'GRN3101', 'NY', 'PAS', '10/29/2016', '7', '4DSD', 'HYUND', 'FAILURE TO STOP AT RED LIGHT']\n",
            "['5094770986', 'T668962C', 'NY', 'OMT', '12/19/2016', '7', '4DSD', 'HYUND', 'FAILURE TO STOP AT RED LIGHT']\n",
            "['5093895611', 'GVZ1407', 'NY', 'PAS', '10/14/2016', '7', '4DSD', 'JAGUA', 'FAILURE TO STOP AT RED LIGHT']\n",
            "['5094185792', 'AGM9013', 'NY', 'PAS', '11/4/2016', '7', 'SUBN', 'JEEP', 'FAILURE TO STOP AT RED LIGHT']\n",
            "['5092708219', 'F47DZF', 'NJ', 'PAS', '7/24/2016', '7', '4 DR', 'JEEP', 'FAILURE TO STOP AT RED LIGHT']\n",
            "['5094759954', 'GLB8157', 'NY', 'PAS', '12/19/2016', '7', 'SUBN', 'JEEP', 'FAILURE TO STOP AT RED LIGHT']\n",
            "['5093891046', 'FJS4033', 'NY', 'PAS', '10/14/2016', '7', '4DSD', 'LEXUS', 'FAILURE TO STOP AT RED LIGHT']\n",
            "['5093527853', 'GYM9809', 'NY', 'PAS', '9/21/2016', '7', '4DSD', 'LEXUS', 'FAILURE TO STOP AT RED LIGHT']\n",
            "['5096683886', 'HCS4873', 'NY', 'PAS', '5/18/2017', '7', '4DSD', 'LEXUS', 'FAILURE TO STOP AT RED LIGHT']\n",
            "['5096917368', 'FZD8593', 'NY', 'PAS', '6/13/2017', '7', 'SUBN', 'ME/BE', 'FAILURE TO STOP AT RED LIGHT']\n",
            "['5094893737', 'GER1584', 'NY', 'PAS', '12/31/2016', '7', '4DSD', 'ME/BE', 'FAILURE TO STOP AT RED LIGHT']\n",
            "['5096249300', 'HEM8411', 'NY', 'PAS', '5/1/2017', '7', '4DSD', 'ME/BE', 'FAILURE TO STOP AT RED LIGHT']\n",
            "['5096958772', '165TRX', 'CT', 'PAS', '6/16/2017', '7', '4W', 'MERCU', 'FAILURE TO STOP AT RED LIGHT']\n",
            "['5093703217', 'HFG4313', 'NY', 'PAS', '9/30/2016', '7', '4DSD', 'MITSU', 'FAILURE TO STOP AT RED LIGHT']\n",
            "['5094670736', 'AXU4790', 'NY', 'PAS', '12/11/2016', '7', '4DSD', 'NISSA', 'FAILURE TO STOP AT RED LIGHT']\n",
            "['5094094166', 'CZM4111', 'NY', 'PAS', '10/28/2016', '7', '4DSD', 'TOYOT', 'FAILURE TO STOP AT RED LIGHT']\n",
            "['5096723768', 'EDN2797', 'NY', 'PAS', '6/2/2017', '7', '4DSD', 'TOYOT', 'FAILURE TO STOP AT RED LIGHT']\n",
            "['5093209120', 'FZT5005', 'NY', 'PAS', '8/28/2016', '7', '4DSD', 'TOYOT', 'FAILURE TO STOP AT RED LIGHT']\n",
            "['5092469481', 'GZH7067', 'NY', 'PAS', '7/10/2016', '7', 'SUBN', 'TOYOT', 'FAILURE TO STOP AT RED LIGHT']\n",
            "['5092451658', 'GZH7067', 'NY', 'PAS', '7/8/2016', '7', 'SUBN', 'TOYOT', 'FAILURE TO STOP AT RED LIGHT']\n",
            "['5095356545', 'GZM8254', 'NY', 'OMS', '2/18/2017', '7', 'SUBN', 'TOYOT', 'FAILURE TO STOP AT RED LIGHT']\n",
            "['8410006650', 'D53AUUN', 'NJ', 'PAS', '10/21/2016', '9', '4DSD', 'LEXUS', '09-Blocking the Box']\n",
            "['8534116519', 'CES6482', 'NY', 'PAS', '6/12/2017', '9', 'SUBN', 'TOYOT', '09-Blocking the Box']\n",
            "['8485674984', 'T713160C', 'NY', 'OMT', '6/13/2017', '9', 'SUBN', 'TOYOT', '09-Blocking the Box']\n",
            "['8556557405', '59622JW', 'NY', 'COM', '6/9/2017', '10', 'VAN', 'FORD', '10-No Stopping']\n",
            "['8071038416', 'AM479F', 'NJ', 'PAS', '7/7/2016', '10', 'DELV', 'FRUEH', '10-No Stopping']\n",
            "['8483087236', '76822MH', 'NY', 'COM', '5/19/2017', '10', 'DELV', 'HIN', '10-No Stopping']\n",
            "['8481125088', '55179ME', 'NY', 'COM', '4/10/2017', '10', 'DELV', 'NS/OT', '10-No Stopping']\n",
            "['8506822300', '55106MB', 'NY', 'COM', '5/31/2017', '10', 'VAN', 'WORKH', '10-No Stopping']\n",
            "['8482331425', '86609MB', 'NY', 'COM', '6/18/2017', '13', 'VAN', 'CHEVR', '13-No Stand (taxi stand)']\n",
            "['8028246722', 'T703619C', 'NY', 'OMT', '9/15/2016', '13', 'SUBN', 'CHEVR', '13-No Stand (taxi stand)']\n",
            "['8378547530', 'FWZ8815', 'NY', 'PAS', '1/11/2017', '14', '2DSD', 'ACURA', '14-No Standing']\n",
            "['8489750210', '6DQT356', 'CA', 'PAS', '11/28/2016', '14', '4DSD', 'AUDI', '14-No Standing']\n",
            "['1410726095', 'DEP4792', 'NC', 'PAS', '7/15/2016', '14', '', 'BMW', '']\n",
            "['8421031235', 'GGA4266', 'NY', 'PAS', '10/18/2016', '14', '4DSD', 'BMW', '14-No Standing']\n",
            "['7730553259', 'DLZ8901', 'NY', 'PAS', '9/26/2016', '14', 'SUBN', 'CHEVR', '14-No Standing']\n",
            "['8498520046', 'HKF6916', 'NY', 'PAS', '4/27/2017', '14', 'SUBN', 'CHEVR', '14-No Standing']\n",
            "['8537807813', 'HNF6718', 'NY', 'PAS', '4/21/2017', '14', 'SUBN', 'CHEVR', '14-No Standing']\n",
            "['8083571465', 'KCG9559', 'PA', 'PAS', '12/22/2016', '14', 'SUBN', 'CHEVR', '14-No Standing']\n",
            "['7536689184', 'ZCL5723', 'PA', 'PAS', '1/26/2017', '14', 'VAN', 'CHEVR', '14-No Standing']\n",
            "['8480505680', 'HCT2134', 'NY', 'PAS', '1/18/2017', '14', 'SUBN', 'CHRYS', '14-No Standing']\n",
            "['8481973580', '28693MH', 'NY', 'COM', '6/13/2017', '14', 'VAN', 'DODGE', '14-No Standing']\n",
            "['8460500214', '30408MC', 'NY', 'COM', '8/4/2016', '14', 'PICK', 'DODGE', '14-No Standing']\n",
            "['8482817036', '50501JT', 'NY', 'COM', '4/11/2017', '14', 'VAN', 'DODGE', '14-No Standing']\n",
            "['8117027999', '83317ME', 'NY', 'COM', '9/27/2016', '14', 'VAN', 'DODGE', '14-No Standing']\n",
            "['8488121532', 'FLX2674', 'NY', 'PAS', '4/5/2017', '14', '2DSD', 'DODGE', '14-No Standing']\n",
            "['8543952980', 'FSZ8671', 'NY', 'PAS', '4/21/2017', '14', 'SUBN', 'DODGE', '14-No Standing']\n",
            "['8501806912', 'KGP1166', 'PA', 'PAS', '6/4/2017', '14', 'VAN', 'DODGE', '14-No Standing']\n",
            "['8107542976', '11AH74', 'MA', 'PAS', '1/29/2017', '14', '4DSD', 'FORD', '14-No Standing']\n",
            "['8564650320', '29222MK', 'NY', 'COM', '5/5/2017', '14', 'VAN', 'FORD', '14-No Standing']\n",
            "['8010367576', '30661MA', 'NY', 'COM', '12/22/2016', '14', 'VAN', 'FORD', '14-No Standing']\n",
            "['8505159536', '41795JX', 'NY', 'COM', '3/9/2017', '14', 'VAN', 'FORD', '14-No Standing']\n",
            "['7813887440', '44267JZ', 'NY', 'COM', '8/12/2016', '14', 'VAN', 'FORD', '14-No Standing']\n",
            "['8440509546', '49317JX', 'NY', 'COM', '10/29/2016', '14', 'VAN', 'FORD', '14-No Standing']\n",
            "['1408575656', '6XWZ969', 'CA', 'PAS', '7/6/2016', '14', 'SDN', 'FORD', '']\n",
            "['8516853275', '72100MH', 'NY', 'COM', '4/12/2017', '14', 'VAN', 'FORD', '14-No Standing']\n",
            "['7059924103', '91878MB', 'NY', 'COM', '10/12/2016', '14', 'VAN', 'FORD', '14-No Standing']\n",
            "['8170085561', 'ENM3708', 'NY', 'PAS', '2/10/2017', '14', 'SUBN', 'FORD', '14-No Standing']\n",
            "['8527511113', 'F70GEP', 'NJ', 'PAS', '5/1/2017', '14', 'SUBN', 'FORD', '14-No Standing']\n",
            "['8511453696', 'FSY6987', 'NY', 'PAS', '3/13/2017', '14', 'SUBN', 'FORD', '14-No Standing']\n",
            "['1413745933', 'HCC2829', 'NY', 'PAS', '8/22/2016', '14', 'VAN', 'FORD', '']\n",
            "['8484882226', 'S25DSK', 'NJ', 'PAS', '6/8/2017', '14', 'PICK', 'FORD', '14-No Standing']\n",
            "['8524054499', 'ZRK24R', 'NJ', 'PAS', '3/18/2017', '14', 'SUBN', 'FORD', '14-No Standing']\n",
            "['1423945281', '2240653', 'IN', 'PAS', '5/13/2017', '14', '', 'FRUEH', '']\n",
            "['8577650820', '10632JU', 'NY', 'COM', '6/20/2017', '14', 'UTIL', 'FRUEH', '14-No Standing']\n",
            "['7056662882', '83038ME', 'NY', 'COM', '9/21/2016', '14', 'VAN', 'FRUEH', '14-No Standing']\n",
            "['8324025510', '83146ME', 'NY', 'COM', '10/27/2016', '14', 'VAN', 'FRUEH', '14-No Standing']\n",
            "['8286541110', '85846MD', 'NY', 'COM', '10/25/2016', '14', 'VAN', 'FRUEH', '14-No Standing']\n",
            "['8270548250', '91028MJ', 'NY', 'COM', '12/13/2016', '14', 'DELV', 'FRUEH', '14-No Standing']\n",
            "['8480520395', '99886MC', 'NY', 'COM', '6/19/2017', '14', 'VAN', 'FRUEH', '14-No Standing']\n",
            "['8496410791', 'AP338E', 'NJ', 'PAS', '5/17/2017', '14', 'TRAC', 'FRUEH', '14-No Standing']\n",
            "['8530950458', 'HAY5880', 'NY', 'PAS', '4/8/2017', '14', 'SUBN', 'GMC', '14-No Standing']\n",
            "['8552003569', 'XJ275S', 'NJ', 'PAS', '4/25/2017', '14', 'PICK', 'GMC', '14-No Standing']\n",
            "['8536010903', '25472MG', 'NY', 'COM', '6/16/2017', '14', 'REFG', 'HIN', '14-No Standing']\n",
            "['8508953549', 'XDLS80', 'NJ', 'PAS', '2/1/2017', '14', 'DELV', 'HIN', '14-No Standing']\n",
            "['7191990831', 'AA00234', 'CT', 'PAS', '7/2/2016', '14', 'SUBN', 'HONDA', '14-No Standing']\n",
            "['8519503676', 'FCX7311', 'NY', 'PAS', '3/20/2017', '14', 'SUBN', 'HONDA', '14-No Standing']\n",
            "['1418739704', 'GJK5307', 'NY', 'PAS', '4/9/2017', '14', 'SDN', 'HONDA', '']\n",
            "['7994359840', 'GNG1097', 'TX', 'PAS', '7/15/2016', '14', 'SUBN', 'HONDA', '14-No Standing']\n",
            "['1414856374', 'HLE9929', 'NY', 'PAS', '4/13/2017', '14', 'SUBN', 'HONDA', '']\n",
            "['8474909971', 'S938464', 'IA', 'PAS', '1/9/2017', '14', 'SUBN', 'HONDA', '14-No Standing']\n",
            "['1416903379', 'CRM6911', 'NY', 'PAS', '12/16/2016', '14', 'SDN', 'HYUND', '']\n",
            "['8340512559', 'CZB9676', 'NY', 'PAS', '8/23/2016', '14', '2DSD', 'HYUND', '14-No Standing']\n",
            "['8497566683', '17596JE', 'NY', 'COM', '6/16/2017', '14', 'DELV', 'INTER', '14-No Standing']\n",
            "['8517821075', '32295MA', 'NY', 'COM', '6/27/2017', '14', 'DELV', 'INTER', '14-No Standing']\n",
            "['1418035762', '62935JM', 'NY', 'COM', '1/24/2017', '14', 'DELV', 'INTER', '']\n",
            "['8482055392', '92638JU', 'NY', 'COM', '1/25/2017', '14', 'VAN', 'INTER', '14-No Standing']\n",
            "['8506706490', 'AP166T', 'NJ', 'PAS', '2/20/2017', '14', 'DELV', 'INTER', '14-No Standing']\n",
            "['8473761297', '33049MJ', 'NY', 'COM', '2/1/2017', '14', 'DELV', 'ISUZU', '14-No Standing']\n",
            "['8484877693', 'XBYG52', 'NJ', 'PAS', '5/12/2017', '14', 'VAN', 'ISUZU', '14-No Standing']\n",
            "['8152046917', 'VFW9441', 'VA', 'PAS', '8/14/2016', '14', 'SUBN', 'JEEP', '14-No Standing']\n",
            "['8503265503', '23800TC', 'NY', 'TRC', '3/28/2017', '14', 'TRAC', 'KENWO', '14-No Standing']\n",
            "['8489721312', '49734MA', 'NY', 'COM', '4/4/2017', '14', 'DELV', 'KENWO', '14-No Standing']\n",
            "['8464532088', 'HJR5750', 'NY', 'PAS', '2/3/2017', '14', 'SUBN', 'KIA', '14-No Standing']\n",
            "['8488825948', 'HAU1278', 'NY', 'PAS', '3/31/2017', '14', 'SUBN', 'LEXUS', '14-No Standing']\n",
            "['8559362496', 'HLW7798', 'NY', 'PAS', '6/13/2017', '14', '4DSD', 'LEXUS', '14-No Standing']\n",
            "['8478353860', 'VUE95C', 'NJ', 'PAS', '12/6/2016', '14', '4DSD', 'LEXUS', '14-No Standing']\n",
            "['8518911631', 'ZD53LE', 'NJ', 'PAS', '5/17/2017', '14', 'SUBN', 'LEXUS', '14-No Standing']\n",
            "['1416091415', '75213MH', 'NY', 'COM', '11/28/2016', '14', 'VAN', 'ME/BE', '']\n",
            "['8482374059', 'F96FBF', 'NJ', 'PAS', '4/23/2017', '14', '4DSD', 'ME/BE', '14-No Standing']\n",
            "['8544960947', 'HMX8950', 'NY', 'PAS', '5/27/2017', '14', '4DSD', 'ME/BE', '14-No Standing']\n",
            "['1418609274', '8P82H', 'NY', 'OMT', '12/21/2016', '14', 'TAXI', 'NISSA', '']\n",
            "['1417565895', 'HEB8184', 'NY', 'PAS', '2/11/2017', '14', 'SDN', 'NISSA', '']\n",
            "['8155550278', 'W56GSE', 'NJ', 'PAS', '10/22/2016', '14', '4DSD', 'NISSA', '14-No Standing']\n",
            "['7433187960', '2330830', 'ME', 'PAS', '3/6/2017', '14', 'TRLR', 'NS/OT', '14-No Standing']\n",
            "['7645052715', 'FRZ3573', 'NY', 'PAS', '1/7/2017', '14', 'SUBN', 'NS/OT', '14-No Standing']\n",
            "['7922559173', 'XCYU94', 'NJ', 'PAS', '10/24/2016', '14', 'VAN', 'NS/OT', '14-No Standing']\n",
            "['7767415582', 'XW915N', 'NJ', 'PAS', '3/29/2017', '14', 'DELV', 'NS/OT', '14-No Standing']\n",
            "['8524350581', 'HGR5953', 'NY', 'PAS', '2/27/2017', '14', '4DSD', 'OLDSM', '14-No Standing']\n",
            "['7499844705', 'GGT7948', 'NY', 'PAS', '8/22/2016', '14', 'SUBN', 'SUBAR', '14-No Standing']\n",
            "['7150327266', 'HWE6388', 'PA', 'PAS', '8/5/2016', '14', 'SUBN', 'SUBAR', '14-No Standing']\n",
            "['8537603818', 'ASG8770', 'NY', 'PAS', '3/26/2017', '14', '4DSD', 'TOYOT', '14-No Standing']\n",
            "['8210533952', 'GST8679', 'NY', 'PAS', '11/21/2016', '14', '2DSD', 'TOYOT', '14-No Standing']\n",
            "['8555462198', 'HKT4222', 'NY', 'PAS', '6/12/2017', '14', 'SUBN', 'TOYOT', '14-No Standing']\n",
            "['1404838156', 'R57AAE', 'NJ', 'PAS', '4/29/2017', '14', 'SUBN', 'TOYOT', '']\n",
            "['8527806162', 'T659832C', 'NY', 'OMT', '6/4/2017', '14', '4DSD', 'TOYOT', '14-No Standing']\n",
            "['8513520615', '77026MG', 'NY', 'COM', '5/31/2017', '14', 'TRAC', 'VOLVO', '14-No Standing']\n",
            "['8251031485', 'HJP5565', 'NY', 'PAS', '10/4/2016', '16', '4DSD', 'CHEVR', '16A-No Std (Com Veh) Non-COM']\n",
            "['7813745231', 'GEL1890', 'NY', 'PAS', '9/19/2016', '16', 'SUBN', 'CHRYS', '16A-No Std (Com Veh) Non-COM']\n",
            "['8444534183', '36598MH', 'NY', 'COM', '11/23/2016', '16', 'VAN', 'DODGE', '16-No Std (Com Veh) Com Plate']\n",
            "['8061037749', 'HFG7121', 'NY', 'PAS', '8/22/2016', '16', 'SUBN', 'DODGE', '16A-No Std (Com Veh) Non-COM']\n",
            "['8250539527', '24745ME', 'NY', 'COM', '11/9/2016', '16', 'VAN', 'FORD', '16-No Std (Com Veh) Com Plate']\n",
            "['8308520170', '49033ME', 'NY', 'COM', '7/14/2016', '16', 'VAN', 'FORD', '16-No Std (Com Veh) Com Plate']\n",
            "['8504915323', '57011ME', 'NY', 'COM', '4/6/2017', '16', 'SUBN', 'FORD', '16-No Std (Com Veh) Com Plate']\n",
            "['8339536023', 'XCEG93', 'NJ', 'PAS', '9/15/2016', '16', 'VAN', 'FORD', '16-No Std (Com Veh) Com Plate']\n",
            "['8566405183', 'GJD5585', 'NY', 'PAS', '6/1/2017', '16', '4DSD', 'ME/BE', '16A-No Std (Com Veh) Non-COM']\n",
            "['7051225662', 'N61GZN', 'NJ', 'PAS', '11/25/2016', '16', 'SUBN', 'SATUR', '16A-No Std (Com Veh) Non-COM']\n",
            "['8149510126', 'GTP8988', 'NY', 'PAS', '8/10/2016', '16', '2DSD', 'SMART', '16A-No Std (Com Veh) Non-COM']\n",
            "['7052028463', 'HGM9782', 'NY', 'PAS', '1/30/2017', '16', 'SUBN', 'TOYOT', '16A-No Std (Com Veh) Non-COM']\n",
            "['8474913706', 'T674455C', 'NY', 'OMT', '2/8/2017', '16', '4DSD', 'TOYOT', '16A-No Std (Com Veh) Non-COM']\n",
            "['8506607206', '18752MH', 'NY', 'COM', '3/16/2017', '17', 'VAN', 'CHEVR', '17-No Stand (exc auth veh)']\n",
            "['8438519763', '89882JV', 'NY', 'COM', '10/13/2016', '17', 'VAN', 'GMC', '17-No Stand (exc auth veh)']\n",
            "['8551111954', 'GCE9214', 'NY', 'PAS', '6/25/2017', '17', '4DSD', 'HONDA', '17-No Stand (exc auth veh)']\n",
            "['8516654059', 'AP169V', 'NJ', 'PAS', '2/22/2017', '18', 'DELV', 'INTER', '18-No Stand (bus lane)']\n",
            "['1368119141', 'BMLV150', 'ON', 'PAS', '7/16/2016', '19', 'SUBN', 'CHEVR', '']\n",
            "['8528274184', 'EKF9820', 'NY', 'PAS', '5/1/2017', '19', 'SUBN', 'CHEVR', '19-No Stand (bus stop)']\n",
            "['8522350073', '83290MD', 'NY', 'COM', '2/24/2017', '19', 'SUBN', 'DODGE', '19-No Stand (bus stop)']\n",
            "['8070097437', 'T62GJP', 'NJ', 'PAS', '9/18/2016', '19', 'PICK', 'DODGE', '19-No Stand (bus stop)']\n",
            "['8509409523', '35050JU', 'NY', 'COM', '2/24/2017', '19', 'PICK', 'FORD', '19-No Stand (bus stop)']\n",
            "['1413553552', '41126BB', 'NY', 'OMT', '7/28/2016', '19', 'VAN', 'FORD', '']\n",
            "['8514220482', '2588073', 'IN', 'PAS', '5/29/2017', '19', 'DELV', 'FRUEH', '19-No Stand (bus stop)']\n",
            "['8485652319', '0480PRA', 'MN', 'PAS', '1/26/2017', '19', 'DELV', 'FRUEH', '19-No Stand (bus stop)']\n",
            "['7014671406', 'B0951V', 'FL', 'PAS', '9/7/2016', '19', 'DELV', 'FRUEH', '19-No Stand (bus stop)']\n",
            "['1422732710', 'GMK4592', 'NY', 'PAS', '6/19/2017', '19', 'SDN', 'HONDA', '']\n",
            "['7249114220', 'GPP7413', 'NY', 'PAS', '10/8/2016', '19', 'SUBN', 'HONDA', '19-No Stand (bus stop)']\n",
            "['7499990163', 'HKT3209', 'NY', 'PAS', '12/13/2016', '19', 'SUBN', 'HONDA', '19-No Stand (bus stop)']\n",
            "['8491667738', 'JPC4516', 'PA', 'PAS', '3/1/2017', '19', '4DSD', 'INFIN', '19-No Stand (bus stop)']\n",
            "['8302046280', '63444JM', 'NY', 'COM', '1/26/2017', '19', 'VAN', 'INTER', '19-No Stand (bus stop)']\n",
            "['8009901763', '13657MD', 'NY', 'COM', '9/27/2016', '19', 'DELV', 'KENWO', '19-No Stand (bus stop)']\n",
            "['1424024420', 'HPD1970', 'NY', 'PAS', '6/10/2017', '19', 'SDN', 'KIA', '']\n",
            "['8511718990', '50104MH', 'NY', 'COM', '6/9/2017', '19', 'VAN', 'ME/BE', '19-No Stand (bus stop)']\n",
            "['1415429522', '17236MH', 'NY', 'COM', '3/3/2017', '19', 'SUBN', 'MITSU', '']\n",
            "['8476355312', '47829MD', 'NY', 'COM', '2/14/2017', '19', 'DELV', 'PETER', '19-No Stand (bus stop)']\n",
            "['1406918726', '5M39B', 'NY', 'OMT', '7/13/2016', '19', 'TAXI', 'TOYOT', '']\n",
            "['7241990262', 'DVA1919', 'NY', 'PAS', '11/16/2016', '19', 'SUBN', 'TOYOT', '19-No Stand (bus stop)']\n",
            "['8330511935', 'HBY7509', 'NY', 'PAS', '7/30/2016', '19', '4DSD', 'TOYOT', '19-No Stand (bus stop)']\n",
            "['1423536058', 'HCS2336', 'NY', 'PAS', '1/27/2017', '19', 'SUBN', 'TOYOT', '']\n",
            "['8519016595', 'QU655', 'RI', 'PAS', '6/12/2017', '19', '4DSD', 'TOYOT', '19-No Stand (bus stop)']\n",
            "['8530522310', 'T640396C', 'NY', 'OMT', '5/27/2017', '19', '4DSD', 'TOYOT', '19-No Stand (bus stop)']\n",
            "['1413358512', '54295PC', 'NY', 'APP', '8/9/2016', '19', 'BUS', '', '']\n",
            "['8269048434', 'CDPE57', 'FL', 'PAS', '8/21/2016', '20', '4DSD', 'ACURA', '20A-No Parking (Non-COM)']\n",
            "['7036998684', 'VML8110', 'VA', 'PAS', '2/21/2017', '20', '4DSD', 'BMW', '20A-No Parking (Non-COM)']\n",
            "['8515215408', 'HFB1731', 'NY', 'PAS', '4/14/2017', '20', 'SUBN', 'CADIL', '20A-No Parking (Non-COM)']\n",
            "['8470607042', 'MYSUMMER', 'NY', 'OMT', '7/27/2016', '20', 'SUBN', 'CADIL', '20A-No Parking (Non-COM)']\n",
            "['1371960501', 'FEP2455', 'NY', 'PAS', '7/18/2016', '20', 'SUBN', 'CHEVR', '']\n",
            "['8550963045', 'GSU8031', 'NY', 'PAS', '6/20/2017', '20', '4DSD', 'CHEVR', '20A-No Parking (Non-COM)']\n",
            "['8358531096', 'FGN4109', 'NY', 'PAS', '11/14/2016', '20', 'SUBN', 'CHRYS', '20A-No Parking (Non-COM)']\n",
            "['7623299300', '530LAW', 'FL', 'PAS', '7/23/2016', '20', 'SUBN', 'CITRO', '20A-No Parking (Non-COM)']\n",
            "['1416638830', 'GLP367', 'NY', 'PAS', '4/30/2017', '20', 'SUBN', 'DODGE', '']\n",
            "['7441946736', 'GMT8049', 'NY', 'PAS', '2/27/2017', '20', '4DSD', 'DODGE', '20A-No Parking (Non-COM)']\n",
            "['8522913341', 'KHB4412', 'PA', 'PAS', '4/17/2017', '20', '4DSD', 'DODGE', '20A-No Parking (Non-COM)']\n",
            "['8421057479', '64921JT', 'NY', 'COM', '1/27/2017', '20', 'VAN', 'FORD', '20-No Parking (Com Plate)']\n",
            "['8533873610', 'HBZ9785', 'NY', 'PAS', '5/16/2017', '20', '2DSD', 'FORD', '20A-No Parking (Non-COM)']\n",
            "['8388024498', 'HGF2284', 'NY', 'PAS', '11/14/2016', '20', 'SUBN', 'FORD', '20A-No Parking (Non-COM)']\n",
            "['8086541423', 'K78FFL', 'NJ', 'PAS', '9/7/2016', '20', 'SUBN', 'FORD', '20A-No Parking (Non-COM)']\n",
            "['8521664060', 'XW347T', 'NJ', 'PAS', '6/9/2017', '20', 'VAN', 'FORD', '20-No Parking (Com Plate)']\n",
            "['7541979089', 'GPW5892', 'NY', 'PAS', '1/16/2017', '20', 'SUBN', 'GMC', '20A-No Parking (Non-COM)']\n",
            "['7487986524', 'AVS4503', 'NY', 'PAS', '9/16/2016', '20', 'PICK', 'HONDA', '20A-No Parking (Non-COM)']\n",
            "['8141015345', 'FRJ7858', 'NY', 'PAS', '7/22/2016', '20', 'SUBN', 'HONDA', '20A-No Parking (Non-COM)']\n",
            "['8543009080', 'GJA1784', 'NY', 'PAS', '6/2/2017', '20', 'SUBN', 'HONDA', '20A-No Parking (Non-COM)']\n",
            "['8275023932', 'GRR5700', 'NY', 'PAS', '9/16/2016', '20', '2DSD', 'HONDA', '20A-No Parking (Non-COM)']\n",
            "['8193526089', 'GTE5903', 'NY', 'PAS', '8/8/2016', '20', '4DSD', 'HONDA', '20A-No Parking (Non-COM)']\n",
            "['7809488399', 'HBE5264', 'NY', 'PAS', '10/3/2016', '20', '4DSD', 'HONDA', '20A-No Parking (Non-COM)']\n",
            "['8241524547', 'T715157C', 'NY', 'OMT', '1/19/2017', '20', 'SUBN', 'HONDA', '20A-No Parking (Non-COM)']\n",
            "['7578395609', 'W81CNF', 'NJ', 'PAS', '10/24/2016', '20', 'SUBN', 'HONDA', '20A-No Parking (Non-COM)']\n",
            "['8018756946', '7HG44', 'AL', 'PAS', '8/29/2016', '20', '4DSD', 'HYUND', '20A-No Parking (Non-COM)']\n",
            "['7043255211', 'HJC9828', 'NY', 'PAS', '3/10/2017', '20', '4DSD', 'HYUND', '20A-No Parking (Non-COM)']\n",
            "['8034434620', 'GYH6407', 'NY', 'PAS', '8/19/2016', '20', '4DSD', 'INFIN', '20A-No Parking (Non-COM)']\n",
            "['7587314647', '100VM', 'NY', 'SRF', '12/7/2016', '20', 'SUBN', 'JEEP', '20A-No Parking (Non-COM)']\n",
            "['8536008374', 'FAD5808', 'NY', 'PAS', '5/17/2017', '20', 'SUBN', 'JEEP', '20A-No Parking (Non-COM)']\n",
            "['8516810744', '97304JB', 'NY', 'COM', '5/11/2017', '20', 'SUBN', 'KIA', '20-No Parking (Com Plate)']\n",
            "['8074505194', 'GFL3297', 'NY', 'PAS', '10/21/2016', '20', 'SUBN', 'ME/BE', '20A-No Parking (Non-COM)']\n",
            "['8300067954', 'HBX2351', 'NY', 'PAS', '12/7/2016', '20', 'SUBN', 'ME/BE', '20A-No Parking (Non-COM)']\n",
            "['8508050940', 'HJP4843', 'NY', 'PAS', '1/17/2017', '20', 'SUBN', 'ME/BE', '20A-No Parking (Non-COM)']\n",
            "['8023492410', 'DYB1485', 'NY', 'PAS', '10/4/2016', '20', '4DSD', 'NISSA', '20A-No Parking (Non-COM)']\n",
            "['7411972721', 'EWL8888', 'NY', 'PAS', '12/1/2016', '20', 'SUBN', 'NISSA', '20A-No Parking (Non-COM)']\n",
            "['7495741065', 'HFD1339', 'NY', 'PAS', '7/22/2016', '20', 'SUBN', 'NISSA', '20A-No Parking (Non-COM)']\n",
            "['8536155176', 'HNU1266', 'NY', 'PAS', '3/24/2017', '20', '4DSD', 'NISSA', '20A-No Parking (Non-COM)']\n",
            "['8561455706', 'JEHIEL', 'NY', 'SRF', '5/31/2017', '20', '2DSD', 'NISSA', '20A-No Parking (Non-COM)']\n",
            "['8546500216', 'DWKN70', 'FL', 'PAS', '4/7/2017', '20', 'SUBN', 'ROVER', '20A-No Parking (Non-COM)']\n",
            "['8465012489', 'HFK6846', 'NY', 'PAS', '11/25/2016', '20', '4DSD', 'SUBAR', '20A-No Parking (Non-COM)']\n",
            "['7768685120', 'FJA9910', 'NY', 'PAS', '10/17/2016', '20', 'SUBN', 'TOYOT', '20A-No Parking (Non-COM)']\n",
            "['8558202229', 'FRY1035', 'NY', 'PAS', '4/29/2017', '20', '4DSD', 'TOYOT', '20A-No Parking (Non-COM)']\n",
            "['8564165960', 'FXK5768', 'NY', 'PAS', '6/24/2017', '20', '4DSD', 'TOYOT', '20A-No Parking (Non-COM)']\n",
            "['8147540644', 'GXB8128', 'NY', 'PAS', '9/1/2016', '20', '4DSD', 'TOYOT', '20A-No Parking (Non-COM)']\n",
            "['7606849481', 'T638216C', 'NY', 'OMT', '5/8/2017', '20', '4DSD', 'TOYOT', '20A-No Parking (Non-COM)']\n",
            "['8293037179', 'GJU4869', 'NY', 'PAS', '8/26/2016', '21', '4DSD', 'ACURA', '21-No Parking (street clean)']\n",
            "['8009559234', 'HBU6907', 'NY', 'PAS', '8/10/2016', '21', '4DSD', 'ACURA', '21-No Parking (street clean)']\n",
            "['8545156546', 'EVM6598', 'NY', 'PAS', '5/3/2017', '21', '4DSD', 'AUDI', '21-No Parking (street clean)']\n",
            "['8516050920', 'GXY1094', 'NY', 'PAS', '3/3/2017', '21', 'SUBN', 'AUDI', '21-No Parking (street clean)']\n",
            "['8544889610', 'VVP9002', 'VA', 'PAS', '6/14/2017', '21', '4DSD', 'AUDI', '21-No Parking (street clean)']\n",
            "['8318510150', '99H1010', 'TN', 'PAS', '8/2/2016', '21', '2DSD', 'BMW', '21-No Parking (street clean)']\n",
            "['8491819083', 'FHY6755', 'NY', 'PAS', '3/3/2017', '21', '4DSD', 'BMW', '21-No Parking (street clean)']\n",
            "['7725863710', 'GNF2877', 'NY', 'PAS', '9/26/2016', '21', '4DSD', 'BMW', '21-No Parking (street clean)']\n",
            "['1412956201', 'GNR5598', 'NY', 'PAS', '7/20/2016', '21', 'SDN', 'BMW', '']\n",
            "['7919376452', 'HAS5112', 'NY', 'PAS', '1/27/2017', '21', 'SUBN', 'BMW', '21-No Parking (street clean)']\n",
            "['7970393330', 'HAT6686', 'NY', 'PAS', '8/17/2016', '21', '4DSD', 'BMW', '21-No Parking (street clean)']\n",
            "['8537965042', 'HFP5029', 'NY', 'PAS', '5/16/2017', '21', '4DSD', 'BMW', '21-No Parking (street clean)']\n",
            "['8581153938', 'X89HVW', 'NJ', 'PAS', '6/14/2017', '21', '4DSD', 'BMW', '21-No Parking (street clean)']\n",
            "['8236569895', 'EPY9505', 'NY', 'PAS', '3/22/2017', '21', '4DSD', 'BUICK', '21-No Parking (street clean)']\n",
            "['8502707383', 'JGL6885', 'PA', 'PAS', '1/24/2017', '21', 'SUBN', 'BUICK', '21-No Parking (street clean)']\n",
            "['8511711946', '42283JZ', 'NY', 'COM', '4/27/2017', '21', 'VAN', 'CHEVR', '21-No Parking (street clean)']\n",
            "['1418142980', '483TFM', 'TN', 'PAS', '12/19/2016', '21', 'VAN', 'CHEVR', '']\n",
            "['1420029915', '53468JZ', '99', 'COM', '4/27/2017', '21', 'VAN', 'CHEVR', '']\n",
            "['8539666996', '85121ME', 'NY', 'COM', '5/22/2017', '21', 'VAN', 'CHEVR', '21-No Parking (street clean)']\n",
            "['1413709760', 'DGN6881', 'NY', 'PAS', '9/2/2016', '21', 'SDN', 'CHEVR', '']\n",
            "['8473311693', 'DTG6286', 'NY', 'PAS', '11/23/2016', '21', 'SUBN', 'CHEVR', '21-No Parking (street clean)']\n",
            "['7658191050', 'GEL4496', 'NY', 'PAS', '7/22/2016', '21', 'SUBN', 'CHEVR', '21-No Parking (street clean)']\n",
            "['8478626049', 'GRU5176', 'NY', 'PAS', '5/15/2017', '21', '4DSD', 'CHEVR', '21-No Parking (street clean)']\n",
            "['7369979570', 'GTC5499', 'NY', 'PAS', '7/20/2016', '21', '4DSD', 'CHEVR', '21-No Parking (street clean)']\n",
            "['1400876217', 'GVB9839', 'NY', 'PAS', '9/19/2016', '21', 'P-U', 'CHEVR', '']\n",
            "['1422284335', 'HHJ5747', 'NY', 'PAS', '6/3/2017', '21', 'SUBN', 'CHEVR', '']\n",
            "['8556051480', 'M322307', 'NJ', 'PAS', '4/26/2017', '21', 'PICK', 'CHEVR', '21-No Parking (street clean)']\n",
            "['8514570973', 'T738567C', 'NY', 'OMT', '6/21/2017', '21', 'SUBN', 'CHEVR', '21-No Parking (street clean)']\n",
            "['8357020770', 'Y56DLT', 'NJ', 'PAS', '1/20/2017', '21', '4DSD', 'CHEVR', '21-No Parking (street clean)']\n",
            "['8523602306', 'GUG9349', 'NY', 'PAS', '3/25/2017', '21', '4DSD', 'CHRYS', '21-No Parking (street clean)']\n",
            "['1410697290', 'HZ214', 'RI', 'PAS', '7/15/2016', '21', 'SUBN', 'CHRYS', '']\n",
            "['8485267631', '80381MD', 'NY', 'COM', '3/2/2017', '21', 'VAN', 'DODGE', '21-No Parking (street clean)']\n",
            "['7808365737', 'ETN7313', 'NY', 'PAS', '3/22/2017', '21', '4DSD', 'DODGE', '21-No Parking (street clean)']\n",
            "['8236558708', 'FLC9623', 'NY', 'PAS', '1/23/2017', '21', 'SUBN', 'DODGE', '21-No Parking (street clean)']\n",
            "['8567100082', 'FTY1182', 'NY', 'PAS', '5/3/2017', '21', '4DSD', 'DODGE', '21-No Parking (street clean)']\n",
            "['8516402034', '88040MH', 'NY', 'COM', '5/26/2017', '21', 'DELV', 'FORD', '21-No Parking (street clean)']\n",
            "['8237524573', 'CMD1897', 'NY', 'PAS', '10/19/2016', '21', '4DSD', 'FORD', '21-No Parking (street clean)']\n",
            "['8490203982', 'DBZ7195', 'NY', 'PAS', '12/13/2016', '21', '4DSD', 'FORD', '21-No Parking (street clean)']\n",
            "['8140540663', 'EHA1740', 'NY', 'PAS', '10/27/2016', '21', 'SUBN', 'FORD', '21-No Parking (street clean)']\n",
            "['8539702370', 'FYW7060', 'NY', 'PAS', '3/23/2017', '21', 'SUBN', 'FORD', '21-No Parking (street clean)']\n",
            "['8151587635', 'GFC5314', 'NY', 'PAS', '11/22/2016', '21', 'SUBN', 'FORD', '21-No Parking (street clean)']\n",
            "['8536979239', 'GKP5732', 'NY', 'PAS', '4/28/2017', '21', 'SUBN', 'FORD', '21-No Parking (street clean)']\n",
            "['8277588720', 'GYT3978', 'NY', 'PAS', '11/10/2016', '21', '2DSD', 'FORD', '21-No Parking (street clean)']\n",
            "['8330514596', 'HDK4072', 'NY', 'PAS', '8/23/2016', '21', 'SUBN', 'FORD', '21-No Parking (street clean)']\n",
            "['8043823078', 'HHF5026', 'NY', 'PAS', '9/6/2016', '21', 'SUBN', 'FORD', '21-No Parking (street clean)']\n",
            "['8173039823', 'JLN1340', 'PA', 'PAS', '11/16/2016', '21', 'SUBN', 'FORD', '21-No Parking (street clean)']\n",
            "['8521903650', 'XAGW46', 'NJ', 'PAS', '3/27/2017', '21', 'VAN', 'FORD', '21-No Parking (street clean)']\n",
            "['1420031892', '43601MG', 'NY', 'COM', '5/1/2017', '21', 'VAN', 'FRUEH', '']\n",
            "['8431017041', '76130JH', 'NY', 'COM', '9/16/2016', '21', 'DELV', 'FRUEH', '21-No Parking (street clean)']\n",
            "['8104561698', 'GAV2010', 'NY', 'PAS', '3/7/2017', '21', '4DSD', 'GEO', '21-No Parking (street clean)']\n",
            "['1421330088', '12040MJ', 'NY', 'COM', '6/20/2017', '21', 'SUBN', 'GMC', '']\n",
            "['8463512264', '20410AD', 'NY', 'COM', '10/28/2016', '21', 'VAN', 'GMC', '21-No Parking (street clean)']\n",
            "['8059052214', '36733JX', 'NY', 'COM', '11/14/2016', '21', 'VAN', 'GMC', '21-No Parking (street clean)']\n",
            "['1417865507', '77993JV', 'NY', 'COM', '2/6/2017', '21', 'VAN', 'GMC', '']\n",
            "['7005104110', 'GYG7508', 'NY', 'PAS', '9/1/2016', '21', 'SUBN', 'GMC', '21-No Parking (street clean)']\n",
            "['8077581614', 'XAYF77', 'NJ', 'PAS', '2/27/2017', '21', 'DELV', 'GMC', '21-No Parking (street clean)']\n",
            "['8536832563', '1441', 'WY', 'PAS', '6/6/2017', '21', '4DSD', 'HONDA', '21-No Parking (street clean)']\n",
            "['8292013593', '601473', 'NY', 'PAS', '11/9/2016', '21', '4DSD', 'HONDA', '21-No Parking (street clean)']\n",
            "['8327066730', '38BR360', 'AL', 'PAS', '2/23/2017', '21', '2DSD', 'HONDA', '21-No Parking (street clean)']\n",
            "['8432517677', '71WC47', 'MA', 'PAS', '11/14/2016', '21', 'SUBN', 'HONDA', '21-No Parking (street clean)']\n",
            "['8511906897', 'CVG8394', 'NY', 'PAS', '3/21/2017', '21', 'SUBN', 'HONDA', '21-No Parking (street clean)']\n",
            "['8523487694', 'D03SU', 'FL', 'PAS', '6/12/2017', '21', 'SUBN', 'HONDA', '21-No Parking (street clean)']\n",
            "['7803577878', 'DRU6182', 'NY', 'PAS', '7/19/2016', '21', 'SUBN', 'HONDA', '21-No Parking (street clean)']\n",
            "['8551867635', 'EJY9809', 'NY', 'PAS', '6/15/2017', '21', 'SUBN', 'HONDA', '21-No Parking (street clean)']\n",
            "['8177030073', 'FPN6798', 'NY', 'PAS', '7/22/2016', '21', 'SUBN', 'HONDA', '21-No Parking (street clean)']\n",
            "['7522710777', 'FTJ4934', 'NY', 'PAS', '8/2/2016', '21', '4DSD', 'HONDA', '21-No Parking (street clean)']\n",
            "['1415914771', 'FWY7687', 'NY', 'PAS', '11/5/2016', '21', 'SUBN', 'HONDA', '']\n",
            "['8511777581', 'GBP8071', 'NY', 'PAS', '6/23/2017', '21', '4DSD', 'HONDA', '21-No Parking (street clean)']\n",
            "['8507224441', 'GHR1050', 'NY', 'PAS', '6/12/2017', '21', 'SUBN', 'HONDA', '21-No Parking (street clean)']\n",
            "['1418138575', 'GML6346', 'NY', 'PAS', '12/19/2016', '21', 'SDN', 'HONDA', '']\n",
            "['8494361650', 'GPR1060', 'NY', 'PAS', '1/19/2017', '21', '4DSD', 'HONDA', '21-No Parking (street clean)']\n",
            "['8532805115', 'GRH7130', 'NY', 'PAS', '3/30/2017', '21', 'SUBN', 'HONDA', '21-No Parking (street clean)']\n",
            "['1420074817', 'GYX5626', 'NY', 'PAS', '3/23/2017', '21', 'SUBN', 'HONDA', '']\n",
            "['8081038309', 'HGU5174', 'NY', 'PAS', '7/13/2016', '21', '4DSD', 'HONDA', '21-No Parking (street clean)']\n",
            "['8539658732', 'HLY9761', 'NY', 'PAS', '4/20/2017', '21', 'SUBN', 'HONDA', '21-No Parking (street clean)']\n",
            "['8254043190', 'HMF6591', 'NY', 'PAS', '12/14/2016', '21', '4DSD', 'HONDA', '21-No Parking (street clean)']\n",
            "['1415902598', 'HPP349', 'DE', 'PAS', '10/8/2016', '21', 'SDN', 'HONDA', '']\n",
            "['8035447610', 'JRV7796', 'PA', 'PAS', '8/25/2016', '21', '4DSD', 'HONDA', '21-No Parking (street clean)']\n",
            "['1416152180', 'KGM0645', 'PA', 'PAS', '11/3/2016', '21', '', 'HONDA', '']\n",
            "['8270065079', 'L727629', 'NJ', 'PAS', '8/31/2016', '21', 'SUBN', 'HONDA', '21-No Parking (street clean)']\n",
            "['1412424525', 'T6835420', 'NY', 'OMT', '7/27/2016', '21', 'SDN', 'HONDA', '']\n",
            "['8054568940', 'C52DUH', 'NJ', 'PAS', '11/14/2016', '21', '4DSD', 'HYUND', '21-No Parking (street clean)']\n",
            "['7381087881', 'ETP1967', 'NY', 'PAS', '8/4/2016', '21', '4DSD', 'HYUND', '21-No Parking (street clean)']\n",
            "['7813942917', 'GZD3951', 'NY', 'PAS', '8/4/2016', '21', '4DSD', 'HYUND', '21-No Parking (street clean)']\n",
            "['8522906415', 'HME3832', 'NY', 'PAS', '3/21/2017', '21', '4DSD', 'HYUND', '21-No Parking (street clean)']\n",
            "['8303022775', 'AS972S', 'NJ', 'PAS', '7/19/2016', '21', 'DELV', 'INTER', '21-No Parking (street clean)']\n",
            "['8556262995', 'HPL5772', 'NY', 'PAS', '6/12/2017', '21', '4DSD', 'JAGUA', '21-No Parking (street clean)']\n",
            "['8533998533', 'GXR4859', 'NY', 'PAS', '6/12/2017', '21', 'SUBN', 'JEEP', '21-No Parking (street clean)']\n",
            "['7807869367', 'HEE4014', 'NY', 'PAS', '11/22/2016', '21', 'SUBN', 'JEEP', '21-No Parking (street clean)']\n",
            "['8170554482', 'GKB1444', 'NY', 'PAS', '8/31/2016', '21', 'SUBN', 'LEXUS', '21-No Parking (street clean)']\n",
            "['8475485066', 'GYR5020', 'NY', 'PAS', '3/23/2017', '21', 'SUBN', 'LEXUS', '21-No Parking (street clean)']\n",
            "['1415885734', 'GNN27768', 'NY', 'PAS', '9/30/2016', '21', 'SUBN', 'LINCO', '']\n",
            "['8271048004', 'PDB2482', 'NC', 'PAS', '8/30/2016', '21', 'SUBN', 'LINCO', '21-No Parking (street clean)']\n",
            "['8487768659', 'T639150C', 'NY', 'OMT', '2/3/2017', '21', 'SUBN', 'LINCO', '21-No Parking (street clean)']\n",
            "['8196531606', '735ZVY', 'CT', 'PAS', '10/11/2016', '21', '4DSD', 'MAZDA', '21-No Parking (street clean)']\n",
            "['8556351920', 'FCN6061', 'NY', 'PAS', '4/28/2017', '21', 'SUBN', 'MAZDA', '21-No Parking (street clean)']\n",
            "['8563702300', 'GUY5928', 'NY', 'PAS', '5/18/2017', '21', '4DSD', 'MAZDA', '21-No Parking (street clean)']\n",
            "['8475466254', 'HWN1816', 'TX', 'PAS', '12/27/2016', '21', '4DSD', 'MAZDA', '21-No Parking (street clean)']\n",
            "['8349510500', '84302T', 'VA', 'PAS', '7/8/2016', '21', 'SUBN', 'ME/BE', '21-No Parking (street clean)']\n",
            "['8327051209', 'ATE9889', 'NY', 'PAS', '12/20/2016', '21', '4DSD', 'ME/BE', '21-No Parking (street clean)']\n",
            "['7803990927', 'HCN1049', 'NY', 'PAS', '3/28/2017', '21', 'SUBN', 'ME/BE', '21-No Parking (street clean)']\n",
            "['8514726985', 'HKB2413', 'NY', 'PAS', '5/22/2017', '21', '4DSD', 'ME/BE', '21-No Parking (street clean)']\n",
            "['8360507120', 'OL4468J', 'NJ', 'PAS', '7/26/2016', '21', '4DSD', 'ME/BE', '21-No Parking (street clean)']\n",
            "['1419707358', 'V97GVE', 'NJ', 'PAS', '2/18/2017', '21', 'SUBN', 'ME/BE', '']\n",
            "['8557255329', 'HFE4369', 'NY', 'PAS', '5/11/2017', '21', 'SUBN', 'MERCU', '21-No Parking (street clean)']\n",
            "['8512671312', '8892CZ', 'CT', 'CMB', '6/6/2017', '21', 'SUBN', 'NISSA', '21-No Parking (street clean)']\n",
            "['7081940572', 'ATS3775', 'NY', 'PAS', '1/4/2017', '21', '4DSD', 'NISSA', '21-No Parking (street clean)']\n",
            "['8472183579', 'BNZF31', 'FL', 'PAS', '12/3/2016', '21', '4DSD', 'NISSA', '21-No Parking (street clean)']\n",
            "['8190539723', 'DKT8358', 'NY', 'PAS', '9/8/2016', '21', '2DSD', 'NISSA', '21-No Parking (street clean)']\n",
            "['1416492320', 'FGR5997', 'NY', 'PAS', '9/30/2016', '21', 'SDN', 'NISSA', '']\n",
            "['8549705664', 'FYW4686', 'NY', 'PAS', '6/3/2017', '21', '4DSD', 'NISSA', '21-No Parking (street clean)']\n",
            "['1420512468', 'GJH8815', 'NY', 'PAS', '4/8/2017', '21', 'SUBN', 'NISSA', '']\n",
            "['8551204051', 'GNN9248', 'NY', 'PAS', '5/4/2017', '21', 'SUBN', 'NISSA', '21-No Parking (street clean)']\n",
            "['8344027755', 'GUP8589', 'NY', 'PAS', '12/7/2016', '21', 'SUBN', 'NISSA', '21-No Parking (street clean)']\n",
            "['8539277086', 'GVH4035', 'PA', 'PAS', '5/26/2017', '21', '4DSD', 'NISSA', '21-No Parking (street clean)']\n",
            "['1417861800', 'GYM6658', 'NY', 'PAS', '3/7/2017', '21', 'SDN', 'NISSA', '']\n",
            "['7081508339', 'HCF7990', 'NY', 'PAS', '1/30/2017', '21', 'SUBN', 'NISSA', '21-No Parking (street clean)']\n",
            "['8533396259', 'HCL5539', 'NY', 'PAS', '5/26/2017', '21', 'SUBN', 'NISSA', '21-No Parking (street clean)']\n",
            "['8552758799', 'HDB8092', 'NY', 'PAS', '5/18/2017', '21', 'SUBN', 'NISSA', '21-No Parking (street clean)']\n",
            "['8172060956', 'HJY5787', 'NY', 'PAS', '3/24/2017', '21', 'SUBN', 'NISSA', '21-No Parking (street clean)']\n",
            "['8534828313', 'HSC8642', 'NY', 'PAS', '6/16/2017', '21', '4DSD', 'NISSA', '21-No Parking (street clean)']\n",
            "['7803991737', 'FSJ1102', 'NY', 'PAS', '3/29/2017', '21', 'SUBN', 'PORSC', '21-No Parking (street clean)']\n",
            "['8532875324', 'HKM6966', 'NY', 'OMS', '6/13/2017', '21', '2DSD', 'SMART', '21-No Parking (street clean)']\n",
            "['7803916818', '2405692', 'PA', 'PAS', '9/30/2016', '21', 'SUBN', 'SUBAR', '21-No Parking (street clean)']\n",
            "['8534565030', 'EEH3996', 'NY', 'PAS', '6/22/2017', '21', 'SUBN', 'SUBAR', '21-No Parking (street clean)']\n",
            "['8345516518', 'EUX8678', 'NY', 'PAS', '9/27/2016', '21', '4DSD', 'SUBAR', '21-No Parking (street clean)']\n",
            "['8198510771', 'FWP9546', 'NY', 'PAS', '8/30/2016', '21', 'SUBN', 'SUBAR', '21-No Parking (street clean)']\n",
            "['8561603562', 'GUM5490', 'NY', 'PAS', '6/8/2017', '21', 'SUBN', 'SUBAR', '21-No Parking (street clean)']\n",
            "['8260034475', 'HNR3840', 'NY', '999', '1/23/2017', '21', '4DSD', 'SUBAR', '21-No Parking (street clean)']\n",
            "['8489005175', '450SEY', 'CT', 'PAS', '12/29/2016', '21', 'SUBN', 'TOYOT', '21-No Parking (street clean)']\n",
            "['8327056311', '809RGE', 'FL', 'PAS', '1/11/2017', '21', 'SUBN', 'TOYOT', '21-No Parking (street clean)']\n",
            "['8035390004', '853NG3', 'MA', 'PAS', '9/29/2016', '21', '4DSD', 'TOYOT', '21-No Parking (street clean)']\n",
            "['8473630373', '923156N', 'NJ', 'PAS', '3/21/2017', '21', 'SUBN', 'TOYOT', '21-No Parking (street clean)']\n",
            "['7431960360', 'ECL2156', 'NY', 'PAS', '7/19/2016', '21', 'SUBN', 'TOYOT', '21-No Parking (street clean)']\n",
            "['1411163175', 'EFY2042', 'NY', 'PAS', '7/14/2016', '21', 'SUBN', 'TOYOT', '']\n",
            "['8293532713', 'EGE9369', 'NY', 'PAS', '7/29/2016', '21', 'SUBN', 'TOYOT', '21-No Parking (street clean)']\n",
            "['8554703479', 'EPD3783', 'NY', 'PAS', '5/4/2017', '21', '4DSD', 'TOYOT', '21-No Parking (street clean)']\n",
            "['8444566147', 'FJB1476', 'NY', 'PAS', '2/22/2017', '21', '4DSD', 'TOYOT', '21-No Parking (street clean)']\n",
            "['1412635536', 'GLS6347', 'NY', 'PAS', '12/12/2016', '21', 'SUBN', 'TOYOT', '']\n",
            "['8526761936', 'GMZ4346', 'NY', 'PAS', '5/2/2017', '21', 'SUBN', 'TOYOT', '21-No Parking (street clean)']\n",
            "['7061109026', 'GWE6421', 'NY', 'PAS', '11/4/2016', '21', 'SUBN', 'TOYOT', '21-No Parking (street clean)']\n",
            "['1416140300', 'GYJ7561', 'NY', 'PAS', '11/2/2016', '21', 'SDN', 'TOYOT', '']\n",
            "['8470029381', 'HAL3075', 'NY', 'PAS', '2/17/2017', '21', '2DSD', 'TOYOT', '21-No Parking (street clean)']\n",
            "['8554053527', 'HBX2262', 'NY', 'PAS', '5/5/2017', '21', '4DSD', 'TOYOT', '21-No Parking (street clean)']\n",
            "['8213559599', 'HDF4570', 'NY', 'PAS', '12/19/2016', '21', 'SUBN', 'TOYOT', '21-No Parking (street clean)']\n",
            "['8151563965', 'HFD4826', 'NY', 'PAS', '9/9/2016', '21', '4DSD', 'TOYOT', '21-No Parking (street clean)']\n",
            "['8127027108', 'HFE5815', 'NY', 'PAS', '7/11/2016', '21', '4DSD', 'TOYOT', '21-No Parking (street clean)']\n",
            "['8491309627', 'HFF9841', 'NY', 'PAS', '3/2/2017', '21', '4DSD', 'TOYOT', '21-No Parking (street clean)']\n",
            "['8533111010', 'HGL1239', 'NY', 'PAS', '4/20/2017', '21', 'PICK', 'TOYOT', '21-No Parking (street clean)']\n",
            "['7047095822', 'HLD7424', 'NY', 'PAS', '4/7/2017', '21', '4DSD', 'TOYOT', '21-No Parking (street clean)']\n",
            "['8554957313', 'HRH9120', 'NY', 'PAS', '5/22/2017', '21', '4DSD', 'TOYOT', '21-No Parking (street clean)']\n",
            "['8268595711', 'T426737C', 'NY', 'OMT', '8/18/2016', '21', '4DSD', 'TOYOT', '21-No Parking (street clean)']\n",
            "['8375011915', 'T631317C', 'NY', 'OMT', '9/26/2016', '21', 'SUBN', 'TOYOT', '21-No Parking (street clean)']\n",
            "['8475107199', 'T665101C', 'NY', 'OMT', '1/25/2017', '21', '4DSD', 'TOYOT', '21-No Parking (street clean)']\n",
            "['8532821650', 'T696481C', 'NY', 'OMT', '6/20/2017', '21', '4DSD', 'TOYOT', '21-No Parking (street clean)']\n",
            "['1399238401', 'WLDB0SS', 'GA', 'PAS', '12/30/2016', '21', 'P-U', 'TOYOT', '']\n",
            "['8538515603', '731762B', 'TX', 'PAS', '5/15/2017', '21', '4DSD', 'VOLKS', '21-No Parking (street clean)']\n",
            "['8513583789', 'FLJ3099', 'NY', 'PAS', '6/22/2017', '21', '2DSD', 'VOLKS', '21-No Parking (street clean)']\n",
            "['8273071844', 'GFM6245', 'NY', 'PAS', '10/20/2016', '21', '4DSD', 'VOLKS', '21-No Parking (street clean)']\n",
            "['8532602563', 'CVU3012', 'NY', 'PAS', '3/23/2017', '21', '4DSD', 'VOLVO', '21-No Parking (street clean)']\n",
            "['8478353227', '34SW77', 'NY', 'MOT', '12/2/2016', '21', 'MCY', 'YAMAH', '21-No Parking (street clean)']\n",
            "['1418425369', 'JYW5248', 'PA', 'PAS', '3/21/2017', '21', 'SDN', '', '']\n",
            "['8361518277', 'HCX7823', 'NY', 'PAS', '10/12/2016', '23', '4DSD', 'HYUND', '23-No Parking (taxi stand)']\n",
            "['8154034347', 'CTX3627', 'NY', 'PAS', '9/6/2016', '24', 'SUBN', 'AUDI', '24-No Parking (exc auth veh)']\n",
            "['7764794314', 'HFP4684', 'NY', 'PAS', '8/5/2016', '24', '4DSD', 'AUDI', '24-No Parking (exc auth veh)']\n",
            "['8544611310', 'GTC4836', 'NY', 'PAS', '6/7/2017', '24', 'SUBN', 'CADIL', '24-No Parking (exc auth veh)']\n",
            "['8566704320', 'L62FLC', 'NJ', 'PAS', '5/17/2017', '24', 'SUBN', 'CHEVR', '24-No Parking (exc auth veh)']\n",
            "['8536961156', 'X92FSM', 'NJ', 'PAS', '3/28/2017', '24', 'SUBN', 'HYUND', '24-No Parking (exc auth veh)']\n",
            "['1408122029', 'DSN6323', 'NY', 'PAS', '7/4/2016', '24', 'SUBN', 'JEEP', '']\n",
            "['8266568753', 'F12GRE', 'NJ', 'PAS', '11/11/2016', '24', 'SUBN', 'JEEP', '24-No Parking (exc auth veh)']\n",
            "['8446524806', 'GYG8911', 'NY', 'PAS', '12/18/2016', '24', 'SUBN', 'JEEP', '24-No Parking (exc auth veh)']\n",
            "['8316519355', 'HDJ7785', 'PA', 'PAS', '7/14/2016', '24', '2DSD', 'NISSA', '24-No Parking (exc auth veh)']\n",
            "['8533035640', 'T687600C', 'NY', 'OMT', '5/31/2017', '24', '4DSD', 'NISSA', '24-No Parking (exc auth veh)']\n",
            "['8526732663', 'ASV2478', 'NY', 'PAS', '6/22/2017', '24', '4DSD', 'TOYOT', '24-No Parking (exc auth veh)']\n",
            "['1410027223', 'ENS9253', 'NY', 'PAS', '10/31/2016', '24', 'SDN', 'VOLKS', '']\n",
            "['8479824712', '58910MG', 'NY', 'COM', '4/21/2017', '26', 'DELV', 'ISUZU', '26-No Stnd (for-hire veh only)']\n",
            "['1416527722', 'AHG9422', 'NY', 'PAS', '1/5/2017', '27', 'SUBN', 'TOYOT', '']\n",
            "['8512270482', 'Y26CRJ', 'NJ', 'PAS', '6/3/2017', '31', 'SUBN', 'BSA', '31-No Stand (Com. Mtr. Zone)']\n",
            "['8498706890', 'THANEDAR', 'NY', 'OMT', '3/22/2017', '31', 'SUBN', 'CADIL', '31-No Stand (Com. Mtr. Zone)']\n",
            "['8328546632', 'HHP7446', 'NY', 'PAS', '12/2/2016', '31', '2DSD', 'CHEVR', '31-No Stand (Com. Mtr. Zone)']\n",
            "['8496254203', 'GMW3411', 'NY', 'PAS', '5/26/2017', '31', 'PICK', 'DODGE', '31-No Stand (Com. Mtr. Zone)']\n",
            "['8552002887', 'GTP5204', 'NY', 'PAS', '4/24/2017', '31', 'PICK', 'DODGE', '31-No Stand (Com. Mtr. Zone)']\n",
            "['8480300255', 'GHG9797', 'NY', 'PAS', '11/18/2016', '31', '4DSD', 'HYUND', '31-No Stand (Com. Mtr. Zone)']\n",
            "['8442517080', 'KCD4692', 'PA', 'PAS', '10/6/2016', '31', '4DSD', 'INFIN', '31-No Stand (Com. Mtr. Zone)']\n",
            "['8482450256', 'GGN8817', 'NY', 'PAS', '11/18/2016', '31', '4DSD', 'LEXUS', '31-No Stand (Com. Mtr. Zone)']\n",
            "['8480624486', '987536N', 'NJ', 'PAS', '6/19/2017', '31', 'SUBN', 'ME/BE', '31-No Stand (Com. Mtr. Zone)']\n",
            "['7059132030', 'HLC5085', 'NY', 'PAS', '2/6/2017', '31', '4DSD', 'NISSA', '31-No Stand (Com. Mtr. Zone)']\n",
            "['8482371824', 'Z317820', 'IL', 'PAS', '4/14/2017', '31', 'SUBN', 'NISSA', '31-No Stand (Com. Mtr. Zone)']\n",
            "['8477906040', 'DUMBO', 'NY', 'SRF', '3/8/2017', '31', 'SUBN', 'ROVER', '31-No Stand (Com. Mtr. Zone)']\n",
            "['8431004010', 'GRZ1934', 'NY', 'PAS', '7/27/2016', '31', 'SUBN', 'VOLVO', '31-No Stand (Com. Mtr. Zone)']\n",
            "['8480331896', '42648MG', 'NY', 'COM', '5/23/2017', '35', 'VAN', 'NS/OT', '35-Selling/Offer Merchandise']\n",
            "['4631704810', 'HCR7297', 'NY', 'PAS', '3/15/2017', '36', '4DSD', 'AUDI', 'PHTO SCHOOL ZN SPEED VIOLATION']\n",
            "['4629001955', '268DDD', 'NY', 'SPO', '12/23/2016', '36', 'CONV', 'BMW', 'PHTO SCHOOL ZN SPEED VIOLATION']\n",
            "['4628525523', '326SF9', 'MA', 'PAS', '12/21/2016', '36', 'UT', 'BMW', 'PHTO SCHOOL ZN SPEED VIOLATION']\n",
            "['4634734539', '692RNK', 'FL', 'PAS', '6/5/2017', '36', 'UT', 'BMW', 'PHTO SCHOOL ZN SPEED VIOLATION']\n",
            "['4631147647', 'DRX5800', 'NY', 'PAS', '3/1/2017', '36', 'SUBN', 'BMW', 'PHTO SCHOOL ZN SPEED VIOLATION']\n",
            "['4625481946', 'GKW8725', 'NY', 'PAS', '10/20/2016', '36', '4DSD', 'BMW', 'PHTO SCHOOL ZN SPEED VIOLATION']\n",
            "['4629806404', 'GSY2361', 'NY', 'PAS', '1/23/2017', '36', '4DSD', 'BMW', 'PHTO SCHOOL ZN SPEED VIOLATION']\n",
            "['4627790053', 'HDW5569', 'NY', 'PAS', '12/6/2016', '36', 'SUBN', 'BMW', 'PHTO SCHOOL ZN SPEED VIOLATION']\n",
            "['4627653700', 'HEG7444', 'NY', 'PAS', '12/1/2016', '36', '4DSD', 'BMW', 'PHTO SCHOOL ZN SPEED VIOLATION']\n",
            "['4630524241', 'HJBP29', 'FL', 'PAS', '2/3/2017', '36', '4D', 'BMW', 'PHTO SCHOOL ZN SPEED VIOLATION']\n",
            "['4630856500', 'KBN2190', 'PA', 'PAS', '2/15/2017', '36', 'SDN', 'BMW', 'PHTO SCHOOL ZN SPEED VIOLATION']\n",
            "['4630528027', 'A19DVD', 'NJ', 'PAS', '2/3/2017', '36', '4 DR', 'BUICK', 'PHTO SCHOOL ZN SPEED VIOLATION']\n",
            "['4627862647', 'DGJ9751', 'NY', 'PAS', '12/9/2016', '36', '4DSD', 'CADIL', 'PHTO SCHOOL ZN SPEED VIOLATION']\n",
            "['4633961743', '13237JW', 'NY', 'COM', '5/16/2017', '36', 'VAN', 'CHEVR', 'PHTO SCHOOL ZN SPEED VIOLATION']\n",
            "['4626993928', '13251TW', 'NY', 'TOW', '11/17/2016', '36', 'PICK', 'CHEVR', 'PHTO SCHOOL ZN SPEED VIOLATION']\n",
            "['4631696527', 'EVN1748', 'NY', 'PAS', '3/13/2017', '36', 'SUBN', 'CHEVR', 'PHTO SCHOOL ZN SPEED VIOLATION']\n",
            "['4624293630', 'FZH6298', 'NY', 'PAS', '9/28/2016', '36', 'SUBN', 'CHEVR', 'PHTO SCHOOL ZN SPEED VIOLATION']\n",
            "['4624017663', 'GFM1718', 'NY', 'PAS', '9/26/2016', '36', 'SUBN', 'CHEVR', 'PHTO SCHOOL ZN SPEED VIOLATION']\n",
            "['4622257713', 'GUG8491', 'NY', 'PAS', '7/14/2016', '36', 'SUBN', 'CHEVR', 'PHTO SCHOOL ZN SPEED VIOLATION']\n",
            "['4623548065', 'GWE6116', 'NY', 'PAS', '9/19/2016', '36', 'SUBN', 'CHEVR', 'PHTO SCHOOL ZN SPEED VIOLATION']\n",
            "['4635118952', 'HAR2738', 'NY', 'PAS', '6/15/2017', '36', 'SUBN', 'CHEVR', 'PHTO SCHOOL ZN SPEED VIOLATION']\n",
            "['4627826096', 'HFF4505', 'NY', 'PAS', '12/5/2016', '36', 'SUBN', 'CHEVR', 'PHTO SCHOOL ZN SPEED VIOLATION']\n",
            "['4632259779', 'HKW1987', 'NY', 'PAS', '3/29/2017', '36', '4DSD', 'CHEVR', 'PHTO SCHOOL ZN SPEED VIOLATION']\n",
            "['4632633800', 'HPJ4663', 'NY', 'PAS', '4/7/2017', '36', '4DSD', 'CHEVR', 'PHTO SCHOOL ZN SPEED VIOLATION']\n",
            "['4623011161', 'KBY7419', 'PA', 'PAS', '9/8/2016', '36', 'SW', 'CHEVR', 'PHTO SCHOOL ZN SPEED VIOLATION']\n",
            "['4624905880', 'FAM2543', 'NY', 'PAS', '10/11/2016', '36', '4DSD', 'CHRYS', 'PHTO SCHOOL ZN SPEED VIOLATION']\n",
            "['4629224075', '28874LV', 'NY', 'OML', '1/6/2017', '36', 'SUBN', 'DODGE', 'PHTO SCHOOL ZN SPEED VIOLATION']\n",
            "['4630489587', 'A58ETJ', 'NJ', 'PAS', '2/2/2017', '36', 'WAGO', 'DODGE', 'PHTO SCHOOL ZN SPEED VIOLATION']\n",
            "['4633374618', 'GSS9862', 'NY', 'PAS', '5/3/2017', '36', 'SUBN', 'DODGE', 'PHTO SCHOOL ZN SPEED VIOLATION']\n",
            "['4627113330', 'HCA5464', 'NY', 'OMS', '11/21/2016', '36', 'SUBN', 'DODGE', 'PHTO SCHOOL ZN SPEED VIOLATION']\n",
            "['4634831272', 'HFM4841', 'NY', 'PAS', '6/7/2017', '36', 'SUBN', 'DODGE', 'PHTO SCHOOL ZN SPEED VIOLATION']\n",
            "['4628721567', 'HJH4995', 'NY', 'PAS', '12/22/2016', '36', 'SUBN', 'DODGE', 'PHTO SCHOOL ZN SPEED VIOLATION']\n",
            "['4625958660', 'R16GNM', 'NJ', 'PAS', '10/27/2016', '36', 'WAGO', 'DODGE', 'PHTO SCHOOL ZN SPEED VIOLATION']\n",
            "['4625752279', '55801JJ', 'NY', 'COM', '10/25/2016', '36', 'VAN', 'FORD', 'PHTO SCHOOL ZN SPEED VIOLATION']\n",
            "['4628610046', '59654MG', 'NY', 'COM', '12/21/2016', '36', 'VAN', 'FORD', 'PHTO SCHOOL ZN SPEED VIOLATION']\n",
            "['4634723785', '68667MH', 'NY', 'COM', '6/5/2017', '36', 'VAN', 'FORD', 'PHTO SCHOOL ZN SPEED VIOLATION']\n",
            "['4628303630', 'BHV3783', 'NY', 'PAS', '12/12/2016', '36', 'SUBN', 'FORD', 'PHTO SCHOOL ZN SPEED VIOLATION']\n",
            "['4625462150', 'GPV4492', 'NY', 'PAS', '10/19/2016', '36', 'SUBN', 'FORD', 'PHTO SCHOOL ZN SPEED VIOLATION']\n",
            "['4630933890', 'HFA3346', 'NY', 'PAS', '2/17/2017', '36', 'SUBN', 'FORD', 'PHTO SCHOOL ZN SPEED VIOLATION']\n",
            "['4633425286', 'HNF4110', 'NY', 'PAS', '5/1/2017', '36', 'SUBN', 'FORD', 'PHTO SCHOOL ZN SPEED VIOLATION']\n",
            "['4634067419', 'HPU4930', 'NY', 'PAS', '5/18/2017', '36', 'SUBN', 'FORD', 'PHTO SCHOOL ZN SPEED VIOLATION']\n",
            "['4625926610', 'N102911C', 'NY', 'OMT', '10/27/2016', '36', 'VAN', 'FORD', 'PHTO SCHOOL ZN SPEED VIOLATION']\n",
            "['4623721759', 'N203606C', 'NY', 'OMT', '9/20/2016', '36', 'SUBN', 'FORD', 'PHTO SCHOOL ZN SPEED VIOLATION']\n",
            "['4624353316', 'XW317E', 'NJ', 'PAS', '9/28/2016', '36', 'VAN', 'FORD', 'PHTO SCHOOL ZN SPEED VIOLATION']\n",
            "['4622234488', 'XX120W', 'NJ', 'PAS', '7/13/2016', '36', 'VAN', 'FORD', 'PHTO SCHOOL ZN SPEED VIOLATION']\n",
            "['4634616695', 'ZGG2970', 'PA', 'PAS', '5/31/2017', '36', 'TK', 'FORD', 'PHTO SCHOOL ZN SPEED VIOLATION']\n",
            "['4624649230', '44214ME', 'NY', 'COM', '10/6/2016', '36', 'VAN', 'GMC', 'PHTO SCHOOL ZN SPEED VIOLATION']\n",
            "['4627864050', 'AVW6443', 'NY', 'PAS', '12/9/2016', '36', 'PICK', 'GMC', 'PHTO SCHOOL ZN SPEED VIOLATION']\n",
            "['4629510874', 'EEC9257', 'NY', 'PAS', '1/13/2017', '36', 'SUBN', 'GMC', 'PHTO SCHOOL ZN SPEED VIOLATION']\n",
            "['4626307681', 'HJG3097', 'NY', 'PAS', '11/2/2016', '36', 'SUBN', 'GMC', 'PHTO SCHOOL ZN SPEED VIOLATION']\n",
            "['4623393240', 'HJV1113', 'NY', 'PAS', '9/14/2016', '36', 'SUBN', 'GMC', 'PHTO SCHOOL ZN SPEED VIOLATION']\n",
            "['4633560232', 'B77FRW', 'NJ', 'PAS', '5/8/2017', '36', 'WAGO', 'HONDA', 'PHTO SCHOOL ZN SPEED VIOLATION']\n",
            "['4628277370', 'DJF3555', 'NY', 'PAS', '12/15/2016', '36', '4DSD', 'HONDA', 'PHTO SCHOOL ZN SPEED VIOLATION']\n",
            "['4630268431', 'DMM8334', 'NY', 'PAS', '2/2/2017', '36', '4DSD', 'HONDA', 'PHTO SCHOOL ZN SPEED VIOLATION']\n",
            "['4633215978', 'ESK4137', 'NY', 'PAS', '5/1/2017', '36', 'SUBN', 'HONDA', 'PHTO SCHOOL ZN SPEED VIOLATION']\n",
            "['4634195458', 'EUG5313', 'NY', 'PAS', '5/22/2017', '36', '4DSD', 'HONDA', 'PHTO SCHOOL ZN SPEED VIOLATION']\n",
            "['4632953775', 'EXM3315', 'NY', 'PAS', '4/25/2017', '36', '2DSD', 'HONDA', 'PHTO SCHOOL ZN SPEED VIOLATION']\n",
            "['4632297847', 'FEJ4610', 'NY', 'PAS', '3/30/2017', '36', '4DSD', 'HONDA', 'PHTO SCHOOL ZN SPEED VIOLATION']\n",
            "['4623083550', 'FZM1848', 'NY', 'PAS', '9/8/2016', '36', '4DSD', 'HONDA', 'PHTO SCHOOL ZN SPEED VIOLATION']\n",
            "['4623433754', 'GKV9373', 'NY', 'PAS', '9/15/2016', '36', 'SUBN', 'HONDA', 'PHTO SCHOOL ZN SPEED VIOLATION']\n",
            "['4633489574', 'GMK6658', 'NY', 'PAS', '5/2/2017', '36', '4DSD', 'HONDA', 'PHTO SCHOOL ZN SPEED VIOLATION']\n",
            "['4634803677', 'GXV2822', 'NY', 'PAS', '6/6/2017', '36', '4DSD', 'HONDA', 'PHTO SCHOOL ZN SPEED VIOLATION']\n",
            "['4627198231', 'GYB8478', 'NY', 'PAS', '11/22/2016', '36', 'SUBN', 'HONDA', 'PHTO SCHOOL ZN SPEED VIOLATION']\n",
            "['4623708354', 'HCV4449', 'NY', 'PAS', '9/20/2016', '36', '4DSD', 'HONDA', 'PHTO SCHOOL ZN SPEED VIOLATION']\n",
            "['4625564463', 'HHC5309', 'NY', 'PAS', '10/21/2016', '36', '2DSD', 'HONDA', 'PHTO SCHOOL ZN SPEED VIOLATION']\n",
            "['4627490628', 'HHL8974', 'NY', 'PAS', '12/5/2016', '36', '4DSD', 'HONDA', 'PHTO SCHOOL ZN SPEED VIOLATION']\n",
            "['4634899851', 'HNB6369', 'NY', 'PAS', '6/9/2017', '36', '4DSD', 'HONDA', 'PHTO SCHOOL ZN SPEED VIOLATION']\n",
            "['4632049724', 'JPA2121', 'PA', 'PAS', '3/20/2017', '36', 'SW', 'HONDA', 'PHTO SCHOOL ZN SPEED VIOLATION']\n",
            "['4627882531', 'KBK7452', 'PA', 'PAS', '12/8/2016', '36', 'SDN', 'HONDA', 'PHTO SCHOOL ZN SPEED VIOLATION']\n",
            "['4626203024', 'LPV63K', 'NJ', 'PAS', '11/1/2016', '36', 'WAGO', 'HONDA', 'PHTO SCHOOL ZN SPEED VIOLATION']\n",
            "['4624272158', 'RXB49E', 'NJ', 'PAS', '9/28/2016', '36', 'WAGO', 'HONDA', 'PHTO SCHOOL ZN SPEED VIOLATION']\n",
            "['4628684108', 'W28HDS', 'NJ', 'PAS', '12/19/2016', '36', '4 DR', 'HONDA', 'PHTO SCHOOL ZN SPEED VIOLATION']\n",
            "['4632988108', 'Z89CYH', 'NJ', 'PAS', '4/26/2017', '36', 'WAGO', 'HONDA', 'PHTO SCHOOL ZN SPEED VIOLATION']\n",
            "['4629475643', '5XP943', 'NY', 'PAS', '1/13/2017', '36', '4DSD', 'HYUND', 'PHTO SCHOOL ZN SPEED VIOLATION']\n",
            "['4625674141', 'BGR3063', 'NY', 'PAS', '10/24/2016', '36', '4DSD', 'HYUND', 'PHTO SCHOOL ZN SPEED VIOLATION']\n",
            "['4623505170', 'DGM8721', 'NY', 'PAS', '9/16/2016', '36', 'SUBN', 'HYUND', 'PHTO SCHOOL ZN SPEED VIOLATION']\n",
            "['4631977218', 'GPH8659', 'NY', 'PAS', '3/21/2017', '36', '4DSD', 'HYUND', 'PHTO SCHOOL ZN SPEED VIOLATION']\n",
            "['4631594329', 'GPZ1922', 'NY', 'PAS', '3/13/2017', '36', 'SUBN', 'HYUND', 'PHTO SCHOOL ZN SPEED VIOLATION']\n",
            "['4624796032', 'HAP9881', 'NY', 'PAS', '10/7/2016', '36', 'SUBN', 'HYUND', 'PHTO SCHOOL ZN SPEED VIOLATION']\n",
            "['4632678715', 'T724474C', 'NY', 'OMT', '4/7/2017', '36', '4DSD', 'HYUND', 'PHTO SCHOOL ZN SPEED VIOLATION']\n",
            "['4630976050', 'VPX8534', 'VA', 'PAS', '2/17/2017', '36', 'SU', 'HYUND', 'PHTO SCHOOL ZN SPEED VIOLATION']\n",
            "['4626350057', 'GEN1029', 'NY', 'PAS', '11/3/2016', '36', 'SUBN', 'INFIN', 'PHTO SCHOOL ZN SPEED VIOLATION']\n",
            "['4623442081', 'GHL2282', 'NY', 'PAS', '9/15/2016', '36', '4DSD', 'INFIN', 'PHTO SCHOOL ZN SPEED VIOLATION']\n",
            "['4624241198', 'T686150C', 'NY', 'OMT', '9/28/2016', '36', 'SUBN', 'INFIN', 'PHTO SCHOOL ZN SPEED VIOLATION']\n",
            "['4622845040', '19603TT', 'NY', 'TOW', '8/10/2016', '36', 'TOW', 'INTER', 'PHTO SCHOOL ZN SPEED VIOLATION']\n",
            "['4630066822', 'FTV8624', 'NY', 'PAS', '1/24/2017', '36', '4DSD', 'JAGUA', 'PHTO SCHOOL ZN SPEED VIOLATION']\n",
            "['4628491689', '353XXL', 'FL', 'PAS', '12/20/2016', '36', 'UT', 'JEEP', 'PHTO SCHOOL ZN SPEED VIOLATION']\n",
            "['4627065334', 'DGN4487', 'NY', 'PAS', '11/18/2016', '36', 'SUBN', 'JEEP', 'PHTO SCHOOL ZN SPEED VIOLATION']\n",
            "['4626772705', 'HAM6678', 'NY', 'PAS', '11/14/2016', '36', '4DSD', 'KIA', 'PHTO SCHOOL ZN SPEED VIOLATION']\n",
            "['4626358743', 'GNN6005', 'NY', 'PAS', '11/3/2016', '36', '4DSD', 'LEXUS', 'PHTO SCHOOL ZN SPEED VIOLATION']\n",
            "['4622727298', 'GWF1975', 'NY', 'PAS', '8/4/2016', '36', '4DSD', 'LEXUS', 'PHTO SCHOOL ZN SPEED VIOLATION']\n",
            "['4622272659', 'HEA8485', 'NY', 'OMS', '7/14/2016', '36', '4DSD', 'LEXUS', 'PHTO SCHOOL ZN SPEED VIOLATION']\n",
            "['4631639052', 'HEK6758', 'NY', 'PAS', '3/9/2017', '36', 'SUBN', 'LEXUS', 'PHTO SCHOOL ZN SPEED VIOLATION']\n",
            "['4629635506', 'HHA6371', 'NY', 'PAS', '1/18/2017', '36', 'SUBN', 'LEXUS', 'PHTO SCHOOL ZN SPEED VIOLATION']\n",
            "['4633257055', 'HJN6853', 'NY', 'PAS', '5/2/2017', '36', 'SUBN', 'LEXUS', 'PHTO SCHOOL ZN SPEED VIOLATION']\n",
            "['4629197515', 'N78FLU', 'NJ', 'PAS', '1/9/2017', '36', 'WAGO', 'LEXUS', 'PHTO SCHOOL ZN SPEED VIOLATION']\n",
            "['4633226356', 'PTJ969', 'NY', 'PAS', '5/1/2017', '36', 'SUBN', 'LEXUS', 'PHTO SCHOOL ZN SPEED VIOLATION']\n",
            "['4626735174', 'HGR5863', 'NY', 'PAS', '11/14/2016', '36', '4DSD', 'LINCO', 'PHTO SCHOOL ZN SPEED VIOLATION']\n",
            "['4622247501', 'T635722C', 'NY', 'OMT', '7/13/2016', '36', '4DSD', 'LINCO', 'PHTO SCHOOL ZN SPEED VIOLATION']\n",
            "['4626383063', 'T701050C', 'NY', 'OMT', '11/4/2016', '36', '4DSD', 'LINCO', 'PHTO SCHOOL ZN SPEED VIOLATION']\n",
            "['4631263763', '92814', 'NY', 'MED', '3/3/2017', '36', '4DSD', 'ME/BE', 'PHTO SCHOOL ZN SPEED VIOLATION']\n",
            "['4626546109', '39999MB', 'NY', 'COM', '11/7/2016', '36', 'VAN', 'ME/BE', 'PHTO SCHOOL ZN SPEED VIOLATION']\n",
            "['4626838832', 'EVV1706', 'NY', 'PAS', '11/16/2016', '36', '2DSD', 'ME/BE', 'PHTO SCHOOL ZN SPEED VIOLATION']\n",
            "['4623995203', 'FHV5859', 'NY', 'PAS', '9/23/2016', '36', '4DSD', 'ME/BE', 'PHTO SCHOOL ZN SPEED VIOLATION']\n",
            "['4632906438', 'GTB2097', 'NY', 'PAS', '4/24/2017', '36', 'SUBN', 'ME/BE', 'PHTO SCHOOL ZN SPEED VIOLATION']\n",
            "['4633747381', 'HPA3069', 'NY', 'PAS', '5/12/2017', '36', '2DSD', 'MINI', 'PHTO SCHOOL ZN SPEED VIOLATION']\n",
            "['4628411931', 'GTJ9563', 'NY', 'PAS', '12/16/2016', '36', '4DSD', 'MITSU', 'PHTO SCHOOL ZN SPEED VIOLATION']\n",
            "['4622724601', 'EJG3090', 'NY', 'PAS', '8/4/2016', '36', '4DSD', 'NISSA', 'PHTO SCHOOL ZN SPEED VIOLATION']\n",
            "['4624182546', 'FHD2704', 'NY', 'PAS', '9/27/2016', '36', '4DSD', 'NISSA', 'PHTO SCHOOL ZN SPEED VIOLATION']\n",
            "['4630154796', 'FYB4398', 'NY', 'PAS', '1/31/2017', '36', 'SUBN', 'NISSA', 'PHTO SCHOOL ZN SPEED VIOLATION']\n",
            "['4633052056', 'GAU8752', 'NY', 'PAS', '4/27/2017', '36', 'SUBN', 'NISSA', 'PHTO SCHOOL ZN SPEED VIOLATION']\n",
            "['4625956213', 'GFM3693', 'NY', 'PAS', '10/27/2016', '36', '4DSD', 'NISSA', 'PHTO SCHOOL ZN SPEED VIOLATION']\n",
            "['4634991421', 'GMS3982', 'NY', 'PAS', '6/13/2017', '36', 'SUBN', 'NISSA', 'PHTO SCHOOL ZN SPEED VIOLATION']\n",
            "['4625626006', 'GTL5801', 'NY', 'PAS', '10/26/2016', '36', '4DSD', 'NISSA', 'PHTO SCHOOL ZN SPEED VIOLATION']\n",
            "['4624010073', 'GUU9995', 'NY', 'PAS', '9/23/2016', '36', 'SUBN', 'NISSA', 'PHTO SCHOOL ZN SPEED VIOLATION']\n",
            "['4630535779', 'HKM3744', 'NY', 'PAS', '2/3/2017', '36', '4DSD', 'NISSA', 'PHTO SCHOOL ZN SPEED VIOLATION']\n",
            "['4633458899', 'HMX9162', 'NY', 'PAS', '5/4/2017', '36', '4DSD', 'NISSA', 'PHTO SCHOOL ZN SPEED VIOLATION']\n",
            "['4633736383', 'GHF2057', 'NY', 'PAS', '5/5/2017', '36', '2DSD', 'SMART', 'PHTO SCHOOL ZN SPEED VIOLATION']\n",
            "['4628471230', 'GYW6429', 'NY', 'PAS', '12/19/2016', '36', 'SUBN', 'SUBAR', 'PHTO SCHOOL ZN SPEED VIOLATION']\n",
            "['4632483060', 'HFS9255', 'NY', 'PAS', '4/4/2017', '36', 'SUBN', 'SUBAR', 'PHTO SCHOOL ZN SPEED VIOLATION']\n",
            "['4629933499', 'UNZ802', 'NY', 'PAS', '1/25/2017', '36', 'SUBN', 'SUBAR', 'PHTO SCHOOL ZN SPEED VIOLATION']\n",
            "['4631525290', '9F69B', 'NY', 'OMT', '3/3/2017', '36', 'TAXI', 'TOYOT', 'PHTO SCHOOL ZN SPEED VIOLATION']\n",
            "['4627196258', 'BKE8325', 'NY', 'PAS', '11/22/2016', '36', 'SUBN', 'TOYOT', 'PHTO SCHOOL ZN SPEED VIOLATION']\n",
            "['4628712840', 'CBE9063', 'NY', 'PAS', '12/22/2016', '36', '4DSD', 'TOYOT', 'PHTO SCHOOL ZN SPEED VIOLATION']\n",
            "['4626437205', 'EBW9207', 'NY', 'PAS', '11/4/2016', '36', '4DSD', 'TOYOT', 'PHTO SCHOOL ZN SPEED VIOLATION']\n",
            "['4625979705', 'EEM6114', 'NY', 'PAS', '10/28/2016', '36', 'SUBN', 'TOYOT', 'PHTO SCHOOL ZN SPEED VIOLATION']\n",
            "['4628920278', 'FXX8143', 'NY', 'PAS', '1/3/2017', '36', '4DSD', 'TOYOT', 'PHTO SCHOOL ZN SPEED VIOLATION']\n",
            "['4635192880', 'GGB4757', 'NY', 'PAS', '6/16/2017', '36', '4DSD', 'TOYOT', 'PHTO SCHOOL ZN SPEED VIOLATION']\n",
            "['4632534833', 'GVC1192', 'NY', 'PAS', '4/4/2017', '36', 'SUBN', 'TOYOT', 'PHTO SCHOOL ZN SPEED VIOLATION']\n",
            "['4625003180', 'HFH3628', 'NY', 'PAS', '10/13/2016', '36', '4DSD', 'TOYOT', 'PHTO SCHOOL ZN SPEED VIOLATION']\n",
            "['4630601934', 'HHU7705', 'NY', 'PAS', '2/6/2017', '36', 'SUBN', 'TOYOT', 'PHTO SCHOOL ZN SPEED VIOLATION']\n",
            "['4627237492', 'T435176C', 'NY', 'OMT', '11/22/2016', '36', '4DSD', 'TOYOT', 'PHTO SCHOOL ZN SPEED VIOLATION']\n",
            "['4629207612', 'T663277C', 'NY', 'OMT', '1/5/2017', '36', '4DSD', 'TOYOT', 'PHTO SCHOOL ZN SPEED VIOLATION']\n",
            "['4634957711', 'T692003C', 'NY', 'OMT', '6/7/2017', '36', 'SUBN', 'TOYOT', 'PHTO SCHOOL ZN SPEED VIOLATION']\n",
            "['4623615984', 'T692737C', 'NY', 'OMT', '9/19/2016', '36', '4DSD', 'TOYOT', 'PHTO SCHOOL ZN SPEED VIOLATION']\n",
            "['4624196740', 'W688AV', 'NY', 'PAS', '9/26/2016', '36', 'SUBN', 'TOYOT', 'PHTO SCHOOL ZN SPEED VIOLATION']\n",
            "['4633446757', 'FXB2287', 'NY', 'PAS', '5/4/2017', '36', '4DSD', 'VOLKS', 'PHTO SCHOOL ZN SPEED VIOLATION']\n",
            "['4623672323', 'HCS2424', 'NY', 'PAS', '9/20/2016', '36', 'SUBN', 'VOLKS', 'PHTO SCHOOL ZN SPEED VIOLATION']\n",
            "['4626992584', 'GKW7146', 'NY', 'PAS', '11/17/2016', '36', 'SUBN', 'VOLVO', 'PHTO SCHOOL ZN SPEED VIOLATION']\n",
            "['4630990185', 'NYRR', 'NY', 'RGL', '2/17/2017', '36', '4DSD', 'VOLVO', 'PHTO SCHOOL ZN SPEED VIOLATION']\n",
            "['8457515251', 'HAK5607', 'NY', 'PAS', '1/13/2017', '37', 'SUBN', 'AUDI', '37-Expired Muni Meter']\n",
            "['8306031910', 'GBD7091', 'NY', 'PAS', '12/7/2016', '37', 'SUBN', 'BMW', '37-Expired Muni Meter']\n",
            "['8457507084', 'GXL3727', 'NY', 'PAS', '11/16/2016', '37', '4DSD', 'BMW', '37-Expired Muni Meter']\n",
            "['8505255379', 'M70HGT', 'NJ', 'PAS', '1/27/2017', '37', '4DSD', 'BMW', '37-Expired Muni Meter']\n",
            "['7128799357', 'ZPBEAR', 'NY', 'SRF', '9/29/2016', '37', 'CONV', 'BMW', '37-Expired Muni Meter']\n",
            "['8518359399', '25739MA', 'NY', 'COM', '4/11/2017', '37', 'VAN', 'CHEVR', '37-Expired Muni Meter']\n",
            "['7251577239', 'EKE9259', 'NY', 'PAS', '12/7/2016', '37', 'SUBN', 'CHEVR', '37-Expired Muni Meter']\n",
            "['8483263385', 'GEX1404', 'NY', 'PAS', '4/15/2017', '37', '4DSD', 'CHRYS', '37-Expired Muni Meter']\n",
            "['7658725067', '45959MH', 'NY', 'COM', '12/29/2016', '37', 'VAN', 'DODGE', '37-Expired Muni Meter']\n",
            "['7808333074', 'GWG6715', 'NY', 'PAS', '11/9/2016', '37', 'SUBN', 'DODGE', '37-Expired Muni Meter']\n",
            "['8511286664', '30330MC', 'NY', 'COM', '6/17/2017', '37', 'VAN', 'FORD', '37-Expired Muni Meter']\n",
            "['8424504914', '53185JX', 'NY', 'COM', '8/15/2016', '37', 'VAN', 'FORD', '37-Expired Muni Meter']\n",
            "['8512119433', '76877MJ', 'NY', 'COM', '5/24/2017', '37', 'VAN', 'FORD', '37-Expired Muni Meter']\n",
            "['8513111030', 'GMZ9316', 'NY', 'PAS', '4/26/2017', '37', 'SUBN', 'FORD', '37-Expired Muni Meter']\n",
            "['8095027893', 'GVU9201', 'NY', 'PAS', '8/9/2016', '37', '4DSD', 'FORD', '37-Expired Muni Meter']\n",
            "['7018187588', 'J96GMD', 'NJ', 'PAS', '11/12/2016', '37', 'PICK', 'FORD', '37-Expired Muni Meter']\n",
            "['8519703471', 'Y81GLL', 'NJ', 'PAS', '2/24/2017', '37', 'VAN', 'FORD', '37-Expired Muni Meter']\n",
            "['8519703094', '26684MA', 'NY', 'COM', '2/23/2017', '37', 'VAN', 'FRUEH', '37-Expired Muni Meter']\n",
            "['8081576769', '19662JA', 'NY', 'COM', '12/19/2016', '37', 'VAN', 'GMC', '37-Expired Muni Meter']\n",
            "['8323007330', 'MSINGH', 'NY', 'SRF', '8/22/2016', '37', 'SUBN', 'GMC', '37-Expired Muni Meter']\n",
            "['8522218316', 'EFJ1721', 'NY', 'PAS', '5/17/2017', '37', 'SUBN', 'HONDA', '37-Expired Muni Meter']\n",
            "['8362534679', 'FLW5550', 'NY', 'PAS', '4/6/2017', '37', 'SUBN', 'HONDA', '37-Expired Muni Meter']\n",
            "['7816795701', 'GND8994', 'NY', 'PAS', '11/5/2016', '37', '4DSD', 'HONDA', '37-Expired Muni Meter']\n",
            "['8188109824', 'GVK6209', 'NY', 'PAS', '12/10/2016', '37', 'SUBN', 'HONDA', '37-Expired Muni Meter']\n",
            "['8553153472', 'HDN9923', 'NY', 'PAS', '5/11/2017', '37', 'SUBN', 'HONDA', '37-Expired Muni Meter']\n",
            "['7310298330', 'GMR2584', 'NY', 'PAS', '12/1/2016', '37', '4DSD', 'HYUND', '37-Expired Muni Meter']\n",
            "['8245564473', 'HLW1524', 'NY', 'PAS', '10/26/2016', '37', 'SUBN', 'HYUND', '37-Expired Muni Meter']\n",
            "['8467017971', 'EWV3891', 'NY', 'PAS', '10/26/2016', '37', '4DSD', 'INFIN', '37-Expired Muni Meter']\n",
            "['7755149869', 'GPK7120', 'NY', 'PAS', '10/13/2016', '37', '4DSD', 'INFIN', '37-Expired Muni Meter']\n",
            "['8086035645', '49966JG', 'NY', 'COM', '9/14/2016', '37', 'VAN', 'INTER', '37-Expired Muni Meter']\n",
            "['7035587469', 'GSC8976', 'NY', 'PAS', '8/1/2016', '37', 'SUBN', 'JEEP', '37-Expired Muni Meter']\n",
            "['8261064578', 'GSM5317', 'NY', 'PAS', '11/14/2016', '37', '4DSD', 'KIA', '37-Expired Muni Meter']\n",
            "['8528450650', 'CSHV03', 'FL', 'PAS', '2/27/2017', '37', '4DSD', 'LEXUS', '37-Expired Muni Meter']\n",
            "['8490569400', 'HBT2206', 'NY', 'PAS', '3/1/2017', '37', 'SUBN', 'LINCO', '37-Expired Muni Meter']\n",
            "['8347522157', 'HJY6578', 'NY', 'PAS', '10/4/2016', '37', 'SUBN', 'LINCO', '37-Expired Muni Meter']\n",
            "['8302035312', 'T693044C', 'NY', 'OMT', '11/3/2016', '37', '4DSD', 'LINCO', '37-Expired Muni Meter']\n",
            "['7729115463', 'HDV2678', 'NY', 'PAS', '9/28/2016', '37', 'PICK', 'MAZDA', '37-Expired Muni Meter']\n",
            "['8210512134', 'GXM8761', 'NY', 'PAS', '7/1/2016', '37', '4DSD', 'ME/BE', '37-Expired Muni Meter']\n",
            "['7079881500', 'GXU5070', 'NY', 'PAS', '4/29/2017', '37', 'SUBN', 'ME/BE', '37-Expired Muni Meter']\n",
            "['8345018233', 'XADY93', 'NJ', 'PAS', '9/13/2016', '37', 'VAN', 'NISSA', '37-Expired Muni Meter']\n",
            "['8489530932', 'JFW6671', 'PA', 'PAS', '4/18/2017', '37', '4DSD', 'PONTI', '37-Expired Muni Meter']\n",
            "['8347510180', 'HAU1658', 'NY', 'PAS', '7/23/2016', '37', 'SUBN', 'SPRI', '37-Expired Muni Meter']\n",
            "['7000296318', 'D49HND', 'NJ', 'PAS', '3/22/2017', '37', 'SUBN', 'TOYOT', '37-Expired Muni Meter']\n",
            "['8478472812', 'EAW3389', 'NY', 'PAS', '3/6/2017', '37', '4DSD', 'TOYOT', '37-Expired Muni Meter']\n",
            "['8550159396', 'EBM8845', 'NY', 'PAS', '6/16/2017', '37', 'SUBN', 'TOYOT', '37-Expired Muni Meter']\n",
            "['7084261187', 'FZN7149', 'NY', 'PAS', '8/24/2016', '37', 'SUBN', 'TOYOT', '37-Expired Muni Meter']\n",
            "['7238369850', 'GKB2710', 'NY', 'PAS', '7/25/2016', '37', 'SUBN', 'TOYOT', '37-Expired Muni Meter']\n",
            "['8475489709', 'HFM9768', 'NY', 'PAS', '4/5/2017', '37', 'SUBN', 'TOYOT', '37-Expired Muni Meter']\n",
            "['8391016900', 'EMM8151', 'NY', 'PAS', '11/2/2016', '37', 'SUBN', 'VOLVO', '37-Expired Muni Meter']\n",
            "['8372548559', 'EWN1057', 'NY', 'PAS', '3/13/2017', '38', 'SUBN', 'ACURA', '38-Failure to Display Muni Rec']\n",
            "['8546314093', 'GBG4410', 'NY', 'PAS', '5/27/2017', '38', 'SUBN', 'ACURA', '38-Failure to Display Muni Rec']\n",
            "['8467035675', 'GSB3078', 'NY', 'PAS', '1/16/2017', '38', 'SUBN', 'ACURA', '38-Failure to Display Muni Rec']\n",
            "['8023096722', 'H25FHZ', 'NJ', 'PAS', '8/26/2016', '38', 'SUBN', 'ACURA', '38-Failure to Display Muni Rec']\n",
            "['8515865737', 'AJ08289', 'CT', 'PAS', '4/12/2017', '38', '4DSD', 'AUDI', '38-Failure to Display Muni Rec']\n",
            "['8093057328', 'PPL3935', 'GA', 'PAS', '2/13/2017', '38', 'SUBN', 'AUDI', '38-Failure to Display Muni Rec']\n",
            "['8467045826', 'GEG1583', 'NY', 'PAS', '3/2/2017', '38', 'SUBN', 'BMW', '38-Failure to Display Muni Rec']\n",
            "['7752393691', 'HJF2092', 'NY', 'PAS', '12/3/2016', '38', 'SUBN', 'BMW', '38-Failure to Display Muni Rec']\n",
            "['8506469132', 'W43GFH', 'NJ', 'PAS', '4/5/2017', '38', '4DSD', 'BMW', '38-Failure to Display Muni Rec']\n",
            "['8550654115', 'GYV8496', 'NY', 'PAS', '5/2/2017', '38', 'SUBN', 'CADIL', '38-Failure to Display Muni Rec']\n",
            "['8521609796', 'HMA6778', 'NY', 'PAS', '4/3/2017', '38', 'SUBN', 'CADIL', '38-Failure to Display Muni Rec']\n",
            "['7395462774', '12133JY', 'NY', 'COM', '9/23/2016', '38', 'VAN', 'CHEVR', '38-Failure to Display Muni Rec']\n",
            "['7926615596', '12411JY', 'NY', 'COM', '9/12/2016', '38', 'VAN', 'CHEVR', '38-Failure to Display Muni Rec']\n",
            "['8507056830', '20654ME', 'NY', 'COM', '3/2/2017', '38', 'VAN', 'CHEVR', '38-Failure to Display Muni Rec']\n",
            "['8514752339', '85562ME', 'NY', 'COM', '3/28/2017', '38', 'VAN', 'CHEVR', '38-Failure to Display Muni Rec']\n",
            "['8505131836', '87155MA', 'NY', 'COM', '5/27/2017', '38', 'VAN', 'CHEVR', '38-Failure to Display Muni Rec']\n",
            "['8355032767', '96143MB', 'NY', 'COM', '12/8/2016', '38', 'VAN', 'CHEVR', '38-Failure to Display Muni Rec']\n",
            "['8549906335', 'FCM7111', 'NY', 'PAS', '5/24/2017', '38', 'SUBN', 'CHEVR', '38-Failure to Display Muni Rec']\n",
            "['7034978219', 'GHK9710', 'NY', 'PAS', '9/21/2016', '38', 'SUBN', 'CHEVR', '38-Failure to Display Muni Rec']\n",
            "['8543015133', 'HFV7703', 'NY', 'PAS', '6/20/2017', '38', 'SUBN', 'CHEVR', '38-Failure to Display Muni Rec']\n",
            "['8490761784', 'HHS5227', 'NY', 'PAS', '1/20/2017', '38', 'SUBN', 'CHEVR', '38-Failure to Display Muni Rec']\n",
            "['8206046343', 'HMU5912', 'NY', 'PAS', '3/4/2017', '38', 'SUBN', 'CHEVR', '38-Failure to Display Muni Rec']\n",
            "['8491610029', 'XDDX12', 'NJ', 'PAS', '1/21/2017', '38', 'VAN', 'CHEVR', '38-Failure to Display Muni Rec']\n",
            "['8548102378', 'HEJ9518', 'NY', 'PAS', '4/26/2017', '38', 'SUBN', 'CHRYS', '38-Failure to Display Muni Rec']\n",
            "['8550958402', 'HHU8104', 'NY', 'PAS', '5/24/2017', '38', 'SUBN', 'DODGE', '38-Failure to Display Muni Rec']\n",
            "['8523051284', 'SH3ZBAD', 'AL', 'PAS', '3/11/2017', '38', '4DSD', 'DODGE', '38-Failure to Display Muni Rec']\n",
            "['8470577803', 'W468KH', 'IA', 'PAS', '2/4/2017', '38', 'PICK', 'DODGE', '38-Failure to Display Muni Rec']\n",
            "['8063538547', '26013KA', 'NY', 'COM', '8/4/2016', '38', 'VAN', 'FORD', '38-Failure to Display Muni Rec']\n",
            "['7038676805', '29518MD', 'NY', 'COM', '1/20/2017', '38', 'VAN', 'FORD', '38-Failure to Display Muni Rec']\n",
            "['8167068687', '50651JT', 'NY', 'COM', '1/19/2017', '38', 'VAN', 'FORD', '38-Failure to Display Muni Rec']\n",
            "['8081538124', '56363KA', 'NY', 'COM', '8/1/2016', '38', 'VAN', 'FORD', '38-Failure to Display Muni Rec']\n",
            "['8515456515', '72108MH', 'NY', 'COM', '4/18/2017', '38', 'VAN', 'FORD', '38-Failure to Display Muni Rec']\n",
            "['8034466670', '83546JU', 'NY', 'COM', '10/4/2016', '38', 'VAN', 'FORD', '38-Failure to Display Muni Rec']\n",
            "['7041087311', 'EDNASON', 'NY', 'SRF', '8/19/2016', '38', '4DSD', 'FORD', '38-Failure to Display Muni Rec']\n",
            "['8370519581', 'GHM9658', 'NY', 'PAS', '10/22/2016', '38', 'SUBN', 'FORD', '38-Failure to Display Muni Rec']\n",
            "['7025521814', 'GTZ2070', 'NY', 'PAS', '7/12/2016', '38', 'SUBN', 'FORD', '38-Failure to Display Muni Rec']\n",
            "['8529109661', 'GZM3633', 'NY', 'PAS', '4/24/2017', '38', 'SUBN', 'FORD', '38-Failure to Display Muni Rec']\n",
            "['8437007306', 'HDE3721', 'NY', 'OMS', '9/28/2016', '38', 'VAN', 'FORD', '38-Failure to Display Muni Rec']\n",
            "['8104553239', 'HHG5974', 'NY', 'PAS', '2/11/2017', '38', '4DSD', 'FORD', '38-Failure to Display Muni Rec']\n",
            "['7035942324', 'HHU3520', 'NY', 'PAS', '9/6/2016', '38', 'CONV', 'FORD', '38-Failure to Display Muni Rec']\n",
            "['7034999387', 'HKS5462', 'NY', 'PAS', '3/27/2017', '38', 'SUBN', 'FORD', '38-Failure to Display Muni Rec']\n",
            "['7081935680', 'MLU536', 'SC', 'PAS', '12/14/2016', '38', 'SUBN', 'FORD', '38-Failure to Display Muni Rec']\n",
            "['8394507669', '12837JB', 'NY', 'COM', '9/13/2016', '38', 'DELV', 'FRUEH', '38-Failure to Display Muni Rec']\n",
            "['8010068883', 'AT560J', 'NJ', 'PAS', '1/25/2017', '38', 'DELV', 'FRUEH', '38-Failure to Display Muni Rec']\n",
            "['8226541451', '12460JY', 'NY', 'COM', '9/22/2016', '38', 'VAN', 'GMC', '38-Failure to Display Muni Rec']\n",
            "['7048680090', '12569JY', 'NY', 'COM', '3/28/2017', '38', 'VAN', 'GMC', '38-Failure to Display Muni Rec']\n",
            "['7047487591', '50741JZ', 'NY', 'COM', '4/13/2017', '38', 'UTIL', 'GMC', '38-Failure to Display Muni Rec']\n",
            "['7079347580', '58577JZ', 'NY', 'COM', '7/23/2016', '38', 'VAN', 'GMC', '38-Failure to Display Muni Rec']\n",
            "['8288531891', '67173MC', 'NY', 'COM', '9/29/2016', '38', 'VAN', 'GMC', '38-Failure to Display Muni Rec']\n",
            "['7453993295', '89661JV', 'NY', 'COM', '8/6/2016', '38', 'VAN', 'GMC', '38-Failure to Display Muni Rec']\n",
            "['8502858361', 'DJE1983', 'MI', 'PAS', '2/18/2017', '38', 'SUBN', 'GMC', '38-Failure to Display Muni Rec']\n",
            "['7079025515', 'GDR6073', 'NY', 'PAS', '11/19/2016', '38', 'SUBN', 'GMC', '38-Failure to Display Muni Rec']\n",
            "['7031406213', 'GYJ5951', 'NY', 'PAS', '9/10/2016', '38', 'SUBN', 'GMC', '38-Failure to Display Muni Rec']\n",
            "['8524952829', 'HNJ3540', 'NY', 'PAS', '3/15/2017', '38', 'PICK', 'GMC', '38-Failure to Display Muni Rec']\n",
            "['7503174304', 'L45DKG', 'NJ', 'PAS', '9/15/2016', '38', 'VAN', 'GMC', '38-Failure to Display Muni Rec']\n",
            "['8344008256', 'DHJ5741', 'NY', 'PAS', '9/3/2016', '38', 'SUBN', 'HONDA', '38-Failure to Display Muni Rec']\n",
            "['8541357818', 'EFD2730', 'NY', 'PAS', '6/17/2017', '38', 'SUBN', 'HONDA', '38-Failure to Display Muni Rec']\n",
            "['8171538265', 'FBG3249', 'NY', 'PAS', '2/10/2017', '38', '4DSD', 'HONDA', '38-Failure to Display Muni Rec']\n",
            "['7640787490', 'GTS6000', 'NY', 'PAS', '10/20/2016', '38', 'SUBN', 'HONDA', '38-Failure to Display Muni Rec']\n",
            "['8040135217', 'GTV5924', 'NY', 'PAS', '11/19/2016', '38', 'SUBN', 'HONDA', '38-Failure to Display Muni Rec']\n",
            "['8543005826', 'GXG5042', 'NY', 'PAS', '5/23/2017', '38', 'SUBN', 'HONDA', '38-Failure to Display Muni Rec']\n",
            "['8530358399', 'HLU6261', 'NY', 'PAS', '4/17/2017', '38', 'SUBN', 'HONDA', '38-Failure to Display Muni Rec']\n",
            "['8329010144', 'HTV5783', 'PA', 'PAS', '7/2/2016', '38', '4DSD', 'HONDA', '38-Failure to Display Muni Rec']\n",
            "['7216384532', 'T712744C', 'NY', 'OMT', '3/7/2017', '38', 'SUBN', 'HONDA', '38-Failure to Display Muni Rec']\n",
            "['8239540910', 'EWM9132', 'NY', 'PAS', '11/11/2016', '38', '4DSD', 'HYUND', '38-Failure to Display Muni Rec']\n",
            "['8513268173', 'HAT7232', 'NY', 'PAS', '5/27/2017', '38', 'SUBN', 'HYUND', '38-Failure to Display Muni Rec']\n",
            "['8478953528', 'JNB5044', 'PA', 'PAS', '12/17/2016', '38', 'SUBN', 'HYUND', '38-Failure to Display Muni Rec']\n",
            "['8471611235', 'T13AZX', 'NJ', 'PAS', '10/10/2016', '38', '4DSD', 'HYUND', '38-Failure to Display Muni Rec']\n",
            "['7015856128', 'GMU5413', 'NY', 'PAS', '9/6/2016', '38', '4DSD', 'INFIN', '38-Failure to Display Muni Rec']\n",
            "['8532505170', 'HAZ7926', 'NY', 'PAS', '4/15/2017', '38', '4DSD', 'INFIN', '38-Failure to Display Muni Rec']\n",
            "['8156045178', 'HLF3741', 'NY', 'PAS', '12/21/2016', '38', '4DSD', 'INFIN', '38-Failure to Display Muni Rec']\n",
            "['8477154788', 'AP656S', 'NJ', 'PAS', '2/7/2017', '38', 'REFG', 'INTER', '38-Failure to Display Muni Rec']\n",
            "['7992738184', '63162MD', 'NY', 'COM', '10/24/2016', '38', 'VAN', 'ISUZU', '38-Failure to Display Muni Rec']\n",
            "['8488913308', 'GYV3087', 'NY', 'PAS', '3/13/2017', '38', 'SUBN', 'JEEP', '38-Failure to Display Muni Rec']\n",
            "['8303532224', 'HAB4875', 'NY', 'PAS', '2/1/2017', '38', 'SUBN', 'JEEP', '38-Failure to Display Muni Rec']\n",
            "['7172330286', 'MHM933', 'SC', 'PAS', '1/18/2017', '38', 'SUBN', 'KIA', '38-Failure to Display Muni Rec']\n",
            "['8279018967', 'V41GCR', 'NJ', 'PAS', '8/13/2016', '38', 'SUBN', 'KIA', '38-Failure to Display Muni Rec']\n",
            "['8530104183', 'EMK4874', 'NY', 'PAS', '3/21/2017', '38', '4DSD', 'LEXUS', '38-Failure to Display Muni Rec']\n",
            "['8228552543', 'GEA2261', 'NY', 'PAS', '4/27/2017', '38', '4DSD', 'LEXUS', '38-Failure to Display Muni Rec']\n",
            "['8508407440', '67171MD', 'NY', 'COM', '3/2/2017', '38', 'VAN', 'ME/BE', '38-Failure to Display Muni Rec']\n",
            "['7473540725', 'GDV9810', 'NY', 'PAS', '2/11/2017', '38', 'SUBN', 'ME/BE', '38-Failure to Display Muni Rec']\n",
            "['8184542148', 'GVL6825', 'NY', 'PAS', '7/27/2016', '38', 'SUBN', 'ME/BE', '38-Failure to Display Muni Rec']\n",
            "['7686795950', 'HKV4674', 'NY', 'PAS', '2/14/2017', '38', 'SUBN', 'ME/BE', '38-Failure to Display Muni Rec']\n",
            "['8550508081', 'GYK6894', 'NY', 'PAS', '5/22/2017', '38', 'SUBN', 'MERCU', '38-Failure to Display Muni Rec']\n",
            "['8031065469', '20188MB', 'NY', 'COM', '8/3/2016', '38', 'VAN', 'NISSA', '38-Failure to Display Muni Rec']\n",
            "['8451034871', 'ECT9910', 'NY', 'PAS', '3/8/2017', '38', 'SUBN', 'NISSA', '38-Failure to Display Muni Rec']\n",
            "['8558610137', 'FBB5153', 'NY', 'PAS', '6/3/2017', '38', '4DSD', 'NISSA', '38-Failure to Display Muni Rec']\n",
            "['8489508318', 'FGP8657', 'NY', 'PAS', '1/3/2017', '38', 'SUBN', 'NISSA', '38-Failure to Display Muni Rec']\n",
            "['8358539046', 'GDV2141', 'NY', 'PAS', '12/15/2016', '38', '4DSD', 'NISSA', '38-Failure to Display Muni Rec']\n",
            "['7687172486', 'GPV3988', 'NY', 'PAS', '8/5/2016', '38', '4DSD', 'NISSA', '38-Failure to Display Muni Rec']\n",
            "['7536344478', 'HAL6563', 'NY', 'PAS', '10/12/2016', '38', 'SUBN', 'NISSA', '38-Failure to Display Muni Rec']\n",
            "['8566256827', 'HBX4254', 'NY', 'PAS', '6/22/2017', '38', '4DSD', 'NISSA', '38-Failure to Display Muni Rec']\n",
            "['7238386082', 'HDV1381', 'NY', 'PAS', '11/10/2016', '38', '4DSD', 'NISSA', '38-Failure to Display Muni Rec']\n",
            "['7878306229', 'HFX5240', 'NY', 'OMS', '8/26/2016', '38', 'SUBN', 'NISSA', '38-Failure to Display Muni Rec']\n",
            "['7466353927', 'HHT7133', 'NY', 'PAS', '1/9/2017', '38', '4DSD', 'NISSA', '38-Failure to Display Muni Rec']\n",
            "['7034595768', '76TD28', 'NY', 'MOT', '10/26/2016', '38', 'MCY', 'NS/OT', '38-Failure to Display Muni Rec']\n",
            "['8520571347', '848SSCV', 'CT', 'CMB', '6/9/2017', '38', 'SUBN', 'NS/OT', '38-Failure to Display Muni Rec']\n",
            "['8289029433', '85773JX', 'NY', 'COM', '8/20/2016', '38', 'DELV', 'NS/OT', '38-Failure to Display Muni Rec']\n",
            "['8329046527', 'JVN4312', 'PA', 'PAS', '1/13/2017', '38', '4DSD', 'PLYMO', '38-Failure to Display Muni Rec']\n",
            "['7725868070', 'HCM6889', 'NY', 'PAS', '10/28/2016', '38', 'SUBN', 'PORSC', '38-Failure to Display Muni Rec']\n",
            "['8528153757', '917029N', 'NJ', 'PAS', '3/17/2017', '38', '4DSD', 'SCION', '38-Failure to Display Muni Rec']\n",
            "['7034261090', 'DND4427', 'NY', 'PAS', '3/21/2017', '38', '4DSD', 'SUBAR', '38-Failure to Display Muni Rec']\n",
            "['7310311681', '973', 'NY', 'VAS', '2/2/2017', '38', 'SUBN', 'TOYOT', '38-Failure to Display Muni Rec']\n",
            "['8071059808', '2W13A', 'NY', 'OMT', '10/24/2016', '38', '4DSD', 'TOYOT', '38-Failure to Display Muni Rec']\n",
            "['8516566730', '9V12H', 'NY', 'OMT', '4/22/2017', '38', 'TAXI', 'TOYOT', '38-Failure to Display Muni Rec']\n",
            "['8170062536', 'EPF5214', 'NY', 'PAS', '10/26/2016', '38', 'SUBN', 'TOYOT', '38-Failure to Display Muni Rec']\n",
            "['8562250776', 'FFL7741', 'NY', 'PAS', '5/8/2017', '38', 'SUBN', 'TOYOT', '38-Failure to Display Muni Rec']\n",
            "['8504983146', 'FZH3835', 'NY', 'PAS', '5/9/2017', '38', 'PICK', 'TOYOT', '38-Failure to Display Muni Rec']\n",
            "['8102014891', 'GLP9323', 'NY', 'PAS', '10/24/2016', '38', 'SUBN', 'TOYOT', '38-Failure to Display Muni Rec']\n",
            "['8163093262', 'GZK4605', 'NY', 'PAS', '1/20/2017', '38', '4DSD', 'TOYOT', '38-Failure to Display Muni Rec']\n",
            "['8480572620', 'GZP8205', 'NY', 'PAS', '3/28/2017', '38', '4DSD', 'TOYOT', '38-Failure to Display Muni Rec']\n",
            "['8170080708', 'HHC5057', 'NY', 'PAS', '1/14/2017', '38', '4DSD', 'TOYOT', '38-Failure to Display Muni Rec']\n",
            "['8298024096', 'K70BCS', 'NJ', 'PAS', '10/22/2016', '38', 'SUBN', 'TOYOT', '38-Failure to Display Muni Rec']\n",
            "['8479916916', 'MH718', 'RI', 'PAS', '3/18/2017', '38', 'SUBN', 'TOYOT', '38-Failure to Display Muni Rec']\n",
            "['7690764873', 'T672543C', 'NY', 'OMT', '10/18/2016', '38', 'SUBN', 'TOYOT', '38-Failure to Display Muni Rec']\n",
            "['8475000216', 'T677560C', 'NY', 'OMT', '10/26/2016', '38', '4DSD', 'TOYOT', '38-Failure to Display Muni Rec']\n",
            "['8511274996', 'YCNZ15', 'NJ', 'PAS', '5/16/2017', '38', 'PICK', 'TOYOT', '38-Failure to Display Muni Rec']\n",
            "['8546358047', 'T717493C', 'NY', 'OMT', '6/15/2017', '38', '4DSD', 'VOLKS', '38-Failure to Display Muni Rec']\n",
            "['8532118252', 'B78AKY', 'NJ', 'PAS', '6/8/2017', '38', '4DSD', 'VOLVO', '38-Failure to Display Muni Rec']\n",
            "['7029194834', 'CMMCK', 'TX', 'PAS', '11/4/2016', '38', '4DSD', 'VOLVO', '38-Failure to Display Muni Rec']\n",
            "['8169543885', 'HHK8137', 'NY', 'PAS', '9/14/2016', '38', 'SUBN', 'VOLVO', '38-Failure to Display Muni Rec']\n",
            "['8270554248', 'EXP9969', 'NY', 'PAS', '1/21/2017', '40', '4DSD', 'BMW', '40-Fire Hydrant']\n",
            "['8520655269', 'FWD5326', 'NY', 'PAS', '3/7/2017', '40', 'SUBN', 'BMW', '40-Fire Hydrant']\n",
            "['8487577714', 'R5634P', 'TN', 'PAS', '2/22/2017', '40', '4DSD', 'BMW', '40-Fire Hydrant']\n",
            "['8293078133', 'HGJ2021', 'NY', 'PAS', '1/10/2017', '40', 'SUBN', 'BUICK', '40-Fire Hydrant']\n",
            "['8476754036', '5733VQ', 'ME', 'PAS', '1/28/2017', '40', '4DSD', 'CHEVR', '40-Fire Hydrant']\n",
            "['8524758790', '62122MJ', 'NY', 'COM', '4/14/2017', '40', 'VAN', 'CHEVR', '40-Fire Hydrant']\n",
            "['8090532962', 'EUZ1312', 'NY', 'PAS', '4/11/2017', '40', '4DSD', 'DODGE', '40-Fire Hydrant']\n",
            "['7807866536', '10992ME', 'NY', 'COM', '11/14/2016', '40', 'VAN', 'FORD', '40-Fire Hydrant']\n",
            "['8521411923', 'AH20097', 'AZ', 'PAS', '4/22/2017', '40', 'VAN', 'FORD', '40-Fire Hydrant']\n",
            "['8486983800', 'C087382', 'CT', 'PAS', '4/10/2017', '40', 'VAN', 'FORD', '40-Fire Hydrant']\n",
            "['7813974049', 'GLS7002', 'NY', 'PAS', '9/9/2016', '40', 'SUBN', 'FORD', '40-Fire Hydrant']\n",
            "['8526650464', 'GXA7604', 'NY', 'PAS', '2/24/2017', '40', '2DSD', 'FORD', '40-Fire Hydrant']\n",
            "['7509978221', '12127MJ', 'NY', 'COM', '2/27/2017', '40', 'VAN', 'FRUEH', '40-Fire Hydrant']\n",
            "['8521702024', '67667MH', 'NY', 'COM', '2/22/2017', '40', 'DELV', 'FRUEH', '40-Fire Hydrant']\n",
            "['8503070157', '85849MA', 'NY', 'COM', '4/5/2017', '40', 'DELV', 'FRUEH', '40-Fire Hydrant']\n",
            "['8100540172', '88700JA', 'NY', 'COM', '2/23/2017', '40', 'DELV', 'FRUEH', '40-Fire Hydrant']\n",
            "['8530477870', '17623MK', 'NY', 'COM', '6/12/2017', '40', 'VAN', 'GMC', '40-Fire Hydrant']\n",
            "['8553659872', '36012JH', 'NY', 'COM', '6/5/2017', '40', 'VAN', 'GMC', '40-Fire Hydrant']\n",
            "['8283027748', 'FLJ1982', 'TX', 'PAS', '7/29/2016', '40', '4DSD', 'HONDA', '40-Fire Hydrant']\n",
            "['8533207992', 'FMF1924', 'NY', 'PAS', '3/28/2017', '40', 'SUBN', 'HONDA', '40-Fire Hydrant']\n",
            "['8525513556', 'GBE4428', 'NY', 'PAS', '4/17/2017', '40', '4DSD', 'HONDA', '40-Fire Hydrant']\n",
            "['8490855328', 'HCR1371', 'NY', 'PAS', '1/17/2017', '40', 'SUBN', 'HONDA', '40-Fire Hydrant']\n",
            "['1418809688', 'HKP7234', 'NY', 'PAS', '2/10/2017', '40', 'SDN', 'HONDA', '']\n",
            "['7615916161', 'VBS6310', 'VA', 'PAS', '4/8/2017', '40', '2DSD', 'HYUND', '40-Fire Hydrant']\n",
            "['8532406476', '8CE6308', 'MD', 'PAS', '6/2/2017', '40', '4DSD', 'INFIN', '40-Fire Hydrant']\n",
            "['8260026995', '41955JX', 'NY', 'COM', '10/28/2016', '40', 'DELV', 'INTER', '40-Fire Hydrant']\n",
            "['8479310108', 'AN294N', 'NJ', 'PAS', '3/15/2017', '40', 'DELV', 'INTER', '40-Fire Hydrant']\n",
            "['8564313893', 'HMJ8126', 'NY', 'PAS', '6/26/2017', '40', 'SUBN', 'JEEP', '40-Fire Hydrant']\n",
            "['8537307087', 'FLN2294', 'NY', 'PAS', '4/12/2017', '40', '4DSD', 'ME/BE', '40-Fire Hydrant']\n",
            "['8562902573', 'HHB6458', 'NY', 'PAS', '6/3/2017', '40', '4DSD', 'ME/BE', '40-Fire Hydrant']\n",
            "['8515271692', '22436JW', 'NY', 'COM', '5/2/2017', '40', 'DELV', 'MITSU', '40-Fire Hydrant']\n",
            "['1404820255', '31535JU', 'NY', 'COM', '12/6/2016', '40', 'DELV', 'MITSU', '']\n",
            "['1385822545', 'CWM3813', 'NY', 'PAS', '8/14/2016', '40', 'SDN', 'NISSA', '']\n",
            "['8429514260', 'GLC1162', 'NY', 'PAS', '10/8/2016', '40', '4DSD', 'NISSA', '40-Fire Hydrant']\n",
            "['1418357212', 'HGK5374', 'NY', 'PAS', '5/9/2017', '40', 'SDN', 'NISSA', '']\n",
            "['1418741530', 'HMN1703', 'NY', 'PAS', '4/1/2017', '40', 'SUBN', 'NISSA', '']\n",
            "['7628394670', 'YLC28F', 'NJ', 'PAS', '9/12/2016', '40', '4DSD', 'NISSA', '40-Fire Hydrant']\n",
            "['8210526881', '3MD9721', 'MD', 'PAS', '10/11/2016', '40', 'SUBN', 'PORSC', '40-Fire Hydrant']\n",
            "['8521501067', '2AVAF1', 'CT', 'PAS', '2/15/2017', '40', '2DSD', 'SCION', '40-Fire Hydrant']\n",
            "['8087547044', 'JONNAS', 'NY', 'SRF', '2/6/2017', '40', '4DSD', 'SUBAR', '40-Fire Hydrant']\n",
            "['7170603627', 'GDE5084', 'NY', 'PAS', '8/17/2016', '40', '4DSD', 'TOYOT', '40-Fire Hydrant']\n",
            "['1411957532', 'GHR9886', 'NY', 'PAS', '10/30/2016', '40', 'SDN', 'TOYOT', '']\n",
            "['7036196488', 'HDS6837', 'NY', 'PAS', '9/29/2016', '40', '4DSD', 'TOYOT', '40-Fire Hydrant']\n",
            "['1413656420', 'T672371C', 'NY', 'PAS', '2/4/2017', '40', 'TAXI', 'TOYOT', '']\n",
            "['1413609545', 'X20DCM', 'NJ', 'PAS', '8/3/2016', '40', 'SDN', 'TOYOT', '']\n",
            "['8150083686', '67754MC', 'NY', 'COM', '11/16/2016', '40', 'DELV', 'UPS', '40-Fire Hydrant']\n",
            "['8509669090', '91656MC', 'NY', 'COM', '4/28/2017', '40', 'VAN', 'WORKH', '40-Fire Hydrant']\n",
            "['8491851975', '98166MD', 'NY', 'COM', '12/8/2016', '42', 'VAN', 'CHEVR', '42-Exp. Muni-Mtr (Com. Mtr. Z)']\n",
            "['8480450563', '21834ME', 'NY', 'COM', '11/21/2016', '42', 'VAN', 'FORD', '42-Exp. Muni-Mtr (Com. Mtr. Z)']\n",
            "['8107526170', '57300MC', 'NY', 'COM', '9/8/2016', '42', 'VAN', 'FORD', '42-Exp. Muni-Mtr (Com. Mtr. Z)']\n",
            "['8479406173', '52880MH', 'NY', 'COM', '1/26/2017', '42', 'VAN', 'FRUEH', '42-Exp. Muni-Mtr (Com. Mtr. Z)']\n",
            "['8038240170', '35079MD', 'NY', 'COM', '12/8/2016', '42', 'VAN', 'NS/OT', '42-Exp. Muni-Mtr (Com. Mtr. Z)']\n",
            "['8481615432', 'XDGW94', 'NJ', 'PAS', '6/8/2017', '42', 'DELV', 'NS/OT', '42-Exp. Muni-Mtr (Com. Mtr. Z)']\n",
            "['8374006640', 'FZX8942', 'NY', 'PAS', '8/26/2016', '46', '4DSD', 'ACURA', '46A-Double Parking (Non-COM)']\n",
            "['8558750191', 'GSH2040', 'NY', 'PAS', '4/20/2017', '46', '4DSD', 'ACURA', '46A-Double Parking (Non-COM)']\n",
            "['8502856637', 'GGL9484', 'NY', 'PAS', '2/10/2017', '46', '4DSD', 'AUDI', '46A-Double Parking (Non-COM)']\n",
            "['1420319401', 'KKN4822', 'PA', 'PAS', '5/15/2017', '46', 'SUBN', 'BUICK', '']\n",
            "['7067929763', '17626MK', 'NY', 'COM', '1/31/2017', '46', 'VAN', 'CHEVR', '46B-Double Parking (Com-100Ft)']\n",
            "['1387522700', '71017JM', 'NY', 'COM', '8/25/2016', '46', 'VAN', 'CHEVR', '']\n",
            "['8008621527', 'HFP7192', 'NY', 'PAS', '10/25/2016', '46', 'VAN', 'CHEVR', '46A-Double Parking (Non-COM)']\n",
            "['1413687738', '25570MC', 'NY', 'COM', '9/6/2016', '46', 'DELV', 'DODGE', '']\n",
            "['8513917291', '33147MK', 'NY', 'COM', '6/27/2017', '46', 'VAN', 'DODGE', '46A-Double Parking (Non-COM)']\n",
            "['8505564479', '99828MC', 'NY', 'COM', '3/7/2017', '46', 'VAN', 'DODGE', '46B-Double Parking (Com-100Ft)']\n",
            "['8513554716', 'XWD5801', 'VA', 'PAS', '3/3/2017', '46', 'SUBN', 'DODGE', '46A-Double Parking (Non-COM)']\n",
            "['1420122800', 'AB80443', 'CT', 'PAS', '3/13/2017', '46', 'SDN', 'FIAT', '']\n",
            "['8472012591', '48768JZ', 'NY', 'COM', '11/9/2016', '46', 'VAN', 'FORD', '46B-Double Parking (Com-100Ft)']\n",
            "['1401381406', 'EUM7025', 'NY', 'PAS', '11/14/2016', '46', 'SUBN', 'FORD', '']\n",
            "['1417599716', '12203MG', 'NY', 'COM', '12/1/2016', '46', 'VAN', 'FRUEH', '']\n",
            "['8019072664', '12211MG', 'NY', 'COM', '11/11/2016', '46', 'VAN', 'FRUEH', '46B-Double Parking (Com-100Ft)']\n",
            "['8429513220', '12246MG', 'NY', 'COM', '10/4/2016', '46', 'VAN', 'FRUEH', '46B-Double Parking (Com-100Ft)']\n",
            "['8470521172', '28672MH', 'NY', 'COM', '11/21/2016', '46', 'VAN', 'FRUEH', '46B-Double Parking (Com-100Ft)']\n",
            "['1414783784', '30182JF', 'NY', 'COM', '11/25/2016', '46', 'VAN', 'FRUEH', '']\n",
            "['8267055393', '76253JY', 'NY', 'COM', '10/10/2016', '46', 'DELV', 'FRUEH', '46B-Double Parking (Com-100Ft)']\n",
            "['8513153333', '95707MC', 'NY', 'COM', '2/25/2017', '46', 'VAN', 'FRUEH', '46B-Double Parking (Com-100Ft)']\n",
            "['8504710749', 'AB157N', 'NJ', 'PAS', '3/3/2017', '46', 'DELV', 'FRUEH', '46B-Double Parking (Com-100Ft)']\n",
            "['8506024420', 'XBPZ81', 'NJ', 'PAS', '4/19/2017', '46', 'DELV', 'HIN', '46B-Double Parking (Com-100Ft)']\n",
            "['8544760181', 'GPN6161', 'NY', 'PAS', '6/20/2017', '46', '4DSD', 'HONDA', '46A-Double Parking (Non-COM)']\n",
            "['8519154645', 'GXC2952', 'NY', 'PAS', '3/7/2017', '46', 'SUBN', 'HONDA', '46A-Double Parking (Non-COM)']\n",
            "['8554356639', 'HAL3201', 'NY', 'PAS', '5/23/2017', '46', '4DSD', 'HONDA', '46A-Double Parking (Non-COM)']\n",
            "['8537709475', 'HEJ2020', 'NY', 'PAS', '5/5/2017', '46', '4DSD', 'HONDA', '46A-Double Parking (Non-COM)']\n",
            "['1415749504', '85795MC', 'NY', 'COM', '10/29/2016', '46', '', 'ISUZU', '']\n",
            "['8524957104', '90371MC', 'NY', 'COM', '4/24/2017', '46', 'REFG', 'ISUZU', '46B-Double Parking (Com-100Ft)']\n",
            "['8432500124', 'GXR4201', 'NY', 'PAS', '7/20/2016', '46', 'SUBN', 'JEEP', '46A-Double Parking (Non-COM)']\n",
            "['8539607141', '49783MA', 'NY', 'COM', '5/5/2017', '46', 'DELV', 'KENWO', '46B-Double Parking (Com-100Ft)']\n",
            "['1415396371', 'GDM8277', 'NY', 'PAS', '5/10/2017', '46', 'SDN', 'LEXUS', '']\n",
            "['8422555566', 'HDF6978', 'NY', 'PAS', '2/25/2017', '46', 'SUBN', 'ME/BE', '46A-Double Parking (Non-COM)']\n",
            "['8575301974', '65936MK', 'NY', 'COM', '6/14/2017', '46', 'VAN', 'MITSU', '46B-Double Parking (Com-100Ft)']\n",
            "['1416259892', 'FFY2020', 'NY', 'PAS', '10/20/2016', '46', 'SDN', 'MITSU', '']\n",
            "['8473154551', 'XS465D', 'NJ', 'PAS', '10/27/2016', '46', 'DELV', 'MITSU', '46B-Double Parking (Com-100Ft)']\n",
            "['8484520614', 'XU522N', 'NJ', 'PAS', '4/7/2017', '46', 'DELV', 'MITSU', '46B-Double Parking (Com-100Ft)']\n",
            "['8525507428', 'HBN8919', 'NY', 'PAS', '3/25/2017', '46', '4DSD', 'NISSA', '46A-Double Parking (Non-COM)']\n",
            "['8050574052', '49731MA', 'NY', 'COM', '12/30/2016', '46', 'DELV', 'NS/OT', '46B-Double Parking (Com-100Ft)']\n",
            "['8503162726', 'GOFDX', 'NY', 'COM', '3/15/2017', '46', 'VAN', 'NS/OT', '46B-Double Parking (Com-100Ft)']\n",
            "['8524064390', 'PRF4639', 'GA', 'PAS', '4/28/2017', '46', 'SUBN', 'NS/OT', '46A-Double Parking (Non-COM)']\n",
            "['8378015798', 'DYBL66', 'FL', 'PAS', '8/9/2016', '46', 'SUBN', 'ROVER', '46A-Double Parking (Non-COM)']\n",
            "['8503278601', 'HPW9117', 'NY', 'PAS', '5/27/2017', '46', 'SUBN', 'ROVER', '46A-Double Parking (Non-COM)']\n",
            "['1414975570', '42447MH', 'NY', 'COM', '10/4/2016', '46', 'P-U', 'TOYOT', '']\n",
            "['7497389804', 'DDJ8252', 'NY', 'PAS', '11/16/2016', '46', 'SUBN', 'TOYOT', '46A-Double Parking (Non-COM)']\n",
            "['7751566700', 'HJV8807', 'NY', 'PAS', '12/27/2016', '46', '4DSD', 'TOYOT', '46A-Double Parking (Non-COM)']\n",
            "['7001431515', 'T665895C', 'NY', 'OMT', '8/9/2016', '46', '4DSD', 'TOYOT', '46A-Double Parking (Non-COM)']\n",
            "['8518100136', 'T682917C', 'NY', 'OMT', '2/15/2017', '46', 'SUBN', 'TOYOT', '46A-Double Parking (Non-COM)']\n",
            "['8521262474', '32353PC', 'NY', 'IRP', '4/6/2017', '46', 'REFG', 'UD', '46B-Double Parking (Com-100Ft)']\n",
            "['1416119292', 'TRW42B', 'NJ', 'PAS', '10/9/2016', '46', 'TLR', 'UTILI', '']\n",
            "['1406832248', 'FJA2553', 'NY', 'PAS', '10/7/2016', '46', 'SDN', 'VOLVO', '']\n",
            "['1406925068', '19358JU', '99', 'COM', '8/23/2016', '46', 'DELV', '', '']\n",
            "['8546468965', '37489BB', 'NY', 'OMR', '6/12/2017', '46', 'BUS', '', '46A-Double Parking (Non-COM)']\n",
            "['1406927442', 'BLANKPLATE', '99', '999', '8/20/2016', '46', 'SDN', '', '']\n",
            "['8335524634', '55219MA', 'NY', 'COM', '10/22/2016', '47', 'VAN', 'DODGE', '47-Double PKG-Midtown']\n",
            "['8126033526', '67815MC', 'NY', 'COM', '10/24/2016', '47', 'VAN', 'FORD', '47-Double PKG-Midtown']\n",
            "['8483357380', '70728MD', 'NY', 'COM', '2/3/2017', '47', 'VAN', 'FORD', '47-Double PKG-Midtown']\n",
            "['8479610785', '31362MG', 'NY', 'COM', '1/5/2017', '47', 'DELV', 'FRUEH', '47-Double PKG-Midtown']\n",
            "['8482178982', '76691MH', 'NY', 'COM', '4/24/2017', '47', 'VAN', 'FRUEH', '47-Double PKG-Midtown']\n",
            "['8483777563', 'XDSL81', 'NJ', 'PAS', '6/1/2017', '47', 'DELV', 'FRUEH', '47-Double PKG-Midtown']\n",
            "['8476904253', '97036JE', 'NY', 'COM', '1/23/2017', '47', 'VAN', 'GMC', '47-Double PKG-Midtown']\n",
            "['8103547682', '409507', 'IN', 'PAS', '7/21/2016', '47', 'DELV', 'INTER', '47-Double PKG-Midtown']\n",
            "['8479509466', '36488ME', 'NY', 'COM', '2/10/2017', '47', 'UTIL', 'INTER', '47-Double PKG-Midtown']\n",
            "['8498015157', '69975MJ', 'NY', 'COM', '6/13/2017', '47', 'DELV', 'INTER', '47-Double PKG-Midtown']\n",
            "['7880363683', 'PAL7145', 'MN', 'PAS', '9/26/2016', '47', 'DELV', 'INTER', '47-Double PKG-Midtown']\n",
            "['7924516268', '34555MD', 'NY', 'COM', '11/9/2016', '47', 'REFG', 'ISUZU', '47-Double PKG-Midtown']\n",
            "['8477312801', '73441MG', 'NY', 'COM', '4/1/2017', '47', 'DELV', 'ISUZU', '47-Double PKG-Midtown']\n",
            "['8371503842', '13041MJ', 'NY', 'COM', '7/8/2016', '47', 'DELV', 'KENWO', '47-Double PKG-Midtown']\n",
            "['8371503647', '14224MJ', 'NY', 'COM', '7/7/2016', '47', 'DELV', 'ME/BE', '47-Double PKG-Midtown']\n",
            "['8497957076', '55507JZ', 'NY', 'COM', '3/20/2017', '47', 'DELV', 'MITSU', '47-Double PKG-Midtown']\n",
            "['8478629828', '66623ME', 'NY', 'COM', '6/14/2017', '47', 'REFG', 'MITSU', '47-Double PKG-Midtown']\n",
            "['8120016294', '68218MG', 'NY', 'COM', '12/13/2016', '47', 'VAN', 'NS/OT', '47-Double PKG-Midtown']\n",
            "['1413231070', '28606MH', 'NY', 'COM', '8/19/2016', '48', 'VAN', 'FORD', '']\n",
            "['8523502270', '41990JX', 'NY', 'COM', '3/3/2017', '48', 'VAN', 'FORD', '48-Bike Lane']\n",
            "['8485655590', 'OYA8199', 'NJ', 'PAS', '2/16/2017', '48', 'BUS', 'FORD', '48-Bike Lane']\n",
            "['1420960260', '66604MB', 'NY', 'COM', '5/11/2017', '48', 'VAN', 'GMCQ', '']\n",
            "['8377006390', 'GCR2084', 'NY', 'PAS', '7/19/2016', '48', '4DSD', 'HONDA', '48-Bike Lane']\n",
            "['7577859382', 'GRH9256', 'NY', 'PAS', '12/2/2016', '48', '4DSD', 'HONDA', '48-Bike Lane']\n",
            "['8122530205', '95139JC', 'NY', 'COM', '1/5/2017', '48', 'DELV', 'INTER', '48-Bike Lane']\n",
            "['8254538943', '390HRH', 'OR', 'PAS', '9/2/2016', '50', 'SUBN', 'FORD', '50-Crosswalk']\n",
            "['8518670070', '96170MA', 'NY', 'COM', '6/5/2017', '50', 'VAN', 'FRUEH', '50-Crosswalk']\n",
            "['1410899070', 'GWG5875', 'NY', 'PAS', '11/1/2016', '50', 'SDN', 'HONDA', '']\n",
            "['1413790264', 'JFE0579', 'PA', 'PAS', '9/10/2016', '50', 'SDN', 'HONDA', '']\n",
            "['1414785495', 'FJL6037', 'NY', 'PAS', '8/17/2016', '50', 'SDN', 'HYUND', '']\n",
            "['7809507916', '34719MG', 'NY', 'COM', '12/8/2016', '50', 'DELV', 'INTER', '50-Crosswalk']\n",
            "['7499593060', 'XBYW36', 'NJ', 'PAS', '7/22/2016', '50', 'DELV', 'ISUZU', '50-Crosswalk']\n",
            "['8466021980', 'GSC6098', 'NY', 'PAS', '12/27/2016', '50', '4DSD', 'NISSA', '50-Crosswalk']\n",
            "['8543401689', 'HCP8932', 'NY', 'PAS', '4/18/2017', '50', '4DSD', 'NISSA', '50-Crosswalk']\n",
            "['8162015656', 'GSS803', 'VT', 'PAS', '9/1/2016', '50', '4DSD', 'TOYOT', '50-Crosswalk']\n",
            "['8526919210', 'GZD7447', 'NY', 'PAS', '4/12/2017', '50', '4DSD', 'TOYOT', '50-Crosswalk']\n",
            "['8506053195', '25868MB', 'NY', 'COM', '1/25/2017', '51', 'VAN', 'FORD', '51-Sidewalk']\n",
            "['8520767310', 'GHN6806', 'NY', 'PAS', '5/26/2017', '51', 'SUBN', 'SAAB', '51-Sidewalk']\n",
            "['7079854404', 'T656205C', 'NY', 'OMT', '1/28/2017', '51', '4DSD', 'TOYOT', '51-Sidewalk']\n",
            "['1421055820', 'GAR2279', 'NY', 'PAS', '6/10/2017', '52', 'SDN', 'FORD', '']\n",
            "['7085899554', 'GUZ4334', 'NY', 'PAS', '10/13/2016', '53', 'SUBN', 'ACURA', '53-Safety Zone']\n",
            "['8478553514', 'XCMA58', 'NJ', 'PAS', '12/15/2016', '53', 'DELV', 'HINO', '53-Safety Zone']\n",
            "['8546101425', 'DF932Z', 'NY', 'PAS', '4/10/2017', '53', 'SUBN', 'LEXUS', '53-Safety Zone']\n",
            "['7007488663', 'VFP7291', 'VA', 'PAS', '3/2/2017', '53', '4DSD', 'ME/BE', '53-Safety Zone']\n",
            "['1402409825', '869ZR9', 'MA', '999', '10/15/2016', '53', 'SUBN', 'SATUR', '']\n",
            "['8506603031', '2383103', 'IN', 'PAS', '2/1/2017', '53', 'TRAC', 'VOLVO', '53-Safety Zone']\n",
            "['8480309064', '51771JW', 'NY', 'COM', '1/26/2017', '64', 'VAN', 'INTER', '64-No STD Ex Con/DPL, D/S Dec']\n",
            "['8162054819', 'EW866X', 'NJ', 'PAS', '1/29/2017', '68', '4DSD', 'NISSA', '68-Not Pkg. Comp. w Psted Sign']\n",
            "['8343032536', '4CMH482', 'CA', 'PAS', '10/3/2016', '68', 'SUBN', 'SUBAR', '68-Not Pkg. Comp. w Psted Sign']\n",
            "['8084034959', 'ASW2109', 'NY', 'PAS', '12/20/2016', '68', '4DSD', 'TOYOT', '68-Not Pkg. Comp. w Psted Sign']\n",
            "['8066506089', '12047JY', 'NY', 'COM', '7/1/2016', '69', 'VAN', 'CHEVR', '69-Failure to Disp Muni Recpt']\n",
            "['8483275156', '57309ME', 'NY', 'COM', '6/7/2017', '69', 'PICK', 'DODGE', '69-Failure to Disp Muni Recpt']\n",
            "['8481256500', '21530JX', 'NY', 'COM', '1/30/2017', '69', 'VAN', 'FORD', '69-Failure to Disp Muni Recpt']\n",
            "['8513914599', '65572JU', 'NY', 'COM', '6/9/2017', '69', 'VAN', 'FORD', '69-Failure to Disp Muni Recpt']\n",
            "['8479417420', 'AT459E', 'NJ', 'PAS', '4/13/2017', '69', 'DELV', 'FRUEH', '69-Failure to Disp Muni Recpt']\n",
            "['8479216670', 'D705HT', 'TN', 'PAS', '4/11/2017', '69', 'DELV', 'FRUEH', '69-Failure to Disp Muni Recpt']\n",
            "['8471301842', 'XZ223J', 'NJ', 'PAS', '8/30/2016', '69', 'DELV', 'FRUEH', '69-Failure to Disp Muni Recpt']\n",
            "['7268771216', '63383JT', 'NY', 'COM', '7/27/2016', '69', 'VAN', 'GMC', '69-Failure to Disp Muni Recpt']\n",
            "['8476768746', '91599ME', 'NY', 'COM', '4/13/2017', '69', 'REFG', 'HIN', '69-Failure to Disp Muni Recpt']\n",
            "['7868300310', '37033JV', 'NY', 'COM', '11/21/2016', '69', 'DELV', 'INTER', '69-Failure to Disp Muni Recpt']\n",
            "['8077552250', 'AS299T', 'NJ', 'PAS', '10/14/2016', '69', 'DELV', 'INTER', '69-Failure to Disp Muni Recpt']\n",
            "['8116524124', 'XDYD73', 'NJ', 'PAS', '10/6/2016', '69', 'DELV', 'ISUZU', '69-Failure to Disp Muni Recpt']\n",
            "['7393476988', 'GGR9506', 'NY', 'PAS', '7/20/2016', '70', '4DSD', 'AUDI', '70A-Reg. Sticker Expired (NYS)']\n",
            "['8527214490', 'GWG7018', 'NY', 'PAS', '5/16/2017', '70', 'SUBN', 'BMW', '70A-Reg. Sticker Expired (NYS)']\n",
            "['7077031019', 'GNV8363', 'NY', 'PAS', '9/7/2016', '70', 'SUBN', 'CADIL', '70A-Reg. Sticker Expired (NYS)']\n",
            "['8522772708', 'GWH8469', 'NY', 'PAS', '4/20/2017', '70', 'SUBN', 'CHRYS', '70A-Reg. Sticker Expired (NYS)']\n",
            "['8535702763', 'GTE6420', 'NY', 'PAS', '3/24/2017', '70', 'SUBN', 'FORD', '70A-Reg. Sticker Expired (NYS)']\n",
            "['7705894520', 'GYP6735', 'NY', 'OMS', '10/2/2016', '70', 'SUBN', 'FORD', '70A-Reg. Sticker Expired (NYS)']\n",
            "['8535150079', 'HMC7627', 'NY', 'PAS', '3/8/2017', '70', '4DSD', 'HYUND', '70A-Reg. Sticker Expired (NYS)']\n",
            "['7541990206', 'HGL9860', 'NY', 'PAS', '2/18/2017', '70', 'SUBN', 'JEEP', '70A-Reg. Sticker Expired (NYS)']\n",
            "['7074250855', 'GBV6820', 'NY', 'PAS', '11/5/2016', '70', 'SUBN', 'ME/BE', '70A-Reg. Sticker Expired (NYS)']\n",
            "['8419012245', 'GVM6317', 'NY', 'PAS', '1/27/2017', '70', '4DSD', 'ME/BE', '70A-Reg. Sticker Expired (NYS)']\n",
            "['8552067018', 'ACS8210', 'NY', 'PAS', '6/23/2017', '70', 'SUBN', 'NISSA', '70A-Reg. Sticker Expired (NYS)']\n",
            "['8490111753', 'GVH9098', 'NY', 'PAS', '1/25/2017', '70', '4DSD', 'NISSA', '70A-Reg. Sticker Expired (NYS)']\n",
            "['1423568710', 'GPG1213', 'NY', 'PAS', '3/19/2017', '70', 'SDN', 'SUBAR', '']\n",
            "['8363531900', 'GTC2970', 'NY', 'PAS', '2/8/2017', '70', '4DSD', 'TOYOT', '70A-Reg. Sticker Expired (NYS)']\n",
            "['8282021635', 'FBD7363', 'NY', 'PAS', '9/10/2016', '71', '4DSD', 'ACURA', '71A-Insp Sticker Expired (NYS)']\n",
            "['8551100002', 'HLA6845', 'NY', 'PAS', '4/5/2017', '71', '4DSD', 'BMW', '71-Insp. Sticker Missing (NYS']\n",
            "['8471891440', '42530MG', 'NY', 'COM', '2/28/2017', '71', 'DELV', 'CHEVR', '71A-Insp Sticker Expired (NYS)']\n",
            "['8555150875', 'ETF9022', 'NY', 'PAS', '5/2/2017', '71', 'SUBN', 'CHEVR', '71A-Insp Sticker Expired (NYS)']\n",
            "['8188582906', 'GMT8516', 'NY', 'PAS', '11/1/2016', '71', 'PICK', 'CHEVR', '71A-Insp Sticker Expired (NYS)']\n",
            "['8206527321', 'HCD4100', 'NY', 'PAS', '11/1/2016', '71', 'SUBN', 'CHEVR', '71A-Insp Sticker Expired (NYS)']\n",
            "['8519013259', 'HNY7165', 'NY', 'PAS', '5/16/2017', '71', 'SUBN', 'CHEVR', '71-Insp. Sticker Missing (NYS']\n",
            "['8145014311', 'HJV3061', 'NY', 'PAS', '12/13/2016', '71', 'SUBN', 'CHRYS', '71A-Insp Sticker Expired (NYS)']\n",
            "['8548503257', 'GWB7005', 'NY', 'PAS', '5/1/2017', '71', '4DSD', 'DODGE', '71A-Insp Sticker Expired (NYS)']\n",
            "['8235044468', 'FXX6545', 'NY', 'PAS', '10/19/2016', '71', 'SUBN', 'FORD', '71A-Insp Sticker Expired (NYS)']\n",
            "['7491184224', 'GAM6902', 'NY', 'PAS', '4/7/2017', '71', 'SUBN', 'FORD', '71A-Insp Sticker Expired (NYS)']\n",
            "['8559052999', 'GMR3386', 'NY', 'PAS', '5/13/2017', '71', 'SUBN', 'FORD', '71A-Insp Sticker Expired (NYS)']\n",
            "['8514728416', 'GYP8889', 'NY', 'PAS', '5/28/2017', '71', 'SUBN', 'FORD', '71A-Insp Sticker Expired (NYS)']\n",
            "['7162362357', 'GCE5560', 'NY', 'PAS', '8/5/2016', '71', '2DSD', 'HONDA', '71A-Insp Sticker Expired (NYS)']\n",
            "['8486910511', 'GXC5916', 'NY', 'PAS', '2/13/2017', '71', '4DSD', 'HONDA', '71A-Insp Sticker Expired (NYS)']\n",
            "['7959802142', 'HAE6612', 'NY', 'PAS', '11/22/2016', '71', '4DSD', 'HONDA', '71A-Insp Sticker Expired (NYS)']\n",
            "['8474512311', 'HLA6246', 'NY', 'PAS', '12/15/2016', '71', '4DSD', 'HONDA', '71-Insp. Sticker Missing (NYS']\n",
            "['1405823926', 'GDV1998', 'NY', 'PAS', '5/1/2017', '71', 'SUBN', 'HYUND', '']\n",
            "['8467031128', 'R9D509', 'NY', 'PAS', '12/24/2016', '71', 'SUBN', 'HYUND', '71A-Insp Sticker Expired (NYS)']\n",
            "['8378044166', 'HJV2326', 'NY', 'PAS', '10/18/2016', '71', '4DSD', 'INFIN', '71A-Insp Sticker Expired (NYS)']\n",
            "['8535421774', 'EGZ5296', 'NY', 'PAS', '5/21/2017', '71', 'SUBN', 'JEEP', '71A-Insp Sticker Expired (NYS)']\n",
            "['8263642668', 'HEA6308', 'NY', 'PAS', '2/16/2017', '71', 'SUBN', 'JEEP', '71A-Insp Sticker Expired (NYS)']\n",
            "['7067047705', 'HFF1432', 'NY', 'PAS', '9/23/2016', '71', 'SUBN', 'JEEP', '71A-Insp Sticker Expired (NYS)']\n",
            "['8168032202', 'GZN5776', 'NY', 'PAS', '8/3/2016', '71', '4DSD', 'LEXUS', '71A-Insp Sticker Expired (NYS)']\n",
            "['8507861787', 'HMY3697', 'NY', 'PAS', '4/10/2017', '71', 'SUBN', 'LEXUS', '71A-Insp Sticker Expired (NYS)']\n",
            "['8297047957', 'GUV7315', 'NY', 'PAS', '12/3/2016', '71', '4DSD', 'LINCO', '71A-Insp Sticker Expired (NYS)']\n",
            "['8472853342', 'HJN6543', 'NY', 'PAS', '10/4/2016', '71', '2DSD', 'LINCO', '71A-Insp Sticker Expired (NYS)']\n",
            "['8524860388', 'HGR2303', 'NY', 'PAS', '4/10/2017', '71', 'CONV', 'ME/BE', '71A-Insp Sticker Expired (NYS)']\n",
            "['8561753377', 'GWY8527', 'NY', 'PAS', '5/26/2017', '71', 'SUBN', 'MERCU', '71A-Insp Sticker Expired (NYS)']\n",
            "['8544876754', 'GBE4270', 'NY', 'PAS', '5/24/2017', '71', '4DSD', 'NISSA', '71A-Insp Sticker Expired (NYS)']\n",
            "['7803960030', 'HBU4265', 'NY', 'PAS', '1/7/2017', '71', '4DSD', 'NISSA', '71A-Insp Sticker Expired (NYS)']\n",
            "['7492597289', 'HDF5609', 'NY', 'PAS', '8/19/2016', '71', '4DSD', 'NISSA', '71A-Insp Sticker Expired (NYS)']\n",
            "['8400523477', 'HKT1200', 'NY', 'PAS', '11/28/2016', '71', '4DSD', 'NISSA', '71-Insp. Sticker Missing (NYS']\n",
            "['7646792536', 'T686872C', 'NY', 'OMT', '9/14/2016', '71', '4DSD', 'NISSA', '71A-Insp Sticker Expired (NYS)']\n",
            "['8208026335', 'DHW7141', 'NY', 'PAS', '8/5/2016', '71', '2DSD', 'NS/OT', '71A-Insp Sticker Expired (NYS)']\n",
            "['7959796476', 'GPY8489', 'NY', 'PAS', '10/6/2016', '71', 'SUBN', 'ROVER', '71A-Insp Sticker Expired (NYS)']\n",
            "['8509455028', '34632BB', 'NY', 'OMR', '2/12/2017', '71', 'BUS', 'STAR', '71A-Insp Sticker Expired (NYS)']\n",
            "['8393022400', 'HFP5696', 'NY', 'PAS', '11/16/2016', '71', 'SUBN', 'SUBAR', '71A-Insp Sticker Expired (NYS)']\n",
            "['8525217207', 'HGM9849', 'NY', 'PAS', '5/3/2017', '71', 'SUBN', 'SUBAR', '71A-Insp Sticker Expired (NYS)']\n",
            "['8562558047', 'CWP4893', 'NY', 'PAS', '6/1/2017', '71', 'SUBN', 'TOYOT', '71A-Insp Sticker Expired (NYS)']\n",
            "['8236037095', 'GMR8112', 'NY', 'PAS', '9/17/2016', '71', '2DSD', 'TOYOT', '71A-Insp Sticker Expired (NYS)']\n",
            "['8514463690', 'GMZ9712', 'NY', 'PAS', '3/30/2017', '71', '4DSD', 'TOYOT', '71A-Insp Sticker Expired (NYS)']\n",
            "['8358550790', 'HDY4158', 'NY', 'PAS', '2/18/2017', '71', '4DSD', 'TOYOT', '71A-Insp Sticker Expired (NYS)']\n",
            "['7959486440', 'GYF2052', 'NY', 'PAS', '7/7/2016', '71', '4DSD', 'VOLKS', '71-Insp. Sticker Missing (NYS']\n",
            "['8300538318', 'HFR6545', 'NY', 'PAS', '10/31/2016', '71', '4DSD', 'VOLVO', '71-Insp. Sticker Missing (NYS']\n",
            "['8523013120', 'HPN9774', 'NY', 'PAS', '4/6/2017', '74', '4DSD', 'CHEVR', '74-Missing Display Plate']\n",
            "['7008336767', 'HWL4734', 'PA', 'PAS', '1/14/2017', '74', '4DSD', 'CHEVR', '74A-Improperly Displayed Plate']\n",
            "['8397514636', 'FYW3850', 'NY', 'PAS', '10/22/2016', '74', 'SUBN', 'FORD', '74A-Improperly Displayed Plate']\n",
            "['8528912840', 'HNY5206', 'NY', 'PAS', '4/21/2017', '74', 'SUBN', 'GMC', '74A-Improperly Displayed Plate']\n",
            "['8511501113', 'FBP6836', 'NY', 'PAS', '2/16/2017', '74', 'SUBN', 'HONDA', '74-Missing Display Plate']\n",
            "['8276551890', 'HJR4081', 'NY', 'PAS', '1/7/2017', '74', 'SUBN', 'HONDA', '74A-Improperly Displayed Plate']\n",
            "['8214550531', 'HJY2207', 'NY', 'PAS', '3/9/2017', '74', '4DSD', 'HYUND', '74-Missing Display Plate']\n",
            "['8487469012', '27527ME', 'NY', 'COM', '1/27/2017', '74', 'DELV', 'INTER', '74-Missing Display Plate']\n",
            "['8034780236', 'HCD3158', 'NY', 'PAS', '9/2/2016', '74', 'SUBN', 'KIA', '74A-Improperly Displayed Plate']\n",
            "['8545052455', 'HMK1149', 'NY', 'PAS', '6/7/2017', '74', '4DSD', 'ME/BE', '74-Missing Display Plate']\n",
            "['1411263467', 'BLANKPLATE', '99', '999', '2/13/2017', '74', 'SDN', 'NISSA', '']\n",
            "['8540001550', 'HLA4803', 'NY', 'PAS', '3/23/2017', '74', '4DSD', 'SAAB', '74-Missing Display Plate']\n",
            "['8556155431', 'HFB9919', 'NY', 'PAS', '5/26/2017', '75', '4DSD', 'DODGE', '75-No Match-Plate/Reg. Sticker']\n",
            "['8394016790', '31690BB', 'NY', 'OMR', '9/6/2016', '77', 'BUS', 'AM/T', '77-Parked Bus (exc desig area)']\n",
            "['1419472306', '56090BA', 'NY', 'OMR', '2/20/2017', '77', 'BUS', 'INTER', '']\n",
            "['8363508688', '97256', 'MA', 'APP', '8/13/2016', '77', 'BUS', 'NS/OT', '77-Parked Bus (exc desig area)']\n",
            "['1407740258', '2513JMG', 'NY', 'COM', '1/11/2017', '78', 'DELV', 'FRUEH', '']\n",
            "['8081047670', 'AG84195', 'AZ', 'PAS', '9/1/2016', '78', 'DELV', 'GMC', '78-Nighttime PKG on Res Street']\n",
            "['8357010039', 'ZBK5659', 'PA', 'PAS', '9/16/2016', '78', 'FLAT', 'NS/OT', '78-Nighttime PKG on Res Street']\n",
            "['1408164401', 'GCP8663', 'NY', 'PAS', '9/30/2016', '80', 'SUBN', 'CHEVR', '']\n",
            "['7065087220', '35989MJ', 'NY', 'COM', '8/28/2016', '82', 'VAN', 'CHEVR', '82-Unaltered Commerc Vehicle']\n",
            "['8472028628', '80921MH', 'NY', 'COM', '1/30/2017', '82', 'VAN', 'CHEVR', '82-Unaltered Commerc Vehicle']\n",
            "['8413507250', 'XCGT11', 'NJ', 'PAS', '10/18/2016', '82', 'PICK', 'CHEVR', '82-Unaltered Commerc Vehicle']\n",
            "['8498413898', '2028133', 'IN', 'PAS', '5/24/2017', '84', 'DELV', 'FRUEH', '84-Platform lifts in low posit']\n",
            "['8484405837', '2028134', 'IN', 'PAS', '2/15/2017', '84', 'DELV', 'FRUEH', '84-Platform lifts in low posit']\n",
            "['8040125108', 'AT985A', 'NJ', 'PAS', '8/29/2016', '84', 'DELV', 'FRUEH', '84-Platform lifts in low posit']\n",
            "['8521821979', 'XJX4470', 'PA', 'PAS', '5/18/2017', '84', 'TR/C', 'FRUEH', '84-Platform lifts in low posit']\n",
            "['7662741072', 'XY237D', 'NJ', 'PAS', '8/9/2016', '84', 'DELV', 'HINO', '84-Platform lifts in low posit']\n",
            "['8529157072', '2380604', 'IN', 'PAS', '3/29/2017', '84', 'DELV', 'INTER', '84-Platform lifts in low posit']\n",
            "['8354508808', '21239MG', 'NY', 'COM', '9/9/2016', '84', 'DELV', 'MI/F', '84-Platform lifts in low posit']\n",
            "['1414702700', 'AT785J', 'NJ', 'PAS', '11/27/2016', '85', 'TRAC', 'FRUEH', '']\n",
            "['8466533837', 'XANK50', 'NJ', 'PAS', '4/29/2017', '85', 'DELV', 'HIN', '85-Storage-3 hour Commercial']\n",
            "['8525168063', 'HBN8474', 'NY', 'PAS', '5/30/2017', '91', 'SUBN', 'HONDA', '91-Veh for Sale (Dealer Only)']\n",
            "['1420730010', 'GFW3620', 'NY', 'PAS', '6/10/2017', '98', 'SUBN', 'CHEVR', '']\n",
            "['1414049870', 'EJS4309', 'NY', 'PAS', '8/5/2016', '98', 'SDN', 'NISSA', '']\n",
            "['1420795430', 'HBS5720', 'NY', 'PAS', '4/18/2017', '98', 'SDN', 'NISSA', '']\n"
          ]
        }
      ]
    },
    {
      "cell_type": "markdown",
      "source": [
        "### Case 2: data can be accessed outside context manager. WHY ?"
      ],
      "metadata": {
        "id": "p9UBWLf8m1BX"
      }
    },
    {
      "cell_type": "code",
      "source": [
        "class MyContextManager:\n",
        "    def __init__(self, _str):\n",
        "        self.data = \"data is confidential\"\n",
        "        self._str = _str\n",
        "        print(\"__init__ executed\")\n",
        "\n",
        "    def __enter__(self):\n",
        "        print(\"Entering context\")\n",
        "        return self\n",
        "\n",
        "    def __exit__(self, exc_type, exc_value, traceback):\n",
        "        print(\"Exiting context\")\n",
        "\n",
        "\n",
        "# m = MyContextManager(\"Adi\")\n",
        "def read_data():\n",
        "    with MyContextManager(\"Adi\") as my:\n",
        "        return my.data\n",
        "\n",
        "for row in read_data():\n",
        "    print(row)"
      ],
      "metadata": {
        "colab": {
          "base_uri": "https://localhost:8080/"
        },
        "id": "BDpD5fPuVULH",
        "outputId": "b88e165f-a462-4e28-dc7b-21b6200c4939"
      },
      "execution_count": null,
      "outputs": [
        {
          "output_type": "stream",
          "name": "stdout",
          "text": [
            "__init__ executed\n",
            "Entering context\n",
            "Exiting context\n",
            "d\n",
            "a\n",
            "t\n",
            "a\n",
            " \n",
            "i\n",
            "s\n",
            " \n",
            "c\n",
            "o\n",
            "n\n",
            "f\n",
            "i\n",
            "d\n",
            "e\n",
            "n\n",
            "t\n",
            "i\n",
            "a\n",
            "l\n"
          ]
        }
      ]
    },
    {
      "cell_type": "markdown",
      "source": [
        "### Unresolved Doubt: \n",
        "Why is this data printed after exiting context ?\n",
        "It should not be available to use after exiting context."
      ],
      "metadata": {
        "id": "JYLF1cyOXX18"
      }
    },
    {
      "cell_type": "markdown",
      "source": [
        "###INCORRECT SOLUTION\n",
        "Solution from internet: \n",
        "\n",
        "The 'with' statement only controls the creation and destruction of the context, but it does not affect the state of the context manager or its data.\n",
        "\n",
        "In other words, when you exit the context, the MyContextManager object is destroyed, but the data attribute still exists in memory until it is garbage collected. When you return the my.data value from the with statement, you are simply returning the value of the data attribute, which still exists in memory."
      ],
      "metadata": {
        "id": "ELVNuZAeYp9Y"
      }
    },
    {
      "cell_type": "code",
      "source": [
        "# Another code to achieve the privacy we need (delete data mannually when exiting context)\n",
        "class MyContextManager:\n",
        "    def __init__(self, _str):\n",
        "        self.data = \"data is confidential\"\n",
        "        self._str = _str\n",
        "        print(\"__init__ executed\")\n",
        "\n",
        "    def __enter__(self):\n",
        "        print(\"Entering context\")\n",
        "        return self\n",
        "\n",
        "    def __exit__(self, exc_type, exc_value, traceback):\n",
        "        print(\"Exiting context\")\n",
        "        del self.data\n",
        "\n",
        "def read_data():\n",
        "    with MyContextManager(\"Adi\") as my:\n",
        "        return my.data\n",
        "\n",
        "read_data()"
      ],
      "metadata": {
        "colab": {
          "base_uri": "https://localhost:8080/",
          "height": 87
        },
        "id": "F_nG9sNcZMLB",
        "outputId": "c3895c1f-ed2d-4b7b-f198-2ccf972b5693"
      },
      "execution_count": null,
      "outputs": [
        {
          "output_type": "stream",
          "name": "stdout",
          "text": [
            "__init__ executed\n",
            "Entering context\n",
            "Exiting context\n"
          ]
        },
        {
          "output_type": "execute_result",
          "data": {
            "text/plain": [
              "'data is confidential'"
            ],
            "application/vnd.google.colaboratory.intrinsic+json": {
              "type": "string"
            }
          },
          "metadata": {},
          "execution_count": 23
        }
      ]
    },
    {
      "cell_type": "markdown",
      "source": [
        "### Case 3: data cannot be accessed outside context manager. WHY ?\n",
        "####Similar code to case 1"
      ],
      "metadata": {
        "id": "4qVnLcy4lBC-"
      }
    },
    {
      "cell_type": "code",
      "source": [
        "# creating file\n",
        "f1 = open('nyc_parking_tickets_extract.csv', 'w')\n",
        "f1.writelines('''Summons Number,Plate ID,Registration State,Plate Type,Issue Date,Violation Code,Vehicle Body Type,Vehicle Make,Violation Description\n",
        "4006478550,VAD7274,VA,PAS,10/5/2016,5,4D,BMW,BUS LANE VIOLATION\n",
        "4006462396,22834JK,NY,COM,9/30/2016,5,VAN,CHEVR,BUS LANE VIOLATION\n",
        "4007117810,21791MG,NY,COM,4/10/2017,5,VAN,DODGE,BUS LANE VIOLATION\n",
        "4006265037,FZX9232,NY,PAS,8/23/2016,5,SUBN,FORD,BUS LANE VIOLATION\n",
        "4006535600,N203399C,NY,OMT,10/19/2016,5,SUBN,FORD,BUS LANE VIOLATION\n",
        "4007156700,92163MG,NY,COM,4/13/2017,5,VAN,FRUEH,BUS LANE VIOLATION\n",
        "4006687989,MIQ600,SC,PAS,11/21/2016,5,VN,HONDA,BUS LANE VIOLATION\n",
        "4006943052,2AE3984,MD,PAS,2/1/2017,5,SW,LINCO,BUS LANE VIOLATION''')\n",
        "f1.close()"
      ],
      "metadata": {
        "id": "4QKwRKuIlIkZ"
      },
      "execution_count": null,
      "outputs": []
    },
    {
      "cell_type": "code",
      "source": [
        "import csv\n",
        "\n",
        "def read_data():\n",
        "    with open('nyc_parking_tickets_extract.csv') as f:\n",
        "        return csv.reader(f, delimiter=',', quotechar='\"')\n",
        "\n",
        "for row in read_data():\n",
        "    print(row)"
      ],
      "metadata": {
        "colab": {
          "base_uri": "https://localhost:8080/",
          "height": 219
        },
        "id": "jB3mMwJvlF65",
        "outputId": "094c1b36-9a04-4151-d080-6028a657e44a"
      },
      "execution_count": null,
      "outputs": [
        {
          "output_type": "error",
          "ename": "ValueError",
          "evalue": "ignored",
          "traceback": [
            "\u001b[0;31m---------------------------------------------------------------------------\u001b[0m",
            "\u001b[0;31mValueError\u001b[0m                                Traceback (most recent call last)",
            "\u001b[0;32m<ipython-input-4-f09de51650bd>\u001b[0m in \u001b[0;36m<cell line: 7>\u001b[0;34m()\u001b[0m\n\u001b[1;32m      5\u001b[0m         \u001b[0;32mreturn\u001b[0m \u001b[0mcsv\u001b[0m\u001b[0;34m.\u001b[0m\u001b[0mreader\u001b[0m\u001b[0;34m(\u001b[0m\u001b[0mf\u001b[0m\u001b[0;34m,\u001b[0m \u001b[0mdelimiter\u001b[0m\u001b[0;34m=\u001b[0m\u001b[0;34m','\u001b[0m\u001b[0;34m,\u001b[0m \u001b[0mquotechar\u001b[0m\u001b[0;34m=\u001b[0m\u001b[0;34m'\"'\u001b[0m\u001b[0;34m)\u001b[0m\u001b[0;34m\u001b[0m\u001b[0;34m\u001b[0m\u001b[0m\n\u001b[1;32m      6\u001b[0m \u001b[0;34m\u001b[0m\u001b[0m\n\u001b[0;32m----> 7\u001b[0;31m \u001b[0;32mfor\u001b[0m \u001b[0mrow\u001b[0m \u001b[0;32min\u001b[0m \u001b[0mread_data\u001b[0m\u001b[0;34m(\u001b[0m\u001b[0;34m)\u001b[0m\u001b[0;34m:\u001b[0m\u001b[0;34m\u001b[0m\u001b[0;34m\u001b[0m\u001b[0m\n\u001b[0m\u001b[1;32m      8\u001b[0m     \u001b[0mprint\u001b[0m\u001b[0;34m(\u001b[0m\u001b[0mrow\u001b[0m\u001b[0;34m)\u001b[0m\u001b[0;34m\u001b[0m\u001b[0;34m\u001b[0m\u001b[0m\n",
            "\u001b[0;31mValueError\u001b[0m: I/O operation on closed file."
          ]
        }
      ]
    },
    {
      "cell_type": "markdown",
      "source": [
        "### Doubt:\n",
        "Why does this second case (open) work fine, but the first case (MyContextManager) does not ? "
      ],
      "metadata": {
        "id": "chckz1VCl5w6"
      }
    },
    {
      "cell_type": "markdown",
      "source": [
        "### Somewhat satisfactory solution\n",
        "In Case 1, the requests.get() method returns an HTTP response object that doesn't have a .close() method, so there's no way to close it manually. The response object is automatically closed when the with block ends, but until then, the response object is still available and the data can be accessed outside of the with block.\n",
        "\n",
        "In Case 3, the file object returned by the open() function does have a .close() method, which is called automatically when the with block ends. After the file is closed, any attempt to read from it will raise a ValueError: I/O operation on closed file. error.\n",
        "\n",
        "Regarding your last question, if a context manager doesn't have a way of closing the resources it manages, then the data will be available outside the context manager as long as the resources remain open. However, it's generally a good practice to define a way of closing the resources in a context manager to ensure that they're always properly closed and to avoid resource leaks or other problems."
      ],
      "metadata": {
        "id": "n5Mf_lixp40Z"
      }
    },
    {
      "cell_type": "code",
      "source": [
        "class DataIterator:\n",
        "    def __init__(self, fname):\n",
        "        print(\"__init__\")\n",
        "        self._fname = fname\n",
        "        self._f = None\n",
        "    \n",
        "    def __iter__(self):\n",
        "        print(\"__iter__\")\n",
        "        return self\n",
        "    \n",
        "    def __next__(self):\n",
        "        print(\"__next__\")\n",
        "        row = next(self._f)\n",
        "        return row.strip('\\n').split(',')\n",
        "    \n",
        "    def __enter__(self):\n",
        "        print(\"__enter__\")\n",
        "        self._f = open(self._fname)\n",
        "        return self\n",
        "    \n",
        "    def __exit__(self, exc_type, exc_value, exc_tb):\n",
        "        print(\"__exit__\")\n",
        "        if not self._f.closed:\n",
        "            self._f.close()\n",
        "        return False"
      ],
      "metadata": {
        "id": "L956-nOgrlQs"
      },
      "execution_count": null,
      "outputs": []
    },
    {
      "cell_type": "code",
      "source": [
        "with DataIterator('nyc_parking_tickets_extract.csv') as data:\n",
        "    for row in data:\n",
        "        print(row)"
      ],
      "metadata": {
        "colab": {
          "base_uri": "https://localhost:8080/"
        },
        "id": "rPXVv2L3rnmb",
        "outputId": "368eb24e-4de4-4e1a-c3bc-3f033c5981ac"
      },
      "execution_count": null,
      "outputs": [
        {
          "output_type": "stream",
          "name": "stdout",
          "text": [
            "__init__\n",
            "__enter__\n",
            "__iter__\n",
            "__next__\n",
            "['Summons Number', 'Plate ID', 'Registration State', 'Plate Type', 'Issue Date', 'Violation Code', 'Vehicle Body Type', 'Vehicle Make', 'Violation Description']\n",
            "__next__\n",
            "['4006478550', 'VAD7274', 'VA', 'PAS', '10/5/2016', '5', '4D', 'BMW', 'BUS LANE VIOLATION']\n",
            "__next__\n",
            "['4006462396', '22834JK', 'NY', 'COM', '9/30/2016', '5', 'VAN', 'CHEVR', 'BUS LANE VIOLATION']\n",
            "__next__\n",
            "['4007117810', '21791MG', 'NY', 'COM', '4/10/2017', '5', 'VAN', 'DODGE', 'BUS LANE VIOLATION']\n",
            "__next__\n",
            "['4006265037', 'FZX9232', 'NY', 'PAS', '8/23/2016', '5', 'SUBN', 'FORD', 'BUS LANE VIOLATION']\n",
            "__next__\n",
            "['4006535600', 'N203399C', 'NY', 'OMT', '10/19/2016', '5', 'SUBN', 'FORD', 'BUS LANE VIOLATION']\n",
            "__next__\n",
            "['4007156700', '92163MG', 'NY', 'COM', '4/13/2017', '5', 'VAN', 'FRUEH', 'BUS LANE VIOLATION']\n",
            "__next__\n",
            "['4006687989', 'MIQ600', 'SC', 'PAS', '11/21/2016', '5', 'VN', 'HONDA', 'BUS LANE VIOLATION']\n",
            "__next__\n",
            "['4006943052', '2AE3984', 'MD', 'PAS', '2/1/2017', '5', 'SW', 'LINCO', 'BUS LANE VIOLATION']\n",
            "__next__\n",
            "__exit__\n"
          ]
        }
      ]
    },
    {
      "cell_type": "markdown",
      "source": [
        "### Super important sequence BYME:\n",
        "\n",
        "\n",
        "1.   __init__\n",
        "2.   __enter__\n",
        "3.   __iter__\n",
        "4.   __next__\n",
        "5.   (INSIDE with Context manager)\n",
        "6.   __next__\n",
        "(after __next__ is called after every iteration of 5., and this cycle between  and 6. is repeated till __next__ returns STOP ITERATION \n",
        "7.   __exit__\n",
        "\n"
      ],
      "metadata": {
        "id": "NIg1wqMYf62P"
      }
    },
    {
      "cell_type": "markdown",
      "source": [
        "## 04 - Additional Uses.ipynb"
      ],
      "metadata": {
        "id": "5iZARjaxfsqm"
      }
    },
    {
      "cell_type": "markdown",
      "source": [
        "### Context in decimal"
      ],
      "metadata": {
        "id": "5QP79BmCvlJG"
      }
    },
    {
      "cell_type": "code",
      "source": [
        "import decimal\n",
        "\n",
        "decimal.getcontext().prec = 4\n",
        "print(decimal.Decimal(1) / decimal.Decimal(3))\n",
        "decimal.getcontext().prec = 28\n",
        "print(decimal.Decimal(1) / decimal.Decimal(3))"
      ],
      "metadata": {
        "colab": {
          "base_uri": "https://localhost:8080/"
        },
        "id": "or64HKrqvrjr",
        "outputId": "85a510c5-3d79-4221-c289-1f648fba2a6e"
      },
      "execution_count": null,
      "outputs": [
        {
          "output_type": "stream",
          "name": "stdout",
          "text": [
            "0.3333\n",
            "0.3333333333333333333333333333\n"
          ]
        }
      ]
    },
    {
      "cell_type": "markdown",
      "source": [
        "other uses were timers, html tags, etc...."
      ],
      "metadata": {
        "id": "438SGLyZyIue"
      }
    },
    {
      "cell_type": "markdown",
      "source": [
        "## 05 - Generators and Context Managers.ipynb"
      ],
      "metadata": {
        "id": "gCOlYpHVyTw2"
      }
    },
    {
      "cell_type": "markdown",
      "source": [
        "Let's see how we might write something that almost behaves like a context manager, using a generator function:"
      ],
      "metadata": {
        "id": "-Jqb7p_yy4XZ"
      }
    },
    {
      "cell_type": "code",
      "source": [
        "def my_gen():\n",
        "    try:\n",
        "        print('creating context and yielding object')\n",
        "        lst = [1, 2, 3, 4, 5]\n",
        "        yield lst\n",
        "    finally:\n",
        "        print('exiting context and cleaning up')"
      ],
      "metadata": {
        "id": "T7gMF7jHyZXn"
      },
      "execution_count": null,
      "outputs": []
    },
    {
      "cell_type": "code",
      "source": [
        "gen = my_gen()\n",
        "lst = next(gen)\n",
        "print(lst)\n",
        "try:\n",
        "    next(gen)\n",
        "except StopIteration:\n",
        "    pass"
      ],
      "metadata": {
        "colab": {
          "base_uri": "https://localhost:8080/"
        },
        "id": "5HigYhs2zBDU",
        "outputId": "8dba0fb9-71ec-42f2-86ec-69492fdd790f"
      },
      "execution_count": null,
      "outputs": [
        {
          "output_type": "stream",
          "name": "stdout",
          "text": [
            "creating context and yielding object\n",
            "[1, 2, 3, 4, 5]\n",
            "exiting context and cleaning up\n"
          ]
        }
      ]
    },
    {
      "cell_type": "markdown",
      "source": [
        "### Similar example"
      ],
      "metadata": {
        "id": "Wz2nhN0B19NA"
      }
    },
    {
      "cell_type": "code",
      "source": [
        "class GenCtxManager:\n",
        "    def __init__(self, gen_func, *args, **kwargs):\n",
        "        self._gen = gen_func(*args, **kwargs)\n",
        "        \n",
        "    def __enter__(self):\n",
        "        return next(self._gen)\n",
        "    \n",
        "    def __exit__(self, exc_type, exc_value, exc_tb):\n",
        "        try:\n",
        "            next(self._gen)\n",
        "        except StopIteration:\n",
        "            pass\n",
        "        return False"
      ],
      "metadata": {
        "id": "ZOOn915L2zBv"
      },
      "execution_count": null,
      "outputs": []
    },
    {
      "cell_type": "code",
      "source": [
        "def open_file(fname, mode):\n",
        "    try:\n",
        "        print('opening file...')\n",
        "        f = open(fname, mode)\n",
        "        yield f\n",
        "    finally:\n",
        "        print('closing file...')\n",
        "        f.close()"
      ],
      "metadata": {
        "id": "kZpXu8zB2CGN"
      },
      "execution_count": null,
      "outputs": []
    },
    {
      "cell_type": "code",
      "source": [
        "with GenCtxManager(open_file, 'test.txt', 'w') as f:\n",
        "    print('writing to file...')\n",
        "    f.write('testing...')"
      ],
      "metadata": {
        "colab": {
          "base_uri": "https://localhost:8080/"
        },
        "id": "ufOkvf112DEQ",
        "outputId": "94b9a06f-8cc6-45e3-bbd5-243bba458a5b"
      },
      "execution_count": null,
      "outputs": [
        {
          "output_type": "stream",
          "name": "stdout",
          "text": [
            "opening file...\n",
            "writing to file...\n",
            "closing file...\n"
          ]
        }
      ]
    },
    {
      "cell_type": "code",
      "source": [
        "with open('test.txt') as f:\n",
        "    print(next(f))"
      ],
      "metadata": {
        "colab": {
          "base_uri": "https://localhost:8080/"
        },
        "id": "XkRyygYH2Fav",
        "outputId": "656ed6d7-d904-4c64-f0c5-3dac20d25f19"
      },
      "execution_count": null,
      "outputs": [
        {
          "output_type": "stream",
          "name": "stdout",
          "text": [
            "testing...\n"
          ]
        }
      ]
    },
    {
      "cell_type": "markdown",
      "source": [
        "## 06 - The contextmanager Decorator.ipynb"
      ],
      "metadata": {
        "id": "vDoiPwuF2Uu3"
      }
    },
    {
      "cell_type": "markdown",
      "source": [
        "\n",
        "\n",
        "Recall the basic structure our generator function needs to have:\n",
        "\n",
        "\n",
        "\n",
        "```\n",
        "def gen(args):\n",
        "    # set up happens here, or inside try (__init__ code here)\n",
        "    try:\n",
        "        yield obj # whatever normally gets returned by __enter__\n",
        "    finally:\n",
        "        # perform clean up code here (since, finally runs always, so we use this space to write __exit__ code.\n",
        "```"
      ],
      "metadata": {
        "id": "QOUYF8lYd-Mf"
      }
    },
    {
      "cell_type": "markdown",
      "source": [
        "#### Revision of Decorators"
      ],
      "metadata": {
        "id": "Kla2gfmWed3Y"
      }
    },
    {
      "cell_type": "code",
      "source": [
        "def my_decorator(func):\n",
        "    def wrapper():\n",
        "        print(\"Before function is called.\")\n",
        "        func()\n",
        "        print(\"After function is called.\")\n",
        "    return wrapper\n",
        "\n",
        "@my_decorator\n",
        "def say_hello():\n",
        "    print(\"Hello!\")\n",
        "\n",
        "say_hello()"
      ],
      "metadata": {
        "colab": {
          "base_uri": "https://localhost:8080/"
        },
        "id": "Rrv3vAl7GjRC",
        "outputId": "95441674-2e89-4adc-a925-811fb6499765"
      },
      "execution_count": null,
      "outputs": [
        {
          "output_type": "stream",
          "name": "stdout",
          "text": [
            "Before function is called.\n",
            "Hello!\n",
            "After function is called.\n"
          ]
        }
      ]
    },
    {
      "cell_type": "markdown",
      "source": [
        "### Simple Context Manager decoractor using generator"
      ],
      "metadata": {
        "id": "Ubq30KA0ydrV"
      }
    },
    {
      "cell_type": "code",
      "source": [
        "# creating file\n",
        "f1 = open('nyc_parking_tickets_extract.csv', 'w')\n",
        "f1.writelines('''Summons Number,Plate ID,Registration State,Plate Type,Issue Date,Violation Code,Vehicle Body Type,Vehicle Make,Violation Description\n",
        "4006478550,VAD7274,VA,PAS,10/5/2016,5,4D,BMW,BUS LANE VIOLATION\n",
        "4006462396,22834JK,NY,COM,9/30/2016,5,VAN,CHEVR,BUS LANE VIOLATION\n",
        "4007117810,21791MG,NY,COM,4/10/2017,5,VAN,DODGE,BUS LANE VIOLATION\n",
        "4006265037,FZX9232,NY,PAS,8/23/2016,5,SUBN,FORD,BUS LANE VIOLATION\n",
        "4006535600,N203399C,NY,OMT,10/19/2016,5,SUBN,FORD,BUS LANE VIOLATION\n",
        "4007156700,92163MG,NY,COM,4/13/2017,5,VAN,FRUEH,BUS LANE VIOLATION\n",
        "4006687989,MIQ600,SC,PAS,11/21/2016,5,VN,HONDA,BUS LANE VIOLATION\n",
        "4006943052,2AE3984,MD,PAS,2/1/2017,5,SW,LINCO,BUS LANE VIOLATION''')\n",
        "f1.close()"
      ],
      "metadata": {
        "id": "q3wb8id-zXfA"
      },
      "execution_count": null,
      "outputs": []
    },
    {
      "cell_type": "code",
      "source": [
        "class GenContextManager:\n",
        "    def __init__(self, gen):\n",
        "        self.gen = gen\n",
        "        \n",
        "    def __enter__(self):\n",
        "        return next(self.gen)\n",
        "        \n",
        "    def __exit__(self, exc_type, exc_value, exc_tb):\n",
        "        print('calling next to perform cleanup in generator')\n",
        "        try:\n",
        "            next(self.gen)\n",
        "        except StopIteration:\n",
        "            pass\n",
        "        return False"
      ],
      "metadata": {
        "id": "VhAPMMAozIKO"
      },
      "execution_count": null,
      "outputs": []
    },
    {
      "cell_type": "code",
      "source": [
        "def context_manager_dec(gen_fn):\n",
        "    def helper(*args, **kwargs):\n",
        "        gen = gen_fn(*args, **kwargs)\n",
        "        ctx = GenContextManager(gen)\n",
        "        return ctx\n",
        "    return helper"
      ],
      "metadata": {
        "id": "LBEbi7D8ypCr"
      },
      "execution_count": null,
      "outputs": []
    },
    {
      "cell_type": "code",
      "source": [
        "@context_manager_dec\n",
        "def open_file(fname, mode='r'):\n",
        "    print('opening file...')\n",
        "    f = open(fname, mode)\n",
        "    try:\n",
        "        yield f\n",
        "    finally:\n",
        "        print('closing file...')\n",
        "        f.close()    "
      ],
      "metadata": {
        "id": "5nkUmiqjyw4f"
      },
      "execution_count": null,
      "outputs": []
    },
    {
      "cell_type": "code",
      "source": [
        "with open_file('nyc_parking_tickets_extract.csv') as f:\n",
        "    print(f.readlines())"
      ],
      "metadata": {
        "colab": {
          "base_uri": "https://localhost:8080/"
        },
        "id": "x2Nc3uBoy2Ez",
        "outputId": "a63b1c1b-3b30-40d3-962e-adca5b1bc702"
      },
      "execution_count": null,
      "outputs": [
        {
          "output_type": "stream",
          "name": "stdout",
          "text": [
            "opening file...\n",
            "['Summons Number,Plate ID,Registration State,Plate Type,Issue Date,Violation Code,Vehicle Body Type,Vehicle Make,Violation Description\\n', '4006478550,VAD7274,VA,PAS,10/5/2016,5,4D,BMW,BUS LANE VIOLATION\\n', '4006462396,22834JK,NY,COM,9/30/2016,5,VAN,CHEVR,BUS LANE VIOLATION\\n', '4007117810,21791MG,NY,COM,4/10/2017,5,VAN,DODGE,BUS LANE VIOLATION\\n', '4006265037,FZX9232,NY,PAS,8/23/2016,5,SUBN,FORD,BUS LANE VIOLATION\\n', '4006535600,N203399C,NY,OMT,10/19/2016,5,SUBN,FORD,BUS LANE VIOLATION\\n', '4007156700,92163MG,NY,COM,4/13/2017,5,VAN,FRUEH,BUS LANE VIOLATION\\n', '4006687989,MIQ600,SC,PAS,11/21/2016,5,VN,HONDA,BUS LANE VIOLATION\\n', '4006943052,2AE3984,MD,PAS,2/1/2017,5,SW,LINCO,BUS LANE VIOLATION']\n",
            "calling next to perform cleanup in generator\n",
            "closing file...\n"
          ]
        }
      ]
    },
    {
      "cell_type": "markdown",
      "source": [
        "### Context manager Using standard library \n",
        "in fact that was one of the critical goals of Python's context managers - the ability to create context managers using generator functions (see PEP 343)."
      ],
      "metadata": {
        "id": "D6TC44NMyT1e"
      }
    },
    {
      "cell_type": "code",
      "source": [
        "from contextlib import contextmanager"
      ],
      "metadata": {
        "id": "tBqhWPn8yTXP"
      },
      "execution_count": null,
      "outputs": []
    },
    {
      "cell_type": "code",
      "source": [
        "@contextmanager\n",
        "def open_file(fname, mode='r'):\n",
        "    print('opening file...')\n",
        "    f = open(fname, mode)\n",
        "    try:\n",
        "        yield f\n",
        "    finally:\n",
        "        print('closing file...')\n",
        "        f.close() "
      ],
      "metadata": {
        "id": "SJmVDbbR0DuC"
      },
      "execution_count": null,
      "outputs": []
    },
    {
      "cell_type": "code",
      "source": [
        "with open_file('nyc_parking_tickets_extract.csv') as f:\n",
        "    print(f.readlines())"
      ],
      "metadata": {
        "colab": {
          "base_uri": "https://localhost:8080/"
        },
        "id": "3OMTRidv0DiG",
        "outputId": "0c434d96-0a2c-4393-b172-40b0ae179606"
      },
      "execution_count": null,
      "outputs": [
        {
          "output_type": "stream",
          "name": "stdout",
          "text": [
            "opening file...\n",
            "['Summons Number,Plate ID,Registration State,Plate Type,Issue Date,Violation Code,Vehicle Body Type,Vehicle Make,Violation Description\\n', '4006478550,VAD7274,VA,PAS,10/5/2016,5,4D,BMW,BUS LANE VIOLATION\\n', '4006462396,22834JK,NY,COM,9/30/2016,5,VAN,CHEVR,BUS LANE VIOLATION\\n', '4007117810,21791MG,NY,COM,4/10/2017,5,VAN,DODGE,BUS LANE VIOLATION\\n', '4006265037,FZX9232,NY,PAS,8/23/2016,5,SUBN,FORD,BUS LANE VIOLATION\\n', '4006535600,N203399C,NY,OMT,10/19/2016,5,SUBN,FORD,BUS LANE VIOLATION\\n', '4007156700,92163MG,NY,COM,4/13/2017,5,VAN,FRUEH,BUS LANE VIOLATION\\n', '4006687989,MIQ600,SC,PAS,11/21/2016,5,VN,HONDA,BUS LANE VIOLATION\\n', '4006943052,2AE3984,MD,PAS,2/1/2017,5,SW,LINCO,BUS LANE VIOLATION']\n",
            "closing file...\n"
          ]
        }
      ]
    },
    {
      "cell_type": "markdown",
      "source": [
        "### IN SHORT BYME\n",
        "Simply write @context manager at the while defining the fn\n",
        "and then use \"with\" to call that.\n",
        "(Look at above example) "
      ],
      "metadata": {
        "id": "o-D4xmCR0hdH"
      }
    },
    {
      "cell_type": "markdown",
      "source": [
        "### Note:\n",
        "We can also write to a file like below method:\n",
        "\n",
        "\n",
        "```\n",
        "    file = open(fname, 'w')\n",
        "    sys.stdout = file\n",
        "    file.close()\n",
        "```"
      ],
      "metadata": {
        "id": "vUYnQQYM1Rfv"
      }
    },
    {
      "cell_type": "markdown",
      "source": [
        "The contextlib module actually implements a stdout redirect context manager (shown below)"
      ],
      "metadata": {
        "id": "-kTw7G3q1_Xb"
      }
    },
    {
      "cell_type": "code",
      "source": [
        "from contextlib import redirect_stdout\n",
        "\n",
        "with open('test.txt', 'w') as f:\n",
        "    with redirect_stdout(f):\n",
        "        print('Look on the bright side of life')\n",
        "\n",
        "with open('test.txt') as f:\n",
        "    print(f.readlines())"
      ],
      "metadata": {
        "colab": {
          "base_uri": "https://localhost:8080/"
        },
        "id": "BtxRswrz1ZYF",
        "outputId": "4978a20a-2e13-437d-cd39-640c6e1ba5a7"
      },
      "execution_count": null,
      "outputs": [
        {
          "output_type": "stream",
          "name": "stdout",
          "text": [
            "['Look on the bright side of life\\n']\n"
          ]
        }
      ]
    },
    {
      "cell_type": "markdown",
      "source": [
        "## 07 - Nested Context Managers\n",
        "Link: https://github.com/fbaptiste/python-deepdive/blob/main/Part%202/Section%2010%20-%20Context%20Managers/07%20-%20Nested%20Context%20Managers/Nested%20Context%20Managers.ipynb\n"
      ],
      "metadata": {
        "id": "C5Wn0ML62O3a"
      }
    },
    {
      "cell_type": "markdown",
      "source": [
        "continue for IN [8]"
      ],
      "metadata": {
        "id": "kJc_1XE26HGQ"
      }
    },
    {
      "cell_type": "markdown",
      "source": [
        "### Revision BYME: else with try--except--finally\n",
        "\n",
        "![try_except_else_finally.webp](data:image/webp;base64,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)"
      ],
      "metadata": {
        "id": "ph-Sn8Xkx44F"
      }
    },
    {
      "cell_type": "markdown",
      "source": [
        "### 1. Manually creating Nested Contexts"
      ],
      "metadata": {
        "id": "XEvUS4d9x4nY"
      }
    },
    {
      "cell_type": "code",
      "source": [
        "# creating some files\n",
        "with open('file1.txt', 'w') as f:\n",
        "    f.writelines('''file1_line1\n",
        "    file1_line2\n",
        "    file1_line3''')\n",
        "with open('file2.txt', 'w') as f:\n",
        "    f.writelines('''file2_line1\n",
        "    file2_line2\n",
        "    file3_line3''')\n",
        "with open('file3.txt', 'w') as f:\n",
        "    f.writelines('''file3_line1\n",
        "    file3_line2\n",
        "    file3_line3''')"
      ],
      "metadata": {
        "id": "7wz5OcrSGOPJ"
      },
      "execution_count": null,
      "outputs": []
    },
    {
      "cell_type": "code",
      "source": [
        "class NestedContexts:\n",
        "    def __init__(self):\n",
        "        self._exits = []\n",
        "        \n",
        "    def __enter__(self):\n",
        "        return self\n",
        "\n",
        "    def enter_context(self, ctx):\n",
        "        self._exits.append(ctx.__exit__)\n",
        "        value = ctx.__enter__()\n",
        "        return value\n",
        "        \n",
        "    def __exit__(self, exc_type, exc_value, exc_tb):\n",
        "        for exit in self._exits[::-1]:\n",
        "            exit(exc_type, exc_value, exc_tb)\n",
        "        return False"
      ],
      "metadata": {
        "id": "80A9HkW156bD"
      },
      "execution_count": null,
      "outputs": []
    },
    {
      "cell_type": "code",
      "source": [
        "# checking the working of it here\n",
        "f_names = 'file1.txt', 'file2.txt', 'file3.txt'\n",
        "\n",
        "with NestedContexts() as stack:\n",
        "    files = [stack.enter_context(open(f_name)) for f_name in f_names]\n",
        "    \n",
        "    while True:\n",
        "        try:\n",
        "            rows = [next(f).strip('\\n') for f in files]\n",
        "        except StopIteration:\n",
        "            break\n",
        "        else:\n",
        "            row = ','.join(rows)\n",
        "            print(row)"
      ],
      "metadata": {
        "colab": {
          "base_uri": "https://localhost:8080/"
        },
        "id": "I430JyjPHjSg",
        "outputId": "0ff4fb8e-00d5-43f7-cd32-0d6f6df8272b"
      },
      "execution_count": null,
      "outputs": [
        {
          "output_type": "stream",
          "name": "stdout",
          "text": [
            "file1_line1,file2_line1,file3_line1\n",
            "    file1_line2,    file2_line2,    file3_line2\n",
            "    file1_line3,    file3_line3,    file3_line3\n"
          ]
        }
      ]
    },
    {
      "cell_type": "markdown",
      "source": [
        "### Implimenting Same thing using contextlib library\n",
        "The contextlib has an ExitStack context manager that works the same way as our NestedContexts, but, unlike our approach, it actually does exception handling properly too!"
      ],
      "metadata": {
        "id": "VeI6W63aGyJh"
      }
    },
    {
      "cell_type": "code",
      "source": [
        "from contextlib import ExitStack"
      ],
      "metadata": {
        "id": "x7APWyzbISY2"
      },
      "execution_count": null,
      "outputs": []
    },
    {
      "cell_type": "code",
      "source": [
        "f_names = 'file1.txt', 'file2.txt', 'file3.txt'\n",
        "\n",
        "with ExitStack() as stack:\n",
        "    files = [stack.enter_context(open(f_name))\n",
        "            for f_name in f_names]\n",
        "    while True:\n",
        "        try:\n",
        "            rows = [next(f).strip('\\n') for f in files]\n",
        "        except StopIteration:\n",
        "            break\n",
        "        else:\n",
        "            row = ','.join(rows)\n",
        "            print(row)"
      ],
      "metadata": {
        "colab": {
          "base_uri": "https://localhost:8080/"
        },
        "id": "lGGUjhBPIWBV",
        "outputId": "c72cc5d8-8c6d-4320-c66e-fee81574815c"
      },
      "execution_count": null,
      "outputs": [
        {
          "output_type": "stream",
          "name": "stdout",
          "text": [
            "file1_line1,file2_line1,file3_line1\n",
            "    file1_line2,    file2_line2,    file3_line2\n",
            "    file1_line3,    file3_line3,    file3_line3\n"
          ]
        }
      ]
    },
    {
      "cell_type": "markdown",
      "source": [
        "# Section 11 - Project 5"
      ],
      "metadata": {
        "id": "aJISWd4QIrGp"
      }
    },
    {
      "cell_type": "markdown",
      "source": [
        "## Goal 1\n",
        "\n",
        "For this goal, you are given a number of CSV files, each of which have their first row with the field name.\n",
        "\n",
        "You goal is to create a context manager that you can use to produce the data from each file in a named tuple with field names corresponding to the header row field names.\n",
        "\n",
        "You should use the csv module's reader function to help with parsing the data.\n",
        "\n",
        "Your context manager should be generic in the sense that it should just need the file name, no other configuration or hardcoded functionality is required. You do not need to worry about data types for this goal - just return every field as a string.\n",
        "\n",
        "In addition, your context manager should produce lazy iterators.\n",
        "\n",
        "Implement this using a class that implements the context manager protocol\n",
        "\n",
        "\n",
        "### Goal 1 in short Byme: \n",
        "1. create a list of named tuple of data from csv files\n",
        "2. use csv.reader to parse data\n",
        "3. create generic, lazy context manager class. Implement this using a class that implements the context manager protocol\n",
        "\n",
        "**input:** filename\n",
        "**output:** just return every field as a string.\n"
      ],
      "metadata": {
        "id": "vXhXx_WQzfzN"
      }
    },
    {
      "cell_type": "code",
      "source": [
        "import requests\n",
        "import csv\n",
        "import collections\n",
        "\n",
        "cars_csv_url = \"https://raw.githubusercontent.com/fbaptiste/python-deepdive/main/Part%202/Section%2011%20-%20Project%205/01%20-%20Description/cars.csv\"\n",
        "personal_info_csv_url = \"https://raw.githubusercontent.com/fbaptiste/python-deepdive/main/Part%202/Section%2011%20-%20Project%205/01%20-%20Description/personal_info.csv\""
      ],
      "metadata": {
        "id": "0OCT4F8dI3iw"
      },
      "execution_count": null,
      "outputs": []
    },
    {
      "cell_type": "code",
      "source": [
        "class GenericContextManager:\n",
        "  def __init__(self, url):\n",
        "    self.url = url\n",
        "  \n",
        "  def parser(self, valueList):\n",
        "    parsedList = []\n",
        "    for value in valueList:\n",
        "      if \".\" in value:\n",
        "        try:\n",
        "          parsedList.append(float(value))\n",
        "        except ValueError:\n",
        "          parsedList.append(value)\n",
        "      else:\n",
        "        try:\n",
        "          parsedList.append(int(value))\n",
        "        except ValueError:\n",
        "          parsedList.append(value)\n",
        "    return parsedList\n",
        "\n",
        "    # reading elements lazily\n",
        "  def extract_values_in_row(self):\n",
        "    response = requests.get(self.url)\n",
        "    lines = response.content.decode().splitlines()\n",
        "    reader = csv.reader(lines)\n",
        "    for row in reader:\n",
        "      if \";\" in row[0]:\n",
        "        yield self.parser(row[0].strip(\"\\n\").split(\";\"))\n",
        "      else:\n",
        "        yield self.parser(row)\n",
        "    # returns list of elements in the row as string\n",
        "\n",
        "  def __enter__(self):\n",
        "    return self\n",
        "  \n",
        "  def __exit__(self, exc_type, exc_value, exc_tb):\n",
        "        del self\n",
        "        return False"
      ],
      "metadata": {
        "id": "vM4lzQ4X8h3D"
      },
      "execution_count": null,
      "outputs": []
    },
    {
      "cell_type": "code",
      "source": [
        "cars_Object = GenericContextManager(cars_csv_url)\n",
        "personal_info_Object = GenericContextManager(personal_info_csv_url)\n",
        "\n",
        "# creating namedtuples\n",
        "cars_rows = cars_Object.extract_values_in_row()\n",
        "cars_data = collections.namedtuple(\"cars_data_class\", next(cars_rows))   # extracted first row (header) to use as a field in cars_data\n",
        "personal_info_rows = personal_info_Object.extract_values_in_row()\n",
        "personal_info_data = collections.namedtuple(\"personal_info_data_class\", next(personal_info_rows))   # extracted first row (header) to use as a field in personal_info_data"
      ],
      "metadata": {
        "id": "A3DsaXf-Km09"
      },
      "execution_count": null,
      "outputs": []
    },
    {
      "cell_type": "code",
      "source": [
        "# Create instances of the named tuple class and store them in a list\n",
        "cars_data_list = [cars_data(*row) for row in cars_rows]\n",
        "personal_info_data_list = [personal_info_data(*row) for row in personal_info_rows]"
      ],
      "metadata": {
        "id": "bPTW2-TcGzJ3"
      },
      "execution_count": null,
      "outputs": []
    },
    {
      "cell_type": "code",
      "source": [
        "print(cars_data_list)\n",
        "print(personal_info_data_list)"
      ],
      "metadata": {
        "colab": {
          "base_uri": "https://localhost:8080/"
        },
        "id": "hFYtJECsIh06",
        "outputId": "68aa84e2-a712-4682-d345-0a90e1ec7212"
      },
      "execution_count": null,
      "outputs": [
        {
          "output_type": "stream",
          "name": "stdout",
          "text": [
            "[cars_data_class(Car='Chevrolet Chevelle Malibu', MPG=18.0, Cylinders=8, Displacement=307.0, Horsepower=130.0, Weight=3504.0, Acceleration=12.0, Model=70, Origin='US'), cars_data_class(Car='Buick Skylark 320', MPG=15.0, Cylinders=8, Displacement=350.0, Horsepower=165.0, Weight=3693.0, Acceleration=11.5, Model=70, Origin='US'), cars_data_class(Car='Plymouth Satellite', MPG=18.0, Cylinders=8, Displacement=318.0, Horsepower=150.0, Weight=3436.0, Acceleration=11.0, Model=70, Origin='US'), cars_data_class(Car='AMC Rebel SST', MPG=16.0, Cylinders=8, Displacement=304.0, Horsepower=150.0, Weight=3433.0, Acceleration=12.0, Model=70, Origin='US'), cars_data_class(Car='Ford Torino', MPG=17.0, Cylinders=8, Displacement=302.0, Horsepower=140.0, Weight=3449.0, Acceleration=10.5, Model=70, Origin='US'), cars_data_class(Car='Ford Galaxie 500', MPG=15.0, Cylinders=8, Displacement=429.0, Horsepower=198.0, Weight=4341.0, Acceleration=10.0, Model=70, Origin='US'), cars_data_class(Car='Chevrolet Impala', MPG=14.0, Cylinders=8, Displacement=454.0, Horsepower=220.0, Weight=4354.0, Acceleration=9.0, Model=70, Origin='US'), cars_data_class(Car='Plymouth Fury iii', MPG=14.0, Cylinders=8, Displacement=440.0, Horsepower=215.0, Weight=4312.0, Acceleration=8.5, Model=70, Origin='US'), cars_data_class(Car='Pontiac Catalina', MPG=14.0, Cylinders=8, Displacement=455.0, Horsepower=225.0, Weight=4425.0, Acceleration=10.0, Model=70, Origin='US'), cars_data_class(Car='AMC Ambassador DPL', MPG=15.0, Cylinders=8, Displacement=390.0, Horsepower=190.0, Weight=3850.0, Acceleration=8.5, Model=70, Origin='US'), cars_data_class(Car='Citroen DS-21 Pallas', MPG=0, Cylinders=4, Displacement=133.0, Horsepower=115.0, Weight=3090.0, Acceleration=17.5, Model=70, Origin='Europe'), cars_data_class(Car='Chevrolet Chevelle Concours (sw)', MPG=0, Cylinders=8, Displacement=350.0, Horsepower=165.0, Weight=4142.0, Acceleration=11.5, Model=70, Origin='US'), cars_data_class(Car='Ford Torino (sw)', MPG=0, Cylinders=8, Displacement=351.0, Horsepower=153.0, Weight=4034.0, Acceleration=11.0, Model=70, Origin='US'), cars_data_class(Car='Plymouth Satellite (sw)', MPG=0, Cylinders=8, Displacement=383.0, Horsepower=175.0, Weight=4166.0, Acceleration=10.5, Model=70, Origin='US'), cars_data_class(Car='AMC Rebel SST (sw)', MPG=0, Cylinders=8, Displacement=360.0, Horsepower=175.0, Weight=3850.0, Acceleration=11.0, Model=70, Origin='US'), cars_data_class(Car='Dodge Challenger SE', MPG=15.0, Cylinders=8, Displacement=383.0, Horsepower=170.0, Weight=3563.0, Acceleration=10.0, Model=70, Origin='US'), cars_data_class(Car=\"Plymouth 'Cuda 340\", MPG=14.0, Cylinders=8, Displacement=340.0, Horsepower=160.0, Weight=3609.0, Acceleration=8.0, Model=70, Origin='US'), cars_data_class(Car='Ford Mustang Boss 302', MPG=0, Cylinders=8, Displacement=302.0, Horsepower=140.0, Weight=3353.0, Acceleration=8.0, Model=70, Origin='US'), cars_data_class(Car='Chevrolet Monte Carlo', MPG=15.0, Cylinders=8, Displacement=400.0, Horsepower=150.0, Weight=3761.0, Acceleration=9.5, Model=70, Origin='US'), cars_data_class(Car='Buick Estate Wagon (sw)', MPG=14.0, Cylinders=8, Displacement=455.0, Horsepower=225.0, Weight=3086.0, Acceleration=10.0, Model=70, Origin='US'), cars_data_class(Car='Toyota Corolla Mark ii', MPG=24.0, Cylinders=4, Displacement=113.0, Horsepower=95.0, Weight=2372.0, Acceleration=15.0, Model=70, Origin='Japan'), cars_data_class(Car='Plymouth Duster', MPG=22.0, Cylinders=6, Displacement=198.0, Horsepower=95.0, Weight=2833.0, Acceleration=15.5, Model=70, Origin='US'), cars_data_class(Car='AMC Hornet', MPG=18.0, Cylinders=6, Displacement=199.0, Horsepower=97.0, Weight=2774.0, Acceleration=15.5, Model=70, Origin='US'), cars_data_class(Car='Ford Maverick', MPG=21.0, Cylinders=6, Displacement=200.0, Horsepower=85.0, Weight=2587.0, Acceleration=16.0, Model=70, Origin='US'), cars_data_class(Car='Datsun PL510', MPG=27.0, Cylinders=4, Displacement=97.0, Horsepower=88.0, Weight=2130.0, Acceleration=14.5, Model=70, Origin='Japan'), cars_data_class(Car='Volkswagen 1131 Deluxe Sedan', MPG=26.0, Cylinders=4, Displacement=97.0, Horsepower=46.0, Weight=1835.0, Acceleration=20.5, Model=70, Origin='Europe'), cars_data_class(Car='Peugeot 504', MPG=25.0, Cylinders=4, Displacement=110.0, Horsepower=87.0, Weight=2672.0, Acceleration=17.5, Model=70, Origin='Europe'), cars_data_class(Car='Audi 100 LS', MPG=24.0, Cylinders=4, Displacement=107.0, Horsepower=90.0, Weight=2430.0, Acceleration=14.5, Model=70, Origin='Europe'), cars_data_class(Car='Saab 99e', MPG=25.0, Cylinders=4, Displacement=104.0, Horsepower=95.0, Weight=2375.0, Acceleration=17.5, Model=70, Origin='Europe'), cars_data_class(Car='BMW 2002', MPG=26.0, Cylinders=4, Displacement=121.0, Horsepower=113.0, Weight=2234.0, Acceleration=12.5, Model=70, Origin='Europe'), cars_data_class(Car='AMC Gremlin', MPG=21.0, Cylinders=6, Displacement=199.0, Horsepower=90.0, Weight=2648.0, Acceleration=15.0, Model=70, Origin='US'), cars_data_class(Car='Ford F250', MPG=10.0, Cylinders=8, Displacement=360.0, Horsepower=215.0, Weight=4615.0, Acceleration=14.0, Model=70, Origin='US'), cars_data_class(Car='Chevy C20', MPG=10.0, Cylinders=8, Displacement=307.0, Horsepower=200.0, Weight=4376.0, Acceleration=15.0, Model=70, Origin='US'), cars_data_class(Car='Dodge D200', MPG=11.0, Cylinders=8, Displacement=318.0, Horsepower=210.0, Weight=4382.0, Acceleration=13.5, Model=70, Origin='US'), cars_data_class(Car='Hi 1200D', MPG=9.0, Cylinders=8, Displacement=304.0, Horsepower=193.0, Weight=4732.0, Acceleration=18.5, Model=70, Origin='US'), cars_data_class(Car='Datsun PL510', MPG=27.0, Cylinders=4, Displacement=97.0, Horsepower=88.0, Weight=2130.0, Acceleration=14.5, Model=71, Origin='Japan'), cars_data_class(Car='Chevrolet Vega 2300', MPG=28.0, Cylinders=4, Displacement=140.0, Horsepower=90.0, Weight=2264.0, Acceleration=15.5, Model=71, Origin='US'), cars_data_class(Car='Toyota Corolla', MPG=25.0, Cylinders=4, Displacement=113.0, Horsepower=95.0, Weight=2228.0, Acceleration=14.0, Model=71, Origin='Japan'), cars_data_class(Car='Ford Pinto', MPG=25.0, Cylinders=4, Displacement=98.0, Horsepower=0, Weight=2046.0, Acceleration=19.0, Model=71, Origin='US'), cars_data_class(Car='Volkswagen Super Beetle 117', MPG=0, Cylinders=4, Displacement=97.0, Horsepower=48.0, Weight=1978.0, Acceleration=20.0, Model=71, Origin='Europe'), cars_data_class(Car='AMC Gremlin', MPG=19.0, Cylinders=6, Displacement=232.0, Horsepower=100.0, Weight=2634.0, Acceleration=13.0, Model=71, Origin='US'), cars_data_class(Car='Plymouth Satellite Custom', MPG=16.0, Cylinders=6, Displacement=225.0, Horsepower=105.0, Weight=3439.0, Acceleration=15.5, Model=71, Origin='US'), cars_data_class(Car='Chevrolet Chevelle Malibu', MPG=17.0, Cylinders=6, Displacement=250.0, Horsepower=100.0, Weight=3329.0, Acceleration=15.5, Model=71, Origin='US'), cars_data_class(Car='Ford Torino 500', MPG=19.0, Cylinders=6, Displacement=250.0, Horsepower=88.0, Weight=3302.0, Acceleration=15.5, Model=71, Origin='US'), cars_data_class(Car='AMC Matador', MPG=18.0, Cylinders=6, Displacement=232.0, Horsepower=100.0, Weight=3288.0, Acceleration=15.5, Model=71, Origin='US'), cars_data_class(Car='Chevrolet Impala', MPG=14.0, Cylinders=8, Displacement=350.0, Horsepower=165.0, Weight=4209.0, Acceleration=12.0, Model=71, Origin='US'), cars_data_class(Car='Pontiac Catalina Brougham', MPG=14.0, Cylinders=8, Displacement=400.0, Horsepower=175.0, Weight=4464.0, Acceleration=11.5, Model=71, Origin='US'), cars_data_class(Car='Ford Galaxie 500', MPG=14.0, Cylinders=8, Displacement=351.0, Horsepower=153.0, Weight=4154.0, Acceleration=13.5, Model=71, Origin='US'), cars_data_class(Car='Plymouth Fury iii', MPG=14.0, Cylinders=8, Displacement=318.0, Horsepower=150.0, Weight=4096.0, Acceleration=13.0, Model=71, Origin='US'), cars_data_class(Car='Dodge Monaco (sw)', MPG=12.0, Cylinders=8, Displacement=383.0, Horsepower=180.0, Weight=4955.0, Acceleration=11.5, Model=71, Origin='US'), cars_data_class(Car='Ford Country Squire (sw)', MPG=13.0, Cylinders=8, Displacement=400.0, Horsepower=170.0, Weight=4746.0, Acceleration=12.0, Model=71, Origin='US'), cars_data_class(Car='Pontiac Safari (sw)', MPG=13.0, Cylinders=8, Displacement=400.0, Horsepower=175.0, Weight=5140.0, Acceleration=12.0, Model=71, Origin='US'), cars_data_class(Car='AMC Hornet Sportabout (sw)', MPG=18.0, Cylinders=6, Displacement=258.0, Horsepower=110.0, Weight=2962.0, Acceleration=13.5, Model=71, Origin='US'), cars_data_class(Car='Chevrolet Vega (sw)', MPG=22.0, Cylinders=4, Displacement=140.0, Horsepower=72.0, Weight=2408.0, Acceleration=19.0, Model=71, Origin='US'), cars_data_class(Car='Pontiac Firebird', MPG=19.0, Cylinders=6, Displacement=250.0, Horsepower=100.0, Weight=3282.0, Acceleration=15.0, Model=71, Origin='US'), cars_data_class(Car='Ford Mustang', MPG=18.0, Cylinders=6, Displacement=250.0, Horsepower=88.0, Weight=3139.0, Acceleration=14.5, Model=71, Origin='US'), cars_data_class(Car='Mercury Capri 2000', MPG=23.0, Cylinders=4, Displacement=122.0, Horsepower=86.0, Weight=2220.0, Acceleration=14.0, Model=71, Origin='US'), cars_data_class(Car='Opel 1900', MPG=28.0, Cylinders=4, Displacement=116.0, Horsepower=90.0, Weight=2123.0, Acceleration=14.0, Model=71, Origin='Europe'), cars_data_class(Car='Peugeot 304', MPG=30.0, Cylinders=4, Displacement=79.0, Horsepower=70.0, Weight=2074.0, Acceleration=19.5, Model=71, Origin='Europe'), cars_data_class(Car='Fiat 124B', MPG=30.0, Cylinders=4, Displacement=88.0, Horsepower=76.0, Weight=2065.0, Acceleration=14.5, Model=71, Origin='Europe'), cars_data_class(Car='Toyota Corolla 1200', MPG=31.0, Cylinders=4, Displacement=71.0, Horsepower=65.0, Weight=1773.0, Acceleration=19.0, Model=71, Origin='Japan'), cars_data_class(Car='Datsun 1200', MPG=35.0, Cylinders=4, Displacement=72.0, Horsepower=69.0, Weight=1613.0, Acceleration=18.0, Model=71, Origin='Japan'), cars_data_class(Car='Volkswagen Model 111', MPG=27.0, Cylinders=4, Displacement=97.0, Horsepower=60.0, Weight=1834.0, Acceleration=19.0, Model=71, Origin='Europe'), cars_data_class(Car='Plymouth Cricket', MPG=26.0, Cylinders=4, Displacement=91.0, Horsepower=70.0, Weight=1955.0, Acceleration=20.5, Model=71, Origin='US'), cars_data_class(Car='Toyota Corolla Hardtop', MPG=24.0, Cylinders=4, Displacement=113.0, Horsepower=95.0, Weight=2278.0, Acceleration=15.5, Model=72, Origin='Japan'), cars_data_class(Car='Dodge Colt Hardtop', MPG=25.0, Cylinders=4, Displacement=97.5, Horsepower=80.0, Weight=2126.0, Acceleration=17.0, Model=72, Origin='US'), cars_data_class(Car='Volkswagen Type 3', MPG=23.0, Cylinders=4, Displacement=97.0, Horsepower=54.0, Weight=2254.0, Acceleration=23.5, Model=72, Origin='Europe'), cars_data_class(Car='Chevrolet Vega', MPG=20.0, Cylinders=4, Displacement=140.0, Horsepower=90.0, Weight=2408.0, Acceleration=19.5, Model=72, Origin='US'), cars_data_class(Car='Ford Pinto Runabout', MPG=21.0, Cylinders=4, Displacement=122.0, Horsepower=86.0, Weight=2226.0, Acceleration=16.5, Model=72, Origin='US'), cars_data_class(Car='Chevrolet Impala', MPG=13.0, Cylinders=8, Displacement=350.0, Horsepower=165.0, Weight=4274.0, Acceleration=12.0, Model=72, Origin='US'), cars_data_class(Car='Pontiac Catalina', MPG=14.0, Cylinders=8, Displacement=400.0, Horsepower=175.0, Weight=4385.0, Acceleration=12.0, Model=72, Origin='US'), cars_data_class(Car='Plymouth Fury III', MPG=15.0, Cylinders=8, Displacement=318.0, Horsepower=150.0, Weight=4135.0, Acceleration=13.5, Model=72, Origin='US'), cars_data_class(Car='Ford Galaxie 500', MPG=14.0, Cylinders=8, Displacement=351.0, Horsepower=153.0, Weight=4129.0, Acceleration=13.0, Model=72, Origin='US'), cars_data_class(Car='AMC Ambassador SST', MPG=17.0, Cylinders=8, Displacement=304.0, Horsepower=150.0, Weight=3672.0, Acceleration=11.5, Model=72, Origin='US'), cars_data_class(Car='Mercury Marquis', MPG=11.0, Cylinders=8, Displacement=429.0, Horsepower=208.0, Weight=4633.0, Acceleration=11.0, Model=72, Origin='US'), cars_data_class(Car='Buick LeSabre Custom', MPG=13.0, Cylinders=8, Displacement=350.0, Horsepower=155.0, Weight=4502.0, Acceleration=13.5, Model=72, Origin='US'), cars_data_class(Car='Oldsmobile Delta 88 Royale', MPG=12.0, Cylinders=8, Displacement=350.0, Horsepower=160.0, Weight=4456.0, Acceleration=13.5, Model=72, Origin='US'), cars_data_class(Car='Chrysler Newport Royal', MPG=13.0, Cylinders=8, Displacement=400.0, Horsepower=190.0, Weight=4422.0, Acceleration=12.5, Model=72, Origin='US'), cars_data_class(Car='Mazda RX2 Coupe', MPG=19.0, Cylinders=3, Displacement=70.0, Horsepower=97.0, Weight=2330.0, Acceleration=13.5, Model=72, Origin='Japan'), cars_data_class(Car='AMC Matador (sw)', MPG=15.0, Cylinders=8, Displacement=304.0, Horsepower=150.0, Weight=3892.0, Acceleration=12.5, Model=72, Origin='US'), cars_data_class(Car='Chevrolet Chevelle Concours (sw)', MPG=13.0, Cylinders=8, Displacement=307.0, Horsepower=130.0, Weight=4098.0, Acceleration=14.0, Model=72, Origin='US'), cars_data_class(Car='Ford Gran Torino (sw)', MPG=13.0, Cylinders=8, Displacement=302.0, Horsepower=140.0, Weight=4294.0, Acceleration=16.0, Model=72, Origin='US'), cars_data_class(Car='Plymouth Satellite Custom (sw)', MPG=14.0, Cylinders=8, Displacement=318.0, Horsepower=150.0, Weight=4077.0, Acceleration=14.0, Model=72, Origin='US'), cars_data_class(Car='Volvo 145e (sw)', MPG=18.0, Cylinders=4, Displacement=121.0, Horsepower=112.0, Weight=2933.0, Acceleration=14.5, Model=72, Origin='Europe'), cars_data_class(Car='Volkswagen 411 (sw)', MPG=22.0, Cylinders=4, Displacement=121.0, Horsepower=76.0, Weight=2511.0, Acceleration=18.0, Model=72, Origin='Europe'), cars_data_class(Car='Peugeot 504 (sw)', MPG=21.0, Cylinders=4, Displacement=120.0, Horsepower=87.0, Weight=2979.0, Acceleration=19.5, Model=72, Origin='Europe'), cars_data_class(Car='Renault 12 (sw)', MPG=26.0, Cylinders=4, Displacement=96.0, Horsepower=69.0, Weight=2189.0, Acceleration=18.0, Model=72, Origin='Europe'), cars_data_class(Car='Ford Pinto (sw)', MPG=22.0, Cylinders=4, Displacement=122.0, Horsepower=86.0, Weight=2395.0, Acceleration=16.0, Model=72, Origin='US'), cars_data_class(Car='Datsun 510 (sw)', MPG=28.0, Cylinders=4, Displacement=97.0, Horsepower=92.0, Weight=2288.0, Acceleration=17.0, Model=72, Origin='Japan'), cars_data_class(Car='Toyota Corolla Mark II (sw)', MPG=23.0, Cylinders=4, Displacement=120.0, Horsepower=97.0, Weight=2506.0, Acceleration=14.5, Model=72, Origin='Japan'), cars_data_class(Car='Dodge Colt (sw)', MPG=28.0, Cylinders=4, Displacement=98.0, Horsepower=80.0, Weight=2164.0, Acceleration=15.0, Model=72, Origin='US'), cars_data_class(Car='Toyota Corolla 1600 (sw)', MPG=27.0, Cylinders=4, Displacement=97.0, Horsepower=88.0, Weight=2100.0, Acceleration=16.5, Model=72, Origin='Japan'), cars_data_class(Car='Buick Century 350', MPG=13.0, Cylinders=8, Displacement=350.0, Horsepower=175.0, Weight=4100.0, Acceleration=13.0, Model=73, Origin='US'), cars_data_class(Car='AMC Matador', MPG=14.0, Cylinders=8, Displacement=304.0, Horsepower=150.0, Weight=3672.0, Acceleration=11.5, Model=73, Origin='US'), cars_data_class(Car='Chevrolet Malibu', MPG=13.0, Cylinders=8, Displacement=350.0, Horsepower=145.0, Weight=3988.0, Acceleration=13.0, Model=73, Origin='US'), cars_data_class(Car='Ford Gran Torino', MPG=14.0, Cylinders=8, Displacement=302.0, Horsepower=137.0, Weight=4042.0, Acceleration=14.5, Model=73, Origin='US'), cars_data_class(Car='Dodge Coronet Custom', MPG=15.0, Cylinders=8, Displacement=318.0, Horsepower=150.0, Weight=3777.0, Acceleration=12.5, Model=73, Origin='US'), cars_data_class(Car='Mercury Marquis Brougham', MPG=12.0, Cylinders=8, Displacement=429.0, Horsepower=198.0, Weight=4952.0, Acceleration=11.5, Model=73, Origin='US'), cars_data_class(Car='Chevrolet Caprice Classic', MPG=13.0, Cylinders=8, Displacement=400.0, Horsepower=150.0, Weight=4464.0, Acceleration=12.0, Model=73, Origin='US'), cars_data_class(Car='Ford LTD', MPG=13.0, Cylinders=8, Displacement=351.0, Horsepower=158.0, Weight=4363.0, Acceleration=13.0, Model=73, Origin='US'), cars_data_class(Car='Plymouth Fury Gran Sedan', MPG=14.0, Cylinders=8, Displacement=318.0, Horsepower=150.0, Weight=4237.0, Acceleration=14.5, Model=73, Origin='US'), cars_data_class(Car='Chrysler New Yorker Brougham', MPG=13.0, Cylinders=8, Displacement=440.0, Horsepower=215.0, Weight=4735.0, Acceleration=11.0, Model=73, Origin='US'), cars_data_class(Car='Buick Electra 225 Custom', MPG=12.0, Cylinders=8, Displacement=455.0, Horsepower=225.0, Weight=4951.0, Acceleration=11.0, Model=73, Origin='US'), cars_data_class(Car='AMC Ambassador Brougham', MPG=13.0, Cylinders=8, Displacement=360.0, Horsepower=175.0, Weight=3821.0, Acceleration=11.0, Model=73, Origin='US'), cars_data_class(Car='Plymouth Valiant', MPG=18.0, Cylinders=6, Displacement=225.0, Horsepower=105.0, Weight=3121.0, Acceleration=16.5, Model=73, Origin='US'), cars_data_class(Car='Chevrolet Nova Custom', MPG=16.0, Cylinders=6, Displacement=250.0, Horsepower=100.0, Weight=3278.0, Acceleration=18.0, Model=73, Origin='US'), cars_data_class(Car='AMC Hornet', MPG=18.0, Cylinders=6, Displacement=232.0, Horsepower=100.0, Weight=2945.0, Acceleration=16.0, Model=73, Origin='US'), cars_data_class(Car='Ford Maverick', MPG=18.0, Cylinders=6, Displacement=250.0, Horsepower=88.0, Weight=3021.0, Acceleration=16.5, Model=73, Origin='US'), cars_data_class(Car='Plymouth Duster', MPG=23.0, Cylinders=6, Displacement=198.0, Horsepower=95.0, Weight=2904.0, Acceleration=16.0, Model=73, Origin='US'), cars_data_class(Car='Volkswagen Super Beetle', MPG=26.0, Cylinders=4, Displacement=97.0, Horsepower=46.0, Weight=1950.0, Acceleration=21.0, Model=73, Origin='Europe'), cars_data_class(Car='Chevrolet Impala', MPG=11.0, Cylinders=8, Displacement=400.0, Horsepower=150.0, Weight=4997.0, Acceleration=14.0, Model=73, Origin='US'), cars_data_class(Car='Ford Country', MPG=12.0, Cylinders=8, Displacement=400.0, Horsepower=167.0, Weight=4906.0, Acceleration=12.5, Model=73, Origin='US'), cars_data_class(Car='Plymouth Custom Suburb', MPG=13.0, Cylinders=8, Displacement=360.0, Horsepower=170.0, Weight=4654.0, Acceleration=13.0, Model=73, Origin='US'), cars_data_class(Car='Oldsmobile Vista Cruiser', MPG=12.0, Cylinders=8, Displacement=350.0, Horsepower=180.0, Weight=4499.0, Acceleration=12.5, Model=73, Origin='US'), cars_data_class(Car='AMC Gremlin', MPG=18.0, Cylinders=6, Displacement=232.0, Horsepower=100.0, Weight=2789.0, Acceleration=15.0, Model=73, Origin='US'), cars_data_class(Car='Toyota Camry', MPG=20.0, Cylinders=4, Displacement=97.0, Horsepower=88.0, Weight=2279.0, Acceleration=19.0, Model=73, Origin='Japan'), cars_data_class(Car='Chevrolet Vega', MPG=21.0, Cylinders=4, Displacement=140.0, Horsepower=72.0, Weight=2401.0, Acceleration=19.5, Model=73, Origin='US'), cars_data_class(Car='Datsun 610', MPG=22.0, Cylinders=4, Displacement=108.0, Horsepower=94.0, Weight=2379.0, Acceleration=16.5, Model=73, Origin='Japan'), cars_data_class(Car='Mazda RX3', MPG=18.0, Cylinders=3, Displacement=70.0, Horsepower=90.0, Weight=2124.0, Acceleration=13.5, Model=73, Origin='Japan'), cars_data_class(Car='Ford Pinto', MPG=19.0, Cylinders=4, Displacement=122.0, Horsepower=85.0, Weight=2310.0, Acceleration=18.5, Model=73, Origin='US'), cars_data_class(Car='Mercury Capri v6', MPG=21.0, Cylinders=6, Displacement=155.0, Horsepower=107.0, Weight=2472.0, Acceleration=14.0, Model=73, Origin='US'), cars_data_class(Car='Fiat 124 Sport Coupe', MPG=26.0, Cylinders=4, Displacement=98.0, Horsepower=90.0, Weight=2265.0, Acceleration=15.5, Model=73, Origin='Europe'), cars_data_class(Car='Chevrolet Monte Carlo S', MPG=15.0, Cylinders=8, Displacement=350.0, Horsepower=145.0, Weight=4082.0, Acceleration=13.0, Model=73, Origin='US'), cars_data_class(Car='Pontiac Grand Prix', MPG=16.0, Cylinders=8, Displacement=400.0, Horsepower=230.0, Weight=4278.0, Acceleration=9.5, Model=73, Origin='US'), cars_data_class(Car='Fiat 128', MPG=29.0, Cylinders=4, Displacement=68.0, Horsepower=49.0, Weight=1867.0, Acceleration=19.5, Model=73, Origin='Europe'), cars_data_class(Car='Opel Manta', MPG=24.0, Cylinders=4, Displacement=116.0, Horsepower=75.0, Weight=2158.0, Acceleration=15.5, Model=73, Origin='Europe'), cars_data_class(Car='Audi 100LS', MPG=20.0, Cylinders=4, Displacement=114.0, Horsepower=91.0, Weight=2582.0, Acceleration=14.0, Model=73, Origin='Europe'), cars_data_class(Car='Volvo 144ea', MPG=19.0, Cylinders=4, Displacement=121.0, Horsepower=112.0, Weight=2868.0, Acceleration=15.5, Model=73, Origin='Europe'), cars_data_class(Car='Dodge Dart Custom', MPG=15.0, Cylinders=8, Displacement=318.0, Horsepower=150.0, Weight=3399.0, Acceleration=11.0, Model=73, Origin='US'), cars_data_class(Car='Saab 99le', MPG=24.0, Cylinders=4, Displacement=121.0, Horsepower=110.0, Weight=2660.0, Acceleration=14.0, Model=73, Origin='Europe'), cars_data_class(Car='Toyota Mark II', MPG=20.0, Cylinders=6, Displacement=156.0, Horsepower=122.0, Weight=2807.0, Acceleration=13.5, Model=73, Origin='Japan'), cars_data_class(Car='Oldsmobile Omega', MPG=11.0, Cylinders=8, Displacement=350.0, Horsepower=180.0, Weight=3664.0, Acceleration=11.0, Model=73, Origin='US'), cars_data_class(Car='Plymouth Duster', MPG=20.0, Cylinders=6, Displacement=198.0, Horsepower=95.0, Weight=3102.0, Acceleration=16.5, Model=74, Origin='US'), cars_data_class(Car='Ford Maverick', MPG=21.0, Cylinders=6, Displacement=200.0, Horsepower=0, Weight=2875.0, Acceleration=17.0, Model=74, Origin='US'), cars_data_class(Car='AMC Hornet', MPG=19.0, Cylinders=6, Displacement=232.0, Horsepower=100.0, Weight=2901.0, Acceleration=16.0, Model=74, Origin='US'), cars_data_class(Car='Chevrolet Nova', MPG=15.0, Cylinders=6, Displacement=250.0, Horsepower=100.0, Weight=3336.0, Acceleration=17.0, Model=74, Origin='US'), cars_data_class(Car='Datsun B210', MPG=31.0, Cylinders=4, Displacement=79.0, Horsepower=67.0, Weight=1950.0, Acceleration=19.0, Model=74, Origin='Japan'), cars_data_class(Car='Ford Pinto', MPG=26.0, Cylinders=4, Displacement=122.0, Horsepower=80.0, Weight=2451.0, Acceleration=16.5, Model=74, Origin='US'), cars_data_class(Car='Toyota Corolla 1200', MPG=32.0, Cylinders=4, Displacement=71.0, Horsepower=65.0, Weight=1836.0, Acceleration=21.0, Model=74, Origin='Japan'), cars_data_class(Car='Chevrolet Vega', MPG=25.0, Cylinders=4, Displacement=140.0, Horsepower=75.0, Weight=2542.0, Acceleration=17.0, Model=74, Origin='US'), cars_data_class(Car='Chevrolet Chevelle Malibu Classic', MPG=16.0, Cylinders=6, Displacement=250.0, Horsepower=100.0, Weight=3781.0, Acceleration=17.0, Model=74, Origin='US'), cars_data_class(Car='AMC Matador', MPG=16.0, Cylinders=6, Displacement=258.0, Horsepower=110.0, Weight=3632.0, Acceleration=18.0, Model=74, Origin='US'), cars_data_class(Car='Plymouth Satellite Sebring', MPG=18.0, Cylinders=6, Displacement=225.0, Horsepower=105.0, Weight=3613.0, Acceleration=16.5, Model=74, Origin='US'), cars_data_class(Car='Ford Gran Torino', MPG=16.0, Cylinders=8, Displacement=302.0, Horsepower=140.0, Weight=4141.0, Acceleration=14.0, Model=74, Origin='US'), cars_data_class(Car='Buick Century Luxus (sw)', MPG=13.0, Cylinders=8, Displacement=350.0, Horsepower=150.0, Weight=4699.0, Acceleration=14.5, Model=74, Origin='US'), cars_data_class(Car='Dodge Coronet Custom (sw)', MPG=14.0, Cylinders=8, Displacement=318.0, Horsepower=150.0, Weight=4457.0, Acceleration=13.5, Model=74, Origin='US'), cars_data_class(Car='Ford Gran Torino (sw)', MPG=14.0, Cylinders=8, Displacement=302.0, Horsepower=140.0, Weight=4638.0, Acceleration=16.0, Model=74, Origin='US'), cars_data_class(Car='AMC Matador (sw)', MPG=14.0, Cylinders=8, Displacement=304.0, Horsepower=150.0, Weight=4257.0, Acceleration=15.5, Model=74, Origin='US'), cars_data_class(Car='Audi Fox', MPG=29.0, Cylinders=4, Displacement=98.0, Horsepower=83.0, Weight=2219.0, Acceleration=16.5, Model=74, Origin='Europe'), cars_data_class(Car='Volkswagen Dasher', MPG=26.0, Cylinders=4, Displacement=79.0, Horsepower=67.0, Weight=1963.0, Acceleration=15.5, Model=74, Origin='Europe'), cars_data_class(Car='Opel Manta', MPG=26.0, Cylinders=4, Displacement=97.0, Horsepower=78.0, Weight=2300.0, Acceleration=14.5, Model=74, Origin='Europe'), cars_data_class(Car='Toyota Corolla', MPG=31.0, Cylinders=4, Displacement=76.0, Horsepower=52.0, Weight=1649.0, Acceleration=16.5, Model=74, Origin='Japan'), cars_data_class(Car='Datsun 710', MPG=32.0, Cylinders=4, Displacement=83.0, Horsepower=61.0, Weight=2003.0, Acceleration=19.0, Model=74, Origin='Japan'), cars_data_class(Car='Dodge Colt', MPG=28.0, Cylinders=4, Displacement=90.0, Horsepower=75.0, Weight=2125.0, Acceleration=14.5, Model=74, Origin='US'), cars_data_class(Car='Fiat 128', MPG=24.0, Cylinders=4, Displacement=90.0, Horsepower=75.0, Weight=2108.0, Acceleration=15.5, Model=74, Origin='Europe'), cars_data_class(Car='Fiat 124 TC', MPG=26.0, Cylinders=4, Displacement=116.0, Horsepower=75.0, Weight=2246.0, Acceleration=14.0, Model=74, Origin='Europe'), cars_data_class(Car='Honda Civic', MPG=24.0, Cylinders=4, Displacement=120.0, Horsepower=97.0, Weight=2489.0, Acceleration=15.0, Model=74, Origin='Japan'), cars_data_class(Car='Subaru', MPG=26.0, Cylinders=4, Displacement=108.0, Horsepower=93.0, Weight=2391.0, Acceleration=15.5, Model=74, Origin='Japan'), cars_data_class(Car='Fiat x1.9', MPG=31.0, Cylinders=4, Displacement=79.0, Horsepower=67.0, Weight=2000.0, Acceleration=16.0, Model=74, Origin='Europe'), cars_data_class(Car='Plymouth Valiant Custom', MPG=19.0, Cylinders=6, Displacement=225.0, Horsepower=95.0, Weight=3264.0, Acceleration=16.0, Model=75, Origin='US'), cars_data_class(Car='Chevrolet Nova', MPG=18.0, Cylinders=6, Displacement=250.0, Horsepower=105.0, Weight=3459.0, Acceleration=16.0, Model=75, Origin='US'), cars_data_class(Car='Mercury Monarch', MPG=15.0, Cylinders=6, Displacement=250.0, Horsepower=72.0, Weight=3432.0, Acceleration=21.0, Model=75, Origin='US'), cars_data_class(Car='Ford Maverick', MPG=15.0, Cylinders=6, Displacement=250.0, Horsepower=72.0, Weight=3158.0, Acceleration=19.5, Model=75, Origin='US'), cars_data_class(Car='Pontiac Catalina', MPG=16.0, Cylinders=8, Displacement=400.0, Horsepower=170.0, Weight=4668.0, Acceleration=11.5, Model=75, Origin='US'), cars_data_class(Car='Chevrolet Bel Air', MPG=15.0, Cylinders=8, Displacement=350.0, Horsepower=145.0, Weight=4440.0, Acceleration=14.0, Model=75, Origin='US'), cars_data_class(Car='Plymouth Grand Fury', MPG=16.0, Cylinders=8, Displacement=318.0, Horsepower=150.0, Weight=4498.0, Acceleration=14.5, Model=75, Origin='US'), cars_data_class(Car='Ford LTD', MPG=14.0, Cylinders=8, Displacement=351.0, Horsepower=148.0, Weight=4657.0, Acceleration=13.5, Model=75, Origin='US'), cars_data_class(Car='Buick Century', MPG=17.0, Cylinders=6, Displacement=231.0, Horsepower=110.0, Weight=3907.0, Acceleration=21.0, Model=75, Origin='US'), cars_data_class(Car='Chevrolete Chevelle Malibu', MPG=16.0, Cylinders=6, Displacement=250.0, Horsepower=105.0, Weight=3897.0, Acceleration=18.5, Model=75, Origin='US'), cars_data_class(Car='AMC Matador', MPG=15.0, Cylinders=6, Displacement=258.0, Horsepower=110.0, Weight=3730.0, Acceleration=19.0, Model=75, Origin='US'), cars_data_class(Car='Plymouth Fury', MPG=18.0, Cylinders=6, Displacement=225.0, Horsepower=95.0, Weight=3785.0, Acceleration=19.0, Model=75, Origin='US'), cars_data_class(Car='Buick Skyhawk', MPG=21.0, Cylinders=6, Displacement=231.0, Horsepower=110.0, Weight=3039.0, Acceleration=15.0, Model=75, Origin='US'), cars_data_class(Car='Chevrolet Monza 2+2', MPG=20.0, Cylinders=8, Displacement=262.0, Horsepower=110.0, Weight=3221.0, Acceleration=13.5, Model=75, Origin='US'), cars_data_class(Car='Ford Mustang II', MPG=13.0, Cylinders=8, Displacement=302.0, Horsepower=129.0, Weight=3169.0, Acceleration=12.0, Model=75, Origin='US'), cars_data_class(Car='Toyota Corolla', MPG=29.0, Cylinders=4, Displacement=97.0, Horsepower=75.0, Weight=2171.0, Acceleration=16.0, Model=75, Origin='Japan'), cars_data_class(Car='Ford Pinto', MPG=23.0, Cylinders=4, Displacement=140.0, Horsepower=83.0, Weight=2639.0, Acceleration=17.0, Model=75, Origin='US'), cars_data_class(Car='AMC Gremlin', MPG=20.0, Cylinders=6, Displacement=232.0, Horsepower=100.0, Weight=2914.0, Acceleration=16.0, Model=75, Origin='US'), cars_data_class(Car='Pontiac Astro', MPG=23.0, Cylinders=4, Displacement=140.0, Horsepower=78.0, Weight=2592.0, Acceleration=18.5, Model=75, Origin='US'), cars_data_class(Car='Toyota Corolla', MPG=24.0, Cylinders=4, Displacement=134.0, Horsepower=96.0, Weight=2702.0, Acceleration=13.5, Model=75, Origin='Japan'), cars_data_class(Car='Volkswagen Dasher', MPG=25.0, Cylinders=4, Displacement=90.0, Horsepower=71.0, Weight=2223.0, Acceleration=16.5, Model=75, Origin='Europe'), cars_data_class(Car='Datsun 710', MPG=24.0, Cylinders=4, Displacement=119.0, Horsepower=97.0, Weight=2545.0, Acceleration=17.0, Model=75, Origin='Japan'), cars_data_class(Car='Ford Pinto', MPG=18.0, Cylinders=6, Displacement=171.0, Horsepower=97.0, Weight=2984.0, Acceleration=14.5, Model=75, Origin='US'), cars_data_class(Car='Volkswagen Rabbit', MPG=29.0, Cylinders=4, Displacement=90.0, Horsepower=70.0, Weight=1937.0, Acceleration=14.0, Model=75, Origin='Europe'), cars_data_class(Car='AMC Pacer', MPG=19.0, Cylinders=6, Displacement=232.0, Horsepower=90.0, Weight=3211.0, Acceleration=17.0, Model=75, Origin='US'), cars_data_class(Car='Audi 100LS', MPG=23.0, Cylinders=4, Displacement=115.0, Horsepower=95.0, Weight=2694.0, Acceleration=15.0, Model=75, Origin='Europe'), cars_data_class(Car='Peugeot 504', MPG=23.0, Cylinders=4, Displacement=120.0, Horsepower=88.0, Weight=2957.0, Acceleration=17.0, Model=75, Origin='Europe'), cars_data_class(Car='Volvo 244DL', MPG=22.0, Cylinders=4, Displacement=121.0, Horsepower=98.0, Weight=2945.0, Acceleration=14.5, Model=75, Origin='Europe'), cars_data_class(Car='Saab 99LE', MPG=25.0, Cylinders=4, Displacement=121.0, Horsepower=115.0, Weight=2671.0, Acceleration=13.5, Model=75, Origin='Europe'), cars_data_class(Car='Honda Civic CVCC', MPG=33.0, Cylinders=4, Displacement=91.0, Horsepower=53.0, Weight=1795.0, Acceleration=17.5, Model=75, Origin='Japan'), cars_data_class(Car='Fiat 131', MPG=28.0, Cylinders=4, Displacement=107.0, Horsepower=86.0, Weight=2464.0, Acceleration=15.5, Model=76, Origin='Europe'), cars_data_class(Car='Opel 1900', MPG=25.0, Cylinders=4, Displacement=116.0, Horsepower=81.0, Weight=2220.0, Acceleration=16.9, Model=76, Origin='Europe'), cars_data_class(Car='Capri ii', MPG=25.0, Cylinders=4, Displacement=140.0, Horsepower=92.0, Weight=2572.0, Acceleration=14.9, Model=76, Origin='US'), cars_data_class(Car='Dodge Colt', MPG=26.0, Cylinders=4, Displacement=98.0, Horsepower=79.0, Weight=2255.0, Acceleration=17.7, Model=76, Origin='US'), cars_data_class(Car='Renault 12tl', MPG=27.0, Cylinders=4, Displacement=101.0, Horsepower=83.0, Weight=2202.0, Acceleration=15.3, Model=76, Origin='Europe'), cars_data_class(Car='Chevrolet Chevelle Malibu Classic', MPG=17.5, Cylinders=8, Displacement=305.0, Horsepower=140.0, Weight=4215.0, Acceleration=13.0, Model=76, Origin='US'), cars_data_class(Car='Dodge Coronet Brougham', MPG=16.0, Cylinders=8, Displacement=318.0, Horsepower=150.0, Weight=4190.0, Acceleration=13.0, Model=76, Origin='US'), cars_data_class(Car='AMC Matador', MPG=15.5, Cylinders=8, Displacement=304.0, Horsepower=120.0, Weight=3962.0, Acceleration=13.9, Model=76, Origin='US'), cars_data_class(Car='Ford Gran Torino', MPG=14.5, Cylinders=8, Displacement=351.0, Horsepower=152.0, Weight=4215.0, Acceleration=12.8, Model=76, Origin='US'), cars_data_class(Car='Plymouth Valiant', MPG=22.0, Cylinders=6, Displacement=225.0, Horsepower=100.0, Weight=3233.0, Acceleration=15.4, Model=76, Origin='US'), cars_data_class(Car='Chevrolet Nova', MPG=22.0, Cylinders=6, Displacement=250.0, Horsepower=105.0, Weight=3353.0, Acceleration=14.5, Model=76, Origin='US'), cars_data_class(Car='Ford Maverick', MPG=24.0, Cylinders=6, Displacement=200.0, Horsepower=81.0, Weight=3012.0, Acceleration=17.6, Model=76, Origin='US'), cars_data_class(Car='AMC Hornet', MPG=22.5, Cylinders=6, Displacement=232.0, Horsepower=90.0, Weight=3085.0, Acceleration=17.6, Model=76, Origin='US'), cars_data_class(Car='Chevrolet Chevette', MPG=29.0, Cylinders=4, Displacement=85.0, Horsepower=52.0, Weight=2035.0, Acceleration=22.2, Model=76, Origin='US'), cars_data_class(Car='Chevrolet Woody', MPG=24.5, Cylinders=4, Displacement=98.0, Horsepower=60.0, Weight=2164.0, Acceleration=22.1, Model=76, Origin='US'), cars_data_class(Car='Volkswagen Rabbit', MPG=29.0, Cylinders=4, Displacement=90.0, Horsepower=70.0, Weight=1937.0, Acceleration=14.2, Model=76, Origin='Europe'), cars_data_class(Car='Honda Civic', MPG=33.0, Cylinders=4, Displacement=91.0, Horsepower=53.0, Weight=1795.0, Acceleration=17.4, Model=76, Origin='Japan'), cars_data_class(Car='Dodge Aspen SE', MPG=20.0, Cylinders=6, Displacement=225.0, Horsepower=100.0, Weight=3651.0, Acceleration=17.7, Model=76, Origin='US'), cars_data_class(Car='Ford Grenada ghia', MPG=18.0, Cylinders=6, Displacement=250.0, Horsepower=78.0, Weight=3574.0, Acceleration=21.0, Model=76, Origin='US'), cars_data_class(Car='Pontiac Ventura SJ', MPG=18.5, Cylinders=6, Displacement=250.0, Horsepower=110.0, Weight=3645.0, Acceleration=16.2, Model=76, Origin='US'), cars_data_class(Car='AMC Pacer d/l', MPG=17.5, Cylinders=6, Displacement=258.0, Horsepower=95.0, Weight=3193.0, Acceleration=17.8, Model=76, Origin='US'), cars_data_class(Car='Volkswagen Rabbit', MPG=29.5, Cylinders=4, Displacement=97.0, Horsepower=71.0, Weight=1825.0, Acceleration=12.2, Model=76, Origin='Europe'), cars_data_class(Car='Datsun B-210', MPG=32.0, Cylinders=4, Displacement=85.0, Horsepower=70.0, Weight=1990.0, Acceleration=17.0, Model=76, Origin='Japan'), cars_data_class(Car='Toyota Corolla', MPG=28.0, Cylinders=4, Displacement=97.0, Horsepower=75.0, Weight=2155.0, Acceleration=16.4, Model=76, Origin='Japan'), cars_data_class(Car='Ford Pinto', MPG=26.5, Cylinders=4, Displacement=140.0, Horsepower=72.0, Weight=2565.0, Acceleration=13.6, Model=76, Origin='US'), cars_data_class(Car='Volvo 245', MPG=20.0, Cylinders=4, Displacement=130.0, Horsepower=102.0, Weight=3150.0, Acceleration=15.7, Model=76, Origin='Europe'), cars_data_class(Car='Plymouth Volare Premier v8', MPG=13.0, Cylinders=8, Displacement=318.0, Horsepower=150.0, Weight=3940.0, Acceleration=13.2, Model=76, Origin='US'), cars_data_class(Car='Peugeot 504', MPG=19.0, Cylinders=4, Displacement=120.0, Horsepower=88.0, Weight=3270.0, Acceleration=21.9, Model=76, Origin='Europe'), cars_data_class(Car='Toyota Mark II', MPG=19.0, Cylinders=6, Displacement=156.0, Horsepower=108.0, Weight=2930.0, Acceleration=15.5, Model=76, Origin='Japan'), cars_data_class(Car='Mercedes-Benz 280s', MPG=16.5, Cylinders=6, Displacement=168.0, Horsepower=120.0, Weight=3820.0, Acceleration=16.7, Model=76, Origin='Europe'), cars_data_class(Car='Cadillac Seville', MPG=16.5, Cylinders=8, Displacement=350.0, Horsepower=180.0, Weight=4380.0, Acceleration=12.1, Model=76, Origin='US'), cars_data_class(Car='Chevrolet C10', MPG=13.0, Cylinders=8, Displacement=350.0, Horsepower=145.0, Weight=4055.0, Acceleration=12.0, Model=76, Origin='US'), cars_data_class(Car='Ford F108', MPG=13.0, Cylinders=8, Displacement=302.0, Horsepower=130.0, Weight=3870.0, Acceleration=15.0, Model=76, Origin='US'), cars_data_class(Car='Dodge D100', MPG=13.0, Cylinders=8, Displacement=318.0, Horsepower=150.0, Weight=3755.0, Acceleration=14.0, Model=76, Origin='US'), cars_data_class(Car='Honda Accord CVCC', MPG=31.5, Cylinders=4, Displacement=98.0, Horsepower=68.0, Weight=2045.0, Acceleration=18.5, Model=77, Origin='Japan'), cars_data_class(Car='Buick Opel Isuzu Deluxe', MPG=30.0, Cylinders=4, Displacement=111.0, Horsepower=80.0, Weight=2155.0, Acceleration=14.8, Model=77, Origin='US'), cars_data_class(Car='Renault 5 GTL', MPG=36.0, Cylinders=4, Displacement=79.0, Horsepower=58.0, Weight=1825.0, Acceleration=18.6, Model=77, Origin='Europe'), cars_data_class(Car='Plymouth Arrow GS', MPG=25.5, Cylinders=4, Displacement=122.0, Horsepower=96.0, Weight=2300.0, Acceleration=15.5, Model=77, Origin='US'), cars_data_class(Car='Datsun F-10 Hatchback', MPG=33.5, Cylinders=4, Displacement=85.0, Horsepower=70.0, Weight=1945.0, Acceleration=16.8, Model=77, Origin='Japan'), cars_data_class(Car='Chevrolet Caprice Classic', MPG=17.5, Cylinders=8, Displacement=305.0, Horsepower=145.0, Weight=3880.0, Acceleration=12.5, Model=77, Origin='US'), cars_data_class(Car='Oldsmobile Cutlass Supreme', MPG=17.0, Cylinders=8, Displacement=260.0, Horsepower=110.0, Weight=4060.0, Acceleration=19.0, Model=77, Origin='US'), cars_data_class(Car='Dodge Monaco Brougham', MPG=15.5, Cylinders=8, Displacement=318.0, Horsepower=145.0, Weight=4140.0, Acceleration=13.7, Model=77, Origin='US'), cars_data_class(Car='Mercury Cougar Brougham', MPG=15.0, Cylinders=8, Displacement=302.0, Horsepower=130.0, Weight=4295.0, Acceleration=14.9, Model=77, Origin='US'), cars_data_class(Car='Chevrolet Concours', MPG=17.5, Cylinders=6, Displacement=250.0, Horsepower=110.0, Weight=3520.0, Acceleration=16.4, Model=77, Origin='US'), cars_data_class(Car='Buick Skylark', MPG=20.5, Cylinders=6, Displacement=231.0, Horsepower=105.0, Weight=3425.0, Acceleration=16.9, Model=77, Origin='US'), cars_data_class(Car='Plymouth Volare Custom', MPG=19.0, Cylinders=6, Displacement=225.0, Horsepower=100.0, Weight=3630.0, Acceleration=17.7, Model=77, Origin='US'), cars_data_class(Car='Ford Grenada', MPG=18.5, Cylinders=6, Displacement=250.0, Horsepower=98.0, Weight=3525.0, Acceleration=19.0, Model=77, Origin='US'), cars_data_class(Car='Pontiac Grand Prix LJ', MPG=16.0, Cylinders=8, Displacement=400.0, Horsepower=180.0, Weight=4220.0, Acceleration=11.1, Model=77, Origin='US'), cars_data_class(Car='Chevrolet Monte Carlo Landau', MPG=15.5, Cylinders=8, Displacement=350.0, Horsepower=170.0, Weight=4165.0, Acceleration=11.4, Model=77, Origin='US'), cars_data_class(Car='Chrysler Cordoba', MPG=15.5, Cylinders=8, Displacement=400.0, Horsepower=190.0, Weight=4325.0, Acceleration=12.2, Model=77, Origin='US'), cars_data_class(Car='Ford Thunderbird', MPG=16.0, Cylinders=8, Displacement=351.0, Horsepower=149.0, Weight=4335.0, Acceleration=14.5, Model=77, Origin='US'), cars_data_class(Car='Volkswagen Rabbit Custom', MPG=29.0, Cylinders=4, Displacement=97.0, Horsepower=78.0, Weight=1940.0, Acceleration=14.5, Model=77, Origin='Europe'), cars_data_class(Car='Pontiac Sunbird Coupe', MPG=24.5, Cylinders=4, Displacement=151.0, Horsepower=88.0, Weight=2740.0, Acceleration=16.0, Model=77, Origin='US'), cars_data_class(Car='Toyota Corolla Liftback', MPG=26.0, Cylinders=4, Displacement=97.0, Horsepower=75.0, Weight=2265.0, Acceleration=18.2, Model=77, Origin='Japan'), cars_data_class(Car='Ford Mustang II 2+2', MPG=25.5, Cylinders=4, Displacement=140.0, Horsepower=89.0, Weight=2755.0, Acceleration=15.8, Model=77, Origin='US'), cars_data_class(Car='Chevrolet Chevette', MPG=30.5, Cylinders=4, Displacement=98.0, Horsepower=63.0, Weight=2051.0, Acceleration=17.0, Model=77, Origin='US'), cars_data_class(Car='Dodge Colt m/m', MPG=33.5, Cylinders=4, Displacement=98.0, Horsepower=83.0, Weight=2075.0, Acceleration=15.9, Model=77, Origin='US'), cars_data_class(Car='Subaru DL', MPG=30.0, Cylinders=4, Displacement=97.0, Horsepower=67.0, Weight=1985.0, Acceleration=16.4, Model=77, Origin='Japan'), cars_data_class(Car='Volkswagen Dasher', MPG=30.5, Cylinders=4, Displacement=97.0, Horsepower=78.0, Weight=2190.0, Acceleration=14.1, Model=77, Origin='Europe'), cars_data_class(Car='Datsun 810', MPG=22.0, Cylinders=6, Displacement=146.0, Horsepower=97.0, Weight=2815.0, Acceleration=14.5, Model=77, Origin='Japan'), cars_data_class(Car='BMW 320i', MPG=21.5, Cylinders=4, Displacement=121.0, Horsepower=110.0, Weight=2600.0, Acceleration=12.8, Model=77, Origin='Europe'), cars_data_class(Car='Mazda RX-4', MPG=21.5, Cylinders=3, Displacement=80.0, Horsepower=110.0, Weight=2720.0, Acceleration=13.5, Model=77, Origin='Japan'), cars_data_class(Car='Volkswagen Rabbit Custom Diesel', MPG=43.1, Cylinders=4, Displacement=90.0, Horsepower=48.0, Weight=1985.0, Acceleration=21.5, Model=78, Origin='Europe'), cars_data_class(Car='Ford Fiesta', MPG=36.1, Cylinders=4, Displacement=98.0, Horsepower=66.0, Weight=1800.0, Acceleration=14.4, Model=78, Origin='US'), cars_data_class(Car='Mazda GLC Deluxe', MPG=32.8, Cylinders=4, Displacement=78.0, Horsepower=52.0, Weight=1985.0, Acceleration=19.4, Model=78, Origin='Japan'), cars_data_class(Car='Datsun B210 GX', MPG=39.4, Cylinders=4, Displacement=85.0, Horsepower=70.0, Weight=2070.0, Acceleration=18.6, Model=78, Origin='Japan'), cars_data_class(Car='Honda Civic CVCC', MPG=36.1, Cylinders=4, Displacement=91.0, Horsepower=60.0, Weight=1800.0, Acceleration=16.4, Model=78, Origin='Japan'), cars_data_class(Car='Oldsmobile Cutlass Salon Brougham', MPG=19.9, Cylinders=8, Displacement=260.0, Horsepower=110.0, Weight=3365.0, Acceleration=15.5, Model=78, Origin='US'), cars_data_class(Car='Dodge Diplomat', MPG=19.4, Cylinders=8, Displacement=318.0, Horsepower=140.0, Weight=3735.0, Acceleration=13.2, Model=78, Origin='US'), cars_data_class(Car='Mercury Monarch ghia', MPG=20.2, Cylinders=8, Displacement=302.0, Horsepower=139.0, Weight=3570.0, Acceleration=12.8, Model=78, Origin='US'), cars_data_class(Car='Pontiac Phoenix LJ', MPG=19.2, Cylinders=6, Displacement=231.0, Horsepower=105.0, Weight=3535.0, Acceleration=19.2, Model=78, Origin='US'), cars_data_class(Car='Chevrolet Malibu', MPG=20.5, Cylinders=6, Displacement=200.0, Horsepower=95.0, Weight=3155.0, Acceleration=18.2, Model=78, Origin='US'), cars_data_class(Car='Ford Fairmont (auto)', MPG=20.2, Cylinders=6, Displacement=200.0, Horsepower=85.0, Weight=2965.0, Acceleration=15.8, Model=78, Origin='US'), cars_data_class(Car='Ford Fairmont (man)', MPG=25.1, Cylinders=4, Displacement=140.0, Horsepower=88.0, Weight=2720.0, Acceleration=15.4, Model=78, Origin='US'), cars_data_class(Car='Plymouth Volare', MPG=20.5, Cylinders=6, Displacement=225.0, Horsepower=100.0, Weight=3430.0, Acceleration=17.2, Model=78, Origin='US'), cars_data_class(Car='AMC Concord', MPG=19.4, Cylinders=6, Displacement=232.0, Horsepower=90.0, Weight=3210.0, Acceleration=17.2, Model=78, Origin='US'), cars_data_class(Car='Buick Century Special', MPG=20.6, Cylinders=6, Displacement=231.0, Horsepower=105.0, Weight=3380.0, Acceleration=15.8, Model=78, Origin='US'), cars_data_class(Car='Mercury Zephyr', MPG=20.8, Cylinders=6, Displacement=200.0, Horsepower=85.0, Weight=3070.0, Acceleration=16.7, Model=78, Origin='US'), cars_data_class(Car='Dodge Aspen', MPG=18.6, Cylinders=6, Displacement=225.0, Horsepower=110.0, Weight=3620.0, Acceleration=18.7, Model=78, Origin='US'), cars_data_class(Car='AMC Concord d/l', MPG=18.1, Cylinders=6, Displacement=258.0, Horsepower=120.0, Weight=3410.0, Acceleration=15.1, Model=78, Origin='US'), cars_data_class(Car='Chevrolet Monte Carlo Landau', MPG=19.2, Cylinders=8, Displacement=305.0, Horsepower=145.0, Weight=3425.0, Acceleration=13.2, Model=78, Origin='US'), cars_data_class(Car='Buick Regal Sport Coupe (turbo)', MPG=17.7, Cylinders=6, Displacement=231.0, Horsepower=165.0, Weight=3445.0, Acceleration=13.4, Model=78, Origin='US'), cars_data_class(Car='Ford Futura', MPG=18.1, Cylinders=8, Displacement=302.0, Horsepower=139.0, Weight=3205.0, Acceleration=11.2, Model=78, Origin='US'), cars_data_class(Car='Dodge Magnum XE', MPG=17.5, Cylinders=8, Displacement=318.0, Horsepower=140.0, Weight=4080.0, Acceleration=13.7, Model=78, Origin='US'), cars_data_class(Car='Chevrolet Chevette', MPG=30.0, Cylinders=4, Displacement=98.0, Horsepower=68.0, Weight=2155.0, Acceleration=16.5, Model=78, Origin='US'), cars_data_class(Car='Toyota Corolla', MPG=27.5, Cylinders=4, Displacement=134.0, Horsepower=95.0, Weight=2560.0, Acceleration=14.2, Model=78, Origin='Japan'), cars_data_class(Car='Datsun 510', MPG=27.2, Cylinders=4, Displacement=119.0, Horsepower=97.0, Weight=2300.0, Acceleration=14.7, Model=78, Origin='Japan'), cars_data_class(Car='Dodge Omni', MPG=30.9, Cylinders=4, Displacement=105.0, Horsepower=75.0, Weight=2230.0, Acceleration=14.5, Model=78, Origin='US'), cars_data_class(Car='Toyota Celica GT Liftback', MPG=21.1, Cylinders=4, Displacement=134.0, Horsepower=95.0, Weight=2515.0, Acceleration=14.8, Model=78, Origin='Japan'), cars_data_class(Car='Plymouth Sapporo', MPG=23.2, Cylinders=4, Displacement=156.0, Horsepower=105.0, Weight=2745.0, Acceleration=16.7, Model=78, Origin='US'), cars_data_class(Car='Oldsmobile Starfire SX', MPG=23.8, Cylinders=4, Displacement=151.0, Horsepower=85.0, Weight=2855.0, Acceleration=17.6, Model=78, Origin='US'), cars_data_class(Car='Datsun 200-SX', MPG=23.9, Cylinders=4, Displacement=119.0, Horsepower=97.0, Weight=2405.0, Acceleration=14.9, Model=78, Origin='Japan'), cars_data_class(Car='Audi 5000', MPG=20.3, Cylinders=5, Displacement=131.0, Horsepower=103.0, Weight=2830.0, Acceleration=15.9, Model=78, Origin='Europe'), cars_data_class(Car='Volvo 264gl', MPG=17.0, Cylinders=6, Displacement=163.0, Horsepower=125.0, Weight=3140.0, Acceleration=13.6, Model=78, Origin='Europe'), cars_data_class(Car='Saab 99gle', MPG=21.6, Cylinders=4, Displacement=121.0, Horsepower=115.0, Weight=2795.0, Acceleration=15.7, Model=78, Origin='Europe'), cars_data_class(Car='Peugeot 604sl', MPG=16.2, Cylinders=6, Displacement=163.0, Horsepower=133.0, Weight=3410.0, Acceleration=15.8, Model=78, Origin='Europe'), cars_data_class(Car='Volkswagen Scirocco', MPG=31.5, Cylinders=4, Displacement=89.0, Horsepower=71.0, Weight=1990.0, Acceleration=14.9, Model=78, Origin='Europe'), cars_data_class(Car='Honda Accord LX', MPG=29.5, Cylinders=4, Displacement=98.0, Horsepower=68.0, Weight=2135.0, Acceleration=16.6, Model=78, Origin='Japan'), cars_data_class(Car='Pontiac Lemans V6', MPG=21.5, Cylinders=6, Displacement=231.0, Horsepower=115.0, Weight=3245.0, Acceleration=15.4, Model=79, Origin='US'), cars_data_class(Car='Mercury Zephyr 6', MPG=19.8, Cylinders=6, Displacement=200.0, Horsepower=85.0, Weight=2990.0, Acceleration=18.2, Model=79, Origin='US'), cars_data_class(Car='Ford Fairmont 4', MPG=22.3, Cylinders=4, Displacement=140.0, Horsepower=88.0, Weight=2890.0, Acceleration=17.3, Model=79, Origin='US'), cars_data_class(Car='AMC Concord DL 6', MPG=20.2, Cylinders=6, Displacement=232.0, Horsepower=90.0, Weight=3265.0, Acceleration=18.2, Model=79, Origin='US'), cars_data_class(Car='Dodge Aspen 6', MPG=20.6, Cylinders=6, Displacement=225.0, Horsepower=110.0, Weight=3360.0, Acceleration=16.6, Model=79, Origin='US'), cars_data_class(Car='Chevrolet Caprice Classic', MPG=17.0, Cylinders=8, Displacement=305.0, Horsepower=130.0, Weight=3840.0, Acceleration=15.4, Model=79, Origin='US'), cars_data_class(Car='Ford LTD Landau', MPG=17.6, Cylinders=8, Displacement=302.0, Horsepower=129.0, Weight=3725.0, Acceleration=13.4, Model=79, Origin='US'), cars_data_class(Car='Mercury Grand Marquis', MPG=16.5, Cylinders=8, Displacement=351.0, Horsepower=138.0, Weight=3955.0, Acceleration=13.2, Model=79, Origin='US'), cars_data_class(Car='Dodge St. Regis', MPG=18.2, Cylinders=8, Displacement=318.0, Horsepower=135.0, Weight=3830.0, Acceleration=15.2, Model=79, Origin='US'), cars_data_class(Car='Buick Estate Wagon (sw)', MPG=16.9, Cylinders=8, Displacement=350.0, Horsepower=155.0, Weight=4360.0, Acceleration=14.9, Model=79, Origin='US'), cars_data_class(Car='Ford Country Squire (sw)', MPG=15.5, Cylinders=8, Displacement=351.0, Horsepower=142.0, Weight=4054.0, Acceleration=14.3, Model=79, Origin='US'), cars_data_class(Car='Chevrolet Malibu Classic (sw)', MPG=19.2, Cylinders=8, Displacement=267.0, Horsepower=125.0, Weight=3605.0, Acceleration=15.0, Model=79, Origin='US'), cars_data_class(Car='Chrysler Lebaron Town @ Country (sw)', MPG=18.5, Cylinders=8, Displacement=360.0, Horsepower=150.0, Weight=3940.0, Acceleration=13.0, Model=79, Origin='US'), cars_data_class(Car='Volkswagen Rabbit Custom', MPG=31.9, Cylinders=4, Displacement=89.0, Horsepower=71.0, Weight=1925.0, Acceleration=14.0, Model=79, Origin='Europe'), cars_data_class(Car='Mazda GLC Deluxe', MPG=34.1, Cylinders=4, Displacement=86.0, Horsepower=65.0, Weight=1975.0, Acceleration=15.2, Model=79, Origin='Japan'), cars_data_class(Car='Dodge Colt Hatchback Custom', MPG=35.7, Cylinders=4, Displacement=98.0, Horsepower=80.0, Weight=1915.0, Acceleration=14.4, Model=79, Origin='US'), cars_data_class(Car='AMC Spirit DL', MPG=27.4, Cylinders=4, Displacement=121.0, Horsepower=80.0, Weight=2670.0, Acceleration=15.0, Model=79, Origin='US'), cars_data_class(Car='Mercedes Benz 300d', MPG=25.4, Cylinders=5, Displacement=183.0, Horsepower=77.0, Weight=3530.0, Acceleration=20.1, Model=79, Origin='Europe'), cars_data_class(Car='Cadillac Eldorado', MPG=23.0, Cylinders=8, Displacement=350.0, Horsepower=125.0, Weight=3900.0, Acceleration=17.4, Model=79, Origin='US'), cars_data_class(Car='Peugeot 504', MPG=27.2, Cylinders=4, Displacement=141.0, Horsepower=71.0, Weight=3190.0, Acceleration=24.8, Model=79, Origin='Europe'), cars_data_class(Car='Oldsmobile Cutlass Salon Brougham', MPG=23.9, Cylinders=8, Displacement=260.0, Horsepower=90.0, Weight=3420.0, Acceleration=22.2, Model=79, Origin='US'), cars_data_class(Car='Plymouth Horizon', MPG=34.2, Cylinders=4, Displacement=105.0, Horsepower=70.0, Weight=2200.0, Acceleration=13.2, Model=79, Origin='US'), cars_data_class(Car='Plymouth Horizon TC3', MPG=34.5, Cylinders=4, Displacement=105.0, Horsepower=70.0, Weight=2150.0, Acceleration=14.9, Model=79, Origin='US'), cars_data_class(Car='Datsun 210', MPG=31.8, Cylinders=4, Displacement=85.0, Horsepower=65.0, Weight=2020.0, Acceleration=19.2, Model=79, Origin='Japan'), cars_data_class(Car='Fiat Strada Custom', MPG=37.3, Cylinders=4, Displacement=91.0, Horsepower=69.0, Weight=2130.0, Acceleration=14.7, Model=79, Origin='Europe'), cars_data_class(Car='Buick Skylark Limited', MPG=28.4, Cylinders=4, Displacement=151.0, Horsepower=90.0, Weight=2670.0, Acceleration=16.0, Model=79, Origin='US'), cars_data_class(Car='Chevrolet Citation', MPG=28.8, Cylinders=6, Displacement=173.0, Horsepower=115.0, Weight=2595.0, Acceleration=11.3, Model=79, Origin='US'), cars_data_class(Car='Oldsmobile Omega Brougham', MPG=26.8, Cylinders=6, Displacement=173.0, Horsepower=115.0, Weight=2700.0, Acceleration=12.9, Model=79, Origin='US'), cars_data_class(Car='Pontiac Phoenix', MPG=33.5, Cylinders=4, Displacement=151.0, Horsepower=90.0, Weight=2556.0, Acceleration=13.2, Model=79, Origin='US'), cars_data_class(Car='Volkswagen Rabbit', MPG=41.5, Cylinders=4, Displacement=98.0, Horsepower=76.0, Weight=2144.0, Acceleration=14.7, Model=80, Origin='Europe'), cars_data_class(Car='Toyota Corolla Tercel', MPG=38.1, Cylinders=4, Displacement=89.0, Horsepower=60.0, Weight=1968.0, Acceleration=18.8, Model=80, Origin='Japan'), cars_data_class(Car='Chevrolet Chevette', MPG=32.1, Cylinders=4, Displacement=98.0, Horsepower=70.0, Weight=2120.0, Acceleration=15.5, Model=80, Origin='US'), cars_data_class(Car='Datsun 310', MPG=37.2, Cylinders=4, Displacement=86.0, Horsepower=65.0, Weight=2019.0, Acceleration=16.4, Model=80, Origin='Japan'), cars_data_class(Car='Chevrolet Citation', MPG=28.0, Cylinders=4, Displacement=151.0, Horsepower=90.0, Weight=2678.0, Acceleration=16.5, Model=80, Origin='US'), cars_data_class(Car='Ford Fairmont', MPG=26.4, Cylinders=4, Displacement=140.0, Horsepower=88.0, Weight=2870.0, Acceleration=18.1, Model=80, Origin='US'), cars_data_class(Car='AMC Concord', MPG=24.3, Cylinders=4, Displacement=151.0, Horsepower=90.0, Weight=3003.0, Acceleration=20.1, Model=80, Origin='US'), cars_data_class(Car='Dodge Aspen', MPG=19.1, Cylinders=6, Displacement=225.0, Horsepower=90.0, Weight=3381.0, Acceleration=18.7, Model=80, Origin='US'), cars_data_class(Car='Audi 4000', MPG=34.3, Cylinders=4, Displacement=97.0, Horsepower=78.0, Weight=2188.0, Acceleration=15.8, Model=80, Origin='Europe'), cars_data_class(Car='Toyota Corolla Liftback', MPG=29.8, Cylinders=4, Displacement=134.0, Horsepower=90.0, Weight=2711.0, Acceleration=15.5, Model=80, Origin='Japan'), cars_data_class(Car='Mazda 626', MPG=31.3, Cylinders=4, Displacement=120.0, Horsepower=75.0, Weight=2542.0, Acceleration=17.5, Model=80, Origin='Japan'), cars_data_class(Car='Datsun 510 Hatchback', MPG=37.0, Cylinders=4, Displacement=119.0, Horsepower=92.0, Weight=2434.0, Acceleration=15.0, Model=80, Origin='Japan'), cars_data_class(Car='Toyota Corolla', MPG=32.2, Cylinders=4, Displacement=108.0, Horsepower=75.0, Weight=2265.0, Acceleration=15.2, Model=80, Origin='Japan'), cars_data_class(Car='Mazda GLC', MPG=46.6, Cylinders=4, Displacement=86.0, Horsepower=65.0, Weight=2110.0, Acceleration=17.9, Model=80, Origin='Japan'), cars_data_class(Car='Dodge Colt', MPG=27.9, Cylinders=4, Displacement=156.0, Horsepower=105.0, Weight=2800.0, Acceleration=14.4, Model=80, Origin='US'), cars_data_class(Car='Datsun 210', MPG=40.8, Cylinders=4, Displacement=85.0, Horsepower=65.0, Weight=2110.0, Acceleration=19.2, Model=80, Origin='Japan'), cars_data_class(Car='Volkswagen Rabbit C (Diesel)', MPG=44.3, Cylinders=4, Displacement=90.0, Horsepower=48.0, Weight=2085.0, Acceleration=21.7, Model=80, Origin='Europe'), cars_data_class(Car='Volkswagen Dasher (diesel)', MPG=43.4, Cylinders=4, Displacement=90.0, Horsepower=48.0, Weight=2335.0, Acceleration=23.7, Model=80, Origin='Europe'), cars_data_class(Car='Audi 5000s (diesel)', MPG=36.4, Cylinders=5, Displacement=121.0, Horsepower=67.0, Weight=2950.0, Acceleration=19.9, Model=80, Origin='Europe'), cars_data_class(Car='Mercedes-Benz 240d', MPG=30.0, Cylinders=4, Displacement=146.0, Horsepower=67.0, Weight=3250.0, Acceleration=21.8, Model=80, Origin='Europe'), cars_data_class(Car='Honda Civic 1500 gl', MPG=44.6, Cylinders=4, Displacement=91.0, Horsepower=67.0, Weight=1850.0, Acceleration=13.8, Model=80, Origin='Japan'), cars_data_class(Car='Renault Lecar Deluxe', MPG=40.9, Cylinders=4, Displacement=85.0, Horsepower=0, Weight=1835.0, Acceleration=17.3, Model=80, Origin='Europe'), cars_data_class(Car='Subaru DL', MPG=33.8, Cylinders=4, Displacement=97.0, Horsepower=67.0, Weight=2145.0, Acceleration=18.0, Model=80, Origin='Japan'), cars_data_class(Car='Volkswagen Rabbit', MPG=29.8, Cylinders=4, Displacement=89.0, Horsepower=62.0, Weight=1845.0, Acceleration=15.3, Model=80, Origin='Europe'), cars_data_class(Car='Datsun 280-ZX', MPG=32.7, Cylinders=6, Displacement=168.0, Horsepower=132.0, Weight=2910.0, Acceleration=11.4, Model=80, Origin='Japan'), cars_data_class(Car='Mazda RX-7 GS', MPG=23.7, Cylinders=3, Displacement=70.0, Horsepower=100.0, Weight=2420.0, Acceleration=12.5, Model=80, Origin='Japan'), cars_data_class(Car='Triumph TR7 Coupe', MPG=35.0, Cylinders=4, Displacement=122.0, Horsepower=88.0, Weight=2500.0, Acceleration=15.1, Model=80, Origin='Europe'), cars_data_class(Car='Ford Mustang Cobra', MPG=23.6, Cylinders=4, Displacement=140.0, Horsepower=0, Weight=2905.0, Acceleration=14.3, Model=80, Origin='US'), cars_data_class(Car='Honda Accord', MPG=32.4, Cylinders=4, Displacement=107.0, Horsepower=72.0, Weight=2290.0, Acceleration=17.0, Model=80, Origin='Japan'), cars_data_class(Car='Plymouth Reliant', MPG=27.2, Cylinders=4, Displacement=135.0, Horsepower=84.0, Weight=2490.0, Acceleration=15.7, Model=81, Origin='US'), cars_data_class(Car='Buick Skylark', MPG=26.6, Cylinders=4, Displacement=151.0, Horsepower=84.0, Weight=2635.0, Acceleration=16.4, Model=81, Origin='US'), cars_data_class(Car='Dodge Aries Wagon (sw)', MPG=25.8, Cylinders=4, Displacement=156.0, Horsepower=92.0, Weight=2620.0, Acceleration=14.4, Model=81, Origin='US'), cars_data_class(Car='Chevrolet Citation', MPG=23.5, Cylinders=6, Displacement=173.0, Horsepower=110.0, Weight=2725.0, Acceleration=12.6, Model=81, Origin='US'), cars_data_class(Car='Plymouth Reliant', MPG=30.0, Cylinders=4, Displacement=135.0, Horsepower=84.0, Weight=2385.0, Acceleration=12.9, Model=81, Origin='US'), cars_data_class(Car='Toyota Starlet', MPG=39.1, Cylinders=4, Displacement=79.0, Horsepower=58.0, Weight=1755.0, Acceleration=16.9, Model=81, Origin='Japan'), cars_data_class(Car='Plymouth Champ', MPG=39.0, Cylinders=4, Displacement=86.0, Horsepower=64.0, Weight=1875.0, Acceleration=16.4, Model=81, Origin='US'), cars_data_class(Car='Honda Civic 1300', MPG=35.1, Cylinders=4, Displacement=81.0, Horsepower=60.0, Weight=1760.0, Acceleration=16.1, Model=81, Origin='Japan'), cars_data_class(Car='Subaru', MPG=32.3, Cylinders=4, Displacement=97.0, Horsepower=67.0, Weight=2065.0, Acceleration=17.8, Model=81, Origin='Japan'), cars_data_class(Car='Datsun 210 MPG', MPG=37.0, Cylinders=4, Displacement=85.0, Horsepower=65.0, Weight=1975.0, Acceleration=19.4, Model=81, Origin='Japan'), cars_data_class(Car='Toyota Tercel', MPG=37.7, Cylinders=4, Displacement=89.0, Horsepower=62.0, Weight=2050.0, Acceleration=17.3, Model=81, Origin='Japan'), cars_data_class(Car='Mazda GLC 4', MPG=34.1, Cylinders=4, Displacement=91.0, Horsepower=68.0, Weight=1985.0, Acceleration=16.0, Model=81, Origin='Japan'), cars_data_class(Car='Plymouth Horizon 4', MPG=34.7, Cylinders=4, Displacement=105.0, Horsepower=63.0, Weight=2215.0, Acceleration=14.9, Model=81, Origin='US'), cars_data_class(Car='Ford Escort 4W', MPG=34.4, Cylinders=4, Displacement=98.0, Horsepower=65.0, Weight=2045.0, Acceleration=16.2, Model=81, Origin='US'), cars_data_class(Car='Ford Escort 2H', MPG=29.9, Cylinders=4, Displacement=98.0, Horsepower=65.0, Weight=2380.0, Acceleration=20.7, Model=81, Origin='US'), cars_data_class(Car='Volkswagen Jetta', MPG=33.0, Cylinders=4, Displacement=105.0, Horsepower=74.0, Weight=2190.0, Acceleration=14.2, Model=81, Origin='Europe'), cars_data_class(Car='Renault 18i', MPG=34.5, Cylinders=4, Displacement=100.0, Horsepower=0, Weight=2320.0, Acceleration=15.8, Model=81, Origin='Europe'), cars_data_class(Car='Honda Prelude', MPG=33.7, Cylinders=4, Displacement=107.0, Horsepower=75.0, Weight=2210.0, Acceleration=14.4, Model=81, Origin='Japan'), cars_data_class(Car='Toyota Corolla', MPG=32.4, Cylinders=4, Displacement=108.0, Horsepower=75.0, Weight=2350.0, Acceleration=16.8, Model=81, Origin='Japan'), cars_data_class(Car='Datsun 200SX', MPG=32.9, Cylinders=4, Displacement=119.0, Horsepower=100.0, Weight=2615.0, Acceleration=14.8, Model=81, Origin='Japan'), cars_data_class(Car='Mazda 626', MPG=31.6, Cylinders=4, Displacement=120.0, Horsepower=74.0, Weight=2635.0, Acceleration=18.3, Model=81, Origin='Japan'), cars_data_class(Car='Peugeot 505s Turbo Diesel', MPG=28.1, Cylinders=4, Displacement=141.0, Horsepower=80.0, Weight=3230.0, Acceleration=20.4, Model=81, Origin='Europe'), cars_data_class(Car='Saab 900s', MPG=0, Cylinders=4, Displacement=121.0, Horsepower=110.0, Weight=2800.0, Acceleration=15.4, Model=81, Origin='Europe'), cars_data_class(Car='Volvo Diesel', MPG=30.7, Cylinders=6, Displacement=145.0, Horsepower=76.0, Weight=3160.0, Acceleration=19.6, Model=81, Origin='Europe'), cars_data_class(Car='Toyota Cressida', MPG=25.4, Cylinders=6, Displacement=168.0, Horsepower=116.0, Weight=2900.0, Acceleration=12.6, Model=81, Origin='Japan'), cars_data_class(Car='Datsun 810 Maxima', MPG=24.2, Cylinders=6, Displacement=146.0, Horsepower=120.0, Weight=2930.0, Acceleration=13.8, Model=81, Origin='Japan'), cars_data_class(Car='Buick Century', MPG=22.4, Cylinders=6, Displacement=231.0, Horsepower=110.0, Weight=3415.0, Acceleration=15.8, Model=81, Origin='US'), cars_data_class(Car='Oldsmobile Cutlass LS', MPG=26.6, Cylinders=8, Displacement=350.0, Horsepower=105.0, Weight=3725.0, Acceleration=19.0, Model=81, Origin='US'), cars_data_class(Car='Ford Grenada gl', MPG=20.2, Cylinders=6, Displacement=200.0, Horsepower=88.0, Weight=3060.0, Acceleration=17.1, Model=81, Origin='US'), cars_data_class(Car='Chrysler Lebaron Salon', MPG=17.6, Cylinders=6, Displacement=225.0, Horsepower=85.0, Weight=3465.0, Acceleration=16.6, Model=81, Origin='US'), cars_data_class(Car='Chevrolet Cavalier', MPG=28.0, Cylinders=4, Displacement=112.0, Horsepower=88.0, Weight=2605.0, Acceleration=19.6, Model=82, Origin='US'), cars_data_class(Car='Chevrolet Cavalier Wagon', MPG=27.0, Cylinders=4, Displacement=112.0, Horsepower=88.0, Weight=2640.0, Acceleration=18.6, Model=82, Origin='US'), cars_data_class(Car='Chevrolet Cavalier 2-door', MPG=34.0, Cylinders=4, Displacement=112.0, Horsepower=88.0, Weight=2395.0, Acceleration=18.0, Model=82, Origin='US'), cars_data_class(Car='Pontiac J2000 SE Hatchback', MPG=31.0, Cylinders=4, Displacement=112.0, Horsepower=85.0, Weight=2575.0, Acceleration=16.2, Model=82, Origin='US'), cars_data_class(Car='Dodge Aries SE', MPG=29.0, Cylinders=4, Displacement=135.0, Horsepower=84.0, Weight=2525.0, Acceleration=16.0, Model=82, Origin='US'), cars_data_class(Car='Pontiac Phoenix', MPG=27.0, Cylinders=4, Displacement=151.0, Horsepower=90.0, Weight=2735.0, Acceleration=18.0, Model=82, Origin='US'), cars_data_class(Car='Ford Fairmont Futura', MPG=24.0, Cylinders=4, Displacement=140.0, Horsepower=92.0, Weight=2865.0, Acceleration=16.4, Model=82, Origin='US'), cars_data_class(Car='AMC Concord DL', MPG=23.0, Cylinders=4, Displacement=151.0, Horsepower=0, Weight=3035.0, Acceleration=20.5, Model=82, Origin='US'), cars_data_class(Car='Volkswagen Rabbit l', MPG=36.0, Cylinders=4, Displacement=105.0, Horsepower=74.0, Weight=1980.0, Acceleration=15.3, Model=82, Origin='Europe'), cars_data_class(Car='Mazda GLC Custom l', MPG=37.0, Cylinders=4, Displacement=91.0, Horsepower=68.0, Weight=2025.0, Acceleration=18.2, Model=82, Origin='Japan'), cars_data_class(Car='Mazda GLC Custom', MPG=31.0, Cylinders=4, Displacement=91.0, Horsepower=68.0, Weight=1970.0, Acceleration=17.6, Model=82, Origin='Japan'), cars_data_class(Car='Plymouth Horizon Miser', MPG=38.0, Cylinders=4, Displacement=105.0, Horsepower=63.0, Weight=2125.0, Acceleration=14.7, Model=82, Origin='US'), cars_data_class(Car='Mercury Lynx l', MPG=36.0, Cylinders=4, Displacement=98.0, Horsepower=70.0, Weight=2125.0, Acceleration=17.3, Model=82, Origin='US'), cars_data_class(Car='Nissan Stanza XE', MPG=36.0, Cylinders=4, Displacement=120.0, Horsepower=88.0, Weight=2160.0, Acceleration=14.5, Model=82, Origin='Japan'), cars_data_class(Car='Honda Accord', MPG=36.0, Cylinders=4, Displacement=107.0, Horsepower=75.0, Weight=2205.0, Acceleration=14.5, Model=82, Origin='Japan'), cars_data_class(Car='Toyota Corolla', MPG=34.0, Cylinders=4, Displacement=108.0, Horsepower=70.0, Weight=2245, Acceleration=16.9, Model=82, Origin='Japan'), cars_data_class(Car='Honda Civic', MPG=38.0, Cylinders=4, Displacement=91.0, Horsepower=67.0, Weight=1965.0, Acceleration=15.0, Model=82, Origin='Japan'), cars_data_class(Car='Honda Civic (auto)', MPG=32.0, Cylinders=4, Displacement=91.0, Horsepower=67.0, Weight=1965.0, Acceleration=15.7, Model=82, Origin='Japan'), cars_data_class(Car='Datsun 310 GX', MPG=38.0, Cylinders=4, Displacement=91.0, Horsepower=67.0, Weight=1995.0, Acceleration=16.2, Model=82, Origin='Japan'), cars_data_class(Car='Buick Century Limited', MPG=25.0, Cylinders=6, Displacement=181.0, Horsepower=110.0, Weight=2945.0, Acceleration=16.4, Model=82, Origin='US'), cars_data_class(Car='Oldsmobile Cutlass Ciera (diesel)', MPG=38.0, Cylinders=6, Displacement=262.0, Horsepower=85.0, Weight=3015.0, Acceleration=17.0, Model=82, Origin='US'), cars_data_class(Car='Chrysler Lebaron Medallion', MPG=26.0, Cylinders=4, Displacement=156.0, Horsepower=92.0, Weight=2585.0, Acceleration=14.5, Model=82, Origin='US'), cars_data_class(Car='Ford Grenada l', MPG=22.0, Cylinders=6, Displacement=232.0, Horsepower=112.0, Weight=2835, Acceleration=14.7, Model=82, Origin='US'), cars_data_class(Car='Toyota Celica GT', MPG=32.0, Cylinders=4, Displacement=144.0, Horsepower=96.0, Weight=2665.0, Acceleration=13.9, Model=82, Origin='Japan'), cars_data_class(Car='Dodge Charger 2.2', MPG=36.0, Cylinders=4, Displacement=135.0, Horsepower=84.0, Weight=2370.0, Acceleration=13.0, Model=82, Origin='US'), cars_data_class(Car='Chevrolet Camaro', MPG=27.0, Cylinders=4, Displacement=151.0, Horsepower=90.0, Weight=2950.0, Acceleration=17.3, Model=82, Origin='US'), cars_data_class(Car='Ford Mustang GL', MPG=27.0, Cylinders=4, Displacement=140.0, Horsepower=86.0, Weight=2790.0, Acceleration=15.6, Model=82, Origin='US'), cars_data_class(Car='Volkswagen Pickup', MPG=44.0, Cylinders=4, Displacement=97.0, Horsepower=52.0, Weight=2130.0, Acceleration=24.6, Model=82, Origin='Europe'), cars_data_class(Car='Dodge Rampage', MPG=32.0, Cylinders=4, Displacement=135.0, Horsepower=84.0, Weight=2295.0, Acceleration=11.6, Model=82, Origin='US'), cars_data_class(Car='Ford Ranger', MPG=28.0, Cylinders=4, Displacement=120.0, Horsepower=79.0, Weight=2625.0, Acceleration=18.6, Model=82, Origin='US'), cars_data_class(Car='Chevy S-10', MPG=31.0, Cylinders=4, Displacement=119.0, Horsepower=82.0, Weight=2720.0, Acceleration=19.4, Model=82, Origin='US')]\n",
            "[personal_info_data_class(ssn='100-53-9824', first_name='Sebastiano', last_name='Tester', gender='Male', language='Icelandic'), personal_info_data_class(ssn='101-71-4702', first_name='Cayla', last_name='MacDonagh', gender='Female', language='Lao'), personal_info_data_class(ssn='101-84-0356', first_name='Nomi', last_name='Lipprose', gender='Female', language='Yiddish'), personal_info_data_class(ssn='104-22-0928', first_name='Justinian', last_name='Kunzelmann', gender='Male', language='Dhivehi'), personal_info_data_class(ssn='104-84-7144', first_name='Claudianus', last_name='Brixey', gender='Male', language='Afrikaans'), personal_info_data_class(ssn='105-27-5541', first_name='Federico', last_name='Aggett', gender='Male', language='Chinese'), personal_info_data_class(ssn='105-85-7486', first_name='Angelina', last_name='McAvey', gender='Female', language='Punjabi'), personal_info_data_class(ssn='105-91-5022', first_name='Moselle', last_name='Apfel', gender='Female', language='Latvian'), personal_info_data_class(ssn='105-91-7777', first_name='Audi', last_name='Roach', gender='Female', language='Estonian'), personal_info_data_class(ssn='106-35-1938', first_name='Mackenzie', last_name='Nussey', gender='Male', language='Swedish'), personal_info_data_class(ssn='106-36-3293', first_name='Martino', last_name='Tregoning', gender='Male', language='Tok Pisin'), personal_info_data_class(ssn='110-84-3641', first_name='Amberly', last_name='Huws', gender='Female', language='Papiamento'), personal_info_data_class(ssn='111-35-1034', first_name='Giacopo', last_name='Timperley', gender='Male', language='Gagauz'), personal_info_data_class(ssn='114-06-6912', first_name='Jule', last_name='Velte', gender='Male', language='Dutch'), personal_info_data_class(ssn='114-66-0984', first_name='Casandra', last_name='Juares', gender='Female', language='Lithuanian'), personal_info_data_class(ssn='114-74-8701', first_name='Levey', last_name='Baradel', gender='Male', language='Icelandic'), personal_info_data_class(ssn='116-10-7235', first_name='Chiquita', last_name='Danbi', gender='Female', language='Dari'), personal_info_data_class(ssn='116-77-4915', first_name='Herold', last_name='Fearon', gender='Male', language='Italian'), personal_info_data_class(ssn='117-39-6617', first_name='Auroora', last_name='Yong', gender='Female', language='Swahili'), personal_info_data_class(ssn='117-77-9748', first_name='Lucien', last_name='Smalman', gender='Male', language='Hebrew'), personal_info_data_class(ssn='117-78-6202', first_name='Dareen', last_name='Jiggins', gender='Female', language='Polish'), personal_info_data_class(ssn='118-21-0357', first_name='Laina', last_name='Bayly', gender='Female', language='Bulgarian'), personal_info_data_class(ssn='118-95-7100', first_name='Alexi', last_name='Leglise', gender='Female', language='Lithuanian'), personal_info_data_class(ssn='119-07-8817', first_name='Blondie', last_name='Powderham', gender='Female', language='Croatian'), personal_info_data_class(ssn='120-33-5535', first_name='Eugen', last_name='Shark', gender='Male', language='Dhivehi'), personal_info_data_class(ssn='120-98-4054', first_name='Lorry', last_name='Hitter', gender='Male', language='Kazakh'), personal_info_data_class(ssn='121-98-3948', first_name='Sal', last_name='Le Lievre', gender='Male', language='Croatian'), personal_info_data_class(ssn='123-05-3229', first_name='Spenser', last_name='Shucksmith', gender='Male', language='Bosnian'), personal_info_data_class(ssn='123-62-2832', first_name='Kare', last_name='Barhams', gender='Female', language='Tajik'), personal_info_data_class(ssn='123-88-3381', first_name='Christiane', last_name='Hynes', gender='Female', language='Danish'), personal_info_data_class(ssn='125-07-9434', first_name='Florella', last_name='Mathevon', gender='Female', language='Armenian'), personal_info_data_class(ssn='127-49-2473', first_name='Quinta', last_name='Rippingall', gender='Female', language='Haitian Creole'), personal_info_data_class(ssn='127-52-8001', first_name='Wilona', last_name='Noirel', gender='Female', language='Aymara'), personal_info_data_class(ssn='127-68-4232', first_name='Tresa', last_name='Verheyden', gender='Female', language='Icelandic'), personal_info_data_class(ssn='127-93-3548', first_name='Mellicent', last_name='Ingham', gender='Female', language='Lao'), personal_info_data_class(ssn='128-42-4599', first_name='Neddy', last_name=\"O'Griffin\", gender='Male', language='Croatian'), personal_info_data_class(ssn='128-53-0369', first_name='Chucho', last_name='Rikel', gender='Male', language='Croatian'), personal_info_data_class(ssn='128-53-7952', first_name='Tobie', last_name='Newhouse', gender='Male', language='Luxembourgish'), personal_info_data_class(ssn='128-56-6040', first_name='Jinny', last_name='Stebbings', gender='Female', language='Armenian'), personal_info_data_class(ssn='128-60-4388', first_name='Norton', last_name='Shailer', gender='Male', language='Czech'), personal_info_data_class(ssn='129-67-0291', first_name='Danella', last_name='Linacre', gender='Female', language='Dzongkha'), personal_info_data_class(ssn='131-81-4310', first_name='Jemie', last_name='Manilo', gender='Female', language='Finnish'), personal_info_data_class(ssn='132-26-3507', first_name='Shalom', last_name='Arendsen', gender='Male', language='Hindi'), personal_info_data_class(ssn='134-05-0120', first_name='Simone', last_name='Cruickshanks', gender='Female', language='Filipino'), personal_info_data_class(ssn='135-86-9625', first_name='Tilly', last_name='Meir', gender='Female', language='Gagauz'), personal_info_data_class(ssn='137-13-1889', first_name='Tedman', last_name=\"O'Donnelly\", gender='Male', language='Bislama'), personal_info_data_class(ssn='138-65-4579', first_name='Davidson', last_name='Gregoraci', gender='Male', language='Luxembourgish'), personal_info_data_class(ssn='138-67-1198', first_name='Pam', last_name='Tofful', gender='Female', language='Bislama'), personal_info_data_class(ssn='138-88-5288', first_name='Joletta', last_name='Babcock', gender='Female', language='Burmese'), personal_info_data_class(ssn='139-04-8189', first_name='Stirling', last_name='Creak', gender='Male', language='Italian'), personal_info_data_class(ssn='139-94-5865', first_name='Donalt', last_name='Plewes', gender='Male', language='Haitian Creole'), personal_info_data_class(ssn='139-99-6417', first_name='Susanetta', last_name='Nazaret', gender='Female', language='Punjabi'), personal_info_data_class(ssn='140-33-9727', first_name='Price', last_name='Butterwick', gender='Male', language='Belarusian'), personal_info_data_class(ssn='140-58-8263', first_name='Tim', last_name='Bergin', gender='Female', language='Maori'), personal_info_data_class(ssn='141-15-0543', first_name='Candy', last_name='Murtagh', gender='Female', language='Montenegrin'), personal_info_data_class(ssn='141-88-9721', first_name='Cyrille', last_name='Capponer', gender='Male', language='Tswana'), personal_info_data_class(ssn='142-77-4616', first_name='Barron', last_name='Victoria', gender='Male', language='Assamese'), personal_info_data_class(ssn='142-87-3416', first_name='Margaux', last_name='Wintringham', gender='Female', language='Tajik'), personal_info_data_class(ssn='143-17-4714', first_name='Hallie', last_name='Jeggo', gender='Female', language='Greek'), personal_info_data_class(ssn='145-10-8454', first_name='Donny', last_name='Laba', gender='Male', language='Japanese'), personal_info_data_class(ssn='145-35-5124', first_name='Leon', last_name='Boyson', gender='Male', language='Dhivehi'), personal_info_data_class(ssn='145-78-3985', first_name='Baron', last_name='Cocci', gender='Male', language='Mongolian'), personal_info_data_class(ssn='146-81-3446', first_name='Korry', last_name='Billham', gender='Female', language='Hebrew'), personal_info_data_class(ssn='147-33-1463', first_name='Bendicty', last_name='Gentry', gender='Male', language='Papiamento'), personal_info_data_class(ssn='147-47-8577', first_name='Janessa', last_name='Growy', gender='Female', language='Gujarati'), personal_info_data_class(ssn='147-63-3462', first_name='Aime', last_name='Di Antonio', gender='Female', language='Tok Pisin'), personal_info_data_class(ssn='148-60-7519', first_name='Jordan', last_name='Readwood', gender='Female', language='Khmer'), personal_info_data_class(ssn='149-18-7272', first_name='Andrey', last_name='Bettley', gender='Male', language='Papiamento'), personal_info_data_class(ssn='149-45-6482', first_name='Wheeler', last_name='Harbottle', gender='Male', language='Georgian'), personal_info_data_class(ssn='150-64-6357', first_name='Helenka', last_name='Summerell', gender='Female', language='Bosnian'), personal_info_data_class(ssn='150-89-3343', first_name='Bram', last_name='Beetlestone', gender='Male', language='Dzongkha'), personal_info_data_class(ssn='151-54-3946', first_name='Piggy', last_name='Fishly', gender='Male', language='Nepali'), personal_info_data_class(ssn='151-70-0641', first_name='Urbain', last_name='Balint', gender='Male', language='Malagasy'), personal_info_data_class(ssn='151-78-1397', first_name='Portia', last_name='Belshaw', gender='Female', language='Sotho'), personal_info_data_class(ssn='152-71-3526', first_name='Mel', last_name='Atkirk', gender='Female', language='Swedish'), personal_info_data_class(ssn='153-67-1309', first_name='Annelise', last_name='Yushin', gender='Female', language='French'), personal_info_data_class(ssn='154-17-7912', first_name='Ainslee', last_name='Branche', gender='Female', language='Hindi'), personal_info_data_class(ssn='156-18-7547', first_name='Trey', last_name='Payne', gender='Male', language='West Frisian'), personal_info_data_class(ssn='156-91-6848', first_name='Carol', last_name='Cromar', gender='Female', language='Amharic'), personal_info_data_class(ssn='157-17-9982', first_name='Ardyce', last_name='Kuhnel', gender='Female', language='Danish'), personal_info_data_class(ssn='157-38-7090', first_name='Johannes', last_name='Bugge', gender='Male', language='Afrikaans'), personal_info_data_class(ssn='157-51-5269', first_name='Melisse', last_name='Petkov', gender='Female', language='Punjabi'), personal_info_data_class(ssn='161-36-9710', first_name='Melina', last_name='MacDavitt', gender='Female', language='Polish'), personal_info_data_class(ssn='161-53-4778', first_name='Kiri', last_name='Ciccone', gender='Female', language='Kyrgyz'), personal_info_data_class(ssn='163-68-8070', first_name='Vassily', last_name='MacCarlich', gender='Male', language='Filipino'), personal_info_data_class(ssn='163-98-1022', first_name='Babbette', last_name='Crystal', gender='Female', language='Lithuanian'), personal_info_data_class(ssn='164-11-9849', first_name='Clemence', last_name='Aujean', gender='Female', language='Albanian'), personal_info_data_class(ssn='166-10-4488', first_name='Lester', last_name='Keyson', gender='Male', language='Bislama'), personal_info_data_class(ssn='167-39-2377', first_name='Reyna', last_name='Ullyatt', gender='Female', language='Portuguese'), personal_info_data_class(ssn='168-02-5324', first_name='Dane', last_name='Cornick', gender='Male', language='Tajik'), personal_info_data_class(ssn='168-19-8754', first_name='Teddie', last_name='Ingliss', gender='Male', language='Norwegian'), personal_info_data_class(ssn='168-81-0838', first_name='Toby', last_name='Pond-Jones', gender='Female', language='Aymara'), personal_info_data_class(ssn='168-89-6661', first_name='Vergil', last_name='Cecere', gender='Male', language='Tetum'), personal_info_data_class(ssn='170-65-3388', first_name='Salvidor', last_name='Larcher', gender='Male', language='Burmese'), personal_info_data_class(ssn='171-27-7781', first_name='Phillida', last_name='Cleeve', gender='Female', language='Lao'), personal_info_data_class(ssn='172-23-7739', first_name='Everett', last_name='Turneaux', gender='Male', language='Kyrgyz'), personal_info_data_class(ssn='172-77-4263', first_name='Alex', last_name='Udie', gender='Male', language='French'), personal_info_data_class(ssn='172-89-7546', first_name='Trude', last_name='Gillson', gender='Female', language='Norwegian'), personal_info_data_class(ssn='173-99-7372', first_name='Hedwiga', last_name='Gee', gender='Female', language='Danish'), personal_info_data_class(ssn='174-13-2047', first_name='Rey', last_name='Dallywater', gender='Female', language='Zulu'), personal_info_data_class(ssn='174-35-3812', first_name='Sayer', last_name='Astling', gender='Male', language='Kyrgyz'), personal_info_data_class(ssn='174-51-9992', first_name='Drucie', last_name='Travers', gender='Female', language='Swati'), personal_info_data_class(ssn='174-87-2537', first_name='Benton', last_name='Nolte', gender='Male', language='Persian'), personal_info_data_class(ssn='176-82-1359', first_name='Corny', last_name='Rothera', gender='Female', language='Thai'), personal_info_data_class(ssn='176-99-5851', first_name='Olivero', last_name='Janse', gender='Male', language='Moldovan'), personal_info_data_class(ssn='179-88-2790', first_name='Errick', last_name='Charsley', gender='Male', language='Japanese'), personal_info_data_class(ssn='181-07-4434', first_name='Ferdinande', last_name='Probet', gender='Female', language='Catalan'), personal_info_data_class(ssn='181-28-8337', first_name='Fan', last_name='Hillyatt', gender='Female', language='Moldovan'), personal_info_data_class(ssn='181-88-6077', first_name='Ebba', last_name='Wozencroft', gender='Female', language='German'), personal_info_data_class(ssn='182-15-5082', first_name='Lavinie', last_name='Niess', gender='Female', language='Swahili'), personal_info_data_class(ssn='182-81-4541', first_name='Sunny', last_name='Ferrarini', gender='Male', language='Swedish'), personal_info_data_class(ssn='183-10-5024', first_name='Curran', last_name='Squires', gender='Male', language='Romanian'), personal_info_data_class(ssn='184-60-6243', first_name='Fern', last_name='Demogeot', gender='Female', language='Tok Pisin'), personal_info_data_class(ssn='184-84-1003', first_name='Bary', last_name='Buzin', gender='Male', language='Aymara'), personal_info_data_class(ssn='184-92-3560', first_name='Kore', last_name='Eastes', gender='Female', language='Fijian'), personal_info_data_class(ssn='184-94-5241', first_name='Manfred', last_name='McCrillis', gender='Male', language='Swati'), personal_info_data_class(ssn='185-50-0434', first_name='Alexa', last_name='Emblin', gender='Female', language='Quechua'), personal_info_data_class(ssn='185-84-9868', first_name='Shandy', last_name='Ilyin', gender='Female', language='Northern Sotho'), personal_info_data_class(ssn='186-65-7773', first_name='Hazlett', last_name='Arney', gender='Male', language='Marathi'), personal_info_data_class(ssn='188-20-9317', first_name='Clifford', last_name='Sedgemore', gender='Male', language='Thai'), personal_info_data_class(ssn='188-40-4336', first_name='Belita', last_name='Camolli', gender='Female', language='Telugu'), personal_info_data_class(ssn='189-26-5696', first_name='Arnold', last_name='Pepis', gender='Male', language='Tok Pisin'), personal_info_data_class(ssn='189-49-1458', first_name='Vernen', last_name='Ivanyushkin', gender='Male', language='Quechua'), personal_info_data_class(ssn='190-05-6987', first_name='Gorden', last_name='Clemonts', gender='Male', language='West Frisian'), personal_info_data_class(ssn='190-53-4517', first_name='Hadlee', last_name='Rohan', gender='Male', language='Swahili'), personal_info_data_class(ssn='191-15-3194', first_name='Calhoun', last_name='Mugford', gender='Male', language='Thai'), personal_info_data_class(ssn='192-54-0695', first_name='Trev', last_name='Ruppeli', gender='Male', language='Maori'), personal_info_data_class(ssn='192-67-3201', first_name='Edvard', last_name='Cattel', gender='Male', language='Hebrew'), personal_info_data_class(ssn='194-76-5816', first_name='Jacquelynn', last_name='Shurey', gender='Female', language='Amharic'), personal_info_data_class(ssn='195-23-5731', first_name='Talyah', last_name='Canny', gender='Female', language='Portuguese'), personal_info_data_class(ssn='196-69-3796', first_name='Marijo', last_name='Tester', gender='Female', language='Oriya'), personal_info_data_class(ssn='198-70-6443', first_name='Judah', last_name='Duggan', gender='Male', language='Macedonian'), personal_info_data_class(ssn='199-45-0804', first_name='Consolata', last_name='Pigram', gender='Female', language='Guarana'), personal_info_data_class(ssn='199-54-4639', first_name='Ellene', last_name='Dowrey', gender='Female', language='Nepali'), personal_info_data_class(ssn='200-81-7151', first_name='Merilyn', last_name='Tink', gender='Female', language='Bengali'), personal_info_data_class(ssn='201-53-1249', first_name='Jammal', last_name='Dohmer', gender='Male', language='Danish'), personal_info_data_class(ssn='202-84-1146', first_name='Dore', last_name='Woodrup', gender='Male', language='Afrikaans'), personal_info_data_class(ssn='203-35-7648', first_name='Budd', last_name='Artiss', gender='Male', language='Norwegian'), personal_info_data_class(ssn='205-69-7375', first_name='Cacilia', last_name='Kneesha', gender='Female', language='Indonesian'), personal_info_data_class(ssn='205-87-2423', first_name='Oralla', last_name='Kearle', gender='Female', language='Zulu'), personal_info_data_class(ssn='206-28-6674', first_name='Con', last_name='Mansbridge', gender='Male', language='Haitian Creole'), personal_info_data_class(ssn='206-83-8848', first_name='Ardyth', last_name='Arger', gender='Female', language='Gagauz'), personal_info_data_class(ssn='208-74-2166', first_name='Tiebold', last_name='Gherarducci', gender='Male', language='Croatian'), personal_info_data_class(ssn='208-80-5879', first_name='Rockie', last_name='Fryd', gender='Male', language='Korean'), personal_info_data_class(ssn='209-50-8146', first_name='Kenna', last_name='Meryett', gender='Female', language='Czech'), personal_info_data_class(ssn='209-58-4708', first_name='Stephanus', last_name='Creboe', gender='Male', language='Latvian'), personal_info_data_class(ssn='210-91-4729', first_name='Tamarra', last_name='Minchella', gender='Female', language='Greek'), personal_info_data_class(ssn='211-04-1734', first_name='Jeana', last_name='Girardeau', gender='Female', language='Dzongkha'), personal_info_data_class(ssn='211-13-5247', first_name='Wes', last_name='Weinberg', gender='Male', language='French'), personal_info_data_class(ssn='211-15-5182', first_name='Gene', last_name='Bassilashvili', gender='Female', language='Swedish'), personal_info_data_class(ssn='211-19-6826', first_name='Noni', last_name='Meynell', gender='Female', language='Portuguese'), personal_info_data_class(ssn='212-40-0215', first_name='Giffie', last_name='Strauss', gender='Male', language='Azeri'), personal_info_data_class(ssn='212-41-1496', first_name='Agnese', last_name='Lawes', gender='Female', language='Tamil'), personal_info_data_class(ssn='213-28-1395', first_name='Catlaina', last_name='Patullo', gender='Female', language='Bengali'), personal_info_data_class(ssn='214-29-1189', first_name='Chandler', last_name='Gonsalvo', gender='Male', language='Haitian Creole'), personal_info_data_class(ssn='214-96-8581', first_name='Earlie', last_name='de Nore', gender='Male', language='Georgian'), personal_info_data_class(ssn='214-99-7584', first_name='Barny', last_name='Witherden', gender='Male', language='Czech'), personal_info_data_class(ssn='216-89-3812', first_name='Florian', last_name='Jaze', gender='Male', language='Croatian'), personal_info_data_class(ssn='216-97-3104', first_name='Elvira', last_name='McDougal', gender='Female', language='Bislama'), personal_info_data_class(ssn='217-71-3922', first_name='Hayes', last_name='Vallentin', gender='Male', language='Bengali'), personal_info_data_class(ssn='217-81-5416', first_name='Gusta', last_name='Cruise', gender='Female', language='Tsonga'), personal_info_data_class(ssn='218-14-4448', first_name='Keary', last_name='Druhan', gender='Male', language='Dutch'), personal_info_data_class(ssn='218-25-9873', first_name='Westbrooke', last_name='Succamore', gender='Male', language='Fijian'), personal_info_data_class(ssn='218-31-1615', first_name='Trenton', last_name='Eggerton', gender='Male', language='Dari'), personal_info_data_class(ssn='218-49-7300', first_name='Justinn', last_name='Sherebrooke', gender='Female', language='English'), personal_info_data_class(ssn='220-16-0476', first_name='Baxy', last_name='Brothwood', gender='Male', language='Kyrgyz'), personal_info_data_class(ssn='220-38-0208', first_name='Jess', last_name='Fulun', gender='Female', language='Gagauz'), personal_info_data_class(ssn='222-39-8571', first_name='Fidelia', last_name='Domonkos', gender='Female', language='Fijian'), personal_info_data_class(ssn='223-67-9203', first_name='Markus', last_name='Radband', gender='Male', language='Bosnian'), personal_info_data_class(ssn='223-98-0846', first_name='Josy', last_name='Hadwick', gender='Female', language='Papiamento'), personal_info_data_class(ssn='224-12-3436', first_name='Alister', last_name='Eakle', gender='Male', language='Estonian'), personal_info_data_class(ssn='224-30-9267', first_name='Flori', last_name='Bagnal', gender='Female', language='Swedish'), personal_info_data_class(ssn='224-54-6919', first_name='Kelly', last_name='Shipman', gender='Male', language='Icelandic'), personal_info_data_class(ssn='224-84-2271', first_name='Weider', last_name='Carlisle', gender='Male', language='Swedish'), personal_info_data_class(ssn='224-99-0668', first_name='Brandy', last_name='Steed', gender='Male', language='Croatian'), personal_info_data_class(ssn='225-08-5789', first_name='Tamra', last_name='Becken', gender='Female', language='Telugu'), personal_info_data_class(ssn='225-64-2735', first_name='Graig', last_name='Rasher', gender='Male', language='Maltese'), personal_info_data_class(ssn='226-76-4452', first_name='Van', last_name='Gervaise', gender='Male', language='Greek'), personal_info_data_class(ssn='227-72-7247', first_name='Mauricio', last_name='Gush', gender='Male', language='Tajik'), personal_info_data_class(ssn='228-16-7922', first_name='Tabby', last_name='Chitty', gender='Male', language='Spanish'), personal_info_data_class(ssn='228-55-2042', first_name='Jaquith', last_name='Durtnel', gender='Female', language='Czech'), personal_info_data_class(ssn='228-90-5077', first_name='Jonathon', last_name='Klugel', gender='Male', language='Hindi'), personal_info_data_class(ssn='229-44-9909', first_name='Barnabas', last_name='Heppenspall', gender='Male', language='Icelandic'), personal_info_data_class(ssn='230-09-1794', first_name='Xerxes', last_name='Mathivon', gender='Male', language='Danish'), personal_info_data_class(ssn='230-48-0684', first_name='Clay', last_name='Peaurt', gender='Male', language='Dhivehi'), personal_info_data_class(ssn='230-99-1485', first_name='Markus', last_name='Revill', gender='Male', language='Moldovan'), personal_info_data_class(ssn='231-66-9264', first_name='Gisele', last_name='Castelow', gender='Female', language='Hiri Motu'), personal_info_data_class(ssn='232-18-5397', first_name='Clare', last_name='McGairl', gender='Female', language='Bengali'), personal_info_data_class(ssn='233-27-2377', first_name='Arlyne', last_name='Stenning', gender='Female', language='Dari'), personal_info_data_class(ssn='235-10-3518', first_name='Winfield', last_name='Purvis', gender='Male', language='Estonian'), personal_info_data_class(ssn='236-31-8333', first_name='Wendeline', last_name='Millins', gender='Female', language='Kashmiri'), personal_info_data_class(ssn='236-37-2567', first_name='Ariel', last_name='Murrigan', gender='Female', language='West Frisian'), personal_info_data_class(ssn='237-48-6737', first_name='Eal', last_name='Ducastel', gender='Male', language='Indonesian'), personal_info_data_class(ssn='237-80-7039', first_name='Ardyce', last_name='Hunn', gender='Female', language='Maltese'), personal_info_data_class(ssn='238-13-8034', first_name='Estrellita', last_name='Heavy', gender='Female', language='Azeri'), personal_info_data_class(ssn='238-39-9999', first_name='Pauly', last_name='Griffin', gender='Female', language='Georgian'), personal_info_data_class(ssn='239-09-9133', first_name='Tom', last_name='Roggeman', gender='Male', language='Sotho'), personal_info_data_class(ssn='239-37-4122', first_name='Jodee', last_name='Elsdon', gender='Female', language='Guarana'), personal_info_data_class(ssn='240-08-8805', first_name='Gates', last_name='McGiffin', gender='Female', language='Finnish'), personal_info_data_class(ssn='240-32-8915', first_name='Cathee', last_name='Tarbard', gender='Female', language='Papiamento'), personal_info_data_class(ssn='240-67-6258', first_name='Kalina', last_name='Lloyds', gender='Female', language='Hindi'), personal_info_data_class(ssn='242-22-9624', first_name='Felice', last_name='Surr', gender='Male', language='Afrikaans'), personal_info_data_class(ssn='243-37-9496', first_name='Verine', last_name='Etchells', gender='Female', language='Burmese'), personal_info_data_class(ssn='243-44-4611', first_name='Shani', last_name=\"O'Tierney\", gender='Female', language='Aymara'), personal_info_data_class(ssn='244-34-2210', first_name='Lek', last_name='Heino', gender='Male', language='New Zealand Sign Language'), personal_info_data_class(ssn='244-52-7593', first_name='Erda', last_name='Paulusch', gender='Female', language='Gujarati'), personal_info_data_class(ssn='244-79-3004', first_name='Renault', last_name='Stollard', gender='Male', language='Amharic'), personal_info_data_class(ssn='244-81-0671', first_name='Viviyan', last_name='Udell', gender='Female', language='Moldovan'), personal_info_data_class(ssn='245-60-5880', first_name='Oby', last_name='Hauxby', gender='Male', language='French'), personal_info_data_class(ssn='245-77-4110', first_name='Alasdair', last_name='McAndrew', gender='Male', language='Czech'), personal_info_data_class(ssn='247-08-9326', first_name='Minni', last_name='Scurman', gender='Female', language='Kannada'), personal_info_data_class(ssn='247-86-5288', first_name='Lilly', last_name='Holby', gender='Female', language='Bosnian'), personal_info_data_class(ssn='248-07-9757', first_name='Sean', last_name='Ham', gender='Male', language='Luxembourgish'), personal_info_data_class(ssn='248-23-0150', first_name='Welbie', last_name='Gilley', gender='Male', language='Korean'), personal_info_data_class(ssn='249-19-5514', first_name='Yehudi', last_name='Pharoah', gender='Male', language='Latvian'), personal_info_data_class(ssn='253-61-8401', first_name='Genny', last_name='Juara', gender='Female', language='Tswana'), personal_info_data_class(ssn='254-10-6071', first_name='Dwight', last_name='Eastcourt', gender='Male', language='Oriya'), personal_info_data_class(ssn='254-92-9669', first_name='Tom', last_name='Larking', gender='Male', language='Icelandic'), personal_info_data_class(ssn='255-81-0958', first_name='Darryl', last_name='Sparkes', gender='Female', language='Estonian'), personal_info_data_class(ssn='256-54-7507', first_name='Angus', last_name='Cullip', gender='Male', language='Spanish'), personal_info_data_class(ssn='256-57-0666', first_name='Rip', last_name='Grube', gender='Male', language='Ndebele'), personal_info_data_class(ssn='257-12-6834', first_name='Derward', last_name='Paladini', gender='Male', language='Thai'), personal_info_data_class(ssn='257-59-8603', first_name='Cyrillus', last_name='Sanchiz', gender='Male', language='Romanian'), personal_info_data_class(ssn='257-77-3669', first_name='Ynez', last_name='Hain', gender='Female', language='Kazakh'), personal_info_data_class(ssn='258-22-6416', first_name='Veriee', last_name='Klein', gender='Female', language='Northern Sotho'), personal_info_data_class(ssn='259-38-5920', first_name='Jethro', last_name='Rustidge', gender='Male', language='Fijian'), personal_info_data_class(ssn='261-14-9490', first_name='Lorry', last_name='Boshere', gender='Male', language='Oriya'), personal_info_data_class(ssn='262-09-2144', first_name='Leigh', last_name='Paxforde', gender='Male', language='Portuguese'), personal_info_data_class(ssn='262-46-7573', first_name='Lorene', last_name='Vagg', gender='Female', language='Punjabi'), personal_info_data_class(ssn='262-55-4066', first_name='Kaitlynn', last_name='Bleazard', gender='Female', language='Estonian'), personal_info_data_class(ssn='262-66-7030', first_name='Gray', last_name='Bissatt', gender='Female', language='Khmer'), personal_info_data_class(ssn='264-39-3910', first_name='Elysia', last_name='Favell', gender='Female', language='Hindi'), personal_info_data_class(ssn='266-86-9980', first_name='Rita', last_name='Leving', gender='Female', language='Latvian'), personal_info_data_class(ssn='267-75-6383', first_name='Ardath', last_name='Pitts', gender='Female', language='Romanian'), personal_info_data_class(ssn='269-01-2640', first_name='Russell', last_name='Dabner', gender='Male', language='Danish'), personal_info_data_class(ssn='271-04-0134', first_name='Eadith', last_name='Jerg', gender='Female', language='Gagauz'), personal_info_data_class(ssn='271-81-9938', first_name='James', last_name='Robbins', gender='Male', language='Bengali'), personal_info_data_class(ssn='271-93-3051', first_name='Augustin', last_name='Agiolfinger', gender='Male', language='Latvian'), personal_info_data_class(ssn='272-50-7309', first_name='Sig', last_name='Ather', gender='Male', language='Catalan'), personal_info_data_class(ssn='272-81-7979', first_name='Sherlocke', last_name='Giddings', gender='Male', language='Georgian'), personal_info_data_class(ssn='273-49-8218', first_name='Haze', last_name='Starkings', gender='Male', language='Portuguese'), personal_info_data_class(ssn='274-50-3806', first_name='Shurlocke', last_name='Aron', gender='Male', language='Punjabi'), personal_info_data_class(ssn='274-76-9883', first_name='Fawn', last_name='MacNamara', gender='Female', language='Bengali'), personal_info_data_class(ssn='276-05-2973', first_name='Cly', last_name='Yerlett', gender='Male', language='Kazakh'), personal_info_data_class(ssn='278-55-5842', first_name='Korie', last_name='Di Pietro', gender='Female', language='German'), personal_info_data_class(ssn='278-64-4853', first_name='Diane-marie', last_name='Broggini', gender='Female', language='Tsonga'), personal_info_data_class(ssn='279-12-7167', first_name='Elbertina', last_name='Alders', gender='Female', language='Amharic'), personal_info_data_class(ssn='279-40-5540', first_name='Montague', last_name='Knowler', gender='Male', language='Chinese'), personal_info_data_class(ssn='279-49-5682', first_name='Kleon', last_name='Tembridge', gender='Male', language='Gagauz'), personal_info_data_class(ssn='280-53-7447', first_name='Suzette', last_name='Prahl', gender='Female', language='Romanian'), personal_info_data_class(ssn='280-98-4410', first_name='Ealasaid', last_name='Devon', gender='Female', language='Tok Pisin'), personal_info_data_class(ssn='281-23-3458', first_name='Bettina', last_name='Danilov', gender='Female', language='Sotho'), personal_info_data_class(ssn='282-83-9206', first_name='Jackie', last_name='McPhater', gender='Male', language='Gagauz'), personal_info_data_class(ssn='283-04-6835', first_name='Tobey', last_name='Joule', gender='Female', language='Dzongkha'), personal_info_data_class(ssn='286-26-4004', first_name='Augustus', last_name='Doodson', gender='Male', language='Romanian'), personal_info_data_class(ssn='287-57-9688', first_name='Joachim', last_name='Moncreiff', gender='Male', language='Catalan'), personal_info_data_class(ssn='287-66-2660', first_name='Larissa', last_name='Airy', gender='Female', language='Bislama'), personal_info_data_class(ssn='288-54-7233', first_name='Hedy', last_name='Eaklee', gender='Female', language='English'), personal_info_data_class(ssn='288-87-6462', first_name='Stanislaus', last_name='Haylor', gender='Male', language='Kannada'), personal_info_data_class(ssn='289-03-9882', first_name='Giusto', last_name='Baszniak', gender='Male', language='Yiddish'), personal_info_data_class(ssn='289-09-8686', first_name='Heath', last_name='Stallan', gender='Male', language='Malayalam'), personal_info_data_class(ssn='290-25-7300', first_name='Bowie', last_name='Bancroft', gender='Male', language='Thai'), personal_info_data_class(ssn='290-82-4968', first_name='Ingram', last_name='Kincade', gender='Male', language='Moldovan'), personal_info_data_class(ssn='293-54-3694', first_name='Theodora', last_name='Geddes', gender='Female', language='Maori'), personal_info_data_class(ssn='294-27-9936', first_name='Cari', last_name='Bradane', gender='Female', language='Japanese'), personal_info_data_class(ssn='294-53-1911', first_name='Ginelle', last_name='Jaquet', gender='Female', language='Persian'), personal_info_data_class(ssn='295-63-7693', first_name='Fonzie', last_name='Fattorini', gender='Male', language='Estonian'), personal_info_data_class(ssn='296-32-7910', first_name='Harlene', last_name='Morrill', gender='Female', language='Swati'), personal_info_data_class(ssn='296-88-0097', first_name='Herculie', last_name='Branthwaite', gender='Male', language='Hungarian'), personal_info_data_class(ssn='296-90-4908', first_name='Holt', last_name='Angel', gender='Male', language='Tamil'), personal_info_data_class(ssn='297-63-1154', first_name='Maribelle', last_name='Gowanson', gender='Female', language='Montenegrin'), personal_info_data_class(ssn='298-06-3497', first_name='Moshe', last_name='Thomassin', gender='Male', language='Polish'), personal_info_data_class(ssn='298-69-9168', first_name='Shea', last_name='Canon', gender='Male', language='Finnish'), personal_info_data_class(ssn='298-70-6018', first_name='Minny', last_name='Van der Baaren', gender='Female', language='Afrikaans'), personal_info_data_class(ssn='298-79-7640', first_name='Mycah', last_name='Hillam', gender='Male', language='Swahili'), personal_info_data_class(ssn='299-03-6911', first_name='Janela', last_name='Ferrone', gender='Female', language='Gagauz'), personal_info_data_class(ssn='299-38-0483', first_name='Robb', last_name='Posner', gender='Male', language='Italian'), personal_info_data_class(ssn='299-77-1060', first_name='Bellina', last_name='Galbreth', gender='Female', language='Norwegian'), personal_info_data_class(ssn='300-59-3610', first_name='Tam', last_name='Howles', gender='Male', language='Pashto'), personal_info_data_class(ssn='300-76-8770', first_name='Danielle', last_name='Rowth', gender='Female', language='Italian'), personal_info_data_class(ssn='300-80-7209', first_name='Gabbie', last_name='Burney', gender='Female', language='Dutch'), personal_info_data_class(ssn='301-26-4306', first_name='Emmye', last_name='Whelpdale', gender='Female', language='Tajik'), personal_info_data_class(ssn='301-51-0522', first_name='Kenneth', last_name='Methley', gender='Male', language='Papiamento'), personal_info_data_class(ssn='302-64-4858', first_name='Hakeem', last_name='Zelley', gender='Male', language='Afrikaans'), personal_info_data_class(ssn='304-48-4312', first_name='Edeline', last_name='Van de Vlies', gender='Female', language='Montenegrin'), personal_info_data_class(ssn='305-07-1498', first_name='Ruddy', last_name=\"O'Crotty\", gender='Male', language='Spanish'), personal_info_data_class(ssn='306-23-2423', first_name='Ree', last_name='Meader', gender='Female', language='Polish'), personal_info_data_class(ssn='306-86-2930', first_name='Kassie', last_name='Neaverson', gender='Female', language='Luxembourgish'), personal_info_data_class(ssn='308-58-0964', first_name='Talbert', last_name='Osipov', gender='Male', language='Tetum'), personal_info_data_class(ssn='309-04-0364', first_name='Dov', last_name='Speight', gender='Male', language='Tajik'), personal_info_data_class(ssn='309-38-8085', first_name='Nell', last_name='Scrigmour', gender='Female', language='Persian'), personal_info_data_class(ssn='310-60-2027', first_name='Zacherie', last_name='Parken', gender='Male', language='Albanian'), personal_info_data_class(ssn='311-46-9296', first_name='Alic', last_name='Pabel', gender='Male', language='Fijian'), personal_info_data_class(ssn='312-38-7084', first_name='Ezri', last_name='Paolicchi', gender='Male', language='Malagasy'), personal_info_data_class(ssn='312-59-3476', first_name='Sadye', last_name='Beloe', gender='Female', language='Icelandic'), personal_info_data_class(ssn='312-77-3647', first_name='Hussein', last_name='Blything', gender='Male', language='Hebrew'), personal_info_data_class(ssn='313-02-7822', first_name='Spence', last_name='Climer', gender='Male', language='Maori'), personal_info_data_class(ssn='313-52-7312', first_name='Farrand', last_name='MacKenzie', gender='Female', language='French'), personal_info_data_class(ssn='315-12-5664', first_name='Vere', last_name='Morlon', gender='Female', language='German'), personal_info_data_class(ssn='315-26-2241', first_name='Cammy', last_name='Harland', gender='Female', language='Bulgarian'), personal_info_data_class(ssn='315-44-9671', first_name='Ximenez', last_name='Maghull', gender='Male', language='Macedonian'), personal_info_data_class(ssn='315-78-5587', first_name='Helsa', last_name='Lumber', gender='Female', language='Tok Pisin'), personal_info_data_class(ssn='317-28-1600', first_name='Rodrick', last_name='Abrahams', gender='Male', language='Assamese'), personal_info_data_class(ssn='317-43-2055', first_name='Jocelyn', last_name='Gildroy', gender='Female', language='Punjabi'), personal_info_data_class(ssn='318-58-5314', first_name='Stephan', last_name='Peatt', gender='Male', language='New Zealand Sign Language'), personal_info_data_class(ssn='319-43-0465', first_name='Boothe', last_name='Vanin', gender='Male', language='West Frisian'), personal_info_data_class(ssn='320-90-1419', first_name='Em', last_name='Darwood', gender='Male', language='Icelandic'), personal_info_data_class(ssn='320-97-9147', first_name='Roch', last_name='Wahlberg', gender='Female', language='Thai'), personal_info_data_class(ssn='323-28-6705', first_name='Christiano', last_name='Stoffler', gender='Male', language='Kyrgyz'), personal_info_data_class(ssn='323-33-8689', first_name='Dulcinea', last_name='Lundberg', gender='Female', language='Dutch'), personal_info_data_class(ssn='324-39-5230', first_name='Alexandrina', last_name='Dahlbom', gender='Female', language='Moldovan'), personal_info_data_class(ssn='324-73-8895', first_name='Walliw', last_name='Alstead', gender='Female', language='Guarana'), personal_info_data_class(ssn='324-75-6098', first_name='Rafael', last_name='Robinett', gender='Male', language='Portuguese'), personal_info_data_class(ssn='326-64-9957', first_name='Jorgan', last_name='Renowden', gender='Male', language='Swati'), personal_info_data_class(ssn='327-52-0546', first_name='Carlota', last_name='Hovey', gender='Female', language='English'), personal_info_data_class(ssn='327-88-7554', first_name='Malynda', last_name='Kingerby', gender='Female', language='Swahili'), personal_info_data_class(ssn='330-99-3055', first_name='Marinna', last_name='Dally', gender='Female', language='Azeri'), personal_info_data_class(ssn='332-83-6591', first_name='Forrester', last_name='Cullabine', gender='Male', language='Dzongkha'), personal_info_data_class(ssn='333-52-5097', first_name='Florentia', last_name='Espinazo', gender='Female', language='Tetum'), personal_info_data_class(ssn='333-95-5025', first_name='Rebeca', last_name='Walesa', gender='Female', language='Zulu'), personal_info_data_class(ssn='335-35-1520', first_name='Ervin', last_name='Hugues', gender='Male', language='Armenian'), personal_info_data_class(ssn='336-48-2579', first_name='Renee', last_name='Crank', gender='Female', language='Armenian'), personal_info_data_class(ssn='339-27-8046', first_name='Julita', last_name='Jouhan', gender='Female', language='Bosnian'), personal_info_data_class(ssn='339-71-2687', first_name='Marlie', last_name='Corpe', gender='Female', language='Persian'), personal_info_data_class(ssn='341-10-6840', first_name='Cyrille', last_name='Critchlow', gender='Male', language='Portuguese'), personal_info_data_class(ssn='342-05-9057', first_name='Beatrix', last_name='Relton', gender='Female', language='Latvian'), personal_info_data_class(ssn='342-55-0538', first_name='Hilliary', last_name='Suddards', gender='Female', language='Dzongkha'), personal_info_data_class(ssn='342-90-9333', first_name='Geri', last_name='Yesinov', gender='Male', language='Norwegian'), personal_info_data_class(ssn='343-20-8407', first_name='Bradford', last_name='Niemiec', gender='Male', language='Chinese'), personal_info_data_class(ssn='343-81-3179', first_name='Reinhard', last_name='Bortolutti', gender='Male', language='Kannada'), personal_info_data_class(ssn='345-74-2160', first_name='Camile', last_name='Pengelly', gender='Female', language='Lao'), personal_info_data_class(ssn='347-09-3254', first_name='Dulciana', last_name='Hexum', gender='Female', language='Lao'), personal_info_data_class(ssn='347-64-8652', first_name='Dusty', last_name='Morat', gender='Female', language='Japanese'), personal_info_data_class(ssn='348-73-4312', first_name='Elberta', last_name='Howden', gender='Female', language='Khmer'), personal_info_data_class(ssn='348-74-3224', first_name='Dorthy', last_name='Abreheart', gender='Female', language='Bosnian'), personal_info_data_class(ssn='349-53-8864', first_name='Muffin', last_name='Lord', gender='Female', language='Georgian'), personal_info_data_class(ssn='349-67-7502', first_name='Ari', last_name='Yitzhakov', gender='Male', language='Zulu'), personal_info_data_class(ssn='350-20-9593', first_name='Eldridge', last_name='Crispin', gender='Male', language='Dutch'), personal_info_data_class(ssn='350-80-4646', first_name='Harp', last_name='Du Plantier', gender='Male', language='Dutch'), personal_info_data_class(ssn='351-73-2802', first_name='Cybill', last_name='Parnham', gender='Female', language='Latvian'), personal_info_data_class(ssn='355-21-9711', first_name='Daryn', last_name='Battin', gender='Female', language='Georgian'), personal_info_data_class(ssn='355-52-9767', first_name='Kacy', last_name='Offen', gender='Female', language='Kurdish'), personal_info_data_class(ssn='355-96-7706', first_name='Lauritz', last_name='Lucock', gender='Male', language='Mongolian'), personal_info_data_class(ssn='356-39-9199', first_name='Arney', last_name='Polglaze', gender='Male', language='Marathi'), personal_info_data_class(ssn='357-37-6094', first_name='Chrisse', last_name='Kirton', gender='Male', language='Latvian'), personal_info_data_class(ssn='358-84-7049', first_name='Emalee', last_name='McCleary', gender='Female', language='Thai'), personal_info_data_class(ssn='360-69-6230', first_name='Grannie', last_name='Champ', gender='Male', language='Belarusian'), personal_info_data_class(ssn='361-06-1530', first_name='Luis', last_name='Ashborne', gender='Male', language='Mongolian'), personal_info_data_class(ssn='361-42-7068', first_name='Ashia', last_name='Ferran', gender='Female', language='West Frisian'), personal_info_data_class(ssn='361-49-4597', first_name='Adan', last_name='Janssen', gender='Male', language='Swedish'), personal_info_data_class(ssn='361-83-5004', first_name='Wilona', last_name='Sink', gender='Female', language='Sotho'), personal_info_data_class(ssn='362-09-8563', first_name='Carri', last_name='Peterffy', gender='Female', language='Icelandic'), personal_info_data_class(ssn='362-12-7902', first_name='Weber', last_name='Legrand', gender='Male', language='Swahili'), personal_info_data_class(ssn='364-25-0166', first_name='Arnuad', last_name='Planque', gender='Male', language='Hindi'), personal_info_data_class(ssn='364-65-2174', first_name='Bernarr', last_name='Wollard', gender='Male', language='Irish Gaelic'), personal_info_data_class(ssn='366-61-0607', first_name='Bethena', last_name='Joicey', gender='Female', language='Haitian Creole'), personal_info_data_class(ssn='367-22-8998', first_name='Blake', last_name='Mustin', gender='Female', language='Kyrgyz'), personal_info_data_class(ssn='367-62-4426', first_name='Sigismondo', last_name='Lerohan', gender='Male', language='Georgian'), personal_info_data_class(ssn='370-01-6977', first_name='Hugues', last_name='Jeffryes', gender='Male', language='Georgian'), personal_info_data_class(ssn='370-24-5876', first_name='Sergei', last_name='Risby', gender='Male', language='Bulgarian'), personal_info_data_class(ssn='370-72-6509', first_name='Wrennie', last_name='McCrorie', gender='Female', language='Papiamento'), personal_info_data_class(ssn='371-28-5892', first_name='Malia', last_name='Hanse', gender='Female', language='Tsonga'), personal_info_data_class(ssn='371-44-0582', first_name='Clemmy', last_name='Cogzell', gender='Male', language='Estonian'), personal_info_data_class(ssn='371-62-3727', first_name='Cymbre', last_name='Chinnock', gender='Female', language='Dutch'), personal_info_data_class(ssn='371-88-9249', first_name='Nealon', last_name='Oxtaby', gender='Male', language='German'), personal_info_data_class(ssn='372-44-7487', first_name='Jolyn', last_name='Bertome', gender='Female', language='Catalan'), personal_info_data_class(ssn='372-62-7057', first_name='Eleanora', last_name='Vazquez', gender='Female', language='Gujarati'), personal_info_data_class(ssn='373-67-2734', first_name='Ileana', last_name='Luty', gender='Female', language='Italian'), personal_info_data_class(ssn='374-47-0262', first_name='Bank', last_name='Evitts', gender='Male', language='Aymara'), personal_info_data_class(ssn='378-08-0805', first_name='Carroll', last_name='Harty', gender='Female', language='Swedish'), personal_info_data_class(ssn='378-60-2472', first_name='Eddie', last_name='Howieson', gender='Female', language='Albanian'), personal_info_data_class(ssn='378-66-0449', first_name='Kelby', last_name='Wincer', gender='Male', language='Pashto'), personal_info_data_class(ssn='378-79-0193', first_name='Kenny', last_name='Josefsen', gender='Male', language='Danish'), personal_info_data_class(ssn='378-88-6805', first_name='Vittoria', last_name='Oldroyd', gender='Female', language='Moldovan'), personal_info_data_class(ssn='379-07-8748', first_name='Dyanna', last_name='Noto', gender='Female', language='Polish'), personal_info_data_class(ssn='380-33-9730', first_name='Katinka', last_name='Piet', gender='Female', language='Malay'), personal_info_data_class(ssn='380-35-3854', first_name='Cathleen', last_name='Sizland', gender='Female', language='Bislama'), personal_info_data_class(ssn='383-18-4058', first_name='Frederigo', last_name='Cooksey', gender='Male', language='Indonesian'), personal_info_data_class(ssn='384-30-6793', first_name='Kipp', last_name='Burnyate', gender='Male', language='English'), personal_info_data_class(ssn='384-94-2772', first_name='Ramsay', last_name='Dolbey', gender='Male', language='Tok Pisin'), personal_info_data_class(ssn='385-30-1777', first_name='Aubrey', last_name='Wetherill', gender='Female', language='Tswana'), personal_info_data_class(ssn='385-34-7828', first_name='Dori', last_name='Quogan', gender='Female', language='Afrikaans'), personal_info_data_class(ssn='385-98-0431', first_name='Kassi', last_name='Rashleigh', gender='Female', language='Tswana'), personal_info_data_class(ssn='386-15-7960', first_name='Steffie', last_name='Tedahl', gender='Female', language='Punjabi'), personal_info_data_class(ssn='386-34-4088', first_name='Adamo', last_name='Wogden', gender='Male', language='Arabic'), personal_info_data_class(ssn='386-68-9884', first_name='Francis', last_name='Foch', gender='Male', language='Dzongkha'), personal_info_data_class(ssn='386-97-3523', first_name='Siusan', last_name='Durkin', gender='Female', language='Kurdish'), personal_info_data_class(ssn='389-31-0910', first_name='Mac', last_name='Westrey', gender='Male', language='Armenian'), personal_info_data_class(ssn='389-51-1424', first_name='Isadore', last_name='Orbine', gender='Male', language='Pashto'), personal_info_data_class(ssn='389-84-8254', first_name='Chiquita', last_name='Jolliman', gender='Female', language='Marathi'), personal_info_data_class(ssn='390-74-3062', first_name='Cara', last_name='Ingree', gender='Female', language='Indonesian'), personal_info_data_class(ssn='391-14-9280', first_name='Faun', last_name='Chillistone', gender='Female', language='Montenegrin'), personal_info_data_class(ssn='391-47-4578', first_name='Fiann', last_name='Fellman', gender='Female', language='Assamese'), personal_info_data_class(ssn='391-73-2830', first_name='Padget', last_name='Manthorpe', gender='Male', language='Marathi'), personal_info_data_class(ssn='393-22-6585', first_name='Reinold', last_name='Ellif', gender='Male', language='Nepali'), personal_info_data_class(ssn='396-51-1559', first_name='Natasha', last_name='Dafter', gender='Female', language='Maori'), personal_info_data_class(ssn='397-16-5372', first_name='Alonzo', last_name='Mc Mechan', gender='Male', language='Polish'), personal_info_data_class(ssn='397-29-8349', first_name='Madelle', last_name='Mapledorum', gender='Female', language='Tok Pisin'), personal_info_data_class(ssn='397-87-8282', first_name='Kyrstin', last_name='Waldock', gender='Female', language='Belarusian'), personal_info_data_class(ssn='399-31-2815', first_name='Durward', last_name='Giamitti', gender='Male', language='Tok Pisin'), personal_info_data_class(ssn='399-63-8810', first_name='Bobbee', last_name='Postians', gender='Female', language='Papiamento'), personal_info_data_class(ssn='399-81-6133', first_name='Viv', last_name='Borsay', gender='Female', language='Chinese'), personal_info_data_class(ssn='400-21-8654', first_name='Travus', last_name='Miranda', gender='Male', language='Kannada'), personal_info_data_class(ssn='400-77-6007', first_name='Dannie', last_name='Shurmer', gender='Male', language='Tajik'), personal_info_data_class(ssn='402-61-3479', first_name='Mariele', last_name='Meyrick', gender='Female', language='Telugu'), personal_info_data_class(ssn='402-65-2055', first_name='Martie', last_name='Crawshaw', gender='Male', language='Marathi'), personal_info_data_class(ssn='402-88-5570', first_name='Torry', last_name='Bossons', gender='Male', language='Chinese'), personal_info_data_class(ssn='403-65-1535', first_name='Cathy', last_name='Gabe', gender='Female', language='Hiri Motu'), personal_info_data_class(ssn='404-57-4023', first_name='Pattin', last_name='Jarmain', gender='Male', language='Hindi'), personal_info_data_class(ssn='405-25-1422', first_name='Raquel', last_name='Dukelow', gender='Female', language='Gujarati'), personal_info_data_class(ssn='406-15-5123', first_name='Janot', last_name='Pulhoster', gender='Female', language='Dari'), personal_info_data_class(ssn='406-24-4867', first_name='Renaud', last_name='Fleetwood', gender='Male', language='Papiamento'), personal_info_data_class(ssn='406-49-0634', first_name='Lolita', last_name='Dailey', gender='Female', language='Czech'), personal_info_data_class(ssn='407-30-0910', first_name='Gerhard', last_name='Crielly', gender='Male', language='Bislama'), personal_info_data_class(ssn='407-80-7367', first_name='Sigismundo', last_name='Pothbury', gender='Male', language='Latvian'), personal_info_data_class(ssn='407-99-6159', first_name='Flynn', last_name='Jirasek', gender='Male', language='Afrikaans'), personal_info_data_class(ssn='408-83-7943', first_name='Wallie', last_name='Klosterman', gender='Male', language='Hungarian'), personal_info_data_class(ssn='408-98-3291', first_name='Karia', last_name='Riquet', gender='Female', language='Italian'), personal_info_data_class(ssn='409-58-2034', first_name='Fiann', last_name='Corsar', gender='Female', language='Swahili'), personal_info_data_class(ssn='409-90-8946', first_name='Doralia', last_name='Proughten', gender='Female', language='Estonian'), personal_info_data_class(ssn='410-38-4237', first_name='Gibbie', last_name='Seamer', gender='Male', language='Tok Pisin'), personal_info_data_class(ssn='410-76-5092', first_name='Spencer', last_name='Dallon', gender='Male', language='Swati'), personal_info_data_class(ssn='411-21-4276', first_name='Mari', last_name='Livick', gender='Female', language='Pashto'), personal_info_data_class(ssn='411-43-4217', first_name='Cull', last_name='Noddle', gender='Male', language='Spanish'), personal_info_data_class(ssn='411-79-4655', first_name='Caterina', last_name='Coey', gender='Female', language='French'), personal_info_data_class(ssn='412-50-9133', first_name='Dianemarie', last_name='Withey', gender='Female', language='Czech'), personal_info_data_class(ssn='412-59-0452', first_name='Seamus', last_name='Petrusch', gender='Male', language='Spanish'), personal_info_data_class(ssn='412-59-8022', first_name='Brenna', last_name='Follin', gender='Female', language='Gagauz'), personal_info_data_class(ssn='412-79-8951', first_name='Giorgi', last_name='Sisnett', gender='Male', language='Tamil'), personal_info_data_class(ssn='413-14-3928', first_name='Shaine', last_name='Liebrecht', gender='Male', language='Sotho'), personal_info_data_class(ssn='413-56-5613', first_name='Anjanette', last_name='Carnock', gender='Female', language='Nepali'), personal_info_data_class(ssn='415-42-0898', first_name='Karlik', last_name='Adlam', gender='Male', language='Mongolian'), personal_info_data_class(ssn='415-74-2251', first_name='Pattin', last_name='Greson', gender='Male', language='Italian'), personal_info_data_class(ssn='416-37-7763', first_name='Emelia', last_name='Hancell', gender='Female', language='German'), personal_info_data_class(ssn='416-38-3607', first_name='Jerry', last_name='Christin', gender='Male', language='Hebrew'), personal_info_data_class(ssn='416-80-6367', first_name='Myrna', last_name='Christoffe', gender='Female', language='Tok Pisin'), personal_info_data_class(ssn='416-87-0469', first_name='Dannel', last_name='Whyffen', gender='Male', language='Estonian'), personal_info_data_class(ssn='418-72-1888', first_name='Roddy', last_name='Worman', gender='Male', language='Bosnian'), personal_info_data_class(ssn='418-99-6659', first_name='Grenville', last_name='Gulliver', gender='Male', language='Ndebele'), personal_info_data_class(ssn='420-46-7789', first_name='Steffie', last_name='Britto', gender='Female', language='New Zealand Sign Language'), personal_info_data_class(ssn='420-52-3813', first_name='Arnaldo', last_name='Balsdone', gender='Male', language='Zulu'), personal_info_data_class(ssn='421-01-2511', first_name='Mikaela', last_name='Andrivot', gender='Female', language='English'), personal_info_data_class(ssn='421-13-9794', first_name='Minne', last_name='Measey', gender='Female', language='Danish'), personal_info_data_class(ssn='421-20-3448', first_name='Alie', last_name='Gerauld', gender='Female', language='Khmer'), personal_info_data_class(ssn='421-88-7316', first_name='Cherie', last_name='Yeudall', gender='Female', language='Dutch'), personal_info_data_class(ssn='422-67-4000', first_name='Corby', last_name='Boyington', gender='Male', language='Sotho'), personal_info_data_class(ssn='423-62-1820', first_name='Ruddy', last_name='Ingerson', gender='Male', language='Maori'), personal_info_data_class(ssn='423-88-4721', first_name='Trip', last_name='Postlewhite', gender='Male', language='Polish'), personal_info_data_class(ssn='424-22-9138', first_name='Farand', last_name='Huggon', gender='Female', language='Indonesian'), personal_info_data_class(ssn='424-91-0692', first_name='Jeanie', last_name='Titchard', gender='Female', language='Swati'), personal_info_data_class(ssn='424-92-0863', first_name='Halley', last_name='Mendenhall', gender='Female', language='Thai'), personal_info_data_class(ssn='426-09-8331', first_name='Enrico', last_name='Balentyne', gender='Male', language='Arabic'), personal_info_data_class(ssn='426-33-4523', first_name='Bibbie', last_name='Lardge', gender='Female', language='Spanish'), personal_info_data_class(ssn='426-52-3410', first_name='Deeyn', last_name='Feldberg', gender='Female', language='Lithuanian'), personal_info_data_class(ssn='426-61-5374', first_name='Adolph', last_name='Effemy', gender='Male', language='Norwegian'), personal_info_data_class(ssn='427-12-4625', first_name='Ethelin', last_name='Huck', gender='Female', language='Bosnian'), personal_info_data_class(ssn='427-36-0095', first_name='Shandee', last_name='Hawthorne', gender='Female', language='Gujarati'), personal_info_data_class(ssn='427-96-6355', first_name='Fidel', last_name='Gutierrez', gender='Male', language='Yiddish'), personal_info_data_class(ssn='428-19-2946', first_name='Dionne', last_name='Bibb', gender='Female', language='Moldovan'), personal_info_data_class(ssn='428-79-0781', first_name='Mame', last_name='Criag', gender='Female', language='Catalan'), personal_info_data_class(ssn='429-43-7811', first_name='Felice', last_name='Mound', gender='Male', language='Ndebele'), personal_info_data_class(ssn='430-27-6236', first_name='Sergent', last_name='Tomich', gender='Male', language='Tajik'), personal_info_data_class(ssn='430-27-8349', first_name='Boigie', last_name='Balsdon', gender='Male', language='German'), personal_info_data_class(ssn='432-25-8923', first_name='Violetta', last_name='Remmer', gender='Female', language='Swati'), personal_info_data_class(ssn='433-08-7855', first_name='Cleo', last_name='Sivior', gender='Female', language='Latvian'), personal_info_data_class(ssn='434-41-2365', first_name='Obed', last_name='Podmore', gender='Male', language='Georgian'), personal_info_data_class(ssn='435-34-0115', first_name='Chicky', last_name='Carlos', gender='Male', language='Tamil'), personal_info_data_class(ssn='438-80-0430', first_name='Gunilla', last_name='Navan', gender='Female', language='Moldovan'), personal_info_data_class(ssn='438-82-1280', first_name='Salvatore', last_name='Noirel', gender='Male', language='Somali'), personal_info_data_class(ssn='440-60-4889', first_name='Evanne', last_name='Loosely', gender='Female', language='Ndebele'), personal_info_data_class(ssn='441-19-1376', first_name='Harwell', last_name='Wharf', gender='Male', language='Kazakh'), personal_info_data_class(ssn='442-15-1994', first_name='Niven', last_name='Kaser', gender='Male', language='Macedonian'), personal_info_data_class(ssn='444-01-3823', first_name='Cello', last_name='Caddock', gender='Male', language='Spanish'), personal_info_data_class(ssn='445-49-0727', first_name='Bessy', last_name='Howford', gender='Female', language='Indonesian'), personal_info_data_class(ssn='445-62-3843', first_name='Forest', last_name='MacAughtrie', gender='Male', language='Irish Gaelic'), personal_info_data_class(ssn='446-16-1946', first_name='Jacinthe', last_name='Hackworth', gender='Female', language='Albanian'), personal_info_data_class(ssn='446-73-1646', first_name='Pattie', last_name='Ludwig', gender='Female', language='West Frisian'), personal_info_data_class(ssn='447-05-5935', first_name='Artemas', last_name='Slay', gender='Male', language='Somali'), personal_info_data_class(ssn='449-38-7421', first_name='Hakeem', last_name='Pinke', gender='Male', language='Georgian'), personal_info_data_class(ssn='450-04-1023', first_name='Oliver', last_name='Strathe', gender='Male', language='Georgian'), personal_info_data_class(ssn='450-36-3771', first_name='Anette', last_name='Reast', gender='Female', language='Guarana'), personal_info_data_class(ssn='450-36-4561', first_name='Nate', last_name='Poulglais', gender='Male', language='Albanian'), personal_info_data_class(ssn='450-45-5021', first_name='Ailis', last_name='Allsebrook', gender='Female', language='Amharic'), personal_info_data_class(ssn='450-56-7231', first_name='Xavier', last_name='Garnar', gender='Male', language='Danish'), personal_info_data_class(ssn='450-96-2075', first_name='Den', last_name='Deniset', gender='Male', language='Portuguese'), personal_info_data_class(ssn='451-34-5996', first_name='Dolly', last_name='Pennyman', gender='Female', language='Spanish'), personal_info_data_class(ssn='451-52-8000', first_name='Donia', last_name='Daville', gender='Female', language='Burmese'), personal_info_data_class(ssn='452-26-9999', first_name='Donny', last_name='Garham', gender='Male', language='French'), personal_info_data_class(ssn='453-99-0644', first_name='Justen', last_name='Bloxam', gender='Male', language='Nepali'), personal_info_data_class(ssn='454-36-4371', first_name='Bald', last_name='Beckerleg', gender='Male', language='Fijian'), personal_info_data_class(ssn='455-67-4513', first_name='Zedekiah', last_name='Cayzer', gender='Male', language='Quechua'), personal_info_data_class(ssn='455-74-3521', first_name='Nesta', last_name='Gascone', gender='Female', language='Croatian'), personal_info_data_class(ssn='455-83-6194', first_name='Arney', last_name='Podmore', gender='Male', language='Gagauz'), personal_info_data_class(ssn='457-55-3869', first_name='Lotta', last_name='Maclean', gender='Female', language='Swati'), personal_info_data_class(ssn='457-57-7890', first_name='Corey', last_name='Learned', gender='Female', language='Punjabi'), personal_info_data_class(ssn='457-97-6863', first_name='Ray', last_name='Ledamun', gender='Male', language='Czech'), personal_info_data_class(ssn='458-97-0499', first_name='Ginny', last_name=\"O'Keenan\", gender='Female', language='Maltese'), personal_info_data_class(ssn='459-29-7955', first_name='Buddy', last_name='Titmus', gender='Male', language='Gujarati'), personal_info_data_class(ssn='460-65-0321', first_name='Katine', last_name='Rosenstiel', gender='Female', language='Macedonian'), personal_info_data_class(ssn='461-84-2780', first_name='Shaun', last_name='Duff', gender='Female', language='Gujarati'), personal_info_data_class(ssn='461-88-8139', first_name='Marion', last_name='Mitkcov', gender='Male', language='German'), personal_info_data_class(ssn='464-21-1055', first_name='Arie', last_name='Matthieson', gender='Male', language='Kashmiri'), personal_info_data_class(ssn='464-84-7886', first_name='Etan', last_name='Bellsham', gender='Male', language='Tswana'), personal_info_data_class(ssn='465-96-0362', first_name='Woody', last_name='Maw', gender='Male', language='Kurdish'), personal_info_data_class(ssn='468-88-6064', first_name='Dante', last_name='Puddicombe', gender='Male', language='Nepali'), personal_info_data_class(ssn='469-08-0077', first_name='Garret', last_name='Zanussii', gender='Male', language='Hungarian'), personal_info_data_class(ssn='469-96-1488', first_name='Euphemia', last_name='Neggrini', gender='Female', language='Guarana'), personal_info_data_class(ssn='470-34-5693', first_name='Hashim', last_name='Priddie', gender='Male', language='Maori'), personal_info_data_class(ssn='470-94-7669', first_name='Julio', last_name='Lune', gender='Male', language='Assamese'), personal_info_data_class(ssn='471-28-1745', first_name='Bernarr', last_name='Giral', gender='Male', language='Sotho'), personal_info_data_class(ssn='472-23-0389', first_name='Valli', last_name='Khristoforov', gender='Female', language='Bosnian'), personal_info_data_class(ssn='473-65-7769', first_name='Aguie', last_name='Rennix', gender='Male', language='Japanese'), personal_info_data_class(ssn='474-56-7332', first_name='Maurine', last_name='Stopps', gender='Female', language='Tswana'), personal_info_data_class(ssn='474-95-1775', first_name='Ivette', last_name='Whitewood', gender='Female', language='Korean'), personal_info_data_class(ssn='475-15-5394', first_name='Orson', last_name='Lafferty', gender='Male', language='Kyrgyz'), personal_info_data_class(ssn='475-24-1840', first_name='Malachi', last_name='Skittrell', gender='Male', language='Azeri'), personal_info_data_class(ssn='475-47-5055', first_name='Casey', last_name='Worrill', gender='Male', language='Lithuanian'), personal_info_data_class(ssn='476-27-0948', first_name='Laurette', last_name='Kearney', gender='Female', language='West Frisian'), personal_info_data_class(ssn='476-68-8276', first_name='Geoffrey', last_name='Whisker', gender='Male', language='Czech'), personal_info_data_class(ssn='477-30-0077', first_name='Giulio', last_name='Bilsland', gender='Male', language='Macedonian'), personal_info_data_class(ssn='478-14-8720', first_name='Brittan', last_name='Vaen', gender='Female', language='Hindi'), personal_info_data_class(ssn='479-49-8804', first_name='Serene', last_name='Giannotti', gender='Female', language='Latvian'), personal_info_data_class(ssn='480-53-4039', first_name='Reg', last_name='Waskett', gender='Male', language='Chinese'), personal_info_data_class(ssn='481-10-0098', first_name='Kitti', last_name='Morrad', gender='Female', language='Kashmiri'), personal_info_data_class(ssn='481-87-3503', first_name='Delano', last_name='Mitchall', gender='Male', language='Northern Sotho'), personal_info_data_class(ssn='482-88-7624', first_name='Corbet', last_name='Paireman', gender='Male', language='Finnish'), personal_info_data_class(ssn='484-06-9645', first_name='Clay', last_name='Suttle', gender='Male', language='Fijian'), personal_info_data_class(ssn='484-36-9255', first_name='Kristos', last_name='Garard', gender='Male', language='Irish Gaelic'), personal_info_data_class(ssn='484-75-5799', first_name='Rhea', last_name='Braniff', gender='Female', language='Somali'), personal_info_data_class(ssn='485-39-0911', first_name='Rea', last_name='Buzek', gender='Female', language='Croatian'), personal_info_data_class(ssn='485-79-8123', first_name='Tish', last_name='Kemston', gender='Female', language='Khmer'), personal_info_data_class(ssn='486-87-1145', first_name='Elyn', last_name='Djokovic', gender='Female', language='French'), personal_info_data_class(ssn='488-02-2147', first_name='Gannon', last_name='Le Strange', gender='Male', language='Malayalam'), personal_info_data_class(ssn='488-12-7780', first_name='Cynthea', last_name='Ioannou', gender='Female', language='Yiddish'), personal_info_data_class(ssn='489-57-4785', first_name='Waldemar', last_name='Coast', gender='Male', language='Korean'), personal_info_data_class(ssn='491-36-8648', first_name='Rice', last_name='Revans', gender='Male', language='New Zealand Sign Language'), personal_info_data_class(ssn='491-38-3802', first_name='Marcella', last_name='Paolinelli', gender='Female', language='Swati'), personal_info_data_class(ssn='491-89-4895', first_name='Orv', last_name='Kelland', gender='Male', language='Belarusian'), personal_info_data_class(ssn='491-90-1059', first_name='Mic', last_name='Chaunce', gender='Male', language='Afrikaans'), personal_info_data_class(ssn='493-09-7972', first_name='Agretha', last_name='Wickes', gender='Female', language='French'), personal_info_data_class(ssn='495-15-7369', first_name='Lowrance', last_name='Prandin', gender='Male', language='Ndebele'), personal_info_data_class(ssn='495-62-6374', first_name='Nevsa', last_name='Boarder', gender='Female', language='Czech'), personal_info_data_class(ssn='495-64-2134', first_name='Noami', last_name='Schuck', gender='Female', language='Nepali'), personal_info_data_class(ssn='495-89-7170', first_name='Allina', last_name='Caldecot', gender='Female', language='New Zealand Sign Language'), personal_info_data_class(ssn='497-69-5399', first_name='Wanids', last_name='Bengoechea', gender='Female', language='German'), personal_info_data_class(ssn='497-73-2347', first_name='Rana', last_name='Duhig', gender='Female', language='Indonesian'), personal_info_data_class(ssn='499-07-4759', first_name='Kizzee', last_name='MacTrustam', gender='Female', language='Norwegian'), personal_info_data_class(ssn='499-31-5371', first_name='Valenka', last_name='Triplett', gender='Female', language='Somali'), personal_info_data_class(ssn='499-42-7583', first_name='Rafaellle', last_name='Caush', gender='Male', language='Kashmiri'), personal_info_data_class(ssn='499-44-2439', first_name='Ediva', last_name='Flucks', gender='Female', language='French'), personal_info_data_class(ssn='499-99-6990', first_name='Dewie', last_name='Madge', gender='Male', language='Sotho'), personal_info_data_class(ssn='500-14-7051', first_name='Giulio', last_name='Pilley', gender='Male', language='Maltese'), personal_info_data_class(ssn='500-41-0658', first_name='Jobie', last_name='Pyvis', gender='Female', language='Zulu'), personal_info_data_class(ssn='500-45-7881', first_name='Stan', last_name='Drinkall', gender='Male', language='Tetum'), personal_info_data_class(ssn='500-71-6995', first_name='Orazio', last_name='Izakoff', gender='Male', language='Romanian'), personal_info_data_class(ssn='502-07-7030', first_name='Twyla', last_name='Klaessen', gender='Female', language='Persian'), personal_info_data_class(ssn='502-60-9632', first_name='Ibrahim', last_name='Eddleston', gender='Male', language='New Zealand Sign Language'), personal_info_data_class(ssn='504-41-5919', first_name='Cullen', last_name='Christin', gender='Male', language='Montenegrin'), personal_info_data_class(ssn='505-37-1520', first_name='Adams', last_name='Watford', gender='Male', language='Azeri'), personal_info_data_class(ssn='505-88-6030', first_name='Derby', last_name=\"O'Kerin\", gender='Male', language='Dhivehi'), personal_info_data_class(ssn='506-02-3957', first_name='Tilly', last_name='Joubert', gender='Female', language='Danish'), personal_info_data_class(ssn='507-40-9429', first_name='Forster', last_name='Dronsfield', gender='Male', language='Gagauz'), personal_info_data_class(ssn='507-67-9726', first_name='Sinclare', last_name='Swatheridge', gender='Male', language='Croatian'), personal_info_data_class(ssn='507-99-2334', first_name='Sunny', last_name='Vasilik', gender='Male', language='Kurdish'), personal_info_data_class(ssn='508-54-3168', first_name='Helaine', last_name='Accombe', gender='Female', language='Dutch'), personal_info_data_class(ssn='509-39-1128', first_name='Carie', last_name='Leneham', gender='Female', language='Telugu'), personal_info_data_class(ssn='509-46-4927', first_name='Nickie', last_name='Dabes', gender='Female', language='Sotho'), personal_info_data_class(ssn='510-34-4633', first_name='Alie', last_name='Jennaway', gender='Female', language='Indonesian'), personal_info_data_class(ssn='511-28-0914', first_name='Gardie', last_name='Ravenshaw', gender='Male', language='Persian'), personal_info_data_class(ssn='511-95-4867', first_name='Ethelda', last_name='Helversen', gender='Female', language='Zulu'), personal_info_data_class(ssn='513-68-2140', first_name='Hussein', last_name='Filov', gender='Male', language='Greek'), personal_info_data_class(ssn='515-47-1848', first_name='Darla', last_name='Leftridge', gender='Female', language='Finnish'), personal_info_data_class(ssn='517-05-0600', first_name='Lindy', last_name='Losz', gender='Female', language='Kurdish'), personal_info_data_class(ssn='519-15-9299', first_name='Hamid', last_name='Angier', gender='Male', language='Chinese'), personal_info_data_class(ssn='519-58-0341', first_name='Barny', last_name='Matiashvili', gender='Male', language='Lao'), personal_info_data_class(ssn='520-81-0974', first_name='Ofella', last_name='Navarro', gender='Female', language='Kurdish'), personal_info_data_class(ssn='521-82-5436', first_name='Barb', last_name='Riolfi', gender='Female', language='Swedish'), personal_info_data_class(ssn='522-54-3565', first_name='Geri', last_name='Vigar', gender='Male', language='Quechua'), personal_info_data_class(ssn='523-07-2359', first_name='Tanney', last_name='Izsak', gender='Male', language='Haitian Creole'), personal_info_data_class(ssn='523-44-3601', first_name='Goldina', last_name='Di Claudio', gender='Female', language='Spanish'), personal_info_data_class(ssn='523-53-2420', first_name='Amerigo', last_name='Lipyeat', gender='Male', language='Tsonga'), personal_info_data_class(ssn='523-85-4846', first_name='Noella', last_name='Samsonsen', gender='Female', language='Kurdish'), personal_info_data_class(ssn='523-91-3280', first_name='Gordie', last_name='Billin', gender='Male', language='Swati'), personal_info_data_class(ssn='524-28-4450', first_name='Jake', last_name='Klimpt', gender='Male', language='Somali'), personal_info_data_class(ssn='526-45-2767', first_name='Kayle', last_name='Milsom', gender='Female', language='Dhivehi'), personal_info_data_class(ssn='526-98-9361', first_name='Cathe', last_name='Allsupp', gender='Female', language='Marathi'), personal_info_data_class(ssn='527-55-3736', first_name='Auguste', last_name='Hammersley', gender='Female', language='Malayalam'), personal_info_data_class(ssn='527-72-3566', first_name='Colin', last_name='Paddington', gender='Male', language='Pashto'), personal_info_data_class(ssn='528-10-7051', first_name='Leonie', last_name='Sondon', gender='Female', language='Romanian'), personal_info_data_class(ssn='528-26-2803', first_name='See', last_name='Ettery', gender='Male', language='Albanian'), personal_info_data_class(ssn='531-38-1945', first_name='Eveleen', last_name='Mignot', gender='Female', language='Japanese'), personal_info_data_class(ssn='531-53-5021', first_name='Deerdre', last_name='Chaudron', gender='Female', language='Oriya'), personal_info_data_class(ssn='531-67-4340', first_name='Ody', last_name='Blaxley', gender='Male', language='Bosnian'), personal_info_data_class(ssn='531-79-0948', first_name='Britney', last_name='Sweeten', gender='Female', language='Indonesian'), personal_info_data_class(ssn='532-36-4145', first_name='Dorry', last_name='Ditty', gender='Female', language='Kannada'), personal_info_data_class(ssn='534-50-6091', first_name='Florencia', last_name='Abramof', gender='Female', language='Arabic'), personal_info_data_class(ssn='534-68-0554', first_name='Ira', last_name='Swanne', gender='Female', language='Chinese'), personal_info_data_class(ssn='534-86-8290', first_name='Ester', last_name='Jepson', gender='Female', language='Albanian'), personal_info_data_class(ssn='535-66-3671', first_name='Felisha', last_name='Blackden', gender='Female', language='Hiri Motu'), personal_info_data_class(ssn='536-23-6599', first_name='Laughton', last_name='Iozefovich', gender='Male', language='Tok Pisin'), personal_info_data_class(ssn='537-46-3891', first_name='Clay', last_name='Bapty', gender='Male', language='Burmese'), personal_info_data_class(ssn='538-46-6131', first_name='Steward', last_name='Glennard', gender='Male', language='Papiamento'), personal_info_data_class(ssn='538-68-5142', first_name='Grantley', last_name='Berthel', gender='Male', language='Nepali'), personal_info_data_class(ssn='541-54-1497', first_name='Katuscha', last_name='Jovis', gender='Female', language='Irish Gaelic'), personal_info_data_class(ssn='542-74-6343', first_name='Raleigh', last_name='Tamsett', gender='Male', language='Kurdish'), personal_info_data_class(ssn='543-38-7657', first_name='Kaja', last_name='Divisek', gender='Female', language='Estonian'), personal_info_data_class(ssn='543-61-1911', first_name='Alisa', last_name='Dacca', gender='Female', language='Romanian'), personal_info_data_class(ssn='543-67-6841', first_name='Rosemonde', last_name='Shelp', gender='Female', language='Burmese'), personal_info_data_class(ssn='545-66-8802', first_name='Cassey', last_name='Gammage', gender='Female', language='English'), personal_info_data_class(ssn='547-35-4478', first_name='Halsy', last_name='Goddard', gender='Male', language='Bosnian'), personal_info_data_class(ssn='548-72-2840', first_name='Vite', last_name='Burnsall', gender='Male', language='Sotho'), personal_info_data_class(ssn='549-90-2887', first_name='Brunhilda', last_name='Eilhermann', gender='Female', language='Papiamento'), personal_info_data_class(ssn='551-57-4018', first_name='Magdalena', last_name='Morland', gender='Female', language='Gagauz'), personal_info_data_class(ssn='551-92-2534', first_name='Merrill', last_name='Purviss', gender='Male', language='Armenian'), personal_info_data_class(ssn='552-61-0289', first_name='Tom', last_name='Wilmut', gender='Male', language='Pashto'), personal_info_data_class(ssn='553-77-2419', first_name='Ray', last_name='Warrick', gender='Male', language='Amharic'), personal_info_data_class(ssn='555-99-5216', first_name='Ludovico', last_name=\"O'Cassidy\", gender='Male', language='English'), personal_info_data_class(ssn='556-13-4040', first_name='Mignonne', last_name='Beckett', gender='Female', language='Catalan'), personal_info_data_class(ssn='557-28-9953', first_name='Morie', last_name='Roon', gender='Male', language='Kurdish'), personal_info_data_class(ssn='557-33-7476', first_name='Dean', last_name='Grimoldby', gender='Male', language='Burmese'), personal_info_data_class(ssn='557-77-8703', first_name='Alayne', last_name='Shackleford', gender='Female', language='Arabic'), personal_info_data_class(ssn='558-37-7838', first_name='Drucie', last_name='Andrick', gender='Female', language='New Zealand Sign Language'), personal_info_data_class(ssn='559-33-6365', first_name='Lew', last_name='Barbara', gender='Male', language='Kashmiri'), personal_info_data_class(ssn='559-54-7102', first_name='Dareen', last_name='Stoneley', gender='Female', language='Arabic'), personal_info_data_class(ssn='560-06-2687', first_name='Sidnee', last_name='Potts', gender='Male', language='Malayalam'), personal_info_data_class(ssn='561-96-2313', first_name='Torin', last_name='Cockland', gender='Male', language='Sotho'), personal_info_data_class(ssn='561-98-2281', first_name='Barton', last_name='Andrichuk', gender='Male', language='Bosnian'), personal_info_data_class(ssn='562-62-6370', first_name='Lewes', last_name=\"O'Caine\", gender='Male', language='Hungarian'), personal_info_data_class(ssn='563-21-6857', first_name='Ambrose', last_name='Stiegers', gender='Male', language='Zulu'), personal_info_data_class(ssn='563-27-3427', first_name='Pembroke', last_name='La Padula', gender='Male', language='German'), personal_info_data_class(ssn='564-89-9688', first_name='Karoly', last_name='Collen', gender='Female', language='Albanian'), personal_info_data_class(ssn='566-56-7324', first_name='Mattheus', last_name='Braidwood', gender='Male', language='Tetum'), personal_info_data_class(ssn='566-62-0141', first_name='Tiffanie', last_name='McNamee', gender='Female', language='Polish'), personal_info_data_class(ssn='567-02-8700', first_name='Cornelia', last_name='Trowle', gender='Female', language='Dari'), personal_info_data_class(ssn='567-82-8701', first_name='Bathsheba', last_name='Ainge', gender='Female', language='Montenegrin'), personal_info_data_class(ssn='569-26-2487', first_name='Yance', last_name='Mumby', gender='Male', language='Danish'), personal_info_data_class(ssn='569-52-7923', first_name='Rahel', last_name='Aleshkov', gender='Female', language='Georgian'), personal_info_data_class(ssn='570-01-5640', first_name='Nickolas', last_name='Crosdill', gender='Male', language='Tetum'), personal_info_data_class(ssn='570-86-3275', first_name='Rab', last_name='Vuitte', gender='Male', language='Swahili'), personal_info_data_class(ssn='571-12-4962', first_name='Audie', last_name='Legrice', gender='Female', language='Lithuanian'), personal_info_data_class(ssn='572-82-5200', first_name='Walsh', last_name='Varah', gender='Male', language='Japanese'), personal_info_data_class(ssn='573-94-0348', first_name='Sherm', last_name='Critten', gender='Male', language='Dari'), personal_info_data_class(ssn='573-97-4729', first_name='Torey', last_name='Forcade', gender='Female', language='Indonesian'), personal_info_data_class(ssn='574-60-0475', first_name='Gale', last_name='Porson', gender='Male', language='Icelandic'), personal_info_data_class(ssn='574-91-3682', first_name='Marlon', last_name='Lafayette', gender='Male', language='Somali'), personal_info_data_class(ssn='576-18-1075', first_name='Alexandro', last_name='Edgecombe', gender='Male', language='Telugu'), personal_info_data_class(ssn='576-41-7443', first_name='Abba', last_name='Fall', gender='Male', language='Indonesian'), personal_info_data_class(ssn='578-02-0932', first_name='Lalo', last_name='Grigoroni', gender='Male', language='Polish'), personal_info_data_class(ssn='578-58-6435', first_name='Gavin', last_name='Daish', gender='Male', language='Kazakh'), personal_info_data_class(ssn='579-87-4014', first_name='Feliza', last_name='Hendrickson', gender='Female', language='Bulgarian'), personal_info_data_class(ssn='581-15-8015', first_name='Ave', last_name='Isaksson', gender='Male', language='Dhivehi'), personal_info_data_class(ssn='581-95-7591', first_name='Merilee', last_name='Wigin', gender='Female', language='Norwegian'), personal_info_data_class(ssn='582-71-1805', first_name='Mel', last_name='Marvin', gender='Male', language='Maltese'), personal_info_data_class(ssn='583-61-3519', first_name='Reagen', last_name='Yelden', gender='Male', language='Northern Sotho'), personal_info_data_class(ssn='583-76-7497', first_name='Wildon', last_name='Tunbridge', gender='Male', language='Mongolian'), personal_info_data_class(ssn='585-03-2819', first_name='Breanne', last_name='Gorelli', gender='Female', language='Tamil'), personal_info_data_class(ssn='585-96-1853', first_name='Jone', last_name='Sherwyn', gender='Male', language='Gujarati'), personal_info_data_class(ssn='586-85-4199', first_name='Gisela', last_name='Foulser', gender='Female', language='Albanian'), personal_info_data_class(ssn='587-94-0609', first_name='Fancy', last_name='Frift', gender='Female', language='Chinese'), personal_info_data_class(ssn='588-48-7326', first_name='Sid', last_name='Colkett', gender='Male', language='Northern Sotho'), personal_info_data_class(ssn='589-15-0686', first_name='Corabelle', last_name='Northin', gender='Female', language='Sotho'), personal_info_data_class(ssn='591-02-4614', first_name='Linnie', last_name='Marzelli', gender='Female', language='Kashmiri'), personal_info_data_class(ssn='591-09-5002', first_name='Arie', last_name='Winchcombe', gender='Male', language='Dzongkha'), personal_info_data_class(ssn='591-34-2920', first_name='Woodman', last_name='Finley', gender='Male', language='Ndebele'), personal_info_data_class(ssn='592-23-4343', first_name='Iona', last_name='Garron', gender='Female', language='Catalan'), personal_info_data_class(ssn='594-37-6620', first_name='Bax', last_name='McLleese', gender='Male', language='Maltese'), personal_info_data_class(ssn='594-80-1212', first_name='Berti', last_name='Ealden', gender='Female', language='Tajik'), personal_info_data_class(ssn='595-51-3047', first_name='Haley', last_name='Critchley', gender='Female', language='Ndebele'), personal_info_data_class(ssn='595-67-1091', first_name='Odette', last_name='Delue', gender='Female', language='Filipino'), personal_info_data_class(ssn='597-45-6867', first_name='Boris', last_name='Selwood', gender='Male', language='Tajik'), personal_info_data_class(ssn='597-53-1918', first_name='Tilda', last_name='Cheales', gender='Female', language='Azeri'), personal_info_data_class(ssn='597-63-4107', first_name='Fairfax', last_name='De Blase', gender='Male', language='Gujarati'), personal_info_data_class(ssn='598-39-5585', first_name='Maritsa', last_name='Brecher', gender='Female', language='Maori'), personal_info_data_class(ssn='599-56-9050', first_name='Letti', last_name='Trappe', gender='Female', language='Maori'), personal_info_data_class(ssn='599-69-3085', first_name='Luz', last_name='Jeffcoate', gender='Female', language='Kyrgyz'), personal_info_data_class(ssn='599-69-5584', first_name='Concordia', last_name='Grassot', gender='Female', language='Czech'), personal_info_data_class(ssn='600-52-7214', first_name='Patty', last_name='Ashurst', gender='Male', language='Latvian'), personal_info_data_class(ssn='601-01-2163', first_name='Dominica', last_name='Muehler', gender='Female', language='Kyrgyz'), personal_info_data_class(ssn='601-04-5606', first_name='Korrie', last_name='Brookfield', gender='Female', language='Greek'), personal_info_data_class(ssn='601-06-5384', first_name='Lyle', last_name='Order', gender='Male', language='Tajik'), personal_info_data_class(ssn='603-31-3174', first_name='Adelind', last_name='Pautard', gender='Female', language='English'), personal_info_data_class(ssn='603-34-9733', first_name='Joellen', last_name='Doddrell', gender='Female', language='Lithuanian'), personal_info_data_class(ssn='603-76-5257', first_name='Issiah', last_name='Bordis', gender='Male', language='Spanish'), personal_info_data_class(ssn='604-19-5709', first_name='Alberto', last_name='Grog', gender='Male', language='Dari'), personal_info_data_class(ssn='605-15-8306', first_name='Graehme', last_name='De Maine', gender='Male', language='Catalan'), personal_info_data_class(ssn='605-26-7064', first_name='Howey', last_name='Acome', gender='Male', language='Finnish'), personal_info_data_class(ssn='605-55-6033', first_name='Roddie', last_name='Kolis', gender='Male', language='German'), personal_info_data_class(ssn='608-13-9301', first_name='Gradey', last_name='Duval', gender='Male', language='Hebrew'), personal_info_data_class(ssn='612-27-1398', first_name='Lucian', last_name='Whight', gender='Male', language='Haitian Creole'), personal_info_data_class(ssn='612-30-5754', first_name='Archibold', last_name='Van de Castele', gender='Male', language='Tamil'), personal_info_data_class(ssn='615-38-6466', first_name='Roderigo', last_name='Caughan', gender='Male', language='Oriya'), personal_info_data_class(ssn='617-38-3504', first_name='Toby', last_name='Hugnot', gender='Female', language='Maori'), personal_info_data_class(ssn='617-71-4058', first_name='Lynsey', last_name='Creser', gender='Female', language='Gujarati'), personal_info_data_class(ssn='618-35-5798', first_name='Izzy', last_name='Helliar', gender='Male', language='Indonesian'), personal_info_data_class(ssn='620-81-4914', first_name='Clea', last_name='Baldazzi', gender='Female', language='Catalan'), personal_info_data_class(ssn='623-98-4252', first_name='Kort', last_name='Kellie', gender='Male', language='Italian'), personal_info_data_class(ssn='624-99-0933', first_name='Perrine', last_name='Bason', gender='Female', language='Estonian'), personal_info_data_class(ssn='625-84-8454', first_name='Francois', last_name='Lardner', gender='Male', language='Kashmiri'), personal_info_data_class(ssn='627-36-1126', first_name='Milzie', last_name='Steabler', gender='Female', language='Tetum'), personal_info_data_class(ssn='627-91-0537', first_name='Georgie', last_name='Tadd', gender='Male', language='Croatian'), personal_info_data_class(ssn='629-10-9201', first_name='Morie', last_name='Addams', gender='Male', language='Papiamento'), personal_info_data_class(ssn='629-13-0131', first_name='Gregorius', last_name='Hill', gender='Male', language='Lao'), personal_info_data_class(ssn='629-54-4455', first_name='Abram', last_name='Jones', gender='Male', language='Croatian'), personal_info_data_class(ssn='629-91-9506', first_name='Dionysus', last_name='Twentyman', gender='Male', language='Indonesian'), personal_info_data_class(ssn='630-21-7841', first_name='Julieta', last_name='Kloss', gender='Female', language='Latvian'), personal_info_data_class(ssn='631-44-9168', first_name='Brooks', last_name='Edridge', gender='Male', language='Kazakh'), personal_info_data_class(ssn='631-72-9770', first_name='Benji', last_name='Barnsley', gender='Male', language='Guarana'), personal_info_data_class(ssn='633-96-5921', first_name='Tynan', last_name='Duthie', gender='Male', language='Nepali'), personal_info_data_class(ssn='634-42-8798', first_name='Tomasine', last_name='Dron', gender='Female', language='English'), personal_info_data_class(ssn='634-90-4851', first_name='Maia', last_name='Nornasell', gender='Female', language='Pashto'), personal_info_data_class(ssn='635-99-3249', first_name='Jennifer', last_name='Audry', gender='Female', language='Italian'), personal_info_data_class(ssn='637-74-3365', first_name='Jarrett', last_name='Tunnicliffe', gender='Male', language='Luxembourgish'), personal_info_data_class(ssn='639-08-7138', first_name='Betsey', last_name='Wimbridge', gender='Female', language='Telugu'), personal_info_data_class(ssn='640-86-4661', first_name='Ignacius', last_name='Kipling', gender='Male', language='Portuguese'), personal_info_data_class(ssn='641-11-8353', first_name='Angel', last_name='Godthaab', gender='Female', language='Bislama'), personal_info_data_class(ssn='643-10-4736', first_name='Konstanze', last_name='MacCawley', gender='Female', language='Dzongkha'), personal_info_data_class(ssn='644-68-2955', first_name='Catrina', last_name='Gerardin', gender='Female', language='Gagauz'), personal_info_data_class(ssn='644-70-8292', first_name='Glyn', last_name='Mc Giffin', gender='Female', language='Zulu'), personal_info_data_class(ssn='645-33-6872', first_name='Dmitri', last_name='Varden', gender='Male', language='Bosnian'), personal_info_data_class(ssn='646-69-6845', first_name='Joe', last_name='Mabee', gender='Male', language='Fijian'), personal_info_data_class(ssn='647-24-7807', first_name='Jammal', last_name='Dametti', gender='Male', language='Mongolian'), personal_info_data_class(ssn='647-82-5575', first_name='Burton', last_name=\"D'Ambrosio\", gender='Male', language='Spanish'), personal_info_data_class(ssn='648-50-5566', first_name='Nilson', last_name='Kurth', gender='Male', language='Armenian'), personal_info_data_class(ssn='648-92-3395', first_name='Benedetto', last_name='McBean', gender='Male', language='Lao'), personal_info_data_class(ssn='650-63-9841', first_name='Evanne', last_name='Ibeson', gender='Female', language='Korean'), personal_info_data_class(ssn='650-73-2431', first_name='Henrietta', last_name='Carnegie', gender='Female', language='Bislama'), personal_info_data_class(ssn='650-89-8244', first_name='Goldarina', last_name='Rodrigo', gender='Female', language='Maori'), personal_info_data_class(ssn='651-83-5203', first_name='Putnem', last_name='Buddle', gender='Male', language='Georgian'), personal_info_data_class(ssn='652-46-3664', first_name='Benson', last_name='Ianelli', gender='Male', language='Romanian'), personal_info_data_class(ssn='652-96-9901', first_name='Clareta', last_name='Blagburn', gender='Female', language='Tok Pisin'), personal_info_data_class(ssn='653-23-1607', first_name='Noah', last_name='Lodwig', gender='Male', language='Moldovan'), personal_info_data_class(ssn='653-49-0510', first_name='Dillie', last_name='Bleeze', gender='Male', language='Burmese'), personal_info_data_class(ssn='654-61-1601', first_name='Vinnie', last_name='Buzzing', gender='Female', language='Dhivehi'), personal_info_data_class(ssn='654-68-3903', first_name='Hanni', last_name='Fairleigh', gender='Female', language='Dutch'), personal_info_data_class(ssn='654-75-3300', first_name='Korney', last_name='Chiplin', gender='Female', language='Chinese'), personal_info_data_class(ssn='655-98-7788', first_name='Gabriellia', last_name='Lewer', gender='Female', language='Tsonga'), personal_info_data_class(ssn='656-92-1337', first_name='Dianemarie', last_name='Bwye', gender='Female', language='Maori'), personal_info_data_class(ssn='658-21-3014', first_name='Star', last_name='Crummey', gender='Female', language='Norwegian'), personal_info_data_class(ssn='658-34-0029', first_name='Chrysler', last_name='Bastistini', gender='Female', language='Tamil'), personal_info_data_class(ssn='658-97-8544', first_name='Hamish', last_name='Redit', gender='Male', language='Tswana'), personal_info_data_class(ssn='659-43-4520', first_name='Alessandra', last_name='Rouf', gender='Female', language='Fijian'), personal_info_data_class(ssn='667-57-3442', first_name='Rudy', last_name='Tommasuzzi', gender='Male', language='Khmer'), personal_info_data_class(ssn='667-87-7090', first_name='Teena', last_name='Webb-Bowen', gender='Female', language='Hiri Motu'), personal_info_data_class(ssn='669-12-9323', first_name='Peter', last_name='Ketteman', gender='Male', language='Hiri Motu'), personal_info_data_class(ssn='669-83-8959', first_name='Corney', last_name='Semerad', gender='Male', language='Zulu'), personal_info_data_class(ssn='670-56-7817', first_name='Stephen', last_name='Keinrat', gender='Male', language='Hiri Motu'), personal_info_data_class(ssn='670-66-6403', first_name='Marje', last_name='Durdle', gender='Female', language='Japanese'), personal_info_data_class(ssn='670-67-9679', first_name='Emili', last_name='Alexis', gender='Female', language='Ndebele'), personal_info_data_class(ssn='670-89-3434', first_name='Elvina', last_name='Scowcroft', gender='Female', language='Albanian'), personal_info_data_class(ssn='671-16-1411', first_name='Elsa', last_name='Dawes', gender='Female', language='Swahili'), personal_info_data_class(ssn='671-71-9470', first_name='Billie', last_name='Spittal', gender='Female', language='Catalan'), personal_info_data_class(ssn='671-76-8792', first_name='Melisse', last_name='Extil', gender='Female', language='Punjabi'), personal_info_data_class(ssn='672-60-8782', first_name='Sharia', last_name='Gavrielly', gender='Female', language='Lao'), personal_info_data_class(ssn='673-83-5713', first_name='Bartholomeo', last_name='Stote', gender='Male', language='Icelandic'), personal_info_data_class(ssn='674-64-0219', first_name='Abner', last_name='Hoyle', gender='Male', language='Latvian'), personal_info_data_class(ssn='675-31-0953', first_name='Mychal', last_name='Legerwood', gender='Male', language='Tamil'), personal_info_data_class(ssn='675-41-4272', first_name='Kevan', last_name='Grishechkin', gender='Male', language='English'), personal_info_data_class(ssn='678-60-4630', first_name='Mortie', last_name='Dunbobin', gender='Male', language='Malay'), personal_info_data_class(ssn='679-22-5301', first_name='Avigdor', last_name='Galway', gender='Male', language='Afrikaans'), personal_info_data_class(ssn='680-11-2707', first_name='Letta', last_name='Wishart', gender='Female', language='Chinese'), personal_info_data_class(ssn='681-72-2644', first_name='Rosie', last_name='Aartsen', gender='Female', language='Luxembourgish'), personal_info_data_class(ssn='682-06-8032', first_name='Gray', last_name='Clemencon', gender='Female', language='Japanese'), personal_info_data_class(ssn='682-68-1965', first_name='Benedict', last_name='Nealy', gender='Male', language='Montenegrin'), personal_info_data_class(ssn='682-73-2035', first_name='Juditha', last_name='Bowra', gender='Female', language='Haitian Creole'), personal_info_data_class(ssn='684-49-8302', first_name='Jeddy', last_name='Ruppertz', gender='Male', language='Tswana'), personal_info_data_class(ssn='684-95-5429', first_name='Ajay', last_name='Layne', gender='Female', language='Hungarian'), personal_info_data_class(ssn='686-22-5917', first_name='Aleta', last_name='Abad', gender='Female', language='Latvian'), personal_info_data_class(ssn='687-27-5241', first_name='Hildegarde', last_name='Crosoer', gender='Female', language='Marathi'), personal_info_data_class(ssn='687-98-6782', first_name='Jamal', last_name='Jagg', gender='Male', language='Montenegrin'), personal_info_data_class(ssn='689-25-7868', first_name='Kalil', last_name='North', gender='Male', language='Telugu'), personal_info_data_class(ssn='690-61-7133', first_name='Lindsay', last_name='Henzley', gender='Male', language='Montenegrin'), personal_info_data_class(ssn='692-31-0697', first_name='Blondell', last_name='Wrigley', gender='Female', language='Persian'), personal_info_data_class(ssn='692-38-3792', first_name='Mart', last_name='Wheldon', gender='Male', language='Indonesian'), personal_info_data_class(ssn='694-86-1783', first_name='Griffie', last_name='Rosenbush', gender='Male', language='Montenegrin'), personal_info_data_class(ssn='695-51-8778', first_name='Farly', last_name='Benjamin', gender='Male', language='Burmese'), personal_info_data_class(ssn='696-10-4037', first_name='Marcela', last_name='Stoade', gender='Female', language='Lithuanian'), personal_info_data_class(ssn='696-45-6436', first_name='Enrico', last_name='Rubinowitz', gender='Male', language='Lao'), personal_info_data_class(ssn='698-76-6576', first_name='Tom', last_name='Crosscombe', gender='Male', language='Northern Sotho'), personal_info_data_class(ssn='698-94-3612', first_name='Duke', last_name='Brobak', gender='Male', language='Gujarati'), personal_info_data_class(ssn='699-17-4497', first_name='Eolanda', last_name='Shine', gender='Female', language='Estonian'), personal_info_data_class(ssn='700-49-1211', first_name='Julie', last_name='Houseley', gender='Female', language='Tok Pisin'), personal_info_data_class(ssn='700-73-0102', first_name='Forester', last_name='Blinerman', gender='Male', language='Finnish'), personal_info_data_class(ssn='701-06-8590', first_name='Ralf', last_name='Aliman', gender='Male', language='Aymara'), personal_info_data_class(ssn='701-53-6262', first_name='Devon', last_name='Wane', gender='Female', language='Maori'), personal_info_data_class(ssn='702-02-6635', first_name='Sherwood', last_name='Jeffreys', gender='Male', language='Dhivehi'), personal_info_data_class(ssn='702-67-5109', first_name='Gabi', last_name='Swallow', gender='Female', language='Sotho'), personal_info_data_class(ssn='704-72-4439', first_name='Euell', last_name=\"O'Leagham\", gender='Male', language='Yiddish'), personal_info_data_class(ssn='705-15-6989', first_name='Minta', last_name='Beecroft', gender='Female', language='Maltese'), personal_info_data_class(ssn='705-98-0229', first_name='Vic', last_name='Elsley', gender='Male', language='Czech'), personal_info_data_class(ssn='709-73-6600', first_name='Stillman', last_name='Fairbrass', gender='Male', language='German'), personal_info_data_class(ssn='714-55-2111', first_name='Elysee', last_name='Bardsley', gender='Female', language='Lao'), personal_info_data_class(ssn='715-89-3174', first_name='Nicholas', last_name='Crack', gender='Male', language='Greek'), personal_info_data_class(ssn='717-91-7919', first_name='Ches', last_name='Rablan', gender='Male', language='Thai'), personal_info_data_class(ssn='718-89-7490', first_name='Jessamyn', last_name='Hamill', gender='Female', language='Icelandic'), personal_info_data_class(ssn='718-91-6110', first_name='Emory', last_name='Ambrus', gender='Male', language='Papiamento'), personal_info_data_class(ssn='719-05-6621', first_name='Susanne', last_name='Dilger', gender='Female', language='Punjabi'), personal_info_data_class(ssn='719-96-8751', first_name='Sallie', last_name='Gosnold', gender='Female', language='Catalan'), personal_info_data_class(ssn='720-63-4381', first_name='Jayson', last_name='Gatrell', gender='Male', language='Haitian Creole'), personal_info_data_class(ssn='722-30-1903', first_name='Nowell', last_name='Ambler', gender='Male', language='Korean'), personal_info_data_class(ssn='722-64-9283', first_name='Dionisio', last_name='Peddar', gender='Male', language='Kazakh'), personal_info_data_class(ssn='723-36-6692', first_name='Ivan', last_name='Musla', gender='Male', language='Haitian Creole'), personal_info_data_class(ssn='724-90-0728', first_name='Guido', last_name='Southby', gender='Male', language='Hindi'), personal_info_data_class(ssn='725-23-0793', first_name='Faber', last_name='Houseley', gender='Male', language='Dzongkha'), personal_info_data_class(ssn='727-48-6769', first_name='Ervin', last_name='Duncklee', gender='Male', language='Zulu'), personal_info_data_class(ssn='727-82-4383', first_name='Agosto', last_name='Cudbertson', gender='Male', language='Greek'), personal_info_data_class(ssn='728-54-5322', first_name='Berti', last_name='Bertelet', gender='Female', language='German'), personal_info_data_class(ssn='729-95-1691', first_name='Marion', last_name='Danson', gender='Female', language='Zulu'), personal_info_data_class(ssn='731-22-8474', first_name='Hatti', last_name='Dzeniskevich', gender='Female', language='Punjabi'), personal_info_data_class(ssn='733-29-1354', first_name='Marcelo', last_name='Bannard', gender='Male', language='Dzongkha'), personal_info_data_class(ssn='733-78-5243', first_name='Gallard', last_name='Schapiro', gender='Male', language='Albanian'), personal_info_data_class(ssn='735-42-4024', first_name='Peirce', last_name='Jeeks', gender='Male', language='Punjabi'), personal_info_data_class(ssn='736-60-2127', first_name='Constanta', last_name='Round', gender='Female', language='Estonian'), personal_info_data_class(ssn='737-89-8983', first_name='Katherine', last_name='Kuschke', gender='Female', language='Tajik'), personal_info_data_class(ssn='738-38-4091', first_name='Armstrong', last_name='Dykes', gender='Male', language='Haitian Creole'), personal_info_data_class(ssn='738-65-3635', first_name='Shaina', last_name='Getsham', gender='Female', language='Spanish'), personal_info_data_class(ssn='740-64-7874', first_name='Ethan', last_name='Meiklejohn', gender='Male', language='Maori'), personal_info_data_class(ssn='741-53-2153', first_name='Rodie', last_name='Simakov', gender='Female', language='Czech'), personal_info_data_class(ssn='741-56-7694', first_name='Arnold', last_name='Duchateau', gender='Male', language='Hebrew'), personal_info_data_class(ssn='741-90-1249', first_name='Kesley', last_name='Standbrook', gender='Female', language='Swahili'), personal_info_data_class(ssn='743-75-2371', first_name='Jodee', last_name='Lintin', gender='Female', language='Dzongkha'), personal_info_data_class(ssn='743-87-2936', first_name='Hirsch', last_name='Mee', gender='Male', language='Finnish'), personal_info_data_class(ssn='744-87-2990', first_name='Swen', last_name='Le Surf', gender='Male', language='Persian'), personal_info_data_class(ssn='745-19-1777', first_name='Dannel', last_name='Down', gender='Male', language='Polish'), personal_info_data_class(ssn='746-55-1405', first_name='Cornall', last_name='Hegel', gender='Male', language='Albanian'), personal_info_data_class(ssn='747-12-8456', first_name='Spense', last_name='Cicchinelli', gender='Male', language='Fijian'), personal_info_data_class(ssn='749-85-8879', first_name='Ferdinand', last_name='Lambrook', gender='Male', language='French'), personal_info_data_class(ssn='753-94-0630', first_name='Garrett', last_name='Peron', gender='Male', language='Punjabi'), personal_info_data_class(ssn='753-98-5796', first_name='Charlena', last_name='Cleve', gender='Female', language='New Zealand Sign Language'), personal_info_data_class(ssn='754-28-9729', first_name='Grata', last_name='Jiroudek', gender='Female', language='Aymara'), personal_info_data_class(ssn='754-49-4659', first_name='Cecilla', last_name='Dutnall', gender='Female', language='Latvian'), personal_info_data_class(ssn='755-08-4000', first_name='Domenic', last_name='Symes', gender='Male', language='Italian'), personal_info_data_class(ssn='756-40-2283', first_name='Paten', last_name='Senior', gender='Male', language='Malay'), personal_info_data_class(ssn='758-20-5576', first_name='Kathrine', last_name='Amar', gender='Female', language='Croatian'), personal_info_data_class(ssn='761-01-2227', first_name='Shandy', last_name='Alasdair', gender='Female', language='Hebrew'), personal_info_data_class(ssn='761-64-5650', first_name='Elton', last_name='Castelin', gender='Male', language='Norwegian'), personal_info_data_class(ssn='762-43-8029', first_name='Gill', last_name='Wilford', gender='Female', language='Malay'), personal_info_data_class(ssn='763-09-1587', first_name='Yasmeen', last_name='Vaskin', gender='Female', language='Lithuanian'), personal_info_data_class(ssn='764-93-2248', first_name='Maure', last_name='Verrillo', gender='Female', language='Spanish'), personal_info_data_class(ssn='765-35-8117', first_name='Bernelle', last_name='Vinten', gender='Female', language='German'), personal_info_data_class(ssn='765-45-5973', first_name='Hastings', last_name='Merrell', gender='Male', language='Swedish'), personal_info_data_class(ssn='765-87-9144', first_name='Pandora', last_name='Paull', gender='Female', language='Tswana'), personal_info_data_class(ssn='767-05-4859', first_name='Dennison', last_name='Tournay', gender='Male', language='Catalan'), personal_info_data_class(ssn='767-55-6767', first_name='Glen', last_name='Cater', gender='Female', language='Finnish'), personal_info_data_class(ssn='768-54-5764', first_name='Cash', last_name='Bodman', gender='Male', language='Dutch'), personal_info_data_class(ssn='768-74-8540', first_name='Karee', last_name='Bleier', gender='Female', language='Tajik'), personal_info_data_class(ssn='770-61-8252', first_name='Elbertina', last_name='Colls', gender='Female', language='Chinese'), personal_info_data_class(ssn='771-20-6900', first_name='Alejandra', last_name='Tevlin', gender='Female', language='Greek'), personal_info_data_class(ssn='771-71-0505', first_name='Romona', last_name='Meikle', gender='Female', language='New Zealand Sign Language'), personal_info_data_class(ssn='773-21-9639', first_name='Brittney', last_name='Byart', gender='Female', language='Tok Pisin'), personal_info_data_class(ssn='773-53-7438', first_name='Flo', last_name='Sirmond', gender='Female', language='Khmer'), personal_info_data_class(ssn='773-82-1734', first_name='Maris', last_name='Currin', gender='Female', language='Armenian'), personal_info_data_class(ssn='774-08-5376', first_name='Pam', last_name='Matterface', gender='Female', language='Swahili'), personal_info_data_class(ssn='775-09-9949', first_name='Orlando', last_name='Gresley', gender='Male', language='Danish'), personal_info_data_class(ssn='777-05-1491', first_name='Devora', last_name='Ashbridge', gender='Female', language='Somali'), personal_info_data_class(ssn='777-68-2978', first_name='Mignon', last_name='Skottle', gender='Female', language='Northern Sotho'), personal_info_data_class(ssn='777-94-4586', first_name='Siward', last_name='Blues', gender='Male', language='Thai'), personal_info_data_class(ssn='778-74-8262', first_name='Sonia', last_name='Grishakin', gender='Female', language='Bulgarian'), personal_info_data_class(ssn='779-59-1449', first_name='Gertrude', last_name='Ledamun', gender='Female', language='Hungarian'), personal_info_data_class(ssn='780-69-8282', first_name='Sibeal', last_name='Dawney', gender='Female', language='Czech'), personal_info_data_class(ssn='781-88-2076', first_name='Gelya', last_name='Stell', gender='Female', language='Czech'), personal_info_data_class(ssn='782-46-9660', first_name='Malina', last_name='Julyan', gender='Female', language='Burmese'), personal_info_data_class(ssn='782-60-6848', first_name='Jehu', last_name='Scholig', gender='Male', language='Polish'), personal_info_data_class(ssn='783-22-9258', first_name='Modestine', last_name='Cuttings', gender='Female', language='Assamese'), personal_info_data_class(ssn='784-88-0730', first_name='Baxie', last_name='Judd', gender='Male', language='Maltese'), personal_info_data_class(ssn='785-14-5978', first_name='Trista', last_name='Watkinson', gender='Female', language='Moldovan'), personal_info_data_class(ssn='786-56-3561', first_name='Wait', last_name='Boyda', gender='Male', language='Norwegian'), personal_info_data_class(ssn='786-63-6223', first_name='Adham', last_name='Toope', gender='Male', language='Belarusian'), personal_info_data_class(ssn='787-05-9008', first_name='Ricki', last_name='Jurges', gender='Female', language='Arabic'), personal_info_data_class(ssn='787-09-5697', first_name='Chelsea', last_name='Pashby', gender='Female', language='Northern Sotho'), personal_info_data_class(ssn='787-10-7877', first_name='Torrence', last_name='Tapping', gender='Male', language='Hiri Motu'), personal_info_data_class(ssn='788-15-2625', first_name='Drusilla', last_name='Bannester', gender='Female', language='Gujarati'), personal_info_data_class(ssn='789-70-1821', first_name='Denni', last_name='De Biasio', gender='Female', language='Azeri'), personal_info_data_class(ssn='790-04-1283', first_name='Christyna', last_name='Morrissey', gender='Female', language='Quechua'), personal_info_data_class(ssn='792-71-8046', first_name='Carly', last_name='Hazley', gender='Female', language='Guarana'), personal_info_data_class(ssn='794-24-3802', first_name='Esther', last_name='Sayton', gender='Female', language='Somali'), personal_info_data_class(ssn='795-56-6486', first_name='Stevena', last_name='Vatcher', gender='Female', language='Gagauz'), personal_info_data_class(ssn='795-77-5263', first_name='Burty', last_name='Frosdick', gender='Male', language='Marathi'), personal_info_data_class(ssn='797-05-2289', first_name='Fanchon', last_name='Petrushanko', gender='Female', language='Finnish'), personal_info_data_class(ssn='797-25-9814', first_name='Aleksandr', last_name='Swalwell', gender='Male', language='Pashto'), personal_info_data_class(ssn='797-65-2382', first_name='Marianne', last_name='Huccaby', gender='Female', language='Swedish'), personal_info_data_class(ssn='797-87-7992', first_name='Lonna', last_name='Plumridge', gender='Female', language='Armenian'), personal_info_data_class(ssn='798-34-1082', first_name='Henka', last_name='Synder', gender='Female', language='Italian'), personal_info_data_class(ssn='798-65-5644', first_name='Irita', last_name='Heady', gender='Female', language='Montenegrin'), personal_info_data_class(ssn='800-06-9721', first_name='Carter', last_name='Waldron', gender='Male', language='Estonian'), personal_info_data_class(ssn='801-08-8313', first_name='Aida', last_name='Whitemarsh', gender='Female', language='Chinese'), personal_info_data_class(ssn='801-92-6460', first_name='Levi', last_name='Downgate', gender='Male', language='Belarusian'), personal_info_data_class(ssn='801-99-2773', first_name='Justinian', last_name='Carlesso', gender='Male', language='Japanese'), personal_info_data_class(ssn='804-46-0617', first_name='Geneva', last_name='Crinion', gender='Female', language='Hungarian'), personal_info_data_class(ssn='807-13-5922', first_name='Vivi', last_name='Edinboro', gender='Female', language='Sotho'), personal_info_data_class(ssn='807-24-6202', first_name='Lanette', last_name='Elvins', gender='Female', language='Hiri Motu'), personal_info_data_class(ssn='807-25-6136', first_name='Sammy', last_name='Linnard', gender='Female', language='Dutch'), personal_info_data_class(ssn='807-35-8936', first_name='Georgi', last_name='Widd', gender='Male', language='Afrikaans'), personal_info_data_class(ssn='807-50-8539', first_name='Jaquith', last_name='Erdes', gender='Female', language='Dhivehi'), personal_info_data_class(ssn='807-60-5615', first_name='Michale', last_name='Druery', gender='Male', language='Dhivehi'), personal_info_data_class(ssn='808-55-8658', first_name='Ursulina', last_name='Kunze', gender='Female', language='Chinese'), personal_info_data_class(ssn='808-80-2542', first_name='Gustaf', last_name='Hullot', gender='Male', language='Persian'), personal_info_data_class(ssn='811-65-2750', first_name='Minetta', last_name='Dusting', gender='Female', language='Spanish'), personal_info_data_class(ssn='812-11-9403', first_name='Carmina', last_name='Turnell', gender='Female', language='West Frisian'), personal_info_data_class(ssn='813-42-4142', first_name='Killy', last_name='Threadgould', gender='Male', language='Polish'), personal_info_data_class(ssn='813-47-5215', first_name='Willi', last_name='Collet', gender='Male', language='Gujarati'), personal_info_data_class(ssn='815-83-0300', first_name='Romeo', last_name='Rayworth', gender='Male', language='Thai'), personal_info_data_class(ssn='816-31-3858', first_name='Elvera', last_name='Walmsley', gender='Female', language='Montenegrin'), personal_info_data_class(ssn='816-47-4782', first_name='Wilmer', last_name='Maides', gender='Male', language='Aymara'), personal_info_data_class(ssn='816-90-2049', first_name='Berry', last_name='Delagnes', gender='Female', language='Bengali'), personal_info_data_class(ssn='817-04-1950', first_name='Fletcher', last_name='McGrouther', gender='Male', language='Albanian'), personal_info_data_class(ssn='817-25-7437', first_name='Randall', last_name='Fibbitts', gender='Male', language='Yiddish'), personal_info_data_class(ssn='817-80-8930', first_name='Lib', last_name='Skein', gender='Female', language='Arabic'), personal_info_data_class(ssn='818-61-0770', first_name='Stanly', last_name='Casseldine', gender='Male', language='Belarusian'), personal_info_data_class(ssn='819-52-5886', first_name='Paulette', last_name='McAree', gender='Female', language='Arabic'), personal_info_data_class(ssn='819-64-1414', first_name='Malynda', last_name='Hundall', gender='Female', language='Filipino'), personal_info_data_class(ssn='820-96-1105', first_name='Andy', last_name='Sayce', gender='Female', language='Pashto'), personal_info_data_class(ssn='822-05-9037', first_name='Meggi', last_name='Mapes', gender='Female', language='Moldovan'), personal_info_data_class(ssn='822-30-4861', first_name='Phyllis', last_name='Cronk', gender='Female', language='Fijian'), personal_info_data_class(ssn='823-27-0762', first_name='Marten', last_name='McCord', gender='Male', language='Indonesian'), personal_info_data_class(ssn='823-75-5753', first_name='Thibaut', last_name='Van Schafflaer', gender='Male', language='Chinese'), personal_info_data_class(ssn='824-89-4169', first_name='Tamqrah', last_name='Goroni', gender='Female', language='Swedish'), personal_info_data_class(ssn='826-97-8029', first_name='Llewellyn', last_name='Shimwell', gender='Male', language='Belarusian'), personal_info_data_class(ssn='827-62-4599', first_name='Phyllys', last_name='Akast', gender='Female', language='Armenian'), personal_info_data_class(ssn='830-23-1573', first_name='Carine', last_name='Abramin', gender='Female', language='Bislama'), personal_info_data_class(ssn='831-44-3286', first_name='Leesa', last_name='Finci', gender='Female', language='Nepali'), personal_info_data_class(ssn='833-01-1428', first_name='Ashlan', last_name='Zannotti', gender='Female', language='Finnish'), personal_info_data_class(ssn='835-54-3785', first_name='Nathaniel', last_name='Wegman', gender='Male', language='Azeri'), personal_info_data_class(ssn='836-40-1837', first_name='Brocky', last_name='Kewzick', gender='Male', language='Armenian'), personal_info_data_class(ssn='836-99-3309', first_name='Cobby', last_name='Mutter', gender='Male', language='Georgian'), personal_info_data_class(ssn='837-76-5619', first_name='Alleyn', last_name='Parade', gender='Male', language='Croatian'), personal_info_data_class(ssn='838-69-1351', first_name='Alwin', last_name='Hazzard', gender='Male', language='Kannada'), personal_info_data_class(ssn='840-41-7929', first_name='Sherlock', last_name='Pinshon', gender='Male', language='Khmer'), personal_info_data_class(ssn='841-64-8517', first_name='Hugues', last_name='Kenealy', gender='Male', language='Korean'), personal_info_data_class(ssn='842-90-7557', first_name='Brit', last_name='Weall', gender='Female', language='West Frisian'), personal_info_data_class(ssn='844-15-4668', first_name='Eleonora', last_name='Delete', gender='Female', language='Hiri Motu'), personal_info_data_class(ssn='844-50-7305', first_name='Merralee', last_name='Orae', gender='Female', language='Macedonian'), personal_info_data_class(ssn='846-07-1407', first_name='Tobias', last_name='Blakelock', gender='Male', language='German'), personal_info_data_class(ssn='846-09-9851', first_name='Shani', last_name='Penrose', gender='Female', language='New Zealand Sign Language'), personal_info_data_class(ssn='846-59-9961', first_name='Saleem', last_name='Osmant', gender='Male', language='Croatian'), personal_info_data_class(ssn='847-34-4817', first_name='Orazio', last_name='Coners', gender='Male', language='Yiddish'), personal_info_data_class(ssn='847-61-7656', first_name='Brit', last_name='Lodovichi', gender='Male', language='Bislama'), personal_info_data_class(ssn='848-58-3386', first_name='Julianne', last_name='Lygo', gender='Female', language='Japanese'), personal_info_data_class(ssn='848-74-2886', first_name='Helyn', last_name='Witheford', gender='Female', language='Bislama'), personal_info_data_class(ssn='848-76-8808', first_name='Durward', last_name='Nuscha', gender='Male', language='Nepali'), personal_info_data_class(ssn='849-31-1551', first_name='Lisabeth', last_name='Mattessen', gender='Female', language='German'), personal_info_data_class(ssn='849-64-6624', first_name='Hallie', last_name='Proschke', gender='Female', language='Fijian'), personal_info_data_class(ssn='849-98-2973', first_name='Hurley', last_name='Newart', gender='Male', language='Hindi'), personal_info_data_class(ssn='851-94-2162', first_name='Rodi', last_name='Mulrenan', gender='Female', language='Catalan'), personal_info_data_class(ssn='852-15-7707', first_name='Mario', last_name='Lelande', gender='Male', language='Nepali'), personal_info_data_class(ssn='853-11-8953', first_name='Brice', last_name='Kyd', gender='Male', language='Dari'), personal_info_data_class(ssn='853-47-3648', first_name='Olag', last_name='Belhome', gender='Male', language='Maltese'), personal_info_data_class(ssn='854-68-7635', first_name='Eyde', last_name='McCunn', gender='Female', language='Moldovan'), personal_info_data_class(ssn='854-71-2983', first_name='Rikki', last_name='Loveland', gender='Male', language='Dutch'), personal_info_data_class(ssn='854-79-5334', first_name='Bevan', last_name='Kolczynski', gender='Male', language='Swahili'), personal_info_data_class(ssn='856-18-3980', first_name='Neale', last_name='Sesser', gender='Male', language='Maltese'), personal_info_data_class(ssn='856-27-9112', first_name='Virgilio', last_name='Kirrage', gender='Male', language='Pashto'), personal_info_data_class(ssn='856-67-4080', first_name='Aggy', last_name='Cobley', gender='Female', language='Dhivehi'), personal_info_data_class(ssn='857-37-5902', first_name='Jenni', last_name='Swinyard', gender='Female', language='Hindi'), personal_info_data_class(ssn='858-03-7735', first_name='Allayne', last_name='Wardingley', gender='Male', language='Kazakh'), personal_info_data_class(ssn='858-27-9190', first_name='Yuri', last_name='Sixsmith', gender='Male', language='Norwegian'), personal_info_data_class(ssn='860-67-0256', first_name='Bendicty', last_name='Lindgren', gender='Male', language='Tajik'), personal_info_data_class(ssn='860-89-2570', first_name='Otto', last_name='Burgwin', gender='Male', language='Finnish'), personal_info_data_class(ssn='861-50-6716', first_name='Norina', last_name='Yerbury', gender='Female', language='Indonesian'), personal_info_data_class(ssn='862-20-0653', first_name='Wilfrid', last_name='Kid', gender='Male', language='Swedish'), personal_info_data_class(ssn='864-22-9364', first_name='Lyell', last_name='Petrollo', gender='Male', language='Latvian'), personal_info_data_class(ssn='864-91-7489', first_name='Guthrie', last_name='Pilsworth', gender='Male', language='Bislama'), personal_info_data_class(ssn='866-18-1440', first_name='Zachary', last_name='Branchflower', gender='Male', language='Papiamento'), personal_info_data_class(ssn='866-53-0625', first_name='Francene', last_name='Ehlerding', gender='Female', language='Latvian'), personal_info_data_class(ssn='867-11-6007', first_name='Kennett', last_name='Barhims', gender='Male', language='Malayalam'), personal_info_data_class(ssn='867-13-6844', first_name='Clo', last_name='Skacel', gender='Female', language='Armenian'), personal_info_data_class(ssn='867-88-2360', first_name='Gasper', last_name='Dohrmann', gender='Male', language='Dzongkha'), personal_info_data_class(ssn='868-32-1805', first_name='Joanna', last_name='Raycroft', gender='Female', language='Bosnian'), personal_info_data_class(ssn='870-12-6609', first_name='Jourdain', last_name='Comino', gender='Male', language='Guarana'), personal_info_data_class(ssn='870-93-1121', first_name='Elisha', last_name='Wonham', gender='Male', language='Hebrew'), personal_info_data_class(ssn='871-99-3191', first_name='Susann', last_name='Walrond', gender='Female', language='Amharic'), personal_info_data_class(ssn='872-18-9267', first_name='Roddy', last_name='Honeywood', gender='Male', language='Maltese'), personal_info_data_class(ssn='872-49-1288', first_name='Salaidh', last_name='Barthod', gender='Female', language='Finnish'), personal_info_data_class(ssn='873-36-4733', first_name='Locke', last_name='Staries', gender='Male', language='Moldovan'), personal_info_data_class(ssn='875-18-9454', first_name='Eustace', last_name='Kinnear', gender='Male', language='Hiri Motu'), personal_info_data_class(ssn='875-75-0495', first_name='Frasquito', last_name='Lammas', gender='Male', language='Polish'), personal_info_data_class(ssn='878-12-8265', first_name='Nance', last_name='Doble', gender='Female', language='Dhivehi'), personal_info_data_class(ssn='880-22-4449', first_name='Zebadiah', last_name='Halliburton', gender='Male', language='Azeri'), personal_info_data_class(ssn='881-19-5974', first_name='Lodovico', last_name='Gabby', gender='Male', language='Northern Sotho'), personal_info_data_class(ssn='881-88-7308', first_name='Maitilde', last_name='Davis', gender='Female', language='Tsonga'), personal_info_data_class(ssn='881-95-7180', first_name='Homerus', last_name='Lamar', gender='Male', language='Macedonian'), personal_info_data_class(ssn='882-49-5290', first_name='Tamarah', last_name='Stenson', gender='Female', language='Armenian'), personal_info_data_class(ssn='884-61-1852', first_name='Wylie', last_name='Glennon', gender='Male', language='Romanian'), personal_info_data_class(ssn='887-41-7878', first_name='Bruce', last_name='Danieli', gender='Male', language='Tamil'), personal_info_data_class(ssn='887-83-9002', first_name='Mab', last_name='Bozworth', gender='Female', language='Tok Pisin'), personal_info_data_class(ssn='888-50-7008', first_name='Mayor', last_name='Gouley', gender='Male', language='Dzongkha'), personal_info_data_class(ssn='888-53-7684', first_name='Lanny', last_name='Perfect', gender='Male', language='Estonian'), personal_info_data_class(ssn='888-82-4928', first_name='Billye', last_name='Legat', gender='Female', language='Icelandic'), personal_info_data_class(ssn='890-28-9962', first_name='Kingston', last_name='Spitell', gender='Male', language='Quechua'), personal_info_data_class(ssn='893-12-0901', first_name='Dicky', last_name='Rohlfing', gender='Male', language='Oriya'), personal_info_data_class(ssn='893-17-7318', first_name='Nani', last_name='Bonelle', gender='Female', language='Kyrgyz'), personal_info_data_class(ssn='894-81-0628', first_name='Ree', last_name='Mordue', gender='Female', language='Tswana'), personal_info_data_class(ssn='895-26-1658', first_name='Nance', last_name='Danzelman', gender='Female', language='Icelandic'), personal_info_data_class(ssn='895-26-5515', first_name='Frank', last_name='Mason', gender='Male', language='Northern Sotho'), personal_info_data_class(ssn='897-76-7070', first_name='Glynnis', last_name='Tillerton', gender='Female', language='Nepali'), personal_info_data_class(ssn='898-03-3165', first_name='Sela', last_name='Vaillant', gender='Female', language='Arabic'), personal_info_data_class(ssn='898-86-8860', first_name='Hershel', last_name='Few', gender='Male', language='Gagauz'), personal_info_data_class(ssn='899-09-1766', first_name='Joe', last_name='Myderscough', gender='Male', language='Filipino'), personal_info_data_class(ssn='899-39-7179', first_name='Rani', last_name='Naisbitt', gender='Female', language='Greek'), personal_info_data_class(ssn='899-39-7378', first_name='Lindsay', last_name='Colledge', gender='Female', language='Croatian'), personal_info_data_class(ssn='899-47-6116', first_name='Tiphanie', last_name='Kevlin', gender='Female', language='Tetum')]\n"
          ]
        }
      ]
    },
    {
      "cell_type": "markdown",
      "source": [
        "### testing the working for goal 1, (to compare with goal 2)"
      ],
      "metadata": {
        "id": "eJaKk0vhOohI"
      }
    },
    {
      "cell_type": "code",
      "source": [
        "# testing the working for goal 1, (to compare with goal 2)\n",
        "with GenericContextManager(cars_csv_url) as gcm:\n",
        "    for row in gcm.extract_values_in_row():\n",
        "        print(row)"
      ],
      "metadata": {
        "colab": {
          "base_uri": "https://localhost:8080/"
        },
        "id": "pDj23GnKNyZN",
        "outputId": "aa68b071-391d-4e68-80f3-64f4b4f168e4"
      },
      "execution_count": null,
      "outputs": [
        {
          "output_type": "stream",
          "name": "stdout",
          "text": [
            "['Car', 'MPG', 'Cylinders', 'Displacement', 'Horsepower', 'Weight', 'Acceleration', 'Model', 'Origin']\n",
            "['Chevrolet Chevelle Malibu', 18.0, 8, 307.0, 130.0, 3504.0, 12.0, 70, 'US']\n",
            "['Buick Skylark 320', 15.0, 8, 350.0, 165.0, 3693.0, 11.5, 70, 'US']\n",
            "['Plymouth Satellite', 18.0, 8, 318.0, 150.0, 3436.0, 11.0, 70, 'US']\n",
            "['AMC Rebel SST', 16.0, 8, 304.0, 150.0, 3433.0, 12.0, 70, 'US']\n",
            "['Ford Torino', 17.0, 8, 302.0, 140.0, 3449.0, 10.5, 70, 'US']\n",
            "['Ford Galaxie 500', 15.0, 8, 429.0, 198.0, 4341.0, 10.0, 70, 'US']\n",
            "['Chevrolet Impala', 14.0, 8, 454.0, 220.0, 4354.0, 9.0, 70, 'US']\n",
            "['Plymouth Fury iii', 14.0, 8, 440.0, 215.0, 4312.0, 8.5, 70, 'US']\n",
            "['Pontiac Catalina', 14.0, 8, 455.0, 225.0, 4425.0, 10.0, 70, 'US']\n",
            "['AMC Ambassador DPL', 15.0, 8, 390.0, 190.0, 3850.0, 8.5, 70, 'US']\n",
            "['Citroen DS-21 Pallas', 0, 4, 133.0, 115.0, 3090.0, 17.5, 70, 'Europe']\n",
            "['Chevrolet Chevelle Concours (sw)', 0, 8, 350.0, 165.0, 4142.0, 11.5, 70, 'US']\n",
            "['Ford Torino (sw)', 0, 8, 351.0, 153.0, 4034.0, 11.0, 70, 'US']\n",
            "['Plymouth Satellite (sw)', 0, 8, 383.0, 175.0, 4166.0, 10.5, 70, 'US']\n",
            "['AMC Rebel SST (sw)', 0, 8, 360.0, 175.0, 3850.0, 11.0, 70, 'US']\n",
            "['Dodge Challenger SE', 15.0, 8, 383.0, 170.0, 3563.0, 10.0, 70, 'US']\n",
            "[\"Plymouth 'Cuda 340\", 14.0, 8, 340.0, 160.0, 3609.0, 8.0, 70, 'US']\n",
            "['Ford Mustang Boss 302', 0, 8, 302.0, 140.0, 3353.0, 8.0, 70, 'US']\n",
            "['Chevrolet Monte Carlo', 15.0, 8, 400.0, 150.0, 3761.0, 9.5, 70, 'US']\n",
            "['Buick Estate Wagon (sw)', 14.0, 8, 455.0, 225.0, 3086.0, 10.0, 70, 'US']\n",
            "['Toyota Corolla Mark ii', 24.0, 4, 113.0, 95.0, 2372.0, 15.0, 70, 'Japan']\n",
            "['Plymouth Duster', 22.0, 6, 198.0, 95.0, 2833.0, 15.5, 70, 'US']\n",
            "['AMC Hornet', 18.0, 6, 199.0, 97.0, 2774.0, 15.5, 70, 'US']\n",
            "['Ford Maverick', 21.0, 6, 200.0, 85.0, 2587.0, 16.0, 70, 'US']\n",
            "['Datsun PL510', 27.0, 4, 97.0, 88.0, 2130.0, 14.5, 70, 'Japan']\n",
            "['Volkswagen 1131 Deluxe Sedan', 26.0, 4, 97.0, 46.0, 1835.0, 20.5, 70, 'Europe']\n",
            "['Peugeot 504', 25.0, 4, 110.0, 87.0, 2672.0, 17.5, 70, 'Europe']\n",
            "['Audi 100 LS', 24.0, 4, 107.0, 90.0, 2430.0, 14.5, 70, 'Europe']\n",
            "['Saab 99e', 25.0, 4, 104.0, 95.0, 2375.0, 17.5, 70, 'Europe']\n",
            "['BMW 2002', 26.0, 4, 121.0, 113.0, 2234.0, 12.5, 70, 'Europe']\n",
            "['AMC Gremlin', 21.0, 6, 199.0, 90.0, 2648.0, 15.0, 70, 'US']\n",
            "['Ford F250', 10.0, 8, 360.0, 215.0, 4615.0, 14.0, 70, 'US']\n",
            "['Chevy C20', 10.0, 8, 307.0, 200.0, 4376.0, 15.0, 70, 'US']\n",
            "['Dodge D200', 11.0, 8, 318.0, 210.0, 4382.0, 13.5, 70, 'US']\n",
            "['Hi 1200D', 9.0, 8, 304.0, 193.0, 4732.0, 18.5, 70, 'US']\n",
            "['Datsun PL510', 27.0, 4, 97.0, 88.0, 2130.0, 14.5, 71, 'Japan']\n",
            "['Chevrolet Vega 2300', 28.0, 4, 140.0, 90.0, 2264.0, 15.5, 71, 'US']\n",
            "['Toyota Corolla', 25.0, 4, 113.0, 95.0, 2228.0, 14.0, 71, 'Japan']\n",
            "['Ford Pinto', 25.0, 4, 98.0, 0, 2046.0, 19.0, 71, 'US']\n",
            "['Volkswagen Super Beetle 117', 0, 4, 97.0, 48.0, 1978.0, 20.0, 71, 'Europe']\n",
            "['AMC Gremlin', 19.0, 6, 232.0, 100.0, 2634.0, 13.0, 71, 'US']\n",
            "['Plymouth Satellite Custom', 16.0, 6, 225.0, 105.0, 3439.0, 15.5, 71, 'US']\n",
            "['Chevrolet Chevelle Malibu', 17.0, 6, 250.0, 100.0, 3329.0, 15.5, 71, 'US']\n",
            "['Ford Torino 500', 19.0, 6, 250.0, 88.0, 3302.0, 15.5, 71, 'US']\n",
            "['AMC Matador', 18.0, 6, 232.0, 100.0, 3288.0, 15.5, 71, 'US']\n",
            "['Chevrolet Impala', 14.0, 8, 350.0, 165.0, 4209.0, 12.0, 71, 'US']\n",
            "['Pontiac Catalina Brougham', 14.0, 8, 400.0, 175.0, 4464.0, 11.5, 71, 'US']\n",
            "['Ford Galaxie 500', 14.0, 8, 351.0, 153.0, 4154.0, 13.5, 71, 'US']\n",
            "['Plymouth Fury iii', 14.0, 8, 318.0, 150.0, 4096.0, 13.0, 71, 'US']\n",
            "['Dodge Monaco (sw)', 12.0, 8, 383.0, 180.0, 4955.0, 11.5, 71, 'US']\n",
            "['Ford Country Squire (sw)', 13.0, 8, 400.0, 170.0, 4746.0, 12.0, 71, 'US']\n",
            "['Pontiac Safari (sw)', 13.0, 8, 400.0, 175.0, 5140.0, 12.0, 71, 'US']\n",
            "['AMC Hornet Sportabout (sw)', 18.0, 6, 258.0, 110.0, 2962.0, 13.5, 71, 'US']\n",
            "['Chevrolet Vega (sw)', 22.0, 4, 140.0, 72.0, 2408.0, 19.0, 71, 'US']\n",
            "['Pontiac Firebird', 19.0, 6, 250.0, 100.0, 3282.0, 15.0, 71, 'US']\n",
            "['Ford Mustang', 18.0, 6, 250.0, 88.0, 3139.0, 14.5, 71, 'US']\n",
            "['Mercury Capri 2000', 23.0, 4, 122.0, 86.0, 2220.0, 14.0, 71, 'US']\n",
            "['Opel 1900', 28.0, 4, 116.0, 90.0, 2123.0, 14.0, 71, 'Europe']\n",
            "['Peugeot 304', 30.0, 4, 79.0, 70.0, 2074.0, 19.5, 71, 'Europe']\n",
            "['Fiat 124B', 30.0, 4, 88.0, 76.0, 2065.0, 14.5, 71, 'Europe']\n",
            "['Toyota Corolla 1200', 31.0, 4, 71.0, 65.0, 1773.0, 19.0, 71, 'Japan']\n",
            "['Datsun 1200', 35.0, 4, 72.0, 69.0, 1613.0, 18.0, 71, 'Japan']\n",
            "['Volkswagen Model 111', 27.0, 4, 97.0, 60.0, 1834.0, 19.0, 71, 'Europe']\n",
            "['Plymouth Cricket', 26.0, 4, 91.0, 70.0, 1955.0, 20.5, 71, 'US']\n",
            "['Toyota Corolla Hardtop', 24.0, 4, 113.0, 95.0, 2278.0, 15.5, 72, 'Japan']\n",
            "['Dodge Colt Hardtop', 25.0, 4, 97.5, 80.0, 2126.0, 17.0, 72, 'US']\n",
            "['Volkswagen Type 3', 23.0, 4, 97.0, 54.0, 2254.0, 23.5, 72, 'Europe']\n",
            "['Chevrolet Vega', 20.0, 4, 140.0, 90.0, 2408.0, 19.5, 72, 'US']\n",
            "['Ford Pinto Runabout', 21.0, 4, 122.0, 86.0, 2226.0, 16.5, 72, 'US']\n",
            "['Chevrolet Impala', 13.0, 8, 350.0, 165.0, 4274.0, 12.0, 72, 'US']\n",
            "['Pontiac Catalina', 14.0, 8, 400.0, 175.0, 4385.0, 12.0, 72, 'US']\n",
            "['Plymouth Fury III', 15.0, 8, 318.0, 150.0, 4135.0, 13.5, 72, 'US']\n",
            "['Ford Galaxie 500', 14.0, 8, 351.0, 153.0, 4129.0, 13.0, 72, 'US']\n",
            "['AMC Ambassador SST', 17.0, 8, 304.0, 150.0, 3672.0, 11.5, 72, 'US']\n",
            "['Mercury Marquis', 11.0, 8, 429.0, 208.0, 4633.0, 11.0, 72, 'US']\n",
            "['Buick LeSabre Custom', 13.0, 8, 350.0, 155.0, 4502.0, 13.5, 72, 'US']\n",
            "['Oldsmobile Delta 88 Royale', 12.0, 8, 350.0, 160.0, 4456.0, 13.5, 72, 'US']\n",
            "['Chrysler Newport Royal', 13.0, 8, 400.0, 190.0, 4422.0, 12.5, 72, 'US']\n",
            "['Mazda RX2 Coupe', 19.0, 3, 70.0, 97.0, 2330.0, 13.5, 72, 'Japan']\n",
            "['AMC Matador (sw)', 15.0, 8, 304.0, 150.0, 3892.0, 12.5, 72, 'US']\n",
            "['Chevrolet Chevelle Concours (sw)', 13.0, 8, 307.0, 130.0, 4098.0, 14.0, 72, 'US']\n",
            "['Ford Gran Torino (sw)', 13.0, 8, 302.0, 140.0, 4294.0, 16.0, 72, 'US']\n",
            "['Plymouth Satellite Custom (sw)', 14.0, 8, 318.0, 150.0, 4077.0, 14.0, 72, 'US']\n",
            "['Volvo 145e (sw)', 18.0, 4, 121.0, 112.0, 2933.0, 14.5, 72, 'Europe']\n",
            "['Volkswagen 411 (sw)', 22.0, 4, 121.0, 76.0, 2511.0, 18.0, 72, 'Europe']\n",
            "['Peugeot 504 (sw)', 21.0, 4, 120.0, 87.0, 2979.0, 19.5, 72, 'Europe']\n",
            "['Renault 12 (sw)', 26.0, 4, 96.0, 69.0, 2189.0, 18.0, 72, 'Europe']\n",
            "['Ford Pinto (sw)', 22.0, 4, 122.0, 86.0, 2395.0, 16.0, 72, 'US']\n",
            "['Datsun 510 (sw)', 28.0, 4, 97.0, 92.0, 2288.0, 17.0, 72, 'Japan']\n",
            "['Toyota Corolla Mark II (sw)', 23.0, 4, 120.0, 97.0, 2506.0, 14.5, 72, 'Japan']\n",
            "['Dodge Colt (sw)', 28.0, 4, 98.0, 80.0, 2164.0, 15.0, 72, 'US']\n",
            "['Toyota Corolla 1600 (sw)', 27.0, 4, 97.0, 88.0, 2100.0, 16.5, 72, 'Japan']\n",
            "['Buick Century 350', 13.0, 8, 350.0, 175.0, 4100.0, 13.0, 73, 'US']\n",
            "['AMC Matador', 14.0, 8, 304.0, 150.0, 3672.0, 11.5, 73, 'US']\n",
            "['Chevrolet Malibu', 13.0, 8, 350.0, 145.0, 3988.0, 13.0, 73, 'US']\n",
            "['Ford Gran Torino', 14.0, 8, 302.0, 137.0, 4042.0, 14.5, 73, 'US']\n",
            "['Dodge Coronet Custom', 15.0, 8, 318.0, 150.0, 3777.0, 12.5, 73, 'US']\n",
            "['Mercury Marquis Brougham', 12.0, 8, 429.0, 198.0, 4952.0, 11.5, 73, 'US']\n",
            "['Chevrolet Caprice Classic', 13.0, 8, 400.0, 150.0, 4464.0, 12.0, 73, 'US']\n",
            "['Ford LTD', 13.0, 8, 351.0, 158.0, 4363.0, 13.0, 73, 'US']\n",
            "['Plymouth Fury Gran Sedan', 14.0, 8, 318.0, 150.0, 4237.0, 14.5, 73, 'US']\n",
            "['Chrysler New Yorker Brougham', 13.0, 8, 440.0, 215.0, 4735.0, 11.0, 73, 'US']\n",
            "['Buick Electra 225 Custom', 12.0, 8, 455.0, 225.0, 4951.0, 11.0, 73, 'US']\n",
            "['AMC Ambassador Brougham', 13.0, 8, 360.0, 175.0, 3821.0, 11.0, 73, 'US']\n",
            "['Plymouth Valiant', 18.0, 6, 225.0, 105.0, 3121.0, 16.5, 73, 'US']\n",
            "['Chevrolet Nova Custom', 16.0, 6, 250.0, 100.0, 3278.0, 18.0, 73, 'US']\n",
            "['AMC Hornet', 18.0, 6, 232.0, 100.0, 2945.0, 16.0, 73, 'US']\n",
            "['Ford Maverick', 18.0, 6, 250.0, 88.0, 3021.0, 16.5, 73, 'US']\n",
            "['Plymouth Duster', 23.0, 6, 198.0, 95.0, 2904.0, 16.0, 73, 'US']\n",
            "['Volkswagen Super Beetle', 26.0, 4, 97.0, 46.0, 1950.0, 21.0, 73, 'Europe']\n",
            "['Chevrolet Impala', 11.0, 8, 400.0, 150.0, 4997.0, 14.0, 73, 'US']\n",
            "['Ford Country', 12.0, 8, 400.0, 167.0, 4906.0, 12.5, 73, 'US']\n",
            "['Plymouth Custom Suburb', 13.0, 8, 360.0, 170.0, 4654.0, 13.0, 73, 'US']\n",
            "['Oldsmobile Vista Cruiser', 12.0, 8, 350.0, 180.0, 4499.0, 12.5, 73, 'US']\n",
            "['AMC Gremlin', 18.0, 6, 232.0, 100.0, 2789.0, 15.0, 73, 'US']\n",
            "['Toyota Camry', 20.0, 4, 97.0, 88.0, 2279.0, 19.0, 73, 'Japan']\n",
            "['Chevrolet Vega', 21.0, 4, 140.0, 72.0, 2401.0, 19.5, 73, 'US']\n",
            "['Datsun 610', 22.0, 4, 108.0, 94.0, 2379.0, 16.5, 73, 'Japan']\n",
            "['Mazda RX3', 18.0, 3, 70.0, 90.0, 2124.0, 13.5, 73, 'Japan']\n",
            "['Ford Pinto', 19.0, 4, 122.0, 85.0, 2310.0, 18.5, 73, 'US']\n",
            "['Mercury Capri v6', 21.0, 6, 155.0, 107.0, 2472.0, 14.0, 73, 'US']\n",
            "['Fiat 124 Sport Coupe', 26.0, 4, 98.0, 90.0, 2265.0, 15.5, 73, 'Europe']\n",
            "['Chevrolet Monte Carlo S', 15.0, 8, 350.0, 145.0, 4082.0, 13.0, 73, 'US']\n",
            "['Pontiac Grand Prix', 16.0, 8, 400.0, 230.0, 4278.0, 9.5, 73, 'US']\n",
            "['Fiat 128', 29.0, 4, 68.0, 49.0, 1867.0, 19.5, 73, 'Europe']\n",
            "['Opel Manta', 24.0, 4, 116.0, 75.0, 2158.0, 15.5, 73, 'Europe']\n",
            "['Audi 100LS', 20.0, 4, 114.0, 91.0, 2582.0, 14.0, 73, 'Europe']\n",
            "['Volvo 144ea', 19.0, 4, 121.0, 112.0, 2868.0, 15.5, 73, 'Europe']\n",
            "['Dodge Dart Custom', 15.0, 8, 318.0, 150.0, 3399.0, 11.0, 73, 'US']\n",
            "['Saab 99le', 24.0, 4, 121.0, 110.0, 2660.0, 14.0, 73, 'Europe']\n",
            "['Toyota Mark II', 20.0, 6, 156.0, 122.0, 2807.0, 13.5, 73, 'Japan']\n",
            "['Oldsmobile Omega', 11.0, 8, 350.0, 180.0, 3664.0, 11.0, 73, 'US']\n",
            "['Plymouth Duster', 20.0, 6, 198.0, 95.0, 3102.0, 16.5, 74, 'US']\n",
            "['Ford Maverick', 21.0, 6, 200.0, 0, 2875.0, 17.0, 74, 'US']\n",
            "['AMC Hornet', 19.0, 6, 232.0, 100.0, 2901.0, 16.0, 74, 'US']\n",
            "['Chevrolet Nova', 15.0, 6, 250.0, 100.0, 3336.0, 17.0, 74, 'US']\n",
            "['Datsun B210', 31.0, 4, 79.0, 67.0, 1950.0, 19.0, 74, 'Japan']\n",
            "['Ford Pinto', 26.0, 4, 122.0, 80.0, 2451.0, 16.5, 74, 'US']\n",
            "['Toyota Corolla 1200', 32.0, 4, 71.0, 65.0, 1836.0, 21.0, 74, 'Japan']\n",
            "['Chevrolet Vega', 25.0, 4, 140.0, 75.0, 2542.0, 17.0, 74, 'US']\n",
            "['Chevrolet Chevelle Malibu Classic', 16.0, 6, 250.0, 100.0, 3781.0, 17.0, 74, 'US']\n",
            "['AMC Matador', 16.0, 6, 258.0, 110.0, 3632.0, 18.0, 74, 'US']\n",
            "['Plymouth Satellite Sebring', 18.0, 6, 225.0, 105.0, 3613.0, 16.5, 74, 'US']\n",
            "['Ford Gran Torino', 16.0, 8, 302.0, 140.0, 4141.0, 14.0, 74, 'US']\n",
            "['Buick Century Luxus (sw)', 13.0, 8, 350.0, 150.0, 4699.0, 14.5, 74, 'US']\n",
            "['Dodge Coronet Custom (sw)', 14.0, 8, 318.0, 150.0, 4457.0, 13.5, 74, 'US']\n",
            "['Ford Gran Torino (sw)', 14.0, 8, 302.0, 140.0, 4638.0, 16.0, 74, 'US']\n",
            "['AMC Matador (sw)', 14.0, 8, 304.0, 150.0, 4257.0, 15.5, 74, 'US']\n",
            "['Audi Fox', 29.0, 4, 98.0, 83.0, 2219.0, 16.5, 74, 'Europe']\n",
            "['Volkswagen Dasher', 26.0, 4, 79.0, 67.0, 1963.0, 15.5, 74, 'Europe']\n",
            "['Opel Manta', 26.0, 4, 97.0, 78.0, 2300.0, 14.5, 74, 'Europe']\n",
            "['Toyota Corolla', 31.0, 4, 76.0, 52.0, 1649.0, 16.5, 74, 'Japan']\n",
            "['Datsun 710', 32.0, 4, 83.0, 61.0, 2003.0, 19.0, 74, 'Japan']\n",
            "['Dodge Colt', 28.0, 4, 90.0, 75.0, 2125.0, 14.5, 74, 'US']\n",
            "['Fiat 128', 24.0, 4, 90.0, 75.0, 2108.0, 15.5, 74, 'Europe']\n",
            "['Fiat 124 TC', 26.0, 4, 116.0, 75.0, 2246.0, 14.0, 74, 'Europe']\n",
            "['Honda Civic', 24.0, 4, 120.0, 97.0, 2489.0, 15.0, 74, 'Japan']\n",
            "['Subaru', 26.0, 4, 108.0, 93.0, 2391.0, 15.5, 74, 'Japan']\n",
            "['Fiat x1.9', 31.0, 4, 79.0, 67.0, 2000.0, 16.0, 74, 'Europe']\n",
            "['Plymouth Valiant Custom', 19.0, 6, 225.0, 95.0, 3264.0, 16.0, 75, 'US']\n",
            "['Chevrolet Nova', 18.0, 6, 250.0, 105.0, 3459.0, 16.0, 75, 'US']\n",
            "['Mercury Monarch', 15.0, 6, 250.0, 72.0, 3432.0, 21.0, 75, 'US']\n",
            "['Ford Maverick', 15.0, 6, 250.0, 72.0, 3158.0, 19.5, 75, 'US']\n",
            "['Pontiac Catalina', 16.0, 8, 400.0, 170.0, 4668.0, 11.5, 75, 'US']\n",
            "['Chevrolet Bel Air', 15.0, 8, 350.0, 145.0, 4440.0, 14.0, 75, 'US']\n",
            "['Plymouth Grand Fury', 16.0, 8, 318.0, 150.0, 4498.0, 14.5, 75, 'US']\n",
            "['Ford LTD', 14.0, 8, 351.0, 148.0, 4657.0, 13.5, 75, 'US']\n",
            "['Buick Century', 17.0, 6, 231.0, 110.0, 3907.0, 21.0, 75, 'US']\n",
            "['Chevrolete Chevelle Malibu', 16.0, 6, 250.0, 105.0, 3897.0, 18.5, 75, 'US']\n",
            "['AMC Matador', 15.0, 6, 258.0, 110.0, 3730.0, 19.0, 75, 'US']\n",
            "['Plymouth Fury', 18.0, 6, 225.0, 95.0, 3785.0, 19.0, 75, 'US']\n",
            "['Buick Skyhawk', 21.0, 6, 231.0, 110.0, 3039.0, 15.0, 75, 'US']\n",
            "['Chevrolet Monza 2+2', 20.0, 8, 262.0, 110.0, 3221.0, 13.5, 75, 'US']\n",
            "['Ford Mustang II', 13.0, 8, 302.0, 129.0, 3169.0, 12.0, 75, 'US']\n",
            "['Toyota Corolla', 29.0, 4, 97.0, 75.0, 2171.0, 16.0, 75, 'Japan']\n",
            "['Ford Pinto', 23.0, 4, 140.0, 83.0, 2639.0, 17.0, 75, 'US']\n",
            "['AMC Gremlin', 20.0, 6, 232.0, 100.0, 2914.0, 16.0, 75, 'US']\n",
            "['Pontiac Astro', 23.0, 4, 140.0, 78.0, 2592.0, 18.5, 75, 'US']\n",
            "['Toyota Corolla', 24.0, 4, 134.0, 96.0, 2702.0, 13.5, 75, 'Japan']\n",
            "['Volkswagen Dasher', 25.0, 4, 90.0, 71.0, 2223.0, 16.5, 75, 'Europe']\n",
            "['Datsun 710', 24.0, 4, 119.0, 97.0, 2545.0, 17.0, 75, 'Japan']\n",
            "['Ford Pinto', 18.0, 6, 171.0, 97.0, 2984.0, 14.5, 75, 'US']\n",
            "['Volkswagen Rabbit', 29.0, 4, 90.0, 70.0, 1937.0, 14.0, 75, 'Europe']\n",
            "['AMC Pacer', 19.0, 6, 232.0, 90.0, 3211.0, 17.0, 75, 'US']\n",
            "['Audi 100LS', 23.0, 4, 115.0, 95.0, 2694.0, 15.0, 75, 'Europe']\n",
            "['Peugeot 504', 23.0, 4, 120.0, 88.0, 2957.0, 17.0, 75, 'Europe']\n",
            "['Volvo 244DL', 22.0, 4, 121.0, 98.0, 2945.0, 14.5, 75, 'Europe']\n",
            "['Saab 99LE', 25.0, 4, 121.0, 115.0, 2671.0, 13.5, 75, 'Europe']\n",
            "['Honda Civic CVCC', 33.0, 4, 91.0, 53.0, 1795.0, 17.5, 75, 'Japan']\n",
            "['Fiat 131', 28.0, 4, 107.0, 86.0, 2464.0, 15.5, 76, 'Europe']\n",
            "['Opel 1900', 25.0, 4, 116.0, 81.0, 2220.0, 16.9, 76, 'Europe']\n",
            "['Capri ii', 25.0, 4, 140.0, 92.0, 2572.0, 14.9, 76, 'US']\n",
            "['Dodge Colt', 26.0, 4, 98.0, 79.0, 2255.0, 17.7, 76, 'US']\n",
            "['Renault 12tl', 27.0, 4, 101.0, 83.0, 2202.0, 15.3, 76, 'Europe']\n",
            "['Chevrolet Chevelle Malibu Classic', 17.5, 8, 305.0, 140.0, 4215.0, 13.0, 76, 'US']\n",
            "['Dodge Coronet Brougham', 16.0, 8, 318.0, 150.0, 4190.0, 13.0, 76, 'US']\n",
            "['AMC Matador', 15.5, 8, 304.0, 120.0, 3962.0, 13.9, 76, 'US']\n",
            "['Ford Gran Torino', 14.5, 8, 351.0, 152.0, 4215.0, 12.8, 76, 'US']\n",
            "['Plymouth Valiant', 22.0, 6, 225.0, 100.0, 3233.0, 15.4, 76, 'US']\n",
            "['Chevrolet Nova', 22.0, 6, 250.0, 105.0, 3353.0, 14.5, 76, 'US']\n",
            "['Ford Maverick', 24.0, 6, 200.0, 81.0, 3012.0, 17.6, 76, 'US']\n",
            "['AMC Hornet', 22.5, 6, 232.0, 90.0, 3085.0, 17.6, 76, 'US']\n",
            "['Chevrolet Chevette', 29.0, 4, 85.0, 52.0, 2035.0, 22.2, 76, 'US']\n",
            "['Chevrolet Woody', 24.5, 4, 98.0, 60.0, 2164.0, 22.1, 76, 'US']\n",
            "['Volkswagen Rabbit', 29.0, 4, 90.0, 70.0, 1937.0, 14.2, 76, 'Europe']\n",
            "['Honda Civic', 33.0, 4, 91.0, 53.0, 1795.0, 17.4, 76, 'Japan']\n",
            "['Dodge Aspen SE', 20.0, 6, 225.0, 100.0, 3651.0, 17.7, 76, 'US']\n",
            "['Ford Grenada ghia', 18.0, 6, 250.0, 78.0, 3574.0, 21.0, 76, 'US']\n",
            "['Pontiac Ventura SJ', 18.5, 6, 250.0, 110.0, 3645.0, 16.2, 76, 'US']\n",
            "['AMC Pacer d/l', 17.5, 6, 258.0, 95.0, 3193.0, 17.8, 76, 'US']\n",
            "['Volkswagen Rabbit', 29.5, 4, 97.0, 71.0, 1825.0, 12.2, 76, 'Europe']\n",
            "['Datsun B-210', 32.0, 4, 85.0, 70.0, 1990.0, 17.0, 76, 'Japan']\n",
            "['Toyota Corolla', 28.0, 4, 97.0, 75.0, 2155.0, 16.4, 76, 'Japan']\n",
            "['Ford Pinto', 26.5, 4, 140.0, 72.0, 2565.0, 13.6, 76, 'US']\n",
            "['Volvo 245', 20.0, 4, 130.0, 102.0, 3150.0, 15.7, 76, 'Europe']\n",
            "['Plymouth Volare Premier v8', 13.0, 8, 318.0, 150.0, 3940.0, 13.2, 76, 'US']\n",
            "['Peugeot 504', 19.0, 4, 120.0, 88.0, 3270.0, 21.9, 76, 'Europe']\n",
            "['Toyota Mark II', 19.0, 6, 156.0, 108.0, 2930.0, 15.5, 76, 'Japan']\n",
            "['Mercedes-Benz 280s', 16.5, 6, 168.0, 120.0, 3820.0, 16.7, 76, 'Europe']\n",
            "['Cadillac Seville', 16.5, 8, 350.0, 180.0, 4380.0, 12.1, 76, 'US']\n",
            "['Chevrolet C10', 13.0, 8, 350.0, 145.0, 4055.0, 12.0, 76, 'US']\n",
            "['Ford F108', 13.0, 8, 302.0, 130.0, 3870.0, 15.0, 76, 'US']\n",
            "['Dodge D100', 13.0, 8, 318.0, 150.0, 3755.0, 14.0, 76, 'US']\n",
            "['Honda Accord CVCC', 31.5, 4, 98.0, 68.0, 2045.0, 18.5, 77, 'Japan']\n",
            "['Buick Opel Isuzu Deluxe', 30.0, 4, 111.0, 80.0, 2155.0, 14.8, 77, 'US']\n",
            "['Renault 5 GTL', 36.0, 4, 79.0, 58.0, 1825.0, 18.6, 77, 'Europe']\n",
            "['Plymouth Arrow GS', 25.5, 4, 122.0, 96.0, 2300.0, 15.5, 77, 'US']\n",
            "['Datsun F-10 Hatchback', 33.5, 4, 85.0, 70.0, 1945.0, 16.8, 77, 'Japan']\n",
            "['Chevrolet Caprice Classic', 17.5, 8, 305.0, 145.0, 3880.0, 12.5, 77, 'US']\n",
            "['Oldsmobile Cutlass Supreme', 17.0, 8, 260.0, 110.0, 4060.0, 19.0, 77, 'US']\n",
            "['Dodge Monaco Brougham', 15.5, 8, 318.0, 145.0, 4140.0, 13.7, 77, 'US']\n",
            "['Mercury Cougar Brougham', 15.0, 8, 302.0, 130.0, 4295.0, 14.9, 77, 'US']\n",
            "['Chevrolet Concours', 17.5, 6, 250.0, 110.0, 3520.0, 16.4, 77, 'US']\n",
            "['Buick Skylark', 20.5, 6, 231.0, 105.0, 3425.0, 16.9, 77, 'US']\n",
            "['Plymouth Volare Custom', 19.0, 6, 225.0, 100.0, 3630.0, 17.7, 77, 'US']\n",
            "['Ford Grenada', 18.5, 6, 250.0, 98.0, 3525.0, 19.0, 77, 'US']\n",
            "['Pontiac Grand Prix LJ', 16.0, 8, 400.0, 180.0, 4220.0, 11.1, 77, 'US']\n",
            "['Chevrolet Monte Carlo Landau', 15.5, 8, 350.0, 170.0, 4165.0, 11.4, 77, 'US']\n",
            "['Chrysler Cordoba', 15.5, 8, 400.0, 190.0, 4325.0, 12.2, 77, 'US']\n",
            "['Ford Thunderbird', 16.0, 8, 351.0, 149.0, 4335.0, 14.5, 77, 'US']\n",
            "['Volkswagen Rabbit Custom', 29.0, 4, 97.0, 78.0, 1940.0, 14.5, 77, 'Europe']\n",
            "['Pontiac Sunbird Coupe', 24.5, 4, 151.0, 88.0, 2740.0, 16.0, 77, 'US']\n",
            "['Toyota Corolla Liftback', 26.0, 4, 97.0, 75.0, 2265.0, 18.2, 77, 'Japan']\n",
            "['Ford Mustang II 2+2', 25.5, 4, 140.0, 89.0, 2755.0, 15.8, 77, 'US']\n",
            "['Chevrolet Chevette', 30.5, 4, 98.0, 63.0, 2051.0, 17.0, 77, 'US']\n",
            "['Dodge Colt m/m', 33.5, 4, 98.0, 83.0, 2075.0, 15.9, 77, 'US']\n",
            "['Subaru DL', 30.0, 4, 97.0, 67.0, 1985.0, 16.4, 77, 'Japan']\n",
            "['Volkswagen Dasher', 30.5, 4, 97.0, 78.0, 2190.0, 14.1, 77, 'Europe']\n",
            "['Datsun 810', 22.0, 6, 146.0, 97.0, 2815.0, 14.5, 77, 'Japan']\n",
            "['BMW 320i', 21.5, 4, 121.0, 110.0, 2600.0, 12.8, 77, 'Europe']\n",
            "['Mazda RX-4', 21.5, 3, 80.0, 110.0, 2720.0, 13.5, 77, 'Japan']\n",
            "['Volkswagen Rabbit Custom Diesel', 43.1, 4, 90.0, 48.0, 1985.0, 21.5, 78, 'Europe']\n",
            "['Ford Fiesta', 36.1, 4, 98.0, 66.0, 1800.0, 14.4, 78, 'US']\n",
            "['Mazda GLC Deluxe', 32.8, 4, 78.0, 52.0, 1985.0, 19.4, 78, 'Japan']\n",
            "['Datsun B210 GX', 39.4, 4, 85.0, 70.0, 2070.0, 18.6, 78, 'Japan']\n",
            "['Honda Civic CVCC', 36.1, 4, 91.0, 60.0, 1800.0, 16.4, 78, 'Japan']\n",
            "['Oldsmobile Cutlass Salon Brougham', 19.9, 8, 260.0, 110.0, 3365.0, 15.5, 78, 'US']\n",
            "['Dodge Diplomat', 19.4, 8, 318.0, 140.0, 3735.0, 13.2, 78, 'US']\n",
            "['Mercury Monarch ghia', 20.2, 8, 302.0, 139.0, 3570.0, 12.8, 78, 'US']\n",
            "['Pontiac Phoenix LJ', 19.2, 6, 231.0, 105.0, 3535.0, 19.2, 78, 'US']\n",
            "['Chevrolet Malibu', 20.5, 6, 200.0, 95.0, 3155.0, 18.2, 78, 'US']\n",
            "['Ford Fairmont (auto)', 20.2, 6, 200.0, 85.0, 2965.0, 15.8, 78, 'US']\n",
            "['Ford Fairmont (man)', 25.1, 4, 140.0, 88.0, 2720.0, 15.4, 78, 'US']\n",
            "['Plymouth Volare', 20.5, 6, 225.0, 100.0, 3430.0, 17.2, 78, 'US']\n",
            "['AMC Concord', 19.4, 6, 232.0, 90.0, 3210.0, 17.2, 78, 'US']\n",
            "['Buick Century Special', 20.6, 6, 231.0, 105.0, 3380.0, 15.8, 78, 'US']\n",
            "['Mercury Zephyr', 20.8, 6, 200.0, 85.0, 3070.0, 16.7, 78, 'US']\n",
            "['Dodge Aspen', 18.6, 6, 225.0, 110.0, 3620.0, 18.7, 78, 'US']\n",
            "['AMC Concord d/l', 18.1, 6, 258.0, 120.0, 3410.0, 15.1, 78, 'US']\n",
            "['Chevrolet Monte Carlo Landau', 19.2, 8, 305.0, 145.0, 3425.0, 13.2, 78, 'US']\n",
            "['Buick Regal Sport Coupe (turbo)', 17.7, 6, 231.0, 165.0, 3445.0, 13.4, 78, 'US']\n",
            "['Ford Futura', 18.1, 8, 302.0, 139.0, 3205.0, 11.2, 78, 'US']\n",
            "['Dodge Magnum XE', 17.5, 8, 318.0, 140.0, 4080.0, 13.7, 78, 'US']\n",
            "['Chevrolet Chevette', 30.0, 4, 98.0, 68.0, 2155.0, 16.5, 78, 'US']\n",
            "['Toyota Corolla', 27.5, 4, 134.0, 95.0, 2560.0, 14.2, 78, 'Japan']\n",
            "['Datsun 510', 27.2, 4, 119.0, 97.0, 2300.0, 14.7, 78, 'Japan']\n",
            "['Dodge Omni', 30.9, 4, 105.0, 75.0, 2230.0, 14.5, 78, 'US']\n",
            "['Toyota Celica GT Liftback', 21.1, 4, 134.0, 95.0, 2515.0, 14.8, 78, 'Japan']\n",
            "['Plymouth Sapporo', 23.2, 4, 156.0, 105.0, 2745.0, 16.7, 78, 'US']\n",
            "['Oldsmobile Starfire SX', 23.8, 4, 151.0, 85.0, 2855.0, 17.6, 78, 'US']\n",
            "['Datsun 200-SX', 23.9, 4, 119.0, 97.0, 2405.0, 14.9, 78, 'Japan']\n",
            "['Audi 5000', 20.3, 5, 131.0, 103.0, 2830.0, 15.9, 78, 'Europe']\n",
            "['Volvo 264gl', 17.0, 6, 163.0, 125.0, 3140.0, 13.6, 78, 'Europe']\n",
            "['Saab 99gle', 21.6, 4, 121.0, 115.0, 2795.0, 15.7, 78, 'Europe']\n",
            "['Peugeot 604sl', 16.2, 6, 163.0, 133.0, 3410.0, 15.8, 78, 'Europe']\n",
            "['Volkswagen Scirocco', 31.5, 4, 89.0, 71.0, 1990.0, 14.9, 78, 'Europe']\n",
            "['Honda Accord LX', 29.5, 4, 98.0, 68.0, 2135.0, 16.6, 78, 'Japan']\n",
            "['Pontiac Lemans V6', 21.5, 6, 231.0, 115.0, 3245.0, 15.4, 79, 'US']\n",
            "['Mercury Zephyr 6', 19.8, 6, 200.0, 85.0, 2990.0, 18.2, 79, 'US']\n",
            "['Ford Fairmont 4', 22.3, 4, 140.0, 88.0, 2890.0, 17.3, 79, 'US']\n",
            "['AMC Concord DL 6', 20.2, 6, 232.0, 90.0, 3265.0, 18.2, 79, 'US']\n",
            "['Dodge Aspen 6', 20.6, 6, 225.0, 110.0, 3360.0, 16.6, 79, 'US']\n",
            "['Chevrolet Caprice Classic', 17.0, 8, 305.0, 130.0, 3840.0, 15.4, 79, 'US']\n",
            "['Ford LTD Landau', 17.6, 8, 302.0, 129.0, 3725.0, 13.4, 79, 'US']\n",
            "['Mercury Grand Marquis', 16.5, 8, 351.0, 138.0, 3955.0, 13.2, 79, 'US']\n",
            "['Dodge St. Regis', 18.2, 8, 318.0, 135.0, 3830.0, 15.2, 79, 'US']\n",
            "['Buick Estate Wagon (sw)', 16.9, 8, 350.0, 155.0, 4360.0, 14.9, 79, 'US']\n",
            "['Ford Country Squire (sw)', 15.5, 8, 351.0, 142.0, 4054.0, 14.3, 79, 'US']\n",
            "['Chevrolet Malibu Classic (sw)', 19.2, 8, 267.0, 125.0, 3605.0, 15.0, 79, 'US']\n",
            "['Chrysler Lebaron Town @ Country (sw)', 18.5, 8, 360.0, 150.0, 3940.0, 13.0, 79, 'US']\n",
            "['Volkswagen Rabbit Custom', 31.9, 4, 89.0, 71.0, 1925.0, 14.0, 79, 'Europe']\n",
            "['Mazda GLC Deluxe', 34.1, 4, 86.0, 65.0, 1975.0, 15.2, 79, 'Japan']\n",
            "['Dodge Colt Hatchback Custom', 35.7, 4, 98.0, 80.0, 1915.0, 14.4, 79, 'US']\n",
            "['AMC Spirit DL', 27.4, 4, 121.0, 80.0, 2670.0, 15.0, 79, 'US']\n",
            "['Mercedes Benz 300d', 25.4, 5, 183.0, 77.0, 3530.0, 20.1, 79, 'Europe']\n",
            "['Cadillac Eldorado', 23.0, 8, 350.0, 125.0, 3900.0, 17.4, 79, 'US']\n",
            "['Peugeot 504', 27.2, 4, 141.0, 71.0, 3190.0, 24.8, 79, 'Europe']\n",
            "['Oldsmobile Cutlass Salon Brougham', 23.9, 8, 260.0, 90.0, 3420.0, 22.2, 79, 'US']\n",
            "['Plymouth Horizon', 34.2, 4, 105.0, 70.0, 2200.0, 13.2, 79, 'US']\n",
            "['Plymouth Horizon TC3', 34.5, 4, 105.0, 70.0, 2150.0, 14.9, 79, 'US']\n",
            "['Datsun 210', 31.8, 4, 85.0, 65.0, 2020.0, 19.2, 79, 'Japan']\n",
            "['Fiat Strada Custom', 37.3, 4, 91.0, 69.0, 2130.0, 14.7, 79, 'Europe']\n",
            "['Buick Skylark Limited', 28.4, 4, 151.0, 90.0, 2670.0, 16.0, 79, 'US']\n",
            "['Chevrolet Citation', 28.8, 6, 173.0, 115.0, 2595.0, 11.3, 79, 'US']\n",
            "['Oldsmobile Omega Brougham', 26.8, 6, 173.0, 115.0, 2700.0, 12.9, 79, 'US']\n",
            "['Pontiac Phoenix', 33.5, 4, 151.0, 90.0, 2556.0, 13.2, 79, 'US']\n",
            "['Volkswagen Rabbit', 41.5, 4, 98.0, 76.0, 2144.0, 14.7, 80, 'Europe']\n",
            "['Toyota Corolla Tercel', 38.1, 4, 89.0, 60.0, 1968.0, 18.8, 80, 'Japan']\n",
            "['Chevrolet Chevette', 32.1, 4, 98.0, 70.0, 2120.0, 15.5, 80, 'US']\n",
            "['Datsun 310', 37.2, 4, 86.0, 65.0, 2019.0, 16.4, 80, 'Japan']\n",
            "['Chevrolet Citation', 28.0, 4, 151.0, 90.0, 2678.0, 16.5, 80, 'US']\n",
            "['Ford Fairmont', 26.4, 4, 140.0, 88.0, 2870.0, 18.1, 80, 'US']\n",
            "['AMC Concord', 24.3, 4, 151.0, 90.0, 3003.0, 20.1, 80, 'US']\n",
            "['Dodge Aspen', 19.1, 6, 225.0, 90.0, 3381.0, 18.7, 80, 'US']\n",
            "['Audi 4000', 34.3, 4, 97.0, 78.0, 2188.0, 15.8, 80, 'Europe']\n",
            "['Toyota Corolla Liftback', 29.8, 4, 134.0, 90.0, 2711.0, 15.5, 80, 'Japan']\n",
            "['Mazda 626', 31.3, 4, 120.0, 75.0, 2542.0, 17.5, 80, 'Japan']\n",
            "['Datsun 510 Hatchback', 37.0, 4, 119.0, 92.0, 2434.0, 15.0, 80, 'Japan']\n",
            "['Toyota Corolla', 32.2, 4, 108.0, 75.0, 2265.0, 15.2, 80, 'Japan']\n",
            "['Mazda GLC', 46.6, 4, 86.0, 65.0, 2110.0, 17.9, 80, 'Japan']\n",
            "['Dodge Colt', 27.9, 4, 156.0, 105.0, 2800.0, 14.4, 80, 'US']\n",
            "['Datsun 210', 40.8, 4, 85.0, 65.0, 2110.0, 19.2, 80, 'Japan']\n",
            "['Volkswagen Rabbit C (Diesel)', 44.3, 4, 90.0, 48.0, 2085.0, 21.7, 80, 'Europe']\n",
            "['Volkswagen Dasher (diesel)', 43.4, 4, 90.0, 48.0, 2335.0, 23.7, 80, 'Europe']\n",
            "['Audi 5000s (diesel)', 36.4, 5, 121.0, 67.0, 2950.0, 19.9, 80, 'Europe']\n",
            "['Mercedes-Benz 240d', 30.0, 4, 146.0, 67.0, 3250.0, 21.8, 80, 'Europe']\n",
            "['Honda Civic 1500 gl', 44.6, 4, 91.0, 67.0, 1850.0, 13.8, 80, 'Japan']\n",
            "['Renault Lecar Deluxe', 40.9, 4, 85.0, 0, 1835.0, 17.3, 80, 'Europe']\n",
            "['Subaru DL', 33.8, 4, 97.0, 67.0, 2145.0, 18.0, 80, 'Japan']\n",
            "['Volkswagen Rabbit', 29.8, 4, 89.0, 62.0, 1845.0, 15.3, 80, 'Europe']\n",
            "['Datsun 280-ZX', 32.7, 6, 168.0, 132.0, 2910.0, 11.4, 80, 'Japan']\n",
            "['Mazda RX-7 GS', 23.7, 3, 70.0, 100.0, 2420.0, 12.5, 80, 'Japan']\n",
            "['Triumph TR7 Coupe', 35.0, 4, 122.0, 88.0, 2500.0, 15.1, 80, 'Europe']\n",
            "['Ford Mustang Cobra', 23.6, 4, 140.0, 0, 2905.0, 14.3, 80, 'US']\n",
            "['Honda Accord', 32.4, 4, 107.0, 72.0, 2290.0, 17.0, 80, 'Japan']\n",
            "['Plymouth Reliant', 27.2, 4, 135.0, 84.0, 2490.0, 15.7, 81, 'US']\n",
            "['Buick Skylark', 26.6, 4, 151.0, 84.0, 2635.0, 16.4, 81, 'US']\n",
            "['Dodge Aries Wagon (sw)', 25.8, 4, 156.0, 92.0, 2620.0, 14.4, 81, 'US']\n",
            "['Chevrolet Citation', 23.5, 6, 173.0, 110.0, 2725.0, 12.6, 81, 'US']\n",
            "['Plymouth Reliant', 30.0, 4, 135.0, 84.0, 2385.0, 12.9, 81, 'US']\n",
            "['Toyota Starlet', 39.1, 4, 79.0, 58.0, 1755.0, 16.9, 81, 'Japan']\n",
            "['Plymouth Champ', 39.0, 4, 86.0, 64.0, 1875.0, 16.4, 81, 'US']\n",
            "['Honda Civic 1300', 35.1, 4, 81.0, 60.0, 1760.0, 16.1, 81, 'Japan']\n",
            "['Subaru', 32.3, 4, 97.0, 67.0, 2065.0, 17.8, 81, 'Japan']\n",
            "['Datsun 210 MPG', 37.0, 4, 85.0, 65.0, 1975.0, 19.4, 81, 'Japan']\n",
            "['Toyota Tercel', 37.7, 4, 89.0, 62.0, 2050.0, 17.3, 81, 'Japan']\n",
            "['Mazda GLC 4', 34.1, 4, 91.0, 68.0, 1985.0, 16.0, 81, 'Japan']\n",
            "['Plymouth Horizon 4', 34.7, 4, 105.0, 63.0, 2215.0, 14.9, 81, 'US']\n",
            "['Ford Escort 4W', 34.4, 4, 98.0, 65.0, 2045.0, 16.2, 81, 'US']\n",
            "['Ford Escort 2H', 29.9, 4, 98.0, 65.0, 2380.0, 20.7, 81, 'US']\n",
            "['Volkswagen Jetta', 33.0, 4, 105.0, 74.0, 2190.0, 14.2, 81, 'Europe']\n",
            "['Renault 18i', 34.5, 4, 100.0, 0, 2320.0, 15.8, 81, 'Europe']\n",
            "['Honda Prelude', 33.7, 4, 107.0, 75.0, 2210.0, 14.4, 81, 'Japan']\n",
            "['Toyota Corolla', 32.4, 4, 108.0, 75.0, 2350.0, 16.8, 81, 'Japan']\n",
            "['Datsun 200SX', 32.9, 4, 119.0, 100.0, 2615.0, 14.8, 81, 'Japan']\n",
            "['Mazda 626', 31.6, 4, 120.0, 74.0, 2635.0, 18.3, 81, 'Japan']\n",
            "['Peugeot 505s Turbo Diesel', 28.1, 4, 141.0, 80.0, 3230.0, 20.4, 81, 'Europe']\n",
            "['Saab 900s', 0, 4, 121.0, 110.0, 2800.0, 15.4, 81, 'Europe']\n",
            "['Volvo Diesel', 30.7, 6, 145.0, 76.0, 3160.0, 19.6, 81, 'Europe']\n",
            "['Toyota Cressida', 25.4, 6, 168.0, 116.0, 2900.0, 12.6, 81, 'Japan']\n",
            "['Datsun 810 Maxima', 24.2, 6, 146.0, 120.0, 2930.0, 13.8, 81, 'Japan']\n",
            "['Buick Century', 22.4, 6, 231.0, 110.0, 3415.0, 15.8, 81, 'US']\n",
            "['Oldsmobile Cutlass LS', 26.6, 8, 350.0, 105.0, 3725.0, 19.0, 81, 'US']\n",
            "['Ford Grenada gl', 20.2, 6, 200.0, 88.0, 3060.0, 17.1, 81, 'US']\n",
            "['Chrysler Lebaron Salon', 17.6, 6, 225.0, 85.0, 3465.0, 16.6, 81, 'US']\n",
            "['Chevrolet Cavalier', 28.0, 4, 112.0, 88.0, 2605.0, 19.6, 82, 'US']\n",
            "['Chevrolet Cavalier Wagon', 27.0, 4, 112.0, 88.0, 2640.0, 18.6, 82, 'US']\n",
            "['Chevrolet Cavalier 2-door', 34.0, 4, 112.0, 88.0, 2395.0, 18.0, 82, 'US']\n",
            "['Pontiac J2000 SE Hatchback', 31.0, 4, 112.0, 85.0, 2575.0, 16.2, 82, 'US']\n",
            "['Dodge Aries SE', 29.0, 4, 135.0, 84.0, 2525.0, 16.0, 82, 'US']\n",
            "['Pontiac Phoenix', 27.0, 4, 151.0, 90.0, 2735.0, 18.0, 82, 'US']\n",
            "['Ford Fairmont Futura', 24.0, 4, 140.0, 92.0, 2865.0, 16.4, 82, 'US']\n",
            "['AMC Concord DL', 23.0, 4, 151.0, 0, 3035.0, 20.5, 82, 'US']\n",
            "['Volkswagen Rabbit l', 36.0, 4, 105.0, 74.0, 1980.0, 15.3, 82, 'Europe']\n",
            "['Mazda GLC Custom l', 37.0, 4, 91.0, 68.0, 2025.0, 18.2, 82, 'Japan']\n",
            "['Mazda GLC Custom', 31.0, 4, 91.0, 68.0, 1970.0, 17.6, 82, 'Japan']\n",
            "['Plymouth Horizon Miser', 38.0, 4, 105.0, 63.0, 2125.0, 14.7, 82, 'US']\n",
            "['Mercury Lynx l', 36.0, 4, 98.0, 70.0, 2125.0, 17.3, 82, 'US']\n",
            "['Nissan Stanza XE', 36.0, 4, 120.0, 88.0, 2160.0, 14.5, 82, 'Japan']\n",
            "['Honda Accord', 36.0, 4, 107.0, 75.0, 2205.0, 14.5, 82, 'Japan']\n",
            "['Toyota Corolla', 34.0, 4, 108.0, 70.0, 2245, 16.9, 82, 'Japan']\n",
            "['Honda Civic', 38.0, 4, 91.0, 67.0, 1965.0, 15.0, 82, 'Japan']\n",
            "['Honda Civic (auto)', 32.0, 4, 91.0, 67.0, 1965.0, 15.7, 82, 'Japan']\n",
            "['Datsun 310 GX', 38.0, 4, 91.0, 67.0, 1995.0, 16.2, 82, 'Japan']\n",
            "['Buick Century Limited', 25.0, 6, 181.0, 110.0, 2945.0, 16.4, 82, 'US']\n",
            "['Oldsmobile Cutlass Ciera (diesel)', 38.0, 6, 262.0, 85.0, 3015.0, 17.0, 82, 'US']\n",
            "['Chrysler Lebaron Medallion', 26.0, 4, 156.0, 92.0, 2585.0, 14.5, 82, 'US']\n",
            "['Ford Grenada l', 22.0, 6, 232.0, 112.0, 2835, 14.7, 82, 'US']\n",
            "['Toyota Celica GT', 32.0, 4, 144.0, 96.0, 2665.0, 13.9, 82, 'Japan']\n",
            "['Dodge Charger 2.2', 36.0, 4, 135.0, 84.0, 2370.0, 13.0, 82, 'US']\n",
            "['Chevrolet Camaro', 27.0, 4, 151.0, 90.0, 2950.0, 17.3, 82, 'US']\n",
            "['Ford Mustang GL', 27.0, 4, 140.0, 86.0, 2790.0, 15.6, 82, 'US']\n",
            "['Volkswagen Pickup', 44.0, 4, 97.0, 52.0, 2130.0, 24.6, 82, 'Europe']\n",
            "['Dodge Rampage', 32.0, 4, 135.0, 84.0, 2295.0, 11.6, 82, 'US']\n",
            "['Ford Ranger', 28.0, 4, 120.0, 79.0, 2625.0, 18.6, 82, 'US']\n",
            "['Chevy S-10', 31.0, 4, 119.0, 82.0, 2720.0, 19.4, 82, 'US']\n"
          ]
        }
      ]
    },
    {
      "cell_type": "markdown",
      "source": [
        "## Goal 2\n",
        "The goal is to reproduce the work you did in Goal 1, but using a generator function and the `contextlib` `contextmanager` decorator.\n",
        "\n",
        "### Goal 2 byme:\n",
        "just remove `__enter__` and `__exit__`. Then impliment the same thing using try and finally blocks like below. You can also transfer some `__init__` code in some cases.\n",
        "```\n",
        "@contextmanager\n",
        "def some_generator(<arguments>):\n",
        "    <copy __init__ code here>\n",
        "    try:\n",
        "      <copy __enter__ code here>\n",
        "    finally:\n",
        "      <copy __exit__ code here>\n",
        "```\n",
        "\n",
        "Note byme:\n",
        "Since, `__enter__` and `__exit__` are not implimented in `GenericContextManager2` class, so you cannot use `with` here.\n",
        "You can use `with` only with the `some_generator` function defined outside the class with `@contextmanager` decorator"
      ],
      "metadata": {
        "id": "dleEUonkDyL9"
      }
    },
    {
      "cell_type": "markdown",
      "source": [
        "### Useful info from help(contextlib)\n",
        "```\n",
        "   contextmanager(func)\n",
        "        @contextmanager decorator.\n",
        "```\n",
        "Typical usage:\n",
        "```        \n",
        "            @contextmanager\n",
        "            def some_generator(<arguments>):\n",
        "                <setup>\n",
        "                try:\n",
        "                    yield <value>\n",
        "                finally:\n",
        "                    <cleanup>\n",
        "```        \n",
        "This makes this:\n",
        "```        \n",
        "            with some_generator(<arguments>) as <variable>:\n",
        "                <body>\n",
        "```        \n",
        "equivalent to this:\n",
        "```        \n",
        "            <setup>\n",
        "            try:\n",
        "                <variable> = <value>\n",
        "                <body>\n",
        "            finally:\n",
        "                <cleanup>\n",
        "```"
      ],
      "metadata": {
        "id": "E-uWgR8FGsjx"
      }
    },
    {
      "cell_type": "code",
      "source": [
        "import requests\n",
        "import csv\n",
        "from contextlib import contextmanager\n",
        "import collections\n",
        "\n",
        "cars_csv_url = \"https://raw.githubusercontent.com/fbaptiste/python-deepdive/main/Part%202/Section%2011%20-%20Project%205/01%20-%20Description/cars.csv\"\n",
        "personal_info_csv_url = \"https://raw.githubusercontent.com/fbaptiste/python-deepdive/main/Part%202/Section%2011%20-%20Project%205/01%20-%20Description/personal_info.csv\""
      ],
      "metadata": {
        "id": "8LUJHa9CFnR8"
      },
      "execution_count": null,
      "outputs": []
    },
    {
      "cell_type": "code",
      "source": [
        "# finished goal 2 in this cell\n",
        "\n",
        "class GenericContextManager2:\n",
        "  def __init__(self, url):\n",
        "    self.url = url\n",
        "  \n",
        "  def parser(self, valueList):\n",
        "    parsedList = []\n",
        "    for value in valueList:\n",
        "      if \".\" in value:\n",
        "        try:\n",
        "          parsedList.append(float(value))\n",
        "        except ValueError:\n",
        "          parsedList.append(value)\n",
        "      else:\n",
        "        try:\n",
        "          parsedList.append(int(value))\n",
        "        except ValueError:\n",
        "          parsedList.append(value)\n",
        "    return parsedList\n",
        "\n",
        "  # reading elements lazily\n",
        "  def extract_values_in_row(self):\n",
        "    response = requests.get(self.url)\n",
        "    lines = response.content.decode().splitlines()\n",
        "    reader = csv.reader(lines)\n",
        "    for row in reader:\n",
        "      if \";\" in row[0]:\n",
        "        yield self.parser(row[0].strip(\"\\n\").split(\";\"))\n",
        "      else:\n",
        "        yield self.parser(row)\n",
        "    # returns list of elements in the row as string\n",
        "\n",
        "\n",
        "\n",
        "\n",
        "\n",
        "\n",
        "# deleted __enter__ and __exit__. Now implimenting the context manager functionality outside the class\n",
        "@contextmanager\n",
        "def OutsideContextManagerImplimentation2(url):\n",
        "  GCM2_Obj = GenericContextManager2(url)    # deleting (self.url = url) will change the working. so, not deleting __init__\n",
        "  try:\n",
        "    yield GCM2_Obj\n",
        "  finally:\n",
        "    del GCM2_Obj"
      ],
      "metadata": {
        "id": "a96fRgx8JEoD"
      },
      "execution_count": null,
      "outputs": []
    },
    {
      "cell_type": "markdown",
      "source": [
        "### testing if the working of goal 2 is same as goal 1"
      ],
      "metadata": {
        "id": "dZc2U1mCO7b1"
      }
    },
    {
      "cell_type": "code",
      "source": [
        "# testing if the working is same\n",
        "with OutsideContextManagerImplimentation2(cars_csv_url) as gcm:\n",
        "    for row in gcm.extract_values_in_row():\n",
        "        print(row)"
      ],
      "metadata": {
        "colab": {
          "base_uri": "https://localhost:8080/"
        },
        "id": "U0HopG2LMtLI",
        "outputId": "39711b73-332d-404c-e4ac-904e56d048c0"
      },
      "execution_count": null,
      "outputs": [
        {
          "output_type": "stream",
          "name": "stdout",
          "text": [
            "['Car', 'MPG', 'Cylinders', 'Displacement', 'Horsepower', 'Weight', 'Acceleration', 'Model', 'Origin']\n",
            "['Chevrolet Chevelle Malibu', 18.0, 8, 307.0, 130.0, 3504.0, 12.0, 70, 'US']\n",
            "['Buick Skylark 320', 15.0, 8, 350.0, 165.0, 3693.0, 11.5, 70, 'US']\n",
            "['Plymouth Satellite', 18.0, 8, 318.0, 150.0, 3436.0, 11.0, 70, 'US']\n",
            "['AMC Rebel SST', 16.0, 8, 304.0, 150.0, 3433.0, 12.0, 70, 'US']\n",
            "['Ford Torino', 17.0, 8, 302.0, 140.0, 3449.0, 10.5, 70, 'US']\n",
            "['Ford Galaxie 500', 15.0, 8, 429.0, 198.0, 4341.0, 10.0, 70, 'US']\n",
            "['Chevrolet Impala', 14.0, 8, 454.0, 220.0, 4354.0, 9.0, 70, 'US']\n",
            "['Plymouth Fury iii', 14.0, 8, 440.0, 215.0, 4312.0, 8.5, 70, 'US']\n",
            "['Pontiac Catalina', 14.0, 8, 455.0, 225.0, 4425.0, 10.0, 70, 'US']\n",
            "['AMC Ambassador DPL', 15.0, 8, 390.0, 190.0, 3850.0, 8.5, 70, 'US']\n",
            "['Citroen DS-21 Pallas', 0, 4, 133.0, 115.0, 3090.0, 17.5, 70, 'Europe']\n",
            "['Chevrolet Chevelle Concours (sw)', 0, 8, 350.0, 165.0, 4142.0, 11.5, 70, 'US']\n",
            "['Ford Torino (sw)', 0, 8, 351.0, 153.0, 4034.0, 11.0, 70, 'US']\n",
            "['Plymouth Satellite (sw)', 0, 8, 383.0, 175.0, 4166.0, 10.5, 70, 'US']\n",
            "['AMC Rebel SST (sw)', 0, 8, 360.0, 175.0, 3850.0, 11.0, 70, 'US']\n",
            "['Dodge Challenger SE', 15.0, 8, 383.0, 170.0, 3563.0, 10.0, 70, 'US']\n",
            "[\"Plymouth 'Cuda 340\", 14.0, 8, 340.0, 160.0, 3609.0, 8.0, 70, 'US']\n",
            "['Ford Mustang Boss 302', 0, 8, 302.0, 140.0, 3353.0, 8.0, 70, 'US']\n",
            "['Chevrolet Monte Carlo', 15.0, 8, 400.0, 150.0, 3761.0, 9.5, 70, 'US']\n",
            "['Buick Estate Wagon (sw)', 14.0, 8, 455.0, 225.0, 3086.0, 10.0, 70, 'US']\n",
            "['Toyota Corolla Mark ii', 24.0, 4, 113.0, 95.0, 2372.0, 15.0, 70, 'Japan']\n",
            "['Plymouth Duster', 22.0, 6, 198.0, 95.0, 2833.0, 15.5, 70, 'US']\n",
            "['AMC Hornet', 18.0, 6, 199.0, 97.0, 2774.0, 15.5, 70, 'US']\n",
            "['Ford Maverick', 21.0, 6, 200.0, 85.0, 2587.0, 16.0, 70, 'US']\n",
            "['Datsun PL510', 27.0, 4, 97.0, 88.0, 2130.0, 14.5, 70, 'Japan']\n",
            "['Volkswagen 1131 Deluxe Sedan', 26.0, 4, 97.0, 46.0, 1835.0, 20.5, 70, 'Europe']\n",
            "['Peugeot 504', 25.0, 4, 110.0, 87.0, 2672.0, 17.5, 70, 'Europe']\n",
            "['Audi 100 LS', 24.0, 4, 107.0, 90.0, 2430.0, 14.5, 70, 'Europe']\n",
            "['Saab 99e', 25.0, 4, 104.0, 95.0, 2375.0, 17.5, 70, 'Europe']\n",
            "['BMW 2002', 26.0, 4, 121.0, 113.0, 2234.0, 12.5, 70, 'Europe']\n",
            "['AMC Gremlin', 21.0, 6, 199.0, 90.0, 2648.0, 15.0, 70, 'US']\n",
            "['Ford F250', 10.0, 8, 360.0, 215.0, 4615.0, 14.0, 70, 'US']\n",
            "['Chevy C20', 10.0, 8, 307.0, 200.0, 4376.0, 15.0, 70, 'US']\n",
            "['Dodge D200', 11.0, 8, 318.0, 210.0, 4382.0, 13.5, 70, 'US']\n",
            "['Hi 1200D', 9.0, 8, 304.0, 193.0, 4732.0, 18.5, 70, 'US']\n",
            "['Datsun PL510', 27.0, 4, 97.0, 88.0, 2130.0, 14.5, 71, 'Japan']\n",
            "['Chevrolet Vega 2300', 28.0, 4, 140.0, 90.0, 2264.0, 15.5, 71, 'US']\n",
            "['Toyota Corolla', 25.0, 4, 113.0, 95.0, 2228.0, 14.0, 71, 'Japan']\n",
            "['Ford Pinto', 25.0, 4, 98.0, 0, 2046.0, 19.0, 71, 'US']\n",
            "['Volkswagen Super Beetle 117', 0, 4, 97.0, 48.0, 1978.0, 20.0, 71, 'Europe']\n",
            "['AMC Gremlin', 19.0, 6, 232.0, 100.0, 2634.0, 13.0, 71, 'US']\n",
            "['Plymouth Satellite Custom', 16.0, 6, 225.0, 105.0, 3439.0, 15.5, 71, 'US']\n",
            "['Chevrolet Chevelle Malibu', 17.0, 6, 250.0, 100.0, 3329.0, 15.5, 71, 'US']\n",
            "['Ford Torino 500', 19.0, 6, 250.0, 88.0, 3302.0, 15.5, 71, 'US']\n",
            "['AMC Matador', 18.0, 6, 232.0, 100.0, 3288.0, 15.5, 71, 'US']\n",
            "['Chevrolet Impala', 14.0, 8, 350.0, 165.0, 4209.0, 12.0, 71, 'US']\n",
            "['Pontiac Catalina Brougham', 14.0, 8, 400.0, 175.0, 4464.0, 11.5, 71, 'US']\n",
            "['Ford Galaxie 500', 14.0, 8, 351.0, 153.0, 4154.0, 13.5, 71, 'US']\n",
            "['Plymouth Fury iii', 14.0, 8, 318.0, 150.0, 4096.0, 13.0, 71, 'US']\n",
            "['Dodge Monaco (sw)', 12.0, 8, 383.0, 180.0, 4955.0, 11.5, 71, 'US']\n",
            "['Ford Country Squire (sw)', 13.0, 8, 400.0, 170.0, 4746.0, 12.0, 71, 'US']\n",
            "['Pontiac Safari (sw)', 13.0, 8, 400.0, 175.0, 5140.0, 12.0, 71, 'US']\n",
            "['AMC Hornet Sportabout (sw)', 18.0, 6, 258.0, 110.0, 2962.0, 13.5, 71, 'US']\n",
            "['Chevrolet Vega (sw)', 22.0, 4, 140.0, 72.0, 2408.0, 19.0, 71, 'US']\n",
            "['Pontiac Firebird', 19.0, 6, 250.0, 100.0, 3282.0, 15.0, 71, 'US']\n",
            "['Ford Mustang', 18.0, 6, 250.0, 88.0, 3139.0, 14.5, 71, 'US']\n",
            "['Mercury Capri 2000', 23.0, 4, 122.0, 86.0, 2220.0, 14.0, 71, 'US']\n",
            "['Opel 1900', 28.0, 4, 116.0, 90.0, 2123.0, 14.0, 71, 'Europe']\n",
            "['Peugeot 304', 30.0, 4, 79.0, 70.0, 2074.0, 19.5, 71, 'Europe']\n",
            "['Fiat 124B', 30.0, 4, 88.0, 76.0, 2065.0, 14.5, 71, 'Europe']\n",
            "['Toyota Corolla 1200', 31.0, 4, 71.0, 65.0, 1773.0, 19.0, 71, 'Japan']\n",
            "['Datsun 1200', 35.0, 4, 72.0, 69.0, 1613.0, 18.0, 71, 'Japan']\n",
            "['Volkswagen Model 111', 27.0, 4, 97.0, 60.0, 1834.0, 19.0, 71, 'Europe']\n",
            "['Plymouth Cricket', 26.0, 4, 91.0, 70.0, 1955.0, 20.5, 71, 'US']\n",
            "['Toyota Corolla Hardtop', 24.0, 4, 113.0, 95.0, 2278.0, 15.5, 72, 'Japan']\n",
            "['Dodge Colt Hardtop', 25.0, 4, 97.5, 80.0, 2126.0, 17.0, 72, 'US']\n",
            "['Volkswagen Type 3', 23.0, 4, 97.0, 54.0, 2254.0, 23.5, 72, 'Europe']\n",
            "['Chevrolet Vega', 20.0, 4, 140.0, 90.0, 2408.0, 19.5, 72, 'US']\n",
            "['Ford Pinto Runabout', 21.0, 4, 122.0, 86.0, 2226.0, 16.5, 72, 'US']\n",
            "['Chevrolet Impala', 13.0, 8, 350.0, 165.0, 4274.0, 12.0, 72, 'US']\n",
            "['Pontiac Catalina', 14.0, 8, 400.0, 175.0, 4385.0, 12.0, 72, 'US']\n",
            "['Plymouth Fury III', 15.0, 8, 318.0, 150.0, 4135.0, 13.5, 72, 'US']\n",
            "['Ford Galaxie 500', 14.0, 8, 351.0, 153.0, 4129.0, 13.0, 72, 'US']\n",
            "['AMC Ambassador SST', 17.0, 8, 304.0, 150.0, 3672.0, 11.5, 72, 'US']\n",
            "['Mercury Marquis', 11.0, 8, 429.0, 208.0, 4633.0, 11.0, 72, 'US']\n",
            "['Buick LeSabre Custom', 13.0, 8, 350.0, 155.0, 4502.0, 13.5, 72, 'US']\n",
            "['Oldsmobile Delta 88 Royale', 12.0, 8, 350.0, 160.0, 4456.0, 13.5, 72, 'US']\n",
            "['Chrysler Newport Royal', 13.0, 8, 400.0, 190.0, 4422.0, 12.5, 72, 'US']\n",
            "['Mazda RX2 Coupe', 19.0, 3, 70.0, 97.0, 2330.0, 13.5, 72, 'Japan']\n",
            "['AMC Matador (sw)', 15.0, 8, 304.0, 150.0, 3892.0, 12.5, 72, 'US']\n",
            "['Chevrolet Chevelle Concours (sw)', 13.0, 8, 307.0, 130.0, 4098.0, 14.0, 72, 'US']\n",
            "['Ford Gran Torino (sw)', 13.0, 8, 302.0, 140.0, 4294.0, 16.0, 72, 'US']\n",
            "['Plymouth Satellite Custom (sw)', 14.0, 8, 318.0, 150.0, 4077.0, 14.0, 72, 'US']\n",
            "['Volvo 145e (sw)', 18.0, 4, 121.0, 112.0, 2933.0, 14.5, 72, 'Europe']\n",
            "['Volkswagen 411 (sw)', 22.0, 4, 121.0, 76.0, 2511.0, 18.0, 72, 'Europe']\n",
            "['Peugeot 504 (sw)', 21.0, 4, 120.0, 87.0, 2979.0, 19.5, 72, 'Europe']\n",
            "['Renault 12 (sw)', 26.0, 4, 96.0, 69.0, 2189.0, 18.0, 72, 'Europe']\n",
            "['Ford Pinto (sw)', 22.0, 4, 122.0, 86.0, 2395.0, 16.0, 72, 'US']\n",
            "['Datsun 510 (sw)', 28.0, 4, 97.0, 92.0, 2288.0, 17.0, 72, 'Japan']\n",
            "['Toyota Corolla Mark II (sw)', 23.0, 4, 120.0, 97.0, 2506.0, 14.5, 72, 'Japan']\n",
            "['Dodge Colt (sw)', 28.0, 4, 98.0, 80.0, 2164.0, 15.0, 72, 'US']\n",
            "['Toyota Corolla 1600 (sw)', 27.0, 4, 97.0, 88.0, 2100.0, 16.5, 72, 'Japan']\n",
            "['Buick Century 350', 13.0, 8, 350.0, 175.0, 4100.0, 13.0, 73, 'US']\n",
            "['AMC Matador', 14.0, 8, 304.0, 150.0, 3672.0, 11.5, 73, 'US']\n",
            "['Chevrolet Malibu', 13.0, 8, 350.0, 145.0, 3988.0, 13.0, 73, 'US']\n",
            "['Ford Gran Torino', 14.0, 8, 302.0, 137.0, 4042.0, 14.5, 73, 'US']\n",
            "['Dodge Coronet Custom', 15.0, 8, 318.0, 150.0, 3777.0, 12.5, 73, 'US']\n",
            "['Mercury Marquis Brougham', 12.0, 8, 429.0, 198.0, 4952.0, 11.5, 73, 'US']\n",
            "['Chevrolet Caprice Classic', 13.0, 8, 400.0, 150.0, 4464.0, 12.0, 73, 'US']\n",
            "['Ford LTD', 13.0, 8, 351.0, 158.0, 4363.0, 13.0, 73, 'US']\n",
            "['Plymouth Fury Gran Sedan', 14.0, 8, 318.0, 150.0, 4237.0, 14.5, 73, 'US']\n",
            "['Chrysler New Yorker Brougham', 13.0, 8, 440.0, 215.0, 4735.0, 11.0, 73, 'US']\n",
            "['Buick Electra 225 Custom', 12.0, 8, 455.0, 225.0, 4951.0, 11.0, 73, 'US']\n",
            "['AMC Ambassador Brougham', 13.0, 8, 360.0, 175.0, 3821.0, 11.0, 73, 'US']\n",
            "['Plymouth Valiant', 18.0, 6, 225.0, 105.0, 3121.0, 16.5, 73, 'US']\n",
            "['Chevrolet Nova Custom', 16.0, 6, 250.0, 100.0, 3278.0, 18.0, 73, 'US']\n",
            "['AMC Hornet', 18.0, 6, 232.0, 100.0, 2945.0, 16.0, 73, 'US']\n",
            "['Ford Maverick', 18.0, 6, 250.0, 88.0, 3021.0, 16.5, 73, 'US']\n",
            "['Plymouth Duster', 23.0, 6, 198.0, 95.0, 2904.0, 16.0, 73, 'US']\n",
            "['Volkswagen Super Beetle', 26.0, 4, 97.0, 46.0, 1950.0, 21.0, 73, 'Europe']\n",
            "['Chevrolet Impala', 11.0, 8, 400.0, 150.0, 4997.0, 14.0, 73, 'US']\n",
            "['Ford Country', 12.0, 8, 400.0, 167.0, 4906.0, 12.5, 73, 'US']\n",
            "['Plymouth Custom Suburb', 13.0, 8, 360.0, 170.0, 4654.0, 13.0, 73, 'US']\n",
            "['Oldsmobile Vista Cruiser', 12.0, 8, 350.0, 180.0, 4499.0, 12.5, 73, 'US']\n",
            "['AMC Gremlin', 18.0, 6, 232.0, 100.0, 2789.0, 15.0, 73, 'US']\n",
            "['Toyota Camry', 20.0, 4, 97.0, 88.0, 2279.0, 19.0, 73, 'Japan']\n",
            "['Chevrolet Vega', 21.0, 4, 140.0, 72.0, 2401.0, 19.5, 73, 'US']\n",
            "['Datsun 610', 22.0, 4, 108.0, 94.0, 2379.0, 16.5, 73, 'Japan']\n",
            "['Mazda RX3', 18.0, 3, 70.0, 90.0, 2124.0, 13.5, 73, 'Japan']\n",
            "['Ford Pinto', 19.0, 4, 122.0, 85.0, 2310.0, 18.5, 73, 'US']\n",
            "['Mercury Capri v6', 21.0, 6, 155.0, 107.0, 2472.0, 14.0, 73, 'US']\n",
            "['Fiat 124 Sport Coupe', 26.0, 4, 98.0, 90.0, 2265.0, 15.5, 73, 'Europe']\n",
            "['Chevrolet Monte Carlo S', 15.0, 8, 350.0, 145.0, 4082.0, 13.0, 73, 'US']\n",
            "['Pontiac Grand Prix', 16.0, 8, 400.0, 230.0, 4278.0, 9.5, 73, 'US']\n",
            "['Fiat 128', 29.0, 4, 68.0, 49.0, 1867.0, 19.5, 73, 'Europe']\n",
            "['Opel Manta', 24.0, 4, 116.0, 75.0, 2158.0, 15.5, 73, 'Europe']\n",
            "['Audi 100LS', 20.0, 4, 114.0, 91.0, 2582.0, 14.0, 73, 'Europe']\n",
            "['Volvo 144ea', 19.0, 4, 121.0, 112.0, 2868.0, 15.5, 73, 'Europe']\n",
            "['Dodge Dart Custom', 15.0, 8, 318.0, 150.0, 3399.0, 11.0, 73, 'US']\n",
            "['Saab 99le', 24.0, 4, 121.0, 110.0, 2660.0, 14.0, 73, 'Europe']\n",
            "['Toyota Mark II', 20.0, 6, 156.0, 122.0, 2807.0, 13.5, 73, 'Japan']\n",
            "['Oldsmobile Omega', 11.0, 8, 350.0, 180.0, 3664.0, 11.0, 73, 'US']\n",
            "['Plymouth Duster', 20.0, 6, 198.0, 95.0, 3102.0, 16.5, 74, 'US']\n",
            "['Ford Maverick', 21.0, 6, 200.0, 0, 2875.0, 17.0, 74, 'US']\n",
            "['AMC Hornet', 19.0, 6, 232.0, 100.0, 2901.0, 16.0, 74, 'US']\n",
            "['Chevrolet Nova', 15.0, 6, 250.0, 100.0, 3336.0, 17.0, 74, 'US']\n",
            "['Datsun B210', 31.0, 4, 79.0, 67.0, 1950.0, 19.0, 74, 'Japan']\n",
            "['Ford Pinto', 26.0, 4, 122.0, 80.0, 2451.0, 16.5, 74, 'US']\n",
            "['Toyota Corolla 1200', 32.0, 4, 71.0, 65.0, 1836.0, 21.0, 74, 'Japan']\n",
            "['Chevrolet Vega', 25.0, 4, 140.0, 75.0, 2542.0, 17.0, 74, 'US']\n",
            "['Chevrolet Chevelle Malibu Classic', 16.0, 6, 250.0, 100.0, 3781.0, 17.0, 74, 'US']\n",
            "['AMC Matador', 16.0, 6, 258.0, 110.0, 3632.0, 18.0, 74, 'US']\n",
            "['Plymouth Satellite Sebring', 18.0, 6, 225.0, 105.0, 3613.0, 16.5, 74, 'US']\n",
            "['Ford Gran Torino', 16.0, 8, 302.0, 140.0, 4141.0, 14.0, 74, 'US']\n",
            "['Buick Century Luxus (sw)', 13.0, 8, 350.0, 150.0, 4699.0, 14.5, 74, 'US']\n",
            "['Dodge Coronet Custom (sw)', 14.0, 8, 318.0, 150.0, 4457.0, 13.5, 74, 'US']\n",
            "['Ford Gran Torino (sw)', 14.0, 8, 302.0, 140.0, 4638.0, 16.0, 74, 'US']\n",
            "['AMC Matador (sw)', 14.0, 8, 304.0, 150.0, 4257.0, 15.5, 74, 'US']\n",
            "['Audi Fox', 29.0, 4, 98.0, 83.0, 2219.0, 16.5, 74, 'Europe']\n",
            "['Volkswagen Dasher', 26.0, 4, 79.0, 67.0, 1963.0, 15.5, 74, 'Europe']\n",
            "['Opel Manta', 26.0, 4, 97.0, 78.0, 2300.0, 14.5, 74, 'Europe']\n",
            "['Toyota Corolla', 31.0, 4, 76.0, 52.0, 1649.0, 16.5, 74, 'Japan']\n",
            "['Datsun 710', 32.0, 4, 83.0, 61.0, 2003.0, 19.0, 74, 'Japan']\n",
            "['Dodge Colt', 28.0, 4, 90.0, 75.0, 2125.0, 14.5, 74, 'US']\n",
            "['Fiat 128', 24.0, 4, 90.0, 75.0, 2108.0, 15.5, 74, 'Europe']\n",
            "['Fiat 124 TC', 26.0, 4, 116.0, 75.0, 2246.0, 14.0, 74, 'Europe']\n",
            "['Honda Civic', 24.0, 4, 120.0, 97.0, 2489.0, 15.0, 74, 'Japan']\n",
            "['Subaru', 26.0, 4, 108.0, 93.0, 2391.0, 15.5, 74, 'Japan']\n",
            "['Fiat x1.9', 31.0, 4, 79.0, 67.0, 2000.0, 16.0, 74, 'Europe']\n",
            "['Plymouth Valiant Custom', 19.0, 6, 225.0, 95.0, 3264.0, 16.0, 75, 'US']\n",
            "['Chevrolet Nova', 18.0, 6, 250.0, 105.0, 3459.0, 16.0, 75, 'US']\n",
            "['Mercury Monarch', 15.0, 6, 250.0, 72.0, 3432.0, 21.0, 75, 'US']\n",
            "['Ford Maverick', 15.0, 6, 250.0, 72.0, 3158.0, 19.5, 75, 'US']\n",
            "['Pontiac Catalina', 16.0, 8, 400.0, 170.0, 4668.0, 11.5, 75, 'US']\n",
            "['Chevrolet Bel Air', 15.0, 8, 350.0, 145.0, 4440.0, 14.0, 75, 'US']\n",
            "['Plymouth Grand Fury', 16.0, 8, 318.0, 150.0, 4498.0, 14.5, 75, 'US']\n",
            "['Ford LTD', 14.0, 8, 351.0, 148.0, 4657.0, 13.5, 75, 'US']\n",
            "['Buick Century', 17.0, 6, 231.0, 110.0, 3907.0, 21.0, 75, 'US']\n",
            "['Chevrolete Chevelle Malibu', 16.0, 6, 250.0, 105.0, 3897.0, 18.5, 75, 'US']\n",
            "['AMC Matador', 15.0, 6, 258.0, 110.0, 3730.0, 19.0, 75, 'US']\n",
            "['Plymouth Fury', 18.0, 6, 225.0, 95.0, 3785.0, 19.0, 75, 'US']\n",
            "['Buick Skyhawk', 21.0, 6, 231.0, 110.0, 3039.0, 15.0, 75, 'US']\n",
            "['Chevrolet Monza 2+2', 20.0, 8, 262.0, 110.0, 3221.0, 13.5, 75, 'US']\n",
            "['Ford Mustang II', 13.0, 8, 302.0, 129.0, 3169.0, 12.0, 75, 'US']\n",
            "['Toyota Corolla', 29.0, 4, 97.0, 75.0, 2171.0, 16.0, 75, 'Japan']\n",
            "['Ford Pinto', 23.0, 4, 140.0, 83.0, 2639.0, 17.0, 75, 'US']\n",
            "['AMC Gremlin', 20.0, 6, 232.0, 100.0, 2914.0, 16.0, 75, 'US']\n",
            "['Pontiac Astro', 23.0, 4, 140.0, 78.0, 2592.0, 18.5, 75, 'US']\n",
            "['Toyota Corolla', 24.0, 4, 134.0, 96.0, 2702.0, 13.5, 75, 'Japan']\n",
            "['Volkswagen Dasher', 25.0, 4, 90.0, 71.0, 2223.0, 16.5, 75, 'Europe']\n",
            "['Datsun 710', 24.0, 4, 119.0, 97.0, 2545.0, 17.0, 75, 'Japan']\n",
            "['Ford Pinto', 18.0, 6, 171.0, 97.0, 2984.0, 14.5, 75, 'US']\n",
            "['Volkswagen Rabbit', 29.0, 4, 90.0, 70.0, 1937.0, 14.0, 75, 'Europe']\n",
            "['AMC Pacer', 19.0, 6, 232.0, 90.0, 3211.0, 17.0, 75, 'US']\n",
            "['Audi 100LS', 23.0, 4, 115.0, 95.0, 2694.0, 15.0, 75, 'Europe']\n",
            "['Peugeot 504', 23.0, 4, 120.0, 88.0, 2957.0, 17.0, 75, 'Europe']\n",
            "['Volvo 244DL', 22.0, 4, 121.0, 98.0, 2945.0, 14.5, 75, 'Europe']\n",
            "['Saab 99LE', 25.0, 4, 121.0, 115.0, 2671.0, 13.5, 75, 'Europe']\n",
            "['Honda Civic CVCC', 33.0, 4, 91.0, 53.0, 1795.0, 17.5, 75, 'Japan']\n",
            "['Fiat 131', 28.0, 4, 107.0, 86.0, 2464.0, 15.5, 76, 'Europe']\n",
            "['Opel 1900', 25.0, 4, 116.0, 81.0, 2220.0, 16.9, 76, 'Europe']\n",
            "['Capri ii', 25.0, 4, 140.0, 92.0, 2572.0, 14.9, 76, 'US']\n",
            "['Dodge Colt', 26.0, 4, 98.0, 79.0, 2255.0, 17.7, 76, 'US']\n",
            "['Renault 12tl', 27.0, 4, 101.0, 83.0, 2202.0, 15.3, 76, 'Europe']\n",
            "['Chevrolet Chevelle Malibu Classic', 17.5, 8, 305.0, 140.0, 4215.0, 13.0, 76, 'US']\n",
            "['Dodge Coronet Brougham', 16.0, 8, 318.0, 150.0, 4190.0, 13.0, 76, 'US']\n",
            "['AMC Matador', 15.5, 8, 304.0, 120.0, 3962.0, 13.9, 76, 'US']\n",
            "['Ford Gran Torino', 14.5, 8, 351.0, 152.0, 4215.0, 12.8, 76, 'US']\n",
            "['Plymouth Valiant', 22.0, 6, 225.0, 100.0, 3233.0, 15.4, 76, 'US']\n",
            "['Chevrolet Nova', 22.0, 6, 250.0, 105.0, 3353.0, 14.5, 76, 'US']\n",
            "['Ford Maverick', 24.0, 6, 200.0, 81.0, 3012.0, 17.6, 76, 'US']\n",
            "['AMC Hornet', 22.5, 6, 232.0, 90.0, 3085.0, 17.6, 76, 'US']\n",
            "['Chevrolet Chevette', 29.0, 4, 85.0, 52.0, 2035.0, 22.2, 76, 'US']\n",
            "['Chevrolet Woody', 24.5, 4, 98.0, 60.0, 2164.0, 22.1, 76, 'US']\n",
            "['Volkswagen Rabbit', 29.0, 4, 90.0, 70.0, 1937.0, 14.2, 76, 'Europe']\n",
            "['Honda Civic', 33.0, 4, 91.0, 53.0, 1795.0, 17.4, 76, 'Japan']\n",
            "['Dodge Aspen SE', 20.0, 6, 225.0, 100.0, 3651.0, 17.7, 76, 'US']\n",
            "['Ford Grenada ghia', 18.0, 6, 250.0, 78.0, 3574.0, 21.0, 76, 'US']\n",
            "['Pontiac Ventura SJ', 18.5, 6, 250.0, 110.0, 3645.0, 16.2, 76, 'US']\n",
            "['AMC Pacer d/l', 17.5, 6, 258.0, 95.0, 3193.0, 17.8, 76, 'US']\n",
            "['Volkswagen Rabbit', 29.5, 4, 97.0, 71.0, 1825.0, 12.2, 76, 'Europe']\n",
            "['Datsun B-210', 32.0, 4, 85.0, 70.0, 1990.0, 17.0, 76, 'Japan']\n",
            "['Toyota Corolla', 28.0, 4, 97.0, 75.0, 2155.0, 16.4, 76, 'Japan']\n",
            "['Ford Pinto', 26.5, 4, 140.0, 72.0, 2565.0, 13.6, 76, 'US']\n",
            "['Volvo 245', 20.0, 4, 130.0, 102.0, 3150.0, 15.7, 76, 'Europe']\n",
            "['Plymouth Volare Premier v8', 13.0, 8, 318.0, 150.0, 3940.0, 13.2, 76, 'US']\n",
            "['Peugeot 504', 19.0, 4, 120.0, 88.0, 3270.0, 21.9, 76, 'Europe']\n",
            "['Toyota Mark II', 19.0, 6, 156.0, 108.0, 2930.0, 15.5, 76, 'Japan']\n",
            "['Mercedes-Benz 280s', 16.5, 6, 168.0, 120.0, 3820.0, 16.7, 76, 'Europe']\n",
            "['Cadillac Seville', 16.5, 8, 350.0, 180.0, 4380.0, 12.1, 76, 'US']\n",
            "['Chevrolet C10', 13.0, 8, 350.0, 145.0, 4055.0, 12.0, 76, 'US']\n",
            "['Ford F108', 13.0, 8, 302.0, 130.0, 3870.0, 15.0, 76, 'US']\n",
            "['Dodge D100', 13.0, 8, 318.0, 150.0, 3755.0, 14.0, 76, 'US']\n",
            "['Honda Accord CVCC', 31.5, 4, 98.0, 68.0, 2045.0, 18.5, 77, 'Japan']\n",
            "['Buick Opel Isuzu Deluxe', 30.0, 4, 111.0, 80.0, 2155.0, 14.8, 77, 'US']\n",
            "['Renault 5 GTL', 36.0, 4, 79.0, 58.0, 1825.0, 18.6, 77, 'Europe']\n",
            "['Plymouth Arrow GS', 25.5, 4, 122.0, 96.0, 2300.0, 15.5, 77, 'US']\n",
            "['Datsun F-10 Hatchback', 33.5, 4, 85.0, 70.0, 1945.0, 16.8, 77, 'Japan']\n",
            "['Chevrolet Caprice Classic', 17.5, 8, 305.0, 145.0, 3880.0, 12.5, 77, 'US']\n",
            "['Oldsmobile Cutlass Supreme', 17.0, 8, 260.0, 110.0, 4060.0, 19.0, 77, 'US']\n",
            "['Dodge Monaco Brougham', 15.5, 8, 318.0, 145.0, 4140.0, 13.7, 77, 'US']\n",
            "['Mercury Cougar Brougham', 15.0, 8, 302.0, 130.0, 4295.0, 14.9, 77, 'US']\n",
            "['Chevrolet Concours', 17.5, 6, 250.0, 110.0, 3520.0, 16.4, 77, 'US']\n",
            "['Buick Skylark', 20.5, 6, 231.0, 105.0, 3425.0, 16.9, 77, 'US']\n",
            "['Plymouth Volare Custom', 19.0, 6, 225.0, 100.0, 3630.0, 17.7, 77, 'US']\n",
            "['Ford Grenada', 18.5, 6, 250.0, 98.0, 3525.0, 19.0, 77, 'US']\n",
            "['Pontiac Grand Prix LJ', 16.0, 8, 400.0, 180.0, 4220.0, 11.1, 77, 'US']\n",
            "['Chevrolet Monte Carlo Landau', 15.5, 8, 350.0, 170.0, 4165.0, 11.4, 77, 'US']\n",
            "['Chrysler Cordoba', 15.5, 8, 400.0, 190.0, 4325.0, 12.2, 77, 'US']\n",
            "['Ford Thunderbird', 16.0, 8, 351.0, 149.0, 4335.0, 14.5, 77, 'US']\n",
            "['Volkswagen Rabbit Custom', 29.0, 4, 97.0, 78.0, 1940.0, 14.5, 77, 'Europe']\n",
            "['Pontiac Sunbird Coupe', 24.5, 4, 151.0, 88.0, 2740.0, 16.0, 77, 'US']\n",
            "['Toyota Corolla Liftback', 26.0, 4, 97.0, 75.0, 2265.0, 18.2, 77, 'Japan']\n",
            "['Ford Mustang II 2+2', 25.5, 4, 140.0, 89.0, 2755.0, 15.8, 77, 'US']\n",
            "['Chevrolet Chevette', 30.5, 4, 98.0, 63.0, 2051.0, 17.0, 77, 'US']\n",
            "['Dodge Colt m/m', 33.5, 4, 98.0, 83.0, 2075.0, 15.9, 77, 'US']\n",
            "['Subaru DL', 30.0, 4, 97.0, 67.0, 1985.0, 16.4, 77, 'Japan']\n",
            "['Volkswagen Dasher', 30.5, 4, 97.0, 78.0, 2190.0, 14.1, 77, 'Europe']\n",
            "['Datsun 810', 22.0, 6, 146.0, 97.0, 2815.0, 14.5, 77, 'Japan']\n",
            "['BMW 320i', 21.5, 4, 121.0, 110.0, 2600.0, 12.8, 77, 'Europe']\n",
            "['Mazda RX-4', 21.5, 3, 80.0, 110.0, 2720.0, 13.5, 77, 'Japan']\n",
            "['Volkswagen Rabbit Custom Diesel', 43.1, 4, 90.0, 48.0, 1985.0, 21.5, 78, 'Europe']\n",
            "['Ford Fiesta', 36.1, 4, 98.0, 66.0, 1800.0, 14.4, 78, 'US']\n",
            "['Mazda GLC Deluxe', 32.8, 4, 78.0, 52.0, 1985.0, 19.4, 78, 'Japan']\n",
            "['Datsun B210 GX', 39.4, 4, 85.0, 70.0, 2070.0, 18.6, 78, 'Japan']\n",
            "['Honda Civic CVCC', 36.1, 4, 91.0, 60.0, 1800.0, 16.4, 78, 'Japan']\n",
            "['Oldsmobile Cutlass Salon Brougham', 19.9, 8, 260.0, 110.0, 3365.0, 15.5, 78, 'US']\n",
            "['Dodge Diplomat', 19.4, 8, 318.0, 140.0, 3735.0, 13.2, 78, 'US']\n",
            "['Mercury Monarch ghia', 20.2, 8, 302.0, 139.0, 3570.0, 12.8, 78, 'US']\n",
            "['Pontiac Phoenix LJ', 19.2, 6, 231.0, 105.0, 3535.0, 19.2, 78, 'US']\n",
            "['Chevrolet Malibu', 20.5, 6, 200.0, 95.0, 3155.0, 18.2, 78, 'US']\n",
            "['Ford Fairmont (auto)', 20.2, 6, 200.0, 85.0, 2965.0, 15.8, 78, 'US']\n",
            "['Ford Fairmont (man)', 25.1, 4, 140.0, 88.0, 2720.0, 15.4, 78, 'US']\n",
            "['Plymouth Volare', 20.5, 6, 225.0, 100.0, 3430.0, 17.2, 78, 'US']\n",
            "['AMC Concord', 19.4, 6, 232.0, 90.0, 3210.0, 17.2, 78, 'US']\n",
            "['Buick Century Special', 20.6, 6, 231.0, 105.0, 3380.0, 15.8, 78, 'US']\n",
            "['Mercury Zephyr', 20.8, 6, 200.0, 85.0, 3070.0, 16.7, 78, 'US']\n",
            "['Dodge Aspen', 18.6, 6, 225.0, 110.0, 3620.0, 18.7, 78, 'US']\n",
            "['AMC Concord d/l', 18.1, 6, 258.0, 120.0, 3410.0, 15.1, 78, 'US']\n",
            "['Chevrolet Monte Carlo Landau', 19.2, 8, 305.0, 145.0, 3425.0, 13.2, 78, 'US']\n",
            "['Buick Regal Sport Coupe (turbo)', 17.7, 6, 231.0, 165.0, 3445.0, 13.4, 78, 'US']\n",
            "['Ford Futura', 18.1, 8, 302.0, 139.0, 3205.0, 11.2, 78, 'US']\n",
            "['Dodge Magnum XE', 17.5, 8, 318.0, 140.0, 4080.0, 13.7, 78, 'US']\n",
            "['Chevrolet Chevette', 30.0, 4, 98.0, 68.0, 2155.0, 16.5, 78, 'US']\n",
            "['Toyota Corolla', 27.5, 4, 134.0, 95.0, 2560.0, 14.2, 78, 'Japan']\n",
            "['Datsun 510', 27.2, 4, 119.0, 97.0, 2300.0, 14.7, 78, 'Japan']\n",
            "['Dodge Omni', 30.9, 4, 105.0, 75.0, 2230.0, 14.5, 78, 'US']\n",
            "['Toyota Celica GT Liftback', 21.1, 4, 134.0, 95.0, 2515.0, 14.8, 78, 'Japan']\n",
            "['Plymouth Sapporo', 23.2, 4, 156.0, 105.0, 2745.0, 16.7, 78, 'US']\n",
            "['Oldsmobile Starfire SX', 23.8, 4, 151.0, 85.0, 2855.0, 17.6, 78, 'US']\n",
            "['Datsun 200-SX', 23.9, 4, 119.0, 97.0, 2405.0, 14.9, 78, 'Japan']\n",
            "['Audi 5000', 20.3, 5, 131.0, 103.0, 2830.0, 15.9, 78, 'Europe']\n",
            "['Volvo 264gl', 17.0, 6, 163.0, 125.0, 3140.0, 13.6, 78, 'Europe']\n",
            "['Saab 99gle', 21.6, 4, 121.0, 115.0, 2795.0, 15.7, 78, 'Europe']\n",
            "['Peugeot 604sl', 16.2, 6, 163.0, 133.0, 3410.0, 15.8, 78, 'Europe']\n",
            "['Volkswagen Scirocco', 31.5, 4, 89.0, 71.0, 1990.0, 14.9, 78, 'Europe']\n",
            "['Honda Accord LX', 29.5, 4, 98.0, 68.0, 2135.0, 16.6, 78, 'Japan']\n",
            "['Pontiac Lemans V6', 21.5, 6, 231.0, 115.0, 3245.0, 15.4, 79, 'US']\n",
            "['Mercury Zephyr 6', 19.8, 6, 200.0, 85.0, 2990.0, 18.2, 79, 'US']\n",
            "['Ford Fairmont 4', 22.3, 4, 140.0, 88.0, 2890.0, 17.3, 79, 'US']\n",
            "['AMC Concord DL 6', 20.2, 6, 232.0, 90.0, 3265.0, 18.2, 79, 'US']\n",
            "['Dodge Aspen 6', 20.6, 6, 225.0, 110.0, 3360.0, 16.6, 79, 'US']\n",
            "['Chevrolet Caprice Classic', 17.0, 8, 305.0, 130.0, 3840.0, 15.4, 79, 'US']\n",
            "['Ford LTD Landau', 17.6, 8, 302.0, 129.0, 3725.0, 13.4, 79, 'US']\n",
            "['Mercury Grand Marquis', 16.5, 8, 351.0, 138.0, 3955.0, 13.2, 79, 'US']\n",
            "['Dodge St. Regis', 18.2, 8, 318.0, 135.0, 3830.0, 15.2, 79, 'US']\n",
            "['Buick Estate Wagon (sw)', 16.9, 8, 350.0, 155.0, 4360.0, 14.9, 79, 'US']\n",
            "['Ford Country Squire (sw)', 15.5, 8, 351.0, 142.0, 4054.0, 14.3, 79, 'US']\n",
            "['Chevrolet Malibu Classic (sw)', 19.2, 8, 267.0, 125.0, 3605.0, 15.0, 79, 'US']\n",
            "['Chrysler Lebaron Town @ Country (sw)', 18.5, 8, 360.0, 150.0, 3940.0, 13.0, 79, 'US']\n",
            "['Volkswagen Rabbit Custom', 31.9, 4, 89.0, 71.0, 1925.0, 14.0, 79, 'Europe']\n",
            "['Mazda GLC Deluxe', 34.1, 4, 86.0, 65.0, 1975.0, 15.2, 79, 'Japan']\n",
            "['Dodge Colt Hatchback Custom', 35.7, 4, 98.0, 80.0, 1915.0, 14.4, 79, 'US']\n",
            "['AMC Spirit DL', 27.4, 4, 121.0, 80.0, 2670.0, 15.0, 79, 'US']\n",
            "['Mercedes Benz 300d', 25.4, 5, 183.0, 77.0, 3530.0, 20.1, 79, 'Europe']\n",
            "['Cadillac Eldorado', 23.0, 8, 350.0, 125.0, 3900.0, 17.4, 79, 'US']\n",
            "['Peugeot 504', 27.2, 4, 141.0, 71.0, 3190.0, 24.8, 79, 'Europe']\n",
            "['Oldsmobile Cutlass Salon Brougham', 23.9, 8, 260.0, 90.0, 3420.0, 22.2, 79, 'US']\n",
            "['Plymouth Horizon', 34.2, 4, 105.0, 70.0, 2200.0, 13.2, 79, 'US']\n",
            "['Plymouth Horizon TC3', 34.5, 4, 105.0, 70.0, 2150.0, 14.9, 79, 'US']\n",
            "['Datsun 210', 31.8, 4, 85.0, 65.0, 2020.0, 19.2, 79, 'Japan']\n",
            "['Fiat Strada Custom', 37.3, 4, 91.0, 69.0, 2130.0, 14.7, 79, 'Europe']\n",
            "['Buick Skylark Limited', 28.4, 4, 151.0, 90.0, 2670.0, 16.0, 79, 'US']\n",
            "['Chevrolet Citation', 28.8, 6, 173.0, 115.0, 2595.0, 11.3, 79, 'US']\n",
            "['Oldsmobile Omega Brougham', 26.8, 6, 173.0, 115.0, 2700.0, 12.9, 79, 'US']\n",
            "['Pontiac Phoenix', 33.5, 4, 151.0, 90.0, 2556.0, 13.2, 79, 'US']\n",
            "['Volkswagen Rabbit', 41.5, 4, 98.0, 76.0, 2144.0, 14.7, 80, 'Europe']\n",
            "['Toyota Corolla Tercel', 38.1, 4, 89.0, 60.0, 1968.0, 18.8, 80, 'Japan']\n",
            "['Chevrolet Chevette', 32.1, 4, 98.0, 70.0, 2120.0, 15.5, 80, 'US']\n",
            "['Datsun 310', 37.2, 4, 86.0, 65.0, 2019.0, 16.4, 80, 'Japan']\n",
            "['Chevrolet Citation', 28.0, 4, 151.0, 90.0, 2678.0, 16.5, 80, 'US']\n",
            "['Ford Fairmont', 26.4, 4, 140.0, 88.0, 2870.0, 18.1, 80, 'US']\n",
            "['AMC Concord', 24.3, 4, 151.0, 90.0, 3003.0, 20.1, 80, 'US']\n",
            "['Dodge Aspen', 19.1, 6, 225.0, 90.0, 3381.0, 18.7, 80, 'US']\n",
            "['Audi 4000', 34.3, 4, 97.0, 78.0, 2188.0, 15.8, 80, 'Europe']\n",
            "['Toyota Corolla Liftback', 29.8, 4, 134.0, 90.0, 2711.0, 15.5, 80, 'Japan']\n",
            "['Mazda 626', 31.3, 4, 120.0, 75.0, 2542.0, 17.5, 80, 'Japan']\n",
            "['Datsun 510 Hatchback', 37.0, 4, 119.0, 92.0, 2434.0, 15.0, 80, 'Japan']\n",
            "['Toyota Corolla', 32.2, 4, 108.0, 75.0, 2265.0, 15.2, 80, 'Japan']\n",
            "['Mazda GLC', 46.6, 4, 86.0, 65.0, 2110.0, 17.9, 80, 'Japan']\n",
            "['Dodge Colt', 27.9, 4, 156.0, 105.0, 2800.0, 14.4, 80, 'US']\n",
            "['Datsun 210', 40.8, 4, 85.0, 65.0, 2110.0, 19.2, 80, 'Japan']\n",
            "['Volkswagen Rabbit C (Diesel)', 44.3, 4, 90.0, 48.0, 2085.0, 21.7, 80, 'Europe']\n",
            "['Volkswagen Dasher (diesel)', 43.4, 4, 90.0, 48.0, 2335.0, 23.7, 80, 'Europe']\n",
            "['Audi 5000s (diesel)', 36.4, 5, 121.0, 67.0, 2950.0, 19.9, 80, 'Europe']\n",
            "['Mercedes-Benz 240d', 30.0, 4, 146.0, 67.0, 3250.0, 21.8, 80, 'Europe']\n",
            "['Honda Civic 1500 gl', 44.6, 4, 91.0, 67.0, 1850.0, 13.8, 80, 'Japan']\n",
            "['Renault Lecar Deluxe', 40.9, 4, 85.0, 0, 1835.0, 17.3, 80, 'Europe']\n",
            "['Subaru DL', 33.8, 4, 97.0, 67.0, 2145.0, 18.0, 80, 'Japan']\n",
            "['Volkswagen Rabbit', 29.8, 4, 89.0, 62.0, 1845.0, 15.3, 80, 'Europe']\n",
            "['Datsun 280-ZX', 32.7, 6, 168.0, 132.0, 2910.0, 11.4, 80, 'Japan']\n",
            "['Mazda RX-7 GS', 23.7, 3, 70.0, 100.0, 2420.0, 12.5, 80, 'Japan']\n",
            "['Triumph TR7 Coupe', 35.0, 4, 122.0, 88.0, 2500.0, 15.1, 80, 'Europe']\n",
            "['Ford Mustang Cobra', 23.6, 4, 140.0, 0, 2905.0, 14.3, 80, 'US']\n",
            "['Honda Accord', 32.4, 4, 107.0, 72.0, 2290.0, 17.0, 80, 'Japan']\n",
            "['Plymouth Reliant', 27.2, 4, 135.0, 84.0, 2490.0, 15.7, 81, 'US']\n",
            "['Buick Skylark', 26.6, 4, 151.0, 84.0, 2635.0, 16.4, 81, 'US']\n",
            "['Dodge Aries Wagon (sw)', 25.8, 4, 156.0, 92.0, 2620.0, 14.4, 81, 'US']\n",
            "['Chevrolet Citation', 23.5, 6, 173.0, 110.0, 2725.0, 12.6, 81, 'US']\n",
            "['Plymouth Reliant', 30.0, 4, 135.0, 84.0, 2385.0, 12.9, 81, 'US']\n",
            "['Toyota Starlet', 39.1, 4, 79.0, 58.0, 1755.0, 16.9, 81, 'Japan']\n",
            "['Plymouth Champ', 39.0, 4, 86.0, 64.0, 1875.0, 16.4, 81, 'US']\n",
            "['Honda Civic 1300', 35.1, 4, 81.0, 60.0, 1760.0, 16.1, 81, 'Japan']\n",
            "['Subaru', 32.3, 4, 97.0, 67.0, 2065.0, 17.8, 81, 'Japan']\n",
            "['Datsun 210 MPG', 37.0, 4, 85.0, 65.0, 1975.0, 19.4, 81, 'Japan']\n",
            "['Toyota Tercel', 37.7, 4, 89.0, 62.0, 2050.0, 17.3, 81, 'Japan']\n",
            "['Mazda GLC 4', 34.1, 4, 91.0, 68.0, 1985.0, 16.0, 81, 'Japan']\n",
            "['Plymouth Horizon 4', 34.7, 4, 105.0, 63.0, 2215.0, 14.9, 81, 'US']\n",
            "['Ford Escort 4W', 34.4, 4, 98.0, 65.0, 2045.0, 16.2, 81, 'US']\n",
            "['Ford Escort 2H', 29.9, 4, 98.0, 65.0, 2380.0, 20.7, 81, 'US']\n",
            "['Volkswagen Jetta', 33.0, 4, 105.0, 74.0, 2190.0, 14.2, 81, 'Europe']\n",
            "['Renault 18i', 34.5, 4, 100.0, 0, 2320.0, 15.8, 81, 'Europe']\n",
            "['Honda Prelude', 33.7, 4, 107.0, 75.0, 2210.0, 14.4, 81, 'Japan']\n",
            "['Toyota Corolla', 32.4, 4, 108.0, 75.0, 2350.0, 16.8, 81, 'Japan']\n",
            "['Datsun 200SX', 32.9, 4, 119.0, 100.0, 2615.0, 14.8, 81, 'Japan']\n",
            "['Mazda 626', 31.6, 4, 120.0, 74.0, 2635.0, 18.3, 81, 'Japan']\n",
            "['Peugeot 505s Turbo Diesel', 28.1, 4, 141.0, 80.0, 3230.0, 20.4, 81, 'Europe']\n",
            "['Saab 900s', 0, 4, 121.0, 110.0, 2800.0, 15.4, 81, 'Europe']\n",
            "['Volvo Diesel', 30.7, 6, 145.0, 76.0, 3160.0, 19.6, 81, 'Europe']\n",
            "['Toyota Cressida', 25.4, 6, 168.0, 116.0, 2900.0, 12.6, 81, 'Japan']\n",
            "['Datsun 810 Maxima', 24.2, 6, 146.0, 120.0, 2930.0, 13.8, 81, 'Japan']\n",
            "['Buick Century', 22.4, 6, 231.0, 110.0, 3415.0, 15.8, 81, 'US']\n",
            "['Oldsmobile Cutlass LS', 26.6, 8, 350.0, 105.0, 3725.0, 19.0, 81, 'US']\n",
            "['Ford Grenada gl', 20.2, 6, 200.0, 88.0, 3060.0, 17.1, 81, 'US']\n",
            "['Chrysler Lebaron Salon', 17.6, 6, 225.0, 85.0, 3465.0, 16.6, 81, 'US']\n",
            "['Chevrolet Cavalier', 28.0, 4, 112.0, 88.0, 2605.0, 19.6, 82, 'US']\n",
            "['Chevrolet Cavalier Wagon', 27.0, 4, 112.0, 88.0, 2640.0, 18.6, 82, 'US']\n",
            "['Chevrolet Cavalier 2-door', 34.0, 4, 112.0, 88.0, 2395.0, 18.0, 82, 'US']\n",
            "['Pontiac J2000 SE Hatchback', 31.0, 4, 112.0, 85.0, 2575.0, 16.2, 82, 'US']\n",
            "['Dodge Aries SE', 29.0, 4, 135.0, 84.0, 2525.0, 16.0, 82, 'US']\n",
            "['Pontiac Phoenix', 27.0, 4, 151.0, 90.0, 2735.0, 18.0, 82, 'US']\n",
            "['Ford Fairmont Futura', 24.0, 4, 140.0, 92.0, 2865.0, 16.4, 82, 'US']\n",
            "['AMC Concord DL', 23.0, 4, 151.0, 0, 3035.0, 20.5, 82, 'US']\n",
            "['Volkswagen Rabbit l', 36.0, 4, 105.0, 74.0, 1980.0, 15.3, 82, 'Europe']\n",
            "['Mazda GLC Custom l', 37.0, 4, 91.0, 68.0, 2025.0, 18.2, 82, 'Japan']\n",
            "['Mazda GLC Custom', 31.0, 4, 91.0, 68.0, 1970.0, 17.6, 82, 'Japan']\n",
            "['Plymouth Horizon Miser', 38.0, 4, 105.0, 63.0, 2125.0, 14.7, 82, 'US']\n",
            "['Mercury Lynx l', 36.0, 4, 98.0, 70.0, 2125.0, 17.3, 82, 'US']\n",
            "['Nissan Stanza XE', 36.0, 4, 120.0, 88.0, 2160.0, 14.5, 82, 'Japan']\n",
            "['Honda Accord', 36.0, 4, 107.0, 75.0, 2205.0, 14.5, 82, 'Japan']\n",
            "['Toyota Corolla', 34.0, 4, 108.0, 70.0, 2245, 16.9, 82, 'Japan']\n",
            "['Honda Civic', 38.0, 4, 91.0, 67.0, 1965.0, 15.0, 82, 'Japan']\n",
            "['Honda Civic (auto)', 32.0, 4, 91.0, 67.0, 1965.0, 15.7, 82, 'Japan']\n",
            "['Datsun 310 GX', 38.0, 4, 91.0, 67.0, 1995.0, 16.2, 82, 'Japan']\n",
            "['Buick Century Limited', 25.0, 6, 181.0, 110.0, 2945.0, 16.4, 82, 'US']\n",
            "['Oldsmobile Cutlass Ciera (diesel)', 38.0, 6, 262.0, 85.0, 3015.0, 17.0, 82, 'US']\n",
            "['Chrysler Lebaron Medallion', 26.0, 4, 156.0, 92.0, 2585.0, 14.5, 82, 'US']\n",
            "['Ford Grenada l', 22.0, 6, 232.0, 112.0, 2835, 14.7, 82, 'US']\n",
            "['Toyota Celica GT', 32.0, 4, 144.0, 96.0, 2665.0, 13.9, 82, 'Japan']\n",
            "['Dodge Charger 2.2', 36.0, 4, 135.0, 84.0, 2370.0, 13.0, 82, 'US']\n",
            "['Chevrolet Camaro', 27.0, 4, 151.0, 90.0, 2950.0, 17.3, 82, 'US']\n",
            "['Ford Mustang GL', 27.0, 4, 140.0, 86.0, 2790.0, 15.6, 82, 'US']\n",
            "['Volkswagen Pickup', 44.0, 4, 97.0, 52.0, 2130.0, 24.6, 82, 'Europe']\n",
            "['Dodge Rampage', 32.0, 4, 135.0, 84.0, 2295.0, 11.6, 82, 'US']\n",
            "['Ford Ranger', 28.0, 4, 120.0, 79.0, 2625.0, 18.6, 82, 'US']\n",
            "['Chevy S-10', 31.0, 4, 119.0, 82.0, 2720.0, 19.4, 82, 'US']\n"
          ]
        }
      ]
    },
    {
      "cell_type": "markdown",
      "source": [
        "## Verified ! Both the goals are achieved"
      ],
      "metadata": {
        "id": "CTmyZ0sGPBP9"
      }
    },
    {
      "cell_type": "markdown",
      "source": [
        "## Some more important stuff from this section\n",
        "Link: https://github.com/fbaptiste/python-deepdive/tree/main/Part%202/Section%2011%20-%20Project%205\n"
      ],
      "metadata": {
        "id": "AMyCXdvdRnnI"
      }
    },
    {
      "cell_type": "code",
      "source": [
        "# creating file\n",
        "with open('file1.txt', 'w') as f:\n",
        "    f.writelines('''file1_line1\n",
        "    file1_line2\n",
        "    file1_line3''')"
      ],
      "metadata": {
        "id": "3wERWtjASoHW"
      },
      "execution_count": null,
      "outputs": []
    },
    {
      "cell_type": "code",
      "source": [
        "with open('file1.txt') as f:\n",
        "    print('---', f.read(8))\n",
        "    print('---', f.read(12))\n",
        "    print(\"moving file pointer to char 0\")\n",
        "    f.seek(0)\n",
        "    print('---', f.read(5))"
      ],
      "metadata": {
        "id": "C3lssp4ISUsp",
        "colab": {
          "base_uri": "https://localhost:8080/"
        },
        "outputId": "b18eccb7-a507-465f-d7b4-01e1254d8bee"
      },
      "execution_count": null,
      "outputs": [
        {
          "output_type": "stream",
          "name": "stdout",
          "text": [
            "--- file1_li\n",
            "--- ne1\n",
            "    file\n",
            "moving file pointer to char 0\n",
            "--- file1\n"
          ]
        }
      ]
    },
    {
      "cell_type": "markdown",
      "source": [
        "# Section 12 - Generator Based Coroutines"
      ],
      "metadata": {
        "id": "VRBbRqJ3TW99"
      }
    },
    {
      "cell_type": "markdown",
      "source": [
        "## 01 - Coroutines.ipynb\n",
        "\n",
        "### Definition of Coroutines:\n",
        "\n",
        "Coroutines are a type of Python function that allows a function to be paused and resumed at a later point. They enable cooperative multitasking, which means that the programmer explicitly decides when to switch between tasks. Coroutines use the `yield` statement to pause execution and transfer control back to the caller, and they can also receive data from the caller using the `send()` method. Coroutines are useful for applications that involve managing multiple tasks simultaneously, such as I/O-bound applications."
      ],
      "metadata": {
        "id": "rwrxezit9Xp8"
      }
    },
    {
      "cell_type": "markdown",
      "source": [
        "The `queue` module has some queue implementations, including some very specialized ones. In Python 3.7, it also has the `SimpleQueue` class that is more lightweight.\n",
        "\n",
        "In this case though, I'm going to use the `deque` class (double-ended queue) from the `collections` module - it is very efficient adding and removing elements from both the start and the end of the `queue` - so, it's very general purpose and widely used. The `queue` implementations are more specialized and have several features useful for multi-tasking that we won't actually need."
      ],
      "metadata": {
        "id": "LWyz1YarHmD-"
      }
    },
    {
      "cell_type": "code",
      "source": [
        "from collections import deque"
      ],
      "metadata": {
        "id": "pm8LRxboTkue"
      },
      "execution_count": null,
      "outputs": []
    },
    {
      "cell_type": "markdown",
      "source": [
        "We can specify a maximum size for the queue when create it - this allows us to limit the number of items in the queue.\n",
        "\n",
        "We can then add and remove items by using the methods:\n",
        "\n",
        "* `append`: appends an element to the right of the queue\n",
        "* `appendleft`: appends an element to the left of the queue\n",
        "* `pop`: remove and return the element at the very right of the queue\n",
        "* `popleft`: remove and return the element at the very left of the queue\n"
      ],
      "metadata": {
        "id": "GNyRoj10IXwv"
      }
    },
    {
      "cell_type": "code",
      "source": [
        "dq = deque([1, 2, 3, 4, 5], maxlen = 20)\n",
        "dq.append(100)\n",
        "dq.appendleft(-10)\n",
        "dq"
      ],
      "metadata": {
        "colab": {
          "base_uri": "https://localhost:8080/"
        },
        "id": "EZmNABk7POeA",
        "outputId": "2c944163-8c0a-4a77-9d79-2ea4125c3252"
      },
      "execution_count": null,
      "outputs": [
        {
          "output_type": "execute_result",
          "data": {
            "text/plain": [
              "deque([-10, 1, 2, 3, 4, 5, 100])"
            ]
          },
          "metadata": {},
          "execution_count": 7
        }
      ]
    },
    {
      "cell_type": "code",
      "source": [
        "dq.pop() # pops from right"
      ],
      "metadata": {
        "colab": {
          "base_uri": "https://localhost:8080/"
        },
        "id": "_BcetdqOPb3O",
        "outputId": "b7c584a6-40a5-45cd-e8df-676e8bb78ba8"
      },
      "execution_count": null,
      "outputs": [
        {
          "output_type": "execute_result",
          "data": {
            "text/plain": [
              "100"
            ]
          },
          "metadata": {},
          "execution_count": 8
        }
      ]
    },
    {
      "cell_type": "code",
      "source": [
        "dq.popleft()"
      ],
      "metadata": {
        "colab": {
          "base_uri": "https://localhost:8080/"
        },
        "id": "dRJSK2R4PjF_",
        "outputId": "50eb5a66-497f-4544-81fb-232971585a6c"
      },
      "execution_count": null,
      "outputs": [
        {
          "output_type": "execute_result",
          "data": {
            "text/plain": [
              "-10"
            ]
          },
          "metadata": {},
          "execution_count": 9
        }
      ]
    },
    {
      "cell_type": "markdown",
      "source": [
        "### Some Measurements using timeit() for 1000 integers (1 to 999):\n",
        "1. append to deque : 0.87 sec\n",
        "2. insert front of deque : 0.84 sec\n",
        "3. pop from deque : 0.53 milli sec\n",
        "4. pop from front of deque : 0.52 milli sec\n",
        "\n",
        "**Observation:**\n",
        "Popping from double ended queue is much faster than appending elements."
      ],
      "metadata": {
        "id": "HsIWPnqQUT-m"
      }
    },
    {
      "cell_type": "markdown",
      "source": [
        "### manually creating a coroutine"
      ],
      "metadata": {
        "id": "af6lyRIzXUlg"
      }
    },
    {
      "cell_type": "code",
      "source": [
        "def produce_elements(dq, n):\n",
        "    for i in range(1, n):\n",
        "        dq.appendleft(i)\n",
        "        if len(dq) == dq.maxlen:\n",
        "            print('\\t queue full - yielding control')\n",
        "            yield\n",
        "        \n",
        "def consume_elements(dq):\n",
        "    while True:\n",
        "        while len(dq) > 0:\n",
        "            print('\\t processing ', dq.pop())\n",
        "        print('\\t queue empty - yielding control')\n",
        "        yield\n",
        "    \n",
        "def coordinator():\n",
        "    dq = deque(maxlen=10)\n",
        "    producer = produce_elements(dq, 36)\n",
        "    consumer = consume_elements(dq)\n",
        "    while True:\n",
        "        try:\n",
        "            print('producing...')\n",
        "            next(producer)\n",
        "        except StopIteration:\n",
        "            # producer finished\n",
        "            break\n",
        "        finally:\n",
        "            print('consuming...')\n",
        "            next(consumer)"
      ],
      "metadata": {
        "id": "wv1cd4sRXfrA"
      },
      "execution_count": null,
      "outputs": []
    },
    {
      "cell_type": "code",
      "source": [
        "coordinator()"
      ],
      "metadata": {
        "colab": {
          "base_uri": "https://localhost:8080/"
        },
        "id": "aWNyjRQtXgxn",
        "outputId": "3d776629-ac57-420a-b3fb-a9648f4204ff"
      },
      "execution_count": null,
      "outputs": [
        {
          "output_type": "stream",
          "name": "stdout",
          "text": [
            "producing...\n",
            "\t queue full - yielding control\n",
            "consuming...\n",
            "\t processing  1\n",
            "\t processing  2\n",
            "\t processing  3\n",
            "\t processing  4\n",
            "\t processing  5\n",
            "\t processing  6\n",
            "\t processing  7\n",
            "\t processing  8\n",
            "\t processing  9\n",
            "\t processing  10\n",
            "\t queue empty - yielding control\n",
            "producing...\n",
            "\t queue full - yielding control\n",
            "consuming...\n",
            "\t processing  11\n",
            "\t processing  12\n",
            "\t processing  13\n",
            "\t processing  14\n",
            "\t processing  15\n",
            "\t processing  16\n",
            "\t processing  17\n",
            "\t processing  18\n",
            "\t processing  19\n",
            "\t processing  20\n",
            "\t queue empty - yielding control\n",
            "producing...\n",
            "\t queue full - yielding control\n",
            "consuming...\n",
            "\t processing  21\n",
            "\t processing  22\n",
            "\t processing  23\n",
            "\t processing  24\n",
            "\t processing  25\n",
            "\t processing  26\n",
            "\t processing  27\n",
            "\t processing  28\n",
            "\t processing  29\n",
            "\t processing  30\n",
            "\t queue empty - yielding control\n",
            "producing...\n",
            "consuming...\n",
            "\t processing  31\n",
            "\t processing  32\n",
            "\t processing  33\n",
            "\t processing  34\n",
            "\t processing  35\n",
            "\t queue empty - yielding control\n"
          ]
        }
      ]
    },
    {
      "cell_type": "markdown",
      "source": [
        "## 02 - Generator States.ipynb"
      ],
      "metadata": {
        "id": "-lu0tUMUYXit"
      }
    },
    {
      "cell_type": "markdown",
      "source": [
        "a generator can be in one of four states:\n",
        "\n",
        "* created\n",
        "* running\n",
        "* suspended\n",
        "* closed\n"
      ],
      "metadata": {
        "id": "Z-iyq1_dZER2"
      }
    },
    {
      "cell_type": "markdown",
      "source": [
        "### Checking generator state"
      ],
      "metadata": {
        "id": "LKEHYLxFZOzS"
      }
    },
    {
      "cell_type": "code",
      "source": [
        "def gen(s):\n",
        "    for c in s:\n",
        "        print(\"2.\", getgeneratorstate(g))\n",
        "        yield c"
      ],
      "metadata": {
        "id": "9eFHMt32Zj0g"
      },
      "execution_count": null,
      "outputs": []
    },
    {
      "cell_type": "code",
      "source": [
        "from inspect import getgeneratorstate\n",
        "\n",
        "# Creating gen\n",
        "g = gen('abc')\n",
        "print(\"1.\", getgeneratorstate(g), \"\\n\")\n",
        "\n",
        "# comleting one iteration of generator\n",
        "print(next(g))\n",
        "print(\"3.\", getgeneratorstate(g), \"\\n\")\n",
        "print(next(g))\n",
        "print(\"3.\", getgeneratorstate(g), \"\\n\")\n",
        "print(next(g))\n",
        "print(\"3.\", getgeneratorstate(g), \"\\n\")\n",
        "\n",
        "# closing gen\n",
        "print(next(g))\n",
        "print(\"4.\", getgeneratorstate(g), \"\\n\")"
      ],
      "metadata": {
        "colab": {
          "base_uri": "https://localhost:8080/",
          "height": 462
        },
        "id": "xIkNTJRtZXUu",
        "outputId": "d3b17e05-48aa-4a56-f2d7-6e38d8dafb86"
      },
      "execution_count": null,
      "outputs": [
        {
          "output_type": "stream",
          "name": "stdout",
          "text": [
            "1. GEN_CREATED \n",
            "\n",
            "2. GEN_RUNNING\n",
            "a\n",
            "3. GEN_SUSPENDED \n",
            "\n",
            "2. GEN_RUNNING\n",
            "b\n",
            "3. GEN_SUSPENDED \n",
            "\n",
            "2. GEN_RUNNING\n",
            "c\n",
            "3. GEN_SUSPENDED \n",
            "\n"
          ]
        },
        {
          "output_type": "error",
          "ename": "StopIteration",
          "evalue": "ignored",
          "traceback": [
            "\u001b[0;31m---------------------------------------------------------------------------\u001b[0m",
            "\u001b[0;31mStopIteration\u001b[0m                             Traceback (most recent call last)",
            "\u001b[0;32m<ipython-input-9-6b93b38e0705>\u001b[0m in \u001b[0;36m<cell line: 16>\u001b[0;34m()\u001b[0m\n\u001b[1;32m     14\u001b[0m \u001b[0;34m\u001b[0m\u001b[0m\n\u001b[1;32m     15\u001b[0m \u001b[0;31m# closing gen\u001b[0m\u001b[0;34m\u001b[0m\u001b[0;34m\u001b[0m\u001b[0m\n\u001b[0;32m---> 16\u001b[0;31m \u001b[0mprint\u001b[0m\u001b[0;34m(\u001b[0m\u001b[0mnext\u001b[0m\u001b[0;34m(\u001b[0m\u001b[0mg\u001b[0m\u001b[0;34m)\u001b[0m\u001b[0;34m)\u001b[0m\u001b[0;34m\u001b[0m\u001b[0;34m\u001b[0m\u001b[0m\n\u001b[0m\u001b[1;32m     17\u001b[0m \u001b[0mprint\u001b[0m\u001b[0;34m(\u001b[0m\u001b[0;34m\"4.\"\u001b[0m\u001b[0;34m,\u001b[0m \u001b[0mgetgeneratorstate\u001b[0m\u001b[0;34m(\u001b[0m\u001b[0mg\u001b[0m\u001b[0;34m)\u001b[0m\u001b[0;34m,\u001b[0m \u001b[0;34m\"\\n\"\u001b[0m\u001b[0;34m)\u001b[0m\u001b[0;34m\u001b[0m\u001b[0;34m\u001b[0m\u001b[0m\n",
            "\u001b[0;31mStopIteration\u001b[0m: "
          ]
        }
      ]
    },
    {
      "cell_type": "code",
      "source": [
        "print(\"4.\", getgeneratorstate(g), \"\\n\")"
      ],
      "metadata": {
        "colab": {
          "base_uri": "https://localhost:8080/"
        },
        "id": "i15h-2q8bGQZ",
        "outputId": "bb3b25a3-3036-49eb-ead6-17b31e49394d"
      },
      "execution_count": null,
      "outputs": [
        {
          "output_type": "stream",
          "name": "stdout",
          "text": [
            "4. GEN_CLOSED \n",
            "\n"
          ]
        }
      ]
    },
    {
      "cell_type": "markdown",
      "source": [
        "once the generator returns (not yields), i.e. the StopIteration is raised, the generator is closed.\n",
        "\n",
        "* `yield` suspends gen\n",
        "* `return` closes gen"
      ],
      "metadata": {
        "id": "fgqRrcZdb6vv"
      }
    },
    {
      "cell_type": "markdown",
      "source": [
        "## 03 - Generator States.ipynb\n",
        "\n",
        "(same as 02 - Generator States.ipynb)"
      ],
      "metadata": {
        "id": "ypiF6mercR_R"
      }
    },
    {
      "cell_type": "markdown",
      "source": [
        "## 04 - Sending Data To Generators.ipynb\n",
        "\n",
        "We can send data to the suspended generator (and resume running it) by using the `send()` method of the generator (instead of just using the `next()` method)"
      ],
      "metadata": {
        "id": "YFBSh49tcrp0"
      }
    },
    {
      "cell_type": "code",
      "source": [
        "def echo():\n",
        "    while True:\n",
        "        received = yield\n",
        "        print('You said:', received)\n",
        "\n",
        "e = echo()\n",
        "getgeneratorstate(e)"
      ],
      "metadata": {
        "colab": {
          "base_uri": "https://localhost:8080/",
          "height": 35
        },
        "id": "G75sN5Kmb6Yq",
        "outputId": "0ebc0cd5-a017-4561-b1b5-9f0e0d4da2a7"
      },
      "execution_count": null,
      "outputs": [
        {
          "output_type": "execute_result",
          "data": {
            "text/plain": [
              "'GEN_CREATED'"
            ],
            "application/vnd.google.colaboratory.intrinsic+json": {
              "type": "string"
            }
          },
          "metadata": {},
          "execution_count": 11
        }
      ]
    },
    {
      "cell_type": "code",
      "source": [
        "next(e)"
      ],
      "metadata": {
        "colab": {
          "base_uri": "https://localhost:8080/"
        },
        "id": "sVN-TkJrinPi",
        "outputId": "323a1652-3e3c-49df-a1d2-5ea82c78deca"
      },
      "execution_count": null,
      "outputs": [
        {
          "output_type": "stream",
          "name": "stdout",
          "text": [
            "You said: None\n"
          ]
        }
      ]
    },
    {
      "cell_type": "code",
      "source": [
        "e.send('python')"
      ],
      "metadata": {
        "colab": {
          "base_uri": "https://localhost:8080/"
        },
        "id": "H1ExY_cwixx_",
        "outputId": "5ad5f8dd-cf68-408d-d4ab-30824d7e1695"
      },
      "execution_count": null,
      "outputs": [
        {
          "output_type": "stream",
          "name": "stdout",
          "text": [
            "You said: python\n"
          ]
        }
      ]
    },
    {
      "cell_type": "code",
      "source": [
        "next(e)"
      ],
      "metadata": {
        "colab": {
          "base_uri": "https://localhost:8080/"
        },
        "id": "waHN46Bnjb0M",
        "outputId": "5303d86b-dbc9-4940-ff30-ab66b61ec64d"
      },
      "execution_count": null,
      "outputs": [
        {
          "output_type": "stream",
          "name": "stdout",
          "text": [
            "You said: None\n"
          ]
        }
      ]
    },
    {
      "cell_type": "markdown",
      "source": [
        "### Working\n",
        "\n",
        "Code:\n",
        "```\n",
        "def gen():\n",
        "    value = yield  x\n",
        "```\n",
        "\n",
        "When the function `gen()` is called, it will pause at the `yield` statement and return the value of `x`. At this point, the function execution is suspended, and the caller of the function can obtain the value of `x`.\n",
        "\n",
        "`gen.send(\"abcd\")` assigns \"abcd\" to `value` if \n",
        "\n"
      ],
      "metadata": {
        "id": "2m0D1fkwo7bm"
      }
    },
    {
      "cell_type": "markdown",
      "source": [
        "### Better example\n",
        "In other words, the `send()` method can only update `value` if it is used immediately after a `yield` statement with ` value =`."
      ],
      "metadata": {
        "id": "0UHbLcKttEM2"
      }
    },
    {
      "cell_type": "code",
      "source": [
        "def my_generator():\n",
        "    value = yield \"First\"           # Note: (yield \"First\") returns \"First\" and suspends gen. \n",
        "                                    # Then send(\"Hello\") re-runs it, and element recieved by (yield \"First\") is assigned to value variable (\"Hello\")\n",
        "\n",
        "    yield f\"You entered: {value}\"   # Then value variable is returned\n",
        "    yield \"Done!\"                   # And Now value of value variable does not change since assignment (value = yield ...) is not used\n",
        "    yield f\"last yield value: {value}\"\n",
        "\n",
        "gen = my_generator()\n",
        "\n",
        "# Get the first value\n",
        "print(next(gen))  # Output: \"First\"\n",
        "\n",
        "# Send a value and get the next value\n",
        "print(gen.send(\"Hello\"))  # Output: \"You entered: Hello\"\n",
        "\n",
        "# Send a value and get the next value\n",
        "print(gen.send(\"Aditya\"))  # Output: \"Done!\"\n",
        "\n",
        "# Get the next value\n",
        "print(next(gen))  # Output: \"last yield value: Hello\""
      ],
      "metadata": {
        "colab": {
          "base_uri": "https://localhost:8080/"
        },
        "id": "mKHaFYCqtCXY",
        "outputId": "83466e86-df41-46bb-add7-f59560b5e5ea"
      },
      "execution_count": null,
      "outputs": [
        {
          "output_type": "stream",
          "name": "stdout",
          "text": [
            "First\n",
            "You entered: Hello\n",
            "Done!\n",
            "last yield value: Hello\n"
          ]
        }
      ]
    },
    {
      "cell_type": "markdown",
      "source": [
        "## 05 - Closing Generators\n",
        "\n",
        "Generators can be closed using `gen.close()` method."
      ],
      "metadata": {
        "id": "3LLQByaP5xYX"
      }
    },
    {
      "cell_type": "markdown",
      "source": [
        "### IMP BYME: download file from github raw url link"
      ],
      "metadata": {
        "id": "ypKpon9TcIqT"
      }
    },
    {
      "cell_type": "code",
      "source": [
        "# download file from url link\n",
        "import requests\n",
        "def make_file(file_name, url):\n",
        "  with open(file_name, \"wb\") as f:\n",
        "    f.write(requests.get(url).content)"
      ],
      "metadata": {
        "id": "OZrwFpvYbc4A"
      },
      "execution_count": null,
      "outputs": []
    },
    {
      "cell_type": "markdown",
      "source": [
        "### IMP: Using sniff to check format of a csv file and sending it to csv.reader for parsing.\n",
        "\n",
        "Note: If file is empty, `csv.Sniffer().sniff(f.read(2000))` will be unable to determine dialect, so it will raise `Error: Could not determine delimiter`"
      ],
      "metadata": {
        "id": "qtOhLA4RgvKb"
      }
    },
    {
      "cell_type": "code",
      "source": [
        "from inspect import getgeneratorstate\n",
        "import csv\n",
        "\n",
        "cars_csv_url = \"https://raw.githubusercontent.com/fbaptiste/python-deepdive/main/Part%202/Section%2012%20-%20Generator%20Based%20Coroutines/05%20-%20Closing%20Generators/cars.csv\"\n",
        "make_file(\"cars.csv\", cars_csv_url)\n",
        "\n",
        "def parse_file(f_name):\n",
        "    print('opening file...')\n",
        "    f = open(f_name, 'r')\n",
        "    try:\n",
        "        dialect = csv.Sniffer().sniff(f.read(2000))    # sniff just determines the format of csv file and 2000 means 2000Bytes (dialect means उपभाषा)\n",
        "        f.seek(0)                                      # set file pointer f to 0 (first element)\n",
        "        next(f)                                        # skip header row\n",
        "        reader = csv.reader(f, dialect=dialect)\n",
        "        for row in reader:\n",
        "            yield row\n",
        "    except Exception as ex:\n",
        "        print('some exception occurred', str(ex))\n",
        "    except GeneratorExit:\n",
        "        print('GeneratorExit Exception Occured! \\t Generator was closed!')\n",
        "    finally:\n",
        "        print('cleaning up...')\n",
        "        f.close()   "
      ],
      "metadata": {
        "id": "w7HE2o4sZfel"
      },
      "execution_count": null,
      "outputs": []
    },
    {
      "cell_type": "markdown",
      "source": [
        "### IMP: Printing some lines of a csv file"
      ],
      "metadata": {
        "id": "3g4_Jn7whFXR"
      }
    },
    {
      "cell_type": "code",
      "source": [
        "import itertools\n",
        "\n",
        "parse_file_Obj = parse_file('cars.csv')\n",
        "for row in itertools.islice(parse_file_Obj, 5):\n",
        "    print(row)"
      ],
      "metadata": {
        "colab": {
          "base_uri": "https://localhost:8080/"
        },
        "id": "v8_N8v7Lc_MM",
        "outputId": "0598c315-e115-4615-99e2-2fb4edc0ed32"
      },
      "execution_count": null,
      "outputs": [
        {
          "output_type": "stream",
          "name": "stdout",
          "text": [
            "opening file...\n",
            "['Chevrolet Chevelle Malibu', '18.0', '8', '307.0', '130.0', '3504.', '12.0', '70', 'US']\n",
            "['Buick Skylark 320', '15.0', '8', '350.0', '165.0', '3693.', '11.5', '70', 'US']\n",
            "['Plymouth Satellite', '18.0', '8', '318.0', '150.0', '3436.', '11.0', '70', 'US']\n",
            "['AMC Rebel SST', '16.0', '8', '304.0', '150.0', '3433.', '12.0', '70', 'US']\n",
            "['Ford Torino', '17.0', '8', '302.0', '140.0', '3449.', '10.5', '70', 'US']\n",
            "Generator was closed!\n",
            "cleaning up...\n"
          ]
        }
      ]
    },
    {
      "cell_type": "code",
      "source": [
        "parse_file_Obj.close()  # gen.close() will cause GeneratorExit exception to close the gen"
      ],
      "metadata": {
        "colab": {
          "base_uri": "https://localhost:8080/"
        },
        "id": "vKoDPUAqroOl",
        "outputId": "d0efd707-f7c1-430e-bd24-a0c29bac5351"
      },
      "execution_count": null,
      "outputs": [
        {
          "output_type": "stream",
          "name": "stdout",
          "text": [
            "GeneratorExit Exception Occured! \t Generator was closed!\n",
            "cleaning up...\n"
          ]
        }
      ]
    },
    {
      "cell_type": "markdown",
      "source": [
        "Here's what the Python docs have to say about that:\n",
        "\n",
        "**generator.close()**\n",
        "\n",
        "*Raises a GeneratorExit at the point where the generator function was paused. If the generator function then exits gracefully, is already closed, or raises GeneratorExit (by not catching the exception), close returns to its caller. If the generator yields a value, a RuntimeError is raised. If the generator raises any other exception, it is propagated to the caller. close() does nothing if the generator has already exited due to an exception or normal exit.*\n"
      ],
      "metadata": {
        "id": "-3_q7veqk6Ub"
      }
    },
    {
      "cell_type": "markdown",
      "source": [
        "## 06 - Sending Exceptions to Generators.ipynb\n",
        "\n",
        "Use `gen.throw(EXCEPTION, MESSAGE)` to make generator throw Exception/Error"
      ],
      "metadata": {
        "id": "tH3jLuvbAYYV"
      }
    },
    {
      "cell_type": "code",
      "source": [
        "def gen():\n",
        "    try:\n",
        "        while True:\n",
        "            received = yield\n",
        "            print(received)\n",
        "    except ValueError:\n",
        "        print('received the value error...')\n",
        "    finally:\n",
        "        print('generator exiting and closing')"
      ],
      "metadata": {
        "id": "Ghc8Lprow1tR"
      },
      "execution_count": null,
      "outputs": []
    },
    {
      "cell_type": "code",
      "source": [
        "g = gen()\n",
        "\n",
        "next(g)\n",
        "g.send('hello')"
      ],
      "metadata": {
        "colab": {
          "base_uri": "https://localhost:8080/"
        },
        "id": "ma-br885x_TI",
        "outputId": "1a549a8f-e247-4960-b59b-2c6cfec4af94"
      },
      "execution_count": null,
      "outputs": [
        {
          "output_type": "stream",
          "name": "stdout",
          "text": [
            "hello\n"
          ]
        }
      ]
    },
    {
      "cell_type": "code",
      "source": [
        "g.throw(ValueError, 'custom message')"
      ],
      "metadata": {
        "colab": {
          "base_uri": "https://localhost:8080/",
          "height": 202
        },
        "id": "0AkYdooRwQh4",
        "outputId": "7447fcd2-db26-45f0-b1f8-f9e6aa7b83a7"
      },
      "execution_count": null,
      "outputs": [
        {
          "output_type": "stream",
          "name": "stdout",
          "text": [
            "received the value error...\n",
            "generator exiting and closing\n"
          ]
        },
        {
          "output_type": "error",
          "ename": "StopIteration",
          "evalue": "ignored",
          "traceback": [
            "\u001b[0;31m---------------------------------------------------------------------------\u001b[0m",
            "\u001b[0;31mStopIteration\u001b[0m                             Traceback (most recent call last)",
            "\u001b[0;32m<ipython-input-12-37a4c35200f7>\u001b[0m in \u001b[0;36m<cell line: 1>\u001b[0;34m()\u001b[0m\n\u001b[0;32m----> 1\u001b[0;31m \u001b[0mg\u001b[0m\u001b[0;34m.\u001b[0m\u001b[0mthrow\u001b[0m\u001b[0;34m(\u001b[0m\u001b[0mValueError\u001b[0m\u001b[0;34m,\u001b[0m \u001b[0;34m'custom message'\u001b[0m\u001b[0;34m)\u001b[0m\u001b[0;34m\u001b[0m\u001b[0;34m\u001b[0m\u001b[0m\n\u001b[0m",
            "\u001b[0;31mStopIteration\u001b[0m: "
          ]
        }
      ]
    },
    {
      "cell_type": "markdown",
      "source": [
        "### Working of `throw()`"
      ],
      "metadata": {
        "id": "oPjFy9MFONmC"
      }
    },
    {
      "cell_type": "markdown",
      "source": [
        "1. If the generator catches the exception and yields a value,\n",
        "\n",
        "  that value is returned by the `throw()` method. \n",
        "  \n",
        "  For example, consider the following code:\n",
        "\n",
        " *(Agar generator exception catch karke koi value return karta hai, toh vo value pass ho jaati hau throw ke output pe)*"
      ],
      "metadata": {
        "id": "pPbQYm4GOVwl"
      }
    },
    {
      "cell_type": "code",
      "source": [
        "def gen():\n",
        "    while True:\n",
        "        try:\n",
        "            x = yield\n",
        "        except ValueError:\n",
        "            yield \"Got a ValueError\""
      ],
      "metadata": {
        "id": "I3HNedjDOd3E"
      },
      "execution_count": null,
      "outputs": []
    },
    {
      "cell_type": "code",
      "source": [
        "g = gen()\n",
        "next(g)\n",
        "g.throw(ValueError, \"message of ValueError\")"
      ],
      "metadata": {
        "colab": {
          "base_uri": "https://localhost:8080/",
          "height": 35
        },
        "id": "YrAxdEQOOh98",
        "outputId": "55fa1aa8-4dd3-454f-af4e-96a9fef45450"
      },
      "execution_count": null,
      "outputs": [
        {
          "output_type": "execute_result",
          "data": {
            "text/plain": [
              "'Got a ValueError'"
            ],
            "application/vnd.google.colaboratory.intrinsic+json": {
              "type": "string"
            }
          },
          "metadata": {},
          "execution_count": 4
        }
      ]
    },
    {
      "cell_type": "markdown",
      "source": [
        "If you call `gen()` to create a generator object and then call its `throw()` method with a `ValueError`, the generator catches the exception and yields the string `\"Got a ValueError\"`."
      ],
      "metadata": {
        "id": "rhUnhF3nQUBO"
      }
    },
    {
      "cell_type": "markdown",
      "source": [
        "2. If the generator does not catch the exception,\n",
        "\n",
        "  the exception is passed back to the caller of the `throw()` method. \n",
        "  \n",
        "  For example (below):\n",
        "\n",
        "  *(agar generator exception catch nahi karta, toh exception aa jaata hai output pe.)*"
      ],
      "metadata": {
        "id": "TXMpo_9_PEXI"
      }
    },
    {
      "cell_type": "code",
      "source": [
        "def gen():\n",
        "    while True:\n",
        "        x = yield"
      ],
      "metadata": {
        "id": "h2SniL7jPZyO"
      },
      "execution_count": null,
      "outputs": []
    },
    {
      "cell_type": "code",
      "source": [
        "g = gen()\n",
        "next(g)\n",
        "g.throw(ValueError, \"message of ValueError\")"
      ],
      "metadata": {
        "colab": {
          "base_uri": "https://localhost:8080/",
          "height": 289
        },
        "id": "_6T_HclGPfWQ",
        "outputId": "1f5b339f-a0a3-4eb7-dbbc-0144862e9c44"
      },
      "execution_count": null,
      "outputs": [
        {
          "output_type": "error",
          "ename": "ValueError",
          "evalue": "ignored",
          "traceback": [
            "\u001b[0;31m---------------------------------------------------------------------------\u001b[0m",
            "\u001b[0;31mValueError\u001b[0m                                Traceback (most recent call last)",
            "\u001b[0;32m<ipython-input-8-fc5873b42785>\u001b[0m in \u001b[0;36m<cell line: 3>\u001b[0;34m()\u001b[0m\n\u001b[1;32m      1\u001b[0m \u001b[0mg\u001b[0m \u001b[0;34m=\u001b[0m \u001b[0mgen\u001b[0m\u001b[0;34m(\u001b[0m\u001b[0;34m)\u001b[0m\u001b[0;34m\u001b[0m\u001b[0;34m\u001b[0m\u001b[0m\n\u001b[1;32m      2\u001b[0m \u001b[0mnext\u001b[0m\u001b[0;34m(\u001b[0m\u001b[0mg\u001b[0m\u001b[0;34m)\u001b[0m\u001b[0;34m\u001b[0m\u001b[0;34m\u001b[0m\u001b[0m\n\u001b[0;32m----> 3\u001b[0;31m \u001b[0mg\u001b[0m\u001b[0;34m.\u001b[0m\u001b[0mthrow\u001b[0m\u001b[0;34m(\u001b[0m\u001b[0mValueError\u001b[0m\u001b[0;34m,\u001b[0m \u001b[0;34m\"message of ValueError\"\u001b[0m\u001b[0;34m)\u001b[0m\u001b[0;34m\u001b[0m\u001b[0;34m\u001b[0m\u001b[0m\n\u001b[0m",
            "\u001b[0;32m<ipython-input-7-6ddf762c8e90>\u001b[0m in \u001b[0;36mgen\u001b[0;34m()\u001b[0m\n\u001b[1;32m      1\u001b[0m \u001b[0;32mdef\u001b[0m \u001b[0mgen\u001b[0m\u001b[0;34m(\u001b[0m\u001b[0;34m)\u001b[0m\u001b[0;34m:\u001b[0m\u001b[0;34m\u001b[0m\u001b[0;34m\u001b[0m\u001b[0m\n\u001b[1;32m      2\u001b[0m     \u001b[0;32mwhile\u001b[0m \u001b[0;32mTrue\u001b[0m\u001b[0;34m:\u001b[0m\u001b[0;34m\u001b[0m\u001b[0;34m\u001b[0m\u001b[0m\n\u001b[0;32m----> 3\u001b[0;31m         \u001b[0mx\u001b[0m \u001b[0;34m=\u001b[0m \u001b[0;32myield\u001b[0m\u001b[0;34m\u001b[0m\u001b[0;34m\u001b[0m\u001b[0m\n\u001b[0m",
            "\u001b[0;31mValueError\u001b[0m: message of ValueError"
          ]
        }
      ]
    },
    {
      "cell_type": "markdown",
      "source": [
        "3. If the generator catches the exception and then exits (`return`s),\n",
        "  \n",
        "   a `StopIteration` exception is raised to signal the end of the generator.\n",
        "  \n",
        "  For example:\n",
        "\n",
        "  *(agar generator exception catch kar leta hai, aur `return` karta hai kuch, toh `StopIteration` raise ho jaata hai.)*"
      ],
      "metadata": {
        "id": "qTQU04umQrfV"
      }
    },
    {
      "cell_type": "code",
      "source": [
        "def gen():\n",
        "    try:\n",
        "        while True:\n",
        "            x = yield\n",
        "    except ValueError:\n",
        "        pass"
      ],
      "metadata": {
        "id": "qFXdz1v9QxIV"
      },
      "execution_count": null,
      "outputs": []
    },
    {
      "cell_type": "code",
      "source": [
        "g = gen()\n",
        "next(g)\n",
        "g.throw(ValueError, \"message of ValueError\")"
      ],
      "metadata": {
        "colab": {
          "base_uri": "https://localhost:8080/",
          "height": 202
        },
        "id": "jFTW_f_zQ0lk",
        "outputId": "1b809d73-3e34-4af0-bca4-c9016a435734"
      },
      "execution_count": null,
      "outputs": [
        {
          "output_type": "error",
          "ename": "StopIteration",
          "evalue": "ignored",
          "traceback": [
            "\u001b[0;31m---------------------------------------------------------------------------\u001b[0m",
            "\u001b[0;31mStopIteration\u001b[0m                             Traceback (most recent call last)",
            "\u001b[0;32m<ipython-input-10-fc5873b42785>\u001b[0m in \u001b[0;36m<cell line: 3>\u001b[0;34m()\u001b[0m\n\u001b[1;32m      1\u001b[0m \u001b[0mg\u001b[0m \u001b[0;34m=\u001b[0m \u001b[0mgen\u001b[0m\u001b[0;34m(\u001b[0m\u001b[0;34m)\u001b[0m\u001b[0;34m\u001b[0m\u001b[0;34m\u001b[0m\u001b[0m\n\u001b[1;32m      2\u001b[0m \u001b[0mnext\u001b[0m\u001b[0;34m(\u001b[0m\u001b[0mg\u001b[0m\u001b[0;34m)\u001b[0m\u001b[0;34m\u001b[0m\u001b[0;34m\u001b[0m\u001b[0m\n\u001b[0;32m----> 3\u001b[0;31m \u001b[0mg\u001b[0m\u001b[0;34m.\u001b[0m\u001b[0mthrow\u001b[0m\u001b[0;34m(\u001b[0m\u001b[0mValueError\u001b[0m\u001b[0;34m,\u001b[0m \u001b[0;34m\"message of ValueError\"\u001b[0m\u001b[0;34m)\u001b[0m\u001b[0;34m\u001b[0m\u001b[0;34m\u001b[0m\u001b[0m\n\u001b[0m",
            "\u001b[0;31mStopIteration\u001b[0m: "
          ]
        }
      ]
    },
    {
      "cell_type": "markdown",
      "source": [
        "If you call `gen()` to create a generator object `g` and then call its `throw()` method with a `ValueError`, the generator catches the exception and then exits. When the generator exits, a `StopIteration` exception is raised to signal that the generator is finished."
      ],
      "metadata": {
        "id": "HPsKv-AnQ4p-"
      }
    },
    {
      "cell_type": "markdown",
      "source": [
        "4. If the generator catches the exception and raises another exception, \n",
        "\n",
        "  that new exception is passed back to the caller of the `throw()` method. \n",
        "  \n",
        "  For example:\n",
        "\n",
        "  *(agar generator `exception` catch karke `dusra_exception` raise karta hai, toh `dusra_exception` `return` hota hai `throw()` ko)*"
      ],
      "metadata": {
        "id": "yeza1KbLQ5qm"
      }
    },
    {
      "cell_type": "code",
      "source": [
        "def gen():\n",
        "    try:\n",
        "        while True:\n",
        "            x = yield\n",
        "    except ValueError:\n",
        "        raise TypeError(\"Got a ValueError, but raised a TypeError instead!\")"
      ],
      "metadata": {
        "id": "V2Xe2sNrQ95n"
      },
      "execution_count": null,
      "outputs": []
    },
    {
      "cell_type": "code",
      "source": [
        "g = gen()\n",
        "next(g)\n",
        "g.throw(ValueError, \"message of ValueError\")"
      ],
      "metadata": {
        "colab": {
          "base_uri": "https://localhost:8080/",
          "height": 399
        },
        "id": "3MMeZ14VRASg",
        "outputId": "59435f12-4493-48d8-9abc-bbdad8321c88"
      },
      "execution_count": null,
      "outputs": [
        {
          "output_type": "error",
          "ename": "TypeError",
          "evalue": "ignored",
          "traceback": [
            "\u001b[0;31m---------------------------------------------------------------------------\u001b[0m",
            "\u001b[0;31mValueError\u001b[0m                                Traceback (most recent call last)",
            "\u001b[0;32m<ipython-input-13-5a9de15d4bfd>\u001b[0m in \u001b[0;36mgen\u001b[0;34m()\u001b[0m\n\u001b[1;32m      3\u001b[0m         \u001b[0;32mwhile\u001b[0m \u001b[0;32mTrue\u001b[0m\u001b[0;34m:\u001b[0m\u001b[0;34m\u001b[0m\u001b[0;34m\u001b[0m\u001b[0m\n\u001b[0;32m----> 4\u001b[0;31m             \u001b[0mx\u001b[0m \u001b[0;34m=\u001b[0m \u001b[0;32myield\u001b[0m\u001b[0;34m\u001b[0m\u001b[0;34m\u001b[0m\u001b[0m\n\u001b[0m\u001b[1;32m      5\u001b[0m     \u001b[0;32mexcept\u001b[0m \u001b[0mValueError\u001b[0m\u001b[0;34m:\u001b[0m\u001b[0;34m\u001b[0m\u001b[0;34m\u001b[0m\u001b[0m\n",
            "\u001b[0;31mValueError\u001b[0m: message of ValueError",
            "\nDuring handling of the above exception, another exception occurred:\n",
            "\u001b[0;31mTypeError\u001b[0m                                 Traceback (most recent call last)",
            "\u001b[0;32m<ipython-input-14-fc5873b42785>\u001b[0m in \u001b[0;36m<cell line: 3>\u001b[0;34m()\u001b[0m\n\u001b[1;32m      1\u001b[0m \u001b[0mg\u001b[0m \u001b[0;34m=\u001b[0m \u001b[0mgen\u001b[0m\u001b[0;34m(\u001b[0m\u001b[0;34m)\u001b[0m\u001b[0;34m\u001b[0m\u001b[0;34m\u001b[0m\u001b[0m\n\u001b[1;32m      2\u001b[0m \u001b[0mnext\u001b[0m\u001b[0;34m(\u001b[0m\u001b[0mg\u001b[0m\u001b[0;34m)\u001b[0m\u001b[0;34m\u001b[0m\u001b[0;34m\u001b[0m\u001b[0m\n\u001b[0;32m----> 3\u001b[0;31m \u001b[0mg\u001b[0m\u001b[0;34m.\u001b[0m\u001b[0mthrow\u001b[0m\u001b[0;34m(\u001b[0m\u001b[0mValueError\u001b[0m\u001b[0;34m,\u001b[0m \u001b[0;34m\"message of ValueError\"\u001b[0m\u001b[0;34m)\u001b[0m\u001b[0;34m\u001b[0m\u001b[0;34m\u001b[0m\u001b[0m\n\u001b[0m",
            "\u001b[0;32m<ipython-input-13-5a9de15d4bfd>\u001b[0m in \u001b[0;36mgen\u001b[0;34m()\u001b[0m\n\u001b[1;32m      4\u001b[0m             \u001b[0mx\u001b[0m \u001b[0;34m=\u001b[0m \u001b[0;32myield\u001b[0m\u001b[0;34m\u001b[0m\u001b[0;34m\u001b[0m\u001b[0m\n\u001b[1;32m      5\u001b[0m     \u001b[0;32mexcept\u001b[0m \u001b[0mValueError\u001b[0m\u001b[0;34m:\u001b[0m\u001b[0;34m\u001b[0m\u001b[0;34m\u001b[0m\u001b[0m\n\u001b[0;32m----> 6\u001b[0;31m         \u001b[0;32mraise\u001b[0m \u001b[0mTypeError\u001b[0m\u001b[0;34m(\u001b[0m\u001b[0;34m\"Got a ValueError, but raised a TypeError instead!\"\u001b[0m\u001b[0;34m)\u001b[0m\u001b[0;34m\u001b[0m\u001b[0;34m\u001b[0m\u001b[0m\n\u001b[0m",
            "\u001b[0;31mTypeError\u001b[0m: Got a ValueError, but raised a TypeError instead!"
          ]
        }
      ]
    },
    {
      "cell_type": "markdown",
      "source": [
        "If you call `gen()` to create a generator object `g` and then call its `throw()` method with a `ValueError`, the generator catches the exception and then raises a `TypeError` with a message. The TypeError is then passed back to the caller of the `throw()` method."
      ],
      "metadata": {
        "id": "n_zT0Z6ERFvR"
      }
    },
    {
      "cell_type": "markdown",
      "source": [
        "### Writing our own exceptions\n",
        "\n",
        "\n",
        "```\n",
        "class CommitException(Exception):\n",
        "    pass\n",
        "\n",
        "class RollbackException(Exception):\n",
        "    pass\n",
        "```\n",
        "\n",
        "and we can `raise` these using `raise CommitException`. We can also use these with `except` in `try... except block`\n",
        "\n"
      ],
      "metadata": {
        "id": "6HpwoHiB4_zH"
      }
    },
    {
      "cell_type": "markdown",
      "source": [
        "### Note: throw() and close()\n",
        "\n",
        "The `close()` method does essentially the same thing as `throw(GeneratorExit)` except that when that exception is thrown using `throw()`, Python does not silence the exception for the caller"
      ],
      "metadata": {
        "id": "TzpYlhm_7FFr"
      }
    },
    {
      "cell_type": "markdown",
      "source": [
        "## 07 - Using Decorators to Prime Coroutines.ipynb\n",
        "\n",
        "Decorator must be able to get the generator in a suspended state.\n",
        "Essentially we want to be able to:\n",
        "1. create the coroutine (`gen()`)\n",
        "2. prime the coroutine (`next(g)`)\n"
      ],
      "metadata": {
        "id": "lVE9HiHn8pnV"
      }
    },
    {
      "cell_type": "code",
      "source": [
        "# creating decorator\n",
        "def coroutine_decorator(gen_fn):\n",
        "    def inner(*args, **kwargs):\n",
        "        gen = gen_fn(*args, **kwargs)     # Starting Generator\n",
        "        next(gen)                         # Priming generator\n",
        "        return gen\n",
        "    return inner"
      ],
      "metadata": {
        "id": "rfLAg70fARN6"
      },
      "execution_count": null,
      "outputs": []
    },
    {
      "cell_type": "code",
      "source": [
        "#Checking the working of decorator\n",
        "\n",
        "@coroutine_decorator\n",
        "def echo_gen():\n",
        "    while True:\n",
        "        received = yield\n",
        "        print(received)"
      ],
      "metadata": {
        "id": "EMbp2op0AVTv"
      },
      "execution_count": null,
      "outputs": []
    },
    {
      "cell_type": "code",
      "source": [
        "g = echo_gen()"
      ],
      "metadata": {
        "id": "0XbY1rhFAY1E"
      },
      "execution_count": null,
      "outputs": []
    },
    {
      "cell_type": "code",
      "source": [
        "import inspect\n",
        "inspect.getgeneratorstate(g)   # Verified! suspended state of decorator"
      ],
      "metadata": {
        "colab": {
          "base_uri": "https://localhost:8080/",
          "height": 35
        },
        "id": "iOy6ypsEA_rM",
        "outputId": "ef1b9f78-8d2e-45e9-8900-a7c2c5b7e12a"
      },
      "execution_count": null,
      "outputs": [
        {
          "output_type": "execute_result",
          "data": {
            "text/plain": [
              "'GEN_SUSPENDED'"
            ],
            "application/vnd.google.colaboratory.intrinsic+json": {
              "type": "string"
            }
          },
          "metadata": {},
          "execution_count": 4
        }
      ]
    },
    {
      "cell_type": "markdown",
      "source": [
        "## 08 - Yield From - Two-Way Communications.ipynb"
      ],
      "metadata": {
        "id": "O5ommdnJCzdI"
      }
    },
    {
      "cell_type": "code",
      "source": [
        "def squares(n):\n",
        "    for i in range(n):\n",
        "        yield i**2"
      ],
      "metadata": {
        "id": "4VbIaRWYz0lI"
      },
      "execution_count": null,
      "outputs": []
    },
    {
      "cell_type": "code",
      "source": [
        "def delegator():\n",
        "    yield from squares(5)\n",
        "    yield \"Done!\""
      ],
      "metadata": {
        "id": "WIZ9kgPoz3Dg"
      },
      "execution_count": null,
      "outputs": []
    },
    {
      "cell_type": "markdown",
      "source": [
        "Note: a subgenerator is a generator that is delegated to by another generator\n",
        "\n",
        "So, in above example, `squares(5)` is acting as subgenerator for `delegator` generator."
      ],
      "metadata": {
        "id": "3w7aRBc-z5rg"
      }
    },
    {
      "cell_type": "markdown",
      "source": [
        "## 09 - Yield From - Sending Data.ipynb\n",
        "\n",
        "Nothing important here"
      ],
      "metadata": {
        "id": "W_9O2jgP53Ea"
      }
    },
    {
      "cell_type": "markdown",
      "source": [
        "## 10 - Yield From - Closing and Return.ipynb"
      ],
      "metadata": {
        "id": "11UmBA6TE1DM"
      }
    },
    {
      "cell_type": "code",
      "source": [
        "def subgen():\n",
        "    try:\n",
        "        while True:\n",
        "            received = yield\n",
        "            print(received)\n",
        "    finally:\n",
        "        print('subgen: closing...')\n",
        "\n",
        "def delegator():\n",
        "    s = subgen()\n",
        "    yield from s\n",
        "    yield 'delegator: subgen closed'\n",
        "    print('delegator: closing...')"
      ],
      "metadata": {
        "id": "t7S22m_CFxkL"
      },
      "execution_count": null,
      "outputs": []
    },
    {
      "cell_type": "code",
      "source": [
        "d = delegator()\n",
        "next(d)"
      ],
      "metadata": {
        "id": "xCP49ZTtF5Kt"
      },
      "execution_count": null,
      "outputs": []
    },
    {
      "cell_type": "code",
      "source": [
        "from inspect import getgeneratorstate, getgeneratorlocals\n",
        "s = getgeneratorlocals(d)['s']                 # IMP: Get local items of generator outside the generator\n",
        "print(getgeneratorstate(d))\n",
        "print(getgeneratorstate(s))"
      ],
      "metadata": {
        "colab": {
          "base_uri": "https://localhost:8080/"
        },
        "id": "uHOXDbwbF8jR",
        "outputId": "9c9e70e3-1dee-4e28-988c-ff86b9cd3619"
      },
      "execution_count": null,
      "outputs": [
        {
          "output_type": "stream",
          "name": "stdout",
          "text": [
            "GEN_SUSPENDED\n",
            "GEN_SUSPENDED\n"
          ]
        }
      ]
    },
    {
      "cell_type": "code",
      "source": [
        "d.close()                     # closing delegator\n",
        "print(getgeneratorstate(d))\n",
        "print(getgeneratorstate(s))   # results in closed subgenerator also"
      ],
      "metadata": {
        "colab": {
          "base_uri": "https://localhost:8080/"
        },
        "id": "cC5ngguWGxc1",
        "outputId": "9905b266-5b19-4df9-88c2-4ea5c10d3a51"
      },
      "execution_count": null,
      "outputs": [
        {
          "output_type": "stream",
          "name": "stdout",
          "text": [
            "subgen: closing...\n",
            "GEN_CLOSED\n",
            "GEN_CLOSED\n"
          ]
        }
      ]
    },
    {
      "cell_type": "markdown",
      "source": [
        "Note: closing the delegator will close not only the delegator itself, but also close the currently active subgenerator (if any)."
      ],
      "metadata": {
        "id": "lttni_7bGWA8"
      }
    },
    {
      "cell_type": "markdown",
      "source": [
        "## 11 - Yield From - Throwing Exceptions"
      ],
      "metadata": {
        "id": "b9RFskfEHg0h"
      }
    },
    {
      "cell_type": "markdown",
      "source": [
        "difference between throw and close is that although close causes an exception to be raised in the generator, Python essentially silences it."
      ],
      "metadata": {
        "id": "sFp9zdyXHfku"
      }
    },
    {
      "cell_type": "markdown",
      "source": [
        "We can catch the exception in the delegator like shown below:\n",
        "\n",
        "```\n",
        "def delegator():\n",
        "    try:\n",
        "        yield from echo()\n",
        "    except ValueError:\n",
        "        print('got the value error')\n",
        "```\n"
      ],
      "metadata": {
        "id": "Z5LKV0WKIfFp"
      }
    },
    {
      "cell_type": "markdown",
      "source": [
        "## 12 - Pipelines - Pulling Data\n",
        "\n",
        "(Nothing important, just pull data using `with open(file) as f` in generators to pull data)"
      ],
      "metadata": {
        "id": "oqg7hDBgJKxE"
      }
    },
    {
      "cell_type": "markdown",
      "source": [
        "## 13 - Pipelines - Pushing Data.ipynb\n",
        "\n",
        "Pipeline of generators looks like below:\n",
        "```\n",
        "print_data = handle_data()\n",
        "filtered = filter_even(print_data)\n",
        "gen2 = power_up(3, filtered)\n",
        "gen1 = power_up(2, gen2)\n",
        "\n",
        "# pipeline: gen1 --> gen2 --> filtered --> print_data\n",
        "\n",
        "for i in range(1, 6):\n",
        "    gen1.send(i)\n",
        "```\n",
        "\n",
        "OUTPUT:\n",
        "```\n",
        "64.0\n",
        "4096.0\n",
        "```"
      ],
      "metadata": {
        "id": "4Sn2OhRsKVGi"
      }
    },
    {
      "cell_type": "markdown",
      "source": [
        "## 14 - Pipelines - Broadcasting\n",
        "\n",
        "Note: You can read the codes using below link. Those are quite good. Especially `pipeline_coro`\n",
        "\n",
        "LINK: https://github.com/fbaptiste/python-deepdive/blob/main/Part%202/Section%2012%20-%20Generator%20Based%20Coroutines/14%20-%20Pipelines%20-%20Broadcasting/Pipelines%20-%20Broadcasting.ipynb"
      ],
      "metadata": {
        "id": "VKf7UigSLL-G"
      }
    },
    {
      "cell_type": "markdown",
      "source": [
        "### Some imp text form .ipynb\n",
        "\n",
        "we're going to create a filter coroutine that will have the following parameters:\n",
        "\n",
        "* filter function (predicate)\n",
        "* next coroutine to send to in the pipeline\n",
        "\n",
        "That filter coroutine will receive a data row and test if the predicate applied to that data row is True. If it is, it will send the row to the next stage (target) of the pipeline, otherwise it just ignores the data row."
      ],
      "metadata": {
        "id": "oMnqJi3BL0E3"
      }
    },
    {
      "cell_type": "markdown",
      "source": [
        "### Broadcasting data\n",
        "\n",
        "```\n",
        "def broadcast(targets):\n",
        "    while True:\n",
        "        data_row = yield\n",
        "        for target in targets:\n",
        "            target.send(data_row)\n",
        "```\n",
        "\n",
        "Broadsting can be done like this.\n",
        "\n",
        "```\n",
        "     data                      \n",
        "      |                      |--> filter --> save\n",
        "      v                      |\n",
        "process_data --> broadcast --|--> filter --> save\n",
        "                             |\n",
        "                             |--> filter --> save\n",
        "\n",
        "```"
      ],
      "metadata": {
        "id": "ibdyddUyMGEA"
      }
    },
    {
      "cell_type": "markdown",
      "source": [
        "# Section 13 - Project 6\n",
        "\n",
        "\n",
        "## Project 6 - Description\n",
        "\n",
        "The goal of this project is to rewrite the pull pipeline we created in the **Application - Pipelines - Pulling** video in the **Generators as Coroutines** section.\n",
        "\n",
        "You should look at the techniques we used in the **Application - Pipelines - Broadcasting** video and apply them here.\n",
        "\n",
        "The goal is to write a pipeline that will push data from the source file, `cars.csv`, and push it through some filters and a save coroutine to ultimately save the results as a csv file.\n",
        "\n",
        "Try to make your code as generic as possible, and don't worry about column headers in the output file (unless you really want to!).\n",
        "\n",
        "When you are done with your solution you should be able to specify an arbitrary number of filters on the name field.\n",
        "\n",
        "If you specify `Chevrolet`, `Carlo` and `Landau` for three filters, your output file should contain two lines of data only:\n",
        "\n",
        "```\n",
        "Chevrolet Monte Carlo Landau,15.5,8,350.0,170.0,4165.,11.4,77,US\n",
        "Chevrolet Monte Carlo Landau,19.2,8,305.0,145.0,3425.,13.2,78,US\n",
        "```\n",
        "\n",
        "Good luck!!\n",
        "\n",
        "\n",
        "## In short, BYME:\n",
        "\n",
        "* cars.csv ---> processing(generators and coroutines) ---> filtered_cars.csv\n",
        "\n",
        "* Try to make your code as generic as possible\n",
        "\n",
        "* you should be able to specify an arbitrary number of filters on the name field\n",
        "\n",
        "  Eg. You can specify `Chevrolet`, `Carlo` and `Landau` for three filters"
      ],
      "metadata": {
        "id": "FPKvTxS3Ne2y"
      }
    },
    {
      "cell_type": "code",
      "source": [
        "# download file from url link\n",
        "import requests\n",
        "def make_file(file_name, url):\n",
        "  with open(file_name, \"wb\") as f:\n",
        "    f.write(requests.get(url).content)\n",
        "\n",
        "cars_csv_url = \"https://raw.githubusercontent.com/fbaptiste/python-deepdive/main/Part%202/Section%2013%20-%20Project%206/01%20-%20Project%20Description/cars.csv\"\n",
        "make_file( file_name = \"cars.csv\", url = cars_csv_url)"
      ],
      "metadata": {
        "id": "RzuaVV70Kb5B"
      },
      "execution_count": 89,
      "outputs": []
    },
    {
      "cell_type": "code",
      "source": [
        "# parsing list of elements in row (NOT WORKING DELIMITER ERROR)\n",
        "\n",
        "import csv\n",
        "\n",
        "def parse_file(f_name, size_for_sniff_Bytes = 2000):\n",
        "    print('opening file...')\n",
        "    f = open(f_name, 'r')\n",
        "    try:\n",
        "        dialect = csv.Sniffer().sniff(f.read(size_for_sniff_Bytes))    # sniff just determines the format of csv file and 2000 means 2000Bytes (dialect means उपभाषा)\n",
        "        f.seek(0)                                      # set file pointer f to 0 (first element)\n",
        "        next(f)                                        # skip header row\n",
        "        reader = csv.reader(f, dialect=dialect)\n",
        "        for row in reader:\n",
        "            yield row\n",
        "    except Exception as ex:\n",
        "        print('some exception occurred', str(ex))\n",
        "    except GeneratorExit:\n",
        "        print('GeneratorExit Exception Occured! \\t Generator was closed!')\n",
        "    finally:\n",
        "        print('cleaning up...')\n",
        "        f.close()\n",
        "\n",
        "cars_parsed_row_gen = parse_file(\"cars.csv\")"
      ],
      "metadata": {
        "id": "BCRnoG8PMEHY"
      },
      "execution_count": 90,
      "outputs": []
    },
    {
      "cell_type": "code",
      "source": [
        "# Printing to see if elements works fine\n",
        "import itertools\n",
        "parse_file_Obj = parse_file('cars.csv')\n",
        "for row in itertools.islice(parse_file_Obj, 5):\n",
        "    print(row)"
      ],
      "metadata": {
        "colab": {
          "base_uri": "https://localhost:8080/"
        },
        "id": "tlJLVlG5Mz_s",
        "outputId": "02670a4b-21d8-4a96-e28b-6b36943f47ec"
      },
      "execution_count": 91,
      "outputs": [
        {
          "output_type": "stream",
          "name": "stdout",
          "text": [
            "opening file...\n",
            "['Chevrolet Chevelle Malibu', '18.0', '8', '307.0', '130.0', '3504.', '12.0', '70', 'US']\n",
            "['Buick Skylark 320', '15.0', '8', '350.0', '165.0', '3693.', '11.5', '70', 'US']\n",
            "['Plymouth Satellite', '18.0', '8', '318.0', '150.0', '3436.', '11.0', '70', 'US']\n",
            "['AMC Rebel SST', '16.0', '8', '304.0', '150.0', '3433.', '12.0', '70', 'US']\n",
            "['Ford Torino', '17.0', '8', '302.0', '140.0', '3449.', '10.5', '70', 'US']\n",
            "GeneratorExit Exception Occured! \t Generator was closed!\n",
            "cleaning up...\n"
          ]
        }
      ]
    },
    {
      "cell_type": "code",
      "source": [
        "# filter funtion: return only rows that contains all the list elements passed list element from the list\n",
        "def filter_fn(must_be_present_list):\n",
        "  with open(\"filtered_cars.csv\", \"w\") as f:\n",
        "    for row in cars_parsed_row_gen:\n",
        "      if all(element in row[0].split(\" \") for element in must_be_present_list):\n",
        "        f.write(str(row)[1:-1].replace(\"'\", \"\")+\"\\n\")   #List to string Parser"
      ],
      "metadata": {
        "id": "sP2SV8dgLXIk"
      },
      "execution_count": 68,
      "outputs": []
    },
    {
      "cell_type": "code",
      "source": [
        "filter_fn([\"Chevrolet\", \"Carlo\", \"Landau\"])\n",
        "\n",
        "# checking elements in filtered file\n",
        "# Printing to see if elements works fine\n",
        "with open(\"filtered_cars.csv\", \"r\") as f:\n",
        "  lines = f.readlines()\n",
        "  for line in lines:\n",
        "    print(line, end=\"\")"
      ],
      "metadata": {
        "colab": {
          "base_uri": "https://localhost:8080/"
        },
        "id": "MeECcoUKRcpZ",
        "outputId": "03a169fa-6d50-4d7b-e43f-43eac35f3979"
      },
      "execution_count": 69,
      "outputs": [
        {
          "output_type": "stream",
          "name": "stdout",
          "text": [
            "opening file...\n",
            "cleaning up...\n",
            "Chevrolet Monte Carlo Landau, 15.5, 8, 350.0, 170.0, 4165., 11.4, 77, US\n",
            "Chevrolet Monte Carlo Landau, 19.2, 8, 305.0, 145.0, 3425., 13.2, 78, US\n"
          ]
        }
      ]
    },
    {
      "cell_type": "markdown",
      "source": [
        "**OUTPUT GOOD ! PROJECT COMPLETED !**"
      ],
      "metadata": {
        "id": "gInrMZujUtse"
      }
    },
    {
      "cell_type": "markdown",
      "source": [
        "## Try 2 (using send and yield)"
      ],
      "metadata": {
        "id": "eEgpPAO7_CwN"
      }
    },
    {
      "cell_type": "code",
      "source": [
        "cars_parsed_row_gen = parse_file(\"cars.csv\")  # redefining gen since it empties itself after every run"
      ],
      "metadata": {
        "id": "PxDPgH__Goen"
      },
      "execution_count": 96,
      "outputs": []
    },
    {
      "cell_type": "code",
      "source": [
        "# Writer fn\n",
        "def writer_gen(file_name):\n",
        "  with open(file_name, \"w\") as f:\n",
        "    while True:\n",
        "      row = yield        # GETS LIST\n",
        "      f.write(row)"
      ],
      "metadata": {
        "id": "YAIteXAV-vCd"
      },
      "execution_count": 97,
      "outputs": []
    },
    {
      "cell_type": "code",
      "source": [
        "# filter funtion: return only rows that contains all the list elements passed list element from the list\n",
        "def filter_fn_2(must_be_present_list):\n",
        "  w = writer_gen(\"filtered_cars_2.csv\")   # starting gen\n",
        "  next(w)                                 # priming gen\n",
        "  for row in cars_parsed_row_gen:\n",
        "    if all(element in row[0].split(\" \") for element in must_be_present_list):  # checking if name element in row contains all elements of must_be_present_list\n",
        "      w.send(str(row)[1:-1].replace(\"'\", \"\")+\"\\n\")                             # List to string Parsing logic "
      ],
      "metadata": {
        "id": "S4C1YOqSToQQ"
      },
      "execution_count": 98,
      "outputs": []
    },
    {
      "cell_type": "code",
      "source": [
        "filter_fn_2([\"Chevrolet\", \"Carlo\", \"Landau\"])\n",
        "\n",
        "# checking elements in filtered file\n",
        "# Printing to see if elements works fine\n",
        "with open(\"filtered_cars_2.csv\", \"r\") as f:\n",
        "  lines = f.readlines()\n",
        "  for line in lines:\n",
        "    print(line, end=\"\")"
      ],
      "metadata": {
        "colab": {
          "base_uri": "https://localhost:8080/"
        },
        "id": "3uVoYn_h_eq1",
        "outputId": "52ed7648-ecf9-4b96-a8d3-da3bc76ee9e0"
      },
      "execution_count": 99,
      "outputs": [
        {
          "output_type": "stream",
          "name": "stdout",
          "text": [
            "opening file...\n",
            "cleaning up...\n",
            "Chevrolet Monte Carlo Landau, 15.5, 8, 350.0, 170.0, 4165., 11.4, 77, US\n",
            "Chevrolet Monte Carlo Landau, 19.2, 8, 305.0, 145.0, 3425., 13.2, 78, US\n"
          ]
        }
      ]
    },
    {
      "cell_type": "markdown",
      "source": [
        "**OUTPUT GOOD ! PROJECT COMPLETED !**"
      ],
      "metadata": {
        "id": "uiYRPeJeAeEh"
      }
    },
    {
      "cell_type": "markdown",
      "source": [
        "## Try 3: Using coroutine decorators"
      ],
      "metadata": {
        "id": "QO_xOC6xAhH2"
      }
    },
    {
      "cell_type": "code",
      "source": [
        "cars_parsed_row_gen = parse_file(\"cars.csv\")  # redefining gen since it empties itself after every run"
      ],
      "metadata": {
        "id": "XSK-TC2DG5dM"
      },
      "execution_count": 100,
      "outputs": []
    },
    {
      "cell_type": "markdown",
      "source": [
        "By using decorator we are basically replicating:\n",
        "```\n",
        "@decorator\n",
        "def fn(*args, **kwargs):\n",
        "...\n",
        "...\n",
        "```\n",
        "above represents same as `decorator(fn(*args, **kwargs))`"
      ],
      "metadata": {
        "id": "sGlEI1pUC6xp"
      }
    },
    {
      "cell_type": "code",
      "source": [
        "def coroutine_decorator(decorated_fn):\n",
        "  def inner_temp_fn(*args, **kwargs):\n",
        "    temp_obj = decorated_fn(*args, **kwargs)   # creating dec\n",
        "    next(temp_obj)                             # priming dec\n",
        "    return temp_obj\n",
        "  return inner_temp_fn"
      ],
      "metadata": {
        "id": "Eu1ioSsNCdgE"
      },
      "execution_count": 101,
      "outputs": []
    },
    {
      "cell_type": "code",
      "source": [
        "# Writer fn\n",
        "\n",
        "@coroutine_decorator\n",
        "def writer_gen_3(file_name):\n",
        "  with open(file_name, \"w\") as f:\n",
        "    while True:\n",
        "      row = yield        # GETS LIST\n",
        "      f.write(row)"
      ],
      "metadata": {
        "id": "ilJwjzb7CWii"
      },
      "execution_count": 102,
      "outputs": []
    },
    {
      "cell_type": "code",
      "source": [
        "# filter funtion: return only rows that contains all the list elements passed list element from the list\n",
        "def filter_fn_3(must_be_present_list):\n",
        "  w = writer_gen_3(\"filtered_cars_3.csv\")   # starting gen\n",
        "  for row in cars_parsed_row_gen:\n",
        "    if all(element in row[0].split(\" \") for element in must_be_present_list):  # checking if name element in row contains all elements of must_be_present_list\n",
        "      w.send(str(row)[1:-1].replace(\"'\", \"\")+\"\\n\")                             # List to string Parsing logic "
      ],
      "metadata": {
        "id": "FEjhcKm-CYan"
      },
      "execution_count": 103,
      "outputs": []
    },
    {
      "cell_type": "code",
      "source": [
        "filter_fn_3([\"Chevrolet\", \"Carlo\", \"Landau\"])\n",
        "\n",
        "# checking elements in filtered file\n",
        "# Printing to see if elements works fine\n",
        "with open(\"filtered_cars_3.csv\", \"r\") as f:\n",
        "  lines = f.readlines()\n",
        "  for line in lines:\n",
        "    print(line, end=\"\")"
      ],
      "metadata": {
        "colab": {
          "base_uri": "https://localhost:8080/"
        },
        "id": "cvK50MFMCaAO",
        "outputId": "9df1658e-e384-4320-9a7c-2ab87b4948ff"
      },
      "execution_count": 104,
      "outputs": [
        {
          "output_type": "stream",
          "name": "stdout",
          "text": [
            "opening file...\n",
            "cleaning up...\n",
            "Chevrolet Monte Carlo Landau, 15.5, 8, 350.0, 170.0, 4165., 11.4, 77, US\n",
            "Chevrolet Monte Carlo Landau, 19.2, 8, 305.0, 145.0, 3425., 13.2, 78, US\n"
          ]
        }
      ]
    },
    {
      "cell_type": "markdown",
      "source": [
        "**OUTPUT GOOD ! PROJECT COMPLETED !**"
      ],
      "metadata": {
        "id": "gH-RqEPxHB7z"
      }
    },
    {
      "cell_type": "markdown",
      "source": [
        "# Section 14 - Python Updates"
      ],
      "metadata": {
        "id": "8tA0TMJIH9Gp"
      }
    },
    {
      "cell_type": "code",
      "source": [
        "!python --version"
      ],
      "metadata": {
        "colab": {
          "base_uri": "https://localhost:8080/"
        },
        "id": "ZzQ-S1ZxJOTj",
        "outputId": "19f12a11-422d-48b3-b162-3c3ebf2ee3bb"
      },
      "execution_count": 124,
      "outputs": [
        {
          "output_type": "stream",
          "name": "stdout",
          "text": [
            "Python 3.9.16\n"
          ]
        }
      ]
    },
    {
      "cell_type": "code",
      "source": [
        "!apt-get update"
      ],
      "metadata": {
        "colab": {
          "base_uri": "https://localhost:8080/"
        },
        "id": "BqqIXL7NKJPg",
        "outputId": "15b45bf9-f033-4d7b-f314-3f1375a8b14a"
      },
      "execution_count": 117,
      "outputs": [
        {
          "output_type": "stream",
          "name": "stdout",
          "text": [
            "\r0% [Working]\r            \rHit:1 https://cloud.r-project.org/bin/linux/ubuntu focal-cran40/ InRelease\n",
            "\r0% [Connecting to archive.ubuntu.com (185.125.190.36)] [Connecting to security.\r                                                                               \rHit:2 http://security.ubuntu.com/ubuntu focal-security InRelease\n",
            "Hit:3 https://developer.download.nvidia.com/compute/cuda/repos/ubuntu2004/x86_64  InRelease\n",
            "Hit:4 http://archive.ubuntu.com/ubuntu focal InRelease\n",
            "Hit:5 http://ppa.launchpad.net/c2d4u.team/c2d4u4.0+/ubuntu focal InRelease\n",
            "Hit:6 http://archive.ubuntu.com/ubuntu focal-updates InRelease\n",
            "Hit:7 http://archive.ubuntu.com/ubuntu focal-backports InRelease\n",
            "Hit:8 http://ppa.launchpad.net/cran/libgit2/ubuntu focal InRelease\n",
            "Hit:9 http://ppa.launchpad.net/deadsnakes/ppa/ubuntu focal InRelease\n",
            "Hit:10 http://ppa.launchpad.net/graphics-drivers/ppa/ubuntu focal InRelease\n",
            "Hit:11 http://ppa.launchpad.net/ubuntugis/ppa/ubuntu focal InRelease\n",
            "Reading package lists... Done\n"
          ]
        }
      ]
    },
    {
      "cell_type": "code",
      "source": [
        "! apt-get full-upgrade -y"
      ],
      "metadata": {
        "colab": {
          "base_uri": "https://localhost:8080/"
        },
        "id": "Lf_Y0D9ZKPRt",
        "outputId": "b813884f-c083-4d24-c9b6-a5ecad1f1daa"
      },
      "execution_count": 119,
      "outputs": [
        {
          "output_type": "stream",
          "name": "stdout",
          "text": [
            "Reading package lists... Done\n",
            "Building dependency tree       \n",
            "Reading state information... Done\n",
            "Calculating upgrade... Done\n",
            "The following packages have been kept back:\n",
            "  libcudnn8 libcudnn8-dev libnccl-dev libnccl2\n",
            "0 upgraded, 0 newly installed, 0 to remove and 4 not upgraded.\n"
          ]
        }
      ]
    },
    {
      "cell_type": "code",
      "source": [
        "!apt-get install python3.11 -y"
      ],
      "metadata": {
        "colab": {
          "base_uri": "https://localhost:8080/"
        },
        "id": "XAT8gFwULwS_",
        "outputId": "53ed0649-61ff-4fed-ca60-5e99f1be4539"
      },
      "execution_count": 122,
      "outputs": [
        {
          "output_type": "stream",
          "name": "stdout",
          "text": [
            "Reading package lists... Done\n",
            "Building dependency tree       \n",
            "Reading state information... Done\n",
            "python3.11 is already the newest version (3.11.3-1+focal1).\n",
            "0 upgraded, 0 newly installed, 0 to remove and 4 not upgraded.\n"
          ]
        }
      ]
    },
    {
      "cell_type": "markdown",
      "source": [
        "## 01 - Relevant Python 3.10 Changes.ipynb"
      ],
      "metadata": {
        "id": "mhIwPzUIIL7U"
      }
    },
    {
      "cell_type": "markdown",
      "source": [
        "### match - case\n",
        "(acts just like switch case in c, with `_` as default case)"
      ],
      "metadata": {
        "id": "7Frc8LheIUXU"
      }
    },
    {
      "cell_type": "code",
      "source": [
        "def response_of_match_case(language):\n",
        "    match language:\n",
        "        case \"Java\":\n",
        "            return \"Hmm, coffee!\"\n",
        "        case \"Python\":\n",
        "            return \"I'm not scared of snakes!\"\n",
        "        case _:\n",
        "            return \"default case\""
      ],
      "metadata": {
        "colab": {
          "base_uri": "https://localhost:8080/",
          "height": 132
        },
        "id": "bUGtkcVWE9z5",
        "outputId": "4304f625-5eec-446d-f4d3-d6568c9bf75c"
      },
      "execution_count": 123,
      "outputs": [
        {
          "output_type": "error",
          "ename": "SyntaxError",
          "evalue": "ignored",
          "traceback": [
            "\u001b[0;36m  File \u001b[0;32m\"<ipython-input-123-e9cb76c1517e>\"\u001b[0;36m, line \u001b[0;32m2\u001b[0m\n\u001b[0;31m    match language:\u001b[0m\n\u001b[0m          ^\u001b[0m\n\u001b[0;31mSyntaxError\u001b[0m\u001b[0;31m:\u001b[0m invalid syntax\n"
          ]
        }
      ]
    },
    {
      "cell_type": "code",
      "source": [
        "response_of_match_case(\"Python\")"
      ],
      "metadata": {
        "colab": {
          "base_uri": "https://localhost:8080/",
          "height": 167
        },
        "id": "R6viwHHsI267",
        "outputId": "527d4404-0cc4-4266-fb60-97f8a1577b9c"
      },
      "execution_count": 106,
      "outputs": [
        {
          "output_type": "error",
          "ename": "NameError",
          "evalue": "ignored",
          "traceback": [
            "\u001b[0;31m---------------------------------------------------------------------------\u001b[0m",
            "\u001b[0;31mNameError\u001b[0m                                 Traceback (most recent call last)",
            "\u001b[0;32m<ipython-input-106-a4ec608d7b37>\u001b[0m in \u001b[0;36m<cell line: 1>\u001b[0;34m()\u001b[0m\n\u001b[0;32m----> 1\u001b[0;31m \u001b[0mrespond\u001b[0m\u001b[0;34m(\u001b[0m\u001b[0;34m\"Python\"\u001b[0m\u001b[0;34m)\u001b[0m\u001b[0;34m\u001b[0m\u001b[0;34m\u001b[0m\u001b[0m\n\u001b[0m",
            "\u001b[0;31mNameError\u001b[0m: name 'respond' is not defined"
          ]
        }
      ]
    },
    {
      "cell_type": "code",
      "source": [
        "response_of_match_case(\"akdakjsfnn\")       # check default case"
      ],
      "metadata": {
        "colab": {
          "base_uri": "https://localhost:8080/",
          "height": 167
        },
        "id": "YpSgo93SI8IQ",
        "outputId": "5433ab01-2356-4823-b246-d6b45353fa9e"
      },
      "execution_count": 107,
      "outputs": [
        {
          "output_type": "error",
          "ename": "NameError",
          "evalue": "ignored",
          "traceback": [
            "\u001b[0;31m---------------------------------------------------------------------------\u001b[0m",
            "\u001b[0;31mNameError\u001b[0m                                 Traceback (most recent call last)",
            "\u001b[0;32m<ipython-input-107-9ae436b97ef0>\u001b[0m in \u001b[0;36m<cell line: 1>\u001b[0;34m()\u001b[0m\n\u001b[0;32m----> 1\u001b[0;31m \u001b[0mrespond\u001b[0m\u001b[0;34m(\u001b[0m\u001b[0;34m\"akdakjsfnn\"\u001b[0m\u001b[0;34m)\u001b[0m\u001b[0;34m\u001b[0m\u001b[0;34m\u001b[0m\u001b[0m\n\u001b[0m",
            "\u001b[0;31mNameError\u001b[0m: name 'respond' is not defined"
          ]
        }
      ]
    },
    {
      "cell_type": "markdown",
      "source": [
        "Since, Colab still runs on `Python 3.9.16` and is unable to upgrade,\n",
        "so, i cannot try these.\n",
        "\n",
        "Just read using below link for updates:\n",
        "https://github.com/fbaptiste/python-deepdive/tree/main/Part%202/Section%2014%20-%20Python%20Updates"
      ],
      "metadata": {
        "id": "4ipNT0RqMIPp"
      }
    }
  ]
}